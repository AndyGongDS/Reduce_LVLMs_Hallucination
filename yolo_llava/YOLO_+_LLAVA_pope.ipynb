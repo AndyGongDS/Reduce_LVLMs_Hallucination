{
  "nbformat": 4,
  "nbformat_minor": 0,
  "metadata": {
    "colab": {
      "provenance": [],
      "gpuType": "T4"
    },
    "kernelspec": {
      "name": "python3",
      "display_name": "Python 3"
    },
    "language_info": {
      "name": "python"
    },
    "accelerator": "GPU",
    "widgets": {
      "application/vnd.jupyter.widget-state+json": {
        "1c1f216ff3224622b12c84348a4d085c": {
          "model_module": "@jupyter-widgets/controls",
          "model_name": "HBoxModel",
          "model_module_version": "1.5.0",
          "state": {
            "_dom_classes": [],
            "_model_module": "@jupyter-widgets/controls",
            "_model_module_version": "1.5.0",
            "_model_name": "HBoxModel",
            "_view_count": null,
            "_view_module": "@jupyter-widgets/controls",
            "_view_module_version": "1.5.0",
            "_view_name": "HBoxView",
            "box_style": "",
            "children": [
              "IPY_MODEL_9c78764a7ce3458b9a0456998097beb2",
              "IPY_MODEL_40a9ff0886b24cd2aa752ad59d723d27",
              "IPY_MODEL_e3d4c7d7ffaa4fd48b3ea46ed2c73047"
            ],
            "layout": "IPY_MODEL_7c1621010cca43a59c8e1a7b1a0d6ee0"
          }
        },
        "9c78764a7ce3458b9a0456998097beb2": {
          "model_module": "@jupyter-widgets/controls",
          "model_name": "HTMLModel",
          "model_module_version": "1.5.0",
          "state": {
            "_dom_classes": [],
            "_model_module": "@jupyter-widgets/controls",
            "_model_module_version": "1.5.0",
            "_model_name": "HTMLModel",
            "_view_count": null,
            "_view_module": "@jupyter-widgets/controls",
            "_view_module_version": "1.5.0",
            "_view_name": "HTMLView",
            "description": "",
            "description_tooltip": null,
            "layout": "IPY_MODEL_c98eb01dcba7482d9f74d7e28ce1b477",
            "placeholder": "​",
            "style": "IPY_MODEL_05392ccdc0194578abea37a8d1334a30",
            "value": "processor_config.json: 100%"
          }
        },
        "40a9ff0886b24cd2aa752ad59d723d27": {
          "model_module": "@jupyter-widgets/controls",
          "model_name": "FloatProgressModel",
          "model_module_version": "1.5.0",
          "state": {
            "_dom_classes": [],
            "_model_module": "@jupyter-widgets/controls",
            "_model_module_version": "1.5.0",
            "_model_name": "FloatProgressModel",
            "_view_count": null,
            "_view_module": "@jupyter-widgets/controls",
            "_view_module_version": "1.5.0",
            "_view_name": "ProgressView",
            "bar_style": "success",
            "description": "",
            "description_tooltip": null,
            "layout": "IPY_MODEL_5c950b7b60f84019940db9a2d5997058",
            "max": 173,
            "min": 0,
            "orientation": "horizontal",
            "style": "IPY_MODEL_353d7d34a03244989b972d6a9a9bdd8a",
            "value": 173
          }
        },
        "e3d4c7d7ffaa4fd48b3ea46ed2c73047": {
          "model_module": "@jupyter-widgets/controls",
          "model_name": "HTMLModel",
          "model_module_version": "1.5.0",
          "state": {
            "_dom_classes": [],
            "_model_module": "@jupyter-widgets/controls",
            "_model_module_version": "1.5.0",
            "_model_name": "HTMLModel",
            "_view_count": null,
            "_view_module": "@jupyter-widgets/controls",
            "_view_module_version": "1.5.0",
            "_view_name": "HTMLView",
            "description": "",
            "description_tooltip": null,
            "layout": "IPY_MODEL_581b888a79a64a11976926ce03cb16d8",
            "placeholder": "​",
            "style": "IPY_MODEL_03ec2c22f0af4bb9a67df108bc94b1b8",
            "value": " 173/173 [00:00&lt;00:00, 8.48kB/s]"
          }
        },
        "7c1621010cca43a59c8e1a7b1a0d6ee0": {
          "model_module": "@jupyter-widgets/base",
          "model_name": "LayoutModel",
          "model_module_version": "1.2.0",
          "state": {
            "_model_module": "@jupyter-widgets/base",
            "_model_module_version": "1.2.0",
            "_model_name": "LayoutModel",
            "_view_count": null,
            "_view_module": "@jupyter-widgets/base",
            "_view_module_version": "1.2.0",
            "_view_name": "LayoutView",
            "align_content": null,
            "align_items": null,
            "align_self": null,
            "border": null,
            "bottom": null,
            "display": null,
            "flex": null,
            "flex_flow": null,
            "grid_area": null,
            "grid_auto_columns": null,
            "grid_auto_flow": null,
            "grid_auto_rows": null,
            "grid_column": null,
            "grid_gap": null,
            "grid_row": null,
            "grid_template_areas": null,
            "grid_template_columns": null,
            "grid_template_rows": null,
            "height": null,
            "justify_content": null,
            "justify_items": null,
            "left": null,
            "margin": null,
            "max_height": null,
            "max_width": null,
            "min_height": null,
            "min_width": null,
            "object_fit": null,
            "object_position": null,
            "order": null,
            "overflow": null,
            "overflow_x": null,
            "overflow_y": null,
            "padding": null,
            "right": null,
            "top": null,
            "visibility": null,
            "width": null
          }
        },
        "c98eb01dcba7482d9f74d7e28ce1b477": {
          "model_module": "@jupyter-widgets/base",
          "model_name": "LayoutModel",
          "model_module_version": "1.2.0",
          "state": {
            "_model_module": "@jupyter-widgets/base",
            "_model_module_version": "1.2.0",
            "_model_name": "LayoutModel",
            "_view_count": null,
            "_view_module": "@jupyter-widgets/base",
            "_view_module_version": "1.2.0",
            "_view_name": "LayoutView",
            "align_content": null,
            "align_items": null,
            "align_self": null,
            "border": null,
            "bottom": null,
            "display": null,
            "flex": null,
            "flex_flow": null,
            "grid_area": null,
            "grid_auto_columns": null,
            "grid_auto_flow": null,
            "grid_auto_rows": null,
            "grid_column": null,
            "grid_gap": null,
            "grid_row": null,
            "grid_template_areas": null,
            "grid_template_columns": null,
            "grid_template_rows": null,
            "height": null,
            "justify_content": null,
            "justify_items": null,
            "left": null,
            "margin": null,
            "max_height": null,
            "max_width": null,
            "min_height": null,
            "min_width": null,
            "object_fit": null,
            "object_position": null,
            "order": null,
            "overflow": null,
            "overflow_x": null,
            "overflow_y": null,
            "padding": null,
            "right": null,
            "top": null,
            "visibility": null,
            "width": null
          }
        },
        "05392ccdc0194578abea37a8d1334a30": {
          "model_module": "@jupyter-widgets/controls",
          "model_name": "DescriptionStyleModel",
          "model_module_version": "1.5.0",
          "state": {
            "_model_module": "@jupyter-widgets/controls",
            "_model_module_version": "1.5.0",
            "_model_name": "DescriptionStyleModel",
            "_view_count": null,
            "_view_module": "@jupyter-widgets/base",
            "_view_module_version": "1.2.0",
            "_view_name": "StyleView",
            "description_width": ""
          }
        },
        "5c950b7b60f84019940db9a2d5997058": {
          "model_module": "@jupyter-widgets/base",
          "model_name": "LayoutModel",
          "model_module_version": "1.2.0",
          "state": {
            "_model_module": "@jupyter-widgets/base",
            "_model_module_version": "1.2.0",
            "_model_name": "LayoutModel",
            "_view_count": null,
            "_view_module": "@jupyter-widgets/base",
            "_view_module_version": "1.2.0",
            "_view_name": "LayoutView",
            "align_content": null,
            "align_items": null,
            "align_self": null,
            "border": null,
            "bottom": null,
            "display": null,
            "flex": null,
            "flex_flow": null,
            "grid_area": null,
            "grid_auto_columns": null,
            "grid_auto_flow": null,
            "grid_auto_rows": null,
            "grid_column": null,
            "grid_gap": null,
            "grid_row": null,
            "grid_template_areas": null,
            "grid_template_columns": null,
            "grid_template_rows": null,
            "height": null,
            "justify_content": null,
            "justify_items": null,
            "left": null,
            "margin": null,
            "max_height": null,
            "max_width": null,
            "min_height": null,
            "min_width": null,
            "object_fit": null,
            "object_position": null,
            "order": null,
            "overflow": null,
            "overflow_x": null,
            "overflow_y": null,
            "padding": null,
            "right": null,
            "top": null,
            "visibility": null,
            "width": null
          }
        },
        "353d7d34a03244989b972d6a9a9bdd8a": {
          "model_module": "@jupyter-widgets/controls",
          "model_name": "ProgressStyleModel",
          "model_module_version": "1.5.0",
          "state": {
            "_model_module": "@jupyter-widgets/controls",
            "_model_module_version": "1.5.0",
            "_model_name": "ProgressStyleModel",
            "_view_count": null,
            "_view_module": "@jupyter-widgets/base",
            "_view_module_version": "1.2.0",
            "_view_name": "StyleView",
            "bar_color": null,
            "description_width": ""
          }
        },
        "581b888a79a64a11976926ce03cb16d8": {
          "model_module": "@jupyter-widgets/base",
          "model_name": "LayoutModel",
          "model_module_version": "1.2.0",
          "state": {
            "_model_module": "@jupyter-widgets/base",
            "_model_module_version": "1.2.0",
            "_model_name": "LayoutModel",
            "_view_count": null,
            "_view_module": "@jupyter-widgets/base",
            "_view_module_version": "1.2.0",
            "_view_name": "LayoutView",
            "align_content": null,
            "align_items": null,
            "align_self": null,
            "border": null,
            "bottom": null,
            "display": null,
            "flex": null,
            "flex_flow": null,
            "grid_area": null,
            "grid_auto_columns": null,
            "grid_auto_flow": null,
            "grid_auto_rows": null,
            "grid_column": null,
            "grid_gap": null,
            "grid_row": null,
            "grid_template_areas": null,
            "grid_template_columns": null,
            "grid_template_rows": null,
            "height": null,
            "justify_content": null,
            "justify_items": null,
            "left": null,
            "margin": null,
            "max_height": null,
            "max_width": null,
            "min_height": null,
            "min_width": null,
            "object_fit": null,
            "object_position": null,
            "order": null,
            "overflow": null,
            "overflow_x": null,
            "overflow_y": null,
            "padding": null,
            "right": null,
            "top": null,
            "visibility": null,
            "width": null
          }
        },
        "03ec2c22f0af4bb9a67df108bc94b1b8": {
          "model_module": "@jupyter-widgets/controls",
          "model_name": "DescriptionStyleModel",
          "model_module_version": "1.5.0",
          "state": {
            "_model_module": "@jupyter-widgets/controls",
            "_model_module_version": "1.5.0",
            "_model_name": "DescriptionStyleModel",
            "_view_count": null,
            "_view_module": "@jupyter-widgets/base",
            "_view_module_version": "1.2.0",
            "_view_name": "StyleView",
            "description_width": ""
          }
        },
        "1965f25dfac54ce4aca63e695e108e4a": {
          "model_module": "@jupyter-widgets/controls",
          "model_name": "HBoxModel",
          "model_module_version": "1.5.0",
          "state": {
            "_dom_classes": [],
            "_model_module": "@jupyter-widgets/controls",
            "_model_module_version": "1.5.0",
            "_model_name": "HBoxModel",
            "_view_count": null,
            "_view_module": "@jupyter-widgets/controls",
            "_view_module_version": "1.5.0",
            "_view_name": "HBoxView",
            "box_style": "",
            "children": [
              "IPY_MODEL_a250fa808d5a4a82ba4e1e972ca3defa",
              "IPY_MODEL_ce6cd8baa03949958c2d670eab25013b",
              "IPY_MODEL_8f7c1b0671464d4cb368e178abcd9ae0"
            ],
            "layout": "IPY_MODEL_78986824d4fa40b382a74c93d0bf3f4a"
          }
        },
        "a250fa808d5a4a82ba4e1e972ca3defa": {
          "model_module": "@jupyter-widgets/controls",
          "model_name": "HTMLModel",
          "model_module_version": "1.5.0",
          "state": {
            "_dom_classes": [],
            "_model_module": "@jupyter-widgets/controls",
            "_model_module_version": "1.5.0",
            "_model_name": "HTMLModel",
            "_view_count": null,
            "_view_module": "@jupyter-widgets/controls",
            "_view_module_version": "1.5.0",
            "_view_name": "HTMLView",
            "description": "",
            "description_tooltip": null,
            "layout": "IPY_MODEL_b93f1453eaa4422d9752419baede4d22",
            "placeholder": "​",
            "style": "IPY_MODEL_0f5df4ec02104e809334c1a5159146bd",
            "value": "chat_template.json: 100%"
          }
        },
        "ce6cd8baa03949958c2d670eab25013b": {
          "model_module": "@jupyter-widgets/controls",
          "model_name": "FloatProgressModel",
          "model_module_version": "1.5.0",
          "state": {
            "_dom_classes": [],
            "_model_module": "@jupyter-widgets/controls",
            "_model_module_version": "1.5.0",
            "_model_name": "FloatProgressModel",
            "_view_count": null,
            "_view_module": "@jupyter-widgets/controls",
            "_view_module_version": "1.5.0",
            "_view_name": "ProgressView",
            "bar_style": "success",
            "description": "",
            "description_tooltip": null,
            "layout": "IPY_MODEL_fa51435a22244441aa21e5a5bd719cb6",
            "max": 701,
            "min": 0,
            "orientation": "horizontal",
            "style": "IPY_MODEL_8a5a6cfab0b94b59b56d719ae92f7f03",
            "value": 701
          }
        },
        "8f7c1b0671464d4cb368e178abcd9ae0": {
          "model_module": "@jupyter-widgets/controls",
          "model_name": "HTMLModel",
          "model_module_version": "1.5.0",
          "state": {
            "_dom_classes": [],
            "_model_module": "@jupyter-widgets/controls",
            "_model_module_version": "1.5.0",
            "_model_name": "HTMLModel",
            "_view_count": null,
            "_view_module": "@jupyter-widgets/controls",
            "_view_module_version": "1.5.0",
            "_view_name": "HTMLView",
            "description": "",
            "description_tooltip": null,
            "layout": "IPY_MODEL_0072d22dc30346809bccd810906dd157",
            "placeholder": "​",
            "style": "IPY_MODEL_cd3b3045c4744c59ae24a196973d9e02",
            "value": " 701/701 [00:00&lt;00:00, 51.8kB/s]"
          }
        },
        "78986824d4fa40b382a74c93d0bf3f4a": {
          "model_module": "@jupyter-widgets/base",
          "model_name": "LayoutModel",
          "model_module_version": "1.2.0",
          "state": {
            "_model_module": "@jupyter-widgets/base",
            "_model_module_version": "1.2.0",
            "_model_name": "LayoutModel",
            "_view_count": null,
            "_view_module": "@jupyter-widgets/base",
            "_view_module_version": "1.2.0",
            "_view_name": "LayoutView",
            "align_content": null,
            "align_items": null,
            "align_self": null,
            "border": null,
            "bottom": null,
            "display": null,
            "flex": null,
            "flex_flow": null,
            "grid_area": null,
            "grid_auto_columns": null,
            "grid_auto_flow": null,
            "grid_auto_rows": null,
            "grid_column": null,
            "grid_gap": null,
            "grid_row": null,
            "grid_template_areas": null,
            "grid_template_columns": null,
            "grid_template_rows": null,
            "height": null,
            "justify_content": null,
            "justify_items": null,
            "left": null,
            "margin": null,
            "max_height": null,
            "max_width": null,
            "min_height": null,
            "min_width": null,
            "object_fit": null,
            "object_position": null,
            "order": null,
            "overflow": null,
            "overflow_x": null,
            "overflow_y": null,
            "padding": null,
            "right": null,
            "top": null,
            "visibility": null,
            "width": null
          }
        },
        "b93f1453eaa4422d9752419baede4d22": {
          "model_module": "@jupyter-widgets/base",
          "model_name": "LayoutModel",
          "model_module_version": "1.2.0",
          "state": {
            "_model_module": "@jupyter-widgets/base",
            "_model_module_version": "1.2.0",
            "_model_name": "LayoutModel",
            "_view_count": null,
            "_view_module": "@jupyter-widgets/base",
            "_view_module_version": "1.2.0",
            "_view_name": "LayoutView",
            "align_content": null,
            "align_items": null,
            "align_self": null,
            "border": null,
            "bottom": null,
            "display": null,
            "flex": null,
            "flex_flow": null,
            "grid_area": null,
            "grid_auto_columns": null,
            "grid_auto_flow": null,
            "grid_auto_rows": null,
            "grid_column": null,
            "grid_gap": null,
            "grid_row": null,
            "grid_template_areas": null,
            "grid_template_columns": null,
            "grid_template_rows": null,
            "height": null,
            "justify_content": null,
            "justify_items": null,
            "left": null,
            "margin": null,
            "max_height": null,
            "max_width": null,
            "min_height": null,
            "min_width": null,
            "object_fit": null,
            "object_position": null,
            "order": null,
            "overflow": null,
            "overflow_x": null,
            "overflow_y": null,
            "padding": null,
            "right": null,
            "top": null,
            "visibility": null,
            "width": null
          }
        },
        "0f5df4ec02104e809334c1a5159146bd": {
          "model_module": "@jupyter-widgets/controls",
          "model_name": "DescriptionStyleModel",
          "model_module_version": "1.5.0",
          "state": {
            "_model_module": "@jupyter-widgets/controls",
            "_model_module_version": "1.5.0",
            "_model_name": "DescriptionStyleModel",
            "_view_count": null,
            "_view_module": "@jupyter-widgets/base",
            "_view_module_version": "1.2.0",
            "_view_name": "StyleView",
            "description_width": ""
          }
        },
        "fa51435a22244441aa21e5a5bd719cb6": {
          "model_module": "@jupyter-widgets/base",
          "model_name": "LayoutModel",
          "model_module_version": "1.2.0",
          "state": {
            "_model_module": "@jupyter-widgets/base",
            "_model_module_version": "1.2.0",
            "_model_name": "LayoutModel",
            "_view_count": null,
            "_view_module": "@jupyter-widgets/base",
            "_view_module_version": "1.2.0",
            "_view_name": "LayoutView",
            "align_content": null,
            "align_items": null,
            "align_self": null,
            "border": null,
            "bottom": null,
            "display": null,
            "flex": null,
            "flex_flow": null,
            "grid_area": null,
            "grid_auto_columns": null,
            "grid_auto_flow": null,
            "grid_auto_rows": null,
            "grid_column": null,
            "grid_gap": null,
            "grid_row": null,
            "grid_template_areas": null,
            "grid_template_columns": null,
            "grid_template_rows": null,
            "height": null,
            "justify_content": null,
            "justify_items": null,
            "left": null,
            "margin": null,
            "max_height": null,
            "max_width": null,
            "min_height": null,
            "min_width": null,
            "object_fit": null,
            "object_position": null,
            "order": null,
            "overflow": null,
            "overflow_x": null,
            "overflow_y": null,
            "padding": null,
            "right": null,
            "top": null,
            "visibility": null,
            "width": null
          }
        },
        "8a5a6cfab0b94b59b56d719ae92f7f03": {
          "model_module": "@jupyter-widgets/controls",
          "model_name": "ProgressStyleModel",
          "model_module_version": "1.5.0",
          "state": {
            "_model_module": "@jupyter-widgets/controls",
            "_model_module_version": "1.5.0",
            "_model_name": "ProgressStyleModel",
            "_view_count": null,
            "_view_module": "@jupyter-widgets/base",
            "_view_module_version": "1.2.0",
            "_view_name": "StyleView",
            "bar_color": null,
            "description_width": ""
          }
        },
        "0072d22dc30346809bccd810906dd157": {
          "model_module": "@jupyter-widgets/base",
          "model_name": "LayoutModel",
          "model_module_version": "1.2.0",
          "state": {
            "_model_module": "@jupyter-widgets/base",
            "_model_module_version": "1.2.0",
            "_model_name": "LayoutModel",
            "_view_count": null,
            "_view_module": "@jupyter-widgets/base",
            "_view_module_version": "1.2.0",
            "_view_name": "LayoutView",
            "align_content": null,
            "align_items": null,
            "align_self": null,
            "border": null,
            "bottom": null,
            "display": null,
            "flex": null,
            "flex_flow": null,
            "grid_area": null,
            "grid_auto_columns": null,
            "grid_auto_flow": null,
            "grid_auto_rows": null,
            "grid_column": null,
            "grid_gap": null,
            "grid_row": null,
            "grid_template_areas": null,
            "grid_template_columns": null,
            "grid_template_rows": null,
            "height": null,
            "justify_content": null,
            "justify_items": null,
            "left": null,
            "margin": null,
            "max_height": null,
            "max_width": null,
            "min_height": null,
            "min_width": null,
            "object_fit": null,
            "object_position": null,
            "order": null,
            "overflow": null,
            "overflow_x": null,
            "overflow_y": null,
            "padding": null,
            "right": null,
            "top": null,
            "visibility": null,
            "width": null
          }
        },
        "cd3b3045c4744c59ae24a196973d9e02": {
          "model_module": "@jupyter-widgets/controls",
          "model_name": "DescriptionStyleModel",
          "model_module_version": "1.5.0",
          "state": {
            "_model_module": "@jupyter-widgets/controls",
            "_model_module_version": "1.5.0",
            "_model_name": "DescriptionStyleModel",
            "_view_count": null,
            "_view_module": "@jupyter-widgets/base",
            "_view_module_version": "1.2.0",
            "_view_name": "StyleView",
            "description_width": ""
          }
        },
        "33ad90870d35451fada92d39373bdb80": {
          "model_module": "@jupyter-widgets/controls",
          "model_name": "HBoxModel",
          "model_module_version": "1.5.0",
          "state": {
            "_dom_classes": [],
            "_model_module": "@jupyter-widgets/controls",
            "_model_module_version": "1.5.0",
            "_model_name": "HBoxModel",
            "_view_count": null,
            "_view_module": "@jupyter-widgets/controls",
            "_view_module_version": "1.5.0",
            "_view_name": "HBoxView",
            "box_style": "",
            "children": [
              "IPY_MODEL_b6f751383c8b4e37869bc9b7e0c01d5f",
              "IPY_MODEL_18873533c95b4af1a3c9ec13ff6f7901",
              "IPY_MODEL_e9a64c215d9a47f58272b0b24631f169"
            ],
            "layout": "IPY_MODEL_4112fa7597f74573aa4de0d6e9c8c861"
          }
        },
        "b6f751383c8b4e37869bc9b7e0c01d5f": {
          "model_module": "@jupyter-widgets/controls",
          "model_name": "HTMLModel",
          "model_module_version": "1.5.0",
          "state": {
            "_dom_classes": [],
            "_model_module": "@jupyter-widgets/controls",
            "_model_module_version": "1.5.0",
            "_model_name": "HTMLModel",
            "_view_count": null,
            "_view_module": "@jupyter-widgets/controls",
            "_view_module_version": "1.5.0",
            "_view_name": "HTMLView",
            "description": "",
            "description_tooltip": null,
            "layout": "IPY_MODEL_31db4191393a4a0d97fc33ec71e61eaa",
            "placeholder": "​",
            "style": "IPY_MODEL_a780b638a42e459d94595bd77d276afe",
            "value": "preprocessor_config.json: 100%"
          }
        },
        "18873533c95b4af1a3c9ec13ff6f7901": {
          "model_module": "@jupyter-widgets/controls",
          "model_name": "FloatProgressModel",
          "model_module_version": "1.5.0",
          "state": {
            "_dom_classes": [],
            "_model_module": "@jupyter-widgets/controls",
            "_model_module_version": "1.5.0",
            "_model_name": "FloatProgressModel",
            "_view_count": null,
            "_view_module": "@jupyter-widgets/controls",
            "_view_module_version": "1.5.0",
            "_view_name": "ProgressView",
            "bar_style": "success",
            "description": "",
            "description_tooltip": null,
            "layout": "IPY_MODEL_f28d16e15f9046f884331892faa1c919",
            "max": 505,
            "min": 0,
            "orientation": "horizontal",
            "style": "IPY_MODEL_d86c87b9757f4a508791861c098c4b12",
            "value": 505
          }
        },
        "e9a64c215d9a47f58272b0b24631f169": {
          "model_module": "@jupyter-widgets/controls",
          "model_name": "HTMLModel",
          "model_module_version": "1.5.0",
          "state": {
            "_dom_classes": [],
            "_model_module": "@jupyter-widgets/controls",
            "_model_module_version": "1.5.0",
            "_model_name": "HTMLModel",
            "_view_count": null,
            "_view_module": "@jupyter-widgets/controls",
            "_view_module_version": "1.5.0",
            "_view_name": "HTMLView",
            "description": "",
            "description_tooltip": null,
            "layout": "IPY_MODEL_53009c3d8b99476ca1366b98316ca2e8",
            "placeholder": "​",
            "style": "IPY_MODEL_740a8af2c1da413d8affe00ee9594328",
            "value": " 505/505 [00:00&lt;00:00, 27.8kB/s]"
          }
        },
        "4112fa7597f74573aa4de0d6e9c8c861": {
          "model_module": "@jupyter-widgets/base",
          "model_name": "LayoutModel",
          "model_module_version": "1.2.0",
          "state": {
            "_model_module": "@jupyter-widgets/base",
            "_model_module_version": "1.2.0",
            "_model_name": "LayoutModel",
            "_view_count": null,
            "_view_module": "@jupyter-widgets/base",
            "_view_module_version": "1.2.0",
            "_view_name": "LayoutView",
            "align_content": null,
            "align_items": null,
            "align_self": null,
            "border": null,
            "bottom": null,
            "display": null,
            "flex": null,
            "flex_flow": null,
            "grid_area": null,
            "grid_auto_columns": null,
            "grid_auto_flow": null,
            "grid_auto_rows": null,
            "grid_column": null,
            "grid_gap": null,
            "grid_row": null,
            "grid_template_areas": null,
            "grid_template_columns": null,
            "grid_template_rows": null,
            "height": null,
            "justify_content": null,
            "justify_items": null,
            "left": null,
            "margin": null,
            "max_height": null,
            "max_width": null,
            "min_height": null,
            "min_width": null,
            "object_fit": null,
            "object_position": null,
            "order": null,
            "overflow": null,
            "overflow_x": null,
            "overflow_y": null,
            "padding": null,
            "right": null,
            "top": null,
            "visibility": null,
            "width": null
          }
        },
        "31db4191393a4a0d97fc33ec71e61eaa": {
          "model_module": "@jupyter-widgets/base",
          "model_name": "LayoutModel",
          "model_module_version": "1.2.0",
          "state": {
            "_model_module": "@jupyter-widgets/base",
            "_model_module_version": "1.2.0",
            "_model_name": "LayoutModel",
            "_view_count": null,
            "_view_module": "@jupyter-widgets/base",
            "_view_module_version": "1.2.0",
            "_view_name": "LayoutView",
            "align_content": null,
            "align_items": null,
            "align_self": null,
            "border": null,
            "bottom": null,
            "display": null,
            "flex": null,
            "flex_flow": null,
            "grid_area": null,
            "grid_auto_columns": null,
            "grid_auto_flow": null,
            "grid_auto_rows": null,
            "grid_column": null,
            "grid_gap": null,
            "grid_row": null,
            "grid_template_areas": null,
            "grid_template_columns": null,
            "grid_template_rows": null,
            "height": null,
            "justify_content": null,
            "justify_items": null,
            "left": null,
            "margin": null,
            "max_height": null,
            "max_width": null,
            "min_height": null,
            "min_width": null,
            "object_fit": null,
            "object_position": null,
            "order": null,
            "overflow": null,
            "overflow_x": null,
            "overflow_y": null,
            "padding": null,
            "right": null,
            "top": null,
            "visibility": null,
            "width": null
          }
        },
        "a780b638a42e459d94595bd77d276afe": {
          "model_module": "@jupyter-widgets/controls",
          "model_name": "DescriptionStyleModel",
          "model_module_version": "1.5.0",
          "state": {
            "_model_module": "@jupyter-widgets/controls",
            "_model_module_version": "1.5.0",
            "_model_name": "DescriptionStyleModel",
            "_view_count": null,
            "_view_module": "@jupyter-widgets/base",
            "_view_module_version": "1.2.0",
            "_view_name": "StyleView",
            "description_width": ""
          }
        },
        "f28d16e15f9046f884331892faa1c919": {
          "model_module": "@jupyter-widgets/base",
          "model_name": "LayoutModel",
          "model_module_version": "1.2.0",
          "state": {
            "_model_module": "@jupyter-widgets/base",
            "_model_module_version": "1.2.0",
            "_model_name": "LayoutModel",
            "_view_count": null,
            "_view_module": "@jupyter-widgets/base",
            "_view_module_version": "1.2.0",
            "_view_name": "LayoutView",
            "align_content": null,
            "align_items": null,
            "align_self": null,
            "border": null,
            "bottom": null,
            "display": null,
            "flex": null,
            "flex_flow": null,
            "grid_area": null,
            "grid_auto_columns": null,
            "grid_auto_flow": null,
            "grid_auto_rows": null,
            "grid_column": null,
            "grid_gap": null,
            "grid_row": null,
            "grid_template_areas": null,
            "grid_template_columns": null,
            "grid_template_rows": null,
            "height": null,
            "justify_content": null,
            "justify_items": null,
            "left": null,
            "margin": null,
            "max_height": null,
            "max_width": null,
            "min_height": null,
            "min_width": null,
            "object_fit": null,
            "object_position": null,
            "order": null,
            "overflow": null,
            "overflow_x": null,
            "overflow_y": null,
            "padding": null,
            "right": null,
            "top": null,
            "visibility": null,
            "width": null
          }
        },
        "d86c87b9757f4a508791861c098c4b12": {
          "model_module": "@jupyter-widgets/controls",
          "model_name": "ProgressStyleModel",
          "model_module_version": "1.5.0",
          "state": {
            "_model_module": "@jupyter-widgets/controls",
            "_model_module_version": "1.5.0",
            "_model_name": "ProgressStyleModel",
            "_view_count": null,
            "_view_module": "@jupyter-widgets/base",
            "_view_module_version": "1.2.0",
            "_view_name": "StyleView",
            "bar_color": null,
            "description_width": ""
          }
        },
        "53009c3d8b99476ca1366b98316ca2e8": {
          "model_module": "@jupyter-widgets/base",
          "model_name": "LayoutModel",
          "model_module_version": "1.2.0",
          "state": {
            "_model_module": "@jupyter-widgets/base",
            "_model_module_version": "1.2.0",
            "_model_name": "LayoutModel",
            "_view_count": null,
            "_view_module": "@jupyter-widgets/base",
            "_view_module_version": "1.2.0",
            "_view_name": "LayoutView",
            "align_content": null,
            "align_items": null,
            "align_self": null,
            "border": null,
            "bottom": null,
            "display": null,
            "flex": null,
            "flex_flow": null,
            "grid_area": null,
            "grid_auto_columns": null,
            "grid_auto_flow": null,
            "grid_auto_rows": null,
            "grid_column": null,
            "grid_gap": null,
            "grid_row": null,
            "grid_template_areas": null,
            "grid_template_columns": null,
            "grid_template_rows": null,
            "height": null,
            "justify_content": null,
            "justify_items": null,
            "left": null,
            "margin": null,
            "max_height": null,
            "max_width": null,
            "min_height": null,
            "min_width": null,
            "object_fit": null,
            "object_position": null,
            "order": null,
            "overflow": null,
            "overflow_x": null,
            "overflow_y": null,
            "padding": null,
            "right": null,
            "top": null,
            "visibility": null,
            "width": null
          }
        },
        "740a8af2c1da413d8affe00ee9594328": {
          "model_module": "@jupyter-widgets/controls",
          "model_name": "DescriptionStyleModel",
          "model_module_version": "1.5.0",
          "state": {
            "_model_module": "@jupyter-widgets/controls",
            "_model_module_version": "1.5.0",
            "_model_name": "DescriptionStyleModel",
            "_view_count": null,
            "_view_module": "@jupyter-widgets/base",
            "_view_module_version": "1.2.0",
            "_view_name": "StyleView",
            "description_width": ""
          }
        },
        "9f40df4a122c42cd81014383e017e3f8": {
          "model_module": "@jupyter-widgets/controls",
          "model_name": "HBoxModel",
          "model_module_version": "1.5.0",
          "state": {
            "_dom_classes": [],
            "_model_module": "@jupyter-widgets/controls",
            "_model_module_version": "1.5.0",
            "_model_name": "HBoxModel",
            "_view_count": null,
            "_view_module": "@jupyter-widgets/controls",
            "_view_module_version": "1.5.0",
            "_view_name": "HBoxView",
            "box_style": "",
            "children": [
              "IPY_MODEL_7a9f69399a984da4b55f5d5f9d9e06c0",
              "IPY_MODEL_67fec51ca4dd4ebfa15fe7a67e7e9015",
              "IPY_MODEL_149318398f7a478390790de66626a64d"
            ],
            "layout": "IPY_MODEL_323b12fb33e94ef8be4e79cf963763a4"
          }
        },
        "7a9f69399a984da4b55f5d5f9d9e06c0": {
          "model_module": "@jupyter-widgets/controls",
          "model_name": "HTMLModel",
          "model_module_version": "1.5.0",
          "state": {
            "_dom_classes": [],
            "_model_module": "@jupyter-widgets/controls",
            "_model_module_version": "1.5.0",
            "_model_name": "HTMLModel",
            "_view_count": null,
            "_view_module": "@jupyter-widgets/controls",
            "_view_module_version": "1.5.0",
            "_view_name": "HTMLView",
            "description": "",
            "description_tooltip": null,
            "layout": "IPY_MODEL_65640dd2a0aa4d0f9926974f2fe48bdf",
            "placeholder": "​",
            "style": "IPY_MODEL_b7314a6dd0c545919238e3a100c1f0fa",
            "value": "tokenizer_config.json: 100%"
          }
        },
        "67fec51ca4dd4ebfa15fe7a67e7e9015": {
          "model_module": "@jupyter-widgets/controls",
          "model_name": "FloatProgressModel",
          "model_module_version": "1.5.0",
          "state": {
            "_dom_classes": [],
            "_model_module": "@jupyter-widgets/controls",
            "_model_module_version": "1.5.0",
            "_model_name": "FloatProgressModel",
            "_view_count": null,
            "_view_module": "@jupyter-widgets/controls",
            "_view_module_version": "1.5.0",
            "_view_name": "ProgressView",
            "bar_style": "success",
            "description": "",
            "description_tooltip": null,
            "layout": "IPY_MODEL_93f7781d0c0b402c8609293ab8c456c2",
            "max": 1451,
            "min": 0,
            "orientation": "horizontal",
            "style": "IPY_MODEL_0a2b7039137e427e81d441e9dd5067a0",
            "value": 1451
          }
        },
        "149318398f7a478390790de66626a64d": {
          "model_module": "@jupyter-widgets/controls",
          "model_name": "HTMLModel",
          "model_module_version": "1.5.0",
          "state": {
            "_dom_classes": [],
            "_model_module": "@jupyter-widgets/controls",
            "_model_module_version": "1.5.0",
            "_model_name": "HTMLModel",
            "_view_count": null,
            "_view_module": "@jupyter-widgets/controls",
            "_view_module_version": "1.5.0",
            "_view_name": "HTMLView",
            "description": "",
            "description_tooltip": null,
            "layout": "IPY_MODEL_a292fd9182df4bf68422ec65d478f9af",
            "placeholder": "​",
            "style": "IPY_MODEL_00e7026d2a634faf99df87ef6196b740",
            "value": " 1.45k/1.45k [00:00&lt;00:00, 91.2kB/s]"
          }
        },
        "323b12fb33e94ef8be4e79cf963763a4": {
          "model_module": "@jupyter-widgets/base",
          "model_name": "LayoutModel",
          "model_module_version": "1.2.0",
          "state": {
            "_model_module": "@jupyter-widgets/base",
            "_model_module_version": "1.2.0",
            "_model_name": "LayoutModel",
            "_view_count": null,
            "_view_module": "@jupyter-widgets/base",
            "_view_module_version": "1.2.0",
            "_view_name": "LayoutView",
            "align_content": null,
            "align_items": null,
            "align_self": null,
            "border": null,
            "bottom": null,
            "display": null,
            "flex": null,
            "flex_flow": null,
            "grid_area": null,
            "grid_auto_columns": null,
            "grid_auto_flow": null,
            "grid_auto_rows": null,
            "grid_column": null,
            "grid_gap": null,
            "grid_row": null,
            "grid_template_areas": null,
            "grid_template_columns": null,
            "grid_template_rows": null,
            "height": null,
            "justify_content": null,
            "justify_items": null,
            "left": null,
            "margin": null,
            "max_height": null,
            "max_width": null,
            "min_height": null,
            "min_width": null,
            "object_fit": null,
            "object_position": null,
            "order": null,
            "overflow": null,
            "overflow_x": null,
            "overflow_y": null,
            "padding": null,
            "right": null,
            "top": null,
            "visibility": null,
            "width": null
          }
        },
        "65640dd2a0aa4d0f9926974f2fe48bdf": {
          "model_module": "@jupyter-widgets/base",
          "model_name": "LayoutModel",
          "model_module_version": "1.2.0",
          "state": {
            "_model_module": "@jupyter-widgets/base",
            "_model_module_version": "1.2.0",
            "_model_name": "LayoutModel",
            "_view_count": null,
            "_view_module": "@jupyter-widgets/base",
            "_view_module_version": "1.2.0",
            "_view_name": "LayoutView",
            "align_content": null,
            "align_items": null,
            "align_self": null,
            "border": null,
            "bottom": null,
            "display": null,
            "flex": null,
            "flex_flow": null,
            "grid_area": null,
            "grid_auto_columns": null,
            "grid_auto_flow": null,
            "grid_auto_rows": null,
            "grid_column": null,
            "grid_gap": null,
            "grid_row": null,
            "grid_template_areas": null,
            "grid_template_columns": null,
            "grid_template_rows": null,
            "height": null,
            "justify_content": null,
            "justify_items": null,
            "left": null,
            "margin": null,
            "max_height": null,
            "max_width": null,
            "min_height": null,
            "min_width": null,
            "object_fit": null,
            "object_position": null,
            "order": null,
            "overflow": null,
            "overflow_x": null,
            "overflow_y": null,
            "padding": null,
            "right": null,
            "top": null,
            "visibility": null,
            "width": null
          }
        },
        "b7314a6dd0c545919238e3a100c1f0fa": {
          "model_module": "@jupyter-widgets/controls",
          "model_name": "DescriptionStyleModel",
          "model_module_version": "1.5.0",
          "state": {
            "_model_module": "@jupyter-widgets/controls",
            "_model_module_version": "1.5.0",
            "_model_name": "DescriptionStyleModel",
            "_view_count": null,
            "_view_module": "@jupyter-widgets/base",
            "_view_module_version": "1.2.0",
            "_view_name": "StyleView",
            "description_width": ""
          }
        },
        "93f7781d0c0b402c8609293ab8c456c2": {
          "model_module": "@jupyter-widgets/base",
          "model_name": "LayoutModel",
          "model_module_version": "1.2.0",
          "state": {
            "_model_module": "@jupyter-widgets/base",
            "_model_module_version": "1.2.0",
            "_model_name": "LayoutModel",
            "_view_count": null,
            "_view_module": "@jupyter-widgets/base",
            "_view_module_version": "1.2.0",
            "_view_name": "LayoutView",
            "align_content": null,
            "align_items": null,
            "align_self": null,
            "border": null,
            "bottom": null,
            "display": null,
            "flex": null,
            "flex_flow": null,
            "grid_area": null,
            "grid_auto_columns": null,
            "grid_auto_flow": null,
            "grid_auto_rows": null,
            "grid_column": null,
            "grid_gap": null,
            "grid_row": null,
            "grid_template_areas": null,
            "grid_template_columns": null,
            "grid_template_rows": null,
            "height": null,
            "justify_content": null,
            "justify_items": null,
            "left": null,
            "margin": null,
            "max_height": null,
            "max_width": null,
            "min_height": null,
            "min_width": null,
            "object_fit": null,
            "object_position": null,
            "order": null,
            "overflow": null,
            "overflow_x": null,
            "overflow_y": null,
            "padding": null,
            "right": null,
            "top": null,
            "visibility": null,
            "width": null
          }
        },
        "0a2b7039137e427e81d441e9dd5067a0": {
          "model_module": "@jupyter-widgets/controls",
          "model_name": "ProgressStyleModel",
          "model_module_version": "1.5.0",
          "state": {
            "_model_module": "@jupyter-widgets/controls",
            "_model_module_version": "1.5.0",
            "_model_name": "ProgressStyleModel",
            "_view_count": null,
            "_view_module": "@jupyter-widgets/base",
            "_view_module_version": "1.2.0",
            "_view_name": "StyleView",
            "bar_color": null,
            "description_width": ""
          }
        },
        "a292fd9182df4bf68422ec65d478f9af": {
          "model_module": "@jupyter-widgets/base",
          "model_name": "LayoutModel",
          "model_module_version": "1.2.0",
          "state": {
            "_model_module": "@jupyter-widgets/base",
            "_model_module_version": "1.2.0",
            "_model_name": "LayoutModel",
            "_view_count": null,
            "_view_module": "@jupyter-widgets/base",
            "_view_module_version": "1.2.0",
            "_view_name": "LayoutView",
            "align_content": null,
            "align_items": null,
            "align_self": null,
            "border": null,
            "bottom": null,
            "display": null,
            "flex": null,
            "flex_flow": null,
            "grid_area": null,
            "grid_auto_columns": null,
            "grid_auto_flow": null,
            "grid_auto_rows": null,
            "grid_column": null,
            "grid_gap": null,
            "grid_row": null,
            "grid_template_areas": null,
            "grid_template_columns": null,
            "grid_template_rows": null,
            "height": null,
            "justify_content": null,
            "justify_items": null,
            "left": null,
            "margin": null,
            "max_height": null,
            "max_width": null,
            "min_height": null,
            "min_width": null,
            "object_fit": null,
            "object_position": null,
            "order": null,
            "overflow": null,
            "overflow_x": null,
            "overflow_y": null,
            "padding": null,
            "right": null,
            "top": null,
            "visibility": null,
            "width": null
          }
        },
        "00e7026d2a634faf99df87ef6196b740": {
          "model_module": "@jupyter-widgets/controls",
          "model_name": "DescriptionStyleModel",
          "model_module_version": "1.5.0",
          "state": {
            "_model_module": "@jupyter-widgets/controls",
            "_model_module_version": "1.5.0",
            "_model_name": "DescriptionStyleModel",
            "_view_count": null,
            "_view_module": "@jupyter-widgets/base",
            "_view_module_version": "1.2.0",
            "_view_name": "StyleView",
            "description_width": ""
          }
        },
        "cfe7635e8d0e4f81ab2445cf00116261": {
          "model_module": "@jupyter-widgets/controls",
          "model_name": "HBoxModel",
          "model_module_version": "1.5.0",
          "state": {
            "_dom_classes": [],
            "_model_module": "@jupyter-widgets/controls",
            "_model_module_version": "1.5.0",
            "_model_name": "HBoxModel",
            "_view_count": null,
            "_view_module": "@jupyter-widgets/controls",
            "_view_module_version": "1.5.0",
            "_view_name": "HBoxView",
            "box_style": "",
            "children": [
              "IPY_MODEL_e9fb74ed1a0b41cf9a6d5f6a66efe8ad",
              "IPY_MODEL_7fb3f8c2ff0941b280670b4ebdda8705",
              "IPY_MODEL_e100ccad3ed54cb1af24521f4e5bea64"
            ],
            "layout": "IPY_MODEL_8345ee277d864d34817d35cdb5a23dca"
          }
        },
        "e9fb74ed1a0b41cf9a6d5f6a66efe8ad": {
          "model_module": "@jupyter-widgets/controls",
          "model_name": "HTMLModel",
          "model_module_version": "1.5.0",
          "state": {
            "_dom_classes": [],
            "_model_module": "@jupyter-widgets/controls",
            "_model_module_version": "1.5.0",
            "_model_name": "HTMLModel",
            "_view_count": null,
            "_view_module": "@jupyter-widgets/controls",
            "_view_module_version": "1.5.0",
            "_view_name": "HTMLView",
            "description": "",
            "description_tooltip": null,
            "layout": "IPY_MODEL_4b0d4689eb944101ad92f7b10b693ded",
            "placeholder": "​",
            "style": "IPY_MODEL_4e827d0a54974603a404bfa1865c6002",
            "value": "tokenizer.model: 100%"
          }
        },
        "7fb3f8c2ff0941b280670b4ebdda8705": {
          "model_module": "@jupyter-widgets/controls",
          "model_name": "FloatProgressModel",
          "model_module_version": "1.5.0",
          "state": {
            "_dom_classes": [],
            "_model_module": "@jupyter-widgets/controls",
            "_model_module_version": "1.5.0",
            "_model_name": "FloatProgressModel",
            "_view_count": null,
            "_view_module": "@jupyter-widgets/controls",
            "_view_module_version": "1.5.0",
            "_view_name": "ProgressView",
            "bar_style": "success",
            "description": "",
            "description_tooltip": null,
            "layout": "IPY_MODEL_0f9c6889d9fc446eb44d1401ad8be9dc",
            "max": 499723,
            "min": 0,
            "orientation": "horizontal",
            "style": "IPY_MODEL_dd76737b764e49dc8811b803137d85a2",
            "value": 499723
          }
        },
        "e100ccad3ed54cb1af24521f4e5bea64": {
          "model_module": "@jupyter-widgets/controls",
          "model_name": "HTMLModel",
          "model_module_version": "1.5.0",
          "state": {
            "_dom_classes": [],
            "_model_module": "@jupyter-widgets/controls",
            "_model_module_version": "1.5.0",
            "_model_name": "HTMLModel",
            "_view_count": null,
            "_view_module": "@jupyter-widgets/controls",
            "_view_module_version": "1.5.0",
            "_view_name": "HTMLView",
            "description": "",
            "description_tooltip": null,
            "layout": "IPY_MODEL_3f14a3cd72d8494a8ce8935c7d662a7c",
            "placeholder": "​",
            "style": "IPY_MODEL_e346fc0b007049a19d6d0a671c829212",
            "value": " 500k/500k [00:00&lt;00:00, 7.95MB/s]"
          }
        },
        "8345ee277d864d34817d35cdb5a23dca": {
          "model_module": "@jupyter-widgets/base",
          "model_name": "LayoutModel",
          "model_module_version": "1.2.0",
          "state": {
            "_model_module": "@jupyter-widgets/base",
            "_model_module_version": "1.2.0",
            "_model_name": "LayoutModel",
            "_view_count": null,
            "_view_module": "@jupyter-widgets/base",
            "_view_module_version": "1.2.0",
            "_view_name": "LayoutView",
            "align_content": null,
            "align_items": null,
            "align_self": null,
            "border": null,
            "bottom": null,
            "display": null,
            "flex": null,
            "flex_flow": null,
            "grid_area": null,
            "grid_auto_columns": null,
            "grid_auto_flow": null,
            "grid_auto_rows": null,
            "grid_column": null,
            "grid_gap": null,
            "grid_row": null,
            "grid_template_areas": null,
            "grid_template_columns": null,
            "grid_template_rows": null,
            "height": null,
            "justify_content": null,
            "justify_items": null,
            "left": null,
            "margin": null,
            "max_height": null,
            "max_width": null,
            "min_height": null,
            "min_width": null,
            "object_fit": null,
            "object_position": null,
            "order": null,
            "overflow": null,
            "overflow_x": null,
            "overflow_y": null,
            "padding": null,
            "right": null,
            "top": null,
            "visibility": null,
            "width": null
          }
        },
        "4b0d4689eb944101ad92f7b10b693ded": {
          "model_module": "@jupyter-widgets/base",
          "model_name": "LayoutModel",
          "model_module_version": "1.2.0",
          "state": {
            "_model_module": "@jupyter-widgets/base",
            "_model_module_version": "1.2.0",
            "_model_name": "LayoutModel",
            "_view_count": null,
            "_view_module": "@jupyter-widgets/base",
            "_view_module_version": "1.2.0",
            "_view_name": "LayoutView",
            "align_content": null,
            "align_items": null,
            "align_self": null,
            "border": null,
            "bottom": null,
            "display": null,
            "flex": null,
            "flex_flow": null,
            "grid_area": null,
            "grid_auto_columns": null,
            "grid_auto_flow": null,
            "grid_auto_rows": null,
            "grid_column": null,
            "grid_gap": null,
            "grid_row": null,
            "grid_template_areas": null,
            "grid_template_columns": null,
            "grid_template_rows": null,
            "height": null,
            "justify_content": null,
            "justify_items": null,
            "left": null,
            "margin": null,
            "max_height": null,
            "max_width": null,
            "min_height": null,
            "min_width": null,
            "object_fit": null,
            "object_position": null,
            "order": null,
            "overflow": null,
            "overflow_x": null,
            "overflow_y": null,
            "padding": null,
            "right": null,
            "top": null,
            "visibility": null,
            "width": null
          }
        },
        "4e827d0a54974603a404bfa1865c6002": {
          "model_module": "@jupyter-widgets/controls",
          "model_name": "DescriptionStyleModel",
          "model_module_version": "1.5.0",
          "state": {
            "_model_module": "@jupyter-widgets/controls",
            "_model_module_version": "1.5.0",
            "_model_name": "DescriptionStyleModel",
            "_view_count": null,
            "_view_module": "@jupyter-widgets/base",
            "_view_module_version": "1.2.0",
            "_view_name": "StyleView",
            "description_width": ""
          }
        },
        "0f9c6889d9fc446eb44d1401ad8be9dc": {
          "model_module": "@jupyter-widgets/base",
          "model_name": "LayoutModel",
          "model_module_version": "1.2.0",
          "state": {
            "_model_module": "@jupyter-widgets/base",
            "_model_module_version": "1.2.0",
            "_model_name": "LayoutModel",
            "_view_count": null,
            "_view_module": "@jupyter-widgets/base",
            "_view_module_version": "1.2.0",
            "_view_name": "LayoutView",
            "align_content": null,
            "align_items": null,
            "align_self": null,
            "border": null,
            "bottom": null,
            "display": null,
            "flex": null,
            "flex_flow": null,
            "grid_area": null,
            "grid_auto_columns": null,
            "grid_auto_flow": null,
            "grid_auto_rows": null,
            "grid_column": null,
            "grid_gap": null,
            "grid_row": null,
            "grid_template_areas": null,
            "grid_template_columns": null,
            "grid_template_rows": null,
            "height": null,
            "justify_content": null,
            "justify_items": null,
            "left": null,
            "margin": null,
            "max_height": null,
            "max_width": null,
            "min_height": null,
            "min_width": null,
            "object_fit": null,
            "object_position": null,
            "order": null,
            "overflow": null,
            "overflow_x": null,
            "overflow_y": null,
            "padding": null,
            "right": null,
            "top": null,
            "visibility": null,
            "width": null
          }
        },
        "dd76737b764e49dc8811b803137d85a2": {
          "model_module": "@jupyter-widgets/controls",
          "model_name": "ProgressStyleModel",
          "model_module_version": "1.5.0",
          "state": {
            "_model_module": "@jupyter-widgets/controls",
            "_model_module_version": "1.5.0",
            "_model_name": "ProgressStyleModel",
            "_view_count": null,
            "_view_module": "@jupyter-widgets/base",
            "_view_module_version": "1.2.0",
            "_view_name": "StyleView",
            "bar_color": null,
            "description_width": ""
          }
        },
        "3f14a3cd72d8494a8ce8935c7d662a7c": {
          "model_module": "@jupyter-widgets/base",
          "model_name": "LayoutModel",
          "model_module_version": "1.2.0",
          "state": {
            "_model_module": "@jupyter-widgets/base",
            "_model_module_version": "1.2.0",
            "_model_name": "LayoutModel",
            "_view_count": null,
            "_view_module": "@jupyter-widgets/base",
            "_view_module_version": "1.2.0",
            "_view_name": "LayoutView",
            "align_content": null,
            "align_items": null,
            "align_self": null,
            "border": null,
            "bottom": null,
            "display": null,
            "flex": null,
            "flex_flow": null,
            "grid_area": null,
            "grid_auto_columns": null,
            "grid_auto_flow": null,
            "grid_auto_rows": null,
            "grid_column": null,
            "grid_gap": null,
            "grid_row": null,
            "grid_template_areas": null,
            "grid_template_columns": null,
            "grid_template_rows": null,
            "height": null,
            "justify_content": null,
            "justify_items": null,
            "left": null,
            "margin": null,
            "max_height": null,
            "max_width": null,
            "min_height": null,
            "min_width": null,
            "object_fit": null,
            "object_position": null,
            "order": null,
            "overflow": null,
            "overflow_x": null,
            "overflow_y": null,
            "padding": null,
            "right": null,
            "top": null,
            "visibility": null,
            "width": null
          }
        },
        "e346fc0b007049a19d6d0a671c829212": {
          "model_module": "@jupyter-widgets/controls",
          "model_name": "DescriptionStyleModel",
          "model_module_version": "1.5.0",
          "state": {
            "_model_module": "@jupyter-widgets/controls",
            "_model_module_version": "1.5.0",
            "_model_name": "DescriptionStyleModel",
            "_view_count": null,
            "_view_module": "@jupyter-widgets/base",
            "_view_module_version": "1.2.0",
            "_view_name": "StyleView",
            "description_width": ""
          }
        },
        "2f64d2aa0aaf43b6b33a9d9d3c2064bb": {
          "model_module": "@jupyter-widgets/controls",
          "model_name": "HBoxModel",
          "model_module_version": "1.5.0",
          "state": {
            "_dom_classes": [],
            "_model_module": "@jupyter-widgets/controls",
            "_model_module_version": "1.5.0",
            "_model_name": "HBoxModel",
            "_view_count": null,
            "_view_module": "@jupyter-widgets/controls",
            "_view_module_version": "1.5.0",
            "_view_name": "HBoxView",
            "box_style": "",
            "children": [
              "IPY_MODEL_0b90d5530d224988a739713590a4a40b",
              "IPY_MODEL_c1244376c2a44a78b7509cb5ee5de998",
              "IPY_MODEL_acbb233513d54f7cb59376c33f148d3a"
            ],
            "layout": "IPY_MODEL_2f451777318d434ba8542440d10f07af"
          }
        },
        "0b90d5530d224988a739713590a4a40b": {
          "model_module": "@jupyter-widgets/controls",
          "model_name": "HTMLModel",
          "model_module_version": "1.5.0",
          "state": {
            "_dom_classes": [],
            "_model_module": "@jupyter-widgets/controls",
            "_model_module_version": "1.5.0",
            "_model_name": "HTMLModel",
            "_view_count": null,
            "_view_module": "@jupyter-widgets/controls",
            "_view_module_version": "1.5.0",
            "_view_name": "HTMLView",
            "description": "",
            "description_tooltip": null,
            "layout": "IPY_MODEL_31055cb9e60e4af08dc03a9b493fa621",
            "placeholder": "​",
            "style": "IPY_MODEL_32eb6ea63e1f412ba796a148d35c6001",
            "value": "tokenizer.json: 100%"
          }
        },
        "c1244376c2a44a78b7509cb5ee5de998": {
          "model_module": "@jupyter-widgets/controls",
          "model_name": "FloatProgressModel",
          "model_module_version": "1.5.0",
          "state": {
            "_dom_classes": [],
            "_model_module": "@jupyter-widgets/controls",
            "_model_module_version": "1.5.0",
            "_model_name": "FloatProgressModel",
            "_view_count": null,
            "_view_module": "@jupyter-widgets/controls",
            "_view_module_version": "1.5.0",
            "_view_name": "ProgressView",
            "bar_style": "success",
            "description": "",
            "description_tooltip": null,
            "layout": "IPY_MODEL_c001f84b3f7a4f618ac48d7d537af764",
            "max": 3619380,
            "min": 0,
            "orientation": "horizontal",
            "style": "IPY_MODEL_4e7cf25722534ac1b4bcfbb148fcd597",
            "value": 3619380
          }
        },
        "acbb233513d54f7cb59376c33f148d3a": {
          "model_module": "@jupyter-widgets/controls",
          "model_name": "HTMLModel",
          "model_module_version": "1.5.0",
          "state": {
            "_dom_classes": [],
            "_model_module": "@jupyter-widgets/controls",
            "_model_module_version": "1.5.0",
            "_model_name": "HTMLModel",
            "_view_count": null,
            "_view_module": "@jupyter-widgets/controls",
            "_view_module_version": "1.5.0",
            "_view_name": "HTMLView",
            "description": "",
            "description_tooltip": null,
            "layout": "IPY_MODEL_866d5ceea87f401886c8e6347ee33120",
            "placeholder": "​",
            "style": "IPY_MODEL_dd643580cd23440f85c0401fedf1032b",
            "value": " 3.62M/3.62M [00:00&lt;00:00, 20.2MB/s]"
          }
        },
        "2f451777318d434ba8542440d10f07af": {
          "model_module": "@jupyter-widgets/base",
          "model_name": "LayoutModel",
          "model_module_version": "1.2.0",
          "state": {
            "_model_module": "@jupyter-widgets/base",
            "_model_module_version": "1.2.0",
            "_model_name": "LayoutModel",
            "_view_count": null,
            "_view_module": "@jupyter-widgets/base",
            "_view_module_version": "1.2.0",
            "_view_name": "LayoutView",
            "align_content": null,
            "align_items": null,
            "align_self": null,
            "border": null,
            "bottom": null,
            "display": null,
            "flex": null,
            "flex_flow": null,
            "grid_area": null,
            "grid_auto_columns": null,
            "grid_auto_flow": null,
            "grid_auto_rows": null,
            "grid_column": null,
            "grid_gap": null,
            "grid_row": null,
            "grid_template_areas": null,
            "grid_template_columns": null,
            "grid_template_rows": null,
            "height": null,
            "justify_content": null,
            "justify_items": null,
            "left": null,
            "margin": null,
            "max_height": null,
            "max_width": null,
            "min_height": null,
            "min_width": null,
            "object_fit": null,
            "object_position": null,
            "order": null,
            "overflow": null,
            "overflow_x": null,
            "overflow_y": null,
            "padding": null,
            "right": null,
            "top": null,
            "visibility": null,
            "width": null
          }
        },
        "31055cb9e60e4af08dc03a9b493fa621": {
          "model_module": "@jupyter-widgets/base",
          "model_name": "LayoutModel",
          "model_module_version": "1.2.0",
          "state": {
            "_model_module": "@jupyter-widgets/base",
            "_model_module_version": "1.2.0",
            "_model_name": "LayoutModel",
            "_view_count": null,
            "_view_module": "@jupyter-widgets/base",
            "_view_module_version": "1.2.0",
            "_view_name": "LayoutView",
            "align_content": null,
            "align_items": null,
            "align_self": null,
            "border": null,
            "bottom": null,
            "display": null,
            "flex": null,
            "flex_flow": null,
            "grid_area": null,
            "grid_auto_columns": null,
            "grid_auto_flow": null,
            "grid_auto_rows": null,
            "grid_column": null,
            "grid_gap": null,
            "grid_row": null,
            "grid_template_areas": null,
            "grid_template_columns": null,
            "grid_template_rows": null,
            "height": null,
            "justify_content": null,
            "justify_items": null,
            "left": null,
            "margin": null,
            "max_height": null,
            "max_width": null,
            "min_height": null,
            "min_width": null,
            "object_fit": null,
            "object_position": null,
            "order": null,
            "overflow": null,
            "overflow_x": null,
            "overflow_y": null,
            "padding": null,
            "right": null,
            "top": null,
            "visibility": null,
            "width": null
          }
        },
        "32eb6ea63e1f412ba796a148d35c6001": {
          "model_module": "@jupyter-widgets/controls",
          "model_name": "DescriptionStyleModel",
          "model_module_version": "1.5.0",
          "state": {
            "_model_module": "@jupyter-widgets/controls",
            "_model_module_version": "1.5.0",
            "_model_name": "DescriptionStyleModel",
            "_view_count": null,
            "_view_module": "@jupyter-widgets/base",
            "_view_module_version": "1.2.0",
            "_view_name": "StyleView",
            "description_width": ""
          }
        },
        "c001f84b3f7a4f618ac48d7d537af764": {
          "model_module": "@jupyter-widgets/base",
          "model_name": "LayoutModel",
          "model_module_version": "1.2.0",
          "state": {
            "_model_module": "@jupyter-widgets/base",
            "_model_module_version": "1.2.0",
            "_model_name": "LayoutModel",
            "_view_count": null,
            "_view_module": "@jupyter-widgets/base",
            "_view_module_version": "1.2.0",
            "_view_name": "LayoutView",
            "align_content": null,
            "align_items": null,
            "align_self": null,
            "border": null,
            "bottom": null,
            "display": null,
            "flex": null,
            "flex_flow": null,
            "grid_area": null,
            "grid_auto_columns": null,
            "grid_auto_flow": null,
            "grid_auto_rows": null,
            "grid_column": null,
            "grid_gap": null,
            "grid_row": null,
            "grid_template_areas": null,
            "grid_template_columns": null,
            "grid_template_rows": null,
            "height": null,
            "justify_content": null,
            "justify_items": null,
            "left": null,
            "margin": null,
            "max_height": null,
            "max_width": null,
            "min_height": null,
            "min_width": null,
            "object_fit": null,
            "object_position": null,
            "order": null,
            "overflow": null,
            "overflow_x": null,
            "overflow_y": null,
            "padding": null,
            "right": null,
            "top": null,
            "visibility": null,
            "width": null
          }
        },
        "4e7cf25722534ac1b4bcfbb148fcd597": {
          "model_module": "@jupyter-widgets/controls",
          "model_name": "ProgressStyleModel",
          "model_module_version": "1.5.0",
          "state": {
            "_model_module": "@jupyter-widgets/controls",
            "_model_module_version": "1.5.0",
            "_model_name": "ProgressStyleModel",
            "_view_count": null,
            "_view_module": "@jupyter-widgets/base",
            "_view_module_version": "1.2.0",
            "_view_name": "StyleView",
            "bar_color": null,
            "description_width": ""
          }
        },
        "866d5ceea87f401886c8e6347ee33120": {
          "model_module": "@jupyter-widgets/base",
          "model_name": "LayoutModel",
          "model_module_version": "1.2.0",
          "state": {
            "_model_module": "@jupyter-widgets/base",
            "_model_module_version": "1.2.0",
            "_model_name": "LayoutModel",
            "_view_count": null,
            "_view_module": "@jupyter-widgets/base",
            "_view_module_version": "1.2.0",
            "_view_name": "LayoutView",
            "align_content": null,
            "align_items": null,
            "align_self": null,
            "border": null,
            "bottom": null,
            "display": null,
            "flex": null,
            "flex_flow": null,
            "grid_area": null,
            "grid_auto_columns": null,
            "grid_auto_flow": null,
            "grid_auto_rows": null,
            "grid_column": null,
            "grid_gap": null,
            "grid_row": null,
            "grid_template_areas": null,
            "grid_template_columns": null,
            "grid_template_rows": null,
            "height": null,
            "justify_content": null,
            "justify_items": null,
            "left": null,
            "margin": null,
            "max_height": null,
            "max_width": null,
            "min_height": null,
            "min_width": null,
            "object_fit": null,
            "object_position": null,
            "order": null,
            "overflow": null,
            "overflow_x": null,
            "overflow_y": null,
            "padding": null,
            "right": null,
            "top": null,
            "visibility": null,
            "width": null
          }
        },
        "dd643580cd23440f85c0401fedf1032b": {
          "model_module": "@jupyter-widgets/controls",
          "model_name": "DescriptionStyleModel",
          "model_module_version": "1.5.0",
          "state": {
            "_model_module": "@jupyter-widgets/controls",
            "_model_module_version": "1.5.0",
            "_model_name": "DescriptionStyleModel",
            "_view_count": null,
            "_view_module": "@jupyter-widgets/base",
            "_view_module_version": "1.2.0",
            "_view_name": "StyleView",
            "description_width": ""
          }
        },
        "983fe87ca5d94dc48c96e41e5cea5483": {
          "model_module": "@jupyter-widgets/controls",
          "model_name": "HBoxModel",
          "model_module_version": "1.5.0",
          "state": {
            "_dom_classes": [],
            "_model_module": "@jupyter-widgets/controls",
            "_model_module_version": "1.5.0",
            "_model_name": "HBoxModel",
            "_view_count": null,
            "_view_module": "@jupyter-widgets/controls",
            "_view_module_version": "1.5.0",
            "_view_name": "HBoxView",
            "box_style": "",
            "children": [
              "IPY_MODEL_c8959b3190114eecaa8cbade3cf963cb",
              "IPY_MODEL_8b0779c227944cf5a1856c50943a9c41",
              "IPY_MODEL_bb206a390ca1437488b46a1849b75623"
            ],
            "layout": "IPY_MODEL_c31605499b434ff8a706734ae39e6200"
          }
        },
        "c8959b3190114eecaa8cbade3cf963cb": {
          "model_module": "@jupyter-widgets/controls",
          "model_name": "HTMLModel",
          "model_module_version": "1.5.0",
          "state": {
            "_dom_classes": [],
            "_model_module": "@jupyter-widgets/controls",
            "_model_module_version": "1.5.0",
            "_model_name": "HTMLModel",
            "_view_count": null,
            "_view_module": "@jupyter-widgets/controls",
            "_view_module_version": "1.5.0",
            "_view_name": "HTMLView",
            "description": "",
            "description_tooltip": null,
            "layout": "IPY_MODEL_797c518e996e4404a1412adc5046baf9",
            "placeholder": "​",
            "style": "IPY_MODEL_9f40140dbcc34888ac0913ae2fba1808",
            "value": "added_tokens.json: 100%"
          }
        },
        "8b0779c227944cf5a1856c50943a9c41": {
          "model_module": "@jupyter-widgets/controls",
          "model_name": "FloatProgressModel",
          "model_module_version": "1.5.0",
          "state": {
            "_dom_classes": [],
            "_model_module": "@jupyter-widgets/controls",
            "_model_module_version": "1.5.0",
            "_model_name": "FloatProgressModel",
            "_view_count": null,
            "_view_module": "@jupyter-widgets/controls",
            "_view_module_version": "1.5.0",
            "_view_name": "ProgressView",
            "bar_style": "success",
            "description": "",
            "description_tooltip": null,
            "layout": "IPY_MODEL_7c7ad4fb8ab04e1299ba7a2e54a57336",
            "max": 41,
            "min": 0,
            "orientation": "horizontal",
            "style": "IPY_MODEL_5029c1470f454ddda45a9894f1f350c5",
            "value": 41
          }
        },
        "bb206a390ca1437488b46a1849b75623": {
          "model_module": "@jupyter-widgets/controls",
          "model_name": "HTMLModel",
          "model_module_version": "1.5.0",
          "state": {
            "_dom_classes": [],
            "_model_module": "@jupyter-widgets/controls",
            "_model_module_version": "1.5.0",
            "_model_name": "HTMLModel",
            "_view_count": null,
            "_view_module": "@jupyter-widgets/controls",
            "_view_module_version": "1.5.0",
            "_view_name": "HTMLView",
            "description": "",
            "description_tooltip": null,
            "layout": "IPY_MODEL_7ecae17522a8432fbe96b3372766e96e",
            "placeholder": "​",
            "style": "IPY_MODEL_8534cef2b2b54cba9c04922d10e74fae",
            "value": " 41.0/41.0 [00:00&lt;00:00, 3.49kB/s]"
          }
        },
        "c31605499b434ff8a706734ae39e6200": {
          "model_module": "@jupyter-widgets/base",
          "model_name": "LayoutModel",
          "model_module_version": "1.2.0",
          "state": {
            "_model_module": "@jupyter-widgets/base",
            "_model_module_version": "1.2.0",
            "_model_name": "LayoutModel",
            "_view_count": null,
            "_view_module": "@jupyter-widgets/base",
            "_view_module_version": "1.2.0",
            "_view_name": "LayoutView",
            "align_content": null,
            "align_items": null,
            "align_self": null,
            "border": null,
            "bottom": null,
            "display": null,
            "flex": null,
            "flex_flow": null,
            "grid_area": null,
            "grid_auto_columns": null,
            "grid_auto_flow": null,
            "grid_auto_rows": null,
            "grid_column": null,
            "grid_gap": null,
            "grid_row": null,
            "grid_template_areas": null,
            "grid_template_columns": null,
            "grid_template_rows": null,
            "height": null,
            "justify_content": null,
            "justify_items": null,
            "left": null,
            "margin": null,
            "max_height": null,
            "max_width": null,
            "min_height": null,
            "min_width": null,
            "object_fit": null,
            "object_position": null,
            "order": null,
            "overflow": null,
            "overflow_x": null,
            "overflow_y": null,
            "padding": null,
            "right": null,
            "top": null,
            "visibility": null,
            "width": null
          }
        },
        "797c518e996e4404a1412adc5046baf9": {
          "model_module": "@jupyter-widgets/base",
          "model_name": "LayoutModel",
          "model_module_version": "1.2.0",
          "state": {
            "_model_module": "@jupyter-widgets/base",
            "_model_module_version": "1.2.0",
            "_model_name": "LayoutModel",
            "_view_count": null,
            "_view_module": "@jupyter-widgets/base",
            "_view_module_version": "1.2.0",
            "_view_name": "LayoutView",
            "align_content": null,
            "align_items": null,
            "align_self": null,
            "border": null,
            "bottom": null,
            "display": null,
            "flex": null,
            "flex_flow": null,
            "grid_area": null,
            "grid_auto_columns": null,
            "grid_auto_flow": null,
            "grid_auto_rows": null,
            "grid_column": null,
            "grid_gap": null,
            "grid_row": null,
            "grid_template_areas": null,
            "grid_template_columns": null,
            "grid_template_rows": null,
            "height": null,
            "justify_content": null,
            "justify_items": null,
            "left": null,
            "margin": null,
            "max_height": null,
            "max_width": null,
            "min_height": null,
            "min_width": null,
            "object_fit": null,
            "object_position": null,
            "order": null,
            "overflow": null,
            "overflow_x": null,
            "overflow_y": null,
            "padding": null,
            "right": null,
            "top": null,
            "visibility": null,
            "width": null
          }
        },
        "9f40140dbcc34888ac0913ae2fba1808": {
          "model_module": "@jupyter-widgets/controls",
          "model_name": "DescriptionStyleModel",
          "model_module_version": "1.5.0",
          "state": {
            "_model_module": "@jupyter-widgets/controls",
            "_model_module_version": "1.5.0",
            "_model_name": "DescriptionStyleModel",
            "_view_count": null,
            "_view_module": "@jupyter-widgets/base",
            "_view_module_version": "1.2.0",
            "_view_name": "StyleView",
            "description_width": ""
          }
        },
        "7c7ad4fb8ab04e1299ba7a2e54a57336": {
          "model_module": "@jupyter-widgets/base",
          "model_name": "LayoutModel",
          "model_module_version": "1.2.0",
          "state": {
            "_model_module": "@jupyter-widgets/base",
            "_model_module_version": "1.2.0",
            "_model_name": "LayoutModel",
            "_view_count": null,
            "_view_module": "@jupyter-widgets/base",
            "_view_module_version": "1.2.0",
            "_view_name": "LayoutView",
            "align_content": null,
            "align_items": null,
            "align_self": null,
            "border": null,
            "bottom": null,
            "display": null,
            "flex": null,
            "flex_flow": null,
            "grid_area": null,
            "grid_auto_columns": null,
            "grid_auto_flow": null,
            "grid_auto_rows": null,
            "grid_column": null,
            "grid_gap": null,
            "grid_row": null,
            "grid_template_areas": null,
            "grid_template_columns": null,
            "grid_template_rows": null,
            "height": null,
            "justify_content": null,
            "justify_items": null,
            "left": null,
            "margin": null,
            "max_height": null,
            "max_width": null,
            "min_height": null,
            "min_width": null,
            "object_fit": null,
            "object_position": null,
            "order": null,
            "overflow": null,
            "overflow_x": null,
            "overflow_y": null,
            "padding": null,
            "right": null,
            "top": null,
            "visibility": null,
            "width": null
          }
        },
        "5029c1470f454ddda45a9894f1f350c5": {
          "model_module": "@jupyter-widgets/controls",
          "model_name": "ProgressStyleModel",
          "model_module_version": "1.5.0",
          "state": {
            "_model_module": "@jupyter-widgets/controls",
            "_model_module_version": "1.5.0",
            "_model_name": "ProgressStyleModel",
            "_view_count": null,
            "_view_module": "@jupyter-widgets/base",
            "_view_module_version": "1.2.0",
            "_view_name": "StyleView",
            "bar_color": null,
            "description_width": ""
          }
        },
        "7ecae17522a8432fbe96b3372766e96e": {
          "model_module": "@jupyter-widgets/base",
          "model_name": "LayoutModel",
          "model_module_version": "1.2.0",
          "state": {
            "_model_module": "@jupyter-widgets/base",
            "_model_module_version": "1.2.0",
            "_model_name": "LayoutModel",
            "_view_count": null,
            "_view_module": "@jupyter-widgets/base",
            "_view_module_version": "1.2.0",
            "_view_name": "LayoutView",
            "align_content": null,
            "align_items": null,
            "align_self": null,
            "border": null,
            "bottom": null,
            "display": null,
            "flex": null,
            "flex_flow": null,
            "grid_area": null,
            "grid_auto_columns": null,
            "grid_auto_flow": null,
            "grid_auto_rows": null,
            "grid_column": null,
            "grid_gap": null,
            "grid_row": null,
            "grid_template_areas": null,
            "grid_template_columns": null,
            "grid_template_rows": null,
            "height": null,
            "justify_content": null,
            "justify_items": null,
            "left": null,
            "margin": null,
            "max_height": null,
            "max_width": null,
            "min_height": null,
            "min_width": null,
            "object_fit": null,
            "object_position": null,
            "order": null,
            "overflow": null,
            "overflow_x": null,
            "overflow_y": null,
            "padding": null,
            "right": null,
            "top": null,
            "visibility": null,
            "width": null
          }
        },
        "8534cef2b2b54cba9c04922d10e74fae": {
          "model_module": "@jupyter-widgets/controls",
          "model_name": "DescriptionStyleModel",
          "model_module_version": "1.5.0",
          "state": {
            "_model_module": "@jupyter-widgets/controls",
            "_model_module_version": "1.5.0",
            "_model_name": "DescriptionStyleModel",
            "_view_count": null,
            "_view_module": "@jupyter-widgets/base",
            "_view_module_version": "1.2.0",
            "_view_name": "StyleView",
            "description_width": ""
          }
        },
        "4fd55edc9fac483b9895601a0e236568": {
          "model_module": "@jupyter-widgets/controls",
          "model_name": "HBoxModel",
          "model_module_version": "1.5.0",
          "state": {
            "_dom_classes": [],
            "_model_module": "@jupyter-widgets/controls",
            "_model_module_version": "1.5.0",
            "_model_name": "HBoxModel",
            "_view_count": null,
            "_view_module": "@jupyter-widgets/controls",
            "_view_module_version": "1.5.0",
            "_view_name": "HBoxView",
            "box_style": "",
            "children": [
              "IPY_MODEL_8a681957e8744f80bbb8a2a8defef293",
              "IPY_MODEL_17df705b15864c6a97f16008e12ab03a",
              "IPY_MODEL_a7925afca0874fd68e53cc398c0303a2"
            ],
            "layout": "IPY_MODEL_867cd9d276644ff08909d21eb16b2474"
          }
        },
        "8a681957e8744f80bbb8a2a8defef293": {
          "model_module": "@jupyter-widgets/controls",
          "model_name": "HTMLModel",
          "model_module_version": "1.5.0",
          "state": {
            "_dom_classes": [],
            "_model_module": "@jupyter-widgets/controls",
            "_model_module_version": "1.5.0",
            "_model_name": "HTMLModel",
            "_view_count": null,
            "_view_module": "@jupyter-widgets/controls",
            "_view_module_version": "1.5.0",
            "_view_name": "HTMLView",
            "description": "",
            "description_tooltip": null,
            "layout": "IPY_MODEL_fc6eee363ed84986b2baf9f279e113d6",
            "placeholder": "​",
            "style": "IPY_MODEL_2d344d42c71d42c59e4417db4ef45a3d",
            "value": "special_tokens_map.json: 100%"
          }
        },
        "17df705b15864c6a97f16008e12ab03a": {
          "model_module": "@jupyter-widgets/controls",
          "model_name": "FloatProgressModel",
          "model_module_version": "1.5.0",
          "state": {
            "_dom_classes": [],
            "_model_module": "@jupyter-widgets/controls",
            "_model_module_version": "1.5.0",
            "_model_name": "FloatProgressModel",
            "_view_count": null,
            "_view_module": "@jupyter-widgets/controls",
            "_view_module_version": "1.5.0",
            "_view_name": "ProgressView",
            "bar_style": "success",
            "description": "",
            "description_tooltip": null,
            "layout": "IPY_MODEL_c32b982da8ff4bd6b03141cdc850782f",
            "max": 552,
            "min": 0,
            "orientation": "horizontal",
            "style": "IPY_MODEL_b609515a2b3d4e7d9cf7793d501578ff",
            "value": 552
          }
        },
        "a7925afca0874fd68e53cc398c0303a2": {
          "model_module": "@jupyter-widgets/controls",
          "model_name": "HTMLModel",
          "model_module_version": "1.5.0",
          "state": {
            "_dom_classes": [],
            "_model_module": "@jupyter-widgets/controls",
            "_model_module_version": "1.5.0",
            "_model_name": "HTMLModel",
            "_view_count": null,
            "_view_module": "@jupyter-widgets/controls",
            "_view_module_version": "1.5.0",
            "_view_name": "HTMLView",
            "description": "",
            "description_tooltip": null,
            "layout": "IPY_MODEL_2c0942958f934ec9b03475d8864b87d1",
            "placeholder": "​",
            "style": "IPY_MODEL_f6c8a8d75fc849808fb27f547f6739a1",
            "value": " 552/552 [00:00&lt;00:00, 49.0kB/s]"
          }
        },
        "867cd9d276644ff08909d21eb16b2474": {
          "model_module": "@jupyter-widgets/base",
          "model_name": "LayoutModel",
          "model_module_version": "1.2.0",
          "state": {
            "_model_module": "@jupyter-widgets/base",
            "_model_module_version": "1.2.0",
            "_model_name": "LayoutModel",
            "_view_count": null,
            "_view_module": "@jupyter-widgets/base",
            "_view_module_version": "1.2.0",
            "_view_name": "LayoutView",
            "align_content": null,
            "align_items": null,
            "align_self": null,
            "border": null,
            "bottom": null,
            "display": null,
            "flex": null,
            "flex_flow": null,
            "grid_area": null,
            "grid_auto_columns": null,
            "grid_auto_flow": null,
            "grid_auto_rows": null,
            "grid_column": null,
            "grid_gap": null,
            "grid_row": null,
            "grid_template_areas": null,
            "grid_template_columns": null,
            "grid_template_rows": null,
            "height": null,
            "justify_content": null,
            "justify_items": null,
            "left": null,
            "margin": null,
            "max_height": null,
            "max_width": null,
            "min_height": null,
            "min_width": null,
            "object_fit": null,
            "object_position": null,
            "order": null,
            "overflow": null,
            "overflow_x": null,
            "overflow_y": null,
            "padding": null,
            "right": null,
            "top": null,
            "visibility": null,
            "width": null
          }
        },
        "fc6eee363ed84986b2baf9f279e113d6": {
          "model_module": "@jupyter-widgets/base",
          "model_name": "LayoutModel",
          "model_module_version": "1.2.0",
          "state": {
            "_model_module": "@jupyter-widgets/base",
            "_model_module_version": "1.2.0",
            "_model_name": "LayoutModel",
            "_view_count": null,
            "_view_module": "@jupyter-widgets/base",
            "_view_module_version": "1.2.0",
            "_view_name": "LayoutView",
            "align_content": null,
            "align_items": null,
            "align_self": null,
            "border": null,
            "bottom": null,
            "display": null,
            "flex": null,
            "flex_flow": null,
            "grid_area": null,
            "grid_auto_columns": null,
            "grid_auto_flow": null,
            "grid_auto_rows": null,
            "grid_column": null,
            "grid_gap": null,
            "grid_row": null,
            "grid_template_areas": null,
            "grid_template_columns": null,
            "grid_template_rows": null,
            "height": null,
            "justify_content": null,
            "justify_items": null,
            "left": null,
            "margin": null,
            "max_height": null,
            "max_width": null,
            "min_height": null,
            "min_width": null,
            "object_fit": null,
            "object_position": null,
            "order": null,
            "overflow": null,
            "overflow_x": null,
            "overflow_y": null,
            "padding": null,
            "right": null,
            "top": null,
            "visibility": null,
            "width": null
          }
        },
        "2d344d42c71d42c59e4417db4ef45a3d": {
          "model_module": "@jupyter-widgets/controls",
          "model_name": "DescriptionStyleModel",
          "model_module_version": "1.5.0",
          "state": {
            "_model_module": "@jupyter-widgets/controls",
            "_model_module_version": "1.5.0",
            "_model_name": "DescriptionStyleModel",
            "_view_count": null,
            "_view_module": "@jupyter-widgets/base",
            "_view_module_version": "1.2.0",
            "_view_name": "StyleView",
            "description_width": ""
          }
        },
        "c32b982da8ff4bd6b03141cdc850782f": {
          "model_module": "@jupyter-widgets/base",
          "model_name": "LayoutModel",
          "model_module_version": "1.2.0",
          "state": {
            "_model_module": "@jupyter-widgets/base",
            "_model_module_version": "1.2.0",
            "_model_name": "LayoutModel",
            "_view_count": null,
            "_view_module": "@jupyter-widgets/base",
            "_view_module_version": "1.2.0",
            "_view_name": "LayoutView",
            "align_content": null,
            "align_items": null,
            "align_self": null,
            "border": null,
            "bottom": null,
            "display": null,
            "flex": null,
            "flex_flow": null,
            "grid_area": null,
            "grid_auto_columns": null,
            "grid_auto_flow": null,
            "grid_auto_rows": null,
            "grid_column": null,
            "grid_gap": null,
            "grid_row": null,
            "grid_template_areas": null,
            "grid_template_columns": null,
            "grid_template_rows": null,
            "height": null,
            "justify_content": null,
            "justify_items": null,
            "left": null,
            "margin": null,
            "max_height": null,
            "max_width": null,
            "min_height": null,
            "min_width": null,
            "object_fit": null,
            "object_position": null,
            "order": null,
            "overflow": null,
            "overflow_x": null,
            "overflow_y": null,
            "padding": null,
            "right": null,
            "top": null,
            "visibility": null,
            "width": null
          }
        },
        "b609515a2b3d4e7d9cf7793d501578ff": {
          "model_module": "@jupyter-widgets/controls",
          "model_name": "ProgressStyleModel",
          "model_module_version": "1.5.0",
          "state": {
            "_model_module": "@jupyter-widgets/controls",
            "_model_module_version": "1.5.0",
            "_model_name": "ProgressStyleModel",
            "_view_count": null,
            "_view_module": "@jupyter-widgets/base",
            "_view_module_version": "1.2.0",
            "_view_name": "StyleView",
            "bar_color": null,
            "description_width": ""
          }
        },
        "2c0942958f934ec9b03475d8864b87d1": {
          "model_module": "@jupyter-widgets/base",
          "model_name": "LayoutModel",
          "model_module_version": "1.2.0",
          "state": {
            "_model_module": "@jupyter-widgets/base",
            "_model_module_version": "1.2.0",
            "_model_name": "LayoutModel",
            "_view_count": null,
            "_view_module": "@jupyter-widgets/base",
            "_view_module_version": "1.2.0",
            "_view_name": "LayoutView",
            "align_content": null,
            "align_items": null,
            "align_self": null,
            "border": null,
            "bottom": null,
            "display": null,
            "flex": null,
            "flex_flow": null,
            "grid_area": null,
            "grid_auto_columns": null,
            "grid_auto_flow": null,
            "grid_auto_rows": null,
            "grid_column": null,
            "grid_gap": null,
            "grid_row": null,
            "grid_template_areas": null,
            "grid_template_columns": null,
            "grid_template_rows": null,
            "height": null,
            "justify_content": null,
            "justify_items": null,
            "left": null,
            "margin": null,
            "max_height": null,
            "max_width": null,
            "min_height": null,
            "min_width": null,
            "object_fit": null,
            "object_position": null,
            "order": null,
            "overflow": null,
            "overflow_x": null,
            "overflow_y": null,
            "padding": null,
            "right": null,
            "top": null,
            "visibility": null,
            "width": null
          }
        },
        "f6c8a8d75fc849808fb27f547f6739a1": {
          "model_module": "@jupyter-widgets/controls",
          "model_name": "DescriptionStyleModel",
          "model_module_version": "1.5.0",
          "state": {
            "_model_module": "@jupyter-widgets/controls",
            "_model_module_version": "1.5.0",
            "_model_name": "DescriptionStyleModel",
            "_view_count": null,
            "_view_module": "@jupyter-widgets/base",
            "_view_module_version": "1.2.0",
            "_view_name": "StyleView",
            "description_width": ""
          }
        },
        "4c64f80e6171482ca034ee842e5e3eec": {
          "model_module": "@jupyter-widgets/controls",
          "model_name": "HBoxModel",
          "model_module_version": "1.5.0",
          "state": {
            "_dom_classes": [],
            "_model_module": "@jupyter-widgets/controls",
            "_model_module_version": "1.5.0",
            "_model_name": "HBoxModel",
            "_view_count": null,
            "_view_module": "@jupyter-widgets/controls",
            "_view_module_version": "1.5.0",
            "_view_name": "HBoxView",
            "box_style": "",
            "children": [
              "IPY_MODEL_5ca278c0ce7343f2b19af6acd929eb7b",
              "IPY_MODEL_da4176797b1c4140beecb2db14a2f470",
              "IPY_MODEL_65b23996c4644458aa08da77f616d481"
            ],
            "layout": "IPY_MODEL_9ca4cf40f52b492fad6c411f81f61eda"
          }
        },
        "5ca278c0ce7343f2b19af6acd929eb7b": {
          "model_module": "@jupyter-widgets/controls",
          "model_name": "HTMLModel",
          "model_module_version": "1.5.0",
          "state": {
            "_dom_classes": [],
            "_model_module": "@jupyter-widgets/controls",
            "_model_module_version": "1.5.0",
            "_model_name": "HTMLModel",
            "_view_count": null,
            "_view_module": "@jupyter-widgets/controls",
            "_view_module_version": "1.5.0",
            "_view_name": "HTMLView",
            "description": "",
            "description_tooltip": null,
            "layout": "IPY_MODEL_53bfbfc051e44a1693045a51e5e255ca",
            "placeholder": "​",
            "style": "IPY_MODEL_53c2d6894ac14573b582b5d57ba03b83",
            "value": "config.json: 100%"
          }
        },
        "da4176797b1c4140beecb2db14a2f470": {
          "model_module": "@jupyter-widgets/controls",
          "model_name": "FloatProgressModel",
          "model_module_version": "1.5.0",
          "state": {
            "_dom_classes": [],
            "_model_module": "@jupyter-widgets/controls",
            "_model_module_version": "1.5.0",
            "_model_name": "FloatProgressModel",
            "_view_count": null,
            "_view_module": "@jupyter-widgets/controls",
            "_view_module_version": "1.5.0",
            "_view_name": "ProgressView",
            "bar_style": "success",
            "description": "",
            "description_tooltip": null,
            "layout": "IPY_MODEL_4cb50a353c834df1b827484dc3ee8670",
            "max": 950,
            "min": 0,
            "orientation": "horizontal",
            "style": "IPY_MODEL_a76b242b66b54011a5a23c89af49d2e9",
            "value": 950
          }
        },
        "65b23996c4644458aa08da77f616d481": {
          "model_module": "@jupyter-widgets/controls",
          "model_name": "HTMLModel",
          "model_module_version": "1.5.0",
          "state": {
            "_dom_classes": [],
            "_model_module": "@jupyter-widgets/controls",
            "_model_module_version": "1.5.0",
            "_model_name": "HTMLModel",
            "_view_count": null,
            "_view_module": "@jupyter-widgets/controls",
            "_view_module_version": "1.5.0",
            "_view_name": "HTMLView",
            "description": "",
            "description_tooltip": null,
            "layout": "IPY_MODEL_884c2a041a1f45f0a0071ef6e2722d8b",
            "placeholder": "​",
            "style": "IPY_MODEL_cf600ca4b415487b937de0f730b5529b",
            "value": " 950/950 [00:00&lt;00:00, 94.3kB/s]"
          }
        },
        "9ca4cf40f52b492fad6c411f81f61eda": {
          "model_module": "@jupyter-widgets/base",
          "model_name": "LayoutModel",
          "model_module_version": "1.2.0",
          "state": {
            "_model_module": "@jupyter-widgets/base",
            "_model_module_version": "1.2.0",
            "_model_name": "LayoutModel",
            "_view_count": null,
            "_view_module": "@jupyter-widgets/base",
            "_view_module_version": "1.2.0",
            "_view_name": "LayoutView",
            "align_content": null,
            "align_items": null,
            "align_self": null,
            "border": null,
            "bottom": null,
            "display": null,
            "flex": null,
            "flex_flow": null,
            "grid_area": null,
            "grid_auto_columns": null,
            "grid_auto_flow": null,
            "grid_auto_rows": null,
            "grid_column": null,
            "grid_gap": null,
            "grid_row": null,
            "grid_template_areas": null,
            "grid_template_columns": null,
            "grid_template_rows": null,
            "height": null,
            "justify_content": null,
            "justify_items": null,
            "left": null,
            "margin": null,
            "max_height": null,
            "max_width": null,
            "min_height": null,
            "min_width": null,
            "object_fit": null,
            "object_position": null,
            "order": null,
            "overflow": null,
            "overflow_x": null,
            "overflow_y": null,
            "padding": null,
            "right": null,
            "top": null,
            "visibility": null,
            "width": null
          }
        },
        "53bfbfc051e44a1693045a51e5e255ca": {
          "model_module": "@jupyter-widgets/base",
          "model_name": "LayoutModel",
          "model_module_version": "1.2.0",
          "state": {
            "_model_module": "@jupyter-widgets/base",
            "_model_module_version": "1.2.0",
            "_model_name": "LayoutModel",
            "_view_count": null,
            "_view_module": "@jupyter-widgets/base",
            "_view_module_version": "1.2.0",
            "_view_name": "LayoutView",
            "align_content": null,
            "align_items": null,
            "align_self": null,
            "border": null,
            "bottom": null,
            "display": null,
            "flex": null,
            "flex_flow": null,
            "grid_area": null,
            "grid_auto_columns": null,
            "grid_auto_flow": null,
            "grid_auto_rows": null,
            "grid_column": null,
            "grid_gap": null,
            "grid_row": null,
            "grid_template_areas": null,
            "grid_template_columns": null,
            "grid_template_rows": null,
            "height": null,
            "justify_content": null,
            "justify_items": null,
            "left": null,
            "margin": null,
            "max_height": null,
            "max_width": null,
            "min_height": null,
            "min_width": null,
            "object_fit": null,
            "object_position": null,
            "order": null,
            "overflow": null,
            "overflow_x": null,
            "overflow_y": null,
            "padding": null,
            "right": null,
            "top": null,
            "visibility": null,
            "width": null
          }
        },
        "53c2d6894ac14573b582b5d57ba03b83": {
          "model_module": "@jupyter-widgets/controls",
          "model_name": "DescriptionStyleModel",
          "model_module_version": "1.5.0",
          "state": {
            "_model_module": "@jupyter-widgets/controls",
            "_model_module_version": "1.5.0",
            "_model_name": "DescriptionStyleModel",
            "_view_count": null,
            "_view_module": "@jupyter-widgets/base",
            "_view_module_version": "1.2.0",
            "_view_name": "StyleView",
            "description_width": ""
          }
        },
        "4cb50a353c834df1b827484dc3ee8670": {
          "model_module": "@jupyter-widgets/base",
          "model_name": "LayoutModel",
          "model_module_version": "1.2.0",
          "state": {
            "_model_module": "@jupyter-widgets/base",
            "_model_module_version": "1.2.0",
            "_model_name": "LayoutModel",
            "_view_count": null,
            "_view_module": "@jupyter-widgets/base",
            "_view_module_version": "1.2.0",
            "_view_name": "LayoutView",
            "align_content": null,
            "align_items": null,
            "align_self": null,
            "border": null,
            "bottom": null,
            "display": null,
            "flex": null,
            "flex_flow": null,
            "grid_area": null,
            "grid_auto_columns": null,
            "grid_auto_flow": null,
            "grid_auto_rows": null,
            "grid_column": null,
            "grid_gap": null,
            "grid_row": null,
            "grid_template_areas": null,
            "grid_template_columns": null,
            "grid_template_rows": null,
            "height": null,
            "justify_content": null,
            "justify_items": null,
            "left": null,
            "margin": null,
            "max_height": null,
            "max_width": null,
            "min_height": null,
            "min_width": null,
            "object_fit": null,
            "object_position": null,
            "order": null,
            "overflow": null,
            "overflow_x": null,
            "overflow_y": null,
            "padding": null,
            "right": null,
            "top": null,
            "visibility": null,
            "width": null
          }
        },
        "a76b242b66b54011a5a23c89af49d2e9": {
          "model_module": "@jupyter-widgets/controls",
          "model_name": "ProgressStyleModel",
          "model_module_version": "1.5.0",
          "state": {
            "_model_module": "@jupyter-widgets/controls",
            "_model_module_version": "1.5.0",
            "_model_name": "ProgressStyleModel",
            "_view_count": null,
            "_view_module": "@jupyter-widgets/base",
            "_view_module_version": "1.2.0",
            "_view_name": "StyleView",
            "bar_color": null,
            "description_width": ""
          }
        },
        "884c2a041a1f45f0a0071ef6e2722d8b": {
          "model_module": "@jupyter-widgets/base",
          "model_name": "LayoutModel",
          "model_module_version": "1.2.0",
          "state": {
            "_model_module": "@jupyter-widgets/base",
            "_model_module_version": "1.2.0",
            "_model_name": "LayoutModel",
            "_view_count": null,
            "_view_module": "@jupyter-widgets/base",
            "_view_module_version": "1.2.0",
            "_view_name": "LayoutView",
            "align_content": null,
            "align_items": null,
            "align_self": null,
            "border": null,
            "bottom": null,
            "display": null,
            "flex": null,
            "flex_flow": null,
            "grid_area": null,
            "grid_auto_columns": null,
            "grid_auto_flow": null,
            "grid_auto_rows": null,
            "grid_column": null,
            "grid_gap": null,
            "grid_row": null,
            "grid_template_areas": null,
            "grid_template_columns": null,
            "grid_template_rows": null,
            "height": null,
            "justify_content": null,
            "justify_items": null,
            "left": null,
            "margin": null,
            "max_height": null,
            "max_width": null,
            "min_height": null,
            "min_width": null,
            "object_fit": null,
            "object_position": null,
            "order": null,
            "overflow": null,
            "overflow_x": null,
            "overflow_y": null,
            "padding": null,
            "right": null,
            "top": null,
            "visibility": null,
            "width": null
          }
        },
        "cf600ca4b415487b937de0f730b5529b": {
          "model_module": "@jupyter-widgets/controls",
          "model_name": "DescriptionStyleModel",
          "model_module_version": "1.5.0",
          "state": {
            "_model_module": "@jupyter-widgets/controls",
            "_model_module_version": "1.5.0",
            "_model_name": "DescriptionStyleModel",
            "_view_count": null,
            "_view_module": "@jupyter-widgets/base",
            "_view_module_version": "1.2.0",
            "_view_name": "StyleView",
            "description_width": ""
          }
        },
        "0746ec4930d9480d9b2e15c09cf3b1be": {
          "model_module": "@jupyter-widgets/controls",
          "model_name": "HBoxModel",
          "model_module_version": "1.5.0",
          "state": {
            "_dom_classes": [],
            "_model_module": "@jupyter-widgets/controls",
            "_model_module_version": "1.5.0",
            "_model_name": "HBoxModel",
            "_view_count": null,
            "_view_module": "@jupyter-widgets/controls",
            "_view_module_version": "1.5.0",
            "_view_name": "HBoxView",
            "box_style": "",
            "children": [
              "IPY_MODEL_5b6fdeabc3284aa2b7048d915871d7f2",
              "IPY_MODEL_8cfb431b51a14badb86bca060a692322",
              "IPY_MODEL_ce833aa8b369416993d3859a64485061"
            ],
            "layout": "IPY_MODEL_2f8e92719c7e4218aa6b5237bf467fa4"
          }
        },
        "5b6fdeabc3284aa2b7048d915871d7f2": {
          "model_module": "@jupyter-widgets/controls",
          "model_name": "HTMLModel",
          "model_module_version": "1.5.0",
          "state": {
            "_dom_classes": [],
            "_model_module": "@jupyter-widgets/controls",
            "_model_module_version": "1.5.0",
            "_model_name": "HTMLModel",
            "_view_count": null,
            "_view_module": "@jupyter-widgets/controls",
            "_view_module_version": "1.5.0",
            "_view_name": "HTMLView",
            "description": "",
            "description_tooltip": null,
            "layout": "IPY_MODEL_e16bbc0e697748a9a1fbd724632c6899",
            "placeholder": "​",
            "style": "IPY_MODEL_fda2072bb6e544baa0355d0d0a5fde03",
            "value": "model.safetensors.index.json: 100%"
          }
        },
        "8cfb431b51a14badb86bca060a692322": {
          "model_module": "@jupyter-widgets/controls",
          "model_name": "FloatProgressModel",
          "model_module_version": "1.5.0",
          "state": {
            "_dom_classes": [],
            "_model_module": "@jupyter-widgets/controls",
            "_model_module_version": "1.5.0",
            "_model_name": "FloatProgressModel",
            "_view_count": null,
            "_view_module": "@jupyter-widgets/controls",
            "_view_module_version": "1.5.0",
            "_view_name": "ProgressView",
            "bar_style": "success",
            "description": "",
            "description_tooltip": null,
            "layout": "IPY_MODEL_4f75c24df821412597be62c31f830ed9",
            "max": 70128,
            "min": 0,
            "orientation": "horizontal",
            "style": "IPY_MODEL_eca3de83e6d84feb9ccad7972cbe7138",
            "value": 70128
          }
        },
        "ce833aa8b369416993d3859a64485061": {
          "model_module": "@jupyter-widgets/controls",
          "model_name": "HTMLModel",
          "model_module_version": "1.5.0",
          "state": {
            "_dom_classes": [],
            "_model_module": "@jupyter-widgets/controls",
            "_model_module_version": "1.5.0",
            "_model_name": "HTMLModel",
            "_view_count": null,
            "_view_module": "@jupyter-widgets/controls",
            "_view_module_version": "1.5.0",
            "_view_name": "HTMLView",
            "description": "",
            "description_tooltip": null,
            "layout": "IPY_MODEL_e325f9bfa743414786b0a4044da52eb3",
            "placeholder": "​",
            "style": "IPY_MODEL_c38279bf44cf4c7aad49b74554c4f82f",
            "value": " 70.1k/70.1k [00:00&lt;00:00, 858kB/s]"
          }
        },
        "2f8e92719c7e4218aa6b5237bf467fa4": {
          "model_module": "@jupyter-widgets/base",
          "model_name": "LayoutModel",
          "model_module_version": "1.2.0",
          "state": {
            "_model_module": "@jupyter-widgets/base",
            "_model_module_version": "1.2.0",
            "_model_name": "LayoutModel",
            "_view_count": null,
            "_view_module": "@jupyter-widgets/base",
            "_view_module_version": "1.2.0",
            "_view_name": "LayoutView",
            "align_content": null,
            "align_items": null,
            "align_self": null,
            "border": null,
            "bottom": null,
            "display": null,
            "flex": null,
            "flex_flow": null,
            "grid_area": null,
            "grid_auto_columns": null,
            "grid_auto_flow": null,
            "grid_auto_rows": null,
            "grid_column": null,
            "grid_gap": null,
            "grid_row": null,
            "grid_template_areas": null,
            "grid_template_columns": null,
            "grid_template_rows": null,
            "height": null,
            "justify_content": null,
            "justify_items": null,
            "left": null,
            "margin": null,
            "max_height": null,
            "max_width": null,
            "min_height": null,
            "min_width": null,
            "object_fit": null,
            "object_position": null,
            "order": null,
            "overflow": null,
            "overflow_x": null,
            "overflow_y": null,
            "padding": null,
            "right": null,
            "top": null,
            "visibility": null,
            "width": null
          }
        },
        "e16bbc0e697748a9a1fbd724632c6899": {
          "model_module": "@jupyter-widgets/base",
          "model_name": "LayoutModel",
          "model_module_version": "1.2.0",
          "state": {
            "_model_module": "@jupyter-widgets/base",
            "_model_module_version": "1.2.0",
            "_model_name": "LayoutModel",
            "_view_count": null,
            "_view_module": "@jupyter-widgets/base",
            "_view_module_version": "1.2.0",
            "_view_name": "LayoutView",
            "align_content": null,
            "align_items": null,
            "align_self": null,
            "border": null,
            "bottom": null,
            "display": null,
            "flex": null,
            "flex_flow": null,
            "grid_area": null,
            "grid_auto_columns": null,
            "grid_auto_flow": null,
            "grid_auto_rows": null,
            "grid_column": null,
            "grid_gap": null,
            "grid_row": null,
            "grid_template_areas": null,
            "grid_template_columns": null,
            "grid_template_rows": null,
            "height": null,
            "justify_content": null,
            "justify_items": null,
            "left": null,
            "margin": null,
            "max_height": null,
            "max_width": null,
            "min_height": null,
            "min_width": null,
            "object_fit": null,
            "object_position": null,
            "order": null,
            "overflow": null,
            "overflow_x": null,
            "overflow_y": null,
            "padding": null,
            "right": null,
            "top": null,
            "visibility": null,
            "width": null
          }
        },
        "fda2072bb6e544baa0355d0d0a5fde03": {
          "model_module": "@jupyter-widgets/controls",
          "model_name": "DescriptionStyleModel",
          "model_module_version": "1.5.0",
          "state": {
            "_model_module": "@jupyter-widgets/controls",
            "_model_module_version": "1.5.0",
            "_model_name": "DescriptionStyleModel",
            "_view_count": null,
            "_view_module": "@jupyter-widgets/base",
            "_view_module_version": "1.2.0",
            "_view_name": "StyleView",
            "description_width": ""
          }
        },
        "4f75c24df821412597be62c31f830ed9": {
          "model_module": "@jupyter-widgets/base",
          "model_name": "LayoutModel",
          "model_module_version": "1.2.0",
          "state": {
            "_model_module": "@jupyter-widgets/base",
            "_model_module_version": "1.2.0",
            "_model_name": "LayoutModel",
            "_view_count": null,
            "_view_module": "@jupyter-widgets/base",
            "_view_module_version": "1.2.0",
            "_view_name": "LayoutView",
            "align_content": null,
            "align_items": null,
            "align_self": null,
            "border": null,
            "bottom": null,
            "display": null,
            "flex": null,
            "flex_flow": null,
            "grid_area": null,
            "grid_auto_columns": null,
            "grid_auto_flow": null,
            "grid_auto_rows": null,
            "grid_column": null,
            "grid_gap": null,
            "grid_row": null,
            "grid_template_areas": null,
            "grid_template_columns": null,
            "grid_template_rows": null,
            "height": null,
            "justify_content": null,
            "justify_items": null,
            "left": null,
            "margin": null,
            "max_height": null,
            "max_width": null,
            "min_height": null,
            "min_width": null,
            "object_fit": null,
            "object_position": null,
            "order": null,
            "overflow": null,
            "overflow_x": null,
            "overflow_y": null,
            "padding": null,
            "right": null,
            "top": null,
            "visibility": null,
            "width": null
          }
        },
        "eca3de83e6d84feb9ccad7972cbe7138": {
          "model_module": "@jupyter-widgets/controls",
          "model_name": "ProgressStyleModel",
          "model_module_version": "1.5.0",
          "state": {
            "_model_module": "@jupyter-widgets/controls",
            "_model_module_version": "1.5.0",
            "_model_name": "ProgressStyleModel",
            "_view_count": null,
            "_view_module": "@jupyter-widgets/base",
            "_view_module_version": "1.2.0",
            "_view_name": "StyleView",
            "bar_color": null,
            "description_width": ""
          }
        },
        "e325f9bfa743414786b0a4044da52eb3": {
          "model_module": "@jupyter-widgets/base",
          "model_name": "LayoutModel",
          "model_module_version": "1.2.0",
          "state": {
            "_model_module": "@jupyter-widgets/base",
            "_model_module_version": "1.2.0",
            "_model_name": "LayoutModel",
            "_view_count": null,
            "_view_module": "@jupyter-widgets/base",
            "_view_module_version": "1.2.0",
            "_view_name": "LayoutView",
            "align_content": null,
            "align_items": null,
            "align_self": null,
            "border": null,
            "bottom": null,
            "display": null,
            "flex": null,
            "flex_flow": null,
            "grid_area": null,
            "grid_auto_columns": null,
            "grid_auto_flow": null,
            "grid_auto_rows": null,
            "grid_column": null,
            "grid_gap": null,
            "grid_row": null,
            "grid_template_areas": null,
            "grid_template_columns": null,
            "grid_template_rows": null,
            "height": null,
            "justify_content": null,
            "justify_items": null,
            "left": null,
            "margin": null,
            "max_height": null,
            "max_width": null,
            "min_height": null,
            "min_width": null,
            "object_fit": null,
            "object_position": null,
            "order": null,
            "overflow": null,
            "overflow_x": null,
            "overflow_y": null,
            "padding": null,
            "right": null,
            "top": null,
            "visibility": null,
            "width": null
          }
        },
        "c38279bf44cf4c7aad49b74554c4f82f": {
          "model_module": "@jupyter-widgets/controls",
          "model_name": "DescriptionStyleModel",
          "model_module_version": "1.5.0",
          "state": {
            "_model_module": "@jupyter-widgets/controls",
            "_model_module_version": "1.5.0",
            "_model_name": "DescriptionStyleModel",
            "_view_count": null,
            "_view_module": "@jupyter-widgets/base",
            "_view_module_version": "1.2.0",
            "_view_name": "StyleView",
            "description_width": ""
          }
        },
        "261e98de169b450a8bf995b2040d088a": {
          "model_module": "@jupyter-widgets/controls",
          "model_name": "HBoxModel",
          "model_module_version": "1.5.0",
          "state": {
            "_dom_classes": [],
            "_model_module": "@jupyter-widgets/controls",
            "_model_module_version": "1.5.0",
            "_model_name": "HBoxModel",
            "_view_count": null,
            "_view_module": "@jupyter-widgets/controls",
            "_view_module_version": "1.5.0",
            "_view_name": "HBoxView",
            "box_style": "",
            "children": [
              "IPY_MODEL_1bba787e076f4e79a4fbb9095880a7a1",
              "IPY_MODEL_c3abef179dc34c28b06f4bed712c218c",
              "IPY_MODEL_0086fea738dc4c45842d2778792bec99"
            ],
            "layout": "IPY_MODEL_03812ca375f647eababeb21912b0f251"
          }
        },
        "1bba787e076f4e79a4fbb9095880a7a1": {
          "model_module": "@jupyter-widgets/controls",
          "model_name": "HTMLModel",
          "model_module_version": "1.5.0",
          "state": {
            "_dom_classes": [],
            "_model_module": "@jupyter-widgets/controls",
            "_model_module_version": "1.5.0",
            "_model_name": "HTMLModel",
            "_view_count": null,
            "_view_module": "@jupyter-widgets/controls",
            "_view_module_version": "1.5.0",
            "_view_name": "HTMLView",
            "description": "",
            "description_tooltip": null,
            "layout": "IPY_MODEL_c83e5546e5204338aef9cf3d6f8f82be",
            "placeholder": "​",
            "style": "IPY_MODEL_e2c466a1998745c4b8364045ba585ba3",
            "value": "Fetching 3 files: 100%"
          }
        },
        "c3abef179dc34c28b06f4bed712c218c": {
          "model_module": "@jupyter-widgets/controls",
          "model_name": "FloatProgressModel",
          "model_module_version": "1.5.0",
          "state": {
            "_dom_classes": [],
            "_model_module": "@jupyter-widgets/controls",
            "_model_module_version": "1.5.0",
            "_model_name": "FloatProgressModel",
            "_view_count": null,
            "_view_module": "@jupyter-widgets/controls",
            "_view_module_version": "1.5.0",
            "_view_name": "ProgressView",
            "bar_style": "success",
            "description": "",
            "description_tooltip": null,
            "layout": "IPY_MODEL_8051c74455f548ea8d996e4682b52c61",
            "max": 3,
            "min": 0,
            "orientation": "horizontal",
            "style": "IPY_MODEL_9504f3184ce7405b85a33fe639cea348",
            "value": 3
          }
        },
        "0086fea738dc4c45842d2778792bec99": {
          "model_module": "@jupyter-widgets/controls",
          "model_name": "HTMLModel",
          "model_module_version": "1.5.0",
          "state": {
            "_dom_classes": [],
            "_model_module": "@jupyter-widgets/controls",
            "_model_module_version": "1.5.0",
            "_model_name": "HTMLModel",
            "_view_count": null,
            "_view_module": "@jupyter-widgets/controls",
            "_view_module_version": "1.5.0",
            "_view_name": "HTMLView",
            "description": "",
            "description_tooltip": null,
            "layout": "IPY_MODEL_65db4c3c7e204d3a92a90717d4b742f7",
            "placeholder": "​",
            "style": "IPY_MODEL_f084a3cd01d5426e990cba5abcb053cd",
            "value": " 3/3 [01:37&lt;00:00, 40.18s/it]"
          }
        },
        "03812ca375f647eababeb21912b0f251": {
          "model_module": "@jupyter-widgets/base",
          "model_name": "LayoutModel",
          "model_module_version": "1.2.0",
          "state": {
            "_model_module": "@jupyter-widgets/base",
            "_model_module_version": "1.2.0",
            "_model_name": "LayoutModel",
            "_view_count": null,
            "_view_module": "@jupyter-widgets/base",
            "_view_module_version": "1.2.0",
            "_view_name": "LayoutView",
            "align_content": null,
            "align_items": null,
            "align_self": null,
            "border": null,
            "bottom": null,
            "display": null,
            "flex": null,
            "flex_flow": null,
            "grid_area": null,
            "grid_auto_columns": null,
            "grid_auto_flow": null,
            "grid_auto_rows": null,
            "grid_column": null,
            "grid_gap": null,
            "grid_row": null,
            "grid_template_areas": null,
            "grid_template_columns": null,
            "grid_template_rows": null,
            "height": null,
            "justify_content": null,
            "justify_items": null,
            "left": null,
            "margin": null,
            "max_height": null,
            "max_width": null,
            "min_height": null,
            "min_width": null,
            "object_fit": null,
            "object_position": null,
            "order": null,
            "overflow": null,
            "overflow_x": null,
            "overflow_y": null,
            "padding": null,
            "right": null,
            "top": null,
            "visibility": null,
            "width": null
          }
        },
        "c83e5546e5204338aef9cf3d6f8f82be": {
          "model_module": "@jupyter-widgets/base",
          "model_name": "LayoutModel",
          "model_module_version": "1.2.0",
          "state": {
            "_model_module": "@jupyter-widgets/base",
            "_model_module_version": "1.2.0",
            "_model_name": "LayoutModel",
            "_view_count": null,
            "_view_module": "@jupyter-widgets/base",
            "_view_module_version": "1.2.0",
            "_view_name": "LayoutView",
            "align_content": null,
            "align_items": null,
            "align_self": null,
            "border": null,
            "bottom": null,
            "display": null,
            "flex": null,
            "flex_flow": null,
            "grid_area": null,
            "grid_auto_columns": null,
            "grid_auto_flow": null,
            "grid_auto_rows": null,
            "grid_column": null,
            "grid_gap": null,
            "grid_row": null,
            "grid_template_areas": null,
            "grid_template_columns": null,
            "grid_template_rows": null,
            "height": null,
            "justify_content": null,
            "justify_items": null,
            "left": null,
            "margin": null,
            "max_height": null,
            "max_width": null,
            "min_height": null,
            "min_width": null,
            "object_fit": null,
            "object_position": null,
            "order": null,
            "overflow": null,
            "overflow_x": null,
            "overflow_y": null,
            "padding": null,
            "right": null,
            "top": null,
            "visibility": null,
            "width": null
          }
        },
        "e2c466a1998745c4b8364045ba585ba3": {
          "model_module": "@jupyter-widgets/controls",
          "model_name": "DescriptionStyleModel",
          "model_module_version": "1.5.0",
          "state": {
            "_model_module": "@jupyter-widgets/controls",
            "_model_module_version": "1.5.0",
            "_model_name": "DescriptionStyleModel",
            "_view_count": null,
            "_view_module": "@jupyter-widgets/base",
            "_view_module_version": "1.2.0",
            "_view_name": "StyleView",
            "description_width": ""
          }
        },
        "8051c74455f548ea8d996e4682b52c61": {
          "model_module": "@jupyter-widgets/base",
          "model_name": "LayoutModel",
          "model_module_version": "1.2.0",
          "state": {
            "_model_module": "@jupyter-widgets/base",
            "_model_module_version": "1.2.0",
            "_model_name": "LayoutModel",
            "_view_count": null,
            "_view_module": "@jupyter-widgets/base",
            "_view_module_version": "1.2.0",
            "_view_name": "LayoutView",
            "align_content": null,
            "align_items": null,
            "align_self": null,
            "border": null,
            "bottom": null,
            "display": null,
            "flex": null,
            "flex_flow": null,
            "grid_area": null,
            "grid_auto_columns": null,
            "grid_auto_flow": null,
            "grid_auto_rows": null,
            "grid_column": null,
            "grid_gap": null,
            "grid_row": null,
            "grid_template_areas": null,
            "grid_template_columns": null,
            "grid_template_rows": null,
            "height": null,
            "justify_content": null,
            "justify_items": null,
            "left": null,
            "margin": null,
            "max_height": null,
            "max_width": null,
            "min_height": null,
            "min_width": null,
            "object_fit": null,
            "object_position": null,
            "order": null,
            "overflow": null,
            "overflow_x": null,
            "overflow_y": null,
            "padding": null,
            "right": null,
            "top": null,
            "visibility": null,
            "width": null
          }
        },
        "9504f3184ce7405b85a33fe639cea348": {
          "model_module": "@jupyter-widgets/controls",
          "model_name": "ProgressStyleModel",
          "model_module_version": "1.5.0",
          "state": {
            "_model_module": "@jupyter-widgets/controls",
            "_model_module_version": "1.5.0",
            "_model_name": "ProgressStyleModel",
            "_view_count": null,
            "_view_module": "@jupyter-widgets/base",
            "_view_module_version": "1.2.0",
            "_view_name": "StyleView",
            "bar_color": null,
            "description_width": ""
          }
        },
        "65db4c3c7e204d3a92a90717d4b742f7": {
          "model_module": "@jupyter-widgets/base",
          "model_name": "LayoutModel",
          "model_module_version": "1.2.0",
          "state": {
            "_model_module": "@jupyter-widgets/base",
            "_model_module_version": "1.2.0",
            "_model_name": "LayoutModel",
            "_view_count": null,
            "_view_module": "@jupyter-widgets/base",
            "_view_module_version": "1.2.0",
            "_view_name": "LayoutView",
            "align_content": null,
            "align_items": null,
            "align_self": null,
            "border": null,
            "bottom": null,
            "display": null,
            "flex": null,
            "flex_flow": null,
            "grid_area": null,
            "grid_auto_columns": null,
            "grid_auto_flow": null,
            "grid_auto_rows": null,
            "grid_column": null,
            "grid_gap": null,
            "grid_row": null,
            "grid_template_areas": null,
            "grid_template_columns": null,
            "grid_template_rows": null,
            "height": null,
            "justify_content": null,
            "justify_items": null,
            "left": null,
            "margin": null,
            "max_height": null,
            "max_width": null,
            "min_height": null,
            "min_width": null,
            "object_fit": null,
            "object_position": null,
            "order": null,
            "overflow": null,
            "overflow_x": null,
            "overflow_y": null,
            "padding": null,
            "right": null,
            "top": null,
            "visibility": null,
            "width": null
          }
        },
        "f084a3cd01d5426e990cba5abcb053cd": {
          "model_module": "@jupyter-widgets/controls",
          "model_name": "DescriptionStyleModel",
          "model_module_version": "1.5.0",
          "state": {
            "_model_module": "@jupyter-widgets/controls",
            "_model_module_version": "1.5.0",
            "_model_name": "DescriptionStyleModel",
            "_view_count": null,
            "_view_module": "@jupyter-widgets/base",
            "_view_module_version": "1.2.0",
            "_view_name": "StyleView",
            "description_width": ""
          }
        },
        "b70010d166ce4e9e818160fd8e9b1e8f": {
          "model_module": "@jupyter-widgets/controls",
          "model_name": "HBoxModel",
          "model_module_version": "1.5.0",
          "state": {
            "_dom_classes": [],
            "_model_module": "@jupyter-widgets/controls",
            "_model_module_version": "1.5.0",
            "_model_name": "HBoxModel",
            "_view_count": null,
            "_view_module": "@jupyter-widgets/controls",
            "_view_module_version": "1.5.0",
            "_view_name": "HBoxView",
            "box_style": "",
            "children": [
              "IPY_MODEL_07e988e98b884e698ec2f335ab8de72e",
              "IPY_MODEL_179a71cdda1845baa3e6927705cab1ee",
              "IPY_MODEL_03a8c68c7f424724a20399860dbb7627"
            ],
            "layout": "IPY_MODEL_900ed86d6f9d41628f89c89909957cf5"
          }
        },
        "07e988e98b884e698ec2f335ab8de72e": {
          "model_module": "@jupyter-widgets/controls",
          "model_name": "HTMLModel",
          "model_module_version": "1.5.0",
          "state": {
            "_dom_classes": [],
            "_model_module": "@jupyter-widgets/controls",
            "_model_module_version": "1.5.0",
            "_model_name": "HTMLModel",
            "_view_count": null,
            "_view_module": "@jupyter-widgets/controls",
            "_view_module_version": "1.5.0",
            "_view_name": "HTMLView",
            "description": "",
            "description_tooltip": null,
            "layout": "IPY_MODEL_d6e46ee9de034739a5b33a9aa419f6d7",
            "placeholder": "​",
            "style": "IPY_MODEL_bb9778bd48dc4815a32f298a8ecc70af",
            "value": "model-00003-of-00003.safetensors: 100%"
          }
        },
        "179a71cdda1845baa3e6927705cab1ee": {
          "model_module": "@jupyter-widgets/controls",
          "model_name": "FloatProgressModel",
          "model_module_version": "1.5.0",
          "state": {
            "_dom_classes": [],
            "_model_module": "@jupyter-widgets/controls",
            "_model_module_version": "1.5.0",
            "_model_name": "FloatProgressModel",
            "_view_count": null,
            "_view_module": "@jupyter-widgets/controls",
            "_view_module_version": "1.5.0",
            "_view_name": "ProgressView",
            "bar_style": "success",
            "description": "",
            "description_tooltip": null,
            "layout": "IPY_MODEL_38a06606c7774efd84a3a0759488537a",
            "max": 4176137408,
            "min": 0,
            "orientation": "horizontal",
            "style": "IPY_MODEL_8626b61eead3418bbca24651a7adf5d2",
            "value": 4176137408
          }
        },
        "03a8c68c7f424724a20399860dbb7627": {
          "model_module": "@jupyter-widgets/controls",
          "model_name": "HTMLModel",
          "model_module_version": "1.5.0",
          "state": {
            "_dom_classes": [],
            "_model_module": "@jupyter-widgets/controls",
            "_model_module_version": "1.5.0",
            "_model_name": "HTMLModel",
            "_view_count": null,
            "_view_module": "@jupyter-widgets/controls",
            "_view_module_version": "1.5.0",
            "_view_name": "HTMLView",
            "description": "",
            "description_tooltip": null,
            "layout": "IPY_MODEL_522757be66984b6b8e611e5eca160835",
            "placeholder": "​",
            "style": "IPY_MODEL_97ae06a0bb974914907e475648790f21",
            "value": " 4.18G/4.18G [01:27&lt;00:00, 80.4MB/s]"
          }
        },
        "900ed86d6f9d41628f89c89909957cf5": {
          "model_module": "@jupyter-widgets/base",
          "model_name": "LayoutModel",
          "model_module_version": "1.2.0",
          "state": {
            "_model_module": "@jupyter-widgets/base",
            "_model_module_version": "1.2.0",
            "_model_name": "LayoutModel",
            "_view_count": null,
            "_view_module": "@jupyter-widgets/base",
            "_view_module_version": "1.2.0",
            "_view_name": "LayoutView",
            "align_content": null,
            "align_items": null,
            "align_self": null,
            "border": null,
            "bottom": null,
            "display": null,
            "flex": null,
            "flex_flow": null,
            "grid_area": null,
            "grid_auto_columns": null,
            "grid_auto_flow": null,
            "grid_auto_rows": null,
            "grid_column": null,
            "grid_gap": null,
            "grid_row": null,
            "grid_template_areas": null,
            "grid_template_columns": null,
            "grid_template_rows": null,
            "height": null,
            "justify_content": null,
            "justify_items": null,
            "left": null,
            "margin": null,
            "max_height": null,
            "max_width": null,
            "min_height": null,
            "min_width": null,
            "object_fit": null,
            "object_position": null,
            "order": null,
            "overflow": null,
            "overflow_x": null,
            "overflow_y": null,
            "padding": null,
            "right": null,
            "top": null,
            "visibility": null,
            "width": null
          }
        },
        "d6e46ee9de034739a5b33a9aa419f6d7": {
          "model_module": "@jupyter-widgets/base",
          "model_name": "LayoutModel",
          "model_module_version": "1.2.0",
          "state": {
            "_model_module": "@jupyter-widgets/base",
            "_model_module_version": "1.2.0",
            "_model_name": "LayoutModel",
            "_view_count": null,
            "_view_module": "@jupyter-widgets/base",
            "_view_module_version": "1.2.0",
            "_view_name": "LayoutView",
            "align_content": null,
            "align_items": null,
            "align_self": null,
            "border": null,
            "bottom": null,
            "display": null,
            "flex": null,
            "flex_flow": null,
            "grid_area": null,
            "grid_auto_columns": null,
            "grid_auto_flow": null,
            "grid_auto_rows": null,
            "grid_column": null,
            "grid_gap": null,
            "grid_row": null,
            "grid_template_areas": null,
            "grid_template_columns": null,
            "grid_template_rows": null,
            "height": null,
            "justify_content": null,
            "justify_items": null,
            "left": null,
            "margin": null,
            "max_height": null,
            "max_width": null,
            "min_height": null,
            "min_width": null,
            "object_fit": null,
            "object_position": null,
            "order": null,
            "overflow": null,
            "overflow_x": null,
            "overflow_y": null,
            "padding": null,
            "right": null,
            "top": null,
            "visibility": null,
            "width": null
          }
        },
        "bb9778bd48dc4815a32f298a8ecc70af": {
          "model_module": "@jupyter-widgets/controls",
          "model_name": "DescriptionStyleModel",
          "model_module_version": "1.5.0",
          "state": {
            "_model_module": "@jupyter-widgets/controls",
            "_model_module_version": "1.5.0",
            "_model_name": "DescriptionStyleModel",
            "_view_count": null,
            "_view_module": "@jupyter-widgets/base",
            "_view_module_version": "1.2.0",
            "_view_name": "StyleView",
            "description_width": ""
          }
        },
        "38a06606c7774efd84a3a0759488537a": {
          "model_module": "@jupyter-widgets/base",
          "model_name": "LayoutModel",
          "model_module_version": "1.2.0",
          "state": {
            "_model_module": "@jupyter-widgets/base",
            "_model_module_version": "1.2.0",
            "_model_name": "LayoutModel",
            "_view_count": null,
            "_view_module": "@jupyter-widgets/base",
            "_view_module_version": "1.2.0",
            "_view_name": "LayoutView",
            "align_content": null,
            "align_items": null,
            "align_self": null,
            "border": null,
            "bottom": null,
            "display": null,
            "flex": null,
            "flex_flow": null,
            "grid_area": null,
            "grid_auto_columns": null,
            "grid_auto_flow": null,
            "grid_auto_rows": null,
            "grid_column": null,
            "grid_gap": null,
            "grid_row": null,
            "grid_template_areas": null,
            "grid_template_columns": null,
            "grid_template_rows": null,
            "height": null,
            "justify_content": null,
            "justify_items": null,
            "left": null,
            "margin": null,
            "max_height": null,
            "max_width": null,
            "min_height": null,
            "min_width": null,
            "object_fit": null,
            "object_position": null,
            "order": null,
            "overflow": null,
            "overflow_x": null,
            "overflow_y": null,
            "padding": null,
            "right": null,
            "top": null,
            "visibility": null,
            "width": null
          }
        },
        "8626b61eead3418bbca24651a7adf5d2": {
          "model_module": "@jupyter-widgets/controls",
          "model_name": "ProgressStyleModel",
          "model_module_version": "1.5.0",
          "state": {
            "_model_module": "@jupyter-widgets/controls",
            "_model_module_version": "1.5.0",
            "_model_name": "ProgressStyleModel",
            "_view_count": null,
            "_view_module": "@jupyter-widgets/base",
            "_view_module_version": "1.2.0",
            "_view_name": "StyleView",
            "bar_color": null,
            "description_width": ""
          }
        },
        "522757be66984b6b8e611e5eca160835": {
          "model_module": "@jupyter-widgets/base",
          "model_name": "LayoutModel",
          "model_module_version": "1.2.0",
          "state": {
            "_model_module": "@jupyter-widgets/base",
            "_model_module_version": "1.2.0",
            "_model_name": "LayoutModel",
            "_view_count": null,
            "_view_module": "@jupyter-widgets/base",
            "_view_module_version": "1.2.0",
            "_view_name": "LayoutView",
            "align_content": null,
            "align_items": null,
            "align_self": null,
            "border": null,
            "bottom": null,
            "display": null,
            "flex": null,
            "flex_flow": null,
            "grid_area": null,
            "grid_auto_columns": null,
            "grid_auto_flow": null,
            "grid_auto_rows": null,
            "grid_column": null,
            "grid_gap": null,
            "grid_row": null,
            "grid_template_areas": null,
            "grid_template_columns": null,
            "grid_template_rows": null,
            "height": null,
            "justify_content": null,
            "justify_items": null,
            "left": null,
            "margin": null,
            "max_height": null,
            "max_width": null,
            "min_height": null,
            "min_width": null,
            "object_fit": null,
            "object_position": null,
            "order": null,
            "overflow": null,
            "overflow_x": null,
            "overflow_y": null,
            "padding": null,
            "right": null,
            "top": null,
            "visibility": null,
            "width": null
          }
        },
        "97ae06a0bb974914907e475648790f21": {
          "model_module": "@jupyter-widgets/controls",
          "model_name": "DescriptionStyleModel",
          "model_module_version": "1.5.0",
          "state": {
            "_model_module": "@jupyter-widgets/controls",
            "_model_module_version": "1.5.0",
            "_model_name": "DescriptionStyleModel",
            "_view_count": null,
            "_view_module": "@jupyter-widgets/base",
            "_view_module_version": "1.2.0",
            "_view_name": "StyleView",
            "description_width": ""
          }
        },
        "33554eddbcc743ce95a137f006163931": {
          "model_module": "@jupyter-widgets/controls",
          "model_name": "HBoxModel",
          "model_module_version": "1.5.0",
          "state": {
            "_dom_classes": [],
            "_model_module": "@jupyter-widgets/controls",
            "_model_module_version": "1.5.0",
            "_model_name": "HBoxModel",
            "_view_count": null,
            "_view_module": "@jupyter-widgets/controls",
            "_view_module_version": "1.5.0",
            "_view_name": "HBoxView",
            "box_style": "",
            "children": [
              "IPY_MODEL_95172cd0dbec4256aa86e13e9fffeb01",
              "IPY_MODEL_ad6c715325104b8ba5954efed8811f30",
              "IPY_MODEL_39d6001328604d609225c5fbafd9a52b"
            ],
            "layout": "IPY_MODEL_30d2eda38f9b46a4a0e4a8f4d237b851"
          }
        },
        "95172cd0dbec4256aa86e13e9fffeb01": {
          "model_module": "@jupyter-widgets/controls",
          "model_name": "HTMLModel",
          "model_module_version": "1.5.0",
          "state": {
            "_dom_classes": [],
            "_model_module": "@jupyter-widgets/controls",
            "_model_module_version": "1.5.0",
            "_model_name": "HTMLModel",
            "_view_count": null,
            "_view_module": "@jupyter-widgets/controls",
            "_view_module_version": "1.5.0",
            "_view_name": "HTMLView",
            "description": "",
            "description_tooltip": null,
            "layout": "IPY_MODEL_b18051a649274f0c8ae587a7ae32430d",
            "placeholder": "​",
            "style": "IPY_MODEL_40443cf776e44ec384ae5f2e379e482c",
            "value": "model-00001-of-00003.safetensors: 100%"
          }
        },
        "ad6c715325104b8ba5954efed8811f30": {
          "model_module": "@jupyter-widgets/controls",
          "model_name": "FloatProgressModel",
          "model_module_version": "1.5.0",
          "state": {
            "_dom_classes": [],
            "_model_module": "@jupyter-widgets/controls",
            "_model_module_version": "1.5.0",
            "_model_name": "FloatProgressModel",
            "_view_count": null,
            "_view_module": "@jupyter-widgets/controls",
            "_view_module_version": "1.5.0",
            "_view_name": "ProgressView",
            "bar_style": "success",
            "description": "",
            "description_tooltip": null,
            "layout": "IPY_MODEL_325b25c6ff3941aaaac2b8cd7366be94",
            "max": 4992930200,
            "min": 0,
            "orientation": "horizontal",
            "style": "IPY_MODEL_cc61c172880d46e49ef637fd6713e26b",
            "value": 4992930200
          }
        },
        "39d6001328604d609225c5fbafd9a52b": {
          "model_module": "@jupyter-widgets/controls",
          "model_name": "HTMLModel",
          "model_module_version": "1.5.0",
          "state": {
            "_dom_classes": [],
            "_model_module": "@jupyter-widgets/controls",
            "_model_module_version": "1.5.0",
            "_model_name": "HTMLModel",
            "_view_count": null,
            "_view_module": "@jupyter-widgets/controls",
            "_view_module_version": "1.5.0",
            "_view_name": "HTMLView",
            "description": "",
            "description_tooltip": null,
            "layout": "IPY_MODEL_acc08efd80ac4ff6a8a4337aebfd2a08",
            "placeholder": "​",
            "style": "IPY_MODEL_2ae88a143a1c4985ba531e7a096bae28",
            "value": " 4.99G/4.99G [01:37&lt;00:00, 20.9MB/s]"
          }
        },
        "30d2eda38f9b46a4a0e4a8f4d237b851": {
          "model_module": "@jupyter-widgets/base",
          "model_name": "LayoutModel",
          "model_module_version": "1.2.0",
          "state": {
            "_model_module": "@jupyter-widgets/base",
            "_model_module_version": "1.2.0",
            "_model_name": "LayoutModel",
            "_view_count": null,
            "_view_module": "@jupyter-widgets/base",
            "_view_module_version": "1.2.0",
            "_view_name": "LayoutView",
            "align_content": null,
            "align_items": null,
            "align_self": null,
            "border": null,
            "bottom": null,
            "display": null,
            "flex": null,
            "flex_flow": null,
            "grid_area": null,
            "grid_auto_columns": null,
            "grid_auto_flow": null,
            "grid_auto_rows": null,
            "grid_column": null,
            "grid_gap": null,
            "grid_row": null,
            "grid_template_areas": null,
            "grid_template_columns": null,
            "grid_template_rows": null,
            "height": null,
            "justify_content": null,
            "justify_items": null,
            "left": null,
            "margin": null,
            "max_height": null,
            "max_width": null,
            "min_height": null,
            "min_width": null,
            "object_fit": null,
            "object_position": null,
            "order": null,
            "overflow": null,
            "overflow_x": null,
            "overflow_y": null,
            "padding": null,
            "right": null,
            "top": null,
            "visibility": null,
            "width": null
          }
        },
        "b18051a649274f0c8ae587a7ae32430d": {
          "model_module": "@jupyter-widgets/base",
          "model_name": "LayoutModel",
          "model_module_version": "1.2.0",
          "state": {
            "_model_module": "@jupyter-widgets/base",
            "_model_module_version": "1.2.0",
            "_model_name": "LayoutModel",
            "_view_count": null,
            "_view_module": "@jupyter-widgets/base",
            "_view_module_version": "1.2.0",
            "_view_name": "LayoutView",
            "align_content": null,
            "align_items": null,
            "align_self": null,
            "border": null,
            "bottom": null,
            "display": null,
            "flex": null,
            "flex_flow": null,
            "grid_area": null,
            "grid_auto_columns": null,
            "grid_auto_flow": null,
            "grid_auto_rows": null,
            "grid_column": null,
            "grid_gap": null,
            "grid_row": null,
            "grid_template_areas": null,
            "grid_template_columns": null,
            "grid_template_rows": null,
            "height": null,
            "justify_content": null,
            "justify_items": null,
            "left": null,
            "margin": null,
            "max_height": null,
            "max_width": null,
            "min_height": null,
            "min_width": null,
            "object_fit": null,
            "object_position": null,
            "order": null,
            "overflow": null,
            "overflow_x": null,
            "overflow_y": null,
            "padding": null,
            "right": null,
            "top": null,
            "visibility": null,
            "width": null
          }
        },
        "40443cf776e44ec384ae5f2e379e482c": {
          "model_module": "@jupyter-widgets/controls",
          "model_name": "DescriptionStyleModel",
          "model_module_version": "1.5.0",
          "state": {
            "_model_module": "@jupyter-widgets/controls",
            "_model_module_version": "1.5.0",
            "_model_name": "DescriptionStyleModel",
            "_view_count": null,
            "_view_module": "@jupyter-widgets/base",
            "_view_module_version": "1.2.0",
            "_view_name": "StyleView",
            "description_width": ""
          }
        },
        "325b25c6ff3941aaaac2b8cd7366be94": {
          "model_module": "@jupyter-widgets/base",
          "model_name": "LayoutModel",
          "model_module_version": "1.2.0",
          "state": {
            "_model_module": "@jupyter-widgets/base",
            "_model_module_version": "1.2.0",
            "_model_name": "LayoutModel",
            "_view_count": null,
            "_view_module": "@jupyter-widgets/base",
            "_view_module_version": "1.2.0",
            "_view_name": "LayoutView",
            "align_content": null,
            "align_items": null,
            "align_self": null,
            "border": null,
            "bottom": null,
            "display": null,
            "flex": null,
            "flex_flow": null,
            "grid_area": null,
            "grid_auto_columns": null,
            "grid_auto_flow": null,
            "grid_auto_rows": null,
            "grid_column": null,
            "grid_gap": null,
            "grid_row": null,
            "grid_template_areas": null,
            "grid_template_columns": null,
            "grid_template_rows": null,
            "height": null,
            "justify_content": null,
            "justify_items": null,
            "left": null,
            "margin": null,
            "max_height": null,
            "max_width": null,
            "min_height": null,
            "min_width": null,
            "object_fit": null,
            "object_position": null,
            "order": null,
            "overflow": null,
            "overflow_x": null,
            "overflow_y": null,
            "padding": null,
            "right": null,
            "top": null,
            "visibility": null,
            "width": null
          }
        },
        "cc61c172880d46e49ef637fd6713e26b": {
          "model_module": "@jupyter-widgets/controls",
          "model_name": "ProgressStyleModel",
          "model_module_version": "1.5.0",
          "state": {
            "_model_module": "@jupyter-widgets/controls",
            "_model_module_version": "1.5.0",
            "_model_name": "ProgressStyleModel",
            "_view_count": null,
            "_view_module": "@jupyter-widgets/base",
            "_view_module_version": "1.2.0",
            "_view_name": "StyleView",
            "bar_color": null,
            "description_width": ""
          }
        },
        "acc08efd80ac4ff6a8a4337aebfd2a08": {
          "model_module": "@jupyter-widgets/base",
          "model_name": "LayoutModel",
          "model_module_version": "1.2.0",
          "state": {
            "_model_module": "@jupyter-widgets/base",
            "_model_module_version": "1.2.0",
            "_model_name": "LayoutModel",
            "_view_count": null,
            "_view_module": "@jupyter-widgets/base",
            "_view_module_version": "1.2.0",
            "_view_name": "LayoutView",
            "align_content": null,
            "align_items": null,
            "align_self": null,
            "border": null,
            "bottom": null,
            "display": null,
            "flex": null,
            "flex_flow": null,
            "grid_area": null,
            "grid_auto_columns": null,
            "grid_auto_flow": null,
            "grid_auto_rows": null,
            "grid_column": null,
            "grid_gap": null,
            "grid_row": null,
            "grid_template_areas": null,
            "grid_template_columns": null,
            "grid_template_rows": null,
            "height": null,
            "justify_content": null,
            "justify_items": null,
            "left": null,
            "margin": null,
            "max_height": null,
            "max_width": null,
            "min_height": null,
            "min_width": null,
            "object_fit": null,
            "object_position": null,
            "order": null,
            "overflow": null,
            "overflow_x": null,
            "overflow_y": null,
            "padding": null,
            "right": null,
            "top": null,
            "visibility": null,
            "width": null
          }
        },
        "2ae88a143a1c4985ba531e7a096bae28": {
          "model_module": "@jupyter-widgets/controls",
          "model_name": "DescriptionStyleModel",
          "model_module_version": "1.5.0",
          "state": {
            "_model_module": "@jupyter-widgets/controls",
            "_model_module_version": "1.5.0",
            "_model_name": "DescriptionStyleModel",
            "_view_count": null,
            "_view_module": "@jupyter-widgets/base",
            "_view_module_version": "1.2.0",
            "_view_name": "StyleView",
            "description_width": ""
          }
        },
        "cbf618416c314cb599125bf2922bd4fe": {
          "model_module": "@jupyter-widgets/controls",
          "model_name": "HBoxModel",
          "model_module_version": "1.5.0",
          "state": {
            "_dom_classes": [],
            "_model_module": "@jupyter-widgets/controls",
            "_model_module_version": "1.5.0",
            "_model_name": "HBoxModel",
            "_view_count": null,
            "_view_module": "@jupyter-widgets/controls",
            "_view_module_version": "1.5.0",
            "_view_name": "HBoxView",
            "box_style": "",
            "children": [
              "IPY_MODEL_a946db71d83f47cf83ec4178ee84304c",
              "IPY_MODEL_24861925fb3a4784adafb3ab528404fb",
              "IPY_MODEL_cc5071d854cb456bb64078e8f142a5ff"
            ],
            "layout": "IPY_MODEL_e97c3547fb3c41d99328da55223d1de0"
          }
        },
        "a946db71d83f47cf83ec4178ee84304c": {
          "model_module": "@jupyter-widgets/controls",
          "model_name": "HTMLModel",
          "model_module_version": "1.5.0",
          "state": {
            "_dom_classes": [],
            "_model_module": "@jupyter-widgets/controls",
            "_model_module_version": "1.5.0",
            "_model_name": "HTMLModel",
            "_view_count": null,
            "_view_module": "@jupyter-widgets/controls",
            "_view_module_version": "1.5.0",
            "_view_name": "HTMLView",
            "description": "",
            "description_tooltip": null,
            "layout": "IPY_MODEL_2c2c15e2c02f46f5b89c68f4b6d31e00",
            "placeholder": "​",
            "style": "IPY_MODEL_d52202e4d70c4ded801e41654422db80",
            "value": "model-00002-of-00003.safetensors: 100%"
          }
        },
        "24861925fb3a4784adafb3ab528404fb": {
          "model_module": "@jupyter-widgets/controls",
          "model_name": "FloatProgressModel",
          "model_module_version": "1.5.0",
          "state": {
            "_dom_classes": [],
            "_model_module": "@jupyter-widgets/controls",
            "_model_module_version": "1.5.0",
            "_model_name": "FloatProgressModel",
            "_view_count": null,
            "_view_module": "@jupyter-widgets/controls",
            "_view_module_version": "1.5.0",
            "_view_name": "ProgressView",
            "bar_style": "success",
            "description": "",
            "description_tooltip": null,
            "layout": "IPY_MODEL_40b5b865fecc4e679652b950e56a0332",
            "max": 4957878440,
            "min": 0,
            "orientation": "horizontal",
            "style": "IPY_MODEL_e652549ce58140e296620a7208ae2fc1",
            "value": 4957878440
          }
        },
        "cc5071d854cb456bb64078e8f142a5ff": {
          "model_module": "@jupyter-widgets/controls",
          "model_name": "HTMLModel",
          "model_module_version": "1.5.0",
          "state": {
            "_dom_classes": [],
            "_model_module": "@jupyter-widgets/controls",
            "_model_module_version": "1.5.0",
            "_model_name": "HTMLModel",
            "_view_count": null,
            "_view_module": "@jupyter-widgets/controls",
            "_view_module_version": "1.5.0",
            "_view_name": "HTMLView",
            "description": "",
            "description_tooltip": null,
            "layout": "IPY_MODEL_a3b264b7088246108a4bd9e2260a8bea",
            "placeholder": "​",
            "style": "IPY_MODEL_462e269c78dc44fa9bc51fdc71c3edd5",
            "value": " 4.96G/4.96G [01:37&lt;00:00, 44.9MB/s]"
          }
        },
        "e97c3547fb3c41d99328da55223d1de0": {
          "model_module": "@jupyter-widgets/base",
          "model_name": "LayoutModel",
          "model_module_version": "1.2.0",
          "state": {
            "_model_module": "@jupyter-widgets/base",
            "_model_module_version": "1.2.0",
            "_model_name": "LayoutModel",
            "_view_count": null,
            "_view_module": "@jupyter-widgets/base",
            "_view_module_version": "1.2.0",
            "_view_name": "LayoutView",
            "align_content": null,
            "align_items": null,
            "align_self": null,
            "border": null,
            "bottom": null,
            "display": null,
            "flex": null,
            "flex_flow": null,
            "grid_area": null,
            "grid_auto_columns": null,
            "grid_auto_flow": null,
            "grid_auto_rows": null,
            "grid_column": null,
            "grid_gap": null,
            "grid_row": null,
            "grid_template_areas": null,
            "grid_template_columns": null,
            "grid_template_rows": null,
            "height": null,
            "justify_content": null,
            "justify_items": null,
            "left": null,
            "margin": null,
            "max_height": null,
            "max_width": null,
            "min_height": null,
            "min_width": null,
            "object_fit": null,
            "object_position": null,
            "order": null,
            "overflow": null,
            "overflow_x": null,
            "overflow_y": null,
            "padding": null,
            "right": null,
            "top": null,
            "visibility": null,
            "width": null
          }
        },
        "2c2c15e2c02f46f5b89c68f4b6d31e00": {
          "model_module": "@jupyter-widgets/base",
          "model_name": "LayoutModel",
          "model_module_version": "1.2.0",
          "state": {
            "_model_module": "@jupyter-widgets/base",
            "_model_module_version": "1.2.0",
            "_model_name": "LayoutModel",
            "_view_count": null,
            "_view_module": "@jupyter-widgets/base",
            "_view_module_version": "1.2.0",
            "_view_name": "LayoutView",
            "align_content": null,
            "align_items": null,
            "align_self": null,
            "border": null,
            "bottom": null,
            "display": null,
            "flex": null,
            "flex_flow": null,
            "grid_area": null,
            "grid_auto_columns": null,
            "grid_auto_flow": null,
            "grid_auto_rows": null,
            "grid_column": null,
            "grid_gap": null,
            "grid_row": null,
            "grid_template_areas": null,
            "grid_template_columns": null,
            "grid_template_rows": null,
            "height": null,
            "justify_content": null,
            "justify_items": null,
            "left": null,
            "margin": null,
            "max_height": null,
            "max_width": null,
            "min_height": null,
            "min_width": null,
            "object_fit": null,
            "object_position": null,
            "order": null,
            "overflow": null,
            "overflow_x": null,
            "overflow_y": null,
            "padding": null,
            "right": null,
            "top": null,
            "visibility": null,
            "width": null
          }
        },
        "d52202e4d70c4ded801e41654422db80": {
          "model_module": "@jupyter-widgets/controls",
          "model_name": "DescriptionStyleModel",
          "model_module_version": "1.5.0",
          "state": {
            "_model_module": "@jupyter-widgets/controls",
            "_model_module_version": "1.5.0",
            "_model_name": "DescriptionStyleModel",
            "_view_count": null,
            "_view_module": "@jupyter-widgets/base",
            "_view_module_version": "1.2.0",
            "_view_name": "StyleView",
            "description_width": ""
          }
        },
        "40b5b865fecc4e679652b950e56a0332": {
          "model_module": "@jupyter-widgets/base",
          "model_name": "LayoutModel",
          "model_module_version": "1.2.0",
          "state": {
            "_model_module": "@jupyter-widgets/base",
            "_model_module_version": "1.2.0",
            "_model_name": "LayoutModel",
            "_view_count": null,
            "_view_module": "@jupyter-widgets/base",
            "_view_module_version": "1.2.0",
            "_view_name": "LayoutView",
            "align_content": null,
            "align_items": null,
            "align_self": null,
            "border": null,
            "bottom": null,
            "display": null,
            "flex": null,
            "flex_flow": null,
            "grid_area": null,
            "grid_auto_columns": null,
            "grid_auto_flow": null,
            "grid_auto_rows": null,
            "grid_column": null,
            "grid_gap": null,
            "grid_row": null,
            "grid_template_areas": null,
            "grid_template_columns": null,
            "grid_template_rows": null,
            "height": null,
            "justify_content": null,
            "justify_items": null,
            "left": null,
            "margin": null,
            "max_height": null,
            "max_width": null,
            "min_height": null,
            "min_width": null,
            "object_fit": null,
            "object_position": null,
            "order": null,
            "overflow": null,
            "overflow_x": null,
            "overflow_y": null,
            "padding": null,
            "right": null,
            "top": null,
            "visibility": null,
            "width": null
          }
        },
        "e652549ce58140e296620a7208ae2fc1": {
          "model_module": "@jupyter-widgets/controls",
          "model_name": "ProgressStyleModel",
          "model_module_version": "1.5.0",
          "state": {
            "_model_module": "@jupyter-widgets/controls",
            "_model_module_version": "1.5.0",
            "_model_name": "ProgressStyleModel",
            "_view_count": null,
            "_view_module": "@jupyter-widgets/base",
            "_view_module_version": "1.2.0",
            "_view_name": "StyleView",
            "bar_color": null,
            "description_width": ""
          }
        },
        "a3b264b7088246108a4bd9e2260a8bea": {
          "model_module": "@jupyter-widgets/base",
          "model_name": "LayoutModel",
          "model_module_version": "1.2.0",
          "state": {
            "_model_module": "@jupyter-widgets/base",
            "_model_module_version": "1.2.0",
            "_model_name": "LayoutModel",
            "_view_count": null,
            "_view_module": "@jupyter-widgets/base",
            "_view_module_version": "1.2.0",
            "_view_name": "LayoutView",
            "align_content": null,
            "align_items": null,
            "align_self": null,
            "border": null,
            "bottom": null,
            "display": null,
            "flex": null,
            "flex_flow": null,
            "grid_area": null,
            "grid_auto_columns": null,
            "grid_auto_flow": null,
            "grid_auto_rows": null,
            "grid_column": null,
            "grid_gap": null,
            "grid_row": null,
            "grid_template_areas": null,
            "grid_template_columns": null,
            "grid_template_rows": null,
            "height": null,
            "justify_content": null,
            "justify_items": null,
            "left": null,
            "margin": null,
            "max_height": null,
            "max_width": null,
            "min_height": null,
            "min_width": null,
            "object_fit": null,
            "object_position": null,
            "order": null,
            "overflow": null,
            "overflow_x": null,
            "overflow_y": null,
            "padding": null,
            "right": null,
            "top": null,
            "visibility": null,
            "width": null
          }
        },
        "462e269c78dc44fa9bc51fdc71c3edd5": {
          "model_module": "@jupyter-widgets/controls",
          "model_name": "DescriptionStyleModel",
          "model_module_version": "1.5.0",
          "state": {
            "_model_module": "@jupyter-widgets/controls",
            "_model_module_version": "1.5.0",
            "_model_name": "DescriptionStyleModel",
            "_view_count": null,
            "_view_module": "@jupyter-widgets/base",
            "_view_module_version": "1.2.0",
            "_view_name": "StyleView",
            "description_width": ""
          }
        },
        "ff4161a6c8014315b7bb0bebcf16ee4a": {
          "model_module": "@jupyter-widgets/controls",
          "model_name": "HBoxModel",
          "model_module_version": "1.5.0",
          "state": {
            "_dom_classes": [],
            "_model_module": "@jupyter-widgets/controls",
            "_model_module_version": "1.5.0",
            "_model_name": "HBoxModel",
            "_view_count": null,
            "_view_module": "@jupyter-widgets/controls",
            "_view_module_version": "1.5.0",
            "_view_name": "HBoxView",
            "box_style": "",
            "children": [
              "IPY_MODEL_fa76591847a04510b6b847a6819284e5",
              "IPY_MODEL_b1b20d6f85a54836831c63197cd648d9",
              "IPY_MODEL_0d45a493c9774e7b8deb52ca9c31e1d9"
            ],
            "layout": "IPY_MODEL_eaf2abdf3a274bd7b3d179f5fa677bce"
          }
        },
        "fa76591847a04510b6b847a6819284e5": {
          "model_module": "@jupyter-widgets/controls",
          "model_name": "HTMLModel",
          "model_module_version": "1.5.0",
          "state": {
            "_dom_classes": [],
            "_model_module": "@jupyter-widgets/controls",
            "_model_module_version": "1.5.0",
            "_model_name": "HTMLModel",
            "_view_count": null,
            "_view_module": "@jupyter-widgets/controls",
            "_view_module_version": "1.5.0",
            "_view_name": "HTMLView",
            "description": "",
            "description_tooltip": null,
            "layout": "IPY_MODEL_53629020296f4e52b74bf39b267316fc",
            "placeholder": "​",
            "style": "IPY_MODEL_0ac7f44a8730440b8f8cd069cee41a43",
            "value": "Loading checkpoint shards: 100%"
          }
        },
        "b1b20d6f85a54836831c63197cd648d9": {
          "model_module": "@jupyter-widgets/controls",
          "model_name": "FloatProgressModel",
          "model_module_version": "1.5.0",
          "state": {
            "_dom_classes": [],
            "_model_module": "@jupyter-widgets/controls",
            "_model_module_version": "1.5.0",
            "_model_name": "FloatProgressModel",
            "_view_count": null,
            "_view_module": "@jupyter-widgets/controls",
            "_view_module_version": "1.5.0",
            "_view_name": "ProgressView",
            "bar_style": "success",
            "description": "",
            "description_tooltip": null,
            "layout": "IPY_MODEL_7b1447fc95c64a64abe3542effee9b2d",
            "max": 3,
            "min": 0,
            "orientation": "horizontal",
            "style": "IPY_MODEL_8a0d5c21d4874b83add7baa791c7f639",
            "value": 3
          }
        },
        "0d45a493c9774e7b8deb52ca9c31e1d9": {
          "model_module": "@jupyter-widgets/controls",
          "model_name": "HTMLModel",
          "model_module_version": "1.5.0",
          "state": {
            "_dom_classes": [],
            "_model_module": "@jupyter-widgets/controls",
            "_model_module_version": "1.5.0",
            "_model_name": "HTMLModel",
            "_view_count": null,
            "_view_module": "@jupyter-widgets/controls",
            "_view_module_version": "1.5.0",
            "_view_name": "HTMLView",
            "description": "",
            "description_tooltip": null,
            "layout": "IPY_MODEL_b4cbae3001274abdadd050938bc375b1",
            "placeholder": "​",
            "style": "IPY_MODEL_0700413993f04d5f91c06238e1465eb8",
            "value": " 3/3 [01:10&lt;00:00, 22.80s/it]"
          }
        },
        "eaf2abdf3a274bd7b3d179f5fa677bce": {
          "model_module": "@jupyter-widgets/base",
          "model_name": "LayoutModel",
          "model_module_version": "1.2.0",
          "state": {
            "_model_module": "@jupyter-widgets/base",
            "_model_module_version": "1.2.0",
            "_model_name": "LayoutModel",
            "_view_count": null,
            "_view_module": "@jupyter-widgets/base",
            "_view_module_version": "1.2.0",
            "_view_name": "LayoutView",
            "align_content": null,
            "align_items": null,
            "align_self": null,
            "border": null,
            "bottom": null,
            "display": null,
            "flex": null,
            "flex_flow": null,
            "grid_area": null,
            "grid_auto_columns": null,
            "grid_auto_flow": null,
            "grid_auto_rows": null,
            "grid_column": null,
            "grid_gap": null,
            "grid_row": null,
            "grid_template_areas": null,
            "grid_template_columns": null,
            "grid_template_rows": null,
            "height": null,
            "justify_content": null,
            "justify_items": null,
            "left": null,
            "margin": null,
            "max_height": null,
            "max_width": null,
            "min_height": null,
            "min_width": null,
            "object_fit": null,
            "object_position": null,
            "order": null,
            "overflow": null,
            "overflow_x": null,
            "overflow_y": null,
            "padding": null,
            "right": null,
            "top": null,
            "visibility": null,
            "width": null
          }
        },
        "53629020296f4e52b74bf39b267316fc": {
          "model_module": "@jupyter-widgets/base",
          "model_name": "LayoutModel",
          "model_module_version": "1.2.0",
          "state": {
            "_model_module": "@jupyter-widgets/base",
            "_model_module_version": "1.2.0",
            "_model_name": "LayoutModel",
            "_view_count": null,
            "_view_module": "@jupyter-widgets/base",
            "_view_module_version": "1.2.0",
            "_view_name": "LayoutView",
            "align_content": null,
            "align_items": null,
            "align_self": null,
            "border": null,
            "bottom": null,
            "display": null,
            "flex": null,
            "flex_flow": null,
            "grid_area": null,
            "grid_auto_columns": null,
            "grid_auto_flow": null,
            "grid_auto_rows": null,
            "grid_column": null,
            "grid_gap": null,
            "grid_row": null,
            "grid_template_areas": null,
            "grid_template_columns": null,
            "grid_template_rows": null,
            "height": null,
            "justify_content": null,
            "justify_items": null,
            "left": null,
            "margin": null,
            "max_height": null,
            "max_width": null,
            "min_height": null,
            "min_width": null,
            "object_fit": null,
            "object_position": null,
            "order": null,
            "overflow": null,
            "overflow_x": null,
            "overflow_y": null,
            "padding": null,
            "right": null,
            "top": null,
            "visibility": null,
            "width": null
          }
        },
        "0ac7f44a8730440b8f8cd069cee41a43": {
          "model_module": "@jupyter-widgets/controls",
          "model_name": "DescriptionStyleModel",
          "model_module_version": "1.5.0",
          "state": {
            "_model_module": "@jupyter-widgets/controls",
            "_model_module_version": "1.5.0",
            "_model_name": "DescriptionStyleModel",
            "_view_count": null,
            "_view_module": "@jupyter-widgets/base",
            "_view_module_version": "1.2.0",
            "_view_name": "StyleView",
            "description_width": ""
          }
        },
        "7b1447fc95c64a64abe3542effee9b2d": {
          "model_module": "@jupyter-widgets/base",
          "model_name": "LayoutModel",
          "model_module_version": "1.2.0",
          "state": {
            "_model_module": "@jupyter-widgets/base",
            "_model_module_version": "1.2.0",
            "_model_name": "LayoutModel",
            "_view_count": null,
            "_view_module": "@jupyter-widgets/base",
            "_view_module_version": "1.2.0",
            "_view_name": "LayoutView",
            "align_content": null,
            "align_items": null,
            "align_self": null,
            "border": null,
            "bottom": null,
            "display": null,
            "flex": null,
            "flex_flow": null,
            "grid_area": null,
            "grid_auto_columns": null,
            "grid_auto_flow": null,
            "grid_auto_rows": null,
            "grid_column": null,
            "grid_gap": null,
            "grid_row": null,
            "grid_template_areas": null,
            "grid_template_columns": null,
            "grid_template_rows": null,
            "height": null,
            "justify_content": null,
            "justify_items": null,
            "left": null,
            "margin": null,
            "max_height": null,
            "max_width": null,
            "min_height": null,
            "min_width": null,
            "object_fit": null,
            "object_position": null,
            "order": null,
            "overflow": null,
            "overflow_x": null,
            "overflow_y": null,
            "padding": null,
            "right": null,
            "top": null,
            "visibility": null,
            "width": null
          }
        },
        "8a0d5c21d4874b83add7baa791c7f639": {
          "model_module": "@jupyter-widgets/controls",
          "model_name": "ProgressStyleModel",
          "model_module_version": "1.5.0",
          "state": {
            "_model_module": "@jupyter-widgets/controls",
            "_model_module_version": "1.5.0",
            "_model_name": "ProgressStyleModel",
            "_view_count": null,
            "_view_module": "@jupyter-widgets/base",
            "_view_module_version": "1.2.0",
            "_view_name": "StyleView",
            "bar_color": null,
            "description_width": ""
          }
        },
        "b4cbae3001274abdadd050938bc375b1": {
          "model_module": "@jupyter-widgets/base",
          "model_name": "LayoutModel",
          "model_module_version": "1.2.0",
          "state": {
            "_model_module": "@jupyter-widgets/base",
            "_model_module_version": "1.2.0",
            "_model_name": "LayoutModel",
            "_view_count": null,
            "_view_module": "@jupyter-widgets/base",
            "_view_module_version": "1.2.0",
            "_view_name": "LayoutView",
            "align_content": null,
            "align_items": null,
            "align_self": null,
            "border": null,
            "bottom": null,
            "display": null,
            "flex": null,
            "flex_flow": null,
            "grid_area": null,
            "grid_auto_columns": null,
            "grid_auto_flow": null,
            "grid_auto_rows": null,
            "grid_column": null,
            "grid_gap": null,
            "grid_row": null,
            "grid_template_areas": null,
            "grid_template_columns": null,
            "grid_template_rows": null,
            "height": null,
            "justify_content": null,
            "justify_items": null,
            "left": null,
            "margin": null,
            "max_height": null,
            "max_width": null,
            "min_height": null,
            "min_width": null,
            "object_fit": null,
            "object_position": null,
            "order": null,
            "overflow": null,
            "overflow_x": null,
            "overflow_y": null,
            "padding": null,
            "right": null,
            "top": null,
            "visibility": null,
            "width": null
          }
        },
        "0700413993f04d5f91c06238e1465eb8": {
          "model_module": "@jupyter-widgets/controls",
          "model_name": "DescriptionStyleModel",
          "model_module_version": "1.5.0",
          "state": {
            "_model_module": "@jupyter-widgets/controls",
            "_model_module_version": "1.5.0",
            "_model_name": "DescriptionStyleModel",
            "_view_count": null,
            "_view_module": "@jupyter-widgets/base",
            "_view_module_version": "1.2.0",
            "_view_name": "StyleView",
            "description_width": ""
          }
        },
        "4430d523fb6446628b0ebf01de2d6c96": {
          "model_module": "@jupyter-widgets/controls",
          "model_name": "HBoxModel",
          "model_module_version": "1.5.0",
          "state": {
            "_dom_classes": [],
            "_model_module": "@jupyter-widgets/controls",
            "_model_module_version": "1.5.0",
            "_model_name": "HBoxModel",
            "_view_count": null,
            "_view_module": "@jupyter-widgets/controls",
            "_view_module_version": "1.5.0",
            "_view_name": "HBoxView",
            "box_style": "",
            "children": [
              "IPY_MODEL_f7c72825a9c24794aa5c8a9550df808f",
              "IPY_MODEL_be31fd2ed9254fd3a09e32881befc2a5",
              "IPY_MODEL_1a384e985e3749a4ac6aa2edb9958c4d"
            ],
            "layout": "IPY_MODEL_eddbb0f14bec46aa951f91ff424ae728"
          }
        },
        "f7c72825a9c24794aa5c8a9550df808f": {
          "model_module": "@jupyter-widgets/controls",
          "model_name": "HTMLModel",
          "model_module_version": "1.5.0",
          "state": {
            "_dom_classes": [],
            "_model_module": "@jupyter-widgets/controls",
            "_model_module_version": "1.5.0",
            "_model_name": "HTMLModel",
            "_view_count": null,
            "_view_module": "@jupyter-widgets/controls",
            "_view_module_version": "1.5.0",
            "_view_name": "HTMLView",
            "description": "",
            "description_tooltip": null,
            "layout": "IPY_MODEL_32370a50f207438ab6506dfb62142b5c",
            "placeholder": "​",
            "style": "IPY_MODEL_e729f1d4f38542c1b1c3778f805f4b3e",
            "value": "generation_config.json: 100%"
          }
        },
        "be31fd2ed9254fd3a09e32881befc2a5": {
          "model_module": "@jupyter-widgets/controls",
          "model_name": "FloatProgressModel",
          "model_module_version": "1.5.0",
          "state": {
            "_dom_classes": [],
            "_model_module": "@jupyter-widgets/controls",
            "_model_module_version": "1.5.0",
            "_model_name": "FloatProgressModel",
            "_view_count": null,
            "_view_module": "@jupyter-widgets/controls",
            "_view_module_version": "1.5.0",
            "_view_name": "ProgressView",
            "bar_style": "success",
            "description": "",
            "description_tooltip": null,
            "layout": "IPY_MODEL_484c9781379d45829cc5afb2e20b311f",
            "max": 141,
            "min": 0,
            "orientation": "horizontal",
            "style": "IPY_MODEL_cc23fa32221746fc8df425b9d2cd3c48",
            "value": 141
          }
        },
        "1a384e985e3749a4ac6aa2edb9958c4d": {
          "model_module": "@jupyter-widgets/controls",
          "model_name": "HTMLModel",
          "model_module_version": "1.5.0",
          "state": {
            "_dom_classes": [],
            "_model_module": "@jupyter-widgets/controls",
            "_model_module_version": "1.5.0",
            "_model_name": "HTMLModel",
            "_view_count": null,
            "_view_module": "@jupyter-widgets/controls",
            "_view_module_version": "1.5.0",
            "_view_name": "HTMLView",
            "description": "",
            "description_tooltip": null,
            "layout": "IPY_MODEL_57a0782bc4cd48b1b2e8f799cda91431",
            "placeholder": "​",
            "style": "IPY_MODEL_aef5df1d7629403bba6328c4faeb3547",
            "value": " 141/141 [00:00&lt;00:00, 12.7kB/s]"
          }
        },
        "eddbb0f14bec46aa951f91ff424ae728": {
          "model_module": "@jupyter-widgets/base",
          "model_name": "LayoutModel",
          "model_module_version": "1.2.0",
          "state": {
            "_model_module": "@jupyter-widgets/base",
            "_model_module_version": "1.2.0",
            "_model_name": "LayoutModel",
            "_view_count": null,
            "_view_module": "@jupyter-widgets/base",
            "_view_module_version": "1.2.0",
            "_view_name": "LayoutView",
            "align_content": null,
            "align_items": null,
            "align_self": null,
            "border": null,
            "bottom": null,
            "display": null,
            "flex": null,
            "flex_flow": null,
            "grid_area": null,
            "grid_auto_columns": null,
            "grid_auto_flow": null,
            "grid_auto_rows": null,
            "grid_column": null,
            "grid_gap": null,
            "grid_row": null,
            "grid_template_areas": null,
            "grid_template_columns": null,
            "grid_template_rows": null,
            "height": null,
            "justify_content": null,
            "justify_items": null,
            "left": null,
            "margin": null,
            "max_height": null,
            "max_width": null,
            "min_height": null,
            "min_width": null,
            "object_fit": null,
            "object_position": null,
            "order": null,
            "overflow": null,
            "overflow_x": null,
            "overflow_y": null,
            "padding": null,
            "right": null,
            "top": null,
            "visibility": null,
            "width": null
          }
        },
        "32370a50f207438ab6506dfb62142b5c": {
          "model_module": "@jupyter-widgets/base",
          "model_name": "LayoutModel",
          "model_module_version": "1.2.0",
          "state": {
            "_model_module": "@jupyter-widgets/base",
            "_model_module_version": "1.2.0",
            "_model_name": "LayoutModel",
            "_view_count": null,
            "_view_module": "@jupyter-widgets/base",
            "_view_module_version": "1.2.0",
            "_view_name": "LayoutView",
            "align_content": null,
            "align_items": null,
            "align_self": null,
            "border": null,
            "bottom": null,
            "display": null,
            "flex": null,
            "flex_flow": null,
            "grid_area": null,
            "grid_auto_columns": null,
            "grid_auto_flow": null,
            "grid_auto_rows": null,
            "grid_column": null,
            "grid_gap": null,
            "grid_row": null,
            "grid_template_areas": null,
            "grid_template_columns": null,
            "grid_template_rows": null,
            "height": null,
            "justify_content": null,
            "justify_items": null,
            "left": null,
            "margin": null,
            "max_height": null,
            "max_width": null,
            "min_height": null,
            "min_width": null,
            "object_fit": null,
            "object_position": null,
            "order": null,
            "overflow": null,
            "overflow_x": null,
            "overflow_y": null,
            "padding": null,
            "right": null,
            "top": null,
            "visibility": null,
            "width": null
          }
        },
        "e729f1d4f38542c1b1c3778f805f4b3e": {
          "model_module": "@jupyter-widgets/controls",
          "model_name": "DescriptionStyleModel",
          "model_module_version": "1.5.0",
          "state": {
            "_model_module": "@jupyter-widgets/controls",
            "_model_module_version": "1.5.0",
            "_model_name": "DescriptionStyleModel",
            "_view_count": null,
            "_view_module": "@jupyter-widgets/base",
            "_view_module_version": "1.2.0",
            "_view_name": "StyleView",
            "description_width": ""
          }
        },
        "484c9781379d45829cc5afb2e20b311f": {
          "model_module": "@jupyter-widgets/base",
          "model_name": "LayoutModel",
          "model_module_version": "1.2.0",
          "state": {
            "_model_module": "@jupyter-widgets/base",
            "_model_module_version": "1.2.0",
            "_model_name": "LayoutModel",
            "_view_count": null,
            "_view_module": "@jupyter-widgets/base",
            "_view_module_version": "1.2.0",
            "_view_name": "LayoutView",
            "align_content": null,
            "align_items": null,
            "align_self": null,
            "border": null,
            "bottom": null,
            "display": null,
            "flex": null,
            "flex_flow": null,
            "grid_area": null,
            "grid_auto_columns": null,
            "grid_auto_flow": null,
            "grid_auto_rows": null,
            "grid_column": null,
            "grid_gap": null,
            "grid_row": null,
            "grid_template_areas": null,
            "grid_template_columns": null,
            "grid_template_rows": null,
            "height": null,
            "justify_content": null,
            "justify_items": null,
            "left": null,
            "margin": null,
            "max_height": null,
            "max_width": null,
            "min_height": null,
            "min_width": null,
            "object_fit": null,
            "object_position": null,
            "order": null,
            "overflow": null,
            "overflow_x": null,
            "overflow_y": null,
            "padding": null,
            "right": null,
            "top": null,
            "visibility": null,
            "width": null
          }
        },
        "cc23fa32221746fc8df425b9d2cd3c48": {
          "model_module": "@jupyter-widgets/controls",
          "model_name": "ProgressStyleModel",
          "model_module_version": "1.5.0",
          "state": {
            "_model_module": "@jupyter-widgets/controls",
            "_model_module_version": "1.5.0",
            "_model_name": "ProgressStyleModel",
            "_view_count": null,
            "_view_module": "@jupyter-widgets/base",
            "_view_module_version": "1.2.0",
            "_view_name": "StyleView",
            "bar_color": null,
            "description_width": ""
          }
        },
        "57a0782bc4cd48b1b2e8f799cda91431": {
          "model_module": "@jupyter-widgets/base",
          "model_name": "LayoutModel",
          "model_module_version": "1.2.0",
          "state": {
            "_model_module": "@jupyter-widgets/base",
            "_model_module_version": "1.2.0",
            "_model_name": "LayoutModel",
            "_view_count": null,
            "_view_module": "@jupyter-widgets/base",
            "_view_module_version": "1.2.0",
            "_view_name": "LayoutView",
            "align_content": null,
            "align_items": null,
            "align_self": null,
            "border": null,
            "bottom": null,
            "display": null,
            "flex": null,
            "flex_flow": null,
            "grid_area": null,
            "grid_auto_columns": null,
            "grid_auto_flow": null,
            "grid_auto_rows": null,
            "grid_column": null,
            "grid_gap": null,
            "grid_row": null,
            "grid_template_areas": null,
            "grid_template_columns": null,
            "grid_template_rows": null,
            "height": null,
            "justify_content": null,
            "justify_items": null,
            "left": null,
            "margin": null,
            "max_height": null,
            "max_width": null,
            "min_height": null,
            "min_width": null,
            "object_fit": null,
            "object_position": null,
            "order": null,
            "overflow": null,
            "overflow_x": null,
            "overflow_y": null,
            "padding": null,
            "right": null,
            "top": null,
            "visibility": null,
            "width": null
          }
        },
        "aef5df1d7629403bba6328c4faeb3547": {
          "model_module": "@jupyter-widgets/controls",
          "model_name": "DescriptionStyleModel",
          "model_module_version": "1.5.0",
          "state": {
            "_model_module": "@jupyter-widgets/controls",
            "_model_module_version": "1.5.0",
            "_model_name": "DescriptionStyleModel",
            "_view_count": null,
            "_view_module": "@jupyter-widgets/base",
            "_view_module_version": "1.2.0",
            "_view_name": "StyleView",
            "description_width": ""
          }
        }
      }
    }
  },
  "cells": [
    {
      "cell_type": "code",
      "source": [
        "# --- Colab Setup (run this cell first) ---\n",
        "!pip install ultralytics tqdm transformers bitsandbytes accelerate jsonlines --quiet"
      ],
      "metadata": {
        "id": "QaJ3LBeUVY5I",
        "colab": {
          "base_uri": "https://localhost:8080/"
        },
        "outputId": "9583f71f-2261-42ae-b16f-46e6a49af6e0"
      },
      "execution_count": null,
      "outputs": [
        {
          "output_type": "stream",
          "name": "stdout",
          "text": [
            "\u001b[2K   \u001b[90m━━━━━━━━━━━━━━━━━━━━━━━━━━━━━━━━━━━━━━━━\u001b[0m \u001b[32m1.0/1.0 MB\u001b[0m \u001b[31m22.8 MB/s\u001b[0m eta \u001b[36m0:00:00\u001b[0m\n",
            "\u001b[2K   \u001b[90m━━━━━━━━━━━━━━━━━━━━━━━━━━━━━━━━━━━━━━━━\u001b[0m \u001b[32m67.0/67.0 MB\u001b[0m \u001b[31m13.3 MB/s\u001b[0m eta \u001b[36m0:00:00\u001b[0m\n",
            "\u001b[2K   \u001b[90m━━━━━━━━━━━━━━━━━━━━━━━━━━━━━━━━━━━━━━━━\u001b[0m \u001b[32m363.4/363.4 MB\u001b[0m \u001b[31m4.2 MB/s\u001b[0m eta \u001b[36m0:00:00\u001b[0m\n",
            "\u001b[2K   \u001b[90m━━━━━━━━━━━━━━━━━━━━━━━━━━━━━━━━━━━━━━━━\u001b[0m \u001b[32m13.8/13.8 MB\u001b[0m \u001b[31m34.8 MB/s\u001b[0m eta \u001b[36m0:00:00\u001b[0m\n",
            "\u001b[2K   \u001b[90m━━━━━━━━━━━━━━━━━━━━━━━━━━━━━━━━━━━━━━━━\u001b[0m \u001b[32m24.6/24.6 MB\u001b[0m \u001b[31m29.2 MB/s\u001b[0m eta \u001b[36m0:00:00\u001b[0m\n",
            "\u001b[2K   \u001b[90m━━━━━━━━━━━━━━━━━━━━━━━━━━━━━━━━━━━━━━━━\u001b[0m \u001b[32m883.7/883.7 kB\u001b[0m \u001b[31m25.9 MB/s\u001b[0m eta \u001b[36m0:00:00\u001b[0m\n",
            "\u001b[2K   \u001b[90m━━━━━━━━━━━━━━━━━━━━━━━━━━━━━━━━━━━━━━━━\u001b[0m \u001b[32m664.8/664.8 MB\u001b[0m \u001b[31m2.9 MB/s\u001b[0m eta \u001b[36m0:00:00\u001b[0m\n",
            "\u001b[2K   \u001b[90m━━━━━━━━━━━━━━━━━━━━━━━━━━━━━━━━━━━━━━━━\u001b[0m \u001b[32m211.5/211.5 MB\u001b[0m \u001b[31m6.0 MB/s\u001b[0m eta \u001b[36m0:00:00\u001b[0m\n",
            "\u001b[2K   \u001b[90m━━━━━━━━━━━━━━━━━━━━━━━━━━━━━━━━━━━━━━━━\u001b[0m \u001b[32m56.3/56.3 MB\u001b[0m \u001b[31m12.6 MB/s\u001b[0m eta \u001b[36m0:00:00\u001b[0m\n",
            "\u001b[2K   \u001b[90m━━━━━━━━━━━━━━━━━━━━━━━━━━━━━━━━━━━━━━━━\u001b[0m \u001b[32m127.9/127.9 MB\u001b[0m \u001b[31m8.5 MB/s\u001b[0m eta \u001b[36m0:00:00\u001b[0m\n",
            "\u001b[2K   \u001b[90m━━━━━━━━━━━━━━━━━━━━━━━━━━━━━━━━━━━━━━━━\u001b[0m \u001b[32m207.5/207.5 MB\u001b[0m \u001b[31m5.8 MB/s\u001b[0m eta \u001b[36m0:00:00\u001b[0m\n",
            "\u001b[2K   \u001b[90m━━━━━━━━━━━━━━━━━━━━━━━━━━━━━━━━━━━━━━━━\u001b[0m \u001b[32m21.1/21.1 MB\u001b[0m \u001b[31m93.5 MB/s\u001b[0m eta \u001b[36m0:00:00\u001b[0m\n",
            "\u001b[?25h"
          ]
        }
      ]
    },
    {
      "cell_type": "code",
      "source": [
        "from google.colab import drive\n",
        "drive.mount('/content/drive')"
      ],
      "metadata": {
        "colab": {
          "base_uri": "https://localhost:8080/"
        },
        "id": "8338aq5XVaFq",
        "outputId": "681294b9-fd66-47dc-d16a-1561e4e6f169"
      },
      "execution_count": 3,
      "outputs": [
        {
          "output_type": "stream",
          "name": "stdout",
          "text": [
            "Mounted at /content/drive\n"
          ]
        }
      ]
    },
    {
      "cell_type": "code",
      "source": [
        "import os\n",
        "import json\n",
        "import random\n",
        "from ultralytics import YOLO\n",
        "from tqdm import tqdm\n",
        "from PIL import Image\n",
        "import torch\n",
        "import jsonlines\n",
        "from transformers import AutoProcessor, AutoModelForVision2Seq, BitsAndBytesConfig\n"
      ],
      "metadata": {
        "colab": {
          "base_uri": "https://localhost:8080/"
        },
        "id": "zHQgiagAVrNm",
        "outputId": "10749896-deee-41ac-fd74-bac6347dc9b0"
      },
      "execution_count": null,
      "outputs": [
        {
          "output_type": "stream",
          "name": "stdout",
          "text": [
            "Creating new Ultralytics Settings v0.0.6 file ✅ \n",
            "View Ultralytics Settings with 'yolo settings' or at '/root/.config/Ultralytics/settings.json'\n",
            "Update Settings with 'yolo settings key=value', i.e. 'yolo settings runs_dir=path/to/dir'. For help see https://docs.ultralytics.com/quickstart/#ultralytics-settings.\n"
          ]
        }
      ]
    },
    {
      "cell_type": "code",
      "source": [
        "model_id = \"llava-hf/llava-1.5-7b-hf\"\n",
        "processor = AutoProcessor.from_pretrained(model_id)\n",
        "\n",
        "bnb_config = BitsAndBytesConfig(\n",
        "    load_in_4bit=True,\n",
        "    bnb_4bit_compute_dtype=torch.float16\n",
        ")\n",
        "\n",
        "model = AutoModelForVision2Seq.from_pretrained(\n",
        "    model_id,\n",
        "    quantization_config=bnb_config,\n",
        "    device_map=\"cuda\"\n",
        ")"
      ],
      "metadata": {
        "id": "MwrUsYQ3Vysb",
        "colab": {
          "base_uri": "https://localhost:8080/",
          "height": 670,
          "referenced_widgets": [
            "1c1f216ff3224622b12c84348a4d085c",
            "9c78764a7ce3458b9a0456998097beb2",
            "40a9ff0886b24cd2aa752ad59d723d27",
            "e3d4c7d7ffaa4fd48b3ea46ed2c73047",
            "7c1621010cca43a59c8e1a7b1a0d6ee0",
            "c98eb01dcba7482d9f74d7e28ce1b477",
            "05392ccdc0194578abea37a8d1334a30",
            "5c950b7b60f84019940db9a2d5997058",
            "353d7d34a03244989b972d6a9a9bdd8a",
            "581b888a79a64a11976926ce03cb16d8",
            "03ec2c22f0af4bb9a67df108bc94b1b8",
            "1965f25dfac54ce4aca63e695e108e4a",
            "a250fa808d5a4a82ba4e1e972ca3defa",
            "ce6cd8baa03949958c2d670eab25013b",
            "8f7c1b0671464d4cb368e178abcd9ae0",
            "78986824d4fa40b382a74c93d0bf3f4a",
            "b93f1453eaa4422d9752419baede4d22",
            "0f5df4ec02104e809334c1a5159146bd",
            "fa51435a22244441aa21e5a5bd719cb6",
            "8a5a6cfab0b94b59b56d719ae92f7f03",
            "0072d22dc30346809bccd810906dd157",
            "cd3b3045c4744c59ae24a196973d9e02",
            "33ad90870d35451fada92d39373bdb80",
            "b6f751383c8b4e37869bc9b7e0c01d5f",
            "18873533c95b4af1a3c9ec13ff6f7901",
            "e9a64c215d9a47f58272b0b24631f169",
            "4112fa7597f74573aa4de0d6e9c8c861",
            "31db4191393a4a0d97fc33ec71e61eaa",
            "a780b638a42e459d94595bd77d276afe",
            "f28d16e15f9046f884331892faa1c919",
            "d86c87b9757f4a508791861c098c4b12",
            "53009c3d8b99476ca1366b98316ca2e8",
            "740a8af2c1da413d8affe00ee9594328",
            "9f40df4a122c42cd81014383e017e3f8",
            "7a9f69399a984da4b55f5d5f9d9e06c0",
            "67fec51ca4dd4ebfa15fe7a67e7e9015",
            "149318398f7a478390790de66626a64d",
            "323b12fb33e94ef8be4e79cf963763a4",
            "65640dd2a0aa4d0f9926974f2fe48bdf",
            "b7314a6dd0c545919238e3a100c1f0fa",
            "93f7781d0c0b402c8609293ab8c456c2",
            "0a2b7039137e427e81d441e9dd5067a0",
            "a292fd9182df4bf68422ec65d478f9af",
            "00e7026d2a634faf99df87ef6196b740",
            "cfe7635e8d0e4f81ab2445cf00116261",
            "e9fb74ed1a0b41cf9a6d5f6a66efe8ad",
            "7fb3f8c2ff0941b280670b4ebdda8705",
            "e100ccad3ed54cb1af24521f4e5bea64",
            "8345ee277d864d34817d35cdb5a23dca",
            "4b0d4689eb944101ad92f7b10b693ded",
            "4e827d0a54974603a404bfa1865c6002",
            "0f9c6889d9fc446eb44d1401ad8be9dc",
            "dd76737b764e49dc8811b803137d85a2",
            "3f14a3cd72d8494a8ce8935c7d662a7c",
            "e346fc0b007049a19d6d0a671c829212",
            "2f64d2aa0aaf43b6b33a9d9d3c2064bb",
            "0b90d5530d224988a739713590a4a40b",
            "c1244376c2a44a78b7509cb5ee5de998",
            "acbb233513d54f7cb59376c33f148d3a",
            "2f451777318d434ba8542440d10f07af",
            "31055cb9e60e4af08dc03a9b493fa621",
            "32eb6ea63e1f412ba796a148d35c6001",
            "c001f84b3f7a4f618ac48d7d537af764",
            "4e7cf25722534ac1b4bcfbb148fcd597",
            "866d5ceea87f401886c8e6347ee33120",
            "dd643580cd23440f85c0401fedf1032b",
            "983fe87ca5d94dc48c96e41e5cea5483",
            "c8959b3190114eecaa8cbade3cf963cb",
            "8b0779c227944cf5a1856c50943a9c41",
            "bb206a390ca1437488b46a1849b75623",
            "c31605499b434ff8a706734ae39e6200",
            "797c518e996e4404a1412adc5046baf9",
            "9f40140dbcc34888ac0913ae2fba1808",
            "7c7ad4fb8ab04e1299ba7a2e54a57336",
            "5029c1470f454ddda45a9894f1f350c5",
            "7ecae17522a8432fbe96b3372766e96e",
            "8534cef2b2b54cba9c04922d10e74fae",
            "4fd55edc9fac483b9895601a0e236568",
            "8a681957e8744f80bbb8a2a8defef293",
            "17df705b15864c6a97f16008e12ab03a",
            "a7925afca0874fd68e53cc398c0303a2",
            "867cd9d276644ff08909d21eb16b2474",
            "fc6eee363ed84986b2baf9f279e113d6",
            "2d344d42c71d42c59e4417db4ef45a3d",
            "c32b982da8ff4bd6b03141cdc850782f",
            "b609515a2b3d4e7d9cf7793d501578ff",
            "2c0942958f934ec9b03475d8864b87d1",
            "f6c8a8d75fc849808fb27f547f6739a1",
            "4c64f80e6171482ca034ee842e5e3eec",
            "5ca278c0ce7343f2b19af6acd929eb7b",
            "da4176797b1c4140beecb2db14a2f470",
            "65b23996c4644458aa08da77f616d481",
            "9ca4cf40f52b492fad6c411f81f61eda",
            "53bfbfc051e44a1693045a51e5e255ca",
            "53c2d6894ac14573b582b5d57ba03b83",
            "4cb50a353c834df1b827484dc3ee8670",
            "a76b242b66b54011a5a23c89af49d2e9",
            "884c2a041a1f45f0a0071ef6e2722d8b",
            "cf600ca4b415487b937de0f730b5529b",
            "0746ec4930d9480d9b2e15c09cf3b1be",
            "5b6fdeabc3284aa2b7048d915871d7f2",
            "8cfb431b51a14badb86bca060a692322",
            "ce833aa8b369416993d3859a64485061",
            "2f8e92719c7e4218aa6b5237bf467fa4",
            "e16bbc0e697748a9a1fbd724632c6899",
            "fda2072bb6e544baa0355d0d0a5fde03",
            "4f75c24df821412597be62c31f830ed9",
            "eca3de83e6d84feb9ccad7972cbe7138",
            "e325f9bfa743414786b0a4044da52eb3",
            "c38279bf44cf4c7aad49b74554c4f82f",
            "261e98de169b450a8bf995b2040d088a",
            "1bba787e076f4e79a4fbb9095880a7a1",
            "c3abef179dc34c28b06f4bed712c218c",
            "0086fea738dc4c45842d2778792bec99",
            "03812ca375f647eababeb21912b0f251",
            "c83e5546e5204338aef9cf3d6f8f82be",
            "e2c466a1998745c4b8364045ba585ba3",
            "8051c74455f548ea8d996e4682b52c61",
            "9504f3184ce7405b85a33fe639cea348",
            "65db4c3c7e204d3a92a90717d4b742f7",
            "f084a3cd01d5426e990cba5abcb053cd",
            "b70010d166ce4e9e818160fd8e9b1e8f",
            "07e988e98b884e698ec2f335ab8de72e",
            "179a71cdda1845baa3e6927705cab1ee",
            "03a8c68c7f424724a20399860dbb7627",
            "900ed86d6f9d41628f89c89909957cf5",
            "d6e46ee9de034739a5b33a9aa419f6d7",
            "bb9778bd48dc4815a32f298a8ecc70af",
            "38a06606c7774efd84a3a0759488537a",
            "8626b61eead3418bbca24651a7adf5d2",
            "522757be66984b6b8e611e5eca160835",
            "97ae06a0bb974914907e475648790f21",
            "33554eddbcc743ce95a137f006163931",
            "95172cd0dbec4256aa86e13e9fffeb01",
            "ad6c715325104b8ba5954efed8811f30",
            "39d6001328604d609225c5fbafd9a52b",
            "30d2eda38f9b46a4a0e4a8f4d237b851",
            "b18051a649274f0c8ae587a7ae32430d",
            "40443cf776e44ec384ae5f2e379e482c",
            "325b25c6ff3941aaaac2b8cd7366be94",
            "cc61c172880d46e49ef637fd6713e26b",
            "acc08efd80ac4ff6a8a4337aebfd2a08",
            "2ae88a143a1c4985ba531e7a096bae28",
            "cbf618416c314cb599125bf2922bd4fe",
            "a946db71d83f47cf83ec4178ee84304c",
            "24861925fb3a4784adafb3ab528404fb",
            "cc5071d854cb456bb64078e8f142a5ff",
            "e97c3547fb3c41d99328da55223d1de0",
            "2c2c15e2c02f46f5b89c68f4b6d31e00",
            "d52202e4d70c4ded801e41654422db80",
            "40b5b865fecc4e679652b950e56a0332",
            "e652549ce58140e296620a7208ae2fc1",
            "a3b264b7088246108a4bd9e2260a8bea",
            "462e269c78dc44fa9bc51fdc71c3edd5",
            "ff4161a6c8014315b7bb0bebcf16ee4a",
            "fa76591847a04510b6b847a6819284e5",
            "b1b20d6f85a54836831c63197cd648d9",
            "0d45a493c9774e7b8deb52ca9c31e1d9",
            "eaf2abdf3a274bd7b3d179f5fa677bce",
            "53629020296f4e52b74bf39b267316fc",
            "0ac7f44a8730440b8f8cd069cee41a43",
            "7b1447fc95c64a64abe3542effee9b2d",
            "8a0d5c21d4874b83add7baa791c7f639",
            "b4cbae3001274abdadd050938bc375b1",
            "0700413993f04d5f91c06238e1465eb8",
            "4430d523fb6446628b0ebf01de2d6c96",
            "f7c72825a9c24794aa5c8a9550df808f",
            "be31fd2ed9254fd3a09e32881befc2a5",
            "1a384e985e3749a4ac6aa2edb9958c4d",
            "eddbb0f14bec46aa951f91ff424ae728",
            "32370a50f207438ab6506dfb62142b5c",
            "e729f1d4f38542c1b1c3778f805f4b3e",
            "484c9781379d45829cc5afb2e20b311f",
            "cc23fa32221746fc8df425b9d2cd3c48",
            "57a0782bc4cd48b1b2e8f799cda91431",
            "aef5df1d7629403bba6328c4faeb3547"
          ]
        },
        "outputId": "17389642-d020-410a-d86d-9c91695f58ad"
      },
      "execution_count": null,
      "outputs": [
        {
          "output_type": "stream",
          "name": "stderr",
          "text": [
            "/usr/local/lib/python3.11/dist-packages/huggingface_hub/utils/_auth.py:94: UserWarning: \n",
            "The secret `HF_TOKEN` does not exist in your Colab secrets.\n",
            "To authenticate with the Hugging Face Hub, create a token in your settings tab (https://huggingface.co/settings/tokens), set it as secret in your Google Colab and restart your session.\n",
            "You will be able to reuse this secret in all of your notebooks.\n",
            "Please note that authentication is recommended but still optional to access public models or datasets.\n",
            "  warnings.warn(\n"
          ]
        },
        {
          "output_type": "display_data",
          "data": {
            "text/plain": [
              "processor_config.json:   0%|          | 0.00/173 [00:00<?, ?B/s]"
            ],
            "application/vnd.jupyter.widget-view+json": {
              "version_major": 2,
              "version_minor": 0,
              "model_id": "1c1f216ff3224622b12c84348a4d085c"
            }
          },
          "metadata": {}
        },
        {
          "output_type": "display_data",
          "data": {
            "text/plain": [
              "chat_template.json:   0%|          | 0.00/701 [00:00<?, ?B/s]"
            ],
            "application/vnd.jupyter.widget-view+json": {
              "version_major": 2,
              "version_minor": 0,
              "model_id": "1965f25dfac54ce4aca63e695e108e4a"
            }
          },
          "metadata": {}
        },
        {
          "output_type": "display_data",
          "data": {
            "text/plain": [
              "preprocessor_config.json:   0%|          | 0.00/505 [00:00<?, ?B/s]"
            ],
            "application/vnd.jupyter.widget-view+json": {
              "version_major": 2,
              "version_minor": 0,
              "model_id": "33ad90870d35451fada92d39373bdb80"
            }
          },
          "metadata": {}
        },
        {
          "output_type": "stream",
          "name": "stderr",
          "text": [
            "Using a slow image processor as `use_fast` is unset and a slow processor was saved with this model. `use_fast=True` will be the default behavior in v4.52, even if the model was saved with a slow processor. This will result in minor differences in outputs. You'll still be able to use a slow processor with `use_fast=False`.\n"
          ]
        },
        {
          "output_type": "display_data",
          "data": {
            "text/plain": [
              "tokenizer_config.json:   0%|          | 0.00/1.45k [00:00<?, ?B/s]"
            ],
            "application/vnd.jupyter.widget-view+json": {
              "version_major": 2,
              "version_minor": 0,
              "model_id": "9f40df4a122c42cd81014383e017e3f8"
            }
          },
          "metadata": {}
        },
        {
          "output_type": "display_data",
          "data": {
            "text/plain": [
              "tokenizer.model:   0%|          | 0.00/500k [00:00<?, ?B/s]"
            ],
            "application/vnd.jupyter.widget-view+json": {
              "version_major": 2,
              "version_minor": 0,
              "model_id": "cfe7635e8d0e4f81ab2445cf00116261"
            }
          },
          "metadata": {}
        },
        {
          "output_type": "display_data",
          "data": {
            "text/plain": [
              "tokenizer.json:   0%|          | 0.00/3.62M [00:00<?, ?B/s]"
            ],
            "application/vnd.jupyter.widget-view+json": {
              "version_major": 2,
              "version_minor": 0,
              "model_id": "2f64d2aa0aaf43b6b33a9d9d3c2064bb"
            }
          },
          "metadata": {}
        },
        {
          "output_type": "display_data",
          "data": {
            "text/plain": [
              "added_tokens.json:   0%|          | 0.00/41.0 [00:00<?, ?B/s]"
            ],
            "application/vnd.jupyter.widget-view+json": {
              "version_major": 2,
              "version_minor": 0,
              "model_id": "983fe87ca5d94dc48c96e41e5cea5483"
            }
          },
          "metadata": {}
        },
        {
          "output_type": "display_data",
          "data": {
            "text/plain": [
              "special_tokens_map.json:   0%|          | 0.00/552 [00:00<?, ?B/s]"
            ],
            "application/vnd.jupyter.widget-view+json": {
              "version_major": 2,
              "version_minor": 0,
              "model_id": "4fd55edc9fac483b9895601a0e236568"
            }
          },
          "metadata": {}
        },
        {
          "output_type": "display_data",
          "data": {
            "text/plain": [
              "config.json:   0%|          | 0.00/950 [00:00<?, ?B/s]"
            ],
            "application/vnd.jupyter.widget-view+json": {
              "version_major": 2,
              "version_minor": 0,
              "model_id": "4c64f80e6171482ca034ee842e5e3eec"
            }
          },
          "metadata": {}
        },
        {
          "output_type": "display_data",
          "data": {
            "text/plain": [
              "model.safetensors.index.json:   0%|          | 0.00/70.1k [00:00<?, ?B/s]"
            ],
            "application/vnd.jupyter.widget-view+json": {
              "version_major": 2,
              "version_minor": 0,
              "model_id": "0746ec4930d9480d9b2e15c09cf3b1be"
            }
          },
          "metadata": {}
        },
        {
          "output_type": "display_data",
          "data": {
            "text/plain": [
              "Fetching 3 files:   0%|          | 0/3 [00:00<?, ?it/s]"
            ],
            "application/vnd.jupyter.widget-view+json": {
              "version_major": 2,
              "version_minor": 0,
              "model_id": "261e98de169b450a8bf995b2040d088a"
            }
          },
          "metadata": {}
        },
        {
          "output_type": "display_data",
          "data": {
            "text/plain": [
              "model-00003-of-00003.safetensors:   0%|          | 0.00/4.18G [00:00<?, ?B/s]"
            ],
            "application/vnd.jupyter.widget-view+json": {
              "version_major": 2,
              "version_minor": 0,
              "model_id": "b70010d166ce4e9e818160fd8e9b1e8f"
            }
          },
          "metadata": {}
        },
        {
          "output_type": "display_data",
          "data": {
            "text/plain": [
              "model-00001-of-00003.safetensors:   0%|          | 0.00/4.99G [00:00<?, ?B/s]"
            ],
            "application/vnd.jupyter.widget-view+json": {
              "version_major": 2,
              "version_minor": 0,
              "model_id": "33554eddbcc743ce95a137f006163931"
            }
          },
          "metadata": {}
        },
        {
          "output_type": "display_data",
          "data": {
            "text/plain": [
              "model-00002-of-00003.safetensors:   0%|          | 0.00/4.96G [00:00<?, ?B/s]"
            ],
            "application/vnd.jupyter.widget-view+json": {
              "version_major": 2,
              "version_minor": 0,
              "model_id": "cbf618416c314cb599125bf2922bd4fe"
            }
          },
          "metadata": {}
        },
        {
          "output_type": "display_data",
          "data": {
            "text/plain": [
              "Loading checkpoint shards:   0%|          | 0/3 [00:00<?, ?it/s]"
            ],
            "application/vnd.jupyter.widget-view+json": {
              "version_major": 2,
              "version_minor": 0,
              "model_id": "ff4161a6c8014315b7bb0bebcf16ee4a"
            }
          },
          "metadata": {}
        },
        {
          "output_type": "display_data",
          "data": {
            "text/plain": [
              "generation_config.json:   0%|          | 0.00/141 [00:00<?, ?B/s]"
            ],
            "application/vnd.jupyter.widget-view+json": {
              "version_major": 2,
              "version_minor": 0,
              "model_id": "4430d523fb6446628b0ebf01de2d6c96"
            }
          },
          "metadata": {}
        }
      ]
    },
    {
      "cell_type": "code",
      "source": [
        "# --- CONFIG ---\n",
        "POPE_IMG_ROOT = '/content/drive/MyDrive/UCLA/cs 263/final_proj/val2014/'  # Images are in the same directory level or update to your Drive path\n",
        "POPE_ANN_PATH = '/content/drive/MyDrive/UCLA/cs 263/final_proj/coco_pope_adversarial (1).json'  # Your annotation file\n",
        "RESULTS_FILE = '/content/drive/MyDrive/UCLA/cs 263/final_proj/pope_yolo_llava_results.json'\n",
        "NUM_EXAMPLES = 500  # Number of unique images to process"
      ],
      "metadata": {
        "id": "lKqbZw8VV03M"
      },
      "execution_count": null,
      "outputs": []
    },
    {
      "cell_type": "code",
      "source": [
        "# --- 1. Load POPE Annotation Data (grouped by image, random sample) ---\n",
        "def load_pope_annotations_grouped(ann_path, img_root, num_examples=100):\n",
        "    \"\"\"\n",
        "    Loads POPE annotations and groups them by image filename.\n",
        "    Randomly samples up to num_examples unique images.\n",
        "    Returns a list of dicts: {img_path, questions: [annotation_dicts]}\n",
        "    \"\"\"\n",
        "    from collections import defaultdict\n",
        "    images = []\n",
        "    image_to_questions = defaultdict(list)\n",
        "    with open(ann_path, 'r') as f:\n",
        "        for line in f:\n",
        "            item = json.loads(line)\n",
        "            img_fn = item['image']\n",
        "            img_path = os.path.join(img_root, img_fn)\n",
        "            if os.path.exists(img_path):\n",
        "                print('loading:', img_path)\n",
        "                image_to_questions[img_path].append(item)\n",
        "    all_img_paths = list(image_to_questions.keys())\n",
        "    random.shuffle(all_img_paths)\n",
        "    all_img_paths = all_img_paths[:num_examples]\n",
        "    for img_path in all_img_paths:\n",
        "        images.append({'img_path': img_path, 'questions': image_to_questions[img_path]})\n",
        "    return images"
      ],
      "metadata": {
        "id": "R9QBPaSsV5lI"
      },
      "execution_count": null,
      "outputs": []
    },
    {
      "cell_type": "code",
      "source": [
        "  images = load_pope_annotations_grouped(POPE_ANN_PATH, POPE_IMG_ROOT, NUM_EXAMPLES)\n",
        "  print(f\"Loaded {len(images)} unique images from POPE dataset.\")"
      ],
      "metadata": {
        "colab": {
          "base_uri": "https://localhost:8080/"
        },
        "id": "YEm9XE1xYhV3",
        "outputId": "7af77241-5819-4cf1-cfd4-847bf7a0b88f"
      },
      "execution_count": null,
      "outputs": [
        {
          "output_type": "stream",
          "name": "stdout",
          "text": [
            "loading: /content/drive/MyDrive/UCLA/cs 263/final_proj/val2014/COCO_val2014_000000310196.jpg\n",
            "loading: /content/drive/MyDrive/UCLA/cs 263/final_proj/val2014/COCO_val2014_000000310196.jpg\n",
            "loading: /content/drive/MyDrive/UCLA/cs 263/final_proj/val2014/COCO_val2014_000000310196.jpg\n",
            "loading: /content/drive/MyDrive/UCLA/cs 263/final_proj/val2014/COCO_val2014_000000310196.jpg\n",
            "loading: /content/drive/MyDrive/UCLA/cs 263/final_proj/val2014/COCO_val2014_000000310196.jpg\n",
            "loading: /content/drive/MyDrive/UCLA/cs 263/final_proj/val2014/COCO_val2014_000000210789.jpg\n",
            "loading: /content/drive/MyDrive/UCLA/cs 263/final_proj/val2014/COCO_val2014_000000210789.jpg\n",
            "loading: /content/drive/MyDrive/UCLA/cs 263/final_proj/val2014/COCO_val2014_000000210789.jpg\n",
            "loading: /content/drive/MyDrive/UCLA/cs 263/final_proj/val2014/COCO_val2014_000000210789.jpg\n",
            "loading: /content/drive/MyDrive/UCLA/cs 263/final_proj/val2014/COCO_val2014_000000210789.jpg\n",
            "loading: /content/drive/MyDrive/UCLA/cs 263/final_proj/val2014/COCO_val2014_000000210789.jpg\n",
            "loading: /content/drive/MyDrive/UCLA/cs 263/final_proj/val2014/COCO_val2014_000000429109.jpg\n",
            "loading: /content/drive/MyDrive/UCLA/cs 263/final_proj/val2014/COCO_val2014_000000429109.jpg\n",
            "loading: /content/drive/MyDrive/UCLA/cs 263/final_proj/val2014/COCO_val2014_000000429109.jpg\n",
            "loading: /content/drive/MyDrive/UCLA/cs 263/final_proj/val2014/COCO_val2014_000000429109.jpg\n",
            "loading: /content/drive/MyDrive/UCLA/cs 263/final_proj/val2014/COCO_val2014_000000429109.jpg\n",
            "loading: /content/drive/MyDrive/UCLA/cs 263/final_proj/val2014/COCO_val2014_000000429109.jpg\n",
            "loading: /content/drive/MyDrive/UCLA/cs 263/final_proj/val2014/COCO_val2014_000000211674.jpg\n",
            "loading: /content/drive/MyDrive/UCLA/cs 263/final_proj/val2014/COCO_val2014_000000211674.jpg\n",
            "loading: /content/drive/MyDrive/UCLA/cs 263/final_proj/val2014/COCO_val2014_000000211674.jpg\n",
            "loading: /content/drive/MyDrive/UCLA/cs 263/final_proj/val2014/COCO_val2014_000000211674.jpg\n",
            "loading: /content/drive/MyDrive/UCLA/cs 263/final_proj/val2014/COCO_val2014_000000211674.jpg\n",
            "loading: /content/drive/MyDrive/UCLA/cs 263/final_proj/val2014/COCO_val2014_000000211674.jpg\n",
            "loading: /content/drive/MyDrive/UCLA/cs 263/final_proj/val2014/COCO_val2014_000000458338.jpg\n",
            "loading: /content/drive/MyDrive/UCLA/cs 263/final_proj/val2014/COCO_val2014_000000458338.jpg\n",
            "loading: /content/drive/MyDrive/UCLA/cs 263/final_proj/val2014/COCO_val2014_000000458338.jpg\n",
            "loading: /content/drive/MyDrive/UCLA/cs 263/final_proj/val2014/COCO_val2014_000000458338.jpg\n",
            "loading: /content/drive/MyDrive/UCLA/cs 263/final_proj/val2014/COCO_val2014_000000458338.jpg\n",
            "loading: /content/drive/MyDrive/UCLA/cs 263/final_proj/val2014/COCO_val2014_000000458338.jpg\n",
            "loading: /content/drive/MyDrive/UCLA/cs 263/final_proj/val2014/COCO_val2014_000000283412.jpg\n",
            "loading: /content/drive/MyDrive/UCLA/cs 263/final_proj/val2014/COCO_val2014_000000283412.jpg\n",
            "loading: /content/drive/MyDrive/UCLA/cs 263/final_proj/val2014/COCO_val2014_000000283412.jpg\n",
            "loading: /content/drive/MyDrive/UCLA/cs 263/final_proj/val2014/COCO_val2014_000000283412.jpg\n",
            "loading: /content/drive/MyDrive/UCLA/cs 263/final_proj/val2014/COCO_val2014_000000283412.jpg\n",
            "loading: /content/drive/MyDrive/UCLA/cs 263/final_proj/val2014/COCO_val2014_000000283412.jpg\n",
            "loading: /content/drive/MyDrive/UCLA/cs 263/final_proj/val2014/COCO_val2014_000000265719.jpg\n",
            "loading: /content/drive/MyDrive/UCLA/cs 263/final_proj/val2014/COCO_val2014_000000265719.jpg\n",
            "loading: /content/drive/MyDrive/UCLA/cs 263/final_proj/val2014/COCO_val2014_000000265719.jpg\n",
            "loading: /content/drive/MyDrive/UCLA/cs 263/final_proj/val2014/COCO_val2014_000000265719.jpg\n",
            "loading: /content/drive/MyDrive/UCLA/cs 263/final_proj/val2014/COCO_val2014_000000265719.jpg\n",
            "loading: /content/drive/MyDrive/UCLA/cs 263/final_proj/val2014/COCO_val2014_000000265719.jpg\n",
            "loading: /content/drive/MyDrive/UCLA/cs 263/final_proj/val2014/COCO_val2014_000000461331.jpg\n",
            "loading: /content/drive/MyDrive/UCLA/cs 263/final_proj/val2014/COCO_val2014_000000461331.jpg\n",
            "loading: /content/drive/MyDrive/UCLA/cs 263/final_proj/val2014/COCO_val2014_000000461331.jpg\n",
            "loading: /content/drive/MyDrive/UCLA/cs 263/final_proj/val2014/COCO_val2014_000000461331.jpg\n",
            "loading: /content/drive/MyDrive/UCLA/cs 263/final_proj/val2014/COCO_val2014_000000461331.jpg\n",
            "loading: /content/drive/MyDrive/UCLA/cs 263/final_proj/val2014/COCO_val2014_000000461331.jpg\n",
            "loading: /content/drive/MyDrive/UCLA/cs 263/final_proj/val2014/COCO_val2014_000000544456.jpg\n",
            "loading: /content/drive/MyDrive/UCLA/cs 263/final_proj/val2014/COCO_val2014_000000544456.jpg\n",
            "loading: /content/drive/MyDrive/UCLA/cs 263/final_proj/val2014/COCO_val2014_000000544456.jpg\n",
            "loading: /content/drive/MyDrive/UCLA/cs 263/final_proj/val2014/COCO_val2014_000000544456.jpg\n",
            "loading: /content/drive/MyDrive/UCLA/cs 263/final_proj/val2014/COCO_val2014_000000544456.jpg\n",
            "loading: /content/drive/MyDrive/UCLA/cs 263/final_proj/val2014/COCO_val2014_000000544456.jpg\n",
            "loading: /content/drive/MyDrive/UCLA/cs 263/final_proj/val2014/COCO_val2014_000000017708.jpg\n",
            "loading: /content/drive/MyDrive/UCLA/cs 263/final_proj/val2014/COCO_val2014_000000017708.jpg\n",
            "loading: /content/drive/MyDrive/UCLA/cs 263/final_proj/val2014/COCO_val2014_000000017708.jpg\n",
            "loading: /content/drive/MyDrive/UCLA/cs 263/final_proj/val2014/COCO_val2014_000000017708.jpg\n",
            "loading: /content/drive/MyDrive/UCLA/cs 263/final_proj/val2014/COCO_val2014_000000017708.jpg\n",
            "loading: /content/drive/MyDrive/UCLA/cs 263/final_proj/val2014/COCO_val2014_000000017708.jpg\n",
            "loading: /content/drive/MyDrive/UCLA/cs 263/final_proj/val2014/COCO_val2014_000000574692.jpg\n",
            "loading: /content/drive/MyDrive/UCLA/cs 263/final_proj/val2014/COCO_val2014_000000574692.jpg\n",
            "loading: /content/drive/MyDrive/UCLA/cs 263/final_proj/val2014/COCO_val2014_000000574692.jpg\n",
            "loading: /content/drive/MyDrive/UCLA/cs 263/final_proj/val2014/COCO_val2014_000000574692.jpg\n",
            "loading: /content/drive/MyDrive/UCLA/cs 263/final_proj/val2014/COCO_val2014_000000574692.jpg\n",
            "loading: /content/drive/MyDrive/UCLA/cs 263/final_proj/val2014/COCO_val2014_000000574692.jpg\n",
            "loading: /content/drive/MyDrive/UCLA/cs 263/final_proj/val2014/COCO_val2014_000000353180.jpg\n",
            "loading: /content/drive/MyDrive/UCLA/cs 263/final_proj/val2014/COCO_val2014_000000353180.jpg\n",
            "loading: /content/drive/MyDrive/UCLA/cs 263/final_proj/val2014/COCO_val2014_000000353180.jpg\n",
            "loading: /content/drive/MyDrive/UCLA/cs 263/final_proj/val2014/COCO_val2014_000000353180.jpg\n",
            "loading: /content/drive/MyDrive/UCLA/cs 263/final_proj/val2014/COCO_val2014_000000353180.jpg\n",
            "loading: /content/drive/MyDrive/UCLA/cs 263/final_proj/val2014/COCO_val2014_000000353180.jpg\n",
            "loading: /content/drive/MyDrive/UCLA/cs 263/final_proj/val2014/COCO_val2014_000000239444.jpg\n",
            "loading: /content/drive/MyDrive/UCLA/cs 263/final_proj/val2014/COCO_val2014_000000239444.jpg\n",
            "loading: /content/drive/MyDrive/UCLA/cs 263/final_proj/val2014/COCO_val2014_000000239444.jpg\n",
            "loading: /content/drive/MyDrive/UCLA/cs 263/final_proj/val2014/COCO_val2014_000000239444.jpg\n",
            "loading: /content/drive/MyDrive/UCLA/cs 263/final_proj/val2014/COCO_val2014_000000239444.jpg\n",
            "loading: /content/drive/MyDrive/UCLA/cs 263/final_proj/val2014/COCO_val2014_000000239444.jpg\n",
            "loading: /content/drive/MyDrive/UCLA/cs 263/final_proj/val2014/COCO_val2014_000000569839.jpg\n",
            "loading: /content/drive/MyDrive/UCLA/cs 263/final_proj/val2014/COCO_val2014_000000569839.jpg\n",
            "loading: /content/drive/MyDrive/UCLA/cs 263/final_proj/val2014/COCO_val2014_000000569839.jpg\n",
            "loading: /content/drive/MyDrive/UCLA/cs 263/final_proj/val2014/COCO_val2014_000000569839.jpg\n",
            "loading: /content/drive/MyDrive/UCLA/cs 263/final_proj/val2014/COCO_val2014_000000569839.jpg\n",
            "loading: /content/drive/MyDrive/UCLA/cs 263/final_proj/val2014/COCO_val2014_000000569839.jpg\n",
            "loading: /content/drive/MyDrive/UCLA/cs 263/final_proj/val2014/COCO_val2014_000000219622.jpg\n",
            "loading: /content/drive/MyDrive/UCLA/cs 263/final_proj/val2014/COCO_val2014_000000219622.jpg\n",
            "loading: /content/drive/MyDrive/UCLA/cs 263/final_proj/val2014/COCO_val2014_000000219622.jpg\n",
            "loading: /content/drive/MyDrive/UCLA/cs 263/final_proj/val2014/COCO_val2014_000000219622.jpg\n",
            "loading: /content/drive/MyDrive/UCLA/cs 263/final_proj/val2014/COCO_val2014_000000219622.jpg\n",
            "loading: /content/drive/MyDrive/UCLA/cs 263/final_proj/val2014/COCO_val2014_000000219622.jpg\n",
            "loading: /content/drive/MyDrive/UCLA/cs 263/final_proj/val2014/COCO_val2014_000000300368.jpg\n",
            "loading: /content/drive/MyDrive/UCLA/cs 263/final_proj/val2014/COCO_val2014_000000300368.jpg\n",
            "loading: /content/drive/MyDrive/UCLA/cs 263/final_proj/val2014/COCO_val2014_000000300368.jpg\n",
            "loading: /content/drive/MyDrive/UCLA/cs 263/final_proj/val2014/COCO_val2014_000000300368.jpg\n",
            "loading: /content/drive/MyDrive/UCLA/cs 263/final_proj/val2014/COCO_val2014_000000300368.jpg\n",
            "loading: /content/drive/MyDrive/UCLA/cs 263/final_proj/val2014/COCO_val2014_000000300368.jpg\n",
            "loading: /content/drive/MyDrive/UCLA/cs 263/final_proj/val2014/COCO_val2014_000000482476.jpg\n",
            "loading: /content/drive/MyDrive/UCLA/cs 263/final_proj/val2014/COCO_val2014_000000482476.jpg\n",
            "loading: /content/drive/MyDrive/UCLA/cs 263/final_proj/val2014/COCO_val2014_000000482476.jpg\n",
            "loading: /content/drive/MyDrive/UCLA/cs 263/final_proj/val2014/COCO_val2014_000000482476.jpg\n",
            "loading: /content/drive/MyDrive/UCLA/cs 263/final_proj/val2014/COCO_val2014_000000482476.jpg\n",
            "loading: /content/drive/MyDrive/UCLA/cs 263/final_proj/val2014/COCO_val2014_000000482476.jpg\n",
            "loading: /content/drive/MyDrive/UCLA/cs 263/final_proj/val2014/COCO_val2014_000000131115.jpg\n",
            "loading: /content/drive/MyDrive/UCLA/cs 263/final_proj/val2014/COCO_val2014_000000131115.jpg\n",
            "loading: /content/drive/MyDrive/UCLA/cs 263/final_proj/val2014/COCO_val2014_000000131115.jpg\n",
            "loading: /content/drive/MyDrive/UCLA/cs 263/final_proj/val2014/COCO_val2014_000000131115.jpg\n",
            "loading: /content/drive/MyDrive/UCLA/cs 263/final_proj/val2014/COCO_val2014_000000131115.jpg\n",
            "loading: /content/drive/MyDrive/UCLA/cs 263/final_proj/val2014/COCO_val2014_000000131115.jpg\n",
            "loading: /content/drive/MyDrive/UCLA/cs 263/final_proj/val2014/COCO_val2014_000000157084.jpg\n",
            "loading: /content/drive/MyDrive/UCLA/cs 263/final_proj/val2014/COCO_val2014_000000157084.jpg\n",
            "loading: /content/drive/MyDrive/UCLA/cs 263/final_proj/val2014/COCO_val2014_000000157084.jpg\n",
            "loading: /content/drive/MyDrive/UCLA/cs 263/final_proj/val2014/COCO_val2014_000000157084.jpg\n",
            "loading: /content/drive/MyDrive/UCLA/cs 263/final_proj/val2014/COCO_val2014_000000157084.jpg\n",
            "loading: /content/drive/MyDrive/UCLA/cs 263/final_proj/val2014/COCO_val2014_000000157084.jpg\n",
            "loading: /content/drive/MyDrive/UCLA/cs 263/final_proj/val2014/COCO_val2014_000000381895.jpg\n",
            "loading: /content/drive/MyDrive/UCLA/cs 263/final_proj/val2014/COCO_val2014_000000381895.jpg\n",
            "loading: /content/drive/MyDrive/UCLA/cs 263/final_proj/val2014/COCO_val2014_000000381895.jpg\n",
            "loading: /content/drive/MyDrive/UCLA/cs 263/final_proj/val2014/COCO_val2014_000000381895.jpg\n",
            "loading: /content/drive/MyDrive/UCLA/cs 263/final_proj/val2014/COCO_val2014_000000381895.jpg\n",
            "loading: /content/drive/MyDrive/UCLA/cs 263/final_proj/val2014/COCO_val2014_000000381895.jpg\n",
            "loading: /content/drive/MyDrive/UCLA/cs 263/final_proj/val2014/COCO_val2014_000000336872.jpg\n",
            "loading: /content/drive/MyDrive/UCLA/cs 263/final_proj/val2014/COCO_val2014_000000336872.jpg\n",
            "loading: /content/drive/MyDrive/UCLA/cs 263/final_proj/val2014/COCO_val2014_000000336872.jpg\n",
            "loading: /content/drive/MyDrive/UCLA/cs 263/final_proj/val2014/COCO_val2014_000000336872.jpg\n",
            "loading: /content/drive/MyDrive/UCLA/cs 263/final_proj/val2014/COCO_val2014_000000336872.jpg\n",
            "loading: /content/drive/MyDrive/UCLA/cs 263/final_proj/val2014/COCO_val2014_000000336872.jpg\n",
            "loading: /content/drive/MyDrive/UCLA/cs 263/final_proj/val2014/COCO_val2014_000000075591.jpg\n",
            "loading: /content/drive/MyDrive/UCLA/cs 263/final_proj/val2014/COCO_val2014_000000075591.jpg\n",
            "loading: /content/drive/MyDrive/UCLA/cs 263/final_proj/val2014/COCO_val2014_000000075591.jpg\n",
            "loading: /content/drive/MyDrive/UCLA/cs 263/final_proj/val2014/COCO_val2014_000000075591.jpg\n",
            "loading: /content/drive/MyDrive/UCLA/cs 263/final_proj/val2014/COCO_val2014_000000075591.jpg\n",
            "loading: /content/drive/MyDrive/UCLA/cs 263/final_proj/val2014/COCO_val2014_000000075591.jpg\n",
            "loading: /content/drive/MyDrive/UCLA/cs 263/final_proj/val2014/COCO_val2014_000000516916.jpg\n",
            "loading: /content/drive/MyDrive/UCLA/cs 263/final_proj/val2014/COCO_val2014_000000516916.jpg\n",
            "loading: /content/drive/MyDrive/UCLA/cs 263/final_proj/val2014/COCO_val2014_000000516916.jpg\n",
            "loading: /content/drive/MyDrive/UCLA/cs 263/final_proj/val2014/COCO_val2014_000000516916.jpg\n",
            "loading: /content/drive/MyDrive/UCLA/cs 263/final_proj/val2014/COCO_val2014_000000516916.jpg\n",
            "loading: /content/drive/MyDrive/UCLA/cs 263/final_proj/val2014/COCO_val2014_000000516916.jpg\n",
            "loading: /content/drive/MyDrive/UCLA/cs 263/final_proj/val2014/COCO_val2014_000000542145.jpg\n",
            "loading: /content/drive/MyDrive/UCLA/cs 263/final_proj/val2014/COCO_val2014_000000542145.jpg\n",
            "loading: /content/drive/MyDrive/UCLA/cs 263/final_proj/val2014/COCO_val2014_000000542145.jpg\n",
            "loading: /content/drive/MyDrive/UCLA/cs 263/final_proj/val2014/COCO_val2014_000000542145.jpg\n",
            "loading: /content/drive/MyDrive/UCLA/cs 263/final_proj/val2014/COCO_val2014_000000542145.jpg\n",
            "loading: /content/drive/MyDrive/UCLA/cs 263/final_proj/val2014/COCO_val2014_000000542145.jpg\n",
            "loading: /content/drive/MyDrive/UCLA/cs 263/final_proj/val2014/COCO_val2014_000000218224.jpg\n",
            "loading: /content/drive/MyDrive/UCLA/cs 263/final_proj/val2014/COCO_val2014_000000218224.jpg\n",
            "loading: /content/drive/MyDrive/UCLA/cs 263/final_proj/val2014/COCO_val2014_000000218224.jpg\n",
            "loading: /content/drive/MyDrive/UCLA/cs 263/final_proj/val2014/COCO_val2014_000000218224.jpg\n",
            "loading: /content/drive/MyDrive/UCLA/cs 263/final_proj/val2014/COCO_val2014_000000218224.jpg\n",
            "loading: /content/drive/MyDrive/UCLA/cs 263/final_proj/val2014/COCO_val2014_000000218224.jpg\n",
            "loading: /content/drive/MyDrive/UCLA/cs 263/final_proj/val2014/COCO_val2014_000000297078.jpg\n",
            "loading: /content/drive/MyDrive/UCLA/cs 263/final_proj/val2014/COCO_val2014_000000297078.jpg\n",
            "loading: /content/drive/MyDrive/UCLA/cs 263/final_proj/val2014/COCO_val2014_000000297078.jpg\n",
            "loading: /content/drive/MyDrive/UCLA/cs 263/final_proj/val2014/COCO_val2014_000000297078.jpg\n",
            "loading: /content/drive/MyDrive/UCLA/cs 263/final_proj/val2014/COCO_val2014_000000297078.jpg\n",
            "loading: /content/drive/MyDrive/UCLA/cs 263/final_proj/val2014/COCO_val2014_000000297078.jpg\n",
            "loading: /content/drive/MyDrive/UCLA/cs 263/final_proj/val2014/COCO_val2014_000000033270.jpg\n",
            "loading: /content/drive/MyDrive/UCLA/cs 263/final_proj/val2014/COCO_val2014_000000033270.jpg\n",
            "loading: /content/drive/MyDrive/UCLA/cs 263/final_proj/val2014/COCO_val2014_000000033270.jpg\n",
            "loading: /content/drive/MyDrive/UCLA/cs 263/final_proj/val2014/COCO_val2014_000000033270.jpg\n",
            "loading: /content/drive/MyDrive/UCLA/cs 263/final_proj/val2014/COCO_val2014_000000033270.jpg\n",
            "loading: /content/drive/MyDrive/UCLA/cs 263/final_proj/val2014/COCO_val2014_000000033270.jpg\n",
            "loading: /content/drive/MyDrive/UCLA/cs 263/final_proj/val2014/COCO_val2014_000000140583.jpg\n",
            "loading: /content/drive/MyDrive/UCLA/cs 263/final_proj/val2014/COCO_val2014_000000140583.jpg\n",
            "loading: /content/drive/MyDrive/UCLA/cs 263/final_proj/val2014/COCO_val2014_000000140583.jpg\n",
            "loading: /content/drive/MyDrive/UCLA/cs 263/final_proj/val2014/COCO_val2014_000000140583.jpg\n",
            "loading: /content/drive/MyDrive/UCLA/cs 263/final_proj/val2014/COCO_val2014_000000140583.jpg\n",
            "loading: /content/drive/MyDrive/UCLA/cs 263/final_proj/val2014/COCO_val2014_000000140583.jpg\n",
            "loading: /content/drive/MyDrive/UCLA/cs 263/final_proj/val2014/COCO_val2014_000000421455.jpg\n",
            "loading: /content/drive/MyDrive/UCLA/cs 263/final_proj/val2014/COCO_val2014_000000421455.jpg\n",
            "loading: /content/drive/MyDrive/UCLA/cs 263/final_proj/val2014/COCO_val2014_000000421455.jpg\n",
            "loading: /content/drive/MyDrive/UCLA/cs 263/final_proj/val2014/COCO_val2014_000000421455.jpg\n",
            "loading: /content/drive/MyDrive/UCLA/cs 263/final_proj/val2014/COCO_val2014_000000421455.jpg\n",
            "loading: /content/drive/MyDrive/UCLA/cs 263/final_proj/val2014/COCO_val2014_000000421455.jpg\n",
            "loading: /content/drive/MyDrive/UCLA/cs 263/final_proj/val2014/COCO_val2014_000000288639.jpg\n",
            "loading: /content/drive/MyDrive/UCLA/cs 263/final_proj/val2014/COCO_val2014_000000288639.jpg\n",
            "loading: /content/drive/MyDrive/UCLA/cs 263/final_proj/val2014/COCO_val2014_000000288639.jpg\n",
            "loading: /content/drive/MyDrive/UCLA/cs 263/final_proj/val2014/COCO_val2014_000000288639.jpg\n",
            "loading: /content/drive/MyDrive/UCLA/cs 263/final_proj/val2014/COCO_val2014_000000288639.jpg\n",
            "loading: /content/drive/MyDrive/UCLA/cs 263/final_proj/val2014/COCO_val2014_000000288639.jpg\n",
            "loading: /content/drive/MyDrive/UCLA/cs 263/final_proj/val2014/COCO_val2014_000000291936.jpg\n",
            "loading: /content/drive/MyDrive/UCLA/cs 263/final_proj/val2014/COCO_val2014_000000291936.jpg\n",
            "loading: /content/drive/MyDrive/UCLA/cs 263/final_proj/val2014/COCO_val2014_000000291936.jpg\n",
            "loading: /content/drive/MyDrive/UCLA/cs 263/final_proj/val2014/COCO_val2014_000000291936.jpg\n",
            "loading: /content/drive/MyDrive/UCLA/cs 263/final_proj/val2014/COCO_val2014_000000291936.jpg\n",
            "loading: /content/drive/MyDrive/UCLA/cs 263/final_proj/val2014/COCO_val2014_000000291936.jpg\n",
            "loading: /content/drive/MyDrive/UCLA/cs 263/final_proj/val2014/COCO_val2014_000000063953.jpg\n",
            "loading: /content/drive/MyDrive/UCLA/cs 263/final_proj/val2014/COCO_val2014_000000063953.jpg\n",
            "loading: /content/drive/MyDrive/UCLA/cs 263/final_proj/val2014/COCO_val2014_000000063953.jpg\n",
            "loading: /content/drive/MyDrive/UCLA/cs 263/final_proj/val2014/COCO_val2014_000000063953.jpg\n",
            "loading: /content/drive/MyDrive/UCLA/cs 263/final_proj/val2014/COCO_val2014_000000063953.jpg\n",
            "loading: /content/drive/MyDrive/UCLA/cs 263/final_proj/val2014/COCO_val2014_000000063953.jpg\n",
            "loading: /content/drive/MyDrive/UCLA/cs 263/final_proj/val2014/COCO_val2014_000000526321.jpg\n",
            "loading: /content/drive/MyDrive/UCLA/cs 263/final_proj/val2014/COCO_val2014_000000526321.jpg\n",
            "loading: /content/drive/MyDrive/UCLA/cs 263/final_proj/val2014/COCO_val2014_000000526321.jpg\n",
            "loading: /content/drive/MyDrive/UCLA/cs 263/final_proj/val2014/COCO_val2014_000000526321.jpg\n",
            "loading: /content/drive/MyDrive/UCLA/cs 263/final_proj/val2014/COCO_val2014_000000526321.jpg\n",
            "loading: /content/drive/MyDrive/UCLA/cs 263/final_proj/val2014/COCO_val2014_000000526321.jpg\n",
            "loading: /content/drive/MyDrive/UCLA/cs 263/final_proj/val2014/COCO_val2014_000000042190.jpg\n",
            "loading: /content/drive/MyDrive/UCLA/cs 263/final_proj/val2014/COCO_val2014_000000042190.jpg\n",
            "loading: /content/drive/MyDrive/UCLA/cs 263/final_proj/val2014/COCO_val2014_000000042190.jpg\n",
            "loading: /content/drive/MyDrive/UCLA/cs 263/final_proj/val2014/COCO_val2014_000000042190.jpg\n",
            "loading: /content/drive/MyDrive/UCLA/cs 263/final_proj/val2014/COCO_val2014_000000042190.jpg\n",
            "loading: /content/drive/MyDrive/UCLA/cs 263/final_proj/val2014/COCO_val2014_000000042190.jpg\n",
            "loading: /content/drive/MyDrive/UCLA/cs 263/final_proj/val2014/COCO_val2014_000000553165.jpg\n",
            "loading: /content/drive/MyDrive/UCLA/cs 263/final_proj/val2014/COCO_val2014_000000553165.jpg\n",
            "loading: /content/drive/MyDrive/UCLA/cs 263/final_proj/val2014/COCO_val2014_000000553165.jpg\n",
            "loading: /content/drive/MyDrive/UCLA/cs 263/final_proj/val2014/COCO_val2014_000000553165.jpg\n",
            "loading: /content/drive/MyDrive/UCLA/cs 263/final_proj/val2014/COCO_val2014_000000553165.jpg\n",
            "loading: /content/drive/MyDrive/UCLA/cs 263/final_proj/val2014/COCO_val2014_000000553165.jpg\n",
            "loading: /content/drive/MyDrive/UCLA/cs 263/final_proj/val2014/COCO_val2014_000000170517.jpg\n",
            "loading: /content/drive/MyDrive/UCLA/cs 263/final_proj/val2014/COCO_val2014_000000170517.jpg\n",
            "loading: /content/drive/MyDrive/UCLA/cs 263/final_proj/val2014/COCO_val2014_000000170517.jpg\n",
            "loading: /content/drive/MyDrive/UCLA/cs 263/final_proj/val2014/COCO_val2014_000000170517.jpg\n",
            "loading: /content/drive/MyDrive/UCLA/cs 263/final_proj/val2014/COCO_val2014_000000170517.jpg\n",
            "loading: /content/drive/MyDrive/UCLA/cs 263/final_proj/val2014/COCO_val2014_000000170517.jpg\n",
            "loading: /content/drive/MyDrive/UCLA/cs 263/final_proj/val2014/COCO_val2014_000000498759.jpg\n",
            "loading: /content/drive/MyDrive/UCLA/cs 263/final_proj/val2014/COCO_val2014_000000498759.jpg\n",
            "loading: /content/drive/MyDrive/UCLA/cs 263/final_proj/val2014/COCO_val2014_000000498759.jpg\n",
            "loading: /content/drive/MyDrive/UCLA/cs 263/final_proj/val2014/COCO_val2014_000000498759.jpg\n",
            "loading: /content/drive/MyDrive/UCLA/cs 263/final_proj/val2014/COCO_val2014_000000498759.jpg\n",
            "loading: /content/drive/MyDrive/UCLA/cs 263/final_proj/val2014/COCO_val2014_000000498759.jpg\n",
            "loading: /content/drive/MyDrive/UCLA/cs 263/final_proj/val2014/COCO_val2014_000000360600.jpg\n",
            "loading: /content/drive/MyDrive/UCLA/cs 263/final_proj/val2014/COCO_val2014_000000360600.jpg\n",
            "loading: /content/drive/MyDrive/UCLA/cs 263/final_proj/val2014/COCO_val2014_000000360600.jpg\n",
            "loading: /content/drive/MyDrive/UCLA/cs 263/final_proj/val2014/COCO_val2014_000000360600.jpg\n",
            "loading: /content/drive/MyDrive/UCLA/cs 263/final_proj/val2014/COCO_val2014_000000360600.jpg\n",
            "loading: /content/drive/MyDrive/UCLA/cs 263/final_proj/val2014/COCO_val2014_000000360600.jpg\n",
            "loading: /content/drive/MyDrive/UCLA/cs 263/final_proj/val2014/COCO_val2014_000000031773.jpg\n",
            "loading: /content/drive/MyDrive/UCLA/cs 263/final_proj/val2014/COCO_val2014_000000031773.jpg\n",
            "loading: /content/drive/MyDrive/UCLA/cs 263/final_proj/val2014/COCO_val2014_000000031773.jpg\n",
            "loading: /content/drive/MyDrive/UCLA/cs 263/final_proj/val2014/COCO_val2014_000000031773.jpg\n",
            "loading: /content/drive/MyDrive/UCLA/cs 263/final_proj/val2014/COCO_val2014_000000031773.jpg\n",
            "loading: /content/drive/MyDrive/UCLA/cs 263/final_proj/val2014/COCO_val2014_000000031773.jpg\n",
            "loading: /content/drive/MyDrive/UCLA/cs 263/final_proj/val2014/COCO_val2014_000000500257.jpg\n",
            "loading: /content/drive/MyDrive/UCLA/cs 263/final_proj/val2014/COCO_val2014_000000500257.jpg\n",
            "loading: /content/drive/MyDrive/UCLA/cs 263/final_proj/val2014/COCO_val2014_000000500257.jpg\n",
            "loading: /content/drive/MyDrive/UCLA/cs 263/final_proj/val2014/COCO_val2014_000000500257.jpg\n",
            "loading: /content/drive/MyDrive/UCLA/cs 263/final_proj/val2014/COCO_val2014_000000500257.jpg\n",
            "loading: /content/drive/MyDrive/UCLA/cs 263/final_proj/val2014/COCO_val2014_000000500257.jpg\n",
            "loading: /content/drive/MyDrive/UCLA/cs 263/final_proj/val2014/COCO_val2014_000000574057.jpg\n",
            "loading: /content/drive/MyDrive/UCLA/cs 263/final_proj/val2014/COCO_val2014_000000574057.jpg\n",
            "loading: /content/drive/MyDrive/UCLA/cs 263/final_proj/val2014/COCO_val2014_000000574057.jpg\n",
            "loading: /content/drive/MyDrive/UCLA/cs 263/final_proj/val2014/COCO_val2014_000000574057.jpg\n",
            "loading: /content/drive/MyDrive/UCLA/cs 263/final_proj/val2014/COCO_val2014_000000574057.jpg\n",
            "loading: /content/drive/MyDrive/UCLA/cs 263/final_proj/val2014/COCO_val2014_000000574057.jpg\n",
            "loading: /content/drive/MyDrive/UCLA/cs 263/final_proj/val2014/COCO_val2014_000000456178.jpg\n",
            "loading: /content/drive/MyDrive/UCLA/cs 263/final_proj/val2014/COCO_val2014_000000456178.jpg\n",
            "loading: /content/drive/MyDrive/UCLA/cs 263/final_proj/val2014/COCO_val2014_000000456178.jpg\n",
            "loading: /content/drive/MyDrive/UCLA/cs 263/final_proj/val2014/COCO_val2014_000000456178.jpg\n",
            "loading: /content/drive/MyDrive/UCLA/cs 263/final_proj/val2014/COCO_val2014_000000456178.jpg\n",
            "loading: /content/drive/MyDrive/UCLA/cs 263/final_proj/val2014/COCO_val2014_000000456178.jpg\n",
            "loading: /content/drive/MyDrive/UCLA/cs 263/final_proj/val2014/COCO_val2014_000000565941.jpg\n",
            "loading: /content/drive/MyDrive/UCLA/cs 263/final_proj/val2014/COCO_val2014_000000565941.jpg\n",
            "loading: /content/drive/MyDrive/UCLA/cs 263/final_proj/val2014/COCO_val2014_000000565941.jpg\n",
            "loading: /content/drive/MyDrive/UCLA/cs 263/final_proj/val2014/COCO_val2014_000000565941.jpg\n",
            "loading: /content/drive/MyDrive/UCLA/cs 263/final_proj/val2014/COCO_val2014_000000565941.jpg\n",
            "loading: /content/drive/MyDrive/UCLA/cs 263/final_proj/val2014/COCO_val2014_000000565941.jpg\n",
            "loading: /content/drive/MyDrive/UCLA/cs 263/final_proj/val2014/COCO_val2014_000000485564.jpg\n",
            "loading: /content/drive/MyDrive/UCLA/cs 263/final_proj/val2014/COCO_val2014_000000485564.jpg\n",
            "loading: /content/drive/MyDrive/UCLA/cs 263/final_proj/val2014/COCO_val2014_000000485564.jpg\n",
            "loading: /content/drive/MyDrive/UCLA/cs 263/final_proj/val2014/COCO_val2014_000000485564.jpg\n",
            "loading: /content/drive/MyDrive/UCLA/cs 263/final_proj/val2014/COCO_val2014_000000485564.jpg\n",
            "loading: /content/drive/MyDrive/UCLA/cs 263/final_proj/val2014/COCO_val2014_000000485564.jpg\n",
            "loading: /content/drive/MyDrive/UCLA/cs 263/final_proj/val2014/COCO_val2014_000000454642.jpg\n",
            "loading: /content/drive/MyDrive/UCLA/cs 263/final_proj/val2014/COCO_val2014_000000454642.jpg\n",
            "loading: /content/drive/MyDrive/UCLA/cs 263/final_proj/val2014/COCO_val2014_000000454642.jpg\n",
            "loading: /content/drive/MyDrive/UCLA/cs 263/final_proj/val2014/COCO_val2014_000000454642.jpg\n",
            "loading: /content/drive/MyDrive/UCLA/cs 263/final_proj/val2014/COCO_val2014_000000454642.jpg\n",
            "loading: /content/drive/MyDrive/UCLA/cs 263/final_proj/val2014/COCO_val2014_000000454642.jpg\n",
            "loading: /content/drive/MyDrive/UCLA/cs 263/final_proj/val2014/COCO_val2014_000000205729.jpg\n",
            "loading: /content/drive/MyDrive/UCLA/cs 263/final_proj/val2014/COCO_val2014_000000205729.jpg\n",
            "loading: /content/drive/MyDrive/UCLA/cs 263/final_proj/val2014/COCO_val2014_000000205729.jpg\n",
            "loading: /content/drive/MyDrive/UCLA/cs 263/final_proj/val2014/COCO_val2014_000000205729.jpg\n",
            "loading: /content/drive/MyDrive/UCLA/cs 263/final_proj/val2014/COCO_val2014_000000205729.jpg\n",
            "loading: /content/drive/MyDrive/UCLA/cs 263/final_proj/val2014/COCO_val2014_000000205729.jpg\n",
            "loading: /content/drive/MyDrive/UCLA/cs 263/final_proj/val2014/COCO_val2014_000000424792.jpg\n",
            "loading: /content/drive/MyDrive/UCLA/cs 263/final_proj/val2014/COCO_val2014_000000424792.jpg\n",
            "loading: /content/drive/MyDrive/UCLA/cs 263/final_proj/val2014/COCO_val2014_000000424792.jpg\n",
            "loading: /content/drive/MyDrive/UCLA/cs 263/final_proj/val2014/COCO_val2014_000000424792.jpg\n",
            "loading: /content/drive/MyDrive/UCLA/cs 263/final_proj/val2014/COCO_val2014_000000424792.jpg\n",
            "loading: /content/drive/MyDrive/UCLA/cs 263/final_proj/val2014/COCO_val2014_000000424792.jpg\n",
            "loading: /content/drive/MyDrive/UCLA/cs 263/final_proj/val2014/COCO_val2014_000000329717.jpg\n",
            "loading: /content/drive/MyDrive/UCLA/cs 263/final_proj/val2014/COCO_val2014_000000329717.jpg\n",
            "loading: /content/drive/MyDrive/UCLA/cs 263/final_proj/val2014/COCO_val2014_000000329717.jpg\n",
            "loading: /content/drive/MyDrive/UCLA/cs 263/final_proj/val2014/COCO_val2014_000000329717.jpg\n",
            "loading: /content/drive/MyDrive/UCLA/cs 263/final_proj/val2014/COCO_val2014_000000329717.jpg\n",
            "loading: /content/drive/MyDrive/UCLA/cs 263/final_proj/val2014/COCO_val2014_000000329717.jpg\n",
            "loading: /content/drive/MyDrive/UCLA/cs 263/final_proj/val2014/COCO_val2014_000000012333.jpg\n",
            "loading: /content/drive/MyDrive/UCLA/cs 263/final_proj/val2014/COCO_val2014_000000012333.jpg\n",
            "loading: /content/drive/MyDrive/UCLA/cs 263/final_proj/val2014/COCO_val2014_000000012333.jpg\n",
            "loading: /content/drive/MyDrive/UCLA/cs 263/final_proj/val2014/COCO_val2014_000000012333.jpg\n",
            "loading: /content/drive/MyDrive/UCLA/cs 263/final_proj/val2014/COCO_val2014_000000012333.jpg\n",
            "loading: /content/drive/MyDrive/UCLA/cs 263/final_proj/val2014/COCO_val2014_000000012333.jpg\n",
            "loading: /content/drive/MyDrive/UCLA/cs 263/final_proj/val2014/COCO_val2014_000000480122.jpg\n",
            "loading: /content/drive/MyDrive/UCLA/cs 263/final_proj/val2014/COCO_val2014_000000480122.jpg\n",
            "loading: /content/drive/MyDrive/UCLA/cs 263/final_proj/val2014/COCO_val2014_000000480122.jpg\n",
            "loading: /content/drive/MyDrive/UCLA/cs 263/final_proj/val2014/COCO_val2014_000000480122.jpg\n",
            "loading: /content/drive/MyDrive/UCLA/cs 263/final_proj/val2014/COCO_val2014_000000480122.jpg\n",
            "loading: /content/drive/MyDrive/UCLA/cs 263/final_proj/val2014/COCO_val2014_000000480122.jpg\n",
            "loading: /content/drive/MyDrive/UCLA/cs 263/final_proj/val2014/COCO_val2014_000000515904.jpg\n",
            "loading: /content/drive/MyDrive/UCLA/cs 263/final_proj/val2014/COCO_val2014_000000515904.jpg\n",
            "loading: /content/drive/MyDrive/UCLA/cs 263/final_proj/val2014/COCO_val2014_000000515904.jpg\n",
            "loading: /content/drive/MyDrive/UCLA/cs 263/final_proj/val2014/COCO_val2014_000000515904.jpg\n",
            "loading: /content/drive/MyDrive/UCLA/cs 263/final_proj/val2014/COCO_val2014_000000515904.jpg\n",
            "loading: /content/drive/MyDrive/UCLA/cs 263/final_proj/val2014/COCO_val2014_000000515904.jpg\n",
            "loading: /content/drive/MyDrive/UCLA/cs 263/final_proj/val2014/COCO_val2014_000000437347.jpg\n",
            "loading: /content/drive/MyDrive/UCLA/cs 263/final_proj/val2014/COCO_val2014_000000437347.jpg\n",
            "loading: /content/drive/MyDrive/UCLA/cs 263/final_proj/val2014/COCO_val2014_000000437347.jpg\n",
            "loading: /content/drive/MyDrive/UCLA/cs 263/final_proj/val2014/COCO_val2014_000000437347.jpg\n",
            "loading: /content/drive/MyDrive/UCLA/cs 263/final_proj/val2014/COCO_val2014_000000437347.jpg\n",
            "loading: /content/drive/MyDrive/UCLA/cs 263/final_proj/val2014/COCO_val2014_000000437347.jpg\n",
            "loading: /content/drive/MyDrive/UCLA/cs 263/final_proj/val2014/COCO_val2014_000000354229.jpg\n",
            "loading: /content/drive/MyDrive/UCLA/cs 263/final_proj/val2014/COCO_val2014_000000354229.jpg\n",
            "loading: /content/drive/MyDrive/UCLA/cs 263/final_proj/val2014/COCO_val2014_000000354229.jpg\n",
            "loading: /content/drive/MyDrive/UCLA/cs 263/final_proj/val2014/COCO_val2014_000000354229.jpg\n",
            "loading: /content/drive/MyDrive/UCLA/cs 263/final_proj/val2014/COCO_val2014_000000354229.jpg\n",
            "loading: /content/drive/MyDrive/UCLA/cs 263/final_proj/val2014/COCO_val2014_000000354229.jpg\n",
            "loading: /content/drive/MyDrive/UCLA/cs 263/final_proj/val2014/COCO_val2014_000000538236.jpg\n",
            "loading: /content/drive/MyDrive/UCLA/cs 263/final_proj/val2014/COCO_val2014_000000538236.jpg\n",
            "loading: /content/drive/MyDrive/UCLA/cs 263/final_proj/val2014/COCO_val2014_000000538236.jpg\n",
            "loading: /content/drive/MyDrive/UCLA/cs 263/final_proj/val2014/COCO_val2014_000000538236.jpg\n",
            "loading: /content/drive/MyDrive/UCLA/cs 263/final_proj/val2014/COCO_val2014_000000538236.jpg\n",
            "loading: /content/drive/MyDrive/UCLA/cs 263/final_proj/val2014/COCO_val2014_000000538236.jpg\n",
            "loading: /content/drive/MyDrive/UCLA/cs 263/final_proj/val2014/COCO_val2014_000000236865.jpg\n",
            "loading: /content/drive/MyDrive/UCLA/cs 263/final_proj/val2014/COCO_val2014_000000236865.jpg\n",
            "loading: /content/drive/MyDrive/UCLA/cs 263/final_proj/val2014/COCO_val2014_000000236865.jpg\n",
            "loading: /content/drive/MyDrive/UCLA/cs 263/final_proj/val2014/COCO_val2014_000000236865.jpg\n",
            "loading: /content/drive/MyDrive/UCLA/cs 263/final_proj/val2014/COCO_val2014_000000236865.jpg\n",
            "loading: /content/drive/MyDrive/UCLA/cs 263/final_proj/val2014/COCO_val2014_000000236865.jpg\n",
            "loading: /content/drive/MyDrive/UCLA/cs 263/final_proj/val2014/COCO_val2014_000000217397.jpg\n",
            "loading: /content/drive/MyDrive/UCLA/cs 263/final_proj/val2014/COCO_val2014_000000217397.jpg\n",
            "loading: /content/drive/MyDrive/UCLA/cs 263/final_proj/val2014/COCO_val2014_000000217397.jpg\n",
            "loading: /content/drive/MyDrive/UCLA/cs 263/final_proj/val2014/COCO_val2014_000000217397.jpg\n",
            "loading: /content/drive/MyDrive/UCLA/cs 263/final_proj/val2014/COCO_val2014_000000217397.jpg\n",
            "loading: /content/drive/MyDrive/UCLA/cs 263/final_proj/val2014/COCO_val2014_000000217397.jpg\n",
            "loading: /content/drive/MyDrive/UCLA/cs 263/final_proj/val2014/COCO_val2014_000000060213.jpg\n",
            "loading: /content/drive/MyDrive/UCLA/cs 263/final_proj/val2014/COCO_val2014_000000060213.jpg\n",
            "loading: /content/drive/MyDrive/UCLA/cs 263/final_proj/val2014/COCO_val2014_000000060213.jpg\n",
            "loading: /content/drive/MyDrive/UCLA/cs 263/final_proj/val2014/COCO_val2014_000000060213.jpg\n",
            "loading: /content/drive/MyDrive/UCLA/cs 263/final_proj/val2014/COCO_val2014_000000060213.jpg\n",
            "loading: /content/drive/MyDrive/UCLA/cs 263/final_proj/val2014/COCO_val2014_000000060213.jpg\n",
            "loading: /content/drive/MyDrive/UCLA/cs 263/final_proj/val2014/COCO_val2014_000000054025.jpg\n",
            "loading: /content/drive/MyDrive/UCLA/cs 263/final_proj/val2014/COCO_val2014_000000054025.jpg\n",
            "loading: /content/drive/MyDrive/UCLA/cs 263/final_proj/val2014/COCO_val2014_000000054025.jpg\n",
            "loading: /content/drive/MyDrive/UCLA/cs 263/final_proj/val2014/COCO_val2014_000000054025.jpg\n",
            "loading: /content/drive/MyDrive/UCLA/cs 263/final_proj/val2014/COCO_val2014_000000054025.jpg\n",
            "loading: /content/drive/MyDrive/UCLA/cs 263/final_proj/val2014/COCO_val2014_000000054025.jpg\n",
            "loading: /content/drive/MyDrive/UCLA/cs 263/final_proj/val2014/COCO_val2014_000000084447.jpg\n",
            "loading: /content/drive/MyDrive/UCLA/cs 263/final_proj/val2014/COCO_val2014_000000084447.jpg\n",
            "loading: /content/drive/MyDrive/UCLA/cs 263/final_proj/val2014/COCO_val2014_000000084447.jpg\n",
            "loading: /content/drive/MyDrive/UCLA/cs 263/final_proj/val2014/COCO_val2014_000000084447.jpg\n",
            "loading: /content/drive/MyDrive/UCLA/cs 263/final_proj/val2014/COCO_val2014_000000084447.jpg\n",
            "loading: /content/drive/MyDrive/UCLA/cs 263/final_proj/val2014/COCO_val2014_000000084447.jpg\n",
            "loading: /content/drive/MyDrive/UCLA/cs 263/final_proj/val2014/COCO_val2014_000000192660.jpg\n",
            "loading: /content/drive/MyDrive/UCLA/cs 263/final_proj/val2014/COCO_val2014_000000192660.jpg\n",
            "loading: /content/drive/MyDrive/UCLA/cs 263/final_proj/val2014/COCO_val2014_000000192660.jpg\n",
            "loading: /content/drive/MyDrive/UCLA/cs 263/final_proj/val2014/COCO_val2014_000000192660.jpg\n",
            "loading: /content/drive/MyDrive/UCLA/cs 263/final_proj/val2014/COCO_val2014_000000192660.jpg\n",
            "loading: /content/drive/MyDrive/UCLA/cs 263/final_proj/val2014/COCO_val2014_000000192660.jpg\n",
            "loading: /content/drive/MyDrive/UCLA/cs 263/final_proj/val2014/COCO_val2014_000000575755.jpg\n",
            "loading: /content/drive/MyDrive/UCLA/cs 263/final_proj/val2014/COCO_val2014_000000575755.jpg\n",
            "loading: /content/drive/MyDrive/UCLA/cs 263/final_proj/val2014/COCO_val2014_000000575755.jpg\n",
            "loading: /content/drive/MyDrive/UCLA/cs 263/final_proj/val2014/COCO_val2014_000000575755.jpg\n",
            "loading: /content/drive/MyDrive/UCLA/cs 263/final_proj/val2014/COCO_val2014_000000575755.jpg\n",
            "loading: /content/drive/MyDrive/UCLA/cs 263/final_proj/val2014/COCO_val2014_000000575755.jpg\n",
            "loading: /content/drive/MyDrive/UCLA/cs 263/final_proj/val2014/COCO_val2014_000000354088.jpg\n",
            "loading: /content/drive/MyDrive/UCLA/cs 263/final_proj/val2014/COCO_val2014_000000354088.jpg\n",
            "loading: /content/drive/MyDrive/UCLA/cs 263/final_proj/val2014/COCO_val2014_000000354088.jpg\n",
            "loading: /content/drive/MyDrive/UCLA/cs 263/final_proj/val2014/COCO_val2014_000000354088.jpg\n",
            "loading: /content/drive/MyDrive/UCLA/cs 263/final_proj/val2014/COCO_val2014_000000354088.jpg\n",
            "loading: /content/drive/MyDrive/UCLA/cs 263/final_proj/val2014/COCO_val2014_000000354088.jpg\n",
            "loading: /content/drive/MyDrive/UCLA/cs 263/final_proj/val2014/COCO_val2014_000000311327.jpg\n",
            "loading: /content/drive/MyDrive/UCLA/cs 263/final_proj/val2014/COCO_val2014_000000311327.jpg\n",
            "loading: /content/drive/MyDrive/UCLA/cs 263/final_proj/val2014/COCO_val2014_000000311327.jpg\n",
            "loading: /content/drive/MyDrive/UCLA/cs 263/final_proj/val2014/COCO_val2014_000000311327.jpg\n",
            "loading: /content/drive/MyDrive/UCLA/cs 263/final_proj/val2014/COCO_val2014_000000311327.jpg\n",
            "loading: /content/drive/MyDrive/UCLA/cs 263/final_proj/val2014/COCO_val2014_000000311327.jpg\n",
            "loading: /content/drive/MyDrive/UCLA/cs 263/final_proj/val2014/COCO_val2014_000000456552.jpg\n",
            "loading: /content/drive/MyDrive/UCLA/cs 263/final_proj/val2014/COCO_val2014_000000456552.jpg\n",
            "loading: /content/drive/MyDrive/UCLA/cs 263/final_proj/val2014/COCO_val2014_000000456552.jpg\n",
            "loading: /content/drive/MyDrive/UCLA/cs 263/final_proj/val2014/COCO_val2014_000000456552.jpg\n",
            "loading: /content/drive/MyDrive/UCLA/cs 263/final_proj/val2014/COCO_val2014_000000456552.jpg\n",
            "loading: /content/drive/MyDrive/UCLA/cs 263/final_proj/val2014/COCO_val2014_000000456552.jpg\n",
            "loading: /content/drive/MyDrive/UCLA/cs 263/final_proj/val2014/COCO_val2014_000000350898.jpg\n",
            "loading: /content/drive/MyDrive/UCLA/cs 263/final_proj/val2014/COCO_val2014_000000350898.jpg\n",
            "loading: /content/drive/MyDrive/UCLA/cs 263/final_proj/val2014/COCO_val2014_000000350898.jpg\n",
            "loading: /content/drive/MyDrive/UCLA/cs 263/final_proj/val2014/COCO_val2014_000000350898.jpg\n",
            "loading: /content/drive/MyDrive/UCLA/cs 263/final_proj/val2014/COCO_val2014_000000350898.jpg\n",
            "loading: /content/drive/MyDrive/UCLA/cs 263/final_proj/val2014/COCO_val2014_000000350898.jpg\n",
            "loading: /content/drive/MyDrive/UCLA/cs 263/final_proj/val2014/COCO_val2014_000000170365.jpg\n",
            "loading: /content/drive/MyDrive/UCLA/cs 263/final_proj/val2014/COCO_val2014_000000170365.jpg\n",
            "loading: /content/drive/MyDrive/UCLA/cs 263/final_proj/val2014/COCO_val2014_000000170365.jpg\n",
            "loading: /content/drive/MyDrive/UCLA/cs 263/final_proj/val2014/COCO_val2014_000000170365.jpg\n",
            "loading: /content/drive/MyDrive/UCLA/cs 263/final_proj/val2014/COCO_val2014_000000170365.jpg\n",
            "loading: /content/drive/MyDrive/UCLA/cs 263/final_proj/val2014/COCO_val2014_000000170365.jpg\n",
            "loading: /content/drive/MyDrive/UCLA/cs 263/final_proj/val2014/COCO_val2014_000000021645.jpg\n",
            "loading: /content/drive/MyDrive/UCLA/cs 263/final_proj/val2014/COCO_val2014_000000021645.jpg\n",
            "loading: /content/drive/MyDrive/UCLA/cs 263/final_proj/val2014/COCO_val2014_000000021645.jpg\n",
            "loading: /content/drive/MyDrive/UCLA/cs 263/final_proj/val2014/COCO_val2014_000000021645.jpg\n",
            "loading: /content/drive/MyDrive/UCLA/cs 263/final_proj/val2014/COCO_val2014_000000021645.jpg\n",
            "loading: /content/drive/MyDrive/UCLA/cs 263/final_proj/val2014/COCO_val2014_000000021645.jpg\n",
            "loading: /content/drive/MyDrive/UCLA/cs 263/final_proj/val2014/COCO_val2014_000000528905.jpg\n",
            "loading: /content/drive/MyDrive/UCLA/cs 263/final_proj/val2014/COCO_val2014_000000528905.jpg\n",
            "loading: /content/drive/MyDrive/UCLA/cs 263/final_proj/val2014/COCO_val2014_000000528905.jpg\n",
            "loading: /content/drive/MyDrive/UCLA/cs 263/final_proj/val2014/COCO_val2014_000000528905.jpg\n",
            "loading: /content/drive/MyDrive/UCLA/cs 263/final_proj/val2014/COCO_val2014_000000528905.jpg\n",
            "loading: /content/drive/MyDrive/UCLA/cs 263/final_proj/val2014/COCO_val2014_000000528905.jpg\n",
            "loading: /content/drive/MyDrive/UCLA/cs 263/final_proj/val2014/COCO_val2014_000000239347.jpg\n",
            "loading: /content/drive/MyDrive/UCLA/cs 263/final_proj/val2014/COCO_val2014_000000239347.jpg\n",
            "loading: /content/drive/MyDrive/UCLA/cs 263/final_proj/val2014/COCO_val2014_000000239347.jpg\n",
            "loading: /content/drive/MyDrive/UCLA/cs 263/final_proj/val2014/COCO_val2014_000000239347.jpg\n",
            "loading: /content/drive/MyDrive/UCLA/cs 263/final_proj/val2014/COCO_val2014_000000239347.jpg\n",
            "loading: /content/drive/MyDrive/UCLA/cs 263/final_proj/val2014/COCO_val2014_000000239347.jpg\n",
            "loading: /content/drive/MyDrive/UCLA/cs 263/final_proj/val2014/COCO_val2014_000000007320.jpg\n",
            "loading: /content/drive/MyDrive/UCLA/cs 263/final_proj/val2014/COCO_val2014_000000007320.jpg\n",
            "loading: /content/drive/MyDrive/UCLA/cs 263/final_proj/val2014/COCO_val2014_000000007320.jpg\n",
            "loading: /content/drive/MyDrive/UCLA/cs 263/final_proj/val2014/COCO_val2014_000000007320.jpg\n",
            "loading: /content/drive/MyDrive/UCLA/cs 263/final_proj/val2014/COCO_val2014_000000007320.jpg\n",
            "loading: /content/drive/MyDrive/UCLA/cs 263/final_proj/val2014/COCO_val2014_000000007320.jpg\n",
            "loading: /content/drive/MyDrive/UCLA/cs 263/final_proj/val2014/COCO_val2014_000000249715.jpg\n",
            "loading: /content/drive/MyDrive/UCLA/cs 263/final_proj/val2014/COCO_val2014_000000249715.jpg\n",
            "loading: /content/drive/MyDrive/UCLA/cs 263/final_proj/val2014/COCO_val2014_000000249715.jpg\n",
            "loading: /content/drive/MyDrive/UCLA/cs 263/final_proj/val2014/COCO_val2014_000000249715.jpg\n",
            "loading: /content/drive/MyDrive/UCLA/cs 263/final_proj/val2014/COCO_val2014_000000249715.jpg\n",
            "loading: /content/drive/MyDrive/UCLA/cs 263/final_proj/val2014/COCO_val2014_000000249715.jpg\n",
            "loading: /content/drive/MyDrive/UCLA/cs 263/final_proj/val2014/COCO_val2014_000000080022.jpg\n",
            "loading: /content/drive/MyDrive/UCLA/cs 263/final_proj/val2014/COCO_val2014_000000080022.jpg\n",
            "loading: /content/drive/MyDrive/UCLA/cs 263/final_proj/val2014/COCO_val2014_000000080022.jpg\n",
            "loading: /content/drive/MyDrive/UCLA/cs 263/final_proj/val2014/COCO_val2014_000000080022.jpg\n",
            "loading: /content/drive/MyDrive/UCLA/cs 263/final_proj/val2014/COCO_val2014_000000080022.jpg\n",
            "loading: /content/drive/MyDrive/UCLA/cs 263/final_proj/val2014/COCO_val2014_000000080022.jpg\n",
            "loading: /content/drive/MyDrive/UCLA/cs 263/final_proj/val2014/COCO_val2014_000000564336.jpg\n",
            "loading: /content/drive/MyDrive/UCLA/cs 263/final_proj/val2014/COCO_val2014_000000564336.jpg\n",
            "loading: /content/drive/MyDrive/UCLA/cs 263/final_proj/val2014/COCO_val2014_000000564336.jpg\n",
            "loading: /content/drive/MyDrive/UCLA/cs 263/final_proj/val2014/COCO_val2014_000000564336.jpg\n",
            "loading: /content/drive/MyDrive/UCLA/cs 263/final_proj/val2014/COCO_val2014_000000564336.jpg\n",
            "loading: /content/drive/MyDrive/UCLA/cs 263/final_proj/val2014/COCO_val2014_000000564336.jpg\n",
            "loading: /content/drive/MyDrive/UCLA/cs 263/final_proj/val2014/COCO_val2014_000000231589.jpg\n",
            "loading: /content/drive/MyDrive/UCLA/cs 263/final_proj/val2014/COCO_val2014_000000231589.jpg\n",
            "loading: /content/drive/MyDrive/UCLA/cs 263/final_proj/val2014/COCO_val2014_000000231589.jpg\n",
            "loading: /content/drive/MyDrive/UCLA/cs 263/final_proj/val2014/COCO_val2014_000000231589.jpg\n",
            "loading: /content/drive/MyDrive/UCLA/cs 263/final_proj/val2014/COCO_val2014_000000231589.jpg\n",
            "loading: /content/drive/MyDrive/UCLA/cs 263/final_proj/val2014/COCO_val2014_000000231589.jpg\n",
            "loading: /content/drive/MyDrive/UCLA/cs 263/final_proj/val2014/COCO_val2014_000000465275.jpg\n",
            "loading: /content/drive/MyDrive/UCLA/cs 263/final_proj/val2014/COCO_val2014_000000465275.jpg\n",
            "loading: /content/drive/MyDrive/UCLA/cs 263/final_proj/val2014/COCO_val2014_000000465275.jpg\n",
            "loading: /content/drive/MyDrive/UCLA/cs 263/final_proj/val2014/COCO_val2014_000000465275.jpg\n",
            "loading: /content/drive/MyDrive/UCLA/cs 263/final_proj/val2014/COCO_val2014_000000465275.jpg\n",
            "loading: /content/drive/MyDrive/UCLA/cs 263/final_proj/val2014/COCO_val2014_000000465275.jpg\n",
            "loading: /content/drive/MyDrive/UCLA/cs 263/final_proj/val2014/COCO_val2014_000000083275.jpg\n",
            "loading: /content/drive/MyDrive/UCLA/cs 263/final_proj/val2014/COCO_val2014_000000083275.jpg\n",
            "loading: /content/drive/MyDrive/UCLA/cs 263/final_proj/val2014/COCO_val2014_000000083275.jpg\n",
            "loading: /content/drive/MyDrive/UCLA/cs 263/final_proj/val2014/COCO_val2014_000000083275.jpg\n",
            "loading: /content/drive/MyDrive/UCLA/cs 263/final_proj/val2014/COCO_val2014_000000083275.jpg\n",
            "loading: /content/drive/MyDrive/UCLA/cs 263/final_proj/val2014/COCO_val2014_000000083275.jpg\n",
            "loading: /content/drive/MyDrive/UCLA/cs 263/final_proj/val2014/COCO_val2014_000000406403.jpg\n",
            "loading: /content/drive/MyDrive/UCLA/cs 263/final_proj/val2014/COCO_val2014_000000406403.jpg\n",
            "loading: /content/drive/MyDrive/UCLA/cs 263/final_proj/val2014/COCO_val2014_000000406403.jpg\n",
            "loading: /content/drive/MyDrive/UCLA/cs 263/final_proj/val2014/COCO_val2014_000000406403.jpg\n",
            "loading: /content/drive/MyDrive/UCLA/cs 263/final_proj/val2014/COCO_val2014_000000406403.jpg\n",
            "loading: /content/drive/MyDrive/UCLA/cs 263/final_proj/val2014/COCO_val2014_000000406403.jpg\n",
            "loading: /content/drive/MyDrive/UCLA/cs 263/final_proj/val2014/COCO_val2014_000000131018.jpg\n",
            "loading: /content/drive/MyDrive/UCLA/cs 263/final_proj/val2014/COCO_val2014_000000131018.jpg\n",
            "loading: /content/drive/MyDrive/UCLA/cs 263/final_proj/val2014/COCO_val2014_000000131018.jpg\n",
            "loading: /content/drive/MyDrive/UCLA/cs 263/final_proj/val2014/COCO_val2014_000000131018.jpg\n",
            "loading: /content/drive/MyDrive/UCLA/cs 263/final_proj/val2014/COCO_val2014_000000131018.jpg\n",
            "loading: /content/drive/MyDrive/UCLA/cs 263/final_proj/val2014/COCO_val2014_000000131018.jpg\n",
            "loading: /content/drive/MyDrive/UCLA/cs 263/final_proj/val2014/COCO_val2014_000000332625.jpg\n",
            "loading: /content/drive/MyDrive/UCLA/cs 263/final_proj/val2014/COCO_val2014_000000332625.jpg\n",
            "loading: /content/drive/MyDrive/UCLA/cs 263/final_proj/val2014/COCO_val2014_000000332625.jpg\n",
            "loading: /content/drive/MyDrive/UCLA/cs 263/final_proj/val2014/COCO_val2014_000000332625.jpg\n",
            "loading: /content/drive/MyDrive/UCLA/cs 263/final_proj/val2014/COCO_val2014_000000332625.jpg\n",
            "loading: /content/drive/MyDrive/UCLA/cs 263/final_proj/val2014/COCO_val2014_000000332625.jpg\n",
            "loading: /content/drive/MyDrive/UCLA/cs 263/final_proj/val2014/COCO_val2014_000000332025.jpg\n",
            "loading: /content/drive/MyDrive/UCLA/cs 263/final_proj/val2014/COCO_val2014_000000332025.jpg\n",
            "loading: /content/drive/MyDrive/UCLA/cs 263/final_proj/val2014/COCO_val2014_000000332025.jpg\n",
            "loading: /content/drive/MyDrive/UCLA/cs 263/final_proj/val2014/COCO_val2014_000000332025.jpg\n",
            "loading: /content/drive/MyDrive/UCLA/cs 263/final_proj/val2014/COCO_val2014_000000332025.jpg\n",
            "loading: /content/drive/MyDrive/UCLA/cs 263/final_proj/val2014/COCO_val2014_000000332025.jpg\n",
            "loading: /content/drive/MyDrive/UCLA/cs 263/final_proj/val2014/COCO_val2014_000000318204.jpg\n",
            "loading: /content/drive/MyDrive/UCLA/cs 263/final_proj/val2014/COCO_val2014_000000318204.jpg\n",
            "loading: /content/drive/MyDrive/UCLA/cs 263/final_proj/val2014/COCO_val2014_000000318204.jpg\n",
            "loading: /content/drive/MyDrive/UCLA/cs 263/final_proj/val2014/COCO_val2014_000000318204.jpg\n",
            "loading: /content/drive/MyDrive/UCLA/cs 263/final_proj/val2014/COCO_val2014_000000318204.jpg\n",
            "loading: /content/drive/MyDrive/UCLA/cs 263/final_proj/val2014/COCO_val2014_000000318204.jpg\n",
            "loading: /content/drive/MyDrive/UCLA/cs 263/final_proj/val2014/COCO_val2014_000000455157.jpg\n",
            "loading: /content/drive/MyDrive/UCLA/cs 263/final_proj/val2014/COCO_val2014_000000455157.jpg\n",
            "loading: /content/drive/MyDrive/UCLA/cs 263/final_proj/val2014/COCO_val2014_000000455157.jpg\n",
            "loading: /content/drive/MyDrive/UCLA/cs 263/final_proj/val2014/COCO_val2014_000000455157.jpg\n",
            "loading: /content/drive/MyDrive/UCLA/cs 263/final_proj/val2014/COCO_val2014_000000455157.jpg\n",
            "loading: /content/drive/MyDrive/UCLA/cs 263/final_proj/val2014/COCO_val2014_000000455157.jpg\n",
            "loading: /content/drive/MyDrive/UCLA/cs 263/final_proj/val2014/COCO_val2014_000000069189.jpg\n",
            "loading: /content/drive/MyDrive/UCLA/cs 263/final_proj/val2014/COCO_val2014_000000069189.jpg\n",
            "loading: /content/drive/MyDrive/UCLA/cs 263/final_proj/val2014/COCO_val2014_000000069189.jpg\n",
            "loading: /content/drive/MyDrive/UCLA/cs 263/final_proj/val2014/COCO_val2014_000000069189.jpg\n",
            "loading: /content/drive/MyDrive/UCLA/cs 263/final_proj/val2014/COCO_val2014_000000069189.jpg\n",
            "loading: /content/drive/MyDrive/UCLA/cs 263/final_proj/val2014/COCO_val2014_000000069189.jpg\n",
            "loading: /content/drive/MyDrive/UCLA/cs 263/final_proj/val2014/COCO_val2014_000000199764.jpg\n",
            "loading: /content/drive/MyDrive/UCLA/cs 263/final_proj/val2014/COCO_val2014_000000199764.jpg\n",
            "loading: /content/drive/MyDrive/UCLA/cs 263/final_proj/val2014/COCO_val2014_000000199764.jpg\n",
            "loading: /content/drive/MyDrive/UCLA/cs 263/final_proj/val2014/COCO_val2014_000000199764.jpg\n",
            "loading: /content/drive/MyDrive/UCLA/cs 263/final_proj/val2014/COCO_val2014_000000199764.jpg\n",
            "loading: /content/drive/MyDrive/UCLA/cs 263/final_proj/val2014/COCO_val2014_000000199764.jpg\n",
            "loading: /content/drive/MyDrive/UCLA/cs 263/final_proj/val2014/COCO_val2014_000000148766.jpg\n",
            "loading: /content/drive/MyDrive/UCLA/cs 263/final_proj/val2014/COCO_val2014_000000148766.jpg\n",
            "loading: /content/drive/MyDrive/UCLA/cs 263/final_proj/val2014/COCO_val2014_000000148766.jpg\n",
            "loading: /content/drive/MyDrive/UCLA/cs 263/final_proj/val2014/COCO_val2014_000000148766.jpg\n",
            "loading: /content/drive/MyDrive/UCLA/cs 263/final_proj/val2014/COCO_val2014_000000148766.jpg\n",
            "loading: /content/drive/MyDrive/UCLA/cs 263/final_proj/val2014/COCO_val2014_000000148766.jpg\n",
            "loading: /content/drive/MyDrive/UCLA/cs 263/final_proj/val2014/COCO_val2014_000000175506.jpg\n",
            "loading: /content/drive/MyDrive/UCLA/cs 263/final_proj/val2014/COCO_val2014_000000175506.jpg\n",
            "loading: /content/drive/MyDrive/UCLA/cs 263/final_proj/val2014/COCO_val2014_000000175506.jpg\n",
            "loading: /content/drive/MyDrive/UCLA/cs 263/final_proj/val2014/COCO_val2014_000000175506.jpg\n",
            "loading: /content/drive/MyDrive/UCLA/cs 263/final_proj/val2014/COCO_val2014_000000175506.jpg\n",
            "loading: /content/drive/MyDrive/UCLA/cs 263/final_proj/val2014/COCO_val2014_000000175506.jpg\n",
            "loading: /content/drive/MyDrive/UCLA/cs 263/final_proj/val2014/COCO_val2014_000000353096.jpg\n",
            "loading: /content/drive/MyDrive/UCLA/cs 263/final_proj/val2014/COCO_val2014_000000353096.jpg\n",
            "loading: /content/drive/MyDrive/UCLA/cs 263/final_proj/val2014/COCO_val2014_000000353096.jpg\n",
            "loading: /content/drive/MyDrive/UCLA/cs 263/final_proj/val2014/COCO_val2014_000000353096.jpg\n",
            "loading: /content/drive/MyDrive/UCLA/cs 263/final_proj/val2014/COCO_val2014_000000353096.jpg\n",
            "loading: /content/drive/MyDrive/UCLA/cs 263/final_proj/val2014/COCO_val2014_000000353096.jpg\n",
            "loading: /content/drive/MyDrive/UCLA/cs 263/final_proj/val2014/COCO_val2014_000000207205.jpg\n",
            "loading: /content/drive/MyDrive/UCLA/cs 263/final_proj/val2014/COCO_val2014_000000207205.jpg\n",
            "loading: /content/drive/MyDrive/UCLA/cs 263/final_proj/val2014/COCO_val2014_000000207205.jpg\n",
            "loading: /content/drive/MyDrive/UCLA/cs 263/final_proj/val2014/COCO_val2014_000000207205.jpg\n",
            "loading: /content/drive/MyDrive/UCLA/cs 263/final_proj/val2014/COCO_val2014_000000207205.jpg\n",
            "loading: /content/drive/MyDrive/UCLA/cs 263/final_proj/val2014/COCO_val2014_000000207205.jpg\n",
            "loading: /content/drive/MyDrive/UCLA/cs 263/final_proj/val2014/COCO_val2014_000000427113.jpg\n",
            "loading: /content/drive/MyDrive/UCLA/cs 263/final_proj/val2014/COCO_val2014_000000427113.jpg\n",
            "loading: /content/drive/MyDrive/UCLA/cs 263/final_proj/val2014/COCO_val2014_000000427113.jpg\n",
            "loading: /content/drive/MyDrive/UCLA/cs 263/final_proj/val2014/COCO_val2014_000000427113.jpg\n",
            "loading: /content/drive/MyDrive/UCLA/cs 263/final_proj/val2014/COCO_val2014_000000427113.jpg\n",
            "loading: /content/drive/MyDrive/UCLA/cs 263/final_proj/val2014/COCO_val2014_000000427113.jpg\n",
            "loading: /content/drive/MyDrive/UCLA/cs 263/final_proj/val2014/COCO_val2014_000000498374.jpg\n",
            "loading: /content/drive/MyDrive/UCLA/cs 263/final_proj/val2014/COCO_val2014_000000498374.jpg\n",
            "loading: /content/drive/MyDrive/UCLA/cs 263/final_proj/val2014/COCO_val2014_000000498374.jpg\n",
            "loading: /content/drive/MyDrive/UCLA/cs 263/final_proj/val2014/COCO_val2014_000000498374.jpg\n",
            "loading: /content/drive/MyDrive/UCLA/cs 263/final_proj/val2014/COCO_val2014_000000498374.jpg\n",
            "loading: /content/drive/MyDrive/UCLA/cs 263/final_proj/val2014/COCO_val2014_000000498374.jpg\n",
            "loading: /content/drive/MyDrive/UCLA/cs 263/final_proj/val2014/COCO_val2014_000000013348.jpg\n",
            "loading: /content/drive/MyDrive/UCLA/cs 263/final_proj/val2014/COCO_val2014_000000013348.jpg\n",
            "loading: /content/drive/MyDrive/UCLA/cs 263/final_proj/val2014/COCO_val2014_000000013348.jpg\n",
            "loading: /content/drive/MyDrive/UCLA/cs 263/final_proj/val2014/COCO_val2014_000000013348.jpg\n",
            "loading: /content/drive/MyDrive/UCLA/cs 263/final_proj/val2014/COCO_val2014_000000013348.jpg\n",
            "loading: /content/drive/MyDrive/UCLA/cs 263/final_proj/val2014/COCO_val2014_000000013348.jpg\n",
            "loading: /content/drive/MyDrive/UCLA/cs 263/final_proj/val2014/COCO_val2014_000000081336.jpg\n",
            "loading: /content/drive/MyDrive/UCLA/cs 263/final_proj/val2014/COCO_val2014_000000081336.jpg\n",
            "loading: /content/drive/MyDrive/UCLA/cs 263/final_proj/val2014/COCO_val2014_000000081336.jpg\n",
            "loading: /content/drive/MyDrive/UCLA/cs 263/final_proj/val2014/COCO_val2014_000000081336.jpg\n",
            "loading: /content/drive/MyDrive/UCLA/cs 263/final_proj/val2014/COCO_val2014_000000081336.jpg\n",
            "loading: /content/drive/MyDrive/UCLA/cs 263/final_proj/val2014/COCO_val2014_000000081336.jpg\n",
            "loading: /content/drive/MyDrive/UCLA/cs 263/final_proj/val2014/COCO_val2014_000000190185.jpg\n",
            "loading: /content/drive/MyDrive/UCLA/cs 263/final_proj/val2014/COCO_val2014_000000190185.jpg\n",
            "loading: /content/drive/MyDrive/UCLA/cs 263/final_proj/val2014/COCO_val2014_000000190185.jpg\n",
            "loading: /content/drive/MyDrive/UCLA/cs 263/final_proj/val2014/COCO_val2014_000000190185.jpg\n",
            "loading: /content/drive/MyDrive/UCLA/cs 263/final_proj/val2014/COCO_val2014_000000190185.jpg\n",
            "loading: /content/drive/MyDrive/UCLA/cs 263/final_proj/val2014/COCO_val2014_000000190185.jpg\n",
            "loading: /content/drive/MyDrive/UCLA/cs 263/final_proj/val2014/COCO_val2014_000000209755.jpg\n",
            "loading: /content/drive/MyDrive/UCLA/cs 263/final_proj/val2014/COCO_val2014_000000209755.jpg\n",
            "loading: /content/drive/MyDrive/UCLA/cs 263/final_proj/val2014/COCO_val2014_000000209755.jpg\n",
            "loading: /content/drive/MyDrive/UCLA/cs 263/final_proj/val2014/COCO_val2014_000000209755.jpg\n",
            "loading: /content/drive/MyDrive/UCLA/cs 263/final_proj/val2014/COCO_val2014_000000209755.jpg\n",
            "loading: /content/drive/MyDrive/UCLA/cs 263/final_proj/val2014/COCO_val2014_000000209755.jpg\n",
            "loading: /content/drive/MyDrive/UCLA/cs 263/final_proj/val2014/COCO_val2014_000000227227.jpg\n",
            "loading: /content/drive/MyDrive/UCLA/cs 263/final_proj/val2014/COCO_val2014_000000227227.jpg\n",
            "loading: /content/drive/MyDrive/UCLA/cs 263/final_proj/val2014/COCO_val2014_000000227227.jpg\n",
            "loading: /content/drive/MyDrive/UCLA/cs 263/final_proj/val2014/COCO_val2014_000000227227.jpg\n",
            "loading: /content/drive/MyDrive/UCLA/cs 263/final_proj/val2014/COCO_val2014_000000227227.jpg\n",
            "loading: /content/drive/MyDrive/UCLA/cs 263/final_proj/val2014/COCO_val2014_000000227227.jpg\n",
            "loading: /content/drive/MyDrive/UCLA/cs 263/final_proj/val2014/COCO_val2014_000000397705.jpg\n",
            "loading: /content/drive/MyDrive/UCLA/cs 263/final_proj/val2014/COCO_val2014_000000397705.jpg\n",
            "loading: /content/drive/MyDrive/UCLA/cs 263/final_proj/val2014/COCO_val2014_000000397705.jpg\n",
            "loading: /content/drive/MyDrive/UCLA/cs 263/final_proj/val2014/COCO_val2014_000000397705.jpg\n",
            "loading: /content/drive/MyDrive/UCLA/cs 263/final_proj/val2014/COCO_val2014_000000397705.jpg\n",
            "loading: /content/drive/MyDrive/UCLA/cs 263/final_proj/val2014/COCO_val2014_000000397705.jpg\n",
            "loading: /content/drive/MyDrive/UCLA/cs 263/final_proj/val2014/COCO_val2014_000000287305.jpg\n",
            "loading: /content/drive/MyDrive/UCLA/cs 263/final_proj/val2014/COCO_val2014_000000287305.jpg\n",
            "loading: /content/drive/MyDrive/UCLA/cs 263/final_proj/val2014/COCO_val2014_000000287305.jpg\n",
            "loading: /content/drive/MyDrive/UCLA/cs 263/final_proj/val2014/COCO_val2014_000000287305.jpg\n",
            "loading: /content/drive/MyDrive/UCLA/cs 263/final_proj/val2014/COCO_val2014_000000287305.jpg\n",
            "loading: /content/drive/MyDrive/UCLA/cs 263/final_proj/val2014/COCO_val2014_000000287305.jpg\n",
            "loading: /content/drive/MyDrive/UCLA/cs 263/final_proj/val2014/COCO_val2014_000000257327.jpg\n",
            "loading: /content/drive/MyDrive/UCLA/cs 263/final_proj/val2014/COCO_val2014_000000257327.jpg\n",
            "loading: /content/drive/MyDrive/UCLA/cs 263/final_proj/val2014/COCO_val2014_000000257327.jpg\n",
            "loading: /content/drive/MyDrive/UCLA/cs 263/final_proj/val2014/COCO_val2014_000000257327.jpg\n",
            "loading: /content/drive/MyDrive/UCLA/cs 263/final_proj/val2014/COCO_val2014_000000257327.jpg\n",
            "loading: /content/drive/MyDrive/UCLA/cs 263/final_proj/val2014/COCO_val2014_000000257327.jpg\n",
            "loading: /content/drive/MyDrive/UCLA/cs 263/final_proj/val2014/COCO_val2014_000000557016.jpg\n",
            "loading: /content/drive/MyDrive/UCLA/cs 263/final_proj/val2014/COCO_val2014_000000557016.jpg\n",
            "loading: /content/drive/MyDrive/UCLA/cs 263/final_proj/val2014/COCO_val2014_000000557016.jpg\n",
            "loading: /content/drive/MyDrive/UCLA/cs 263/final_proj/val2014/COCO_val2014_000000557016.jpg\n",
            "loading: /content/drive/MyDrive/UCLA/cs 263/final_proj/val2014/COCO_val2014_000000557016.jpg\n",
            "loading: /content/drive/MyDrive/UCLA/cs 263/final_proj/val2014/COCO_val2014_000000557016.jpg\n",
            "loading: /content/drive/MyDrive/UCLA/cs 263/final_proj/val2014/COCO_val2014_000000105732.jpg\n",
            "loading: /content/drive/MyDrive/UCLA/cs 263/final_proj/val2014/COCO_val2014_000000105732.jpg\n",
            "loading: /content/drive/MyDrive/UCLA/cs 263/final_proj/val2014/COCO_val2014_000000105732.jpg\n",
            "loading: /content/drive/MyDrive/UCLA/cs 263/final_proj/val2014/COCO_val2014_000000105732.jpg\n",
            "loading: /content/drive/MyDrive/UCLA/cs 263/final_proj/val2014/COCO_val2014_000000105732.jpg\n",
            "loading: /content/drive/MyDrive/UCLA/cs 263/final_proj/val2014/COCO_val2014_000000105732.jpg\n",
            "loading: /content/drive/MyDrive/UCLA/cs 263/final_proj/val2014/COCO_val2014_000000534121.jpg\n",
            "loading: /content/drive/MyDrive/UCLA/cs 263/final_proj/val2014/COCO_val2014_000000534121.jpg\n",
            "loading: /content/drive/MyDrive/UCLA/cs 263/final_proj/val2014/COCO_val2014_000000534121.jpg\n",
            "loading: /content/drive/MyDrive/UCLA/cs 263/final_proj/val2014/COCO_val2014_000000534121.jpg\n",
            "loading: /content/drive/MyDrive/UCLA/cs 263/final_proj/val2014/COCO_val2014_000000534121.jpg\n",
            "loading: /content/drive/MyDrive/UCLA/cs 263/final_proj/val2014/COCO_val2014_000000534121.jpg\n",
            "loading: /content/drive/MyDrive/UCLA/cs 263/final_proj/val2014/COCO_val2014_000000520524.jpg\n",
            "loading: /content/drive/MyDrive/UCLA/cs 263/final_proj/val2014/COCO_val2014_000000520524.jpg\n",
            "loading: /content/drive/MyDrive/UCLA/cs 263/final_proj/val2014/COCO_val2014_000000520524.jpg\n",
            "loading: /content/drive/MyDrive/UCLA/cs 263/final_proj/val2014/COCO_val2014_000000520524.jpg\n",
            "loading: /content/drive/MyDrive/UCLA/cs 263/final_proj/val2014/COCO_val2014_000000520524.jpg\n",
            "loading: /content/drive/MyDrive/UCLA/cs 263/final_proj/val2014/COCO_val2014_000000520524.jpg\n",
            "loading: /content/drive/MyDrive/UCLA/cs 263/final_proj/val2014/COCO_val2014_000000580294.jpg\n",
            "loading: /content/drive/MyDrive/UCLA/cs 263/final_proj/val2014/COCO_val2014_000000580294.jpg\n",
            "loading: /content/drive/MyDrive/UCLA/cs 263/final_proj/val2014/COCO_val2014_000000580294.jpg\n",
            "loading: /content/drive/MyDrive/UCLA/cs 263/final_proj/val2014/COCO_val2014_000000580294.jpg\n",
            "loading: /content/drive/MyDrive/UCLA/cs 263/final_proj/val2014/COCO_val2014_000000580294.jpg\n",
            "loading: /content/drive/MyDrive/UCLA/cs 263/final_proj/val2014/COCO_val2014_000000580294.jpg\n",
            "loading: /content/drive/MyDrive/UCLA/cs 263/final_proj/val2014/COCO_val2014_000000374061.jpg\n",
            "loading: /content/drive/MyDrive/UCLA/cs 263/final_proj/val2014/COCO_val2014_000000374061.jpg\n",
            "loading: /content/drive/MyDrive/UCLA/cs 263/final_proj/val2014/COCO_val2014_000000374061.jpg\n",
            "loading: /content/drive/MyDrive/UCLA/cs 263/final_proj/val2014/COCO_val2014_000000374061.jpg\n",
            "loading: /content/drive/MyDrive/UCLA/cs 263/final_proj/val2014/COCO_val2014_000000374061.jpg\n",
            "loading: /content/drive/MyDrive/UCLA/cs 263/final_proj/val2014/COCO_val2014_000000374061.jpg\n",
            "loading: /content/drive/MyDrive/UCLA/cs 263/final_proj/val2014/COCO_val2014_000000094944.jpg\n",
            "loading: /content/drive/MyDrive/UCLA/cs 263/final_proj/val2014/COCO_val2014_000000094944.jpg\n",
            "loading: /content/drive/MyDrive/UCLA/cs 263/final_proj/val2014/COCO_val2014_000000094944.jpg\n",
            "loading: /content/drive/MyDrive/UCLA/cs 263/final_proj/val2014/COCO_val2014_000000094944.jpg\n",
            "loading: /content/drive/MyDrive/UCLA/cs 263/final_proj/val2014/COCO_val2014_000000094944.jpg\n",
            "loading: /content/drive/MyDrive/UCLA/cs 263/final_proj/val2014/COCO_val2014_000000094944.jpg\n",
            "loading: /content/drive/MyDrive/UCLA/cs 263/final_proj/val2014/COCO_val2014_000000572075.jpg\n",
            "loading: /content/drive/MyDrive/UCLA/cs 263/final_proj/val2014/COCO_val2014_000000572075.jpg\n",
            "loading: /content/drive/MyDrive/UCLA/cs 263/final_proj/val2014/COCO_val2014_000000572075.jpg\n",
            "loading: /content/drive/MyDrive/UCLA/cs 263/final_proj/val2014/COCO_val2014_000000572075.jpg\n",
            "loading: /content/drive/MyDrive/UCLA/cs 263/final_proj/val2014/COCO_val2014_000000572075.jpg\n",
            "loading: /content/drive/MyDrive/UCLA/cs 263/final_proj/val2014/COCO_val2014_000000572075.jpg\n",
            "loading: /content/drive/MyDrive/UCLA/cs 263/final_proj/val2014/COCO_val2014_000000387098.jpg\n",
            "loading: /content/drive/MyDrive/UCLA/cs 263/final_proj/val2014/COCO_val2014_000000387098.jpg\n",
            "loading: /content/drive/MyDrive/UCLA/cs 263/final_proj/val2014/COCO_val2014_000000387098.jpg\n",
            "loading: /content/drive/MyDrive/UCLA/cs 263/final_proj/val2014/COCO_val2014_000000387098.jpg\n",
            "loading: /content/drive/MyDrive/UCLA/cs 263/final_proj/val2014/COCO_val2014_000000387098.jpg\n",
            "loading: /content/drive/MyDrive/UCLA/cs 263/final_proj/val2014/COCO_val2014_000000387098.jpg\n",
            "loading: /content/drive/MyDrive/UCLA/cs 263/final_proj/val2014/COCO_val2014_000000382670.jpg\n",
            "loading: /content/drive/MyDrive/UCLA/cs 263/final_proj/val2014/COCO_val2014_000000382670.jpg\n",
            "loading: /content/drive/MyDrive/UCLA/cs 263/final_proj/val2014/COCO_val2014_000000382670.jpg\n",
            "loading: /content/drive/MyDrive/UCLA/cs 263/final_proj/val2014/COCO_val2014_000000382670.jpg\n",
            "loading: /content/drive/MyDrive/UCLA/cs 263/final_proj/val2014/COCO_val2014_000000382670.jpg\n",
            "loading: /content/drive/MyDrive/UCLA/cs 263/final_proj/val2014/COCO_val2014_000000382670.jpg\n",
            "loading: /content/drive/MyDrive/UCLA/cs 263/final_proj/val2014/COCO_val2014_000000414516.jpg\n",
            "loading: /content/drive/MyDrive/UCLA/cs 263/final_proj/val2014/COCO_val2014_000000414516.jpg\n",
            "loading: /content/drive/MyDrive/UCLA/cs 263/final_proj/val2014/COCO_val2014_000000414516.jpg\n",
            "loading: /content/drive/MyDrive/UCLA/cs 263/final_proj/val2014/COCO_val2014_000000414516.jpg\n",
            "loading: /content/drive/MyDrive/UCLA/cs 263/final_proj/val2014/COCO_val2014_000000414516.jpg\n",
            "loading: /content/drive/MyDrive/UCLA/cs 263/final_proj/val2014/COCO_val2014_000000414516.jpg\n",
            "loading: /content/drive/MyDrive/UCLA/cs 263/final_proj/val2014/COCO_val2014_000000204360.jpg\n",
            "loading: /content/drive/MyDrive/UCLA/cs 263/final_proj/val2014/COCO_val2014_000000204360.jpg\n",
            "loading: /content/drive/MyDrive/UCLA/cs 263/final_proj/val2014/COCO_val2014_000000204360.jpg\n",
            "loading: /content/drive/MyDrive/UCLA/cs 263/final_proj/val2014/COCO_val2014_000000204360.jpg\n",
            "loading: /content/drive/MyDrive/UCLA/cs 263/final_proj/val2014/COCO_val2014_000000204360.jpg\n",
            "loading: /content/drive/MyDrive/UCLA/cs 263/final_proj/val2014/COCO_val2014_000000204360.jpg\n",
            "loading: /content/drive/MyDrive/UCLA/cs 263/final_proj/val2014/COCO_val2014_000000245642.jpg\n",
            "loading: /content/drive/MyDrive/UCLA/cs 263/final_proj/val2014/COCO_val2014_000000245642.jpg\n",
            "loading: /content/drive/MyDrive/UCLA/cs 263/final_proj/val2014/COCO_val2014_000000245642.jpg\n",
            "loading: /content/drive/MyDrive/UCLA/cs 263/final_proj/val2014/COCO_val2014_000000245642.jpg\n",
            "loading: /content/drive/MyDrive/UCLA/cs 263/final_proj/val2014/COCO_val2014_000000245642.jpg\n",
            "loading: /content/drive/MyDrive/UCLA/cs 263/final_proj/val2014/COCO_val2014_000000245642.jpg\n",
            "loading: /content/drive/MyDrive/UCLA/cs 263/final_proj/val2014/COCO_val2014_000000237767.jpg\n",
            "loading: /content/drive/MyDrive/UCLA/cs 263/final_proj/val2014/COCO_val2014_000000237767.jpg\n",
            "loading: /content/drive/MyDrive/UCLA/cs 263/final_proj/val2014/COCO_val2014_000000237767.jpg\n",
            "loading: /content/drive/MyDrive/UCLA/cs 263/final_proj/val2014/COCO_val2014_000000237767.jpg\n",
            "loading: /content/drive/MyDrive/UCLA/cs 263/final_proj/val2014/COCO_val2014_000000237767.jpg\n",
            "loading: /content/drive/MyDrive/UCLA/cs 263/final_proj/val2014/COCO_val2014_000000237767.jpg\n",
            "loading: /content/drive/MyDrive/UCLA/cs 263/final_proj/val2014/COCO_val2014_000000370900.jpg\n",
            "loading: /content/drive/MyDrive/UCLA/cs 263/final_proj/val2014/COCO_val2014_000000370900.jpg\n",
            "loading: /content/drive/MyDrive/UCLA/cs 263/final_proj/val2014/COCO_val2014_000000370900.jpg\n",
            "loading: /content/drive/MyDrive/UCLA/cs 263/final_proj/val2014/COCO_val2014_000000370900.jpg\n",
            "loading: /content/drive/MyDrive/UCLA/cs 263/final_proj/val2014/COCO_val2014_000000370900.jpg\n",
            "loading: /content/drive/MyDrive/UCLA/cs 263/final_proj/val2014/COCO_val2014_000000370900.jpg\n",
            "loading: /content/drive/MyDrive/UCLA/cs 263/final_proj/val2014/COCO_val2014_000000094501.jpg\n",
            "loading: /content/drive/MyDrive/UCLA/cs 263/final_proj/val2014/COCO_val2014_000000094501.jpg\n",
            "loading: /content/drive/MyDrive/UCLA/cs 263/final_proj/val2014/COCO_val2014_000000094501.jpg\n",
            "loading: /content/drive/MyDrive/UCLA/cs 263/final_proj/val2014/COCO_val2014_000000094501.jpg\n",
            "loading: /content/drive/MyDrive/UCLA/cs 263/final_proj/val2014/COCO_val2014_000000094501.jpg\n",
            "loading: /content/drive/MyDrive/UCLA/cs 263/final_proj/val2014/COCO_val2014_000000094501.jpg\n",
            "loading: /content/drive/MyDrive/UCLA/cs 263/final_proj/val2014/COCO_val2014_000000069196.jpg\n",
            "loading: /content/drive/MyDrive/UCLA/cs 263/final_proj/val2014/COCO_val2014_000000069196.jpg\n",
            "loading: /content/drive/MyDrive/UCLA/cs 263/final_proj/val2014/COCO_val2014_000000069196.jpg\n",
            "loading: /content/drive/MyDrive/UCLA/cs 263/final_proj/val2014/COCO_val2014_000000069196.jpg\n",
            "loading: /content/drive/MyDrive/UCLA/cs 263/final_proj/val2014/COCO_val2014_000000069196.jpg\n",
            "loading: /content/drive/MyDrive/UCLA/cs 263/final_proj/val2014/COCO_val2014_000000069196.jpg\n",
            "loading: /content/drive/MyDrive/UCLA/cs 263/final_proj/val2014/COCO_val2014_000000366141.jpg\n",
            "loading: /content/drive/MyDrive/UCLA/cs 263/final_proj/val2014/COCO_val2014_000000366141.jpg\n",
            "loading: /content/drive/MyDrive/UCLA/cs 263/final_proj/val2014/COCO_val2014_000000366141.jpg\n",
            "loading: /content/drive/MyDrive/UCLA/cs 263/final_proj/val2014/COCO_val2014_000000366141.jpg\n",
            "loading: /content/drive/MyDrive/UCLA/cs 263/final_proj/val2014/COCO_val2014_000000366141.jpg\n",
            "loading: /content/drive/MyDrive/UCLA/cs 263/final_proj/val2014/COCO_val2014_000000366141.jpg\n",
            "loading: /content/drive/MyDrive/UCLA/cs 263/final_proj/val2014/COCO_val2014_000000093946.jpg\n",
            "loading: /content/drive/MyDrive/UCLA/cs 263/final_proj/val2014/COCO_val2014_000000093946.jpg\n",
            "loading: /content/drive/MyDrive/UCLA/cs 263/final_proj/val2014/COCO_val2014_000000093946.jpg\n",
            "loading: /content/drive/MyDrive/UCLA/cs 263/final_proj/val2014/COCO_val2014_000000093946.jpg\n",
            "loading: /content/drive/MyDrive/UCLA/cs 263/final_proj/val2014/COCO_val2014_000000093946.jpg\n",
            "loading: /content/drive/MyDrive/UCLA/cs 263/final_proj/val2014/COCO_val2014_000000093946.jpg\n",
            "loading: /content/drive/MyDrive/UCLA/cs 263/final_proj/val2014/COCO_val2014_000000032610.jpg\n",
            "loading: /content/drive/MyDrive/UCLA/cs 263/final_proj/val2014/COCO_val2014_000000032610.jpg\n",
            "loading: /content/drive/MyDrive/UCLA/cs 263/final_proj/val2014/COCO_val2014_000000032610.jpg\n",
            "loading: /content/drive/MyDrive/UCLA/cs 263/final_proj/val2014/COCO_val2014_000000032610.jpg\n",
            "loading: /content/drive/MyDrive/UCLA/cs 263/final_proj/val2014/COCO_val2014_000000032610.jpg\n",
            "loading: /content/drive/MyDrive/UCLA/cs 263/final_proj/val2014/COCO_val2014_000000032610.jpg\n",
            "loading: /content/drive/MyDrive/UCLA/cs 263/final_proj/val2014/COCO_val2014_000000239130.jpg\n",
            "loading: /content/drive/MyDrive/UCLA/cs 263/final_proj/val2014/COCO_val2014_000000239130.jpg\n",
            "loading: /content/drive/MyDrive/UCLA/cs 263/final_proj/val2014/COCO_val2014_000000239130.jpg\n",
            "loading: /content/drive/MyDrive/UCLA/cs 263/final_proj/val2014/COCO_val2014_000000239130.jpg\n",
            "loading: /content/drive/MyDrive/UCLA/cs 263/final_proj/val2014/COCO_val2014_000000239130.jpg\n",
            "loading: /content/drive/MyDrive/UCLA/cs 263/final_proj/val2014/COCO_val2014_000000239130.jpg\n",
            "loading: /content/drive/MyDrive/UCLA/cs 263/final_proj/val2014/COCO_val2014_000000226097.jpg\n",
            "loading: /content/drive/MyDrive/UCLA/cs 263/final_proj/val2014/COCO_val2014_000000226097.jpg\n",
            "loading: /content/drive/MyDrive/UCLA/cs 263/final_proj/val2014/COCO_val2014_000000226097.jpg\n",
            "loading: /content/drive/MyDrive/UCLA/cs 263/final_proj/val2014/COCO_val2014_000000226097.jpg\n",
            "loading: /content/drive/MyDrive/UCLA/cs 263/final_proj/val2014/COCO_val2014_000000226097.jpg\n",
            "loading: /content/drive/MyDrive/UCLA/cs 263/final_proj/val2014/COCO_val2014_000000226097.jpg\n",
            "loading: /content/drive/MyDrive/UCLA/cs 263/final_proj/val2014/COCO_val2014_000000538054.jpg\n",
            "loading: /content/drive/MyDrive/UCLA/cs 263/final_proj/val2014/COCO_val2014_000000538054.jpg\n",
            "loading: /content/drive/MyDrive/UCLA/cs 263/final_proj/val2014/COCO_val2014_000000538054.jpg\n",
            "loading: /content/drive/MyDrive/UCLA/cs 263/final_proj/val2014/COCO_val2014_000000538054.jpg\n",
            "loading: /content/drive/MyDrive/UCLA/cs 263/final_proj/val2014/COCO_val2014_000000538054.jpg\n",
            "loading: /content/drive/MyDrive/UCLA/cs 263/final_proj/val2014/COCO_val2014_000000538054.jpg\n",
            "loading: /content/drive/MyDrive/UCLA/cs 263/final_proj/val2014/COCO_val2014_000000114710.jpg\n",
            "loading: /content/drive/MyDrive/UCLA/cs 263/final_proj/val2014/COCO_val2014_000000114710.jpg\n",
            "loading: /content/drive/MyDrive/UCLA/cs 263/final_proj/val2014/COCO_val2014_000000114710.jpg\n",
            "loading: /content/drive/MyDrive/UCLA/cs 263/final_proj/val2014/COCO_val2014_000000114710.jpg\n",
            "loading: /content/drive/MyDrive/UCLA/cs 263/final_proj/val2014/COCO_val2014_000000114710.jpg\n",
            "loading: /content/drive/MyDrive/UCLA/cs 263/final_proj/val2014/COCO_val2014_000000114710.jpg\n",
            "loading: /content/drive/MyDrive/UCLA/cs 263/final_proj/val2014/COCO_val2014_000000113701.jpg\n",
            "loading: /content/drive/MyDrive/UCLA/cs 263/final_proj/val2014/COCO_val2014_000000113701.jpg\n",
            "loading: /content/drive/MyDrive/UCLA/cs 263/final_proj/val2014/COCO_val2014_000000113701.jpg\n",
            "loading: /content/drive/MyDrive/UCLA/cs 263/final_proj/val2014/COCO_val2014_000000113701.jpg\n",
            "loading: /content/drive/MyDrive/UCLA/cs 263/final_proj/val2014/COCO_val2014_000000113701.jpg\n",
            "loading: /content/drive/MyDrive/UCLA/cs 263/final_proj/val2014/COCO_val2014_000000113701.jpg\n",
            "loading: /content/drive/MyDrive/UCLA/cs 263/final_proj/val2014/COCO_val2014_000000065001.jpg\n",
            "loading: /content/drive/MyDrive/UCLA/cs 263/final_proj/val2014/COCO_val2014_000000065001.jpg\n",
            "loading: /content/drive/MyDrive/UCLA/cs 263/final_proj/val2014/COCO_val2014_000000065001.jpg\n",
            "loading: /content/drive/MyDrive/UCLA/cs 263/final_proj/val2014/COCO_val2014_000000065001.jpg\n",
            "loading: /content/drive/MyDrive/UCLA/cs 263/final_proj/val2014/COCO_val2014_000000065001.jpg\n",
            "loading: /content/drive/MyDrive/UCLA/cs 263/final_proj/val2014/COCO_val2014_000000065001.jpg\n",
            "loading: /content/drive/MyDrive/UCLA/cs 263/final_proj/val2014/COCO_val2014_000000482275.jpg\n",
            "loading: /content/drive/MyDrive/UCLA/cs 263/final_proj/val2014/COCO_val2014_000000482275.jpg\n",
            "loading: /content/drive/MyDrive/UCLA/cs 263/final_proj/val2014/COCO_val2014_000000482275.jpg\n",
            "loading: /content/drive/MyDrive/UCLA/cs 263/final_proj/val2014/COCO_val2014_000000482275.jpg\n",
            "loading: /content/drive/MyDrive/UCLA/cs 263/final_proj/val2014/COCO_val2014_000000482275.jpg\n",
            "loading: /content/drive/MyDrive/UCLA/cs 263/final_proj/val2014/COCO_val2014_000000482275.jpg\n",
            "loading: /content/drive/MyDrive/UCLA/cs 263/final_proj/val2014/COCO_val2014_000000140983.jpg\n",
            "loading: /content/drive/MyDrive/UCLA/cs 263/final_proj/val2014/COCO_val2014_000000140983.jpg\n",
            "loading: /content/drive/MyDrive/UCLA/cs 263/final_proj/val2014/COCO_val2014_000000140983.jpg\n",
            "loading: /content/drive/MyDrive/UCLA/cs 263/final_proj/val2014/COCO_val2014_000000140983.jpg\n",
            "loading: /content/drive/MyDrive/UCLA/cs 263/final_proj/val2014/COCO_val2014_000000140983.jpg\n",
            "loading: /content/drive/MyDrive/UCLA/cs 263/final_proj/val2014/COCO_val2014_000000140983.jpg\n",
            "loading: /content/drive/MyDrive/UCLA/cs 263/final_proj/val2014/COCO_val2014_000000044520.jpg\n",
            "loading: /content/drive/MyDrive/UCLA/cs 263/final_proj/val2014/COCO_val2014_000000044520.jpg\n",
            "loading: /content/drive/MyDrive/UCLA/cs 263/final_proj/val2014/COCO_val2014_000000044520.jpg\n",
            "loading: /content/drive/MyDrive/UCLA/cs 263/final_proj/val2014/COCO_val2014_000000044520.jpg\n",
            "loading: /content/drive/MyDrive/UCLA/cs 263/final_proj/val2014/COCO_val2014_000000044520.jpg\n",
            "loading: /content/drive/MyDrive/UCLA/cs 263/final_proj/val2014/COCO_val2014_000000044520.jpg\n",
            "loading: /content/drive/MyDrive/UCLA/cs 263/final_proj/val2014/COCO_val2014_000000518177.jpg\n",
            "loading: /content/drive/MyDrive/UCLA/cs 263/final_proj/val2014/COCO_val2014_000000518177.jpg\n",
            "loading: /content/drive/MyDrive/UCLA/cs 263/final_proj/val2014/COCO_val2014_000000518177.jpg\n",
            "loading: /content/drive/MyDrive/UCLA/cs 263/final_proj/val2014/COCO_val2014_000000518177.jpg\n",
            "loading: /content/drive/MyDrive/UCLA/cs 263/final_proj/val2014/COCO_val2014_000000518177.jpg\n",
            "loading: /content/drive/MyDrive/UCLA/cs 263/final_proj/val2014/COCO_val2014_000000518177.jpg\n",
            "loading: /content/drive/MyDrive/UCLA/cs 263/final_proj/val2014/COCO_val2014_000000203479.jpg\n",
            "loading: /content/drive/MyDrive/UCLA/cs 263/final_proj/val2014/COCO_val2014_000000203479.jpg\n",
            "loading: /content/drive/MyDrive/UCLA/cs 263/final_proj/val2014/COCO_val2014_000000203479.jpg\n",
            "loading: /content/drive/MyDrive/UCLA/cs 263/final_proj/val2014/COCO_val2014_000000203479.jpg\n",
            "loading: /content/drive/MyDrive/UCLA/cs 263/final_proj/val2014/COCO_val2014_000000203479.jpg\n",
            "loading: /content/drive/MyDrive/UCLA/cs 263/final_proj/val2014/COCO_val2014_000000203479.jpg\n",
            "loading: /content/drive/MyDrive/UCLA/cs 263/final_proj/val2014/COCO_val2014_000000551881.jpg\n",
            "loading: /content/drive/MyDrive/UCLA/cs 263/final_proj/val2014/COCO_val2014_000000551881.jpg\n",
            "loading: /content/drive/MyDrive/UCLA/cs 263/final_proj/val2014/COCO_val2014_000000551881.jpg\n",
            "loading: /content/drive/MyDrive/UCLA/cs 263/final_proj/val2014/COCO_val2014_000000551881.jpg\n",
            "loading: /content/drive/MyDrive/UCLA/cs 263/final_proj/val2014/COCO_val2014_000000551881.jpg\n",
            "loading: /content/drive/MyDrive/UCLA/cs 263/final_proj/val2014/COCO_val2014_000000551881.jpg\n",
            "loading: /content/drive/MyDrive/UCLA/cs 263/final_proj/val2014/COCO_val2014_000000369541.jpg\n",
            "loading: /content/drive/MyDrive/UCLA/cs 263/final_proj/val2014/COCO_val2014_000000369541.jpg\n",
            "loading: /content/drive/MyDrive/UCLA/cs 263/final_proj/val2014/COCO_val2014_000000369541.jpg\n",
            "loading: /content/drive/MyDrive/UCLA/cs 263/final_proj/val2014/COCO_val2014_000000369541.jpg\n",
            "loading: /content/drive/MyDrive/UCLA/cs 263/final_proj/val2014/COCO_val2014_000000369541.jpg\n",
            "loading: /content/drive/MyDrive/UCLA/cs 263/final_proj/val2014/COCO_val2014_000000369541.jpg\n",
            "loading: /content/drive/MyDrive/UCLA/cs 263/final_proj/val2014/COCO_val2014_000000007795.jpg\n",
            "loading: /content/drive/MyDrive/UCLA/cs 263/final_proj/val2014/COCO_val2014_000000007795.jpg\n",
            "loading: /content/drive/MyDrive/UCLA/cs 263/final_proj/val2014/COCO_val2014_000000007795.jpg\n",
            "loading: /content/drive/MyDrive/UCLA/cs 263/final_proj/val2014/COCO_val2014_000000007795.jpg\n",
            "loading: /content/drive/MyDrive/UCLA/cs 263/final_proj/val2014/COCO_val2014_000000007795.jpg\n",
            "loading: /content/drive/MyDrive/UCLA/cs 263/final_proj/val2014/COCO_val2014_000000007795.jpg\n",
            "loading: /content/drive/MyDrive/UCLA/cs 263/final_proj/val2014/COCO_val2014_000000303099.jpg\n",
            "loading: /content/drive/MyDrive/UCLA/cs 263/final_proj/val2014/COCO_val2014_000000303099.jpg\n",
            "loading: /content/drive/MyDrive/UCLA/cs 263/final_proj/val2014/COCO_val2014_000000303099.jpg\n",
            "loading: /content/drive/MyDrive/UCLA/cs 263/final_proj/val2014/COCO_val2014_000000303099.jpg\n",
            "loading: /content/drive/MyDrive/UCLA/cs 263/final_proj/val2014/COCO_val2014_000000303099.jpg\n",
            "loading: /content/drive/MyDrive/UCLA/cs 263/final_proj/val2014/COCO_val2014_000000303099.jpg\n",
            "loading: /content/drive/MyDrive/UCLA/cs 263/final_proj/val2014/COCO_val2014_000000147289.jpg\n",
            "loading: /content/drive/MyDrive/UCLA/cs 263/final_proj/val2014/COCO_val2014_000000147289.jpg\n",
            "loading: /content/drive/MyDrive/UCLA/cs 263/final_proj/val2014/COCO_val2014_000000147289.jpg\n",
            "loading: /content/drive/MyDrive/UCLA/cs 263/final_proj/val2014/COCO_val2014_000000147289.jpg\n",
            "loading: /content/drive/MyDrive/UCLA/cs 263/final_proj/val2014/COCO_val2014_000000147289.jpg\n",
            "loading: /content/drive/MyDrive/UCLA/cs 263/final_proj/val2014/COCO_val2014_000000147289.jpg\n",
            "loading: /content/drive/MyDrive/UCLA/cs 263/final_proj/val2014/COCO_val2014_000000102439.jpg\n",
            "loading: /content/drive/MyDrive/UCLA/cs 263/final_proj/val2014/COCO_val2014_000000102439.jpg\n",
            "loading: /content/drive/MyDrive/UCLA/cs 263/final_proj/val2014/COCO_val2014_000000102439.jpg\n",
            "loading: /content/drive/MyDrive/UCLA/cs 263/final_proj/val2014/COCO_val2014_000000102439.jpg\n",
            "loading: /content/drive/MyDrive/UCLA/cs 263/final_proj/val2014/COCO_val2014_000000102439.jpg\n",
            "loading: /content/drive/MyDrive/UCLA/cs 263/final_proj/val2014/COCO_val2014_000000102439.jpg\n",
            "loading: /content/drive/MyDrive/UCLA/cs 263/final_proj/val2014/COCO_val2014_000000183757.jpg\n",
            "loading: /content/drive/MyDrive/UCLA/cs 263/final_proj/val2014/COCO_val2014_000000183757.jpg\n",
            "loading: /content/drive/MyDrive/UCLA/cs 263/final_proj/val2014/COCO_val2014_000000183757.jpg\n",
            "loading: /content/drive/MyDrive/UCLA/cs 263/final_proj/val2014/COCO_val2014_000000183757.jpg\n",
            "loading: /content/drive/MyDrive/UCLA/cs 263/final_proj/val2014/COCO_val2014_000000183757.jpg\n",
            "loading: /content/drive/MyDrive/UCLA/cs 263/final_proj/val2014/COCO_val2014_000000183757.jpg\n",
            "loading: /content/drive/MyDrive/UCLA/cs 263/final_proj/val2014/COCO_val2014_000000500473.jpg\n",
            "loading: /content/drive/MyDrive/UCLA/cs 263/final_proj/val2014/COCO_val2014_000000500473.jpg\n",
            "loading: /content/drive/MyDrive/UCLA/cs 263/final_proj/val2014/COCO_val2014_000000500473.jpg\n",
            "loading: /content/drive/MyDrive/UCLA/cs 263/final_proj/val2014/COCO_val2014_000000500473.jpg\n",
            "loading: /content/drive/MyDrive/UCLA/cs 263/final_proj/val2014/COCO_val2014_000000500473.jpg\n",
            "loading: /content/drive/MyDrive/UCLA/cs 263/final_proj/val2014/COCO_val2014_000000500473.jpg\n",
            "loading: /content/drive/MyDrive/UCLA/cs 263/final_proj/val2014/COCO_val2014_000000327532.jpg\n",
            "loading: /content/drive/MyDrive/UCLA/cs 263/final_proj/val2014/COCO_val2014_000000327532.jpg\n",
            "loading: /content/drive/MyDrive/UCLA/cs 263/final_proj/val2014/COCO_val2014_000000327532.jpg\n",
            "loading: /content/drive/MyDrive/UCLA/cs 263/final_proj/val2014/COCO_val2014_000000327532.jpg\n",
            "loading: /content/drive/MyDrive/UCLA/cs 263/final_proj/val2014/COCO_val2014_000000327532.jpg\n",
            "loading: /content/drive/MyDrive/UCLA/cs 263/final_proj/val2014/COCO_val2014_000000327532.jpg\n",
            "loading: /content/drive/MyDrive/UCLA/cs 263/final_proj/val2014/COCO_val2014_000000167110.jpg\n",
            "loading: /content/drive/MyDrive/UCLA/cs 263/final_proj/val2014/COCO_val2014_000000167110.jpg\n",
            "loading: /content/drive/MyDrive/UCLA/cs 263/final_proj/val2014/COCO_val2014_000000167110.jpg\n",
            "loading: /content/drive/MyDrive/UCLA/cs 263/final_proj/val2014/COCO_val2014_000000167110.jpg\n",
            "loading: /content/drive/MyDrive/UCLA/cs 263/final_proj/val2014/COCO_val2014_000000167110.jpg\n",
            "loading: /content/drive/MyDrive/UCLA/cs 263/final_proj/val2014/COCO_val2014_000000167110.jpg\n",
            "loading: /content/drive/MyDrive/UCLA/cs 263/final_proj/val2014/COCO_val2014_000000300876.jpg\n",
            "loading: /content/drive/MyDrive/UCLA/cs 263/final_proj/val2014/COCO_val2014_000000300876.jpg\n",
            "loading: /content/drive/MyDrive/UCLA/cs 263/final_proj/val2014/COCO_val2014_000000300876.jpg\n",
            "loading: /content/drive/MyDrive/UCLA/cs 263/final_proj/val2014/COCO_val2014_000000300876.jpg\n",
            "loading: /content/drive/MyDrive/UCLA/cs 263/final_proj/val2014/COCO_val2014_000000300876.jpg\n",
            "loading: /content/drive/MyDrive/UCLA/cs 263/final_proj/val2014/COCO_val2014_000000300876.jpg\n",
            "loading: /content/drive/MyDrive/UCLA/cs 263/final_proj/val2014/COCO_val2014_000000443240.jpg\n",
            "loading: /content/drive/MyDrive/UCLA/cs 263/final_proj/val2014/COCO_val2014_000000443240.jpg\n",
            "loading: /content/drive/MyDrive/UCLA/cs 263/final_proj/val2014/COCO_val2014_000000443240.jpg\n",
            "loading: /content/drive/MyDrive/UCLA/cs 263/final_proj/val2014/COCO_val2014_000000443240.jpg\n",
            "loading: /content/drive/MyDrive/UCLA/cs 263/final_proj/val2014/COCO_val2014_000000443240.jpg\n",
            "loading: /content/drive/MyDrive/UCLA/cs 263/final_proj/val2014/COCO_val2014_000000443240.jpg\n",
            "loading: /content/drive/MyDrive/UCLA/cs 263/final_proj/val2014/COCO_val2014_000000288042.jpg\n",
            "loading: /content/drive/MyDrive/UCLA/cs 263/final_proj/val2014/COCO_val2014_000000288042.jpg\n",
            "loading: /content/drive/MyDrive/UCLA/cs 263/final_proj/val2014/COCO_val2014_000000288042.jpg\n",
            "loading: /content/drive/MyDrive/UCLA/cs 263/final_proj/val2014/COCO_val2014_000000288042.jpg\n",
            "loading: /content/drive/MyDrive/UCLA/cs 263/final_proj/val2014/COCO_val2014_000000288042.jpg\n",
            "loading: /content/drive/MyDrive/UCLA/cs 263/final_proj/val2014/COCO_val2014_000000288042.jpg\n",
            "loading: /content/drive/MyDrive/UCLA/cs 263/final_proj/val2014/COCO_val2014_000000270609.jpg\n",
            "loading: /content/drive/MyDrive/UCLA/cs 263/final_proj/val2014/COCO_val2014_000000270609.jpg\n",
            "loading: /content/drive/MyDrive/UCLA/cs 263/final_proj/val2014/COCO_val2014_000000270609.jpg\n",
            "loading: /content/drive/MyDrive/UCLA/cs 263/final_proj/val2014/COCO_val2014_000000270609.jpg\n",
            "loading: /content/drive/MyDrive/UCLA/cs 263/final_proj/val2014/COCO_val2014_000000270609.jpg\n",
            "loading: /content/drive/MyDrive/UCLA/cs 263/final_proj/val2014/COCO_val2014_000000270609.jpg\n",
            "loading: /content/drive/MyDrive/UCLA/cs 263/final_proj/val2014/COCO_val2014_000000208028.jpg\n",
            "loading: /content/drive/MyDrive/UCLA/cs 263/final_proj/val2014/COCO_val2014_000000208028.jpg\n",
            "loading: /content/drive/MyDrive/UCLA/cs 263/final_proj/val2014/COCO_val2014_000000208028.jpg\n",
            "loading: /content/drive/MyDrive/UCLA/cs 263/final_proj/val2014/COCO_val2014_000000208028.jpg\n",
            "loading: /content/drive/MyDrive/UCLA/cs 263/final_proj/val2014/COCO_val2014_000000208028.jpg\n",
            "loading: /content/drive/MyDrive/UCLA/cs 263/final_proj/val2014/COCO_val2014_000000208028.jpg\n",
            "loading: /content/drive/MyDrive/UCLA/cs 263/final_proj/val2014/COCO_val2014_000000314992.jpg\n",
            "loading: /content/drive/MyDrive/UCLA/cs 263/final_proj/val2014/COCO_val2014_000000314992.jpg\n",
            "loading: /content/drive/MyDrive/UCLA/cs 263/final_proj/val2014/COCO_val2014_000000314992.jpg\n",
            "loading: /content/drive/MyDrive/UCLA/cs 263/final_proj/val2014/COCO_val2014_000000314992.jpg\n",
            "loading: /content/drive/MyDrive/UCLA/cs 263/final_proj/val2014/COCO_val2014_000000314992.jpg\n",
            "loading: /content/drive/MyDrive/UCLA/cs 263/final_proj/val2014/COCO_val2014_000000314992.jpg\n",
            "loading: /content/drive/MyDrive/UCLA/cs 263/final_proj/val2014/COCO_val2014_000000424642.jpg\n",
            "loading: /content/drive/MyDrive/UCLA/cs 263/final_proj/val2014/COCO_val2014_000000424642.jpg\n",
            "loading: /content/drive/MyDrive/UCLA/cs 263/final_proj/val2014/COCO_val2014_000000424642.jpg\n",
            "loading: /content/drive/MyDrive/UCLA/cs 263/final_proj/val2014/COCO_val2014_000000424642.jpg\n",
            "loading: /content/drive/MyDrive/UCLA/cs 263/final_proj/val2014/COCO_val2014_000000424642.jpg\n",
            "loading: /content/drive/MyDrive/UCLA/cs 263/final_proj/val2014/COCO_val2014_000000424642.jpg\n",
            "loading: /content/drive/MyDrive/UCLA/cs 263/final_proj/val2014/COCO_val2014_000000467176.jpg\n",
            "loading: /content/drive/MyDrive/UCLA/cs 263/final_proj/val2014/COCO_val2014_000000467176.jpg\n",
            "loading: /content/drive/MyDrive/UCLA/cs 263/final_proj/val2014/COCO_val2014_000000467176.jpg\n",
            "loading: /content/drive/MyDrive/UCLA/cs 263/final_proj/val2014/COCO_val2014_000000467176.jpg\n",
            "loading: /content/drive/MyDrive/UCLA/cs 263/final_proj/val2014/COCO_val2014_000000467176.jpg\n",
            "loading: /content/drive/MyDrive/UCLA/cs 263/final_proj/val2014/COCO_val2014_000000467176.jpg\n",
            "loading: /content/drive/MyDrive/UCLA/cs 263/final_proj/val2014/COCO_val2014_000000087435.jpg\n",
            "loading: /content/drive/MyDrive/UCLA/cs 263/final_proj/val2014/COCO_val2014_000000087435.jpg\n",
            "loading: /content/drive/MyDrive/UCLA/cs 263/final_proj/val2014/COCO_val2014_000000087435.jpg\n",
            "loading: /content/drive/MyDrive/UCLA/cs 263/final_proj/val2014/COCO_val2014_000000087435.jpg\n",
            "loading: /content/drive/MyDrive/UCLA/cs 263/final_proj/val2014/COCO_val2014_000000087435.jpg\n",
            "loading: /content/drive/MyDrive/UCLA/cs 263/final_proj/val2014/COCO_val2014_000000087435.jpg\n",
            "loading: /content/drive/MyDrive/UCLA/cs 263/final_proj/val2014/COCO_val2014_000000079446.jpg\n",
            "loading: /content/drive/MyDrive/UCLA/cs 263/final_proj/val2014/COCO_val2014_000000079446.jpg\n",
            "loading: /content/drive/MyDrive/UCLA/cs 263/final_proj/val2014/COCO_val2014_000000079446.jpg\n",
            "loading: /content/drive/MyDrive/UCLA/cs 263/final_proj/val2014/COCO_val2014_000000079446.jpg\n",
            "loading: /content/drive/MyDrive/UCLA/cs 263/final_proj/val2014/COCO_val2014_000000079446.jpg\n",
            "loading: /content/drive/MyDrive/UCLA/cs 263/final_proj/val2014/COCO_val2014_000000079446.jpg\n",
            "loading: /content/drive/MyDrive/UCLA/cs 263/final_proj/val2014/COCO_val2014_000000354398.jpg\n",
            "loading: /content/drive/MyDrive/UCLA/cs 263/final_proj/val2014/COCO_val2014_000000354398.jpg\n",
            "loading: /content/drive/MyDrive/UCLA/cs 263/final_proj/val2014/COCO_val2014_000000354398.jpg\n",
            "loading: /content/drive/MyDrive/UCLA/cs 263/final_proj/val2014/COCO_val2014_000000354398.jpg\n",
            "loading: /content/drive/MyDrive/UCLA/cs 263/final_proj/val2014/COCO_val2014_000000354398.jpg\n",
            "loading: /content/drive/MyDrive/UCLA/cs 263/final_proj/val2014/COCO_val2014_000000354398.jpg\n",
            "loading: /content/drive/MyDrive/UCLA/cs 263/final_proj/val2014/COCO_val2014_000000430052.jpg\n",
            "loading: /content/drive/MyDrive/UCLA/cs 263/final_proj/val2014/COCO_val2014_000000430052.jpg\n",
            "loading: /content/drive/MyDrive/UCLA/cs 263/final_proj/val2014/COCO_val2014_000000430052.jpg\n",
            "loading: /content/drive/MyDrive/UCLA/cs 263/final_proj/val2014/COCO_val2014_000000430052.jpg\n",
            "loading: /content/drive/MyDrive/UCLA/cs 263/final_proj/val2014/COCO_val2014_000000430052.jpg\n",
            "loading: /content/drive/MyDrive/UCLA/cs 263/final_proj/val2014/COCO_val2014_000000430052.jpg\n",
            "loading: /content/drive/MyDrive/UCLA/cs 263/final_proj/val2014/COCO_val2014_000000567886.jpg\n",
            "loading: /content/drive/MyDrive/UCLA/cs 263/final_proj/val2014/COCO_val2014_000000567886.jpg\n",
            "loading: /content/drive/MyDrive/UCLA/cs 263/final_proj/val2014/COCO_val2014_000000567886.jpg\n",
            "loading: /content/drive/MyDrive/UCLA/cs 263/final_proj/val2014/COCO_val2014_000000567886.jpg\n",
            "loading: /content/drive/MyDrive/UCLA/cs 263/final_proj/val2014/COCO_val2014_000000567886.jpg\n",
            "loading: /content/drive/MyDrive/UCLA/cs 263/final_proj/val2014/COCO_val2014_000000567886.jpg\n",
            "loading: /content/drive/MyDrive/UCLA/cs 263/final_proj/val2014/COCO_val2014_000000539251.jpg\n",
            "loading: /content/drive/MyDrive/UCLA/cs 263/final_proj/val2014/COCO_val2014_000000539251.jpg\n",
            "loading: /content/drive/MyDrive/UCLA/cs 263/final_proj/val2014/COCO_val2014_000000539251.jpg\n",
            "loading: /content/drive/MyDrive/UCLA/cs 263/final_proj/val2014/COCO_val2014_000000539251.jpg\n",
            "loading: /content/drive/MyDrive/UCLA/cs 263/final_proj/val2014/COCO_val2014_000000539251.jpg\n",
            "loading: /content/drive/MyDrive/UCLA/cs 263/final_proj/val2014/COCO_val2014_000000539251.jpg\n",
            "loading: /content/drive/MyDrive/UCLA/cs 263/final_proj/val2014/COCO_val2014_000000551908.jpg\n",
            "loading: /content/drive/MyDrive/UCLA/cs 263/final_proj/val2014/COCO_val2014_000000551908.jpg\n",
            "loading: /content/drive/MyDrive/UCLA/cs 263/final_proj/val2014/COCO_val2014_000000551908.jpg\n",
            "loading: /content/drive/MyDrive/UCLA/cs 263/final_proj/val2014/COCO_val2014_000000551908.jpg\n",
            "loading: /content/drive/MyDrive/UCLA/cs 263/final_proj/val2014/COCO_val2014_000000551908.jpg\n",
            "loading: /content/drive/MyDrive/UCLA/cs 263/final_proj/val2014/COCO_val2014_000000551908.jpg\n",
            "loading: /content/drive/MyDrive/UCLA/cs 263/final_proj/val2014/COCO_val2014_000000102906.jpg\n",
            "loading: /content/drive/MyDrive/UCLA/cs 263/final_proj/val2014/COCO_val2014_000000102906.jpg\n",
            "loading: /content/drive/MyDrive/UCLA/cs 263/final_proj/val2014/COCO_val2014_000000102906.jpg\n",
            "loading: /content/drive/MyDrive/UCLA/cs 263/final_proj/val2014/COCO_val2014_000000102906.jpg\n",
            "loading: /content/drive/MyDrive/UCLA/cs 263/final_proj/val2014/COCO_val2014_000000102906.jpg\n",
            "loading: /content/drive/MyDrive/UCLA/cs 263/final_proj/val2014/COCO_val2014_000000102906.jpg\n",
            "loading: /content/drive/MyDrive/UCLA/cs 263/final_proj/val2014/COCO_val2014_000000327771.jpg\n",
            "loading: /content/drive/MyDrive/UCLA/cs 263/final_proj/val2014/COCO_val2014_000000327771.jpg\n",
            "loading: /content/drive/MyDrive/UCLA/cs 263/final_proj/val2014/COCO_val2014_000000327771.jpg\n",
            "loading: /content/drive/MyDrive/UCLA/cs 263/final_proj/val2014/COCO_val2014_000000327771.jpg\n",
            "loading: /content/drive/MyDrive/UCLA/cs 263/final_proj/val2014/COCO_val2014_000000327771.jpg\n",
            "loading: /content/drive/MyDrive/UCLA/cs 263/final_proj/val2014/COCO_val2014_000000327771.jpg\n",
            "loading: /content/drive/MyDrive/UCLA/cs 263/final_proj/val2014/COCO_val2014_000000280734.jpg\n",
            "loading: /content/drive/MyDrive/UCLA/cs 263/final_proj/val2014/COCO_val2014_000000280734.jpg\n",
            "loading: /content/drive/MyDrive/UCLA/cs 263/final_proj/val2014/COCO_val2014_000000280734.jpg\n",
            "loading: /content/drive/MyDrive/UCLA/cs 263/final_proj/val2014/COCO_val2014_000000280734.jpg\n",
            "loading: /content/drive/MyDrive/UCLA/cs 263/final_proj/val2014/COCO_val2014_000000280734.jpg\n",
            "loading: /content/drive/MyDrive/UCLA/cs 263/final_proj/val2014/COCO_val2014_000000280734.jpg\n",
            "loading: /content/drive/MyDrive/UCLA/cs 263/final_proj/val2014/COCO_val2014_000000111817.jpg\n",
            "loading: /content/drive/MyDrive/UCLA/cs 263/final_proj/val2014/COCO_val2014_000000111817.jpg\n",
            "loading: /content/drive/MyDrive/UCLA/cs 263/final_proj/val2014/COCO_val2014_000000111817.jpg\n",
            "loading: /content/drive/MyDrive/UCLA/cs 263/final_proj/val2014/COCO_val2014_000000111817.jpg\n",
            "loading: /content/drive/MyDrive/UCLA/cs 263/final_proj/val2014/COCO_val2014_000000111817.jpg\n",
            "loading: /content/drive/MyDrive/UCLA/cs 263/final_proj/val2014/COCO_val2014_000000111817.jpg\n",
            "loading: /content/drive/MyDrive/UCLA/cs 263/final_proj/val2014/COCO_val2014_000000379162.jpg\n",
            "loading: /content/drive/MyDrive/UCLA/cs 263/final_proj/val2014/COCO_val2014_000000379162.jpg\n",
            "loading: /content/drive/MyDrive/UCLA/cs 263/final_proj/val2014/COCO_val2014_000000379162.jpg\n",
            "loading: /content/drive/MyDrive/UCLA/cs 263/final_proj/val2014/COCO_val2014_000000379162.jpg\n",
            "loading: /content/drive/MyDrive/UCLA/cs 263/final_proj/val2014/COCO_val2014_000000379162.jpg\n",
            "loading: /content/drive/MyDrive/UCLA/cs 263/final_proj/val2014/COCO_val2014_000000379162.jpg\n",
            "loading: /content/drive/MyDrive/UCLA/cs 263/final_proj/val2014/COCO_val2014_000000489728.jpg\n",
            "loading: /content/drive/MyDrive/UCLA/cs 263/final_proj/val2014/COCO_val2014_000000489728.jpg\n",
            "loading: /content/drive/MyDrive/UCLA/cs 263/final_proj/val2014/COCO_val2014_000000489728.jpg\n",
            "loading: /content/drive/MyDrive/UCLA/cs 263/final_proj/val2014/COCO_val2014_000000489728.jpg\n",
            "loading: /content/drive/MyDrive/UCLA/cs 263/final_proj/val2014/COCO_val2014_000000489728.jpg\n",
            "loading: /content/drive/MyDrive/UCLA/cs 263/final_proj/val2014/COCO_val2014_000000489728.jpg\n",
            "loading: /content/drive/MyDrive/UCLA/cs 263/final_proj/val2014/COCO_val2014_000000419453.jpg\n",
            "loading: /content/drive/MyDrive/UCLA/cs 263/final_proj/val2014/COCO_val2014_000000419453.jpg\n",
            "loading: /content/drive/MyDrive/UCLA/cs 263/final_proj/val2014/COCO_val2014_000000419453.jpg\n",
            "loading: /content/drive/MyDrive/UCLA/cs 263/final_proj/val2014/COCO_val2014_000000419453.jpg\n",
            "loading: /content/drive/MyDrive/UCLA/cs 263/final_proj/val2014/COCO_val2014_000000419453.jpg\n",
            "loading: /content/drive/MyDrive/UCLA/cs 263/final_proj/val2014/COCO_val2014_000000419453.jpg\n",
            "loading: /content/drive/MyDrive/UCLA/cs 263/final_proj/val2014/COCO_val2014_000000358255.jpg\n",
            "loading: /content/drive/MyDrive/UCLA/cs 263/final_proj/val2014/COCO_val2014_000000358255.jpg\n",
            "loading: /content/drive/MyDrive/UCLA/cs 263/final_proj/val2014/COCO_val2014_000000358255.jpg\n",
            "loading: /content/drive/MyDrive/UCLA/cs 263/final_proj/val2014/COCO_val2014_000000358255.jpg\n",
            "loading: /content/drive/MyDrive/UCLA/cs 263/final_proj/val2014/COCO_val2014_000000358255.jpg\n",
            "loading: /content/drive/MyDrive/UCLA/cs 263/final_proj/val2014/COCO_val2014_000000358255.jpg\n",
            "loading: /content/drive/MyDrive/UCLA/cs 263/final_proj/val2014/COCO_val2014_000000178078.jpg\n",
            "loading: /content/drive/MyDrive/UCLA/cs 263/final_proj/val2014/COCO_val2014_000000178078.jpg\n",
            "loading: /content/drive/MyDrive/UCLA/cs 263/final_proj/val2014/COCO_val2014_000000178078.jpg\n",
            "loading: /content/drive/MyDrive/UCLA/cs 263/final_proj/val2014/COCO_val2014_000000178078.jpg\n",
            "loading: /content/drive/MyDrive/UCLA/cs 263/final_proj/val2014/COCO_val2014_000000178078.jpg\n",
            "loading: /content/drive/MyDrive/UCLA/cs 263/final_proj/val2014/COCO_val2014_000000178078.jpg\n",
            "loading: /content/drive/MyDrive/UCLA/cs 263/final_proj/val2014/COCO_val2014_000000197219.jpg\n",
            "loading: /content/drive/MyDrive/UCLA/cs 263/final_proj/val2014/COCO_val2014_000000197219.jpg\n",
            "loading: /content/drive/MyDrive/UCLA/cs 263/final_proj/val2014/COCO_val2014_000000197219.jpg\n",
            "loading: /content/drive/MyDrive/UCLA/cs 263/final_proj/val2014/COCO_val2014_000000197219.jpg\n",
            "loading: /content/drive/MyDrive/UCLA/cs 263/final_proj/val2014/COCO_val2014_000000197219.jpg\n",
            "loading: /content/drive/MyDrive/UCLA/cs 263/final_proj/val2014/COCO_val2014_000000197219.jpg\n",
            "loading: /content/drive/MyDrive/UCLA/cs 263/final_proj/val2014/COCO_val2014_000000460931.jpg\n",
            "loading: /content/drive/MyDrive/UCLA/cs 263/final_proj/val2014/COCO_val2014_000000460931.jpg\n",
            "loading: /content/drive/MyDrive/UCLA/cs 263/final_proj/val2014/COCO_val2014_000000460931.jpg\n",
            "loading: /content/drive/MyDrive/UCLA/cs 263/final_proj/val2014/COCO_val2014_000000460931.jpg\n",
            "loading: /content/drive/MyDrive/UCLA/cs 263/final_proj/val2014/COCO_val2014_000000460931.jpg\n",
            "loading: /content/drive/MyDrive/UCLA/cs 263/final_proj/val2014/COCO_val2014_000000460931.jpg\n",
            "loading: /content/drive/MyDrive/UCLA/cs 263/final_proj/val2014/COCO_val2014_000000506483.jpg\n",
            "loading: /content/drive/MyDrive/UCLA/cs 263/final_proj/val2014/COCO_val2014_000000506483.jpg\n",
            "loading: /content/drive/MyDrive/UCLA/cs 263/final_proj/val2014/COCO_val2014_000000506483.jpg\n",
            "loading: /content/drive/MyDrive/UCLA/cs 263/final_proj/val2014/COCO_val2014_000000506483.jpg\n",
            "loading: /content/drive/MyDrive/UCLA/cs 263/final_proj/val2014/COCO_val2014_000000506483.jpg\n",
            "loading: /content/drive/MyDrive/UCLA/cs 263/final_proj/val2014/COCO_val2014_000000506483.jpg\n",
            "loading: /content/drive/MyDrive/UCLA/cs 263/final_proj/val2014/COCO_val2014_000000468934.jpg\n",
            "loading: /content/drive/MyDrive/UCLA/cs 263/final_proj/val2014/COCO_val2014_000000468934.jpg\n",
            "loading: /content/drive/MyDrive/UCLA/cs 263/final_proj/val2014/COCO_val2014_000000468934.jpg\n",
            "loading: /content/drive/MyDrive/UCLA/cs 263/final_proj/val2014/COCO_val2014_000000468934.jpg\n",
            "loading: /content/drive/MyDrive/UCLA/cs 263/final_proj/val2014/COCO_val2014_000000468934.jpg\n",
            "loading: /content/drive/MyDrive/UCLA/cs 263/final_proj/val2014/COCO_val2014_000000468934.jpg\n",
            "loading: /content/drive/MyDrive/UCLA/cs 263/final_proj/val2014/COCO_val2014_000000189694.jpg\n",
            "loading: /content/drive/MyDrive/UCLA/cs 263/final_proj/val2014/COCO_val2014_000000189694.jpg\n",
            "loading: /content/drive/MyDrive/UCLA/cs 263/final_proj/val2014/COCO_val2014_000000189694.jpg\n",
            "loading: /content/drive/MyDrive/UCLA/cs 263/final_proj/val2014/COCO_val2014_000000189694.jpg\n",
            "loading: /content/drive/MyDrive/UCLA/cs 263/final_proj/val2014/COCO_val2014_000000189694.jpg\n",
            "loading: /content/drive/MyDrive/UCLA/cs 263/final_proj/val2014/COCO_val2014_000000189694.jpg\n",
            "loading: /content/drive/MyDrive/UCLA/cs 263/final_proj/val2014/COCO_val2014_000000273450.jpg\n",
            "loading: /content/drive/MyDrive/UCLA/cs 263/final_proj/val2014/COCO_val2014_000000273450.jpg\n",
            "loading: /content/drive/MyDrive/UCLA/cs 263/final_proj/val2014/COCO_val2014_000000273450.jpg\n",
            "loading: /content/drive/MyDrive/UCLA/cs 263/final_proj/val2014/COCO_val2014_000000273450.jpg\n",
            "loading: /content/drive/MyDrive/UCLA/cs 263/final_proj/val2014/COCO_val2014_000000273450.jpg\n",
            "loading: /content/drive/MyDrive/UCLA/cs 263/final_proj/val2014/COCO_val2014_000000273450.jpg\n",
            "loading: /content/drive/MyDrive/UCLA/cs 263/final_proj/val2014/COCO_val2014_000000278226.jpg\n",
            "loading: /content/drive/MyDrive/UCLA/cs 263/final_proj/val2014/COCO_val2014_000000278226.jpg\n",
            "loading: /content/drive/MyDrive/UCLA/cs 263/final_proj/val2014/COCO_val2014_000000278226.jpg\n",
            "loading: /content/drive/MyDrive/UCLA/cs 263/final_proj/val2014/COCO_val2014_000000278226.jpg\n",
            "loading: /content/drive/MyDrive/UCLA/cs 263/final_proj/val2014/COCO_val2014_000000278226.jpg\n",
            "loading: /content/drive/MyDrive/UCLA/cs 263/final_proj/val2014/COCO_val2014_000000278226.jpg\n",
            "loading: /content/drive/MyDrive/UCLA/cs 263/final_proj/val2014/COCO_val2014_000000449432.jpg\n",
            "loading: /content/drive/MyDrive/UCLA/cs 263/final_proj/val2014/COCO_val2014_000000449432.jpg\n",
            "loading: /content/drive/MyDrive/UCLA/cs 263/final_proj/val2014/COCO_val2014_000000449432.jpg\n",
            "loading: /content/drive/MyDrive/UCLA/cs 263/final_proj/val2014/COCO_val2014_000000449432.jpg\n",
            "loading: /content/drive/MyDrive/UCLA/cs 263/final_proj/val2014/COCO_val2014_000000449432.jpg\n",
            "loading: /content/drive/MyDrive/UCLA/cs 263/final_proj/val2014/COCO_val2014_000000449432.jpg\n",
            "loading: /content/drive/MyDrive/UCLA/cs 263/final_proj/val2014/COCO_val2014_000000153300.jpg\n",
            "loading: /content/drive/MyDrive/UCLA/cs 263/final_proj/val2014/COCO_val2014_000000153300.jpg\n",
            "loading: /content/drive/MyDrive/UCLA/cs 263/final_proj/val2014/COCO_val2014_000000153300.jpg\n",
            "loading: /content/drive/MyDrive/UCLA/cs 263/final_proj/val2014/COCO_val2014_000000153300.jpg\n",
            "loading: /content/drive/MyDrive/UCLA/cs 263/final_proj/val2014/COCO_val2014_000000153300.jpg\n",
            "loading: /content/drive/MyDrive/UCLA/cs 263/final_proj/val2014/COCO_val2014_000000153300.jpg\n",
            "loading: /content/drive/MyDrive/UCLA/cs 263/final_proj/val2014/COCO_val2014_000000506178.jpg\n",
            "loading: /content/drive/MyDrive/UCLA/cs 263/final_proj/val2014/COCO_val2014_000000506178.jpg\n",
            "loading: /content/drive/MyDrive/UCLA/cs 263/final_proj/val2014/COCO_val2014_000000506178.jpg\n",
            "loading: /content/drive/MyDrive/UCLA/cs 263/final_proj/val2014/COCO_val2014_000000506178.jpg\n",
            "loading: /content/drive/MyDrive/UCLA/cs 263/final_proj/val2014/COCO_val2014_000000506178.jpg\n",
            "loading: /content/drive/MyDrive/UCLA/cs 263/final_proj/val2014/COCO_val2014_000000506178.jpg\n",
            "loading: /content/drive/MyDrive/UCLA/cs 263/final_proj/val2014/COCO_val2014_000000249720.jpg\n",
            "loading: /content/drive/MyDrive/UCLA/cs 263/final_proj/val2014/COCO_val2014_000000249720.jpg\n",
            "loading: /content/drive/MyDrive/UCLA/cs 263/final_proj/val2014/COCO_val2014_000000249720.jpg\n",
            "loading: /content/drive/MyDrive/UCLA/cs 263/final_proj/val2014/COCO_val2014_000000249720.jpg\n",
            "loading: /content/drive/MyDrive/UCLA/cs 263/final_proj/val2014/COCO_val2014_000000249720.jpg\n",
            "loading: /content/drive/MyDrive/UCLA/cs 263/final_proj/val2014/COCO_val2014_000000249720.jpg\n",
            "loading: /content/drive/MyDrive/UCLA/cs 263/final_proj/val2014/COCO_val2014_000000205206.jpg\n",
            "loading: /content/drive/MyDrive/UCLA/cs 263/final_proj/val2014/COCO_val2014_000000205206.jpg\n",
            "loading: /content/drive/MyDrive/UCLA/cs 263/final_proj/val2014/COCO_val2014_000000205206.jpg\n",
            "loading: /content/drive/MyDrive/UCLA/cs 263/final_proj/val2014/COCO_val2014_000000205206.jpg\n",
            "loading: /content/drive/MyDrive/UCLA/cs 263/final_proj/val2014/COCO_val2014_000000205206.jpg\n",
            "loading: /content/drive/MyDrive/UCLA/cs 263/final_proj/val2014/COCO_val2014_000000205206.jpg\n",
            "loading: /content/drive/MyDrive/UCLA/cs 263/final_proj/val2014/COCO_val2014_000000018150.jpg\n",
            "loading: /content/drive/MyDrive/UCLA/cs 263/final_proj/val2014/COCO_val2014_000000018150.jpg\n",
            "loading: /content/drive/MyDrive/UCLA/cs 263/final_proj/val2014/COCO_val2014_000000018150.jpg\n",
            "loading: /content/drive/MyDrive/UCLA/cs 263/final_proj/val2014/COCO_val2014_000000018150.jpg\n",
            "loading: /content/drive/MyDrive/UCLA/cs 263/final_proj/val2014/COCO_val2014_000000018150.jpg\n",
            "loading: /content/drive/MyDrive/UCLA/cs 263/final_proj/val2014/COCO_val2014_000000018150.jpg\n",
            "loading: /content/drive/MyDrive/UCLA/cs 263/final_proj/val2014/COCO_val2014_000000303534.jpg\n",
            "loading: /content/drive/MyDrive/UCLA/cs 263/final_proj/val2014/COCO_val2014_000000303534.jpg\n",
            "loading: /content/drive/MyDrive/UCLA/cs 263/final_proj/val2014/COCO_val2014_000000303534.jpg\n",
            "loading: /content/drive/MyDrive/UCLA/cs 263/final_proj/val2014/COCO_val2014_000000303534.jpg\n",
            "loading: /content/drive/MyDrive/UCLA/cs 263/final_proj/val2014/COCO_val2014_000000303534.jpg\n",
            "loading: /content/drive/MyDrive/UCLA/cs 263/final_proj/val2014/COCO_val2014_000000303534.jpg\n",
            "loading: /content/drive/MyDrive/UCLA/cs 263/final_proj/val2014/COCO_val2014_000000278771.jpg\n",
            "loading: /content/drive/MyDrive/UCLA/cs 263/final_proj/val2014/COCO_val2014_000000278771.jpg\n",
            "loading: /content/drive/MyDrive/UCLA/cs 263/final_proj/val2014/COCO_val2014_000000278771.jpg\n",
            "loading: /content/drive/MyDrive/UCLA/cs 263/final_proj/val2014/COCO_val2014_000000278771.jpg\n",
            "loading: /content/drive/MyDrive/UCLA/cs 263/final_proj/val2014/COCO_val2014_000000278771.jpg\n",
            "loading: /content/drive/MyDrive/UCLA/cs 263/final_proj/val2014/COCO_val2014_000000278771.jpg\n",
            "loading: /content/drive/MyDrive/UCLA/cs 263/final_proj/val2014/COCO_val2014_000000134075.jpg\n",
            "loading: /content/drive/MyDrive/UCLA/cs 263/final_proj/val2014/COCO_val2014_000000134075.jpg\n",
            "loading: /content/drive/MyDrive/UCLA/cs 263/final_proj/val2014/COCO_val2014_000000134075.jpg\n",
            "loading: /content/drive/MyDrive/UCLA/cs 263/final_proj/val2014/COCO_val2014_000000134075.jpg\n",
            "loading: /content/drive/MyDrive/UCLA/cs 263/final_proj/val2014/COCO_val2014_000000134075.jpg\n",
            "loading: /content/drive/MyDrive/UCLA/cs 263/final_proj/val2014/COCO_val2014_000000134075.jpg\n",
            "loading: /content/drive/MyDrive/UCLA/cs 263/final_proj/val2014/COCO_val2014_000000227204.jpg\n",
            "loading: /content/drive/MyDrive/UCLA/cs 263/final_proj/val2014/COCO_val2014_000000227204.jpg\n",
            "loading: /content/drive/MyDrive/UCLA/cs 263/final_proj/val2014/COCO_val2014_000000227204.jpg\n",
            "loading: /content/drive/MyDrive/UCLA/cs 263/final_proj/val2014/COCO_val2014_000000227204.jpg\n",
            "loading: /content/drive/MyDrive/UCLA/cs 263/final_proj/val2014/COCO_val2014_000000227204.jpg\n",
            "loading: /content/drive/MyDrive/UCLA/cs 263/final_proj/val2014/COCO_val2014_000000227204.jpg\n",
            "loading: /content/drive/MyDrive/UCLA/cs 263/final_proj/val2014/COCO_val2014_000000124629.jpg\n",
            "loading: /content/drive/MyDrive/UCLA/cs 263/final_proj/val2014/COCO_val2014_000000124629.jpg\n",
            "loading: /content/drive/MyDrive/UCLA/cs 263/final_proj/val2014/COCO_val2014_000000124629.jpg\n",
            "loading: /content/drive/MyDrive/UCLA/cs 263/final_proj/val2014/COCO_val2014_000000124629.jpg\n",
            "loading: /content/drive/MyDrive/UCLA/cs 263/final_proj/val2014/COCO_val2014_000000124629.jpg\n",
            "loading: /content/drive/MyDrive/UCLA/cs 263/final_proj/val2014/COCO_val2014_000000124629.jpg\n",
            "loading: /content/drive/MyDrive/UCLA/cs 263/final_proj/val2014/COCO_val2014_000000142774.jpg\n",
            "loading: /content/drive/MyDrive/UCLA/cs 263/final_proj/val2014/COCO_val2014_000000142774.jpg\n",
            "loading: /content/drive/MyDrive/UCLA/cs 263/final_proj/val2014/COCO_val2014_000000142774.jpg\n",
            "loading: /content/drive/MyDrive/UCLA/cs 263/final_proj/val2014/COCO_val2014_000000142774.jpg\n",
            "loading: /content/drive/MyDrive/UCLA/cs 263/final_proj/val2014/COCO_val2014_000000142774.jpg\n",
            "loading: /content/drive/MyDrive/UCLA/cs 263/final_proj/val2014/COCO_val2014_000000142774.jpg\n",
            "loading: /content/drive/MyDrive/UCLA/cs 263/final_proj/val2014/COCO_val2014_000000199959.jpg\n",
            "loading: /content/drive/MyDrive/UCLA/cs 263/final_proj/val2014/COCO_val2014_000000199959.jpg\n",
            "loading: /content/drive/MyDrive/UCLA/cs 263/final_proj/val2014/COCO_val2014_000000199959.jpg\n",
            "loading: /content/drive/MyDrive/UCLA/cs 263/final_proj/val2014/COCO_val2014_000000199959.jpg\n",
            "loading: /content/drive/MyDrive/UCLA/cs 263/final_proj/val2014/COCO_val2014_000000199959.jpg\n",
            "loading: /content/drive/MyDrive/UCLA/cs 263/final_proj/val2014/COCO_val2014_000000199959.jpg\n",
            "loading: /content/drive/MyDrive/UCLA/cs 263/final_proj/val2014/COCO_val2014_000000316700.jpg\n",
            "loading: /content/drive/MyDrive/UCLA/cs 263/final_proj/val2014/COCO_val2014_000000316700.jpg\n",
            "loading: /content/drive/MyDrive/UCLA/cs 263/final_proj/val2014/COCO_val2014_000000316700.jpg\n",
            "loading: /content/drive/MyDrive/UCLA/cs 263/final_proj/val2014/COCO_val2014_000000316700.jpg\n",
            "loading: /content/drive/MyDrive/UCLA/cs 263/final_proj/val2014/COCO_val2014_000000316700.jpg\n",
            "loading: /content/drive/MyDrive/UCLA/cs 263/final_proj/val2014/COCO_val2014_000000316700.jpg\n",
            "loading: /content/drive/MyDrive/UCLA/cs 263/final_proj/val2014/COCO_val2014_000000040361.jpg\n",
            "loading: /content/drive/MyDrive/UCLA/cs 263/final_proj/val2014/COCO_val2014_000000040361.jpg\n",
            "loading: /content/drive/MyDrive/UCLA/cs 263/final_proj/val2014/COCO_val2014_000000040361.jpg\n",
            "loading: /content/drive/MyDrive/UCLA/cs 263/final_proj/val2014/COCO_val2014_000000040361.jpg\n",
            "loading: /content/drive/MyDrive/UCLA/cs 263/final_proj/val2014/COCO_val2014_000000040361.jpg\n",
            "loading: /content/drive/MyDrive/UCLA/cs 263/final_proj/val2014/COCO_val2014_000000040361.jpg\n",
            "loading: /content/drive/MyDrive/UCLA/cs 263/final_proj/val2014/COCO_val2014_000000378873.jpg\n",
            "loading: /content/drive/MyDrive/UCLA/cs 263/final_proj/val2014/COCO_val2014_000000378873.jpg\n",
            "loading: /content/drive/MyDrive/UCLA/cs 263/final_proj/val2014/COCO_val2014_000000378873.jpg\n",
            "loading: /content/drive/MyDrive/UCLA/cs 263/final_proj/val2014/COCO_val2014_000000378873.jpg\n",
            "loading: /content/drive/MyDrive/UCLA/cs 263/final_proj/val2014/COCO_val2014_000000378873.jpg\n",
            "loading: /content/drive/MyDrive/UCLA/cs 263/final_proj/val2014/COCO_val2014_000000378873.jpg\n",
            "loading: /content/drive/MyDrive/UCLA/cs 263/final_proj/val2014/COCO_val2014_000000574790.jpg\n",
            "loading: /content/drive/MyDrive/UCLA/cs 263/final_proj/val2014/COCO_val2014_000000574790.jpg\n",
            "loading: /content/drive/MyDrive/UCLA/cs 263/final_proj/val2014/COCO_val2014_000000574790.jpg\n",
            "loading: /content/drive/MyDrive/UCLA/cs 263/final_proj/val2014/COCO_val2014_000000574790.jpg\n",
            "loading: /content/drive/MyDrive/UCLA/cs 263/final_proj/val2014/COCO_val2014_000000574790.jpg\n",
            "loading: /content/drive/MyDrive/UCLA/cs 263/final_proj/val2014/COCO_val2014_000000574790.jpg\n",
            "loading: /content/drive/MyDrive/UCLA/cs 263/final_proj/val2014/COCO_val2014_000000011241.jpg\n",
            "loading: /content/drive/MyDrive/UCLA/cs 263/final_proj/val2014/COCO_val2014_000000011241.jpg\n",
            "loading: /content/drive/MyDrive/UCLA/cs 263/final_proj/val2014/COCO_val2014_000000011241.jpg\n",
            "loading: /content/drive/MyDrive/UCLA/cs 263/final_proj/val2014/COCO_val2014_000000011241.jpg\n",
            "loading: /content/drive/MyDrive/UCLA/cs 263/final_proj/val2014/COCO_val2014_000000011241.jpg\n",
            "loading: /content/drive/MyDrive/UCLA/cs 263/final_proj/val2014/COCO_val2014_000000011241.jpg\n",
            "loading: /content/drive/MyDrive/UCLA/cs 263/final_proj/val2014/COCO_val2014_000000525667.jpg\n",
            "loading: /content/drive/MyDrive/UCLA/cs 263/final_proj/val2014/COCO_val2014_000000525667.jpg\n",
            "loading: /content/drive/MyDrive/UCLA/cs 263/final_proj/val2014/COCO_val2014_000000525667.jpg\n",
            "loading: /content/drive/MyDrive/UCLA/cs 263/final_proj/val2014/COCO_val2014_000000525667.jpg\n",
            "loading: /content/drive/MyDrive/UCLA/cs 263/final_proj/val2014/COCO_val2014_000000525667.jpg\n",
            "loading: /content/drive/MyDrive/UCLA/cs 263/final_proj/val2014/COCO_val2014_000000525667.jpg\n",
            "loading: /content/drive/MyDrive/UCLA/cs 263/final_proj/val2014/COCO_val2014_000000246145.jpg\n",
            "loading: /content/drive/MyDrive/UCLA/cs 263/final_proj/val2014/COCO_val2014_000000246145.jpg\n",
            "loading: /content/drive/MyDrive/UCLA/cs 263/final_proj/val2014/COCO_val2014_000000246145.jpg\n",
            "loading: /content/drive/MyDrive/UCLA/cs 263/final_proj/val2014/COCO_val2014_000000246145.jpg\n",
            "loading: /content/drive/MyDrive/UCLA/cs 263/final_proj/val2014/COCO_val2014_000000246145.jpg\n",
            "loading: /content/drive/MyDrive/UCLA/cs 263/final_proj/val2014/COCO_val2014_000000246145.jpg\n",
            "loading: /content/drive/MyDrive/UCLA/cs 263/final_proj/val2014/COCO_val2014_000000313162.jpg\n",
            "loading: /content/drive/MyDrive/UCLA/cs 263/final_proj/val2014/COCO_val2014_000000313162.jpg\n",
            "loading: /content/drive/MyDrive/UCLA/cs 263/final_proj/val2014/COCO_val2014_000000313162.jpg\n",
            "loading: /content/drive/MyDrive/UCLA/cs 263/final_proj/val2014/COCO_val2014_000000313162.jpg\n",
            "loading: /content/drive/MyDrive/UCLA/cs 263/final_proj/val2014/COCO_val2014_000000313162.jpg\n",
            "loading: /content/drive/MyDrive/UCLA/cs 263/final_proj/val2014/COCO_val2014_000000313162.jpg\n",
            "loading: /content/drive/MyDrive/UCLA/cs 263/final_proj/val2014/COCO_val2014_000000529668.jpg\n",
            "loading: /content/drive/MyDrive/UCLA/cs 263/final_proj/val2014/COCO_val2014_000000529668.jpg\n",
            "loading: /content/drive/MyDrive/UCLA/cs 263/final_proj/val2014/COCO_val2014_000000529668.jpg\n",
            "loading: /content/drive/MyDrive/UCLA/cs 263/final_proj/val2014/COCO_val2014_000000529668.jpg\n",
            "loading: /content/drive/MyDrive/UCLA/cs 263/final_proj/val2014/COCO_val2014_000000529668.jpg\n",
            "loading: /content/drive/MyDrive/UCLA/cs 263/final_proj/val2014/COCO_val2014_000000529668.jpg\n",
            "loading: /content/drive/MyDrive/UCLA/cs 263/final_proj/val2014/COCO_val2014_000000376959.jpg\n",
            "loading: /content/drive/MyDrive/UCLA/cs 263/final_proj/val2014/COCO_val2014_000000376959.jpg\n",
            "loading: /content/drive/MyDrive/UCLA/cs 263/final_proj/val2014/COCO_val2014_000000376959.jpg\n",
            "loading: /content/drive/MyDrive/UCLA/cs 263/final_proj/val2014/COCO_val2014_000000376959.jpg\n",
            "loading: /content/drive/MyDrive/UCLA/cs 263/final_proj/val2014/COCO_val2014_000000376959.jpg\n",
            "loading: /content/drive/MyDrive/UCLA/cs 263/final_proj/val2014/COCO_val2014_000000376959.jpg\n",
            "loading: /content/drive/MyDrive/UCLA/cs 263/final_proj/val2014/COCO_val2014_000000275863.jpg\n",
            "loading: /content/drive/MyDrive/UCLA/cs 263/final_proj/val2014/COCO_val2014_000000275863.jpg\n",
            "loading: /content/drive/MyDrive/UCLA/cs 263/final_proj/val2014/COCO_val2014_000000275863.jpg\n",
            "loading: /content/drive/MyDrive/UCLA/cs 263/final_proj/val2014/COCO_val2014_000000275863.jpg\n",
            "loading: /content/drive/MyDrive/UCLA/cs 263/final_proj/val2014/COCO_val2014_000000275863.jpg\n",
            "loading: /content/drive/MyDrive/UCLA/cs 263/final_proj/val2014/COCO_val2014_000000275863.jpg\n",
            "loading: /content/drive/MyDrive/UCLA/cs 263/final_proj/val2014/COCO_val2014_000000327038.jpg\n",
            "loading: /content/drive/MyDrive/UCLA/cs 263/final_proj/val2014/COCO_val2014_000000327038.jpg\n",
            "loading: /content/drive/MyDrive/UCLA/cs 263/final_proj/val2014/COCO_val2014_000000327038.jpg\n",
            "loading: /content/drive/MyDrive/UCLA/cs 263/final_proj/val2014/COCO_val2014_000000327038.jpg\n",
            "loading: /content/drive/MyDrive/UCLA/cs 263/final_proj/val2014/COCO_val2014_000000327038.jpg\n",
            "loading: /content/drive/MyDrive/UCLA/cs 263/final_proj/val2014/COCO_val2014_000000327038.jpg\n",
            "loading: /content/drive/MyDrive/UCLA/cs 263/final_proj/val2014/COCO_val2014_000000513136.jpg\n",
            "loading: /content/drive/MyDrive/UCLA/cs 263/final_proj/val2014/COCO_val2014_000000513136.jpg\n",
            "loading: /content/drive/MyDrive/UCLA/cs 263/final_proj/val2014/COCO_val2014_000000513136.jpg\n",
            "loading: /content/drive/MyDrive/UCLA/cs 263/final_proj/val2014/COCO_val2014_000000513136.jpg\n",
            "loading: /content/drive/MyDrive/UCLA/cs 263/final_proj/val2014/COCO_val2014_000000513136.jpg\n",
            "loading: /content/drive/MyDrive/UCLA/cs 263/final_proj/val2014/COCO_val2014_000000513136.jpg\n",
            "loading: /content/drive/MyDrive/UCLA/cs 263/final_proj/val2014/COCO_val2014_000000184338.jpg\n",
            "loading: /content/drive/MyDrive/UCLA/cs 263/final_proj/val2014/COCO_val2014_000000184338.jpg\n",
            "loading: /content/drive/MyDrive/UCLA/cs 263/final_proj/val2014/COCO_val2014_000000184338.jpg\n",
            "loading: /content/drive/MyDrive/UCLA/cs 263/final_proj/val2014/COCO_val2014_000000184338.jpg\n",
            "loading: /content/drive/MyDrive/UCLA/cs 263/final_proj/val2014/COCO_val2014_000000184338.jpg\n",
            "loading: /content/drive/MyDrive/UCLA/cs 263/final_proj/val2014/COCO_val2014_000000184338.jpg\n",
            "loading: /content/drive/MyDrive/UCLA/cs 263/final_proj/val2014/COCO_val2014_000000175437.jpg\n",
            "loading: /content/drive/MyDrive/UCLA/cs 263/final_proj/val2014/COCO_val2014_000000175437.jpg\n",
            "loading: /content/drive/MyDrive/UCLA/cs 263/final_proj/val2014/COCO_val2014_000000175437.jpg\n",
            "loading: /content/drive/MyDrive/UCLA/cs 263/final_proj/val2014/COCO_val2014_000000175437.jpg\n",
            "loading: /content/drive/MyDrive/UCLA/cs 263/final_proj/val2014/COCO_val2014_000000175437.jpg\n",
            "loading: /content/drive/MyDrive/UCLA/cs 263/final_proj/val2014/COCO_val2014_000000175437.jpg\n",
            "loading: /content/drive/MyDrive/UCLA/cs 263/final_proj/val2014/COCO_val2014_000000498100.jpg\n",
            "loading: /content/drive/MyDrive/UCLA/cs 263/final_proj/val2014/COCO_val2014_000000498100.jpg\n",
            "loading: /content/drive/MyDrive/UCLA/cs 263/final_proj/val2014/COCO_val2014_000000498100.jpg\n",
            "loading: /content/drive/MyDrive/UCLA/cs 263/final_proj/val2014/COCO_val2014_000000498100.jpg\n",
            "loading: /content/drive/MyDrive/UCLA/cs 263/final_proj/val2014/COCO_val2014_000000498100.jpg\n",
            "loading: /content/drive/MyDrive/UCLA/cs 263/final_proj/val2014/COCO_val2014_000000498100.jpg\n",
            "loading: /content/drive/MyDrive/UCLA/cs 263/final_proj/val2014/COCO_val2014_000000375909.jpg\n",
            "loading: /content/drive/MyDrive/UCLA/cs 263/final_proj/val2014/COCO_val2014_000000375909.jpg\n",
            "loading: /content/drive/MyDrive/UCLA/cs 263/final_proj/val2014/COCO_val2014_000000375909.jpg\n",
            "loading: /content/drive/MyDrive/UCLA/cs 263/final_proj/val2014/COCO_val2014_000000375909.jpg\n",
            "loading: /content/drive/MyDrive/UCLA/cs 263/final_proj/val2014/COCO_val2014_000000375909.jpg\n",
            "loading: /content/drive/MyDrive/UCLA/cs 263/final_proj/val2014/COCO_val2014_000000375909.jpg\n",
            "loading: /content/drive/MyDrive/UCLA/cs 263/final_proj/val2014/COCO_val2014_000000396338.jpg\n",
            "loading: /content/drive/MyDrive/UCLA/cs 263/final_proj/val2014/COCO_val2014_000000396338.jpg\n",
            "loading: /content/drive/MyDrive/UCLA/cs 263/final_proj/val2014/COCO_val2014_000000396338.jpg\n",
            "loading: /content/drive/MyDrive/UCLA/cs 263/final_proj/val2014/COCO_val2014_000000396338.jpg\n",
            "loading: /content/drive/MyDrive/UCLA/cs 263/final_proj/val2014/COCO_val2014_000000396338.jpg\n",
            "loading: /content/drive/MyDrive/UCLA/cs 263/final_proj/val2014/COCO_val2014_000000396338.jpg\n",
            "loading: /content/drive/MyDrive/UCLA/cs 263/final_proj/val2014/COCO_val2014_000000124930.jpg\n",
            "loading: /content/drive/MyDrive/UCLA/cs 263/final_proj/val2014/COCO_val2014_000000124930.jpg\n",
            "loading: /content/drive/MyDrive/UCLA/cs 263/final_proj/val2014/COCO_val2014_000000124930.jpg\n",
            "loading: /content/drive/MyDrive/UCLA/cs 263/final_proj/val2014/COCO_val2014_000000124930.jpg\n",
            "loading: /content/drive/MyDrive/UCLA/cs 263/final_proj/val2014/COCO_val2014_000000124930.jpg\n",
            "loading: /content/drive/MyDrive/UCLA/cs 263/final_proj/val2014/COCO_val2014_000000124930.jpg\n",
            "loading: /content/drive/MyDrive/UCLA/cs 263/final_proj/val2014/COCO_val2014_000000112664.jpg\n",
            "loading: /content/drive/MyDrive/UCLA/cs 263/final_proj/val2014/COCO_val2014_000000112664.jpg\n",
            "loading: /content/drive/MyDrive/UCLA/cs 263/final_proj/val2014/COCO_val2014_000000112664.jpg\n",
            "loading: /content/drive/MyDrive/UCLA/cs 263/final_proj/val2014/COCO_val2014_000000112664.jpg\n",
            "loading: /content/drive/MyDrive/UCLA/cs 263/final_proj/val2014/COCO_val2014_000000112664.jpg\n",
            "loading: /content/drive/MyDrive/UCLA/cs 263/final_proj/val2014/COCO_val2014_000000112664.jpg\n",
            "loading: /content/drive/MyDrive/UCLA/cs 263/final_proj/val2014/COCO_val2014_000000377879.jpg\n",
            "loading: /content/drive/MyDrive/UCLA/cs 263/final_proj/val2014/COCO_val2014_000000377879.jpg\n",
            "loading: /content/drive/MyDrive/UCLA/cs 263/final_proj/val2014/COCO_val2014_000000377879.jpg\n",
            "loading: /content/drive/MyDrive/UCLA/cs 263/final_proj/val2014/COCO_val2014_000000377879.jpg\n",
            "loading: /content/drive/MyDrive/UCLA/cs 263/final_proj/val2014/COCO_val2014_000000377879.jpg\n",
            "loading: /content/drive/MyDrive/UCLA/cs 263/final_proj/val2014/COCO_val2014_000000377879.jpg\n",
            "loading: /content/drive/MyDrive/UCLA/cs 263/final_proj/val2014/COCO_val2014_000000377401.jpg\n",
            "loading: /content/drive/MyDrive/UCLA/cs 263/final_proj/val2014/COCO_val2014_000000377401.jpg\n",
            "loading: /content/drive/MyDrive/UCLA/cs 263/final_proj/val2014/COCO_val2014_000000377401.jpg\n",
            "loading: /content/drive/MyDrive/UCLA/cs 263/final_proj/val2014/COCO_val2014_000000377401.jpg\n",
            "loading: /content/drive/MyDrive/UCLA/cs 263/final_proj/val2014/COCO_val2014_000000377401.jpg\n",
            "loading: /content/drive/MyDrive/UCLA/cs 263/final_proj/val2014/COCO_val2014_000000377401.jpg\n",
            "loading: /content/drive/MyDrive/UCLA/cs 263/final_proj/val2014/COCO_val2014_000000049473.jpg\n",
            "loading: /content/drive/MyDrive/UCLA/cs 263/final_proj/val2014/COCO_val2014_000000049473.jpg\n",
            "loading: /content/drive/MyDrive/UCLA/cs 263/final_proj/val2014/COCO_val2014_000000049473.jpg\n",
            "loading: /content/drive/MyDrive/UCLA/cs 263/final_proj/val2014/COCO_val2014_000000049473.jpg\n",
            "loading: /content/drive/MyDrive/UCLA/cs 263/final_proj/val2014/COCO_val2014_000000049473.jpg\n",
            "loading: /content/drive/MyDrive/UCLA/cs 263/final_proj/val2014/COCO_val2014_000000049473.jpg\n",
            "loading: /content/drive/MyDrive/UCLA/cs 263/final_proj/val2014/COCO_val2014_000000153865.jpg\n",
            "loading: /content/drive/MyDrive/UCLA/cs 263/final_proj/val2014/COCO_val2014_000000153865.jpg\n",
            "loading: /content/drive/MyDrive/UCLA/cs 263/final_proj/val2014/COCO_val2014_000000153865.jpg\n",
            "loading: /content/drive/MyDrive/UCLA/cs 263/final_proj/val2014/COCO_val2014_000000153865.jpg\n",
            "loading: /content/drive/MyDrive/UCLA/cs 263/final_proj/val2014/COCO_val2014_000000153865.jpg\n",
            "loading: /content/drive/MyDrive/UCLA/cs 263/final_proj/val2014/COCO_val2014_000000153865.jpg\n",
            "loading: /content/drive/MyDrive/UCLA/cs 263/final_proj/val2014/COCO_val2014_000000383185.jpg\n",
            "loading: /content/drive/MyDrive/UCLA/cs 263/final_proj/val2014/COCO_val2014_000000383185.jpg\n",
            "loading: /content/drive/MyDrive/UCLA/cs 263/final_proj/val2014/COCO_val2014_000000383185.jpg\n",
            "loading: /content/drive/MyDrive/UCLA/cs 263/final_proj/val2014/COCO_val2014_000000383185.jpg\n",
            "loading: /content/drive/MyDrive/UCLA/cs 263/final_proj/val2014/COCO_val2014_000000383185.jpg\n",
            "loading: /content/drive/MyDrive/UCLA/cs 263/final_proj/val2014/COCO_val2014_000000383185.jpg\n",
            "loading: /content/drive/MyDrive/UCLA/cs 263/final_proj/val2014/COCO_val2014_000000388983.jpg\n",
            "loading: /content/drive/MyDrive/UCLA/cs 263/final_proj/val2014/COCO_val2014_000000388983.jpg\n",
            "loading: /content/drive/MyDrive/UCLA/cs 263/final_proj/val2014/COCO_val2014_000000388983.jpg\n",
            "loading: /content/drive/MyDrive/UCLA/cs 263/final_proj/val2014/COCO_val2014_000000388983.jpg\n",
            "loading: /content/drive/MyDrive/UCLA/cs 263/final_proj/val2014/COCO_val2014_000000388983.jpg\n",
            "loading: /content/drive/MyDrive/UCLA/cs 263/final_proj/val2014/COCO_val2014_000000388983.jpg\n",
            "loading: /content/drive/MyDrive/UCLA/cs 263/final_proj/val2014/COCO_val2014_000000295377.jpg\n",
            "loading: /content/drive/MyDrive/UCLA/cs 263/final_proj/val2014/COCO_val2014_000000295377.jpg\n",
            "loading: /content/drive/MyDrive/UCLA/cs 263/final_proj/val2014/COCO_val2014_000000295377.jpg\n",
            "loading: /content/drive/MyDrive/UCLA/cs 263/final_proj/val2014/COCO_val2014_000000295377.jpg\n",
            "loading: /content/drive/MyDrive/UCLA/cs 263/final_proj/val2014/COCO_val2014_000000295377.jpg\n",
            "loading: /content/drive/MyDrive/UCLA/cs 263/final_proj/val2014/COCO_val2014_000000295377.jpg\n",
            "loading: /content/drive/MyDrive/UCLA/cs 263/final_proj/val2014/COCO_val2014_000000034773.jpg\n",
            "loading: /content/drive/MyDrive/UCLA/cs 263/final_proj/val2014/COCO_val2014_000000034773.jpg\n",
            "loading: /content/drive/MyDrive/UCLA/cs 263/final_proj/val2014/COCO_val2014_000000034773.jpg\n",
            "loading: /content/drive/MyDrive/UCLA/cs 263/final_proj/val2014/COCO_val2014_000000034773.jpg\n",
            "loading: /content/drive/MyDrive/UCLA/cs 263/final_proj/val2014/COCO_val2014_000000034773.jpg\n",
            "loading: /content/drive/MyDrive/UCLA/cs 263/final_proj/val2014/COCO_val2014_000000034773.jpg\n",
            "loading: /content/drive/MyDrive/UCLA/cs 263/final_proj/val2014/COCO_val2014_000000244455.jpg\n",
            "loading: /content/drive/MyDrive/UCLA/cs 263/final_proj/val2014/COCO_val2014_000000244455.jpg\n",
            "loading: /content/drive/MyDrive/UCLA/cs 263/final_proj/val2014/COCO_val2014_000000244455.jpg\n",
            "loading: /content/drive/MyDrive/UCLA/cs 263/final_proj/val2014/COCO_val2014_000000244455.jpg\n",
            "loading: /content/drive/MyDrive/UCLA/cs 263/final_proj/val2014/COCO_val2014_000000244455.jpg\n",
            "loading: /content/drive/MyDrive/UCLA/cs 263/final_proj/val2014/COCO_val2014_000000244455.jpg\n",
            "loading: /content/drive/MyDrive/UCLA/cs 263/final_proj/val2014/COCO_val2014_000000303652.jpg\n",
            "loading: /content/drive/MyDrive/UCLA/cs 263/final_proj/val2014/COCO_val2014_000000303652.jpg\n",
            "loading: /content/drive/MyDrive/UCLA/cs 263/final_proj/val2014/COCO_val2014_000000303652.jpg\n",
            "loading: /content/drive/MyDrive/UCLA/cs 263/final_proj/val2014/COCO_val2014_000000303652.jpg\n",
            "loading: /content/drive/MyDrive/UCLA/cs 263/final_proj/val2014/COCO_val2014_000000303652.jpg\n",
            "loading: /content/drive/MyDrive/UCLA/cs 263/final_proj/val2014/COCO_val2014_000000303652.jpg\n",
            "loading: /content/drive/MyDrive/UCLA/cs 263/final_proj/val2014/COCO_val2014_000000098493.jpg\n",
            "loading: /content/drive/MyDrive/UCLA/cs 263/final_proj/val2014/COCO_val2014_000000098493.jpg\n",
            "loading: /content/drive/MyDrive/UCLA/cs 263/final_proj/val2014/COCO_val2014_000000098493.jpg\n",
            "loading: /content/drive/MyDrive/UCLA/cs 263/final_proj/val2014/COCO_val2014_000000098493.jpg\n",
            "loading: /content/drive/MyDrive/UCLA/cs 263/final_proj/val2014/COCO_val2014_000000098493.jpg\n",
            "loading: /content/drive/MyDrive/UCLA/cs 263/final_proj/val2014/COCO_val2014_000000098493.jpg\n",
            "loading: /content/drive/MyDrive/UCLA/cs 263/final_proj/val2014/COCO_val2014_000000201148.jpg\n",
            "loading: /content/drive/MyDrive/UCLA/cs 263/final_proj/val2014/COCO_val2014_000000201148.jpg\n",
            "loading: /content/drive/MyDrive/UCLA/cs 263/final_proj/val2014/COCO_val2014_000000201148.jpg\n",
            "loading: /content/drive/MyDrive/UCLA/cs 263/final_proj/val2014/COCO_val2014_000000201148.jpg\n",
            "loading: /content/drive/MyDrive/UCLA/cs 263/final_proj/val2014/COCO_val2014_000000201148.jpg\n",
            "loading: /content/drive/MyDrive/UCLA/cs 263/final_proj/val2014/COCO_val2014_000000201148.jpg\n",
            "loading: /content/drive/MyDrive/UCLA/cs 263/final_proj/val2014/COCO_val2014_000000307166.jpg\n",
            "loading: /content/drive/MyDrive/UCLA/cs 263/final_proj/val2014/COCO_val2014_000000307166.jpg\n",
            "loading: /content/drive/MyDrive/UCLA/cs 263/final_proj/val2014/COCO_val2014_000000307166.jpg\n",
            "loading: /content/drive/MyDrive/UCLA/cs 263/final_proj/val2014/COCO_val2014_000000307166.jpg\n",
            "loading: /content/drive/MyDrive/UCLA/cs 263/final_proj/val2014/COCO_val2014_000000307166.jpg\n",
            "loading: /content/drive/MyDrive/UCLA/cs 263/final_proj/val2014/COCO_val2014_000000307166.jpg\n",
            "loading: /content/drive/MyDrive/UCLA/cs 263/final_proj/val2014/COCO_val2014_000000313034.jpg\n",
            "loading: /content/drive/MyDrive/UCLA/cs 263/final_proj/val2014/COCO_val2014_000000313034.jpg\n",
            "loading: /content/drive/MyDrive/UCLA/cs 263/final_proj/val2014/COCO_val2014_000000313034.jpg\n",
            "loading: /content/drive/MyDrive/UCLA/cs 263/final_proj/val2014/COCO_val2014_000000313034.jpg\n",
            "loading: /content/drive/MyDrive/UCLA/cs 263/final_proj/val2014/COCO_val2014_000000313034.jpg\n",
            "loading: /content/drive/MyDrive/UCLA/cs 263/final_proj/val2014/COCO_val2014_000000313034.jpg\n",
            "loading: /content/drive/MyDrive/UCLA/cs 263/final_proj/val2014/COCO_val2014_000000355342.jpg\n",
            "loading: /content/drive/MyDrive/UCLA/cs 263/final_proj/val2014/COCO_val2014_000000355342.jpg\n",
            "loading: /content/drive/MyDrive/UCLA/cs 263/final_proj/val2014/COCO_val2014_000000355342.jpg\n",
            "loading: /content/drive/MyDrive/UCLA/cs 263/final_proj/val2014/COCO_val2014_000000355342.jpg\n",
            "loading: /content/drive/MyDrive/UCLA/cs 263/final_proj/val2014/COCO_val2014_000000355342.jpg\n",
            "loading: /content/drive/MyDrive/UCLA/cs 263/final_proj/val2014/COCO_val2014_000000355342.jpg\n",
            "loading: /content/drive/MyDrive/UCLA/cs 263/final_proj/val2014/COCO_val2014_000000333237.jpg\n",
            "loading: /content/drive/MyDrive/UCLA/cs 263/final_proj/val2014/COCO_val2014_000000333237.jpg\n",
            "loading: /content/drive/MyDrive/UCLA/cs 263/final_proj/val2014/COCO_val2014_000000333237.jpg\n",
            "loading: /content/drive/MyDrive/UCLA/cs 263/final_proj/val2014/COCO_val2014_000000333237.jpg\n",
            "loading: /content/drive/MyDrive/UCLA/cs 263/final_proj/val2014/COCO_val2014_000000333237.jpg\n",
            "loading: /content/drive/MyDrive/UCLA/cs 263/final_proj/val2014/COCO_val2014_000000333237.jpg\n",
            "loading: /content/drive/MyDrive/UCLA/cs 263/final_proj/val2014/COCO_val2014_000000526368.jpg\n",
            "loading: /content/drive/MyDrive/UCLA/cs 263/final_proj/val2014/COCO_val2014_000000526368.jpg\n",
            "loading: /content/drive/MyDrive/UCLA/cs 263/final_proj/val2014/COCO_val2014_000000526368.jpg\n",
            "loading: /content/drive/MyDrive/UCLA/cs 263/final_proj/val2014/COCO_val2014_000000526368.jpg\n",
            "loading: /content/drive/MyDrive/UCLA/cs 263/final_proj/val2014/COCO_val2014_000000526368.jpg\n",
            "loading: /content/drive/MyDrive/UCLA/cs 263/final_proj/val2014/COCO_val2014_000000526368.jpg\n",
            "loading: /content/drive/MyDrive/UCLA/cs 263/final_proj/val2014/COCO_val2014_000000429033.jpg\n",
            "loading: /content/drive/MyDrive/UCLA/cs 263/final_proj/val2014/COCO_val2014_000000429033.jpg\n",
            "loading: /content/drive/MyDrive/UCLA/cs 263/final_proj/val2014/COCO_val2014_000000429033.jpg\n",
            "loading: /content/drive/MyDrive/UCLA/cs 263/final_proj/val2014/COCO_val2014_000000429033.jpg\n",
            "loading: /content/drive/MyDrive/UCLA/cs 263/final_proj/val2014/COCO_val2014_000000429033.jpg\n",
            "loading: /content/drive/MyDrive/UCLA/cs 263/final_proj/val2014/COCO_val2014_000000429033.jpg\n",
            "loading: /content/drive/MyDrive/UCLA/cs 263/final_proj/val2014/COCO_val2014_000000287035.jpg\n",
            "loading: /content/drive/MyDrive/UCLA/cs 263/final_proj/val2014/COCO_val2014_000000287035.jpg\n",
            "loading: /content/drive/MyDrive/UCLA/cs 263/final_proj/val2014/COCO_val2014_000000287035.jpg\n",
            "loading: /content/drive/MyDrive/UCLA/cs 263/final_proj/val2014/COCO_val2014_000000287035.jpg\n",
            "loading: /content/drive/MyDrive/UCLA/cs 263/final_proj/val2014/COCO_val2014_000000287035.jpg\n",
            "loading: /content/drive/MyDrive/UCLA/cs 263/final_proj/val2014/COCO_val2014_000000287035.jpg\n",
            "loading: /content/drive/MyDrive/UCLA/cs 263/final_proj/val2014/COCO_val2014_000000299074.jpg\n",
            "loading: /content/drive/MyDrive/UCLA/cs 263/final_proj/val2014/COCO_val2014_000000299074.jpg\n",
            "loading: /content/drive/MyDrive/UCLA/cs 263/final_proj/val2014/COCO_val2014_000000299074.jpg\n",
            "loading: /content/drive/MyDrive/UCLA/cs 263/final_proj/val2014/COCO_val2014_000000299074.jpg\n",
            "loading: /content/drive/MyDrive/UCLA/cs 263/final_proj/val2014/COCO_val2014_000000299074.jpg\n",
            "loading: /content/drive/MyDrive/UCLA/cs 263/final_proj/val2014/COCO_val2014_000000299074.jpg\n",
            "loading: /content/drive/MyDrive/UCLA/cs 263/final_proj/val2014/COCO_val2014_000000120648.jpg\n",
            "loading: /content/drive/MyDrive/UCLA/cs 263/final_proj/val2014/COCO_val2014_000000120648.jpg\n",
            "loading: /content/drive/MyDrive/UCLA/cs 263/final_proj/val2014/COCO_val2014_000000120648.jpg\n",
            "loading: /content/drive/MyDrive/UCLA/cs 263/final_proj/val2014/COCO_val2014_000000120648.jpg\n",
            "loading: /content/drive/MyDrive/UCLA/cs 263/final_proj/val2014/COCO_val2014_000000120648.jpg\n",
            "loading: /content/drive/MyDrive/UCLA/cs 263/final_proj/val2014/COCO_val2014_000000120648.jpg\n",
            "loading: /content/drive/MyDrive/UCLA/cs 263/final_proj/val2014/COCO_val2014_000000186709.jpg\n",
            "loading: /content/drive/MyDrive/UCLA/cs 263/final_proj/val2014/COCO_val2014_000000186709.jpg\n",
            "loading: /content/drive/MyDrive/UCLA/cs 263/final_proj/val2014/COCO_val2014_000000186709.jpg\n",
            "loading: /content/drive/MyDrive/UCLA/cs 263/final_proj/val2014/COCO_val2014_000000186709.jpg\n",
            "loading: /content/drive/MyDrive/UCLA/cs 263/final_proj/val2014/COCO_val2014_000000186709.jpg\n",
            "loading: /content/drive/MyDrive/UCLA/cs 263/final_proj/val2014/COCO_val2014_000000186709.jpg\n",
            "loading: /content/drive/MyDrive/UCLA/cs 263/final_proj/val2014/COCO_val2014_000000025972.jpg\n",
            "loading: /content/drive/MyDrive/UCLA/cs 263/final_proj/val2014/COCO_val2014_000000025972.jpg\n",
            "loading: /content/drive/MyDrive/UCLA/cs 263/final_proj/val2014/COCO_val2014_000000025972.jpg\n",
            "loading: /content/drive/MyDrive/UCLA/cs 263/final_proj/val2014/COCO_val2014_000000025972.jpg\n",
            "loading: /content/drive/MyDrive/UCLA/cs 263/final_proj/val2014/COCO_val2014_000000025972.jpg\n",
            "loading: /content/drive/MyDrive/UCLA/cs 263/final_proj/val2014/COCO_val2014_000000025972.jpg\n",
            "loading: /content/drive/MyDrive/UCLA/cs 263/final_proj/val2014/COCO_val2014_000000505542.jpg\n",
            "loading: /content/drive/MyDrive/UCLA/cs 263/final_proj/val2014/COCO_val2014_000000505542.jpg\n",
            "loading: /content/drive/MyDrive/UCLA/cs 263/final_proj/val2014/COCO_val2014_000000505542.jpg\n",
            "loading: /content/drive/MyDrive/UCLA/cs 263/final_proj/val2014/COCO_val2014_000000505542.jpg\n",
            "loading: /content/drive/MyDrive/UCLA/cs 263/final_proj/val2014/COCO_val2014_000000505542.jpg\n",
            "loading: /content/drive/MyDrive/UCLA/cs 263/final_proj/val2014/COCO_val2014_000000505542.jpg\n",
            "loading: /content/drive/MyDrive/UCLA/cs 263/final_proj/val2014/COCO_val2014_000000115636.jpg\n",
            "loading: /content/drive/MyDrive/UCLA/cs 263/final_proj/val2014/COCO_val2014_000000115636.jpg\n",
            "loading: /content/drive/MyDrive/UCLA/cs 263/final_proj/val2014/COCO_val2014_000000115636.jpg\n",
            "loading: /content/drive/MyDrive/UCLA/cs 263/final_proj/val2014/COCO_val2014_000000115636.jpg\n",
            "loading: /content/drive/MyDrive/UCLA/cs 263/final_proj/val2014/COCO_val2014_000000115636.jpg\n",
            "loading: /content/drive/MyDrive/UCLA/cs 263/final_proj/val2014/COCO_val2014_000000115636.jpg\n",
            "loading: /content/drive/MyDrive/UCLA/cs 263/final_proj/val2014/COCO_val2014_000000280810.jpg\n",
            "loading: /content/drive/MyDrive/UCLA/cs 263/final_proj/val2014/COCO_val2014_000000280810.jpg\n",
            "loading: /content/drive/MyDrive/UCLA/cs 263/final_proj/val2014/COCO_val2014_000000280810.jpg\n",
            "loading: /content/drive/MyDrive/UCLA/cs 263/final_proj/val2014/COCO_val2014_000000280810.jpg\n",
            "loading: /content/drive/MyDrive/UCLA/cs 263/final_proj/val2014/COCO_val2014_000000280810.jpg\n",
            "loading: /content/drive/MyDrive/UCLA/cs 263/final_proj/val2014/COCO_val2014_000000280810.jpg\n",
            "loading: /content/drive/MyDrive/UCLA/cs 263/final_proj/val2014/COCO_val2014_000000037900.jpg\n",
            "loading: /content/drive/MyDrive/UCLA/cs 263/final_proj/val2014/COCO_val2014_000000037900.jpg\n",
            "loading: /content/drive/MyDrive/UCLA/cs 263/final_proj/val2014/COCO_val2014_000000037900.jpg\n",
            "loading: /content/drive/MyDrive/UCLA/cs 263/final_proj/val2014/COCO_val2014_000000037900.jpg\n",
            "loading: /content/drive/MyDrive/UCLA/cs 263/final_proj/val2014/COCO_val2014_000000037900.jpg\n",
            "loading: /content/drive/MyDrive/UCLA/cs 263/final_proj/val2014/COCO_val2014_000000037900.jpg\n",
            "loading: /content/drive/MyDrive/UCLA/cs 263/final_proj/val2014/COCO_val2014_000000534516.jpg\n",
            "loading: /content/drive/MyDrive/UCLA/cs 263/final_proj/val2014/COCO_val2014_000000534516.jpg\n",
            "loading: /content/drive/MyDrive/UCLA/cs 263/final_proj/val2014/COCO_val2014_000000534516.jpg\n",
            "loading: /content/drive/MyDrive/UCLA/cs 263/final_proj/val2014/COCO_val2014_000000534516.jpg\n",
            "loading: /content/drive/MyDrive/UCLA/cs 263/final_proj/val2014/COCO_val2014_000000534516.jpg\n",
            "loading: /content/drive/MyDrive/UCLA/cs 263/final_proj/val2014/COCO_val2014_000000534516.jpg\n",
            "loading: /content/drive/MyDrive/UCLA/cs 263/final_proj/val2014/COCO_val2014_000000123017.jpg\n",
            "loading: /content/drive/MyDrive/UCLA/cs 263/final_proj/val2014/COCO_val2014_000000123017.jpg\n",
            "loading: /content/drive/MyDrive/UCLA/cs 263/final_proj/val2014/COCO_val2014_000000123017.jpg\n",
            "loading: /content/drive/MyDrive/UCLA/cs 263/final_proj/val2014/COCO_val2014_000000123017.jpg\n",
            "loading: /content/drive/MyDrive/UCLA/cs 263/final_proj/val2014/COCO_val2014_000000123017.jpg\n",
            "loading: /content/drive/MyDrive/UCLA/cs 263/final_proj/val2014/COCO_val2014_000000123017.jpg\n",
            "loading: /content/drive/MyDrive/UCLA/cs 263/final_proj/val2014/COCO_val2014_000000316237.jpg\n",
            "loading: /content/drive/MyDrive/UCLA/cs 263/final_proj/val2014/COCO_val2014_000000316237.jpg\n",
            "loading: /content/drive/MyDrive/UCLA/cs 263/final_proj/val2014/COCO_val2014_000000316237.jpg\n",
            "loading: /content/drive/MyDrive/UCLA/cs 263/final_proj/val2014/COCO_val2014_000000316237.jpg\n",
            "loading: /content/drive/MyDrive/UCLA/cs 263/final_proj/val2014/COCO_val2014_000000316237.jpg\n",
            "loading: /content/drive/MyDrive/UCLA/cs 263/final_proj/val2014/COCO_val2014_000000316237.jpg\n",
            "loading: /content/drive/MyDrive/UCLA/cs 263/final_proj/val2014/COCO_val2014_000000463522.jpg\n",
            "loading: /content/drive/MyDrive/UCLA/cs 263/final_proj/val2014/COCO_val2014_000000463522.jpg\n",
            "loading: /content/drive/MyDrive/UCLA/cs 263/final_proj/val2014/COCO_val2014_000000463522.jpg\n",
            "loading: /content/drive/MyDrive/UCLA/cs 263/final_proj/val2014/COCO_val2014_000000463522.jpg\n",
            "loading: /content/drive/MyDrive/UCLA/cs 263/final_proj/val2014/COCO_val2014_000000463522.jpg\n",
            "loading: /content/drive/MyDrive/UCLA/cs 263/final_proj/val2014/COCO_val2014_000000463522.jpg\n",
            "loading: /content/drive/MyDrive/UCLA/cs 263/final_proj/val2014/COCO_val2014_000000511341.jpg\n",
            "loading: /content/drive/MyDrive/UCLA/cs 263/final_proj/val2014/COCO_val2014_000000511341.jpg\n",
            "loading: /content/drive/MyDrive/UCLA/cs 263/final_proj/val2014/COCO_val2014_000000511341.jpg\n",
            "loading: /content/drive/MyDrive/UCLA/cs 263/final_proj/val2014/COCO_val2014_000000511341.jpg\n",
            "loading: /content/drive/MyDrive/UCLA/cs 263/final_proj/val2014/COCO_val2014_000000511341.jpg\n",
            "loading: /content/drive/MyDrive/UCLA/cs 263/final_proj/val2014/COCO_val2014_000000511341.jpg\n",
            "loading: /content/drive/MyDrive/UCLA/cs 263/final_proj/val2014/COCO_val2014_000000200583.jpg\n",
            "loading: /content/drive/MyDrive/UCLA/cs 263/final_proj/val2014/COCO_val2014_000000200583.jpg\n",
            "loading: /content/drive/MyDrive/UCLA/cs 263/final_proj/val2014/COCO_val2014_000000200583.jpg\n",
            "loading: /content/drive/MyDrive/UCLA/cs 263/final_proj/val2014/COCO_val2014_000000200583.jpg\n",
            "loading: /content/drive/MyDrive/UCLA/cs 263/final_proj/val2014/COCO_val2014_000000200583.jpg\n",
            "loading: /content/drive/MyDrive/UCLA/cs 263/final_proj/val2014/COCO_val2014_000000200583.jpg\n",
            "loading: /content/drive/MyDrive/UCLA/cs 263/final_proj/val2014/COCO_val2014_000000424585.jpg\n",
            "loading: /content/drive/MyDrive/UCLA/cs 263/final_proj/val2014/COCO_val2014_000000424585.jpg\n",
            "loading: /content/drive/MyDrive/UCLA/cs 263/final_proj/val2014/COCO_val2014_000000424585.jpg\n",
            "loading: /content/drive/MyDrive/UCLA/cs 263/final_proj/val2014/COCO_val2014_000000424585.jpg\n",
            "loading: /content/drive/MyDrive/UCLA/cs 263/final_proj/val2014/COCO_val2014_000000424585.jpg\n",
            "loading: /content/drive/MyDrive/UCLA/cs 263/final_proj/val2014/COCO_val2014_000000424585.jpg\n",
            "loading: /content/drive/MyDrive/UCLA/cs 263/final_proj/val2014/COCO_val2014_000000100215.jpg\n",
            "loading: /content/drive/MyDrive/UCLA/cs 263/final_proj/val2014/COCO_val2014_000000100215.jpg\n",
            "loading: /content/drive/MyDrive/UCLA/cs 263/final_proj/val2014/COCO_val2014_000000100215.jpg\n",
            "loading: /content/drive/MyDrive/UCLA/cs 263/final_proj/val2014/COCO_val2014_000000100215.jpg\n",
            "loading: /content/drive/MyDrive/UCLA/cs 263/final_proj/val2014/COCO_val2014_000000100215.jpg\n",
            "loading: /content/drive/MyDrive/UCLA/cs 263/final_proj/val2014/COCO_val2014_000000100215.jpg\n",
            "loading: /content/drive/MyDrive/UCLA/cs 263/final_proj/val2014/COCO_val2014_000000017379.jpg\n",
            "loading: /content/drive/MyDrive/UCLA/cs 263/final_proj/val2014/COCO_val2014_000000017379.jpg\n",
            "loading: /content/drive/MyDrive/UCLA/cs 263/final_proj/val2014/COCO_val2014_000000017379.jpg\n",
            "loading: /content/drive/MyDrive/UCLA/cs 263/final_proj/val2014/COCO_val2014_000000017379.jpg\n",
            "loading: /content/drive/MyDrive/UCLA/cs 263/final_proj/val2014/COCO_val2014_000000017379.jpg\n",
            "loading: /content/drive/MyDrive/UCLA/cs 263/final_proj/val2014/COCO_val2014_000000017379.jpg\n",
            "loading: /content/drive/MyDrive/UCLA/cs 263/final_proj/val2014/COCO_val2014_000000511622.jpg\n",
            "loading: /content/drive/MyDrive/UCLA/cs 263/final_proj/val2014/COCO_val2014_000000511622.jpg\n",
            "loading: /content/drive/MyDrive/UCLA/cs 263/final_proj/val2014/COCO_val2014_000000511622.jpg\n",
            "loading: /content/drive/MyDrive/UCLA/cs 263/final_proj/val2014/COCO_val2014_000000511622.jpg\n",
            "loading: /content/drive/MyDrive/UCLA/cs 263/final_proj/val2014/COCO_val2014_000000511622.jpg\n",
            "loading: /content/drive/MyDrive/UCLA/cs 263/final_proj/val2014/COCO_val2014_000000511622.jpg\n",
            "loading: /content/drive/MyDrive/UCLA/cs 263/final_proj/val2014/COCO_val2014_000000407386.jpg\n",
            "loading: /content/drive/MyDrive/UCLA/cs 263/final_proj/val2014/COCO_val2014_000000407386.jpg\n",
            "loading: /content/drive/MyDrive/UCLA/cs 263/final_proj/val2014/COCO_val2014_000000407386.jpg\n",
            "loading: /content/drive/MyDrive/UCLA/cs 263/final_proj/val2014/COCO_val2014_000000407386.jpg\n",
            "loading: /content/drive/MyDrive/UCLA/cs 263/final_proj/val2014/COCO_val2014_000000407386.jpg\n",
            "loading: /content/drive/MyDrive/UCLA/cs 263/final_proj/val2014/COCO_val2014_000000407386.jpg\n",
            "loading: /content/drive/MyDrive/UCLA/cs 263/final_proj/val2014/COCO_val2014_000000039516.jpg\n",
            "loading: /content/drive/MyDrive/UCLA/cs 263/final_proj/val2014/COCO_val2014_000000039516.jpg\n",
            "loading: /content/drive/MyDrive/UCLA/cs 263/final_proj/val2014/COCO_val2014_000000039516.jpg\n",
            "loading: /content/drive/MyDrive/UCLA/cs 263/final_proj/val2014/COCO_val2014_000000039516.jpg\n",
            "loading: /content/drive/MyDrive/UCLA/cs 263/final_proj/val2014/COCO_val2014_000000039516.jpg\n",
            "loading: /content/drive/MyDrive/UCLA/cs 263/final_proj/val2014/COCO_val2014_000000039516.jpg\n",
            "loading: /content/drive/MyDrive/UCLA/cs 263/final_proj/val2014/COCO_val2014_000000018918.jpg\n",
            "loading: /content/drive/MyDrive/UCLA/cs 263/final_proj/val2014/COCO_val2014_000000018918.jpg\n",
            "loading: /content/drive/MyDrive/UCLA/cs 263/final_proj/val2014/COCO_val2014_000000018918.jpg\n",
            "loading: /content/drive/MyDrive/UCLA/cs 263/final_proj/val2014/COCO_val2014_000000018918.jpg\n",
            "loading: /content/drive/MyDrive/UCLA/cs 263/final_proj/val2014/COCO_val2014_000000018918.jpg\n",
            "loading: /content/drive/MyDrive/UCLA/cs 263/final_proj/val2014/COCO_val2014_000000018918.jpg\n",
            "loading: /content/drive/MyDrive/UCLA/cs 263/final_proj/val2014/COCO_val2014_000000115626.jpg\n",
            "loading: /content/drive/MyDrive/UCLA/cs 263/final_proj/val2014/COCO_val2014_000000115626.jpg\n",
            "loading: /content/drive/MyDrive/UCLA/cs 263/final_proj/val2014/COCO_val2014_000000115626.jpg\n",
            "loading: /content/drive/MyDrive/UCLA/cs 263/final_proj/val2014/COCO_val2014_000000115626.jpg\n",
            "loading: /content/drive/MyDrive/UCLA/cs 263/final_proj/val2014/COCO_val2014_000000115626.jpg\n",
            "loading: /content/drive/MyDrive/UCLA/cs 263/final_proj/val2014/COCO_val2014_000000115626.jpg\n",
            "loading: /content/drive/MyDrive/UCLA/cs 263/final_proj/val2014/COCO_val2014_000000391735.jpg\n",
            "loading: /content/drive/MyDrive/UCLA/cs 263/final_proj/val2014/COCO_val2014_000000391735.jpg\n",
            "loading: /content/drive/MyDrive/UCLA/cs 263/final_proj/val2014/COCO_val2014_000000391735.jpg\n",
            "loading: /content/drive/MyDrive/UCLA/cs 263/final_proj/val2014/COCO_val2014_000000391735.jpg\n",
            "loading: /content/drive/MyDrive/UCLA/cs 263/final_proj/val2014/COCO_val2014_000000391735.jpg\n",
            "loading: /content/drive/MyDrive/UCLA/cs 263/final_proj/val2014/COCO_val2014_000000391735.jpg\n",
            "loading: /content/drive/MyDrive/UCLA/cs 263/final_proj/val2014/COCO_val2014_000000236370.jpg\n",
            "loading: /content/drive/MyDrive/UCLA/cs 263/final_proj/val2014/COCO_val2014_000000236370.jpg\n",
            "loading: /content/drive/MyDrive/UCLA/cs 263/final_proj/val2014/COCO_val2014_000000236370.jpg\n",
            "loading: /content/drive/MyDrive/UCLA/cs 263/final_proj/val2014/COCO_val2014_000000236370.jpg\n",
            "loading: /content/drive/MyDrive/UCLA/cs 263/final_proj/val2014/COCO_val2014_000000236370.jpg\n",
            "loading: /content/drive/MyDrive/UCLA/cs 263/final_proj/val2014/COCO_val2014_000000236370.jpg\n",
            "loading: /content/drive/MyDrive/UCLA/cs 263/final_proj/val2014/COCO_val2014_000000463542.jpg\n",
            "loading: /content/drive/MyDrive/UCLA/cs 263/final_proj/val2014/COCO_val2014_000000463542.jpg\n",
            "loading: /content/drive/MyDrive/UCLA/cs 263/final_proj/val2014/COCO_val2014_000000463542.jpg\n",
            "loading: /content/drive/MyDrive/UCLA/cs 263/final_proj/val2014/COCO_val2014_000000463542.jpg\n",
            "loading: /content/drive/MyDrive/UCLA/cs 263/final_proj/val2014/COCO_val2014_000000463542.jpg\n",
            "loading: /content/drive/MyDrive/UCLA/cs 263/final_proj/val2014/COCO_val2014_000000463542.jpg\n",
            "loading: /content/drive/MyDrive/UCLA/cs 263/final_proj/val2014/COCO_val2014_000000377352.jpg\n",
            "loading: /content/drive/MyDrive/UCLA/cs 263/final_proj/val2014/COCO_val2014_000000377352.jpg\n",
            "loading: /content/drive/MyDrive/UCLA/cs 263/final_proj/val2014/COCO_val2014_000000377352.jpg\n",
            "loading: /content/drive/MyDrive/UCLA/cs 263/final_proj/val2014/COCO_val2014_000000377352.jpg\n",
            "loading: /content/drive/MyDrive/UCLA/cs 263/final_proj/val2014/COCO_val2014_000000377352.jpg\n",
            "loading: /content/drive/MyDrive/UCLA/cs 263/final_proj/val2014/COCO_val2014_000000377352.jpg\n",
            "loading: /content/drive/MyDrive/UCLA/cs 263/final_proj/val2014/COCO_val2014_000000302405.jpg\n",
            "loading: /content/drive/MyDrive/UCLA/cs 263/final_proj/val2014/COCO_val2014_000000302405.jpg\n",
            "loading: /content/drive/MyDrive/UCLA/cs 263/final_proj/val2014/COCO_val2014_000000302405.jpg\n",
            "loading: /content/drive/MyDrive/UCLA/cs 263/final_proj/val2014/COCO_val2014_000000302405.jpg\n",
            "loading: /content/drive/MyDrive/UCLA/cs 263/final_proj/val2014/COCO_val2014_000000302405.jpg\n",
            "loading: /content/drive/MyDrive/UCLA/cs 263/final_proj/val2014/COCO_val2014_000000302405.jpg\n",
            "loading: /content/drive/MyDrive/UCLA/cs 263/final_proj/val2014/COCO_val2014_000000554328.jpg\n",
            "loading: /content/drive/MyDrive/UCLA/cs 263/final_proj/val2014/COCO_val2014_000000554328.jpg\n",
            "loading: /content/drive/MyDrive/UCLA/cs 263/final_proj/val2014/COCO_val2014_000000554328.jpg\n",
            "loading: /content/drive/MyDrive/UCLA/cs 263/final_proj/val2014/COCO_val2014_000000554328.jpg\n",
            "loading: /content/drive/MyDrive/UCLA/cs 263/final_proj/val2014/COCO_val2014_000000554328.jpg\n",
            "loading: /content/drive/MyDrive/UCLA/cs 263/final_proj/val2014/COCO_val2014_000000554328.jpg\n",
            "loading: /content/drive/MyDrive/UCLA/cs 263/final_proj/val2014/COCO_val2014_000000384040.jpg\n",
            "loading: /content/drive/MyDrive/UCLA/cs 263/final_proj/val2014/COCO_val2014_000000384040.jpg\n",
            "loading: /content/drive/MyDrive/UCLA/cs 263/final_proj/val2014/COCO_val2014_000000384040.jpg\n",
            "loading: /content/drive/MyDrive/UCLA/cs 263/final_proj/val2014/COCO_val2014_000000384040.jpg\n",
            "loading: /content/drive/MyDrive/UCLA/cs 263/final_proj/val2014/COCO_val2014_000000384040.jpg\n",
            "loading: /content/drive/MyDrive/UCLA/cs 263/final_proj/val2014/COCO_val2014_000000384040.jpg\n",
            "loading: /content/drive/MyDrive/UCLA/cs 263/final_proj/val2014/COCO_val2014_000000023731.jpg\n",
            "loading: /content/drive/MyDrive/UCLA/cs 263/final_proj/val2014/COCO_val2014_000000023731.jpg\n",
            "loading: /content/drive/MyDrive/UCLA/cs 263/final_proj/val2014/COCO_val2014_000000023731.jpg\n",
            "loading: /content/drive/MyDrive/UCLA/cs 263/final_proj/val2014/COCO_val2014_000000023731.jpg\n",
            "loading: /content/drive/MyDrive/UCLA/cs 263/final_proj/val2014/COCO_val2014_000000023731.jpg\n",
            "loading: /content/drive/MyDrive/UCLA/cs 263/final_proj/val2014/COCO_val2014_000000023731.jpg\n",
            "loading: /content/drive/MyDrive/UCLA/cs 263/final_proj/val2014/COCO_val2014_000000463640.jpg\n",
            "loading: /content/drive/MyDrive/UCLA/cs 263/final_proj/val2014/COCO_val2014_000000463640.jpg\n",
            "loading: /content/drive/MyDrive/UCLA/cs 263/final_proj/val2014/COCO_val2014_000000463640.jpg\n",
            "loading: /content/drive/MyDrive/UCLA/cs 263/final_proj/val2014/COCO_val2014_000000463640.jpg\n",
            "loading: /content/drive/MyDrive/UCLA/cs 263/final_proj/val2014/COCO_val2014_000000463640.jpg\n",
            "loading: /content/drive/MyDrive/UCLA/cs 263/final_proj/val2014/COCO_val2014_000000463640.jpg\n",
            "loading: /content/drive/MyDrive/UCLA/cs 263/final_proj/val2014/COCO_val2014_000000365822.jpg\n",
            "loading: /content/drive/MyDrive/UCLA/cs 263/final_proj/val2014/COCO_val2014_000000365822.jpg\n",
            "loading: /content/drive/MyDrive/UCLA/cs 263/final_proj/val2014/COCO_val2014_000000365822.jpg\n",
            "loading: /content/drive/MyDrive/UCLA/cs 263/final_proj/val2014/COCO_val2014_000000365822.jpg\n",
            "loading: /content/drive/MyDrive/UCLA/cs 263/final_proj/val2014/COCO_val2014_000000365822.jpg\n",
            "loading: /content/drive/MyDrive/UCLA/cs 263/final_proj/val2014/COCO_val2014_000000365822.jpg\n",
            "loading: /content/drive/MyDrive/UCLA/cs 263/final_proj/val2014/COCO_val2014_000000524979.jpg\n",
            "loading: /content/drive/MyDrive/UCLA/cs 263/final_proj/val2014/COCO_val2014_000000524979.jpg\n",
            "loading: /content/drive/MyDrive/UCLA/cs 263/final_proj/val2014/COCO_val2014_000000524979.jpg\n",
            "loading: /content/drive/MyDrive/UCLA/cs 263/final_proj/val2014/COCO_val2014_000000524979.jpg\n",
            "loading: /content/drive/MyDrive/UCLA/cs 263/final_proj/val2014/COCO_val2014_000000524979.jpg\n",
            "loading: /content/drive/MyDrive/UCLA/cs 263/final_proj/val2014/COCO_val2014_000000524979.jpg\n",
            "loading: /content/drive/MyDrive/UCLA/cs 263/final_proj/val2014/COCO_val2014_000000070813.jpg\n",
            "loading: /content/drive/MyDrive/UCLA/cs 263/final_proj/val2014/COCO_val2014_000000070813.jpg\n",
            "loading: /content/drive/MyDrive/UCLA/cs 263/final_proj/val2014/COCO_val2014_000000070813.jpg\n",
            "loading: /content/drive/MyDrive/UCLA/cs 263/final_proj/val2014/COCO_val2014_000000070813.jpg\n",
            "loading: /content/drive/MyDrive/UCLA/cs 263/final_proj/val2014/COCO_val2014_000000070813.jpg\n",
            "loading: /content/drive/MyDrive/UCLA/cs 263/final_proj/val2014/COCO_val2014_000000070813.jpg\n",
            "loading: /content/drive/MyDrive/UCLA/cs 263/final_proj/val2014/COCO_val2014_000000318209.jpg\n",
            "loading: /content/drive/MyDrive/UCLA/cs 263/final_proj/val2014/COCO_val2014_000000318209.jpg\n",
            "loading: /content/drive/MyDrive/UCLA/cs 263/final_proj/val2014/COCO_val2014_000000318209.jpg\n",
            "loading: /content/drive/MyDrive/UCLA/cs 263/final_proj/val2014/COCO_val2014_000000318209.jpg\n",
            "loading: /content/drive/MyDrive/UCLA/cs 263/final_proj/val2014/COCO_val2014_000000318209.jpg\n",
            "loading: /content/drive/MyDrive/UCLA/cs 263/final_proj/val2014/COCO_val2014_000000318209.jpg\n",
            "loading: /content/drive/MyDrive/UCLA/cs 263/final_proj/val2014/COCO_val2014_000000016775.jpg\n",
            "loading: /content/drive/MyDrive/UCLA/cs 263/final_proj/val2014/COCO_val2014_000000016775.jpg\n",
            "loading: /content/drive/MyDrive/UCLA/cs 263/final_proj/val2014/COCO_val2014_000000016775.jpg\n",
            "loading: /content/drive/MyDrive/UCLA/cs 263/final_proj/val2014/COCO_val2014_000000016775.jpg\n",
            "loading: /content/drive/MyDrive/UCLA/cs 263/final_proj/val2014/COCO_val2014_000000016775.jpg\n",
            "loading: /content/drive/MyDrive/UCLA/cs 263/final_proj/val2014/COCO_val2014_000000016775.jpg\n",
            "loading: /content/drive/MyDrive/UCLA/cs 263/final_proj/val2014/COCO_val2014_000000015338.jpg\n",
            "loading: /content/drive/MyDrive/UCLA/cs 263/final_proj/val2014/COCO_val2014_000000015338.jpg\n",
            "loading: /content/drive/MyDrive/UCLA/cs 263/final_proj/val2014/COCO_val2014_000000015338.jpg\n",
            "loading: /content/drive/MyDrive/UCLA/cs 263/final_proj/val2014/COCO_val2014_000000015338.jpg\n",
            "loading: /content/drive/MyDrive/UCLA/cs 263/final_proj/val2014/COCO_val2014_000000015338.jpg\n",
            "loading: /content/drive/MyDrive/UCLA/cs 263/final_proj/val2014/COCO_val2014_000000015338.jpg\n",
            "loading: /content/drive/MyDrive/UCLA/cs 263/final_proj/val2014/COCO_val2014_000000441156.jpg\n",
            "loading: /content/drive/MyDrive/UCLA/cs 263/final_proj/val2014/COCO_val2014_000000441156.jpg\n",
            "loading: /content/drive/MyDrive/UCLA/cs 263/final_proj/val2014/COCO_val2014_000000441156.jpg\n",
            "loading: /content/drive/MyDrive/UCLA/cs 263/final_proj/val2014/COCO_val2014_000000441156.jpg\n",
            "loading: /content/drive/MyDrive/UCLA/cs 263/final_proj/val2014/COCO_val2014_000000441156.jpg\n",
            "loading: /content/drive/MyDrive/UCLA/cs 263/final_proj/val2014/COCO_val2014_000000441156.jpg\n",
            "loading: /content/drive/MyDrive/UCLA/cs 263/final_proj/val2014/COCO_val2014_000000408757.jpg\n",
            "loading: /content/drive/MyDrive/UCLA/cs 263/final_proj/val2014/COCO_val2014_000000408757.jpg\n",
            "loading: /content/drive/MyDrive/UCLA/cs 263/final_proj/val2014/COCO_val2014_000000408757.jpg\n",
            "loading: /content/drive/MyDrive/UCLA/cs 263/final_proj/val2014/COCO_val2014_000000408757.jpg\n",
            "loading: /content/drive/MyDrive/UCLA/cs 263/final_proj/val2014/COCO_val2014_000000408757.jpg\n",
            "loading: /content/drive/MyDrive/UCLA/cs 263/final_proj/val2014/COCO_val2014_000000408757.jpg\n",
            "loading: /content/drive/MyDrive/UCLA/cs 263/final_proj/val2014/COCO_val2014_000000550691.jpg\n",
            "loading: /content/drive/MyDrive/UCLA/cs 263/final_proj/val2014/COCO_val2014_000000550691.jpg\n",
            "loading: /content/drive/MyDrive/UCLA/cs 263/final_proj/val2014/COCO_val2014_000000550691.jpg\n",
            "loading: /content/drive/MyDrive/UCLA/cs 263/final_proj/val2014/COCO_val2014_000000550691.jpg\n",
            "loading: /content/drive/MyDrive/UCLA/cs 263/final_proj/val2014/COCO_val2014_000000550691.jpg\n",
            "loading: /content/drive/MyDrive/UCLA/cs 263/final_proj/val2014/COCO_val2014_000000550691.jpg\n",
            "loading: /content/drive/MyDrive/UCLA/cs 263/final_proj/val2014/COCO_val2014_000000204100.jpg\n",
            "loading: /content/drive/MyDrive/UCLA/cs 263/final_proj/val2014/COCO_val2014_000000204100.jpg\n",
            "loading: /content/drive/MyDrive/UCLA/cs 263/final_proj/val2014/COCO_val2014_000000204100.jpg\n",
            "loading: /content/drive/MyDrive/UCLA/cs 263/final_proj/val2014/COCO_val2014_000000204100.jpg\n",
            "loading: /content/drive/MyDrive/UCLA/cs 263/final_proj/val2014/COCO_val2014_000000204100.jpg\n",
            "loading: /content/drive/MyDrive/UCLA/cs 263/final_proj/val2014/COCO_val2014_000000204100.jpg\n",
            "loading: /content/drive/MyDrive/UCLA/cs 263/final_proj/val2014/COCO_val2014_000000468169.jpg\n",
            "loading: /content/drive/MyDrive/UCLA/cs 263/final_proj/val2014/COCO_val2014_000000468169.jpg\n",
            "loading: /content/drive/MyDrive/UCLA/cs 263/final_proj/val2014/COCO_val2014_000000468169.jpg\n",
            "loading: /content/drive/MyDrive/UCLA/cs 263/final_proj/val2014/COCO_val2014_000000468169.jpg\n",
            "loading: /content/drive/MyDrive/UCLA/cs 263/final_proj/val2014/COCO_val2014_000000468169.jpg\n",
            "loading: /content/drive/MyDrive/UCLA/cs 263/final_proj/val2014/COCO_val2014_000000468169.jpg\n",
            "loading: /content/drive/MyDrive/UCLA/cs 263/final_proj/val2014/COCO_val2014_000000198312.jpg\n",
            "loading: /content/drive/MyDrive/UCLA/cs 263/final_proj/val2014/COCO_val2014_000000198312.jpg\n",
            "loading: /content/drive/MyDrive/UCLA/cs 263/final_proj/val2014/COCO_val2014_000000198312.jpg\n",
            "loading: /content/drive/MyDrive/UCLA/cs 263/final_proj/val2014/COCO_val2014_000000198312.jpg\n",
            "loading: /content/drive/MyDrive/UCLA/cs 263/final_proj/val2014/COCO_val2014_000000198312.jpg\n",
            "loading: /content/drive/MyDrive/UCLA/cs 263/final_proj/val2014/COCO_val2014_000000198312.jpg\n",
            "loading: /content/drive/MyDrive/UCLA/cs 263/final_proj/val2014/COCO_val2014_000000485485.jpg\n",
            "loading: /content/drive/MyDrive/UCLA/cs 263/final_proj/val2014/COCO_val2014_000000485485.jpg\n",
            "loading: /content/drive/MyDrive/UCLA/cs 263/final_proj/val2014/COCO_val2014_000000485485.jpg\n",
            "loading: /content/drive/MyDrive/UCLA/cs 263/final_proj/val2014/COCO_val2014_000000485485.jpg\n",
            "loading: /content/drive/MyDrive/UCLA/cs 263/final_proj/val2014/COCO_val2014_000000485485.jpg\n",
            "loading: /content/drive/MyDrive/UCLA/cs 263/final_proj/val2014/COCO_val2014_000000485485.jpg\n",
            "loading: /content/drive/MyDrive/UCLA/cs 263/final_proj/val2014/COCO_val2014_000000309371.jpg\n",
            "loading: /content/drive/MyDrive/UCLA/cs 263/final_proj/val2014/COCO_val2014_000000309371.jpg\n",
            "loading: /content/drive/MyDrive/UCLA/cs 263/final_proj/val2014/COCO_val2014_000000309371.jpg\n",
            "loading: /content/drive/MyDrive/UCLA/cs 263/final_proj/val2014/COCO_val2014_000000309371.jpg\n",
            "loading: /content/drive/MyDrive/UCLA/cs 263/final_proj/val2014/COCO_val2014_000000309371.jpg\n",
            "loading: /content/drive/MyDrive/UCLA/cs 263/final_proj/val2014/COCO_val2014_000000309371.jpg\n",
            "loading: /content/drive/MyDrive/UCLA/cs 263/final_proj/val2014/COCO_val2014_000000472143.jpg\n",
            "loading: /content/drive/MyDrive/UCLA/cs 263/final_proj/val2014/COCO_val2014_000000472143.jpg\n",
            "loading: /content/drive/MyDrive/UCLA/cs 263/final_proj/val2014/COCO_val2014_000000472143.jpg\n",
            "loading: /content/drive/MyDrive/UCLA/cs 263/final_proj/val2014/COCO_val2014_000000472143.jpg\n",
            "loading: /content/drive/MyDrive/UCLA/cs 263/final_proj/val2014/COCO_val2014_000000472143.jpg\n",
            "loading: /content/drive/MyDrive/UCLA/cs 263/final_proj/val2014/COCO_val2014_000000472143.jpg\n",
            "loading: /content/drive/MyDrive/UCLA/cs 263/final_proj/val2014/COCO_val2014_000000236023.jpg\n",
            "loading: /content/drive/MyDrive/UCLA/cs 263/final_proj/val2014/COCO_val2014_000000236023.jpg\n",
            "loading: /content/drive/MyDrive/UCLA/cs 263/final_proj/val2014/COCO_val2014_000000236023.jpg\n",
            "loading: /content/drive/MyDrive/UCLA/cs 263/final_proj/val2014/COCO_val2014_000000236023.jpg\n",
            "loading: /content/drive/MyDrive/UCLA/cs 263/final_proj/val2014/COCO_val2014_000000236023.jpg\n",
            "loading: /content/drive/MyDrive/UCLA/cs 263/final_proj/val2014/COCO_val2014_000000236023.jpg\n",
            "loading: /content/drive/MyDrive/UCLA/cs 263/final_proj/val2014/COCO_val2014_000000214244.jpg\n",
            "loading: /content/drive/MyDrive/UCLA/cs 263/final_proj/val2014/COCO_val2014_000000214244.jpg\n",
            "loading: /content/drive/MyDrive/UCLA/cs 263/final_proj/val2014/COCO_val2014_000000214244.jpg\n",
            "loading: /content/drive/MyDrive/UCLA/cs 263/final_proj/val2014/COCO_val2014_000000214244.jpg\n",
            "loading: /content/drive/MyDrive/UCLA/cs 263/final_proj/val2014/COCO_val2014_000000214244.jpg\n",
            "loading: /content/drive/MyDrive/UCLA/cs 263/final_proj/val2014/COCO_val2014_000000214244.jpg\n",
            "loading: /content/drive/MyDrive/UCLA/cs 263/final_proj/val2014/COCO_val2014_000000397665.jpg\n",
            "loading: /content/drive/MyDrive/UCLA/cs 263/final_proj/val2014/COCO_val2014_000000397665.jpg\n",
            "loading: /content/drive/MyDrive/UCLA/cs 263/final_proj/val2014/COCO_val2014_000000397665.jpg\n",
            "loading: /content/drive/MyDrive/UCLA/cs 263/final_proj/val2014/COCO_val2014_000000397665.jpg\n",
            "loading: /content/drive/MyDrive/UCLA/cs 263/final_proj/val2014/COCO_val2014_000000397665.jpg\n",
            "loading: /content/drive/MyDrive/UCLA/cs 263/final_proj/val2014/COCO_val2014_000000397665.jpg\n",
            "loading: /content/drive/MyDrive/UCLA/cs 263/final_proj/val2014/COCO_val2014_000000183965.jpg\n",
            "loading: /content/drive/MyDrive/UCLA/cs 263/final_proj/val2014/COCO_val2014_000000183965.jpg\n",
            "loading: /content/drive/MyDrive/UCLA/cs 263/final_proj/val2014/COCO_val2014_000000183965.jpg\n",
            "loading: /content/drive/MyDrive/UCLA/cs 263/final_proj/val2014/COCO_val2014_000000183965.jpg\n",
            "loading: /content/drive/MyDrive/UCLA/cs 263/final_proj/val2014/COCO_val2014_000000183965.jpg\n",
            "loading: /content/drive/MyDrive/UCLA/cs 263/final_proj/val2014/COCO_val2014_000000183965.jpg\n",
            "loading: /content/drive/MyDrive/UCLA/cs 263/final_proj/val2014/COCO_val2014_000000499105.jpg\n",
            "loading: /content/drive/MyDrive/UCLA/cs 263/final_proj/val2014/COCO_val2014_000000499105.jpg\n",
            "loading: /content/drive/MyDrive/UCLA/cs 263/final_proj/val2014/COCO_val2014_000000499105.jpg\n",
            "loading: /content/drive/MyDrive/UCLA/cs 263/final_proj/val2014/COCO_val2014_000000499105.jpg\n",
            "loading: /content/drive/MyDrive/UCLA/cs 263/final_proj/val2014/COCO_val2014_000000499105.jpg\n",
            "loading: /content/drive/MyDrive/UCLA/cs 263/final_proj/val2014/COCO_val2014_000000499105.jpg\n",
            "loading: /content/drive/MyDrive/UCLA/cs 263/final_proj/val2014/COCO_val2014_000000259755.jpg\n",
            "loading: /content/drive/MyDrive/UCLA/cs 263/final_proj/val2014/COCO_val2014_000000259755.jpg\n",
            "loading: /content/drive/MyDrive/UCLA/cs 263/final_proj/val2014/COCO_val2014_000000259755.jpg\n",
            "loading: /content/drive/MyDrive/UCLA/cs 263/final_proj/val2014/COCO_val2014_000000259755.jpg\n",
            "loading: /content/drive/MyDrive/UCLA/cs 263/final_proj/val2014/COCO_val2014_000000259755.jpg\n",
            "loading: /content/drive/MyDrive/UCLA/cs 263/final_proj/val2014/COCO_val2014_000000259755.jpg\n",
            "loading: /content/drive/MyDrive/UCLA/cs 263/final_proj/val2014/COCO_val2014_000000281028.jpg\n",
            "loading: /content/drive/MyDrive/UCLA/cs 263/final_proj/val2014/COCO_val2014_000000281028.jpg\n",
            "loading: /content/drive/MyDrive/UCLA/cs 263/final_proj/val2014/COCO_val2014_000000281028.jpg\n",
            "loading: /content/drive/MyDrive/UCLA/cs 263/final_proj/val2014/COCO_val2014_000000281028.jpg\n",
            "loading: /content/drive/MyDrive/UCLA/cs 263/final_proj/val2014/COCO_val2014_000000281028.jpg\n",
            "loading: /content/drive/MyDrive/UCLA/cs 263/final_proj/val2014/COCO_val2014_000000281028.jpg\n",
            "loading: /content/drive/MyDrive/UCLA/cs 263/final_proj/val2014/COCO_val2014_000000199122.jpg\n",
            "loading: /content/drive/MyDrive/UCLA/cs 263/final_proj/val2014/COCO_val2014_000000199122.jpg\n",
            "loading: /content/drive/MyDrive/UCLA/cs 263/final_proj/val2014/COCO_val2014_000000199122.jpg\n",
            "loading: /content/drive/MyDrive/UCLA/cs 263/final_proj/val2014/COCO_val2014_000000199122.jpg\n",
            "loading: /content/drive/MyDrive/UCLA/cs 263/final_proj/val2014/COCO_val2014_000000199122.jpg\n",
            "loading: /content/drive/MyDrive/UCLA/cs 263/final_proj/val2014/COCO_val2014_000000199122.jpg\n",
            "loading: /content/drive/MyDrive/UCLA/cs 263/final_proj/val2014/COCO_val2014_000000442809.jpg\n",
            "loading: /content/drive/MyDrive/UCLA/cs 263/final_proj/val2014/COCO_val2014_000000442809.jpg\n",
            "loading: /content/drive/MyDrive/UCLA/cs 263/final_proj/val2014/COCO_val2014_000000442809.jpg\n",
            "loading: /content/drive/MyDrive/UCLA/cs 263/final_proj/val2014/COCO_val2014_000000442809.jpg\n",
            "loading: /content/drive/MyDrive/UCLA/cs 263/final_proj/val2014/COCO_val2014_000000442809.jpg\n",
            "loading: /content/drive/MyDrive/UCLA/cs 263/final_proj/val2014/COCO_val2014_000000442809.jpg\n",
            "loading: /content/drive/MyDrive/UCLA/cs 263/final_proj/val2014/COCO_val2014_000000482829.jpg\n",
            "loading: /content/drive/MyDrive/UCLA/cs 263/final_proj/val2014/COCO_val2014_000000482829.jpg\n",
            "loading: /content/drive/MyDrive/UCLA/cs 263/final_proj/val2014/COCO_val2014_000000482829.jpg\n",
            "loading: /content/drive/MyDrive/UCLA/cs 263/final_proj/val2014/COCO_val2014_000000482829.jpg\n",
            "loading: /content/drive/MyDrive/UCLA/cs 263/final_proj/val2014/COCO_val2014_000000482829.jpg\n",
            "loading: /content/drive/MyDrive/UCLA/cs 263/final_proj/val2014/COCO_val2014_000000482829.jpg\n",
            "loading: /content/drive/MyDrive/UCLA/cs 263/final_proj/val2014/COCO_val2014_000000097994.jpg\n",
            "loading: /content/drive/MyDrive/UCLA/cs 263/final_proj/val2014/COCO_val2014_000000097994.jpg\n",
            "loading: /content/drive/MyDrive/UCLA/cs 263/final_proj/val2014/COCO_val2014_000000097994.jpg\n",
            "loading: /content/drive/MyDrive/UCLA/cs 263/final_proj/val2014/COCO_val2014_000000097994.jpg\n",
            "loading: /content/drive/MyDrive/UCLA/cs 263/final_proj/val2014/COCO_val2014_000000097994.jpg\n",
            "loading: /content/drive/MyDrive/UCLA/cs 263/final_proj/val2014/COCO_val2014_000000097994.jpg\n",
            "loading: /content/drive/MyDrive/UCLA/cs 263/final_proj/val2014/COCO_val2014_000000246999.jpg\n",
            "loading: /content/drive/MyDrive/UCLA/cs 263/final_proj/val2014/COCO_val2014_000000246999.jpg\n",
            "loading: /content/drive/MyDrive/UCLA/cs 263/final_proj/val2014/COCO_val2014_000000246999.jpg\n",
            "loading: /content/drive/MyDrive/UCLA/cs 263/final_proj/val2014/COCO_val2014_000000246999.jpg\n",
            "loading: /content/drive/MyDrive/UCLA/cs 263/final_proj/val2014/COCO_val2014_000000246999.jpg\n",
            "loading: /content/drive/MyDrive/UCLA/cs 263/final_proj/val2014/COCO_val2014_000000246999.jpg\n",
            "loading: /content/drive/MyDrive/UCLA/cs 263/final_proj/val2014/COCO_val2014_000000338291.jpg\n",
            "loading: /content/drive/MyDrive/UCLA/cs 263/final_proj/val2014/COCO_val2014_000000338291.jpg\n",
            "loading: /content/drive/MyDrive/UCLA/cs 263/final_proj/val2014/COCO_val2014_000000338291.jpg\n",
            "loading: /content/drive/MyDrive/UCLA/cs 263/final_proj/val2014/COCO_val2014_000000338291.jpg\n",
            "loading: /content/drive/MyDrive/UCLA/cs 263/final_proj/val2014/COCO_val2014_000000338291.jpg\n",
            "loading: /content/drive/MyDrive/UCLA/cs 263/final_proj/val2014/COCO_val2014_000000338291.jpg\n",
            "loading: /content/drive/MyDrive/UCLA/cs 263/final_proj/val2014/COCO_val2014_000000331366.jpg\n",
            "loading: /content/drive/MyDrive/UCLA/cs 263/final_proj/val2014/COCO_val2014_000000331366.jpg\n",
            "loading: /content/drive/MyDrive/UCLA/cs 263/final_proj/val2014/COCO_val2014_000000331366.jpg\n",
            "loading: /content/drive/MyDrive/UCLA/cs 263/final_proj/val2014/COCO_val2014_000000331366.jpg\n",
            "loading: /content/drive/MyDrive/UCLA/cs 263/final_proj/val2014/COCO_val2014_000000331366.jpg\n",
            "loading: /content/drive/MyDrive/UCLA/cs 263/final_proj/val2014/COCO_val2014_000000331366.jpg\n",
            "loading: /content/drive/MyDrive/UCLA/cs 263/final_proj/val2014/COCO_val2014_000000348524.jpg\n",
            "loading: /content/drive/MyDrive/UCLA/cs 263/final_proj/val2014/COCO_val2014_000000348524.jpg\n",
            "loading: /content/drive/MyDrive/UCLA/cs 263/final_proj/val2014/COCO_val2014_000000348524.jpg\n",
            "loading: /content/drive/MyDrive/UCLA/cs 263/final_proj/val2014/COCO_val2014_000000348524.jpg\n",
            "loading: /content/drive/MyDrive/UCLA/cs 263/final_proj/val2014/COCO_val2014_000000348524.jpg\n",
            "loading: /content/drive/MyDrive/UCLA/cs 263/final_proj/val2014/COCO_val2014_000000348524.jpg\n",
            "loading: /content/drive/MyDrive/UCLA/cs 263/final_proj/val2014/COCO_val2014_000000108189.jpg\n",
            "loading: /content/drive/MyDrive/UCLA/cs 263/final_proj/val2014/COCO_val2014_000000108189.jpg\n",
            "loading: /content/drive/MyDrive/UCLA/cs 263/final_proj/val2014/COCO_val2014_000000108189.jpg\n",
            "loading: /content/drive/MyDrive/UCLA/cs 263/final_proj/val2014/COCO_val2014_000000108189.jpg\n",
            "loading: /content/drive/MyDrive/UCLA/cs 263/final_proj/val2014/COCO_val2014_000000108189.jpg\n",
            "loading: /content/drive/MyDrive/UCLA/cs 263/final_proj/val2014/COCO_val2014_000000108189.jpg\n",
            "loading: /content/drive/MyDrive/UCLA/cs 263/final_proj/val2014/COCO_val2014_000000301575.jpg\n",
            "loading: /content/drive/MyDrive/UCLA/cs 263/final_proj/val2014/COCO_val2014_000000301575.jpg\n",
            "loading: /content/drive/MyDrive/UCLA/cs 263/final_proj/val2014/COCO_val2014_000000301575.jpg\n",
            "loading: /content/drive/MyDrive/UCLA/cs 263/final_proj/val2014/COCO_val2014_000000301575.jpg\n",
            "loading: /content/drive/MyDrive/UCLA/cs 263/final_proj/val2014/COCO_val2014_000000301575.jpg\n",
            "loading: /content/drive/MyDrive/UCLA/cs 263/final_proj/val2014/COCO_val2014_000000301575.jpg\n",
            "loading: /content/drive/MyDrive/UCLA/cs 263/final_proj/val2014/COCO_val2014_000000239773.jpg\n",
            "loading: /content/drive/MyDrive/UCLA/cs 263/final_proj/val2014/COCO_val2014_000000239773.jpg\n",
            "loading: /content/drive/MyDrive/UCLA/cs 263/final_proj/val2014/COCO_val2014_000000239773.jpg\n",
            "loading: /content/drive/MyDrive/UCLA/cs 263/final_proj/val2014/COCO_val2014_000000239773.jpg\n",
            "loading: /content/drive/MyDrive/UCLA/cs 263/final_proj/val2014/COCO_val2014_000000239773.jpg\n",
            "loading: /content/drive/MyDrive/UCLA/cs 263/final_proj/val2014/COCO_val2014_000000239773.jpg\n",
            "loading: /content/drive/MyDrive/UCLA/cs 263/final_proj/val2014/COCO_val2014_000000354976.jpg\n",
            "loading: /content/drive/MyDrive/UCLA/cs 263/final_proj/val2014/COCO_val2014_000000354976.jpg\n",
            "loading: /content/drive/MyDrive/UCLA/cs 263/final_proj/val2014/COCO_val2014_000000354976.jpg\n",
            "loading: /content/drive/MyDrive/UCLA/cs 263/final_proj/val2014/COCO_val2014_000000354976.jpg\n",
            "loading: /content/drive/MyDrive/UCLA/cs 263/final_proj/val2014/COCO_val2014_000000354976.jpg\n",
            "loading: /content/drive/MyDrive/UCLA/cs 263/final_proj/val2014/COCO_val2014_000000354976.jpg\n",
            "loading: /content/drive/MyDrive/UCLA/cs 263/final_proj/val2014/COCO_val2014_000000473199.jpg\n",
            "loading: /content/drive/MyDrive/UCLA/cs 263/final_proj/val2014/COCO_val2014_000000473199.jpg\n",
            "loading: /content/drive/MyDrive/UCLA/cs 263/final_proj/val2014/COCO_val2014_000000473199.jpg\n",
            "loading: /content/drive/MyDrive/UCLA/cs 263/final_proj/val2014/COCO_val2014_000000473199.jpg\n",
            "loading: /content/drive/MyDrive/UCLA/cs 263/final_proj/val2014/COCO_val2014_000000473199.jpg\n",
            "loading: /content/drive/MyDrive/UCLA/cs 263/final_proj/val2014/COCO_val2014_000000473199.jpg\n",
            "loading: /content/drive/MyDrive/UCLA/cs 263/final_proj/val2014/COCO_val2014_000000311759.jpg\n",
            "loading: /content/drive/MyDrive/UCLA/cs 263/final_proj/val2014/COCO_val2014_000000311759.jpg\n",
            "loading: /content/drive/MyDrive/UCLA/cs 263/final_proj/val2014/COCO_val2014_000000311759.jpg\n",
            "loading: /content/drive/MyDrive/UCLA/cs 263/final_proj/val2014/COCO_val2014_000000311759.jpg\n",
            "loading: /content/drive/MyDrive/UCLA/cs 263/final_proj/val2014/COCO_val2014_000000311759.jpg\n",
            "loading: /content/drive/MyDrive/UCLA/cs 263/final_proj/val2014/COCO_val2014_000000311759.jpg\n",
            "loading: /content/drive/MyDrive/UCLA/cs 263/final_proj/val2014/COCO_val2014_000000431615.jpg\n",
            "loading: /content/drive/MyDrive/UCLA/cs 263/final_proj/val2014/COCO_val2014_000000431615.jpg\n",
            "loading: /content/drive/MyDrive/UCLA/cs 263/final_proj/val2014/COCO_val2014_000000431615.jpg\n",
            "loading: /content/drive/MyDrive/UCLA/cs 263/final_proj/val2014/COCO_val2014_000000431615.jpg\n",
            "loading: /content/drive/MyDrive/UCLA/cs 263/final_proj/val2014/COCO_val2014_000000431615.jpg\n",
            "loading: /content/drive/MyDrive/UCLA/cs 263/final_proj/val2014/COCO_val2014_000000431615.jpg\n",
            "loading: /content/drive/MyDrive/UCLA/cs 263/final_proj/val2014/COCO_val2014_000000343401.jpg\n",
            "loading: /content/drive/MyDrive/UCLA/cs 263/final_proj/val2014/COCO_val2014_000000343401.jpg\n",
            "loading: /content/drive/MyDrive/UCLA/cs 263/final_proj/val2014/COCO_val2014_000000343401.jpg\n",
            "loading: /content/drive/MyDrive/UCLA/cs 263/final_proj/val2014/COCO_val2014_000000343401.jpg\n",
            "loading: /content/drive/MyDrive/UCLA/cs 263/final_proj/val2014/COCO_val2014_000000343401.jpg\n",
            "loading: /content/drive/MyDrive/UCLA/cs 263/final_proj/val2014/COCO_val2014_000000343401.jpg\n",
            "loading: /content/drive/MyDrive/UCLA/cs 263/final_proj/val2014/COCO_val2014_000000246199.jpg\n",
            "loading: /content/drive/MyDrive/UCLA/cs 263/final_proj/val2014/COCO_val2014_000000246199.jpg\n",
            "loading: /content/drive/MyDrive/UCLA/cs 263/final_proj/val2014/COCO_val2014_000000246199.jpg\n",
            "loading: /content/drive/MyDrive/UCLA/cs 263/final_proj/val2014/COCO_val2014_000000246199.jpg\n",
            "loading: /content/drive/MyDrive/UCLA/cs 263/final_proj/val2014/COCO_val2014_000000246199.jpg\n",
            "loading: /content/drive/MyDrive/UCLA/cs 263/final_proj/val2014/COCO_val2014_000000246199.jpg\n",
            "loading: /content/drive/MyDrive/UCLA/cs 263/final_proj/val2014/COCO_val2014_000000372009.jpg\n",
            "loading: /content/drive/MyDrive/UCLA/cs 263/final_proj/val2014/COCO_val2014_000000372009.jpg\n",
            "loading: /content/drive/MyDrive/UCLA/cs 263/final_proj/val2014/COCO_val2014_000000372009.jpg\n",
            "loading: /content/drive/MyDrive/UCLA/cs 263/final_proj/val2014/COCO_val2014_000000372009.jpg\n",
            "loading: /content/drive/MyDrive/UCLA/cs 263/final_proj/val2014/COCO_val2014_000000372009.jpg\n",
            "loading: /content/drive/MyDrive/UCLA/cs 263/final_proj/val2014/COCO_val2014_000000372009.jpg\n",
            "loading: /content/drive/MyDrive/UCLA/cs 263/final_proj/val2014/COCO_val2014_000000346707.jpg\n",
            "loading: /content/drive/MyDrive/UCLA/cs 263/final_proj/val2014/COCO_val2014_000000346707.jpg\n",
            "loading: /content/drive/MyDrive/UCLA/cs 263/final_proj/val2014/COCO_val2014_000000346707.jpg\n",
            "loading: /content/drive/MyDrive/UCLA/cs 263/final_proj/val2014/COCO_val2014_000000346707.jpg\n",
            "loading: /content/drive/MyDrive/UCLA/cs 263/final_proj/val2014/COCO_val2014_000000346707.jpg\n",
            "loading: /content/drive/MyDrive/UCLA/cs 263/final_proj/val2014/COCO_val2014_000000346707.jpg\n",
            "loading: /content/drive/MyDrive/UCLA/cs 263/final_proj/val2014/COCO_val2014_000000501898.jpg\n",
            "loading: /content/drive/MyDrive/UCLA/cs 263/final_proj/val2014/COCO_val2014_000000501898.jpg\n",
            "loading: /content/drive/MyDrive/UCLA/cs 263/final_proj/val2014/COCO_val2014_000000501898.jpg\n",
            "loading: /content/drive/MyDrive/UCLA/cs 263/final_proj/val2014/COCO_val2014_000000501898.jpg\n",
            "loading: /content/drive/MyDrive/UCLA/cs 263/final_proj/val2014/COCO_val2014_000000501898.jpg\n",
            "loading: /content/drive/MyDrive/UCLA/cs 263/final_proj/val2014/COCO_val2014_000000501898.jpg\n",
            "loading: /content/drive/MyDrive/UCLA/cs 263/final_proj/val2014/COCO_val2014_000000281766.jpg\n",
            "loading: /content/drive/MyDrive/UCLA/cs 263/final_proj/val2014/COCO_val2014_000000281766.jpg\n",
            "loading: /content/drive/MyDrive/UCLA/cs 263/final_proj/val2014/COCO_val2014_000000281766.jpg\n",
            "loading: /content/drive/MyDrive/UCLA/cs 263/final_proj/val2014/COCO_val2014_000000281766.jpg\n",
            "loading: /content/drive/MyDrive/UCLA/cs 263/final_proj/val2014/COCO_val2014_000000281766.jpg\n",
            "loading: /content/drive/MyDrive/UCLA/cs 263/final_proj/val2014/COCO_val2014_000000281766.jpg\n",
            "loading: /content/drive/MyDrive/UCLA/cs 263/final_proj/val2014/COCO_val2014_000000245448.jpg\n",
            "loading: /content/drive/MyDrive/UCLA/cs 263/final_proj/val2014/COCO_val2014_000000245448.jpg\n",
            "loading: /content/drive/MyDrive/UCLA/cs 263/final_proj/val2014/COCO_val2014_000000245448.jpg\n",
            "loading: /content/drive/MyDrive/UCLA/cs 263/final_proj/val2014/COCO_val2014_000000245448.jpg\n",
            "loading: /content/drive/MyDrive/UCLA/cs 263/final_proj/val2014/COCO_val2014_000000245448.jpg\n",
            "loading: /content/drive/MyDrive/UCLA/cs 263/final_proj/val2014/COCO_val2014_000000245448.jpg\n",
            "loading: /content/drive/MyDrive/UCLA/cs 263/final_proj/val2014/COCO_val2014_000000510138.jpg\n",
            "loading: /content/drive/MyDrive/UCLA/cs 263/final_proj/val2014/COCO_val2014_000000510138.jpg\n",
            "loading: /content/drive/MyDrive/UCLA/cs 263/final_proj/val2014/COCO_val2014_000000510138.jpg\n",
            "loading: /content/drive/MyDrive/UCLA/cs 263/final_proj/val2014/COCO_val2014_000000510138.jpg\n",
            "loading: /content/drive/MyDrive/UCLA/cs 263/final_proj/val2014/COCO_val2014_000000510138.jpg\n",
            "loading: /content/drive/MyDrive/UCLA/cs 263/final_proj/val2014/COCO_val2014_000000510138.jpg\n",
            "loading: /content/drive/MyDrive/UCLA/cs 263/final_proj/val2014/COCO_val2014_000000001171.jpg\n",
            "loading: /content/drive/MyDrive/UCLA/cs 263/final_proj/val2014/COCO_val2014_000000001171.jpg\n",
            "loading: /content/drive/MyDrive/UCLA/cs 263/final_proj/val2014/COCO_val2014_000000001171.jpg\n",
            "loading: /content/drive/MyDrive/UCLA/cs 263/final_proj/val2014/COCO_val2014_000000001171.jpg\n",
            "loading: /content/drive/MyDrive/UCLA/cs 263/final_proj/val2014/COCO_val2014_000000001171.jpg\n",
            "loading: /content/drive/MyDrive/UCLA/cs 263/final_proj/val2014/COCO_val2014_000000001171.jpg\n",
            "loading: /content/drive/MyDrive/UCLA/cs 263/final_proj/val2014/COCO_val2014_000000100238.jpg\n",
            "loading: /content/drive/MyDrive/UCLA/cs 263/final_proj/val2014/COCO_val2014_000000100238.jpg\n",
            "loading: /content/drive/MyDrive/UCLA/cs 263/final_proj/val2014/COCO_val2014_000000100238.jpg\n",
            "loading: /content/drive/MyDrive/UCLA/cs 263/final_proj/val2014/COCO_val2014_000000100238.jpg\n",
            "loading: /content/drive/MyDrive/UCLA/cs 263/final_proj/val2014/COCO_val2014_000000100238.jpg\n",
            "loading: /content/drive/MyDrive/UCLA/cs 263/final_proj/val2014/COCO_val2014_000000100238.jpg\n",
            "loading: /content/drive/MyDrive/UCLA/cs 263/final_proj/val2014/COCO_val2014_000000465418.jpg\n",
            "loading: /content/drive/MyDrive/UCLA/cs 263/final_proj/val2014/COCO_val2014_000000465418.jpg\n",
            "loading: /content/drive/MyDrive/UCLA/cs 263/final_proj/val2014/COCO_val2014_000000465418.jpg\n",
            "loading: /content/drive/MyDrive/UCLA/cs 263/final_proj/val2014/COCO_val2014_000000465418.jpg\n",
            "loading: /content/drive/MyDrive/UCLA/cs 263/final_proj/val2014/COCO_val2014_000000465418.jpg\n",
            "loading: /content/drive/MyDrive/UCLA/cs 263/final_proj/val2014/COCO_val2014_000000465418.jpg\n",
            "loading: /content/drive/MyDrive/UCLA/cs 263/final_proj/val2014/COCO_val2014_000000392364.jpg\n",
            "loading: /content/drive/MyDrive/UCLA/cs 263/final_proj/val2014/COCO_val2014_000000392364.jpg\n",
            "loading: /content/drive/MyDrive/UCLA/cs 263/final_proj/val2014/COCO_val2014_000000392364.jpg\n",
            "loading: /content/drive/MyDrive/UCLA/cs 263/final_proj/val2014/COCO_val2014_000000392364.jpg\n",
            "loading: /content/drive/MyDrive/UCLA/cs 263/final_proj/val2014/COCO_val2014_000000392364.jpg\n",
            "loading: /content/drive/MyDrive/UCLA/cs 263/final_proj/val2014/COCO_val2014_000000392364.jpg\n",
            "loading: /content/drive/MyDrive/UCLA/cs 263/final_proj/val2014/COCO_val2014_000000188958.jpg\n",
            "loading: /content/drive/MyDrive/UCLA/cs 263/final_proj/val2014/COCO_val2014_000000188958.jpg\n",
            "loading: /content/drive/MyDrive/UCLA/cs 263/final_proj/val2014/COCO_val2014_000000188958.jpg\n",
            "loading: /content/drive/MyDrive/UCLA/cs 263/final_proj/val2014/COCO_val2014_000000188958.jpg\n",
            "loading: /content/drive/MyDrive/UCLA/cs 263/final_proj/val2014/COCO_val2014_000000188958.jpg\n",
            "loading: /content/drive/MyDrive/UCLA/cs 263/final_proj/val2014/COCO_val2014_000000188958.jpg\n",
            "loading: /content/drive/MyDrive/UCLA/cs 263/final_proj/val2014/COCO_val2014_000000436127.jpg\n",
            "loading: /content/drive/MyDrive/UCLA/cs 263/final_proj/val2014/COCO_val2014_000000436127.jpg\n",
            "loading: /content/drive/MyDrive/UCLA/cs 263/final_proj/val2014/COCO_val2014_000000436127.jpg\n",
            "loading: /content/drive/MyDrive/UCLA/cs 263/final_proj/val2014/COCO_val2014_000000436127.jpg\n",
            "loading: /content/drive/MyDrive/UCLA/cs 263/final_proj/val2014/COCO_val2014_000000436127.jpg\n",
            "loading: /content/drive/MyDrive/UCLA/cs 263/final_proj/val2014/COCO_val2014_000000436127.jpg\n",
            "loading: /content/drive/MyDrive/UCLA/cs 263/final_proj/val2014/COCO_val2014_000000198397.jpg\n",
            "loading: /content/drive/MyDrive/UCLA/cs 263/final_proj/val2014/COCO_val2014_000000198397.jpg\n",
            "loading: /content/drive/MyDrive/UCLA/cs 263/final_proj/val2014/COCO_val2014_000000198397.jpg\n",
            "loading: /content/drive/MyDrive/UCLA/cs 263/final_proj/val2014/COCO_val2014_000000198397.jpg\n",
            "loading: /content/drive/MyDrive/UCLA/cs 263/final_proj/val2014/COCO_val2014_000000198397.jpg\n",
            "loading: /content/drive/MyDrive/UCLA/cs 263/final_proj/val2014/COCO_val2014_000000198397.jpg\n",
            "loading: /content/drive/MyDrive/UCLA/cs 263/final_proj/val2014/COCO_val2014_000000349936.jpg\n",
            "loading: /content/drive/MyDrive/UCLA/cs 263/final_proj/val2014/COCO_val2014_000000349936.jpg\n",
            "loading: /content/drive/MyDrive/UCLA/cs 263/final_proj/val2014/COCO_val2014_000000349936.jpg\n",
            "loading: /content/drive/MyDrive/UCLA/cs 263/final_proj/val2014/COCO_val2014_000000349936.jpg\n",
            "loading: /content/drive/MyDrive/UCLA/cs 263/final_proj/val2014/COCO_val2014_000000349936.jpg\n",
            "loading: /content/drive/MyDrive/UCLA/cs 263/final_proj/val2014/COCO_val2014_000000349936.jpg\n",
            "loading: /content/drive/MyDrive/UCLA/cs 263/final_proj/val2014/COCO_val2014_000000333756.jpg\n",
            "loading: /content/drive/MyDrive/UCLA/cs 263/final_proj/val2014/COCO_val2014_000000333756.jpg\n",
            "loading: /content/drive/MyDrive/UCLA/cs 263/final_proj/val2014/COCO_val2014_000000333756.jpg\n",
            "loading: /content/drive/MyDrive/UCLA/cs 263/final_proj/val2014/COCO_val2014_000000333756.jpg\n",
            "loading: /content/drive/MyDrive/UCLA/cs 263/final_proj/val2014/COCO_val2014_000000333756.jpg\n",
            "loading: /content/drive/MyDrive/UCLA/cs 263/final_proj/val2014/COCO_val2014_000000333756.jpg\n",
            "loading: /content/drive/MyDrive/UCLA/cs 263/final_proj/val2014/COCO_val2014_000000474741.jpg\n",
            "loading: /content/drive/MyDrive/UCLA/cs 263/final_proj/val2014/COCO_val2014_000000474741.jpg\n",
            "loading: /content/drive/MyDrive/UCLA/cs 263/final_proj/val2014/COCO_val2014_000000474741.jpg\n",
            "loading: /content/drive/MyDrive/UCLA/cs 263/final_proj/val2014/COCO_val2014_000000474741.jpg\n",
            "loading: /content/drive/MyDrive/UCLA/cs 263/final_proj/val2014/COCO_val2014_000000474741.jpg\n",
            "loading: /content/drive/MyDrive/UCLA/cs 263/final_proj/val2014/COCO_val2014_000000474741.jpg\n",
            "loading: /content/drive/MyDrive/UCLA/cs 263/final_proj/val2014/COCO_val2014_000000286342.jpg\n",
            "loading: /content/drive/MyDrive/UCLA/cs 263/final_proj/val2014/COCO_val2014_000000286342.jpg\n",
            "loading: /content/drive/MyDrive/UCLA/cs 263/final_proj/val2014/COCO_val2014_000000286342.jpg\n",
            "loading: /content/drive/MyDrive/UCLA/cs 263/final_proj/val2014/COCO_val2014_000000286342.jpg\n",
            "loading: /content/drive/MyDrive/UCLA/cs 263/final_proj/val2014/COCO_val2014_000000286342.jpg\n",
            "loading: /content/drive/MyDrive/UCLA/cs 263/final_proj/val2014/COCO_val2014_000000286342.jpg\n",
            "loading: /content/drive/MyDrive/UCLA/cs 263/final_proj/val2014/COCO_val2014_000000093948.jpg\n",
            "loading: /content/drive/MyDrive/UCLA/cs 263/final_proj/val2014/COCO_val2014_000000093948.jpg\n",
            "loading: /content/drive/MyDrive/UCLA/cs 263/final_proj/val2014/COCO_val2014_000000093948.jpg\n",
            "loading: /content/drive/MyDrive/UCLA/cs 263/final_proj/val2014/COCO_val2014_000000093948.jpg\n",
            "loading: /content/drive/MyDrive/UCLA/cs 263/final_proj/val2014/COCO_val2014_000000093948.jpg\n",
            "loading: /content/drive/MyDrive/UCLA/cs 263/final_proj/val2014/COCO_val2014_000000093948.jpg\n",
            "loading: /content/drive/MyDrive/UCLA/cs 263/final_proj/val2014/COCO_val2014_000000405740.jpg\n",
            "loading: /content/drive/MyDrive/UCLA/cs 263/final_proj/val2014/COCO_val2014_000000405740.jpg\n",
            "loading: /content/drive/MyDrive/UCLA/cs 263/final_proj/val2014/COCO_val2014_000000405740.jpg\n",
            "loading: /content/drive/MyDrive/UCLA/cs 263/final_proj/val2014/COCO_val2014_000000405740.jpg\n",
            "loading: /content/drive/MyDrive/UCLA/cs 263/final_proj/val2014/COCO_val2014_000000405740.jpg\n",
            "loading: /content/drive/MyDrive/UCLA/cs 263/final_proj/val2014/COCO_val2014_000000405740.jpg\n",
            "loading: /content/drive/MyDrive/UCLA/cs 263/final_proj/val2014/COCO_val2014_000000304387.jpg\n",
            "loading: /content/drive/MyDrive/UCLA/cs 263/final_proj/val2014/COCO_val2014_000000304387.jpg\n",
            "loading: /content/drive/MyDrive/UCLA/cs 263/final_proj/val2014/COCO_val2014_000000304387.jpg\n",
            "loading: /content/drive/MyDrive/UCLA/cs 263/final_proj/val2014/COCO_val2014_000000304387.jpg\n",
            "loading: /content/drive/MyDrive/UCLA/cs 263/final_proj/val2014/COCO_val2014_000000304387.jpg\n",
            "loading: /content/drive/MyDrive/UCLA/cs 263/final_proj/val2014/COCO_val2014_000000304387.jpg\n",
            "loading: /content/drive/MyDrive/UCLA/cs 263/final_proj/val2014/COCO_val2014_000000147165.jpg\n",
            "loading: /content/drive/MyDrive/UCLA/cs 263/final_proj/val2014/COCO_val2014_000000147165.jpg\n",
            "loading: /content/drive/MyDrive/UCLA/cs 263/final_proj/val2014/COCO_val2014_000000147165.jpg\n",
            "loading: /content/drive/MyDrive/UCLA/cs 263/final_proj/val2014/COCO_val2014_000000147165.jpg\n",
            "loading: /content/drive/MyDrive/UCLA/cs 263/final_proj/val2014/COCO_val2014_000000147165.jpg\n",
            "loading: /content/drive/MyDrive/UCLA/cs 263/final_proj/val2014/COCO_val2014_000000147165.jpg\n",
            "loading: /content/drive/MyDrive/UCLA/cs 263/final_proj/val2014/COCO_val2014_000000495311.jpg\n",
            "loading: /content/drive/MyDrive/UCLA/cs 263/final_proj/val2014/COCO_val2014_000000495311.jpg\n",
            "loading: /content/drive/MyDrive/UCLA/cs 263/final_proj/val2014/COCO_val2014_000000495311.jpg\n",
            "loading: /content/drive/MyDrive/UCLA/cs 263/final_proj/val2014/COCO_val2014_000000495311.jpg\n",
            "loading: /content/drive/MyDrive/UCLA/cs 263/final_proj/val2014/COCO_val2014_000000495311.jpg\n",
            "loading: /content/drive/MyDrive/UCLA/cs 263/final_proj/val2014/COCO_val2014_000000495311.jpg\n",
            "loading: /content/drive/MyDrive/UCLA/cs 263/final_proj/val2014/COCO_val2014_000000312406.jpg\n",
            "loading: /content/drive/MyDrive/UCLA/cs 263/final_proj/val2014/COCO_val2014_000000312406.jpg\n",
            "loading: /content/drive/MyDrive/UCLA/cs 263/final_proj/val2014/COCO_val2014_000000312406.jpg\n",
            "loading: /content/drive/MyDrive/UCLA/cs 263/final_proj/val2014/COCO_val2014_000000312406.jpg\n",
            "loading: /content/drive/MyDrive/UCLA/cs 263/final_proj/val2014/COCO_val2014_000000312406.jpg\n",
            "loading: /content/drive/MyDrive/UCLA/cs 263/final_proj/val2014/COCO_val2014_000000312406.jpg\n",
            "loading: /content/drive/MyDrive/UCLA/cs 263/final_proj/val2014/COCO_val2014_000000515820.jpg\n",
            "loading: /content/drive/MyDrive/UCLA/cs 263/final_proj/val2014/COCO_val2014_000000515820.jpg\n",
            "loading: /content/drive/MyDrive/UCLA/cs 263/final_proj/val2014/COCO_val2014_000000515820.jpg\n",
            "loading: /content/drive/MyDrive/UCLA/cs 263/final_proj/val2014/COCO_val2014_000000515820.jpg\n",
            "loading: /content/drive/MyDrive/UCLA/cs 263/final_proj/val2014/COCO_val2014_000000515820.jpg\n",
            "loading: /content/drive/MyDrive/UCLA/cs 263/final_proj/val2014/COCO_val2014_000000515820.jpg\n",
            "loading: /content/drive/MyDrive/UCLA/cs 263/final_proj/val2014/COCO_val2014_000000031971.jpg\n",
            "loading: /content/drive/MyDrive/UCLA/cs 263/final_proj/val2014/COCO_val2014_000000031971.jpg\n",
            "loading: /content/drive/MyDrive/UCLA/cs 263/final_proj/val2014/COCO_val2014_000000031971.jpg\n",
            "loading: /content/drive/MyDrive/UCLA/cs 263/final_proj/val2014/COCO_val2014_000000031971.jpg\n",
            "loading: /content/drive/MyDrive/UCLA/cs 263/final_proj/val2014/COCO_val2014_000000031971.jpg\n",
            "loading: /content/drive/MyDrive/UCLA/cs 263/final_proj/val2014/COCO_val2014_000000031971.jpg\n",
            "loading: /content/drive/MyDrive/UCLA/cs 263/final_proj/val2014/COCO_val2014_000000418680.jpg\n",
            "loading: /content/drive/MyDrive/UCLA/cs 263/final_proj/val2014/COCO_val2014_000000418680.jpg\n",
            "loading: /content/drive/MyDrive/UCLA/cs 263/final_proj/val2014/COCO_val2014_000000418680.jpg\n",
            "loading: /content/drive/MyDrive/UCLA/cs 263/final_proj/val2014/COCO_val2014_000000418680.jpg\n",
            "loading: /content/drive/MyDrive/UCLA/cs 263/final_proj/val2014/COCO_val2014_000000418680.jpg\n",
            "loading: /content/drive/MyDrive/UCLA/cs 263/final_proj/val2014/COCO_val2014_000000418680.jpg\n",
            "loading: /content/drive/MyDrive/UCLA/cs 263/final_proj/val2014/COCO_val2014_000000459680.jpg\n",
            "loading: /content/drive/MyDrive/UCLA/cs 263/final_proj/val2014/COCO_val2014_000000459680.jpg\n",
            "loading: /content/drive/MyDrive/UCLA/cs 263/final_proj/val2014/COCO_val2014_000000459680.jpg\n",
            "loading: /content/drive/MyDrive/UCLA/cs 263/final_proj/val2014/COCO_val2014_000000459680.jpg\n",
            "loading: /content/drive/MyDrive/UCLA/cs 263/final_proj/val2014/COCO_val2014_000000459680.jpg\n",
            "loading: /content/drive/MyDrive/UCLA/cs 263/final_proj/val2014/COCO_val2014_000000459680.jpg\n",
            "loading: /content/drive/MyDrive/UCLA/cs 263/final_proj/val2014/COCO_val2014_000000196462.jpg\n",
            "loading: /content/drive/MyDrive/UCLA/cs 263/final_proj/val2014/COCO_val2014_000000196462.jpg\n",
            "loading: /content/drive/MyDrive/UCLA/cs 263/final_proj/val2014/COCO_val2014_000000196462.jpg\n",
            "loading: /content/drive/MyDrive/UCLA/cs 263/final_proj/val2014/COCO_val2014_000000196462.jpg\n",
            "loading: /content/drive/MyDrive/UCLA/cs 263/final_proj/val2014/COCO_val2014_000000196462.jpg\n",
            "loading: /content/drive/MyDrive/UCLA/cs 263/final_proj/val2014/COCO_val2014_000000196462.jpg\n",
            "loading: /content/drive/MyDrive/UCLA/cs 263/final_proj/val2014/COCO_val2014_000000276693.jpg\n",
            "loading: /content/drive/MyDrive/UCLA/cs 263/final_proj/val2014/COCO_val2014_000000276693.jpg\n",
            "loading: /content/drive/MyDrive/UCLA/cs 263/final_proj/val2014/COCO_val2014_000000276693.jpg\n",
            "loading: /content/drive/MyDrive/UCLA/cs 263/final_proj/val2014/COCO_val2014_000000276693.jpg\n",
            "loading: /content/drive/MyDrive/UCLA/cs 263/final_proj/val2014/COCO_val2014_000000276693.jpg\n",
            "loading: /content/drive/MyDrive/UCLA/cs 263/final_proj/val2014/COCO_val2014_000000276693.jpg\n",
            "loading: /content/drive/MyDrive/UCLA/cs 263/final_proj/val2014/COCO_val2014_000000356424.jpg\n",
            "loading: /content/drive/MyDrive/UCLA/cs 263/final_proj/val2014/COCO_val2014_000000356424.jpg\n",
            "loading: /content/drive/MyDrive/UCLA/cs 263/final_proj/val2014/COCO_val2014_000000356424.jpg\n",
            "loading: /content/drive/MyDrive/UCLA/cs 263/final_proj/val2014/COCO_val2014_000000356424.jpg\n",
            "loading: /content/drive/MyDrive/UCLA/cs 263/final_proj/val2014/COCO_val2014_000000356424.jpg\n",
            "loading: /content/drive/MyDrive/UCLA/cs 263/final_proj/val2014/COCO_val2014_000000356424.jpg\n",
            "loading: /content/drive/MyDrive/UCLA/cs 263/final_proj/val2014/COCO_val2014_000000505335.jpg\n",
            "loading: /content/drive/MyDrive/UCLA/cs 263/final_proj/val2014/COCO_val2014_000000505335.jpg\n",
            "loading: /content/drive/MyDrive/UCLA/cs 263/final_proj/val2014/COCO_val2014_000000505335.jpg\n",
            "loading: /content/drive/MyDrive/UCLA/cs 263/final_proj/val2014/COCO_val2014_000000505335.jpg\n",
            "loading: /content/drive/MyDrive/UCLA/cs 263/final_proj/val2014/COCO_val2014_000000505335.jpg\n",
            "loading: /content/drive/MyDrive/UCLA/cs 263/final_proj/val2014/COCO_val2014_000000505335.jpg\n",
            "loading: /content/drive/MyDrive/UCLA/cs 263/final_proj/val2014/COCO_val2014_000000172342.jpg\n",
            "loading: /content/drive/MyDrive/UCLA/cs 263/final_proj/val2014/COCO_val2014_000000172342.jpg\n",
            "loading: /content/drive/MyDrive/UCLA/cs 263/final_proj/val2014/COCO_val2014_000000172342.jpg\n",
            "loading: /content/drive/MyDrive/UCLA/cs 263/final_proj/val2014/COCO_val2014_000000172342.jpg\n",
            "loading: /content/drive/MyDrive/UCLA/cs 263/final_proj/val2014/COCO_val2014_000000172342.jpg\n",
            "loading: /content/drive/MyDrive/UCLA/cs 263/final_proj/val2014/COCO_val2014_000000172342.jpg\n",
            "loading: /content/drive/MyDrive/UCLA/cs 263/final_proj/val2014/COCO_val2014_000000384970.jpg\n",
            "loading: /content/drive/MyDrive/UCLA/cs 263/final_proj/val2014/COCO_val2014_000000384970.jpg\n",
            "loading: /content/drive/MyDrive/UCLA/cs 263/final_proj/val2014/COCO_val2014_000000384970.jpg\n",
            "loading: /content/drive/MyDrive/UCLA/cs 263/final_proj/val2014/COCO_val2014_000000384970.jpg\n",
            "loading: /content/drive/MyDrive/UCLA/cs 263/final_proj/val2014/COCO_val2014_000000384970.jpg\n",
            "loading: /content/drive/MyDrive/UCLA/cs 263/final_proj/val2014/COCO_val2014_000000384970.jpg\n",
            "loading: /content/drive/MyDrive/UCLA/cs 263/final_proj/val2014/COCO_val2014_000000572260.jpg\n",
            "loading: /content/drive/MyDrive/UCLA/cs 263/final_proj/val2014/COCO_val2014_000000572260.jpg\n",
            "loading: /content/drive/MyDrive/UCLA/cs 263/final_proj/val2014/COCO_val2014_000000572260.jpg\n",
            "loading: /content/drive/MyDrive/UCLA/cs 263/final_proj/val2014/COCO_val2014_000000572260.jpg\n",
            "loading: /content/drive/MyDrive/UCLA/cs 263/final_proj/val2014/COCO_val2014_000000572260.jpg\n",
            "loading: /content/drive/MyDrive/UCLA/cs 263/final_proj/val2014/COCO_val2014_000000572260.jpg\n",
            "loading: /content/drive/MyDrive/UCLA/cs 263/final_proj/val2014/COCO_val2014_000000418471.jpg\n",
            "loading: /content/drive/MyDrive/UCLA/cs 263/final_proj/val2014/COCO_val2014_000000418471.jpg\n",
            "loading: /content/drive/MyDrive/UCLA/cs 263/final_proj/val2014/COCO_val2014_000000418471.jpg\n",
            "loading: /content/drive/MyDrive/UCLA/cs 263/final_proj/val2014/COCO_val2014_000000418471.jpg\n",
            "loading: /content/drive/MyDrive/UCLA/cs 263/final_proj/val2014/COCO_val2014_000000418471.jpg\n",
            "loading: /content/drive/MyDrive/UCLA/cs 263/final_proj/val2014/COCO_val2014_000000418471.jpg\n",
            "loading: /content/drive/MyDrive/UCLA/cs 263/final_proj/val2014/COCO_val2014_000000379404.jpg\n",
            "loading: /content/drive/MyDrive/UCLA/cs 263/final_proj/val2014/COCO_val2014_000000379404.jpg\n",
            "loading: /content/drive/MyDrive/UCLA/cs 263/final_proj/val2014/COCO_val2014_000000379404.jpg\n",
            "loading: /content/drive/MyDrive/UCLA/cs 263/final_proj/val2014/COCO_val2014_000000379404.jpg\n",
            "loading: /content/drive/MyDrive/UCLA/cs 263/final_proj/val2014/COCO_val2014_000000379404.jpg\n",
            "loading: /content/drive/MyDrive/UCLA/cs 263/final_proj/val2014/COCO_val2014_000000379404.jpg\n",
            "loading: /content/drive/MyDrive/UCLA/cs 263/final_proj/val2014/COCO_val2014_000000044801.jpg\n",
            "loading: /content/drive/MyDrive/UCLA/cs 263/final_proj/val2014/COCO_val2014_000000044801.jpg\n",
            "loading: /content/drive/MyDrive/UCLA/cs 263/final_proj/val2014/COCO_val2014_000000044801.jpg\n",
            "loading: /content/drive/MyDrive/UCLA/cs 263/final_proj/val2014/COCO_val2014_000000044801.jpg\n",
            "loading: /content/drive/MyDrive/UCLA/cs 263/final_proj/val2014/COCO_val2014_000000044801.jpg\n",
            "loading: /content/drive/MyDrive/UCLA/cs 263/final_proj/val2014/COCO_val2014_000000044801.jpg\n",
            "loading: /content/drive/MyDrive/UCLA/cs 263/final_proj/val2014/COCO_val2014_000000293564.jpg\n",
            "loading: /content/drive/MyDrive/UCLA/cs 263/final_proj/val2014/COCO_val2014_000000293564.jpg\n",
            "loading: /content/drive/MyDrive/UCLA/cs 263/final_proj/val2014/COCO_val2014_000000293564.jpg\n",
            "loading: /content/drive/MyDrive/UCLA/cs 263/final_proj/val2014/COCO_val2014_000000293564.jpg\n",
            "loading: /content/drive/MyDrive/UCLA/cs 263/final_proj/val2014/COCO_val2014_000000293564.jpg\n",
            "loading: /content/drive/MyDrive/UCLA/cs 263/final_proj/val2014/COCO_val2014_000000293564.jpg\n",
            "loading: /content/drive/MyDrive/UCLA/cs 263/final_proj/val2014/COCO_val2014_000000452297.jpg\n",
            "loading: /content/drive/MyDrive/UCLA/cs 263/final_proj/val2014/COCO_val2014_000000452297.jpg\n",
            "loading: /content/drive/MyDrive/UCLA/cs 263/final_proj/val2014/COCO_val2014_000000452297.jpg\n",
            "loading: /content/drive/MyDrive/UCLA/cs 263/final_proj/val2014/COCO_val2014_000000452297.jpg\n",
            "loading: /content/drive/MyDrive/UCLA/cs 263/final_proj/val2014/COCO_val2014_000000452297.jpg\n",
            "loading: /content/drive/MyDrive/UCLA/cs 263/final_proj/val2014/COCO_val2014_000000452297.jpg\n",
            "loading: /content/drive/MyDrive/UCLA/cs 263/final_proj/val2014/COCO_val2014_000000543393.jpg\n",
            "loading: /content/drive/MyDrive/UCLA/cs 263/final_proj/val2014/COCO_val2014_000000543393.jpg\n",
            "loading: /content/drive/MyDrive/UCLA/cs 263/final_proj/val2014/COCO_val2014_000000543393.jpg\n",
            "loading: /content/drive/MyDrive/UCLA/cs 263/final_proj/val2014/COCO_val2014_000000543393.jpg\n",
            "loading: /content/drive/MyDrive/UCLA/cs 263/final_proj/val2014/COCO_val2014_000000543393.jpg\n",
            "loading: /content/drive/MyDrive/UCLA/cs 263/final_proj/val2014/COCO_val2014_000000543393.jpg\n",
            "loading: /content/drive/MyDrive/UCLA/cs 263/final_proj/val2014/COCO_val2014_000000172648.jpg\n",
            "loading: /content/drive/MyDrive/UCLA/cs 263/final_proj/val2014/COCO_val2014_000000172648.jpg\n",
            "loading: /content/drive/MyDrive/UCLA/cs 263/final_proj/val2014/COCO_val2014_000000172648.jpg\n",
            "loading: /content/drive/MyDrive/UCLA/cs 263/final_proj/val2014/COCO_val2014_000000172648.jpg\n",
            "loading: /content/drive/MyDrive/UCLA/cs 263/final_proj/val2014/COCO_val2014_000000172648.jpg\n",
            "loading: /content/drive/MyDrive/UCLA/cs 263/final_proj/val2014/COCO_val2014_000000172648.jpg\n",
            "loading: /content/drive/MyDrive/UCLA/cs 263/final_proj/val2014/COCO_val2014_000000308907.jpg\n",
            "loading: /content/drive/MyDrive/UCLA/cs 263/final_proj/val2014/COCO_val2014_000000308907.jpg\n",
            "loading: /content/drive/MyDrive/UCLA/cs 263/final_proj/val2014/COCO_val2014_000000308907.jpg\n",
            "loading: /content/drive/MyDrive/UCLA/cs 263/final_proj/val2014/COCO_val2014_000000308907.jpg\n",
            "loading: /content/drive/MyDrive/UCLA/cs 263/final_proj/val2014/COCO_val2014_000000308907.jpg\n",
            "loading: /content/drive/MyDrive/UCLA/cs 263/final_proj/val2014/COCO_val2014_000000308907.jpg\n",
            "loading: /content/drive/MyDrive/UCLA/cs 263/final_proj/val2014/COCO_val2014_000000263594.jpg\n",
            "loading: /content/drive/MyDrive/UCLA/cs 263/final_proj/val2014/COCO_val2014_000000263594.jpg\n",
            "loading: /content/drive/MyDrive/UCLA/cs 263/final_proj/val2014/COCO_val2014_000000263594.jpg\n",
            "loading: /content/drive/MyDrive/UCLA/cs 263/final_proj/val2014/COCO_val2014_000000263594.jpg\n",
            "loading: /content/drive/MyDrive/UCLA/cs 263/final_proj/val2014/COCO_val2014_000000263594.jpg\n",
            "loading: /content/drive/MyDrive/UCLA/cs 263/final_proj/val2014/COCO_val2014_000000263594.jpg\n",
            "loading: /content/drive/MyDrive/UCLA/cs 263/final_proj/val2014/COCO_val2014_000000501294.jpg\n",
            "loading: /content/drive/MyDrive/UCLA/cs 263/final_proj/val2014/COCO_val2014_000000501294.jpg\n",
            "loading: /content/drive/MyDrive/UCLA/cs 263/final_proj/val2014/COCO_val2014_000000501294.jpg\n",
            "loading: /content/drive/MyDrive/UCLA/cs 263/final_proj/val2014/COCO_val2014_000000501294.jpg\n",
            "loading: /content/drive/MyDrive/UCLA/cs 263/final_proj/val2014/COCO_val2014_000000501294.jpg\n",
            "loading: /content/drive/MyDrive/UCLA/cs 263/final_proj/val2014/COCO_val2014_000000501294.jpg\n",
            "loading: /content/drive/MyDrive/UCLA/cs 263/final_proj/val2014/COCO_val2014_000000500680.jpg\n",
            "loading: /content/drive/MyDrive/UCLA/cs 263/final_proj/val2014/COCO_val2014_000000500680.jpg\n",
            "loading: /content/drive/MyDrive/UCLA/cs 263/final_proj/val2014/COCO_val2014_000000500680.jpg\n",
            "loading: /content/drive/MyDrive/UCLA/cs 263/final_proj/val2014/COCO_val2014_000000500680.jpg\n",
            "loading: /content/drive/MyDrive/UCLA/cs 263/final_proj/val2014/COCO_val2014_000000500680.jpg\n",
            "loading: /content/drive/MyDrive/UCLA/cs 263/final_proj/val2014/COCO_val2014_000000500680.jpg\n",
            "loading: /content/drive/MyDrive/UCLA/cs 263/final_proj/val2014/COCO_val2014_000000091954.jpg\n",
            "loading: /content/drive/MyDrive/UCLA/cs 263/final_proj/val2014/COCO_val2014_000000091954.jpg\n",
            "loading: /content/drive/MyDrive/UCLA/cs 263/final_proj/val2014/COCO_val2014_000000091954.jpg\n",
            "loading: /content/drive/MyDrive/UCLA/cs 263/final_proj/val2014/COCO_val2014_000000091954.jpg\n",
            "loading: /content/drive/MyDrive/UCLA/cs 263/final_proj/val2014/COCO_val2014_000000091954.jpg\n",
            "loading: /content/drive/MyDrive/UCLA/cs 263/final_proj/val2014/COCO_val2014_000000091954.jpg\n",
            "loading: /content/drive/MyDrive/UCLA/cs 263/final_proj/val2014/COCO_val2014_000000454607.jpg\n",
            "loading: /content/drive/MyDrive/UCLA/cs 263/final_proj/val2014/COCO_val2014_000000454607.jpg\n",
            "loading: /content/drive/MyDrive/UCLA/cs 263/final_proj/val2014/COCO_val2014_000000454607.jpg\n",
            "loading: /content/drive/MyDrive/UCLA/cs 263/final_proj/val2014/COCO_val2014_000000454607.jpg\n",
            "loading: /content/drive/MyDrive/UCLA/cs 263/final_proj/val2014/COCO_val2014_000000454607.jpg\n",
            "loading: /content/drive/MyDrive/UCLA/cs 263/final_proj/val2014/COCO_val2014_000000454607.jpg\n",
            "loading: /content/drive/MyDrive/UCLA/cs 263/final_proj/val2014/COCO_val2014_000000363908.jpg\n",
            "loading: /content/drive/MyDrive/UCLA/cs 263/final_proj/val2014/COCO_val2014_000000363908.jpg\n",
            "loading: /content/drive/MyDrive/UCLA/cs 263/final_proj/val2014/COCO_val2014_000000363908.jpg\n",
            "loading: /content/drive/MyDrive/UCLA/cs 263/final_proj/val2014/COCO_val2014_000000363908.jpg\n",
            "loading: /content/drive/MyDrive/UCLA/cs 263/final_proj/val2014/COCO_val2014_000000363908.jpg\n",
            "loading: /content/drive/MyDrive/UCLA/cs 263/final_proj/val2014/COCO_val2014_000000363908.jpg\n",
            "loading: /content/drive/MyDrive/UCLA/cs 263/final_proj/val2014/COCO_val2014_000000560064.jpg\n",
            "loading: /content/drive/MyDrive/UCLA/cs 263/final_proj/val2014/COCO_val2014_000000560064.jpg\n",
            "loading: /content/drive/MyDrive/UCLA/cs 263/final_proj/val2014/COCO_val2014_000000560064.jpg\n",
            "loading: /content/drive/MyDrive/UCLA/cs 263/final_proj/val2014/COCO_val2014_000000560064.jpg\n",
            "loading: /content/drive/MyDrive/UCLA/cs 263/final_proj/val2014/COCO_val2014_000000560064.jpg\n",
            "loading: /content/drive/MyDrive/UCLA/cs 263/final_proj/val2014/COCO_val2014_000000560064.jpg\n",
            "loading: /content/drive/MyDrive/UCLA/cs 263/final_proj/val2014/COCO_val2014_000000348469.jpg\n",
            "loading: /content/drive/MyDrive/UCLA/cs 263/final_proj/val2014/COCO_val2014_000000348469.jpg\n",
            "loading: /content/drive/MyDrive/UCLA/cs 263/final_proj/val2014/COCO_val2014_000000348469.jpg\n",
            "loading: /content/drive/MyDrive/UCLA/cs 263/final_proj/val2014/COCO_val2014_000000348469.jpg\n",
            "loading: /content/drive/MyDrive/UCLA/cs 263/final_proj/val2014/COCO_val2014_000000348469.jpg\n",
            "loading: /content/drive/MyDrive/UCLA/cs 263/final_proj/val2014/COCO_val2014_000000348469.jpg\n",
            "loading: /content/drive/MyDrive/UCLA/cs 263/final_proj/val2014/COCO_val2014_000000167724.jpg\n",
            "loading: /content/drive/MyDrive/UCLA/cs 263/final_proj/val2014/COCO_val2014_000000167724.jpg\n",
            "loading: /content/drive/MyDrive/UCLA/cs 263/final_proj/val2014/COCO_val2014_000000167724.jpg\n",
            "loading: /content/drive/MyDrive/UCLA/cs 263/final_proj/val2014/COCO_val2014_000000167724.jpg\n",
            "loading: /content/drive/MyDrive/UCLA/cs 263/final_proj/val2014/COCO_val2014_000000167724.jpg\n",
            "loading: /content/drive/MyDrive/UCLA/cs 263/final_proj/val2014/COCO_val2014_000000167724.jpg\n",
            "loading: /content/drive/MyDrive/UCLA/cs 263/final_proj/val2014/COCO_val2014_000000262736.jpg\n",
            "loading: /content/drive/MyDrive/UCLA/cs 263/final_proj/val2014/COCO_val2014_000000262736.jpg\n",
            "loading: /content/drive/MyDrive/UCLA/cs 263/final_proj/val2014/COCO_val2014_000000262736.jpg\n",
            "loading: /content/drive/MyDrive/UCLA/cs 263/final_proj/val2014/COCO_val2014_000000262736.jpg\n",
            "loading: /content/drive/MyDrive/UCLA/cs 263/final_proj/val2014/COCO_val2014_000000262736.jpg\n",
            "loading: /content/drive/MyDrive/UCLA/cs 263/final_proj/val2014/COCO_val2014_000000262736.jpg\n",
            "loading: /content/drive/MyDrive/UCLA/cs 263/final_proj/val2014/COCO_val2014_000000076416.jpg\n",
            "loading: /content/drive/MyDrive/UCLA/cs 263/final_proj/val2014/COCO_val2014_000000076416.jpg\n",
            "loading: /content/drive/MyDrive/UCLA/cs 263/final_proj/val2014/COCO_val2014_000000076416.jpg\n",
            "loading: /content/drive/MyDrive/UCLA/cs 263/final_proj/val2014/COCO_val2014_000000076416.jpg\n",
            "loading: /content/drive/MyDrive/UCLA/cs 263/final_proj/val2014/COCO_val2014_000000076416.jpg\n",
            "loading: /content/drive/MyDrive/UCLA/cs 263/final_proj/val2014/COCO_val2014_000000076416.jpg\n",
            "loading: /content/drive/MyDrive/UCLA/cs 263/final_proj/val2014/COCO_val2014_000000541783.jpg\n",
            "loading: /content/drive/MyDrive/UCLA/cs 263/final_proj/val2014/COCO_val2014_000000541783.jpg\n",
            "loading: /content/drive/MyDrive/UCLA/cs 263/final_proj/val2014/COCO_val2014_000000541783.jpg\n",
            "loading: /content/drive/MyDrive/UCLA/cs 263/final_proj/val2014/COCO_val2014_000000541783.jpg\n",
            "loading: /content/drive/MyDrive/UCLA/cs 263/final_proj/val2014/COCO_val2014_000000541783.jpg\n",
            "loading: /content/drive/MyDrive/UCLA/cs 263/final_proj/val2014/COCO_val2014_000000541783.jpg\n",
            "loading: /content/drive/MyDrive/UCLA/cs 263/final_proj/val2014/COCO_val2014_000000445200.jpg\n",
            "loading: /content/drive/MyDrive/UCLA/cs 263/final_proj/val2014/COCO_val2014_000000445200.jpg\n",
            "loading: /content/drive/MyDrive/UCLA/cs 263/final_proj/val2014/COCO_val2014_000000445200.jpg\n",
            "loading: /content/drive/MyDrive/UCLA/cs 263/final_proj/val2014/COCO_val2014_000000445200.jpg\n",
            "loading: /content/drive/MyDrive/UCLA/cs 263/final_proj/val2014/COCO_val2014_000000445200.jpg\n",
            "loading: /content/drive/MyDrive/UCLA/cs 263/final_proj/val2014/COCO_val2014_000000445200.jpg\n",
            "loading: /content/drive/MyDrive/UCLA/cs 263/final_proj/val2014/COCO_val2014_000000433574.jpg\n",
            "loading: /content/drive/MyDrive/UCLA/cs 263/final_proj/val2014/COCO_val2014_000000433574.jpg\n",
            "loading: /content/drive/MyDrive/UCLA/cs 263/final_proj/val2014/COCO_val2014_000000433574.jpg\n",
            "loading: /content/drive/MyDrive/UCLA/cs 263/final_proj/val2014/COCO_val2014_000000433574.jpg\n",
            "loading: /content/drive/MyDrive/UCLA/cs 263/final_proj/val2014/COCO_val2014_000000433574.jpg\n",
            "loading: /content/drive/MyDrive/UCLA/cs 263/final_proj/val2014/COCO_val2014_000000433574.jpg\n",
            "loading: /content/drive/MyDrive/UCLA/cs 263/final_proj/val2014/COCO_val2014_000000212241.jpg\n",
            "loading: /content/drive/MyDrive/UCLA/cs 263/final_proj/val2014/COCO_val2014_000000212241.jpg\n",
            "loading: /content/drive/MyDrive/UCLA/cs 263/final_proj/val2014/COCO_val2014_000000212241.jpg\n",
            "loading: /content/drive/MyDrive/UCLA/cs 263/final_proj/val2014/COCO_val2014_000000212241.jpg\n",
            "loading: /content/drive/MyDrive/UCLA/cs 263/final_proj/val2014/COCO_val2014_000000212241.jpg\n",
            "loading: /content/drive/MyDrive/UCLA/cs 263/final_proj/val2014/COCO_val2014_000000212241.jpg\n",
            "loading: /content/drive/MyDrive/UCLA/cs 263/final_proj/val2014/COCO_val2014_000000114941.jpg\n",
            "loading: /content/drive/MyDrive/UCLA/cs 263/final_proj/val2014/COCO_val2014_000000114941.jpg\n",
            "loading: /content/drive/MyDrive/UCLA/cs 263/final_proj/val2014/COCO_val2014_000000114941.jpg\n",
            "loading: /content/drive/MyDrive/UCLA/cs 263/final_proj/val2014/COCO_val2014_000000114941.jpg\n",
            "loading: /content/drive/MyDrive/UCLA/cs 263/final_proj/val2014/COCO_val2014_000000114941.jpg\n",
            "loading: /content/drive/MyDrive/UCLA/cs 263/final_proj/val2014/COCO_val2014_000000114941.jpg\n",
            "loading: /content/drive/MyDrive/UCLA/cs 263/final_proj/val2014/COCO_val2014_000000493753.jpg\n",
            "loading: /content/drive/MyDrive/UCLA/cs 263/final_proj/val2014/COCO_val2014_000000493753.jpg\n",
            "loading: /content/drive/MyDrive/UCLA/cs 263/final_proj/val2014/COCO_val2014_000000493753.jpg\n",
            "loading: /content/drive/MyDrive/UCLA/cs 263/final_proj/val2014/COCO_val2014_000000493753.jpg\n",
            "loading: /content/drive/MyDrive/UCLA/cs 263/final_proj/val2014/COCO_val2014_000000493753.jpg\n",
            "loading: /content/drive/MyDrive/UCLA/cs 263/final_proj/val2014/COCO_val2014_000000493753.jpg\n",
            "loading: /content/drive/MyDrive/UCLA/cs 263/final_proj/val2014/COCO_val2014_000000410597.jpg\n",
            "loading: /content/drive/MyDrive/UCLA/cs 263/final_proj/val2014/COCO_val2014_000000410597.jpg\n",
            "loading: /content/drive/MyDrive/UCLA/cs 263/final_proj/val2014/COCO_val2014_000000410597.jpg\n",
            "loading: /content/drive/MyDrive/UCLA/cs 263/final_proj/val2014/COCO_val2014_000000410597.jpg\n",
            "loading: /content/drive/MyDrive/UCLA/cs 263/final_proj/val2014/COCO_val2014_000000410597.jpg\n",
            "loading: /content/drive/MyDrive/UCLA/cs 263/final_proj/val2014/COCO_val2014_000000410597.jpg\n",
            "loading: /content/drive/MyDrive/UCLA/cs 263/final_proj/val2014/COCO_val2014_000000382617.jpg\n",
            "loading: /content/drive/MyDrive/UCLA/cs 263/final_proj/val2014/COCO_val2014_000000382617.jpg\n",
            "loading: /content/drive/MyDrive/UCLA/cs 263/final_proj/val2014/COCO_val2014_000000382617.jpg\n",
            "loading: /content/drive/MyDrive/UCLA/cs 263/final_proj/val2014/COCO_val2014_000000382617.jpg\n",
            "loading: /content/drive/MyDrive/UCLA/cs 263/final_proj/val2014/COCO_val2014_000000382617.jpg\n",
            "loading: /content/drive/MyDrive/UCLA/cs 263/final_proj/val2014/COCO_val2014_000000382617.jpg\n",
            "loading: /content/drive/MyDrive/UCLA/cs 263/final_proj/val2014/COCO_val2014_000000467887.jpg\n",
            "loading: /content/drive/MyDrive/UCLA/cs 263/final_proj/val2014/COCO_val2014_000000467887.jpg\n",
            "loading: /content/drive/MyDrive/UCLA/cs 263/final_proj/val2014/COCO_val2014_000000467887.jpg\n",
            "loading: /content/drive/MyDrive/UCLA/cs 263/final_proj/val2014/COCO_val2014_000000467887.jpg\n",
            "loading: /content/drive/MyDrive/UCLA/cs 263/final_proj/val2014/COCO_val2014_000000467887.jpg\n",
            "loading: /content/drive/MyDrive/UCLA/cs 263/final_proj/val2014/COCO_val2014_000000467887.jpg\n",
            "loading: /content/drive/MyDrive/UCLA/cs 263/final_proj/val2014/COCO_val2014_000000120792.jpg\n",
            "loading: /content/drive/MyDrive/UCLA/cs 263/final_proj/val2014/COCO_val2014_000000120792.jpg\n",
            "loading: /content/drive/MyDrive/UCLA/cs 263/final_proj/val2014/COCO_val2014_000000120792.jpg\n",
            "loading: /content/drive/MyDrive/UCLA/cs 263/final_proj/val2014/COCO_val2014_000000120792.jpg\n",
            "loading: /content/drive/MyDrive/UCLA/cs 263/final_proj/val2014/COCO_val2014_000000120792.jpg\n",
            "loading: /content/drive/MyDrive/UCLA/cs 263/final_proj/val2014/COCO_val2014_000000120792.jpg\n",
            "loading: /content/drive/MyDrive/UCLA/cs 263/final_proj/val2014/COCO_val2014_000000125524.jpg\n",
            "loading: /content/drive/MyDrive/UCLA/cs 263/final_proj/val2014/COCO_val2014_000000125524.jpg\n",
            "loading: /content/drive/MyDrive/UCLA/cs 263/final_proj/val2014/COCO_val2014_000000125524.jpg\n",
            "loading: /content/drive/MyDrive/UCLA/cs 263/final_proj/val2014/COCO_val2014_000000125524.jpg\n",
            "loading: /content/drive/MyDrive/UCLA/cs 263/final_proj/val2014/COCO_val2014_000000125524.jpg\n",
            "loading: /content/drive/MyDrive/UCLA/cs 263/final_proj/val2014/COCO_val2014_000000125524.jpg\n",
            "loading: /content/drive/MyDrive/UCLA/cs 263/final_proj/val2014/COCO_val2014_000000196053.jpg\n",
            "loading: /content/drive/MyDrive/UCLA/cs 263/final_proj/val2014/COCO_val2014_000000196053.jpg\n",
            "loading: /content/drive/MyDrive/UCLA/cs 263/final_proj/val2014/COCO_val2014_000000196053.jpg\n",
            "loading: /content/drive/MyDrive/UCLA/cs 263/final_proj/val2014/COCO_val2014_000000196053.jpg\n",
            "loading: /content/drive/MyDrive/UCLA/cs 263/final_proj/val2014/COCO_val2014_000000196053.jpg\n",
            "loading: /content/drive/MyDrive/UCLA/cs 263/final_proj/val2014/COCO_val2014_000000196053.jpg\n",
            "loading: /content/drive/MyDrive/UCLA/cs 263/final_proj/val2014/COCO_val2014_000000156704.jpg\n",
            "loading: /content/drive/MyDrive/UCLA/cs 263/final_proj/val2014/COCO_val2014_000000156704.jpg\n",
            "loading: /content/drive/MyDrive/UCLA/cs 263/final_proj/val2014/COCO_val2014_000000156704.jpg\n",
            "loading: /content/drive/MyDrive/UCLA/cs 263/final_proj/val2014/COCO_val2014_000000156704.jpg\n",
            "loading: /content/drive/MyDrive/UCLA/cs 263/final_proj/val2014/COCO_val2014_000000156704.jpg\n",
            "loading: /content/drive/MyDrive/UCLA/cs 263/final_proj/val2014/COCO_val2014_000000156704.jpg\n",
            "loading: /content/drive/MyDrive/UCLA/cs 263/final_proj/val2014/COCO_val2014_000000088507.jpg\n",
            "loading: /content/drive/MyDrive/UCLA/cs 263/final_proj/val2014/COCO_val2014_000000088507.jpg\n",
            "loading: /content/drive/MyDrive/UCLA/cs 263/final_proj/val2014/COCO_val2014_000000088507.jpg\n",
            "loading: /content/drive/MyDrive/UCLA/cs 263/final_proj/val2014/COCO_val2014_000000088507.jpg\n",
            "loading: /content/drive/MyDrive/UCLA/cs 263/final_proj/val2014/COCO_val2014_000000088507.jpg\n",
            "loading: /content/drive/MyDrive/UCLA/cs 263/final_proj/val2014/COCO_val2014_000000088507.jpg\n",
            "loading: /content/drive/MyDrive/UCLA/cs 263/final_proj/val2014/COCO_val2014_000000279499.jpg\n",
            "loading: /content/drive/MyDrive/UCLA/cs 263/final_proj/val2014/COCO_val2014_000000279499.jpg\n",
            "loading: /content/drive/MyDrive/UCLA/cs 263/final_proj/val2014/COCO_val2014_000000279499.jpg\n",
            "loading: /content/drive/MyDrive/UCLA/cs 263/final_proj/val2014/COCO_val2014_000000279499.jpg\n",
            "loading: /content/drive/MyDrive/UCLA/cs 263/final_proj/val2014/COCO_val2014_000000279499.jpg\n",
            "loading: /content/drive/MyDrive/UCLA/cs 263/final_proj/val2014/COCO_val2014_000000279499.jpg\n",
            "loading: /content/drive/MyDrive/UCLA/cs 263/final_proj/val2014/COCO_val2014_000000155131.jpg\n",
            "loading: /content/drive/MyDrive/UCLA/cs 263/final_proj/val2014/COCO_val2014_000000155131.jpg\n",
            "loading: /content/drive/MyDrive/UCLA/cs 263/final_proj/val2014/COCO_val2014_000000155131.jpg\n",
            "loading: /content/drive/MyDrive/UCLA/cs 263/final_proj/val2014/COCO_val2014_000000155131.jpg\n",
            "loading: /content/drive/MyDrive/UCLA/cs 263/final_proj/val2014/COCO_val2014_000000155131.jpg\n",
            "loading: /content/drive/MyDrive/UCLA/cs 263/final_proj/val2014/COCO_val2014_000000155131.jpg\n",
            "loading: /content/drive/MyDrive/UCLA/cs 263/final_proj/val2014/COCO_val2014_000000252135.jpg\n",
            "loading: /content/drive/MyDrive/UCLA/cs 263/final_proj/val2014/COCO_val2014_000000252135.jpg\n",
            "loading: /content/drive/MyDrive/UCLA/cs 263/final_proj/val2014/COCO_val2014_000000252135.jpg\n",
            "loading: /content/drive/MyDrive/UCLA/cs 263/final_proj/val2014/COCO_val2014_000000252135.jpg\n",
            "loading: /content/drive/MyDrive/UCLA/cs 263/final_proj/val2014/COCO_val2014_000000252135.jpg\n",
            "loading: /content/drive/MyDrive/UCLA/cs 263/final_proj/val2014/COCO_val2014_000000252135.jpg\n",
            "loading: /content/drive/MyDrive/UCLA/cs 263/final_proj/val2014/COCO_val2014_000000501652.jpg\n",
            "loading: /content/drive/MyDrive/UCLA/cs 263/final_proj/val2014/COCO_val2014_000000501652.jpg\n",
            "loading: /content/drive/MyDrive/UCLA/cs 263/final_proj/val2014/COCO_val2014_000000501652.jpg\n",
            "loading: /content/drive/MyDrive/UCLA/cs 263/final_proj/val2014/COCO_val2014_000000501652.jpg\n",
            "loading: /content/drive/MyDrive/UCLA/cs 263/final_proj/val2014/COCO_val2014_000000501652.jpg\n",
            "loading: /content/drive/MyDrive/UCLA/cs 263/final_proj/val2014/COCO_val2014_000000501652.jpg\n",
            "loading: /content/drive/MyDrive/UCLA/cs 263/final_proj/val2014/COCO_val2014_000000238691.jpg\n",
            "loading: /content/drive/MyDrive/UCLA/cs 263/final_proj/val2014/COCO_val2014_000000238691.jpg\n",
            "loading: /content/drive/MyDrive/UCLA/cs 263/final_proj/val2014/COCO_val2014_000000238691.jpg\n",
            "loading: /content/drive/MyDrive/UCLA/cs 263/final_proj/val2014/COCO_val2014_000000238691.jpg\n",
            "loading: /content/drive/MyDrive/UCLA/cs 263/final_proj/val2014/COCO_val2014_000000238691.jpg\n",
            "loading: /content/drive/MyDrive/UCLA/cs 263/final_proj/val2014/COCO_val2014_000000238691.jpg\n",
            "loading: /content/drive/MyDrive/UCLA/cs 263/final_proj/val2014/COCO_val2014_000000332908.jpg\n",
            "loading: /content/drive/MyDrive/UCLA/cs 263/final_proj/val2014/COCO_val2014_000000332908.jpg\n",
            "loading: /content/drive/MyDrive/UCLA/cs 263/final_proj/val2014/COCO_val2014_000000332908.jpg\n",
            "loading: /content/drive/MyDrive/UCLA/cs 263/final_proj/val2014/COCO_val2014_000000332908.jpg\n",
            "loading: /content/drive/MyDrive/UCLA/cs 263/final_proj/val2014/COCO_val2014_000000332908.jpg\n",
            "loading: /content/drive/MyDrive/UCLA/cs 263/final_proj/val2014/COCO_val2014_000000332908.jpg\n",
            "loading: /content/drive/MyDrive/UCLA/cs 263/final_proj/val2014/COCO_val2014_000000372819.jpg\n",
            "loading: /content/drive/MyDrive/UCLA/cs 263/final_proj/val2014/COCO_val2014_000000372819.jpg\n",
            "loading: /content/drive/MyDrive/UCLA/cs 263/final_proj/val2014/COCO_val2014_000000372819.jpg\n",
            "loading: /content/drive/MyDrive/UCLA/cs 263/final_proj/val2014/COCO_val2014_000000372819.jpg\n",
            "loading: /content/drive/MyDrive/UCLA/cs 263/final_proj/val2014/COCO_val2014_000000372819.jpg\n",
            "loading: /content/drive/MyDrive/UCLA/cs 263/final_proj/val2014/COCO_val2014_000000372819.jpg\n",
            "loading: /content/drive/MyDrive/UCLA/cs 263/final_proj/val2014/COCO_val2014_000000470699.jpg\n",
            "loading: /content/drive/MyDrive/UCLA/cs 263/final_proj/val2014/COCO_val2014_000000470699.jpg\n",
            "loading: /content/drive/MyDrive/UCLA/cs 263/final_proj/val2014/COCO_val2014_000000470699.jpg\n",
            "loading: /content/drive/MyDrive/UCLA/cs 263/final_proj/val2014/COCO_val2014_000000470699.jpg\n",
            "loading: /content/drive/MyDrive/UCLA/cs 263/final_proj/val2014/COCO_val2014_000000470699.jpg\n",
            "loading: /content/drive/MyDrive/UCLA/cs 263/final_proj/val2014/COCO_val2014_000000470699.jpg\n",
            "loading: /content/drive/MyDrive/UCLA/cs 263/final_proj/val2014/COCO_val2014_000000023084.jpg\n",
            "loading: /content/drive/MyDrive/UCLA/cs 263/final_proj/val2014/COCO_val2014_000000023084.jpg\n",
            "loading: /content/drive/MyDrive/UCLA/cs 263/final_proj/val2014/COCO_val2014_000000023084.jpg\n",
            "loading: /content/drive/MyDrive/UCLA/cs 263/final_proj/val2014/COCO_val2014_000000023084.jpg\n",
            "loading: /content/drive/MyDrive/UCLA/cs 263/final_proj/val2014/COCO_val2014_000000023084.jpg\n",
            "loading: /content/drive/MyDrive/UCLA/cs 263/final_proj/val2014/COCO_val2014_000000023084.jpg\n",
            "loading: /content/drive/MyDrive/UCLA/cs 263/final_proj/val2014/COCO_val2014_000000545353.jpg\n",
            "loading: /content/drive/MyDrive/UCLA/cs 263/final_proj/val2014/COCO_val2014_000000545353.jpg\n",
            "loading: /content/drive/MyDrive/UCLA/cs 263/final_proj/val2014/COCO_val2014_000000545353.jpg\n",
            "loading: /content/drive/MyDrive/UCLA/cs 263/final_proj/val2014/COCO_val2014_000000545353.jpg\n",
            "loading: /content/drive/MyDrive/UCLA/cs 263/final_proj/val2014/COCO_val2014_000000545353.jpg\n",
            "loading: /content/drive/MyDrive/UCLA/cs 263/final_proj/val2014/COCO_val2014_000000545353.jpg\n",
            "loading: /content/drive/MyDrive/UCLA/cs 263/final_proj/val2014/COCO_val2014_000000394535.jpg\n",
            "loading: /content/drive/MyDrive/UCLA/cs 263/final_proj/val2014/COCO_val2014_000000394535.jpg\n",
            "loading: /content/drive/MyDrive/UCLA/cs 263/final_proj/val2014/COCO_val2014_000000394535.jpg\n",
            "loading: /content/drive/MyDrive/UCLA/cs 263/final_proj/val2014/COCO_val2014_000000394535.jpg\n",
            "loading: /content/drive/MyDrive/UCLA/cs 263/final_proj/val2014/COCO_val2014_000000394535.jpg\n",
            "loading: /content/drive/MyDrive/UCLA/cs 263/final_proj/val2014/COCO_val2014_000000394535.jpg\n",
            "loading: /content/drive/MyDrive/UCLA/cs 263/final_proj/val2014/COCO_val2014_000000579415.jpg\n",
            "loading: /content/drive/MyDrive/UCLA/cs 263/final_proj/val2014/COCO_val2014_000000579415.jpg\n",
            "loading: /content/drive/MyDrive/UCLA/cs 263/final_proj/val2014/COCO_val2014_000000579415.jpg\n",
            "loading: /content/drive/MyDrive/UCLA/cs 263/final_proj/val2014/COCO_val2014_000000579415.jpg\n",
            "loading: /content/drive/MyDrive/UCLA/cs 263/final_proj/val2014/COCO_val2014_000000579415.jpg\n",
            "loading: /content/drive/MyDrive/UCLA/cs 263/final_proj/val2014/COCO_val2014_000000579415.jpg\n",
            "loading: /content/drive/MyDrive/UCLA/cs 263/final_proj/val2014/COCO_val2014_000000233521.jpg\n",
            "loading: /content/drive/MyDrive/UCLA/cs 263/final_proj/val2014/COCO_val2014_000000233521.jpg\n",
            "loading: /content/drive/MyDrive/UCLA/cs 263/final_proj/val2014/COCO_val2014_000000233521.jpg\n",
            "loading: /content/drive/MyDrive/UCLA/cs 263/final_proj/val2014/COCO_val2014_000000233521.jpg\n",
            "loading: /content/drive/MyDrive/UCLA/cs 263/final_proj/val2014/COCO_val2014_000000233521.jpg\n",
            "loading: /content/drive/MyDrive/UCLA/cs 263/final_proj/val2014/COCO_val2014_000000233521.jpg\n",
            "loading: /content/drive/MyDrive/UCLA/cs 263/final_proj/val2014/COCO_val2014_000000355256.jpg\n",
            "loading: /content/drive/MyDrive/UCLA/cs 263/final_proj/val2014/COCO_val2014_000000355256.jpg\n",
            "loading: /content/drive/MyDrive/UCLA/cs 263/final_proj/val2014/COCO_val2014_000000355256.jpg\n",
            "loading: /content/drive/MyDrive/UCLA/cs 263/final_proj/val2014/COCO_val2014_000000355256.jpg\n",
            "loading: /content/drive/MyDrive/UCLA/cs 263/final_proj/val2014/COCO_val2014_000000355256.jpg\n",
            "loading: /content/drive/MyDrive/UCLA/cs 263/final_proj/val2014/COCO_val2014_000000355256.jpg\n",
            "loading: /content/drive/MyDrive/UCLA/cs 263/final_proj/val2014/COCO_val2014_000000304819.jpg\n",
            "loading: /content/drive/MyDrive/UCLA/cs 263/final_proj/val2014/COCO_val2014_000000304819.jpg\n",
            "loading: /content/drive/MyDrive/UCLA/cs 263/final_proj/val2014/COCO_val2014_000000304819.jpg\n",
            "loading: /content/drive/MyDrive/UCLA/cs 263/final_proj/val2014/COCO_val2014_000000304819.jpg\n",
            "loading: /content/drive/MyDrive/UCLA/cs 263/final_proj/val2014/COCO_val2014_000000304819.jpg\n",
            "loading: /content/drive/MyDrive/UCLA/cs 263/final_proj/val2014/COCO_val2014_000000304819.jpg\n",
            "loading: /content/drive/MyDrive/UCLA/cs 263/final_proj/val2014/COCO_val2014_000000240434.jpg\n",
            "loading: /content/drive/MyDrive/UCLA/cs 263/final_proj/val2014/COCO_val2014_000000240434.jpg\n",
            "loading: /content/drive/MyDrive/UCLA/cs 263/final_proj/val2014/COCO_val2014_000000240434.jpg\n",
            "loading: /content/drive/MyDrive/UCLA/cs 263/final_proj/val2014/COCO_val2014_000000240434.jpg\n",
            "loading: /content/drive/MyDrive/UCLA/cs 263/final_proj/val2014/COCO_val2014_000000240434.jpg\n",
            "loading: /content/drive/MyDrive/UCLA/cs 263/final_proj/val2014/COCO_val2014_000000240434.jpg\n",
            "loading: /content/drive/MyDrive/UCLA/cs 263/final_proj/val2014/COCO_val2014_000000199940.jpg\n",
            "loading: /content/drive/MyDrive/UCLA/cs 263/final_proj/val2014/COCO_val2014_000000199940.jpg\n",
            "loading: /content/drive/MyDrive/UCLA/cs 263/final_proj/val2014/COCO_val2014_000000199940.jpg\n",
            "loading: /content/drive/MyDrive/UCLA/cs 263/final_proj/val2014/COCO_val2014_000000199940.jpg\n",
            "loading: /content/drive/MyDrive/UCLA/cs 263/final_proj/val2014/COCO_val2014_000000199940.jpg\n",
            "loading: /content/drive/MyDrive/UCLA/cs 263/final_proj/val2014/COCO_val2014_000000199940.jpg\n",
            "loading: /content/drive/MyDrive/UCLA/cs 263/final_proj/val2014/COCO_val2014_000000549390.jpg\n",
            "loading: /content/drive/MyDrive/UCLA/cs 263/final_proj/val2014/COCO_val2014_000000549390.jpg\n",
            "loading: /content/drive/MyDrive/UCLA/cs 263/final_proj/val2014/COCO_val2014_000000549390.jpg\n",
            "loading: /content/drive/MyDrive/UCLA/cs 263/final_proj/val2014/COCO_val2014_000000549390.jpg\n",
            "loading: /content/drive/MyDrive/UCLA/cs 263/final_proj/val2014/COCO_val2014_000000549390.jpg\n",
            "loading: /content/drive/MyDrive/UCLA/cs 263/final_proj/val2014/COCO_val2014_000000549390.jpg\n",
            "loading: /content/drive/MyDrive/UCLA/cs 263/final_proj/val2014/COCO_val2014_000000235541.jpg\n",
            "loading: /content/drive/MyDrive/UCLA/cs 263/final_proj/val2014/COCO_val2014_000000235541.jpg\n",
            "loading: /content/drive/MyDrive/UCLA/cs 263/final_proj/val2014/COCO_val2014_000000235541.jpg\n",
            "loading: /content/drive/MyDrive/UCLA/cs 263/final_proj/val2014/COCO_val2014_000000235541.jpg\n",
            "loading: /content/drive/MyDrive/UCLA/cs 263/final_proj/val2014/COCO_val2014_000000235541.jpg\n",
            "loading: /content/drive/MyDrive/UCLA/cs 263/final_proj/val2014/COCO_val2014_000000235541.jpg\n",
            "loading: /content/drive/MyDrive/UCLA/cs 263/final_proj/val2014/COCO_val2014_000000068418.jpg\n",
            "loading: /content/drive/MyDrive/UCLA/cs 263/final_proj/val2014/COCO_val2014_000000068418.jpg\n",
            "loading: /content/drive/MyDrive/UCLA/cs 263/final_proj/val2014/COCO_val2014_000000068418.jpg\n",
            "loading: /content/drive/MyDrive/UCLA/cs 263/final_proj/val2014/COCO_val2014_000000068418.jpg\n",
            "loading: /content/drive/MyDrive/UCLA/cs 263/final_proj/val2014/COCO_val2014_000000068418.jpg\n",
            "loading: /content/drive/MyDrive/UCLA/cs 263/final_proj/val2014/COCO_val2014_000000068418.jpg\n",
            "loading: /content/drive/MyDrive/UCLA/cs 263/final_proj/val2014/COCO_val2014_000000368541.jpg\n",
            "loading: /content/drive/MyDrive/UCLA/cs 263/final_proj/val2014/COCO_val2014_000000368541.jpg\n",
            "loading: /content/drive/MyDrive/UCLA/cs 263/final_proj/val2014/COCO_val2014_000000368541.jpg\n",
            "loading: /content/drive/MyDrive/UCLA/cs 263/final_proj/val2014/COCO_val2014_000000368541.jpg\n",
            "loading: /content/drive/MyDrive/UCLA/cs 263/final_proj/val2014/COCO_val2014_000000368541.jpg\n",
            "loading: /content/drive/MyDrive/UCLA/cs 263/final_proj/val2014/COCO_val2014_000000368541.jpg\n",
            "loading: /content/drive/MyDrive/UCLA/cs 263/final_proj/val2014/COCO_val2014_000000006033.jpg\n",
            "loading: /content/drive/MyDrive/UCLA/cs 263/final_proj/val2014/COCO_val2014_000000006033.jpg\n",
            "loading: /content/drive/MyDrive/UCLA/cs 263/final_proj/val2014/COCO_val2014_000000006033.jpg\n",
            "loading: /content/drive/MyDrive/UCLA/cs 263/final_proj/val2014/COCO_val2014_000000006033.jpg\n",
            "loading: /content/drive/MyDrive/UCLA/cs 263/final_proj/val2014/COCO_val2014_000000006033.jpg\n",
            "loading: /content/drive/MyDrive/UCLA/cs 263/final_proj/val2014/COCO_val2014_000000006033.jpg\n",
            "loading: /content/drive/MyDrive/UCLA/cs 263/final_proj/val2014/COCO_val2014_000000021327.jpg\n",
            "loading: /content/drive/MyDrive/UCLA/cs 263/final_proj/val2014/COCO_val2014_000000021327.jpg\n",
            "loading: /content/drive/MyDrive/UCLA/cs 263/final_proj/val2014/COCO_val2014_000000021327.jpg\n",
            "loading: /content/drive/MyDrive/UCLA/cs 263/final_proj/val2014/COCO_val2014_000000021327.jpg\n",
            "loading: /content/drive/MyDrive/UCLA/cs 263/final_proj/val2014/COCO_val2014_000000021327.jpg\n",
            "loading: /content/drive/MyDrive/UCLA/cs 263/final_proj/val2014/COCO_val2014_000000021327.jpg\n",
            "loading: /content/drive/MyDrive/UCLA/cs 263/final_proj/val2014/COCO_val2014_000000390157.jpg\n",
            "loading: /content/drive/MyDrive/UCLA/cs 263/final_proj/val2014/COCO_val2014_000000390157.jpg\n",
            "loading: /content/drive/MyDrive/UCLA/cs 263/final_proj/val2014/COCO_val2014_000000390157.jpg\n",
            "loading: /content/drive/MyDrive/UCLA/cs 263/final_proj/val2014/COCO_val2014_000000390157.jpg\n",
            "loading: /content/drive/MyDrive/UCLA/cs 263/final_proj/val2014/COCO_val2014_000000390157.jpg\n",
            "loading: /content/drive/MyDrive/UCLA/cs 263/final_proj/val2014/COCO_val2014_000000390157.jpg\n",
            "loading: /content/drive/MyDrive/UCLA/cs 263/final_proj/val2014/COCO_val2014_000000298633.jpg\n",
            "loading: /content/drive/MyDrive/UCLA/cs 263/final_proj/val2014/COCO_val2014_000000298633.jpg\n",
            "loading: /content/drive/MyDrive/UCLA/cs 263/final_proj/val2014/COCO_val2014_000000298633.jpg\n",
            "loading: /content/drive/MyDrive/UCLA/cs 263/final_proj/val2014/COCO_val2014_000000298633.jpg\n",
            "loading: /content/drive/MyDrive/UCLA/cs 263/final_proj/val2014/COCO_val2014_000000298633.jpg\n",
            "loading: /content/drive/MyDrive/UCLA/cs 263/final_proj/val2014/COCO_val2014_000000298633.jpg\n",
            "loading: /content/drive/MyDrive/UCLA/cs 263/final_proj/val2014/COCO_val2014_000000579277.jpg\n",
            "loading: /content/drive/MyDrive/UCLA/cs 263/final_proj/val2014/COCO_val2014_000000579277.jpg\n",
            "loading: /content/drive/MyDrive/UCLA/cs 263/final_proj/val2014/COCO_val2014_000000579277.jpg\n",
            "loading: /content/drive/MyDrive/UCLA/cs 263/final_proj/val2014/COCO_val2014_000000579277.jpg\n",
            "loading: /content/drive/MyDrive/UCLA/cs 263/final_proj/val2014/COCO_val2014_000000579277.jpg\n",
            "loading: /content/drive/MyDrive/UCLA/cs 263/final_proj/val2014/COCO_val2014_000000579277.jpg\n",
            "loading: /content/drive/MyDrive/UCLA/cs 263/final_proj/val2014/COCO_val2014_000000042685.jpg\n",
            "loading: /content/drive/MyDrive/UCLA/cs 263/final_proj/val2014/COCO_val2014_000000042685.jpg\n",
            "loading: /content/drive/MyDrive/UCLA/cs 263/final_proj/val2014/COCO_val2014_000000042685.jpg\n",
            "loading: /content/drive/MyDrive/UCLA/cs 263/final_proj/val2014/COCO_val2014_000000042685.jpg\n",
            "loading: /content/drive/MyDrive/UCLA/cs 263/final_proj/val2014/COCO_val2014_000000042685.jpg\n",
            "loading: /content/drive/MyDrive/UCLA/cs 263/final_proj/val2014/COCO_val2014_000000042685.jpg\n",
            "loading: /content/drive/MyDrive/UCLA/cs 263/final_proj/val2014/COCO_val2014_000000553992.jpg\n",
            "loading: /content/drive/MyDrive/UCLA/cs 263/final_proj/val2014/COCO_val2014_000000553992.jpg\n",
            "loading: /content/drive/MyDrive/UCLA/cs 263/final_proj/val2014/COCO_val2014_000000553992.jpg\n",
            "loading: /content/drive/MyDrive/UCLA/cs 263/final_proj/val2014/COCO_val2014_000000553992.jpg\n",
            "loading: /content/drive/MyDrive/UCLA/cs 263/final_proj/val2014/COCO_val2014_000000553992.jpg\n",
            "loading: /content/drive/MyDrive/UCLA/cs 263/final_proj/val2014/COCO_val2014_000000553992.jpg\n",
            "loading: /content/drive/MyDrive/UCLA/cs 263/final_proj/val2014/COCO_val2014_000000243158.jpg\n",
            "loading: /content/drive/MyDrive/UCLA/cs 263/final_proj/val2014/COCO_val2014_000000243158.jpg\n",
            "loading: /content/drive/MyDrive/UCLA/cs 263/final_proj/val2014/COCO_val2014_000000243158.jpg\n",
            "loading: /content/drive/MyDrive/UCLA/cs 263/final_proj/val2014/COCO_val2014_000000243158.jpg\n",
            "loading: /content/drive/MyDrive/UCLA/cs 263/final_proj/val2014/COCO_val2014_000000243158.jpg\n",
            "loading: /content/drive/MyDrive/UCLA/cs 263/final_proj/val2014/COCO_val2014_000000243158.jpg\n",
            "loading: /content/drive/MyDrive/UCLA/cs 263/final_proj/val2014/COCO_val2014_000000303971.jpg\n",
            "loading: /content/drive/MyDrive/UCLA/cs 263/final_proj/val2014/COCO_val2014_000000303971.jpg\n",
            "loading: /content/drive/MyDrive/UCLA/cs 263/final_proj/val2014/COCO_val2014_000000303971.jpg\n",
            "loading: /content/drive/MyDrive/UCLA/cs 263/final_proj/val2014/COCO_val2014_000000303971.jpg\n",
            "loading: /content/drive/MyDrive/UCLA/cs 263/final_proj/val2014/COCO_val2014_000000303971.jpg\n",
            "loading: /content/drive/MyDrive/UCLA/cs 263/final_proj/val2014/COCO_val2014_000000303971.jpg\n",
            "loading: /content/drive/MyDrive/UCLA/cs 263/final_proj/val2014/COCO_val2014_000000405762.jpg\n",
            "loading: /content/drive/MyDrive/UCLA/cs 263/final_proj/val2014/COCO_val2014_000000405762.jpg\n",
            "loading: /content/drive/MyDrive/UCLA/cs 263/final_proj/val2014/COCO_val2014_000000405762.jpg\n",
            "loading: /content/drive/MyDrive/UCLA/cs 263/final_proj/val2014/COCO_val2014_000000405762.jpg\n",
            "loading: /content/drive/MyDrive/UCLA/cs 263/final_proj/val2014/COCO_val2014_000000405762.jpg\n",
            "loading: /content/drive/MyDrive/UCLA/cs 263/final_proj/val2014/COCO_val2014_000000405762.jpg\n",
            "loading: /content/drive/MyDrive/UCLA/cs 263/final_proj/val2014/COCO_val2014_000000343967.jpg\n",
            "loading: /content/drive/MyDrive/UCLA/cs 263/final_proj/val2014/COCO_val2014_000000343967.jpg\n",
            "loading: /content/drive/MyDrive/UCLA/cs 263/final_proj/val2014/COCO_val2014_000000343967.jpg\n",
            "loading: /content/drive/MyDrive/UCLA/cs 263/final_proj/val2014/COCO_val2014_000000343967.jpg\n",
            "loading: /content/drive/MyDrive/UCLA/cs 263/final_proj/val2014/COCO_val2014_000000343967.jpg\n",
            "loading: /content/drive/MyDrive/UCLA/cs 263/final_proj/val2014/COCO_val2014_000000343967.jpg\n",
            "loading: /content/drive/MyDrive/UCLA/cs 263/final_proj/val2014/COCO_val2014_000000477598.jpg\n",
            "loading: /content/drive/MyDrive/UCLA/cs 263/final_proj/val2014/COCO_val2014_000000477598.jpg\n",
            "loading: /content/drive/MyDrive/UCLA/cs 263/final_proj/val2014/COCO_val2014_000000477598.jpg\n",
            "loading: /content/drive/MyDrive/UCLA/cs 263/final_proj/val2014/COCO_val2014_000000477598.jpg\n",
            "loading: /content/drive/MyDrive/UCLA/cs 263/final_proj/val2014/COCO_val2014_000000477598.jpg\n",
            "loading: /content/drive/MyDrive/UCLA/cs 263/final_proj/val2014/COCO_val2014_000000477598.jpg\n",
            "loading: /content/drive/MyDrive/UCLA/cs 263/final_proj/val2014/COCO_val2014_000000044993.jpg\n",
            "loading: /content/drive/MyDrive/UCLA/cs 263/final_proj/val2014/COCO_val2014_000000044993.jpg\n",
            "loading: /content/drive/MyDrive/UCLA/cs 263/final_proj/val2014/COCO_val2014_000000044993.jpg\n",
            "loading: /content/drive/MyDrive/UCLA/cs 263/final_proj/val2014/COCO_val2014_000000044993.jpg\n",
            "loading: /content/drive/MyDrive/UCLA/cs 263/final_proj/val2014/COCO_val2014_000000044993.jpg\n",
            "loading: /content/drive/MyDrive/UCLA/cs 263/final_proj/val2014/COCO_val2014_000000044993.jpg\n",
            "loading: /content/drive/MyDrive/UCLA/cs 263/final_proj/val2014/COCO_val2014_000000381195.jpg\n",
            "loading: /content/drive/MyDrive/UCLA/cs 263/final_proj/val2014/COCO_val2014_000000381195.jpg\n",
            "loading: /content/drive/MyDrive/UCLA/cs 263/final_proj/val2014/COCO_val2014_000000381195.jpg\n",
            "loading: /content/drive/MyDrive/UCLA/cs 263/final_proj/val2014/COCO_val2014_000000381195.jpg\n",
            "loading: /content/drive/MyDrive/UCLA/cs 263/final_proj/val2014/COCO_val2014_000000381195.jpg\n",
            "loading: /content/drive/MyDrive/UCLA/cs 263/final_proj/val2014/COCO_val2014_000000381195.jpg\n",
            "loading: /content/drive/MyDrive/UCLA/cs 263/final_proj/val2014/COCO_val2014_000000337502.jpg\n",
            "loading: /content/drive/MyDrive/UCLA/cs 263/final_proj/val2014/COCO_val2014_000000337502.jpg\n",
            "loading: /content/drive/MyDrive/UCLA/cs 263/final_proj/val2014/COCO_val2014_000000337502.jpg\n",
            "loading: /content/drive/MyDrive/UCLA/cs 263/final_proj/val2014/COCO_val2014_000000337502.jpg\n",
            "loading: /content/drive/MyDrive/UCLA/cs 263/final_proj/val2014/COCO_val2014_000000337502.jpg\n",
            "loading: /content/drive/MyDrive/UCLA/cs 263/final_proj/val2014/COCO_val2014_000000337502.jpg\n",
            "loading: /content/drive/MyDrive/UCLA/cs 263/final_proj/val2014/COCO_val2014_000000325347.jpg\n",
            "loading: /content/drive/MyDrive/UCLA/cs 263/final_proj/val2014/COCO_val2014_000000325347.jpg\n",
            "loading: /content/drive/MyDrive/UCLA/cs 263/final_proj/val2014/COCO_val2014_000000325347.jpg\n",
            "loading: /content/drive/MyDrive/UCLA/cs 263/final_proj/val2014/COCO_val2014_000000325347.jpg\n",
            "loading: /content/drive/MyDrive/UCLA/cs 263/final_proj/val2014/COCO_val2014_000000325347.jpg\n",
            "loading: /content/drive/MyDrive/UCLA/cs 263/final_proj/val2014/COCO_val2014_000000325347.jpg\n",
            "loading: /content/drive/MyDrive/UCLA/cs 263/final_proj/val2014/COCO_val2014_000000256906.jpg\n",
            "loading: /content/drive/MyDrive/UCLA/cs 263/final_proj/val2014/COCO_val2014_000000256906.jpg\n",
            "loading: /content/drive/MyDrive/UCLA/cs 263/final_proj/val2014/COCO_val2014_000000256906.jpg\n",
            "loading: /content/drive/MyDrive/UCLA/cs 263/final_proj/val2014/COCO_val2014_000000256906.jpg\n",
            "loading: /content/drive/MyDrive/UCLA/cs 263/final_proj/val2014/COCO_val2014_000000256906.jpg\n",
            "loading: /content/drive/MyDrive/UCLA/cs 263/final_proj/val2014/COCO_val2014_000000256906.jpg\n",
            "loading: /content/drive/MyDrive/UCLA/cs 263/final_proj/val2014/COCO_val2014_000000061507.jpg\n",
            "loading: /content/drive/MyDrive/UCLA/cs 263/final_proj/val2014/COCO_val2014_000000061507.jpg\n",
            "loading: /content/drive/MyDrive/UCLA/cs 263/final_proj/val2014/COCO_val2014_000000061507.jpg\n",
            "loading: /content/drive/MyDrive/UCLA/cs 263/final_proj/val2014/COCO_val2014_000000061507.jpg\n",
            "loading: /content/drive/MyDrive/UCLA/cs 263/final_proj/val2014/COCO_val2014_000000061507.jpg\n",
            "loading: /content/drive/MyDrive/UCLA/cs 263/final_proj/val2014/COCO_val2014_000000061507.jpg\n",
            "loading: /content/drive/MyDrive/UCLA/cs 263/final_proj/val2014/COCO_val2014_000000084410.jpg\n",
            "loading: /content/drive/MyDrive/UCLA/cs 263/final_proj/val2014/COCO_val2014_000000084410.jpg\n",
            "loading: /content/drive/MyDrive/UCLA/cs 263/final_proj/val2014/COCO_val2014_000000084410.jpg\n",
            "loading: /content/drive/MyDrive/UCLA/cs 263/final_proj/val2014/COCO_val2014_000000084410.jpg\n",
            "loading: /content/drive/MyDrive/UCLA/cs 263/final_proj/val2014/COCO_val2014_000000084410.jpg\n",
            "loading: /content/drive/MyDrive/UCLA/cs 263/final_proj/val2014/COCO_val2014_000000084410.jpg\n",
            "loading: /content/drive/MyDrive/UCLA/cs 263/final_proj/val2014/COCO_val2014_000000288576.jpg\n",
            "loading: /content/drive/MyDrive/UCLA/cs 263/final_proj/val2014/COCO_val2014_000000288576.jpg\n",
            "loading: /content/drive/MyDrive/UCLA/cs 263/final_proj/val2014/COCO_val2014_000000288576.jpg\n",
            "loading: /content/drive/MyDrive/UCLA/cs 263/final_proj/val2014/COCO_val2014_000000288576.jpg\n",
            "loading: /content/drive/MyDrive/UCLA/cs 263/final_proj/val2014/COCO_val2014_000000288576.jpg\n",
            "loading: /content/drive/MyDrive/UCLA/cs 263/final_proj/val2014/COCO_val2014_000000288576.jpg\n",
            "loading: /content/drive/MyDrive/UCLA/cs 263/final_proj/val2014/COCO_val2014_000000328301.jpg\n",
            "loading: /content/drive/MyDrive/UCLA/cs 263/final_proj/val2014/COCO_val2014_000000328301.jpg\n",
            "loading: /content/drive/MyDrive/UCLA/cs 263/final_proj/val2014/COCO_val2014_000000328301.jpg\n",
            "loading: /content/drive/MyDrive/UCLA/cs 263/final_proj/val2014/COCO_val2014_000000328301.jpg\n",
            "loading: /content/drive/MyDrive/UCLA/cs 263/final_proj/val2014/COCO_val2014_000000328301.jpg\n",
            "loading: /content/drive/MyDrive/UCLA/cs 263/final_proj/val2014/COCO_val2014_000000328301.jpg\n",
            "loading: /content/drive/MyDrive/UCLA/cs 263/final_proj/val2014/COCO_val2014_000000307262.jpg\n",
            "loading: /content/drive/MyDrive/UCLA/cs 263/final_proj/val2014/COCO_val2014_000000307262.jpg\n",
            "loading: /content/drive/MyDrive/UCLA/cs 263/final_proj/val2014/COCO_val2014_000000307262.jpg\n",
            "loading: /content/drive/MyDrive/UCLA/cs 263/final_proj/val2014/COCO_val2014_000000307262.jpg\n",
            "loading: /content/drive/MyDrive/UCLA/cs 263/final_proj/val2014/COCO_val2014_000000307262.jpg\n",
            "loading: /content/drive/MyDrive/UCLA/cs 263/final_proj/val2014/COCO_val2014_000000307262.jpg\n",
            "loading: /content/drive/MyDrive/UCLA/cs 263/final_proj/val2014/COCO_val2014_000000573796.jpg\n",
            "loading: /content/drive/MyDrive/UCLA/cs 263/final_proj/val2014/COCO_val2014_000000573796.jpg\n",
            "loading: /content/drive/MyDrive/UCLA/cs 263/final_proj/val2014/COCO_val2014_000000573796.jpg\n",
            "loading: /content/drive/MyDrive/UCLA/cs 263/final_proj/val2014/COCO_val2014_000000573796.jpg\n",
            "loading: /content/drive/MyDrive/UCLA/cs 263/final_proj/val2014/COCO_val2014_000000573796.jpg\n",
            "loading: /content/drive/MyDrive/UCLA/cs 263/final_proj/val2014/COCO_val2014_000000573796.jpg\n",
            "loading: /content/drive/MyDrive/UCLA/cs 263/final_proj/val2014/COCO_val2014_000000154846.jpg\n",
            "loading: /content/drive/MyDrive/UCLA/cs 263/final_proj/val2014/COCO_val2014_000000154846.jpg\n",
            "loading: /content/drive/MyDrive/UCLA/cs 263/final_proj/val2014/COCO_val2014_000000154846.jpg\n",
            "loading: /content/drive/MyDrive/UCLA/cs 263/final_proj/val2014/COCO_val2014_000000154846.jpg\n",
            "loading: /content/drive/MyDrive/UCLA/cs 263/final_proj/val2014/COCO_val2014_000000154846.jpg\n",
            "loading: /content/drive/MyDrive/UCLA/cs 263/final_proj/val2014/COCO_val2014_000000154846.jpg\n",
            "loading: /content/drive/MyDrive/UCLA/cs 263/final_proj/val2014/COCO_val2014_000000472375.jpg\n",
            "loading: /content/drive/MyDrive/UCLA/cs 263/final_proj/val2014/COCO_val2014_000000472375.jpg\n",
            "loading: /content/drive/MyDrive/UCLA/cs 263/final_proj/val2014/COCO_val2014_000000472375.jpg\n",
            "loading: /content/drive/MyDrive/UCLA/cs 263/final_proj/val2014/COCO_val2014_000000472375.jpg\n",
            "loading: /content/drive/MyDrive/UCLA/cs 263/final_proj/val2014/COCO_val2014_000000472375.jpg\n",
            "loading: /content/drive/MyDrive/UCLA/cs 263/final_proj/val2014/COCO_val2014_000000472375.jpg\n",
            "loading: /content/drive/MyDrive/UCLA/cs 263/final_proj/val2014/COCO_val2014_000000446651.jpg\n",
            "loading: /content/drive/MyDrive/UCLA/cs 263/final_proj/val2014/COCO_val2014_000000446651.jpg\n",
            "loading: /content/drive/MyDrive/UCLA/cs 263/final_proj/val2014/COCO_val2014_000000446651.jpg\n",
            "loading: /content/drive/MyDrive/UCLA/cs 263/final_proj/val2014/COCO_val2014_000000446651.jpg\n",
            "loading: /content/drive/MyDrive/UCLA/cs 263/final_proj/val2014/COCO_val2014_000000446651.jpg\n",
            "loading: /content/drive/MyDrive/UCLA/cs 263/final_proj/val2014/COCO_val2014_000000446651.jpg\n",
            "loading: /content/drive/MyDrive/UCLA/cs 263/final_proj/val2014/COCO_val2014_000000267684.jpg\n",
            "loading: /content/drive/MyDrive/UCLA/cs 263/final_proj/val2014/COCO_val2014_000000267684.jpg\n",
            "loading: /content/drive/MyDrive/UCLA/cs 263/final_proj/val2014/COCO_val2014_000000267684.jpg\n",
            "loading: /content/drive/MyDrive/UCLA/cs 263/final_proj/val2014/COCO_val2014_000000267684.jpg\n",
            "loading: /content/drive/MyDrive/UCLA/cs 263/final_proj/val2014/COCO_val2014_000000267684.jpg\n",
            "loading: /content/drive/MyDrive/UCLA/cs 263/final_proj/val2014/COCO_val2014_000000267684.jpg\n",
            "loading: /content/drive/MyDrive/UCLA/cs 263/final_proj/val2014/COCO_val2014_000000238029.jpg\n",
            "loading: /content/drive/MyDrive/UCLA/cs 263/final_proj/val2014/COCO_val2014_000000238029.jpg\n",
            "loading: /content/drive/MyDrive/UCLA/cs 263/final_proj/val2014/COCO_val2014_000000238029.jpg\n",
            "loading: /content/drive/MyDrive/UCLA/cs 263/final_proj/val2014/COCO_val2014_000000238029.jpg\n",
            "loading: /content/drive/MyDrive/UCLA/cs 263/final_proj/val2014/COCO_val2014_000000238029.jpg\n",
            "loading: /content/drive/MyDrive/UCLA/cs 263/final_proj/val2014/COCO_val2014_000000238029.jpg\n",
            "loading: /content/drive/MyDrive/UCLA/cs 263/final_proj/val2014/COCO_val2014_000000294475.jpg\n",
            "loading: /content/drive/MyDrive/UCLA/cs 263/final_proj/val2014/COCO_val2014_000000294475.jpg\n",
            "loading: /content/drive/MyDrive/UCLA/cs 263/final_proj/val2014/COCO_val2014_000000294475.jpg\n",
            "loading: /content/drive/MyDrive/UCLA/cs 263/final_proj/val2014/COCO_val2014_000000294475.jpg\n",
            "loading: /content/drive/MyDrive/UCLA/cs 263/final_proj/val2014/COCO_val2014_000000294475.jpg\n",
            "loading: /content/drive/MyDrive/UCLA/cs 263/final_proj/val2014/COCO_val2014_000000294475.jpg\n",
            "loading: /content/drive/MyDrive/UCLA/cs 263/final_proj/val2014/COCO_val2014_000000149592.jpg\n",
            "loading: /content/drive/MyDrive/UCLA/cs 263/final_proj/val2014/COCO_val2014_000000149592.jpg\n",
            "loading: /content/drive/MyDrive/UCLA/cs 263/final_proj/val2014/COCO_val2014_000000149592.jpg\n",
            "loading: /content/drive/MyDrive/UCLA/cs 263/final_proj/val2014/COCO_val2014_000000149592.jpg\n",
            "loading: /content/drive/MyDrive/UCLA/cs 263/final_proj/val2014/COCO_val2014_000000149592.jpg\n",
            "loading: /content/drive/MyDrive/UCLA/cs 263/final_proj/val2014/COCO_val2014_000000149592.jpg\n",
            "loading: /content/drive/MyDrive/UCLA/cs 263/final_proj/val2014/COCO_val2014_000000447787.jpg\n",
            "loading: /content/drive/MyDrive/UCLA/cs 263/final_proj/val2014/COCO_val2014_000000447787.jpg\n",
            "loading: /content/drive/MyDrive/UCLA/cs 263/final_proj/val2014/COCO_val2014_000000447787.jpg\n",
            "loading: /content/drive/MyDrive/UCLA/cs 263/final_proj/val2014/COCO_val2014_000000447787.jpg\n",
            "loading: /content/drive/MyDrive/UCLA/cs 263/final_proj/val2014/COCO_val2014_000000447787.jpg\n",
            "loading: /content/drive/MyDrive/UCLA/cs 263/final_proj/val2014/COCO_val2014_000000447787.jpg\n",
            "loading: /content/drive/MyDrive/UCLA/cs 263/final_proj/val2014/COCO_val2014_000000458325.jpg\n",
            "loading: /content/drive/MyDrive/UCLA/cs 263/final_proj/val2014/COCO_val2014_000000458325.jpg\n",
            "loading: /content/drive/MyDrive/UCLA/cs 263/final_proj/val2014/COCO_val2014_000000458325.jpg\n",
            "loading: /content/drive/MyDrive/UCLA/cs 263/final_proj/val2014/COCO_val2014_000000458325.jpg\n",
            "loading: /content/drive/MyDrive/UCLA/cs 263/final_proj/val2014/COCO_val2014_000000458325.jpg\n",
            "loading: /content/drive/MyDrive/UCLA/cs 263/final_proj/val2014/COCO_val2014_000000458325.jpg\n",
            "loading: /content/drive/MyDrive/UCLA/cs 263/final_proj/val2014/COCO_val2014_000000388237.jpg\n",
            "loading: /content/drive/MyDrive/UCLA/cs 263/final_proj/val2014/COCO_val2014_000000388237.jpg\n",
            "loading: /content/drive/MyDrive/UCLA/cs 263/final_proj/val2014/COCO_val2014_000000388237.jpg\n",
            "loading: /content/drive/MyDrive/UCLA/cs 263/final_proj/val2014/COCO_val2014_000000388237.jpg\n",
            "loading: /content/drive/MyDrive/UCLA/cs 263/final_proj/val2014/COCO_val2014_000000388237.jpg\n",
            "loading: /content/drive/MyDrive/UCLA/cs 263/final_proj/val2014/COCO_val2014_000000388237.jpg\n",
            "loading: /content/drive/MyDrive/UCLA/cs 263/final_proj/val2014/COCO_val2014_000000038645.jpg\n",
            "loading: /content/drive/MyDrive/UCLA/cs 263/final_proj/val2014/COCO_val2014_000000038645.jpg\n",
            "loading: /content/drive/MyDrive/UCLA/cs 263/final_proj/val2014/COCO_val2014_000000038645.jpg\n",
            "loading: /content/drive/MyDrive/UCLA/cs 263/final_proj/val2014/COCO_val2014_000000038645.jpg\n",
            "loading: /content/drive/MyDrive/UCLA/cs 263/final_proj/val2014/COCO_val2014_000000038645.jpg\n",
            "loading: /content/drive/MyDrive/UCLA/cs 263/final_proj/val2014/COCO_val2014_000000038645.jpg\n",
            "loading: /content/drive/MyDrive/UCLA/cs 263/final_proj/val2014/COCO_val2014_000000071738.jpg\n",
            "loading: /content/drive/MyDrive/UCLA/cs 263/final_proj/val2014/COCO_val2014_000000071738.jpg\n",
            "loading: /content/drive/MyDrive/UCLA/cs 263/final_proj/val2014/COCO_val2014_000000071738.jpg\n",
            "loading: /content/drive/MyDrive/UCLA/cs 263/final_proj/val2014/COCO_val2014_000000071738.jpg\n",
            "loading: /content/drive/MyDrive/UCLA/cs 263/final_proj/val2014/COCO_val2014_000000071738.jpg\n",
            "loading: /content/drive/MyDrive/UCLA/cs 263/final_proj/val2014/COCO_val2014_000000071738.jpg\n",
            "loading: /content/drive/MyDrive/UCLA/cs 263/final_proj/val2014/COCO_val2014_000000170077.jpg\n",
            "loading: /content/drive/MyDrive/UCLA/cs 263/final_proj/val2014/COCO_val2014_000000170077.jpg\n",
            "loading: /content/drive/MyDrive/UCLA/cs 263/final_proj/val2014/COCO_val2014_000000170077.jpg\n",
            "loading: /content/drive/MyDrive/UCLA/cs 263/final_proj/val2014/COCO_val2014_000000170077.jpg\n",
            "loading: /content/drive/MyDrive/UCLA/cs 263/final_proj/val2014/COCO_val2014_000000170077.jpg\n",
            "loading: /content/drive/MyDrive/UCLA/cs 263/final_proj/val2014/COCO_val2014_000000170077.jpg\n",
            "loading: /content/drive/MyDrive/UCLA/cs 263/final_proj/val2014/COCO_val2014_000000378751.jpg\n",
            "loading: /content/drive/MyDrive/UCLA/cs 263/final_proj/val2014/COCO_val2014_000000378751.jpg\n",
            "loading: /content/drive/MyDrive/UCLA/cs 263/final_proj/val2014/COCO_val2014_000000378751.jpg\n",
            "loading: /content/drive/MyDrive/UCLA/cs 263/final_proj/val2014/COCO_val2014_000000378751.jpg\n",
            "loading: /content/drive/MyDrive/UCLA/cs 263/final_proj/val2014/COCO_val2014_000000378751.jpg\n",
            "loading: /content/drive/MyDrive/UCLA/cs 263/final_proj/val2014/COCO_val2014_000000378751.jpg\n",
            "loading: /content/drive/MyDrive/UCLA/cs 263/final_proj/val2014/COCO_val2014_000000073182.jpg\n",
            "loading: /content/drive/MyDrive/UCLA/cs 263/final_proj/val2014/COCO_val2014_000000073182.jpg\n",
            "loading: /content/drive/MyDrive/UCLA/cs 263/final_proj/val2014/COCO_val2014_000000073182.jpg\n",
            "loading: /content/drive/MyDrive/UCLA/cs 263/final_proj/val2014/COCO_val2014_000000073182.jpg\n",
            "loading: /content/drive/MyDrive/UCLA/cs 263/final_proj/val2014/COCO_val2014_000000073182.jpg\n",
            "loading: /content/drive/MyDrive/UCLA/cs 263/final_proj/val2014/COCO_val2014_000000073182.jpg\n",
            "loading: /content/drive/MyDrive/UCLA/cs 263/final_proj/val2014/COCO_val2014_000000246928.jpg\n",
            "loading: /content/drive/MyDrive/UCLA/cs 263/final_proj/val2014/COCO_val2014_000000246928.jpg\n",
            "loading: /content/drive/MyDrive/UCLA/cs 263/final_proj/val2014/COCO_val2014_000000246928.jpg\n",
            "loading: /content/drive/MyDrive/UCLA/cs 263/final_proj/val2014/COCO_val2014_000000246928.jpg\n",
            "loading: /content/drive/MyDrive/UCLA/cs 263/final_proj/val2014/COCO_val2014_000000246928.jpg\n",
            "loading: /content/drive/MyDrive/UCLA/cs 263/final_proj/val2014/COCO_val2014_000000246928.jpg\n",
            "loading: /content/drive/MyDrive/UCLA/cs 263/final_proj/val2014/COCO_val2014_000000528136.jpg\n",
            "loading: /content/drive/MyDrive/UCLA/cs 263/final_proj/val2014/COCO_val2014_000000528136.jpg\n",
            "loading: /content/drive/MyDrive/UCLA/cs 263/final_proj/val2014/COCO_val2014_000000528136.jpg\n",
            "loading: /content/drive/MyDrive/UCLA/cs 263/final_proj/val2014/COCO_val2014_000000528136.jpg\n",
            "loading: /content/drive/MyDrive/UCLA/cs 263/final_proj/val2014/COCO_val2014_000000528136.jpg\n",
            "loading: /content/drive/MyDrive/UCLA/cs 263/final_proj/val2014/COCO_val2014_000000528136.jpg\n",
            "loading: /content/drive/MyDrive/UCLA/cs 263/final_proj/val2014/COCO_val2014_000000209290.jpg\n",
            "loading: /content/drive/MyDrive/UCLA/cs 263/final_proj/val2014/COCO_val2014_000000209290.jpg\n",
            "loading: /content/drive/MyDrive/UCLA/cs 263/final_proj/val2014/COCO_val2014_000000209290.jpg\n",
            "loading: /content/drive/MyDrive/UCLA/cs 263/final_proj/val2014/COCO_val2014_000000209290.jpg\n",
            "loading: /content/drive/MyDrive/UCLA/cs 263/final_proj/val2014/COCO_val2014_000000209290.jpg\n",
            "loading: /content/drive/MyDrive/UCLA/cs 263/final_proj/val2014/COCO_val2014_000000209290.jpg\n",
            "loading: /content/drive/MyDrive/UCLA/cs 263/final_proj/val2014/COCO_val2014_000000564511.jpg\n",
            "loading: /content/drive/MyDrive/UCLA/cs 263/final_proj/val2014/COCO_val2014_000000564511.jpg\n",
            "loading: /content/drive/MyDrive/UCLA/cs 263/final_proj/val2014/COCO_val2014_000000564511.jpg\n",
            "loading: /content/drive/MyDrive/UCLA/cs 263/final_proj/val2014/COCO_val2014_000000564511.jpg\n",
            "loading: /content/drive/MyDrive/UCLA/cs 263/final_proj/val2014/COCO_val2014_000000564511.jpg\n",
            "loading: /content/drive/MyDrive/UCLA/cs 263/final_proj/val2014/COCO_val2014_000000564511.jpg\n",
            "loading: /content/drive/MyDrive/UCLA/cs 263/final_proj/val2014/COCO_val2014_000000200739.jpg\n",
            "loading: /content/drive/MyDrive/UCLA/cs 263/final_proj/val2014/COCO_val2014_000000200739.jpg\n",
            "loading: /content/drive/MyDrive/UCLA/cs 263/final_proj/val2014/COCO_val2014_000000200739.jpg\n",
            "loading: /content/drive/MyDrive/UCLA/cs 263/final_proj/val2014/COCO_val2014_000000200739.jpg\n",
            "loading: /content/drive/MyDrive/UCLA/cs 263/final_proj/val2014/COCO_val2014_000000200739.jpg\n",
            "loading: /content/drive/MyDrive/UCLA/cs 263/final_proj/val2014/COCO_val2014_000000200739.jpg\n",
            "loading: /content/drive/MyDrive/UCLA/cs 263/final_proj/val2014/COCO_val2014_000000462805.jpg\n",
            "loading: /content/drive/MyDrive/UCLA/cs 263/final_proj/val2014/COCO_val2014_000000462805.jpg\n",
            "loading: /content/drive/MyDrive/UCLA/cs 263/final_proj/val2014/COCO_val2014_000000462805.jpg\n",
            "loading: /content/drive/MyDrive/UCLA/cs 263/final_proj/val2014/COCO_val2014_000000462805.jpg\n",
            "loading: /content/drive/MyDrive/UCLA/cs 263/final_proj/val2014/COCO_val2014_000000462805.jpg\n",
            "loading: /content/drive/MyDrive/UCLA/cs 263/final_proj/val2014/COCO_val2014_000000462805.jpg\n",
            "loading: /content/drive/MyDrive/UCLA/cs 263/final_proj/val2014/COCO_val2014_000000163575.jpg\n",
            "loading: /content/drive/MyDrive/UCLA/cs 263/final_proj/val2014/COCO_val2014_000000163575.jpg\n",
            "loading: /content/drive/MyDrive/UCLA/cs 263/final_proj/val2014/COCO_val2014_000000163575.jpg\n",
            "loading: /content/drive/MyDrive/UCLA/cs 263/final_proj/val2014/COCO_val2014_000000163575.jpg\n",
            "loading: /content/drive/MyDrive/UCLA/cs 263/final_proj/val2014/COCO_val2014_000000163575.jpg\n",
            "loading: /content/drive/MyDrive/UCLA/cs 263/final_proj/val2014/COCO_val2014_000000163575.jpg\n",
            "loading: /content/drive/MyDrive/UCLA/cs 263/final_proj/val2014/COCO_val2014_000000059383.jpg\n",
            "loading: /content/drive/MyDrive/UCLA/cs 263/final_proj/val2014/COCO_val2014_000000059383.jpg\n",
            "loading: /content/drive/MyDrive/UCLA/cs 263/final_proj/val2014/COCO_val2014_000000059383.jpg\n",
            "loading: /content/drive/MyDrive/UCLA/cs 263/final_proj/val2014/COCO_val2014_000000059383.jpg\n",
            "loading: /content/drive/MyDrive/UCLA/cs 263/final_proj/val2014/COCO_val2014_000000059383.jpg\n",
            "loading: /content/drive/MyDrive/UCLA/cs 263/final_proj/val2014/COCO_val2014_000000059383.jpg\n",
            "loading: /content/drive/MyDrive/UCLA/cs 263/final_proj/val2014/COCO_val2014_000000478736.jpg\n",
            "loading: /content/drive/MyDrive/UCLA/cs 263/final_proj/val2014/COCO_val2014_000000478736.jpg\n",
            "loading: /content/drive/MyDrive/UCLA/cs 263/final_proj/val2014/COCO_val2014_000000478736.jpg\n",
            "loading: /content/drive/MyDrive/UCLA/cs 263/final_proj/val2014/COCO_val2014_000000478736.jpg\n",
            "loading: /content/drive/MyDrive/UCLA/cs 263/final_proj/val2014/COCO_val2014_000000478736.jpg\n",
            "loading: /content/drive/MyDrive/UCLA/cs 263/final_proj/val2014/COCO_val2014_000000478736.jpg\n",
            "loading: /content/drive/MyDrive/UCLA/cs 263/final_proj/val2014/COCO_val2014_000000156282.jpg\n",
            "loading: /content/drive/MyDrive/UCLA/cs 263/final_proj/val2014/COCO_val2014_000000156282.jpg\n",
            "loading: /content/drive/MyDrive/UCLA/cs 263/final_proj/val2014/COCO_val2014_000000156282.jpg\n",
            "loading: /content/drive/MyDrive/UCLA/cs 263/final_proj/val2014/COCO_val2014_000000156282.jpg\n",
            "loading: /content/drive/MyDrive/UCLA/cs 263/final_proj/val2014/COCO_val2014_000000156282.jpg\n",
            "loading: /content/drive/MyDrive/UCLA/cs 263/final_proj/val2014/COCO_val2014_000000156282.jpg\n",
            "loading: /content/drive/MyDrive/UCLA/cs 263/final_proj/val2014/COCO_val2014_000000052689.jpg\n",
            "loading: /content/drive/MyDrive/UCLA/cs 263/final_proj/val2014/COCO_val2014_000000052689.jpg\n",
            "loading: /content/drive/MyDrive/UCLA/cs 263/final_proj/val2014/COCO_val2014_000000052689.jpg\n",
            "loading: /content/drive/MyDrive/UCLA/cs 263/final_proj/val2014/COCO_val2014_000000052689.jpg\n",
            "loading: /content/drive/MyDrive/UCLA/cs 263/final_proj/val2014/COCO_val2014_000000052689.jpg\n",
            "loading: /content/drive/MyDrive/UCLA/cs 263/final_proj/val2014/COCO_val2014_000000052689.jpg\n",
            "loading: /content/drive/MyDrive/UCLA/cs 263/final_proj/val2014/COCO_val2014_000000516601.jpg\n",
            "loading: /content/drive/MyDrive/UCLA/cs 263/final_proj/val2014/COCO_val2014_000000516601.jpg\n",
            "loading: /content/drive/MyDrive/UCLA/cs 263/final_proj/val2014/COCO_val2014_000000516601.jpg\n",
            "loading: /content/drive/MyDrive/UCLA/cs 263/final_proj/val2014/COCO_val2014_000000516601.jpg\n",
            "loading: /content/drive/MyDrive/UCLA/cs 263/final_proj/val2014/COCO_val2014_000000516601.jpg\n",
            "loading: /content/drive/MyDrive/UCLA/cs 263/final_proj/val2014/COCO_val2014_000000516601.jpg\n",
            "loading: /content/drive/MyDrive/UCLA/cs 263/final_proj/val2014/COCO_val2014_000000562155.jpg\n",
            "loading: /content/drive/MyDrive/UCLA/cs 263/final_proj/val2014/COCO_val2014_000000562155.jpg\n",
            "loading: /content/drive/MyDrive/UCLA/cs 263/final_proj/val2014/COCO_val2014_000000562155.jpg\n",
            "loading: /content/drive/MyDrive/UCLA/cs 263/final_proj/val2014/COCO_val2014_000000562155.jpg\n",
            "loading: /content/drive/MyDrive/UCLA/cs 263/final_proj/val2014/COCO_val2014_000000562155.jpg\n",
            "loading: /content/drive/MyDrive/UCLA/cs 263/final_proj/val2014/COCO_val2014_000000562155.jpg\n",
            "loading: /content/drive/MyDrive/UCLA/cs 263/final_proj/val2014/COCO_val2014_000000142056.jpg\n",
            "loading: /content/drive/MyDrive/UCLA/cs 263/final_proj/val2014/COCO_val2014_000000142056.jpg\n",
            "loading: /content/drive/MyDrive/UCLA/cs 263/final_proj/val2014/COCO_val2014_000000142056.jpg\n",
            "loading: /content/drive/MyDrive/UCLA/cs 263/final_proj/val2014/COCO_val2014_000000142056.jpg\n",
            "loading: /content/drive/MyDrive/UCLA/cs 263/final_proj/val2014/COCO_val2014_000000142056.jpg\n",
            "loading: /content/drive/MyDrive/UCLA/cs 263/final_proj/val2014/COCO_val2014_000000142056.jpg\n",
            "loading: /content/drive/MyDrive/UCLA/cs 263/final_proj/val2014/COCO_val2014_000000299986.jpg\n",
            "loading: /content/drive/MyDrive/UCLA/cs 263/final_proj/val2014/COCO_val2014_000000299986.jpg\n",
            "loading: /content/drive/MyDrive/UCLA/cs 263/final_proj/val2014/COCO_val2014_000000299986.jpg\n",
            "loading: /content/drive/MyDrive/UCLA/cs 263/final_proj/val2014/COCO_val2014_000000299986.jpg\n",
            "loading: /content/drive/MyDrive/UCLA/cs 263/final_proj/val2014/COCO_val2014_000000299986.jpg\n",
            "loading: /content/drive/MyDrive/UCLA/cs 263/final_proj/val2014/COCO_val2014_000000299986.jpg\n",
            "loading: /content/drive/MyDrive/UCLA/cs 263/final_proj/val2014/COCO_val2014_000000521643.jpg\n",
            "loading: /content/drive/MyDrive/UCLA/cs 263/final_proj/val2014/COCO_val2014_000000521643.jpg\n",
            "loading: /content/drive/MyDrive/UCLA/cs 263/final_proj/val2014/COCO_val2014_000000521643.jpg\n",
            "loading: /content/drive/MyDrive/UCLA/cs 263/final_proj/val2014/COCO_val2014_000000521643.jpg\n",
            "loading: /content/drive/MyDrive/UCLA/cs 263/final_proj/val2014/COCO_val2014_000000521643.jpg\n",
            "loading: /content/drive/MyDrive/UCLA/cs 263/final_proj/val2014/COCO_val2014_000000521643.jpg\n",
            "loading: /content/drive/MyDrive/UCLA/cs 263/final_proj/val2014/COCO_val2014_000000574454.jpg\n",
            "loading: /content/drive/MyDrive/UCLA/cs 263/final_proj/val2014/COCO_val2014_000000574454.jpg\n",
            "loading: /content/drive/MyDrive/UCLA/cs 263/final_proj/val2014/COCO_val2014_000000574454.jpg\n",
            "loading: /content/drive/MyDrive/UCLA/cs 263/final_proj/val2014/COCO_val2014_000000574454.jpg\n",
            "loading: /content/drive/MyDrive/UCLA/cs 263/final_proj/val2014/COCO_val2014_000000574454.jpg\n",
            "loading: /content/drive/MyDrive/UCLA/cs 263/final_proj/val2014/COCO_val2014_000000574454.jpg\n",
            "loading: /content/drive/MyDrive/UCLA/cs 263/final_proj/val2014/COCO_val2014_000000415727.jpg\n",
            "loading: /content/drive/MyDrive/UCLA/cs 263/final_proj/val2014/COCO_val2014_000000415727.jpg\n",
            "loading: /content/drive/MyDrive/UCLA/cs 263/final_proj/val2014/COCO_val2014_000000415727.jpg\n",
            "loading: /content/drive/MyDrive/UCLA/cs 263/final_proj/val2014/COCO_val2014_000000415727.jpg\n",
            "loading: /content/drive/MyDrive/UCLA/cs 263/final_proj/val2014/COCO_val2014_000000415727.jpg\n",
            "loading: /content/drive/MyDrive/UCLA/cs 263/final_proj/val2014/COCO_val2014_000000415727.jpg\n",
            "loading: /content/drive/MyDrive/UCLA/cs 263/final_proj/val2014/COCO_val2014_000000222118.jpg\n",
            "loading: /content/drive/MyDrive/UCLA/cs 263/final_proj/val2014/COCO_val2014_000000222118.jpg\n",
            "loading: /content/drive/MyDrive/UCLA/cs 263/final_proj/val2014/COCO_val2014_000000222118.jpg\n",
            "loading: /content/drive/MyDrive/UCLA/cs 263/final_proj/val2014/COCO_val2014_000000222118.jpg\n",
            "loading: /content/drive/MyDrive/UCLA/cs 263/final_proj/val2014/COCO_val2014_000000222118.jpg\n",
            "loading: /content/drive/MyDrive/UCLA/cs 263/final_proj/val2014/COCO_val2014_000000222118.jpg\n",
            "loading: /content/drive/MyDrive/UCLA/cs 263/final_proj/val2014/COCO_val2014_000000514292.jpg\n",
            "loading: /content/drive/MyDrive/UCLA/cs 263/final_proj/val2014/COCO_val2014_000000514292.jpg\n",
            "loading: /content/drive/MyDrive/UCLA/cs 263/final_proj/val2014/COCO_val2014_000000514292.jpg\n",
            "loading: /content/drive/MyDrive/UCLA/cs 263/final_proj/val2014/COCO_val2014_000000514292.jpg\n",
            "loading: /content/drive/MyDrive/UCLA/cs 263/final_proj/val2014/COCO_val2014_000000514292.jpg\n",
            "loading: /content/drive/MyDrive/UCLA/cs 263/final_proj/val2014/COCO_val2014_000000514292.jpg\n",
            "loading: /content/drive/MyDrive/UCLA/cs 263/final_proj/val2014/COCO_val2014_000000117527.jpg\n",
            "loading: /content/drive/MyDrive/UCLA/cs 263/final_proj/val2014/COCO_val2014_000000117527.jpg\n",
            "loading: /content/drive/MyDrive/UCLA/cs 263/final_proj/val2014/COCO_val2014_000000117527.jpg\n",
            "loading: /content/drive/MyDrive/UCLA/cs 263/final_proj/val2014/COCO_val2014_000000117527.jpg\n",
            "loading: /content/drive/MyDrive/UCLA/cs 263/final_proj/val2014/COCO_val2014_000000117527.jpg\n",
            "loading: /content/drive/MyDrive/UCLA/cs 263/final_proj/val2014/COCO_val2014_000000117527.jpg\n",
            "loading: /content/drive/MyDrive/UCLA/cs 263/final_proj/val2014/COCO_val2014_000000016451.jpg\n",
            "loading: /content/drive/MyDrive/UCLA/cs 263/final_proj/val2014/COCO_val2014_000000016451.jpg\n",
            "loading: /content/drive/MyDrive/UCLA/cs 263/final_proj/val2014/COCO_val2014_000000016451.jpg\n",
            "loading: /content/drive/MyDrive/UCLA/cs 263/final_proj/val2014/COCO_val2014_000000016451.jpg\n",
            "loading: /content/drive/MyDrive/UCLA/cs 263/final_proj/val2014/COCO_val2014_000000016451.jpg\n",
            "loading: /content/drive/MyDrive/UCLA/cs 263/final_proj/val2014/COCO_val2014_000000016451.jpg\n",
            "loading: /content/drive/MyDrive/UCLA/cs 263/final_proj/val2014/COCO_val2014_000000429706.jpg\n",
            "loading: /content/drive/MyDrive/UCLA/cs 263/final_proj/val2014/COCO_val2014_000000429706.jpg\n",
            "loading: /content/drive/MyDrive/UCLA/cs 263/final_proj/val2014/COCO_val2014_000000429706.jpg\n",
            "loading: /content/drive/MyDrive/UCLA/cs 263/final_proj/val2014/COCO_val2014_000000429706.jpg\n",
            "loading: /content/drive/MyDrive/UCLA/cs 263/final_proj/val2014/COCO_val2014_000000429706.jpg\n",
            "loading: /content/drive/MyDrive/UCLA/cs 263/final_proj/val2014/COCO_val2014_000000429706.jpg\n",
            "loading: /content/drive/MyDrive/UCLA/cs 263/final_proj/val2014/COCO_val2014_000000429580.jpg\n",
            "loading: /content/drive/MyDrive/UCLA/cs 263/final_proj/val2014/COCO_val2014_000000429580.jpg\n",
            "loading: /content/drive/MyDrive/UCLA/cs 263/final_proj/val2014/COCO_val2014_000000429580.jpg\n",
            "loading: /content/drive/MyDrive/UCLA/cs 263/final_proj/val2014/COCO_val2014_000000429580.jpg\n",
            "loading: /content/drive/MyDrive/UCLA/cs 263/final_proj/val2014/COCO_val2014_000000429580.jpg\n",
            "loading: /content/drive/MyDrive/UCLA/cs 263/final_proj/val2014/COCO_val2014_000000429580.jpg\n",
            "loading: /content/drive/MyDrive/UCLA/cs 263/final_proj/val2014/COCO_val2014_000000283168.jpg\n",
            "loading: /content/drive/MyDrive/UCLA/cs 263/final_proj/val2014/COCO_val2014_000000283168.jpg\n",
            "loading: /content/drive/MyDrive/UCLA/cs 263/final_proj/val2014/COCO_val2014_000000283168.jpg\n",
            "loading: /content/drive/MyDrive/UCLA/cs 263/final_proj/val2014/COCO_val2014_000000283168.jpg\n",
            "loading: /content/drive/MyDrive/UCLA/cs 263/final_proj/val2014/COCO_val2014_000000283168.jpg\n",
            "loading: /content/drive/MyDrive/UCLA/cs 263/final_proj/val2014/COCO_val2014_000000283168.jpg\n",
            "loading: /content/drive/MyDrive/UCLA/cs 263/final_proj/val2014/COCO_val2014_000000405205.jpg\n",
            "loading: /content/drive/MyDrive/UCLA/cs 263/final_proj/val2014/COCO_val2014_000000405205.jpg\n",
            "loading: /content/drive/MyDrive/UCLA/cs 263/final_proj/val2014/COCO_val2014_000000405205.jpg\n",
            "loading: /content/drive/MyDrive/UCLA/cs 263/final_proj/val2014/COCO_val2014_000000405205.jpg\n",
            "loading: /content/drive/MyDrive/UCLA/cs 263/final_proj/val2014/COCO_val2014_000000405205.jpg\n",
            "loading: /content/drive/MyDrive/UCLA/cs 263/final_proj/val2014/COCO_val2014_000000405205.jpg\n",
            "loading: /content/drive/MyDrive/UCLA/cs 263/final_proj/val2014/COCO_val2014_000000123570.jpg\n",
            "loading: /content/drive/MyDrive/UCLA/cs 263/final_proj/val2014/COCO_val2014_000000123570.jpg\n",
            "loading: /content/drive/MyDrive/UCLA/cs 263/final_proj/val2014/COCO_val2014_000000123570.jpg\n",
            "loading: /content/drive/MyDrive/UCLA/cs 263/final_proj/val2014/COCO_val2014_000000123570.jpg\n",
            "loading: /content/drive/MyDrive/UCLA/cs 263/final_proj/val2014/COCO_val2014_000000123570.jpg\n",
            "loading: /content/drive/MyDrive/UCLA/cs 263/final_proj/val2014/COCO_val2014_000000123570.jpg\n",
            "loading: /content/drive/MyDrive/UCLA/cs 263/final_proj/val2014/COCO_val2014_000000365317.jpg\n",
            "loading: /content/drive/MyDrive/UCLA/cs 263/final_proj/val2014/COCO_val2014_000000365317.jpg\n",
            "loading: /content/drive/MyDrive/UCLA/cs 263/final_proj/val2014/COCO_val2014_000000365317.jpg\n",
            "loading: /content/drive/MyDrive/UCLA/cs 263/final_proj/val2014/COCO_val2014_000000365317.jpg\n",
            "loading: /content/drive/MyDrive/UCLA/cs 263/final_proj/val2014/COCO_val2014_000000365317.jpg\n",
            "loading: /content/drive/MyDrive/UCLA/cs 263/final_proj/val2014/COCO_val2014_000000365317.jpg\n",
            "loading: /content/drive/MyDrive/UCLA/cs 263/final_proj/val2014/COCO_val2014_000000224155.jpg\n",
            "loading: /content/drive/MyDrive/UCLA/cs 263/final_proj/val2014/COCO_val2014_000000224155.jpg\n",
            "loading: /content/drive/MyDrive/UCLA/cs 263/final_proj/val2014/COCO_val2014_000000224155.jpg\n",
            "loading: /content/drive/MyDrive/UCLA/cs 263/final_proj/val2014/COCO_val2014_000000224155.jpg\n",
            "loading: /content/drive/MyDrive/UCLA/cs 263/final_proj/val2014/COCO_val2014_000000224155.jpg\n",
            "loading: /content/drive/MyDrive/UCLA/cs 263/final_proj/val2014/COCO_val2014_000000224155.jpg\n",
            "loading: /content/drive/MyDrive/UCLA/cs 263/final_proj/val2014/COCO_val2014_000000191964.jpg\n",
            "loading: /content/drive/MyDrive/UCLA/cs 263/final_proj/val2014/COCO_val2014_000000191964.jpg\n",
            "loading: /content/drive/MyDrive/UCLA/cs 263/final_proj/val2014/COCO_val2014_000000191964.jpg\n",
            "loading: /content/drive/MyDrive/UCLA/cs 263/final_proj/val2014/COCO_val2014_000000191964.jpg\n",
            "loading: /content/drive/MyDrive/UCLA/cs 263/final_proj/val2014/COCO_val2014_000000191964.jpg\n",
            "loading: /content/drive/MyDrive/UCLA/cs 263/final_proj/val2014/COCO_val2014_000000191964.jpg\n",
            "loading: /content/drive/MyDrive/UCLA/cs 263/final_proj/val2014/COCO_val2014_000000265472.jpg\n",
            "loading: /content/drive/MyDrive/UCLA/cs 263/final_proj/val2014/COCO_val2014_000000265472.jpg\n",
            "loading: /content/drive/MyDrive/UCLA/cs 263/final_proj/val2014/COCO_val2014_000000265472.jpg\n",
            "loading: /content/drive/MyDrive/UCLA/cs 263/final_proj/val2014/COCO_val2014_000000265472.jpg\n",
            "loading: /content/drive/MyDrive/UCLA/cs 263/final_proj/val2014/COCO_val2014_000000265472.jpg\n",
            "loading: /content/drive/MyDrive/UCLA/cs 263/final_proj/val2014/COCO_val2014_000000265472.jpg\n",
            "loading: /content/drive/MyDrive/UCLA/cs 263/final_proj/val2014/COCO_val2014_000000550514.jpg\n",
            "loading: /content/drive/MyDrive/UCLA/cs 263/final_proj/val2014/COCO_val2014_000000550514.jpg\n",
            "loading: /content/drive/MyDrive/UCLA/cs 263/final_proj/val2014/COCO_val2014_000000550514.jpg\n",
            "loading: /content/drive/MyDrive/UCLA/cs 263/final_proj/val2014/COCO_val2014_000000550514.jpg\n",
            "loading: /content/drive/MyDrive/UCLA/cs 263/final_proj/val2014/COCO_val2014_000000550514.jpg\n",
            "loading: /content/drive/MyDrive/UCLA/cs 263/final_proj/val2014/COCO_val2014_000000550514.jpg\n",
            "loading: /content/drive/MyDrive/UCLA/cs 263/final_proj/val2014/COCO_val2014_000000163814.jpg\n",
            "loading: /content/drive/MyDrive/UCLA/cs 263/final_proj/val2014/COCO_val2014_000000163814.jpg\n",
            "loading: /content/drive/MyDrive/UCLA/cs 263/final_proj/val2014/COCO_val2014_000000163814.jpg\n",
            "loading: /content/drive/MyDrive/UCLA/cs 263/final_proj/val2014/COCO_val2014_000000163814.jpg\n",
            "loading: /content/drive/MyDrive/UCLA/cs 263/final_proj/val2014/COCO_val2014_000000163814.jpg\n",
            "loading: /content/drive/MyDrive/UCLA/cs 263/final_proj/val2014/COCO_val2014_000000163814.jpg\n",
            "loading: /content/drive/MyDrive/UCLA/cs 263/final_proj/val2014/COCO_val2014_000000505933.jpg\n",
            "loading: /content/drive/MyDrive/UCLA/cs 263/final_proj/val2014/COCO_val2014_000000505933.jpg\n",
            "loading: /content/drive/MyDrive/UCLA/cs 263/final_proj/val2014/COCO_val2014_000000505933.jpg\n",
            "loading: /content/drive/MyDrive/UCLA/cs 263/final_proj/val2014/COCO_val2014_000000505933.jpg\n",
            "loading: /content/drive/MyDrive/UCLA/cs 263/final_proj/val2014/COCO_val2014_000000505933.jpg\n",
            "loading: /content/drive/MyDrive/UCLA/cs 263/final_proj/val2014/COCO_val2014_000000505933.jpg\n",
            "loading: /content/drive/MyDrive/UCLA/cs 263/final_proj/val2014/COCO_val2014_000000318550.jpg\n",
            "loading: /content/drive/MyDrive/UCLA/cs 263/final_proj/val2014/COCO_val2014_000000318550.jpg\n",
            "loading: /content/drive/MyDrive/UCLA/cs 263/final_proj/val2014/COCO_val2014_000000318550.jpg\n",
            "loading: /content/drive/MyDrive/UCLA/cs 263/final_proj/val2014/COCO_val2014_000000318550.jpg\n",
            "loading: /content/drive/MyDrive/UCLA/cs 263/final_proj/val2014/COCO_val2014_000000318550.jpg\n",
            "loading: /content/drive/MyDrive/UCLA/cs 263/final_proj/val2014/COCO_val2014_000000318550.jpg\n",
            "loading: /content/drive/MyDrive/UCLA/cs 263/final_proj/val2014/COCO_val2014_000000367528.jpg\n",
            "loading: /content/drive/MyDrive/UCLA/cs 263/final_proj/val2014/COCO_val2014_000000367528.jpg\n",
            "loading: /content/drive/MyDrive/UCLA/cs 263/final_proj/val2014/COCO_val2014_000000367528.jpg\n",
            "loading: /content/drive/MyDrive/UCLA/cs 263/final_proj/val2014/COCO_val2014_000000367528.jpg\n",
            "loading: /content/drive/MyDrive/UCLA/cs 263/final_proj/val2014/COCO_val2014_000000367528.jpg\n",
            "loading: /content/drive/MyDrive/UCLA/cs 263/final_proj/val2014/COCO_val2014_000000367528.jpg\n",
            "loading: /content/drive/MyDrive/UCLA/cs 263/final_proj/val2014/COCO_val2014_000000252911.jpg\n",
            "loading: /content/drive/MyDrive/UCLA/cs 263/final_proj/val2014/COCO_val2014_000000252911.jpg\n",
            "loading: /content/drive/MyDrive/UCLA/cs 263/final_proj/val2014/COCO_val2014_000000252911.jpg\n",
            "loading: /content/drive/MyDrive/UCLA/cs 263/final_proj/val2014/COCO_val2014_000000252911.jpg\n",
            "loading: /content/drive/MyDrive/UCLA/cs 263/final_proj/val2014/COCO_val2014_000000252911.jpg\n",
            "loading: /content/drive/MyDrive/UCLA/cs 263/final_proj/val2014/COCO_val2014_000000252911.jpg\n",
            "loading: /content/drive/MyDrive/UCLA/cs 263/final_proj/val2014/COCO_val2014_000000214421.jpg\n",
            "loading: /content/drive/MyDrive/UCLA/cs 263/final_proj/val2014/COCO_val2014_000000214421.jpg\n",
            "loading: /content/drive/MyDrive/UCLA/cs 263/final_proj/val2014/COCO_val2014_000000214421.jpg\n",
            "loading: /content/drive/MyDrive/UCLA/cs 263/final_proj/val2014/COCO_val2014_000000214421.jpg\n",
            "loading: /content/drive/MyDrive/UCLA/cs 263/final_proj/val2014/COCO_val2014_000000214421.jpg\n",
            "loading: /content/drive/MyDrive/UCLA/cs 263/final_proj/val2014/COCO_val2014_000000214421.jpg\n",
            "loading: /content/drive/MyDrive/UCLA/cs 263/final_proj/val2014/COCO_val2014_000000050627.jpg\n",
            "loading: /content/drive/MyDrive/UCLA/cs 263/final_proj/val2014/COCO_val2014_000000050627.jpg\n",
            "loading: /content/drive/MyDrive/UCLA/cs 263/final_proj/val2014/COCO_val2014_000000050627.jpg\n",
            "loading: /content/drive/MyDrive/UCLA/cs 263/final_proj/val2014/COCO_val2014_000000050627.jpg\n",
            "loading: /content/drive/MyDrive/UCLA/cs 263/final_proj/val2014/COCO_val2014_000000050627.jpg\n",
            "loading: /content/drive/MyDrive/UCLA/cs 263/final_proj/val2014/COCO_val2014_000000050627.jpg\n",
            "loading: /content/drive/MyDrive/UCLA/cs 263/final_proj/val2014/COCO_val2014_000000233426.jpg\n",
            "loading: /content/drive/MyDrive/UCLA/cs 263/final_proj/val2014/COCO_val2014_000000233426.jpg\n",
            "loading: /content/drive/MyDrive/UCLA/cs 263/final_proj/val2014/COCO_val2014_000000233426.jpg\n",
            "loading: /content/drive/MyDrive/UCLA/cs 263/final_proj/val2014/COCO_val2014_000000233426.jpg\n",
            "loading: /content/drive/MyDrive/UCLA/cs 263/final_proj/val2014/COCO_val2014_000000233426.jpg\n",
            "loading: /content/drive/MyDrive/UCLA/cs 263/final_proj/val2014/COCO_val2014_000000233426.jpg\n",
            "loading: /content/drive/MyDrive/UCLA/cs 263/final_proj/val2014/COCO_val2014_000000372817.jpg\n",
            "loading: /content/drive/MyDrive/UCLA/cs 263/final_proj/val2014/COCO_val2014_000000372817.jpg\n",
            "loading: /content/drive/MyDrive/UCLA/cs 263/final_proj/val2014/COCO_val2014_000000372817.jpg\n",
            "loading: /content/drive/MyDrive/UCLA/cs 263/final_proj/val2014/COCO_val2014_000000372817.jpg\n",
            "loading: /content/drive/MyDrive/UCLA/cs 263/final_proj/val2014/COCO_val2014_000000372817.jpg\n",
            "loading: /content/drive/MyDrive/UCLA/cs 263/final_proj/val2014/COCO_val2014_000000372817.jpg\n",
            "loading: /content/drive/MyDrive/UCLA/cs 263/final_proj/val2014/COCO_val2014_000000536073.jpg\n",
            "loading: /content/drive/MyDrive/UCLA/cs 263/final_proj/val2014/COCO_val2014_000000536073.jpg\n",
            "loading: /content/drive/MyDrive/UCLA/cs 263/final_proj/val2014/COCO_val2014_000000536073.jpg\n",
            "loading: /content/drive/MyDrive/UCLA/cs 263/final_proj/val2014/COCO_val2014_000000536073.jpg\n",
            "loading: /content/drive/MyDrive/UCLA/cs 263/final_proj/val2014/COCO_val2014_000000536073.jpg\n",
            "loading: /content/drive/MyDrive/UCLA/cs 263/final_proj/val2014/COCO_val2014_000000536073.jpg\n",
            "loading: /content/drive/MyDrive/UCLA/cs 263/final_proj/val2014/COCO_val2014_000000579231.jpg\n",
            "loading: /content/drive/MyDrive/UCLA/cs 263/final_proj/val2014/COCO_val2014_000000579231.jpg\n",
            "loading: /content/drive/MyDrive/UCLA/cs 263/final_proj/val2014/COCO_val2014_000000579231.jpg\n",
            "loading: /content/drive/MyDrive/UCLA/cs 263/final_proj/val2014/COCO_val2014_000000579231.jpg\n",
            "loading: /content/drive/MyDrive/UCLA/cs 263/final_proj/val2014/COCO_val2014_000000579231.jpg\n",
            "loading: /content/drive/MyDrive/UCLA/cs 263/final_proj/val2014/COCO_val2014_000000579231.jpg\n",
            "loading: /content/drive/MyDrive/UCLA/cs 263/final_proj/val2014/COCO_val2014_000000092624.jpg\n",
            "loading: /content/drive/MyDrive/UCLA/cs 263/final_proj/val2014/COCO_val2014_000000092624.jpg\n",
            "loading: /content/drive/MyDrive/UCLA/cs 263/final_proj/val2014/COCO_val2014_000000092624.jpg\n",
            "loading: /content/drive/MyDrive/UCLA/cs 263/final_proj/val2014/COCO_val2014_000000092624.jpg\n",
            "loading: /content/drive/MyDrive/UCLA/cs 263/final_proj/val2014/COCO_val2014_000000092624.jpg\n",
            "loading: /content/drive/MyDrive/UCLA/cs 263/final_proj/val2014/COCO_val2014_000000092624.jpg\n",
            "loading: /content/drive/MyDrive/UCLA/cs 263/final_proj/val2014/COCO_val2014_000000390184.jpg\n",
            "loading: /content/drive/MyDrive/UCLA/cs 263/final_proj/val2014/COCO_val2014_000000390184.jpg\n",
            "loading: /content/drive/MyDrive/UCLA/cs 263/final_proj/val2014/COCO_val2014_000000390184.jpg\n",
            "loading: /content/drive/MyDrive/UCLA/cs 263/final_proj/val2014/COCO_val2014_000000390184.jpg\n",
            "loading: /content/drive/MyDrive/UCLA/cs 263/final_proj/val2014/COCO_val2014_000000390184.jpg\n",
            "loading: /content/drive/MyDrive/UCLA/cs 263/final_proj/val2014/COCO_val2014_000000390184.jpg\n",
            "loading: /content/drive/MyDrive/UCLA/cs 263/final_proj/val2014/COCO_val2014_000000079213.jpg\n",
            "loading: /content/drive/MyDrive/UCLA/cs 263/final_proj/val2014/COCO_val2014_000000079213.jpg\n",
            "loading: /content/drive/MyDrive/UCLA/cs 263/final_proj/val2014/COCO_val2014_000000079213.jpg\n",
            "loading: /content/drive/MyDrive/UCLA/cs 263/final_proj/val2014/COCO_val2014_000000079213.jpg\n",
            "loading: /content/drive/MyDrive/UCLA/cs 263/final_proj/val2014/COCO_val2014_000000079213.jpg\n",
            "loading: /content/drive/MyDrive/UCLA/cs 263/final_proj/val2014/COCO_val2014_000000079213.jpg\n",
            "loading: /content/drive/MyDrive/UCLA/cs 263/final_proj/val2014/COCO_val2014_000000465346.jpg\n",
            "loading: /content/drive/MyDrive/UCLA/cs 263/final_proj/val2014/COCO_val2014_000000465346.jpg\n",
            "loading: /content/drive/MyDrive/UCLA/cs 263/final_proj/val2014/COCO_val2014_000000465346.jpg\n",
            "loading: /content/drive/MyDrive/UCLA/cs 263/final_proj/val2014/COCO_val2014_000000465346.jpg\n",
            "loading: /content/drive/MyDrive/UCLA/cs 263/final_proj/val2014/COCO_val2014_000000465346.jpg\n",
            "loading: /content/drive/MyDrive/UCLA/cs 263/final_proj/val2014/COCO_val2014_000000465346.jpg\n",
            "loading: /content/drive/MyDrive/UCLA/cs 263/final_proj/val2014/COCO_val2014_000000514248.jpg\n",
            "loading: /content/drive/MyDrive/UCLA/cs 263/final_proj/val2014/COCO_val2014_000000514248.jpg\n",
            "loading: /content/drive/MyDrive/UCLA/cs 263/final_proj/val2014/COCO_val2014_000000514248.jpg\n",
            "loading: /content/drive/MyDrive/UCLA/cs 263/final_proj/val2014/COCO_val2014_000000514248.jpg\n",
            "loading: /content/drive/MyDrive/UCLA/cs 263/final_proj/val2014/COCO_val2014_000000514248.jpg\n",
            "loading: /content/drive/MyDrive/UCLA/cs 263/final_proj/val2014/COCO_val2014_000000514248.jpg\n",
            "loading: /content/drive/MyDrive/UCLA/cs 263/final_proj/val2014/COCO_val2014_000000355776.jpg\n",
            "loading: /content/drive/MyDrive/UCLA/cs 263/final_proj/val2014/COCO_val2014_000000355776.jpg\n",
            "loading: /content/drive/MyDrive/UCLA/cs 263/final_proj/val2014/COCO_val2014_000000355776.jpg\n",
            "loading: /content/drive/MyDrive/UCLA/cs 263/final_proj/val2014/COCO_val2014_000000355776.jpg\n",
            "loading: /content/drive/MyDrive/UCLA/cs 263/final_proj/val2014/COCO_val2014_000000355776.jpg\n",
            "loading: /content/drive/MyDrive/UCLA/cs 263/final_proj/val2014/COCO_val2014_000000355776.jpg\n",
            "loading: /content/drive/MyDrive/UCLA/cs 263/final_proj/val2014/COCO_val2014_000000575355.jpg\n",
            "loading: /content/drive/MyDrive/UCLA/cs 263/final_proj/val2014/COCO_val2014_000000575355.jpg\n",
            "loading: /content/drive/MyDrive/UCLA/cs 263/final_proj/val2014/COCO_val2014_000000575355.jpg\n",
            "loading: /content/drive/MyDrive/UCLA/cs 263/final_proj/val2014/COCO_val2014_000000575355.jpg\n",
            "loading: /content/drive/MyDrive/UCLA/cs 263/final_proj/val2014/COCO_val2014_000000575355.jpg\n",
            "loading: /content/drive/MyDrive/UCLA/cs 263/final_proj/val2014/COCO_val2014_000000575355.jpg\n",
            "loading: /content/drive/MyDrive/UCLA/cs 263/final_proj/val2014/COCO_val2014_000000396068.jpg\n",
            "loading: /content/drive/MyDrive/UCLA/cs 263/final_proj/val2014/COCO_val2014_000000396068.jpg\n",
            "loading: /content/drive/MyDrive/UCLA/cs 263/final_proj/val2014/COCO_val2014_000000396068.jpg\n",
            "loading: /content/drive/MyDrive/UCLA/cs 263/final_proj/val2014/COCO_val2014_000000396068.jpg\n",
            "loading: /content/drive/MyDrive/UCLA/cs 263/final_proj/val2014/COCO_val2014_000000396068.jpg\n",
            "loading: /content/drive/MyDrive/UCLA/cs 263/final_proj/val2014/COCO_val2014_000000396068.jpg\n",
            "loading: /content/drive/MyDrive/UCLA/cs 263/final_proj/val2014/COCO_val2014_000000559547.jpg\n",
            "loading: /content/drive/MyDrive/UCLA/cs 263/final_proj/val2014/COCO_val2014_000000559547.jpg\n",
            "loading: /content/drive/MyDrive/UCLA/cs 263/final_proj/val2014/COCO_val2014_000000559547.jpg\n",
            "loading: /content/drive/MyDrive/UCLA/cs 263/final_proj/val2014/COCO_val2014_000000559547.jpg\n",
            "loading: /content/drive/MyDrive/UCLA/cs 263/final_proj/val2014/COCO_val2014_000000559547.jpg\n",
            "loading: /content/drive/MyDrive/UCLA/cs 263/final_proj/val2014/COCO_val2014_000000559547.jpg\n",
            "loading: /content/drive/MyDrive/UCLA/cs 263/final_proj/val2014/COCO_val2014_000000230175.jpg\n",
            "loading: /content/drive/MyDrive/UCLA/cs 263/final_proj/val2014/COCO_val2014_000000230175.jpg\n",
            "loading: /content/drive/MyDrive/UCLA/cs 263/final_proj/val2014/COCO_val2014_000000230175.jpg\n",
            "loading: /content/drive/MyDrive/UCLA/cs 263/final_proj/val2014/COCO_val2014_000000230175.jpg\n",
            "loading: /content/drive/MyDrive/UCLA/cs 263/final_proj/val2014/COCO_val2014_000000230175.jpg\n",
            "loading: /content/drive/MyDrive/UCLA/cs 263/final_proj/val2014/COCO_val2014_000000230175.jpg\n",
            "loading: /content/drive/MyDrive/UCLA/cs 263/final_proj/val2014/COCO_val2014_000000159969.jpg\n",
            "loading: /content/drive/MyDrive/UCLA/cs 263/final_proj/val2014/COCO_val2014_000000159969.jpg\n",
            "loading: /content/drive/MyDrive/UCLA/cs 263/final_proj/val2014/COCO_val2014_000000159969.jpg\n",
            "loading: /content/drive/MyDrive/UCLA/cs 263/final_proj/val2014/COCO_val2014_000000159969.jpg\n",
            "loading: /content/drive/MyDrive/UCLA/cs 263/final_proj/val2014/COCO_val2014_000000159969.jpg\n",
            "loading: /content/drive/MyDrive/UCLA/cs 263/final_proj/val2014/COCO_val2014_000000159969.jpg\n",
            "loading: /content/drive/MyDrive/UCLA/cs 263/final_proj/val2014/COCO_val2014_000000399702.jpg\n",
            "loading: /content/drive/MyDrive/UCLA/cs 263/final_proj/val2014/COCO_val2014_000000399702.jpg\n",
            "loading: /content/drive/MyDrive/UCLA/cs 263/final_proj/val2014/COCO_val2014_000000399702.jpg\n",
            "loading: /content/drive/MyDrive/UCLA/cs 263/final_proj/val2014/COCO_val2014_000000399702.jpg\n",
            "loading: /content/drive/MyDrive/UCLA/cs 263/final_proj/val2014/COCO_val2014_000000399702.jpg\n",
            "loading: /content/drive/MyDrive/UCLA/cs 263/final_proj/val2014/COCO_val2014_000000399702.jpg\n",
            "loading: /content/drive/MyDrive/UCLA/cs 263/final_proj/val2014/COCO_val2014_000000555538.jpg\n",
            "loading: /content/drive/MyDrive/UCLA/cs 263/final_proj/val2014/COCO_val2014_000000555538.jpg\n",
            "loading: /content/drive/MyDrive/UCLA/cs 263/final_proj/val2014/COCO_val2014_000000555538.jpg\n",
            "loading: /content/drive/MyDrive/UCLA/cs 263/final_proj/val2014/COCO_val2014_000000555538.jpg\n",
            "loading: /content/drive/MyDrive/UCLA/cs 263/final_proj/val2014/COCO_val2014_000000555538.jpg\n",
            "loading: /content/drive/MyDrive/UCLA/cs 263/final_proj/val2014/COCO_val2014_000000555538.jpg\n",
            "loading: /content/drive/MyDrive/UCLA/cs 263/final_proj/val2014/COCO_val2014_000000264155.jpg\n",
            "loading: /content/drive/MyDrive/UCLA/cs 263/final_proj/val2014/COCO_val2014_000000264155.jpg\n",
            "loading: /content/drive/MyDrive/UCLA/cs 263/final_proj/val2014/COCO_val2014_000000264155.jpg\n",
            "loading: /content/drive/MyDrive/UCLA/cs 263/final_proj/val2014/COCO_val2014_000000264155.jpg\n",
            "loading: /content/drive/MyDrive/UCLA/cs 263/final_proj/val2014/COCO_val2014_000000264155.jpg\n",
            "loading: /content/drive/MyDrive/UCLA/cs 263/final_proj/val2014/COCO_val2014_000000264155.jpg\n",
            "loading: /content/drive/MyDrive/UCLA/cs 263/final_proj/val2014/COCO_val2014_000000125572.jpg\n",
            "loading: /content/drive/MyDrive/UCLA/cs 263/final_proj/val2014/COCO_val2014_000000125572.jpg\n",
            "loading: /content/drive/MyDrive/UCLA/cs 263/final_proj/val2014/COCO_val2014_000000125572.jpg\n",
            "loading: /content/drive/MyDrive/UCLA/cs 263/final_proj/val2014/COCO_val2014_000000125572.jpg\n",
            "loading: /content/drive/MyDrive/UCLA/cs 263/final_proj/val2014/COCO_val2014_000000125572.jpg\n",
            "loading: /content/drive/MyDrive/UCLA/cs 263/final_proj/val2014/COCO_val2014_000000125572.jpg\n",
            "loading: /content/drive/MyDrive/UCLA/cs 263/final_proj/val2014/COCO_val2014_000000560744.jpg\n",
            "loading: /content/drive/MyDrive/UCLA/cs 263/final_proj/val2014/COCO_val2014_000000560744.jpg\n",
            "loading: /content/drive/MyDrive/UCLA/cs 263/final_proj/val2014/COCO_val2014_000000560744.jpg\n",
            "loading: /content/drive/MyDrive/UCLA/cs 263/final_proj/val2014/COCO_val2014_000000560744.jpg\n",
            "loading: /content/drive/MyDrive/UCLA/cs 263/final_proj/val2014/COCO_val2014_000000560744.jpg\n",
            "loading: /content/drive/MyDrive/UCLA/cs 263/final_proj/val2014/COCO_val2014_000000560744.jpg\n",
            "loading: /content/drive/MyDrive/UCLA/cs 263/final_proj/val2014/COCO_val2014_000000045685.jpg\n",
            "loading: /content/drive/MyDrive/UCLA/cs 263/final_proj/val2014/COCO_val2014_000000045685.jpg\n",
            "loading: /content/drive/MyDrive/UCLA/cs 263/final_proj/val2014/COCO_val2014_000000045685.jpg\n",
            "loading: /content/drive/MyDrive/UCLA/cs 263/final_proj/val2014/COCO_val2014_000000045685.jpg\n",
            "loading: /content/drive/MyDrive/UCLA/cs 263/final_proj/val2014/COCO_val2014_000000045685.jpg\n",
            "loading: /content/drive/MyDrive/UCLA/cs 263/final_proj/val2014/COCO_val2014_000000045685.jpg\n",
            "loading: /content/drive/MyDrive/UCLA/cs 263/final_proj/val2014/COCO_val2014_000000434179.jpg\n",
            "loading: /content/drive/MyDrive/UCLA/cs 263/final_proj/val2014/COCO_val2014_000000434179.jpg\n",
            "loading: /content/drive/MyDrive/UCLA/cs 263/final_proj/val2014/COCO_val2014_000000434179.jpg\n",
            "loading: /content/drive/MyDrive/UCLA/cs 263/final_proj/val2014/COCO_val2014_000000434179.jpg\n",
            "loading: /content/drive/MyDrive/UCLA/cs 263/final_proj/val2014/COCO_val2014_000000434179.jpg\n",
            "loading: /content/drive/MyDrive/UCLA/cs 263/final_proj/val2014/COCO_val2014_000000434179.jpg\n",
            "loading: /content/drive/MyDrive/UCLA/cs 263/final_proj/val2014/COCO_val2014_000000008749.jpg\n",
            "loading: /content/drive/MyDrive/UCLA/cs 263/final_proj/val2014/COCO_val2014_000000008749.jpg\n",
            "loading: /content/drive/MyDrive/UCLA/cs 263/final_proj/val2014/COCO_val2014_000000008749.jpg\n",
            "loading: /content/drive/MyDrive/UCLA/cs 263/final_proj/val2014/COCO_val2014_000000008749.jpg\n",
            "loading: /content/drive/MyDrive/UCLA/cs 263/final_proj/val2014/COCO_val2014_000000008749.jpg\n",
            "loading: /content/drive/MyDrive/UCLA/cs 263/final_proj/val2014/COCO_val2014_000000008749.jpg\n",
            "loading: /content/drive/MyDrive/UCLA/cs 263/final_proj/val2014/COCO_val2014_000000069863.jpg\n",
            "loading: /content/drive/MyDrive/UCLA/cs 263/final_proj/val2014/COCO_val2014_000000069863.jpg\n",
            "loading: /content/drive/MyDrive/UCLA/cs 263/final_proj/val2014/COCO_val2014_000000069863.jpg\n",
            "loading: /content/drive/MyDrive/UCLA/cs 263/final_proj/val2014/COCO_val2014_000000069863.jpg\n",
            "loading: /content/drive/MyDrive/UCLA/cs 263/final_proj/val2014/COCO_val2014_000000069863.jpg\n",
            "loading: /content/drive/MyDrive/UCLA/cs 263/final_proj/val2014/COCO_val2014_000000069863.jpg\n",
            "loading: /content/drive/MyDrive/UCLA/cs 263/final_proj/val2014/COCO_val2014_000000041180.jpg\n",
            "loading: /content/drive/MyDrive/UCLA/cs 263/final_proj/val2014/COCO_val2014_000000041180.jpg\n",
            "loading: /content/drive/MyDrive/UCLA/cs 263/final_proj/val2014/COCO_val2014_000000041180.jpg\n",
            "loading: /content/drive/MyDrive/UCLA/cs 263/final_proj/val2014/COCO_val2014_000000041180.jpg\n",
            "loading: /content/drive/MyDrive/UCLA/cs 263/final_proj/val2014/COCO_val2014_000000041180.jpg\n",
            "loading: /content/drive/MyDrive/UCLA/cs 263/final_proj/val2014/COCO_val2014_000000041180.jpg\n",
            "loading: /content/drive/MyDrive/UCLA/cs 263/final_proj/val2014/COCO_val2014_000000429913.jpg\n",
            "loading: /content/drive/MyDrive/UCLA/cs 263/final_proj/val2014/COCO_val2014_000000429913.jpg\n",
            "loading: /content/drive/MyDrive/UCLA/cs 263/final_proj/val2014/COCO_val2014_000000429913.jpg\n",
            "loading: /content/drive/MyDrive/UCLA/cs 263/final_proj/val2014/COCO_val2014_000000429913.jpg\n",
            "loading: /content/drive/MyDrive/UCLA/cs 263/final_proj/val2014/COCO_val2014_000000429913.jpg\n",
            "loading: /content/drive/MyDrive/UCLA/cs 263/final_proj/val2014/COCO_val2014_000000429913.jpg\n",
            "loading: /content/drive/MyDrive/UCLA/cs 263/final_proj/val2014/COCO_val2014_000000554002.jpg\n",
            "loading: /content/drive/MyDrive/UCLA/cs 263/final_proj/val2014/COCO_val2014_000000554002.jpg\n",
            "loading: /content/drive/MyDrive/UCLA/cs 263/final_proj/val2014/COCO_val2014_000000554002.jpg\n",
            "loading: /content/drive/MyDrive/UCLA/cs 263/final_proj/val2014/COCO_val2014_000000554002.jpg\n",
            "loading: /content/drive/MyDrive/UCLA/cs 263/final_proj/val2014/COCO_val2014_000000554002.jpg\n",
            "loading: /content/drive/MyDrive/UCLA/cs 263/final_proj/val2014/COCO_val2014_000000554002.jpg\n",
            "loading: /content/drive/MyDrive/UCLA/cs 263/final_proj/val2014/COCO_val2014_000000141278.jpg\n",
            "loading: /content/drive/MyDrive/UCLA/cs 263/final_proj/val2014/COCO_val2014_000000141278.jpg\n",
            "loading: /content/drive/MyDrive/UCLA/cs 263/final_proj/val2014/COCO_val2014_000000141278.jpg\n",
            "loading: /content/drive/MyDrive/UCLA/cs 263/final_proj/val2014/COCO_val2014_000000141278.jpg\n",
            "loading: /content/drive/MyDrive/UCLA/cs 263/final_proj/val2014/COCO_val2014_000000141278.jpg\n",
            "loading: /content/drive/MyDrive/UCLA/cs 263/final_proj/val2014/COCO_val2014_000000141278.jpg\n",
            "loading: /content/drive/MyDrive/UCLA/cs 263/final_proj/val2014/COCO_val2014_000000190788.jpg\n",
            "loading: /content/drive/MyDrive/UCLA/cs 263/final_proj/val2014/COCO_val2014_000000190788.jpg\n",
            "loading: /content/drive/MyDrive/UCLA/cs 263/final_proj/val2014/COCO_val2014_000000190788.jpg\n",
            "loading: /content/drive/MyDrive/UCLA/cs 263/final_proj/val2014/COCO_val2014_000000190788.jpg\n",
            "loading: /content/drive/MyDrive/UCLA/cs 263/final_proj/val2014/COCO_val2014_000000190788.jpg\n",
            "loading: /content/drive/MyDrive/UCLA/cs 263/final_proj/val2014/COCO_val2014_000000190788.jpg\n",
            "loading: /content/drive/MyDrive/UCLA/cs 263/final_proj/val2014/COCO_val2014_000000534942.jpg\n",
            "loading: /content/drive/MyDrive/UCLA/cs 263/final_proj/val2014/COCO_val2014_000000534942.jpg\n",
            "loading: /content/drive/MyDrive/UCLA/cs 263/final_proj/val2014/COCO_val2014_000000534942.jpg\n",
            "loading: /content/drive/MyDrive/UCLA/cs 263/final_proj/val2014/COCO_val2014_000000534942.jpg\n",
            "loading: /content/drive/MyDrive/UCLA/cs 263/final_proj/val2014/COCO_val2014_000000534942.jpg\n",
            "loading: /content/drive/MyDrive/UCLA/cs 263/final_proj/val2014/COCO_val2014_000000534942.jpg\n",
            "loading: /content/drive/MyDrive/UCLA/cs 263/final_proj/val2014/COCO_val2014_000000377951.jpg\n",
            "loading: /content/drive/MyDrive/UCLA/cs 263/final_proj/val2014/COCO_val2014_000000377951.jpg\n",
            "loading: /content/drive/MyDrive/UCLA/cs 263/final_proj/val2014/COCO_val2014_000000377951.jpg\n",
            "loading: /content/drive/MyDrive/UCLA/cs 263/final_proj/val2014/COCO_val2014_000000377951.jpg\n",
            "loading: /content/drive/MyDrive/UCLA/cs 263/final_proj/val2014/COCO_val2014_000000377951.jpg\n",
            "loading: /content/drive/MyDrive/UCLA/cs 263/final_proj/val2014/COCO_val2014_000000377951.jpg\n",
            "loading: /content/drive/MyDrive/UCLA/cs 263/final_proj/val2014/COCO_val2014_000000533201.jpg\n",
            "loading: /content/drive/MyDrive/UCLA/cs 263/final_proj/val2014/COCO_val2014_000000533201.jpg\n",
            "loading: /content/drive/MyDrive/UCLA/cs 263/final_proj/val2014/COCO_val2014_000000533201.jpg\n",
            "loading: /content/drive/MyDrive/UCLA/cs 263/final_proj/val2014/COCO_val2014_000000533201.jpg\n",
            "loading: /content/drive/MyDrive/UCLA/cs 263/final_proj/val2014/COCO_val2014_000000533201.jpg\n",
            "loading: /content/drive/MyDrive/UCLA/cs 263/final_proj/val2014/COCO_val2014_000000533201.jpg\n",
            "loading: /content/drive/MyDrive/UCLA/cs 263/final_proj/val2014/COCO_val2014_000000235203.jpg\n",
            "loading: /content/drive/MyDrive/UCLA/cs 263/final_proj/val2014/COCO_val2014_000000235203.jpg\n",
            "loading: /content/drive/MyDrive/UCLA/cs 263/final_proj/val2014/COCO_val2014_000000235203.jpg\n",
            "loading: /content/drive/MyDrive/UCLA/cs 263/final_proj/val2014/COCO_val2014_000000235203.jpg\n",
            "loading: /content/drive/MyDrive/UCLA/cs 263/final_proj/val2014/COCO_val2014_000000235203.jpg\n",
            "loading: /content/drive/MyDrive/UCLA/cs 263/final_proj/val2014/COCO_val2014_000000235203.jpg\n",
            "loading: /content/drive/MyDrive/UCLA/cs 263/final_proj/val2014/COCO_val2014_000000468997.jpg\n",
            "loading: /content/drive/MyDrive/UCLA/cs 263/final_proj/val2014/COCO_val2014_000000468997.jpg\n",
            "loading: /content/drive/MyDrive/UCLA/cs 263/final_proj/val2014/COCO_val2014_000000468997.jpg\n",
            "loading: /content/drive/MyDrive/UCLA/cs 263/final_proj/val2014/COCO_val2014_000000468997.jpg\n",
            "loading: /content/drive/MyDrive/UCLA/cs 263/final_proj/val2014/COCO_val2014_000000468997.jpg\n",
            "loading: /content/drive/MyDrive/UCLA/cs 263/final_proj/val2014/COCO_val2014_000000468997.jpg\n",
            "loading: /content/drive/MyDrive/UCLA/cs 263/final_proj/val2014/COCO_val2014_000000401398.jpg\n",
            "loading: /content/drive/MyDrive/UCLA/cs 263/final_proj/val2014/COCO_val2014_000000401398.jpg\n",
            "loading: /content/drive/MyDrive/UCLA/cs 263/final_proj/val2014/COCO_val2014_000000401398.jpg\n",
            "loading: /content/drive/MyDrive/UCLA/cs 263/final_proj/val2014/COCO_val2014_000000401398.jpg\n",
            "loading: /content/drive/MyDrive/UCLA/cs 263/final_proj/val2014/COCO_val2014_000000401398.jpg\n",
            "loading: /content/drive/MyDrive/UCLA/cs 263/final_proj/val2014/COCO_val2014_000000401398.jpg\n",
            "loading: /content/drive/MyDrive/UCLA/cs 263/final_proj/val2014/COCO_val2014_000000323752.jpg\n",
            "loading: /content/drive/MyDrive/UCLA/cs 263/final_proj/val2014/COCO_val2014_000000323752.jpg\n",
            "loading: /content/drive/MyDrive/UCLA/cs 263/final_proj/val2014/COCO_val2014_000000323752.jpg\n",
            "loading: /content/drive/MyDrive/UCLA/cs 263/final_proj/val2014/COCO_val2014_000000323752.jpg\n",
            "loading: /content/drive/MyDrive/UCLA/cs 263/final_proj/val2014/COCO_val2014_000000323752.jpg\n",
            "loading: /content/drive/MyDrive/UCLA/cs 263/final_proj/val2014/COCO_val2014_000000323752.jpg\n",
            "loading: /content/drive/MyDrive/UCLA/cs 263/final_proj/val2014/COCO_val2014_000000003845.jpg\n",
            "loading: /content/drive/MyDrive/UCLA/cs 263/final_proj/val2014/COCO_val2014_000000003845.jpg\n",
            "loading: /content/drive/MyDrive/UCLA/cs 263/final_proj/val2014/COCO_val2014_000000003845.jpg\n",
            "loading: /content/drive/MyDrive/UCLA/cs 263/final_proj/val2014/COCO_val2014_000000003845.jpg\n",
            "loading: /content/drive/MyDrive/UCLA/cs 263/final_proj/val2014/COCO_val2014_000000003845.jpg\n",
            "loading: /content/drive/MyDrive/UCLA/cs 263/final_proj/val2014/COCO_val2014_000000003845.jpg\n",
            "loading: /content/drive/MyDrive/UCLA/cs 263/final_proj/val2014/COCO_val2014_000000122962.jpg\n",
            "loading: /content/drive/MyDrive/UCLA/cs 263/final_proj/val2014/COCO_val2014_000000122962.jpg\n",
            "loading: /content/drive/MyDrive/UCLA/cs 263/final_proj/val2014/COCO_val2014_000000122962.jpg\n",
            "loading: /content/drive/MyDrive/UCLA/cs 263/final_proj/val2014/COCO_val2014_000000122962.jpg\n",
            "loading: /content/drive/MyDrive/UCLA/cs 263/final_proj/val2014/COCO_val2014_000000122962.jpg\n",
            "loading: /content/drive/MyDrive/UCLA/cs 263/final_proj/val2014/COCO_val2014_000000122962.jpg\n",
            "loading: /content/drive/MyDrive/UCLA/cs 263/final_proj/val2014/COCO_val2014_000000015738.jpg\n",
            "loading: /content/drive/MyDrive/UCLA/cs 263/final_proj/val2014/COCO_val2014_000000015738.jpg\n",
            "loading: /content/drive/MyDrive/UCLA/cs 263/final_proj/val2014/COCO_val2014_000000015738.jpg\n",
            "loading: /content/drive/MyDrive/UCLA/cs 263/final_proj/val2014/COCO_val2014_000000015738.jpg\n",
            "loading: /content/drive/MyDrive/UCLA/cs 263/final_proj/val2014/COCO_val2014_000000015738.jpg\n",
            "loading: /content/drive/MyDrive/UCLA/cs 263/final_proj/val2014/COCO_val2014_000000015738.jpg\n",
            "loading: /content/drive/MyDrive/UCLA/cs 263/final_proj/val2014/COCO_val2014_000000497599.jpg\n",
            "loading: /content/drive/MyDrive/UCLA/cs 263/final_proj/val2014/COCO_val2014_000000497599.jpg\n",
            "loading: /content/drive/MyDrive/UCLA/cs 263/final_proj/val2014/COCO_val2014_000000497599.jpg\n",
            "loading: /content/drive/MyDrive/UCLA/cs 263/final_proj/val2014/COCO_val2014_000000497599.jpg\n",
            "loading: /content/drive/MyDrive/UCLA/cs 263/final_proj/val2014/COCO_val2014_000000497599.jpg\n",
            "loading: /content/drive/MyDrive/UCLA/cs 263/final_proj/val2014/COCO_val2014_000000497599.jpg\n",
            "loading: /content/drive/MyDrive/UCLA/cs 263/final_proj/val2014/COCO_val2014_000000121959.jpg\n",
            "loading: /content/drive/MyDrive/UCLA/cs 263/final_proj/val2014/COCO_val2014_000000121959.jpg\n",
            "loading: /content/drive/MyDrive/UCLA/cs 263/final_proj/val2014/COCO_val2014_000000121959.jpg\n",
            "loading: /content/drive/MyDrive/UCLA/cs 263/final_proj/val2014/COCO_val2014_000000121959.jpg\n",
            "loading: /content/drive/MyDrive/UCLA/cs 263/final_proj/val2014/COCO_val2014_000000121959.jpg\n",
            "loading: /content/drive/MyDrive/UCLA/cs 263/final_proj/val2014/COCO_val2014_000000121959.jpg\n",
            "loading: /content/drive/MyDrive/UCLA/cs 263/final_proj/val2014/COCO_val2014_000000361430.jpg\n",
            "loading: /content/drive/MyDrive/UCLA/cs 263/final_proj/val2014/COCO_val2014_000000361430.jpg\n",
            "loading: /content/drive/MyDrive/UCLA/cs 263/final_proj/val2014/COCO_val2014_000000361430.jpg\n",
            "loading: /content/drive/MyDrive/UCLA/cs 263/final_proj/val2014/COCO_val2014_000000361430.jpg\n",
            "loading: /content/drive/MyDrive/UCLA/cs 263/final_proj/val2014/COCO_val2014_000000361430.jpg\n",
            "loading: /content/drive/MyDrive/UCLA/cs 263/final_proj/val2014/COCO_val2014_000000361430.jpg\n",
            "loading: /content/drive/MyDrive/UCLA/cs 263/final_proj/val2014/COCO_val2014_000000277289.jpg\n",
            "loading: /content/drive/MyDrive/UCLA/cs 263/final_proj/val2014/COCO_val2014_000000277289.jpg\n",
            "loading: /content/drive/MyDrive/UCLA/cs 263/final_proj/val2014/COCO_val2014_000000277289.jpg\n",
            "loading: /content/drive/MyDrive/UCLA/cs 263/final_proj/val2014/COCO_val2014_000000277289.jpg\n",
            "loading: /content/drive/MyDrive/UCLA/cs 263/final_proj/val2014/COCO_val2014_000000277289.jpg\n",
            "loading: /content/drive/MyDrive/UCLA/cs 263/final_proj/val2014/COCO_val2014_000000277289.jpg\n",
            "Loaded 500 unique images from POPE dataset.\n"
          ]
        }
      ]
    },
    {
      "cell_type": "code",
      "source": [
        "print(images[0])"
      ],
      "metadata": {
        "colab": {
          "base_uri": "https://localhost:8080/"
        },
        "id": "-QkPsbMvaQ_r",
        "outputId": "90a05d33-5770-4f1d-f7e4-93ad0a17e2ee"
      },
      "execution_count": null,
      "outputs": [
        {
          "output_type": "stream",
          "name": "stdout",
          "text": [
            "{'img_path': '/content/drive/MyDrive/UCLA/cs 263/final_proj/val2014/COCO_val2014_000000458325.jpg', 'questions': [{'question_id': 2467, 'image': 'COCO_val2014_000000458325.jpg', 'text': 'Is there a car in the image?', 'label': 'yes'}, {'question_id': 2468, 'image': 'COCO_val2014_000000458325.jpg', 'text': 'Is there a truck in the image?', 'label': 'no'}, {'question_id': 2469, 'image': 'COCO_val2014_000000458325.jpg', 'text': 'Is there a traffic light in the image?', 'label': 'yes'}, {'question_id': 2470, 'image': 'COCO_val2014_000000458325.jpg', 'text': 'Is there a bus in the image?', 'label': 'no'}, {'question_id': 2471, 'image': 'COCO_val2014_000000458325.jpg', 'text': 'Is there a person in the image?', 'label': 'yes'}, {'question_id': 2472, 'image': 'COCO_val2014_000000458325.jpg', 'text': 'Is there a dining table in the image?', 'label': 'no'}]}\n"
          ]
        }
      ]
    },
    {
      "cell_type": "code",
      "source": [
        "# --- 2. Run YOLO Object Detection ---\n",
        "def run_yolo_on_images(images, yolo_model_path='yolov8x.pt'):\n",
        "    yolo_model = YOLO(yolo_model_path)\n",
        "    results_dict = {}\n",
        "    for entry in tqdm(images, desc='Running YOLO'):\n",
        "        img_path = entry['img_path']\n",
        "        try:\n",
        "            results = yolo_model(img_path)\n",
        "            detected_objects = [yolo_model.model.names[int(cls)] for cls in results[0].boxes.cls]\n",
        "        except Exception as e:\n",
        "            print(f\"YOLO failed on {img_path}: {e}\")\n",
        "            detected_objects = []\n",
        "        results_dict[img_path] = detected_objects\n",
        "    return results_dict"
      ],
      "metadata": {
        "id": "kGIqLbTDV7Jw"
      },
      "execution_count": null,
      "outputs": []
    },
    {
      "cell_type": "code",
      "source": [
        "  yolo_results = run_yolo_on_images(images)\n",
        "  print(\"YOLO detection complete.\")"
      ],
      "metadata": {
        "colab": {
          "base_uri": "https://localhost:8080/"
        },
        "id": "7-ZvviMRalLw",
        "outputId": "e5a976b4-6f04-4f40-e0a8-97f653e4d580"
      },
      "execution_count": null,
      "outputs": [
        {
          "output_type": "stream",
          "name": "stdout",
          "text": [
            "Downloading https://github.com/ultralytics/assets/releases/download/v8.3.0/yolov8x.pt to 'yolov8x.pt'...\n"
          ]
        },
        {
          "output_type": "stream",
          "name": "stderr",
          "text": [
            "100%|██████████| 131M/131M [00:01<00:00, 89.3MB/s]\n",
            "Running YOLO:   0%|          | 0/500 [00:00<?, ?it/s]"
          ]
        },
        {
          "output_type": "stream",
          "name": "stdout",
          "text": [
            "\n",
            "image 1/1 /content/drive/MyDrive/UCLA/cs 263/final_proj/val2014/COCO_val2014_000000175506.jpg: 448x640 2 persons, 1 frisbee, 112.4ms\n",
            "Speed: 10.3ms preprocess, 112.4ms inference, 330.8ms postprocess per image at shape (1, 3, 448, 640)\n"
          ]
        },
        {
          "output_type": "stream",
          "name": "stderr",
          "text": [
            "\rRunning YOLO:   0%|          | 1/500 [00:04<40:27,  4.87s/it]"
          ]
        },
        {
          "output_type": "stream",
          "name": "stdout",
          "text": [
            "\n",
            "image 1/1 /content/drive/MyDrive/UCLA/cs 263/final_proj/val2014/COCO_val2014_000000196462.jpg: 480x640 1 person, 2 cups, 1 fork, 1 bowl, 1 dining table, 1 cell phone, 78.2ms\n",
            "Speed: 1.8ms preprocess, 78.2ms inference, 1.8ms postprocess per image at shape (1, 3, 480, 640)\n"
          ]
        },
        {
          "output_type": "stream",
          "name": "stderr",
          "text": [
            "\rRunning YOLO:   0%|          | 2/500 [00:05<21:05,  2.54s/it]"
          ]
        },
        {
          "output_type": "stream",
          "name": "stdout",
          "text": [
            "\n",
            "image 1/1 /content/drive/MyDrive/UCLA/cs 263/final_proj/val2014/COCO_val2014_000000172648.jpg: 480x640 3 persons, 1 car, 1 truck, 74.2ms\n",
            "Speed: 1.8ms preprocess, 74.2ms inference, 1.9ms postprocess per image at shape (1, 3, 480, 640)\n"
          ]
        },
        {
          "output_type": "stream",
          "name": "stderr",
          "text": [
            "\rRunning YOLO:   1%|          | 3/500 [00:06<15:34,  1.88s/it]"
          ]
        },
        {
          "output_type": "stream",
          "name": "stdout",
          "text": [
            "\n",
            "image 1/1 /content/drive/MyDrive/UCLA/cs 263/final_proj/val2014/COCO_val2014_000000124930.jpg: 448x640 10 persons, 1 bottle, 2 wine glasss, 7 cups, 1 bowl, 1 dining table, 72.7ms\n",
            "Speed: 1.8ms preprocess, 72.7ms inference, 2.0ms postprocess per image at shape (1, 3, 448, 640)\n"
          ]
        },
        {
          "output_type": "stream",
          "name": "stderr",
          "text": [
            "\rRunning YOLO:   1%|          | 4/500 [00:07<12:31,  1.52s/it]"
          ]
        },
        {
          "output_type": "stream",
          "name": "stdout",
          "text": [
            "\n",
            "image 1/1 /content/drive/MyDrive/UCLA/cs 263/final_proj/val2014/COCO_val2014_000000377401.jpg: 640x416 2 cars, 1 clock, 74.4ms\n",
            "Speed: 1.6ms preprocess, 74.4ms inference, 1.7ms postprocess per image at shape (1, 3, 640, 416)\n"
          ]
        },
        {
          "output_type": "stream",
          "name": "stderr",
          "text": [
            "\rRunning YOLO:   1%|          | 5/500 [00:08<11:01,  1.34s/it]"
          ]
        },
        {
          "output_type": "stream",
          "name": "stdout",
          "text": [
            "\n",
            "image 1/1 /content/drive/MyDrive/UCLA/cs 263/final_proj/val2014/COCO_val2014_000000399702.jpg: 448x640 4 cups, 1 bowl, 1 sandwich, 1 dining table, 73.8ms\n",
            "Speed: 1.7ms preprocess, 73.8ms inference, 1.7ms postprocess per image at shape (1, 3, 448, 640)\n"
          ]
        },
        {
          "output_type": "stream",
          "name": "stderr",
          "text": [
            "\rRunning YOLO:   1%|          | 6/500 [00:09<09:49,  1.19s/it]"
          ]
        },
        {
          "output_type": "stream",
          "name": "stdout",
          "text": [
            "\n",
            "image 1/1 /content/drive/MyDrive/UCLA/cs 263/final_proj/val2014/COCO_val2014_000000354088.jpg: 448x640 10 persons, 1 car, 2 buss, 3 umbrellas, 1 apple, 1 orange, 71.6ms\n",
            "Speed: 1.8ms preprocess, 71.6ms inference, 1.9ms postprocess per image at shape (1, 3, 448, 640)\n"
          ]
        },
        {
          "output_type": "stream",
          "name": "stderr",
          "text": [
            "\rRunning YOLO:   1%|▏         | 7/500 [00:10<09:07,  1.11s/it]"
          ]
        },
        {
          "output_type": "stream",
          "name": "stdout",
          "text": [
            "\n",
            "image 1/1 /content/drive/MyDrive/UCLA/cs 263/final_proj/val2014/COCO_val2014_000000313034.jpg: 480x640 2 persons, 1 fork, 1 cake, 1 clock, 1 vase, 75.0ms\n",
            "Speed: 1.7ms preprocess, 75.0ms inference, 1.7ms postprocess per image at shape (1, 3, 480, 640)\n"
          ]
        },
        {
          "output_type": "stream",
          "name": "stderr",
          "text": [
            "\rRunning YOLO:   2%|▏         | 8/500 [00:11<08:36,  1.05s/it]"
          ]
        },
        {
          "output_type": "stream",
          "name": "stdout",
          "text": [
            "\n",
            "image 1/1 /content/drive/MyDrive/UCLA/cs 263/final_proj/val2014/COCO_val2014_000000214244.jpg: 448x640 1 person, 2 skiss, 1 chair, 75.1ms\n",
            "Speed: 1.6ms preprocess, 75.1ms inference, 1.7ms postprocess per image at shape (1, 3, 448, 640)\n"
          ]
        },
        {
          "output_type": "stream",
          "name": "stderr",
          "text": [
            "\rRunning YOLO:   2%|▏         | 9/500 [00:12<09:01,  1.10s/it]"
          ]
        },
        {
          "output_type": "stream",
          "name": "stdout",
          "text": [
            "\n",
            "image 1/1 /content/drive/MyDrive/UCLA/cs 263/final_proj/val2014/COCO_val2014_000000108189.jpg: 640x480 2 cups, 2 forks, 2 knifes, 1 bowl, 1 sandwich, 1 dining table, 77.8ms\n",
            "Speed: 2.2ms preprocess, 77.8ms inference, 2.6ms postprocess per image at shape (1, 3, 640, 480)\n"
          ]
        },
        {
          "output_type": "stream",
          "name": "stderr",
          "text": [
            "\rRunning YOLO:   2%|▏         | 10/500 [00:13<08:29,  1.04s/it]"
          ]
        },
        {
          "output_type": "stream",
          "name": "stdout",
          "text": [
            "\n",
            "image 1/1 /content/drive/MyDrive/UCLA/cs 263/final_proj/val2014/COCO_val2014_000000567886.jpg: 480x640 1 person, 5 books, 1 teddy bear, 75.7ms\n",
            "Speed: 10.8ms preprocess, 75.7ms inference, 2.0ms postprocess per image at shape (1, 3, 480, 640)\n"
          ]
        },
        {
          "output_type": "stream",
          "name": "stderr",
          "text": [
            "\rRunning YOLO:   2%|▏         | 11/500 [00:15<09:29,  1.16s/it]"
          ]
        },
        {
          "output_type": "stream",
          "name": "stdout",
          "text": [
            "\n",
            "image 1/1 /content/drive/MyDrive/UCLA/cs 263/final_proj/val2014/COCO_val2014_000000205206.jpg: 640x448 1 train, 5 traffic lights, 74.4ms\n",
            "Speed: 1.7ms preprocess, 74.4ms inference, 1.6ms postprocess per image at shape (1, 3, 640, 448)\n"
          ]
        },
        {
          "output_type": "stream",
          "name": "stderr",
          "text": [
            "\rRunning YOLO:   2%|▏         | 12/500 [00:16<09:28,  1.16s/it]"
          ]
        },
        {
          "output_type": "stream",
          "name": "stdout",
          "text": [
            "\n",
            "image 1/1 /content/drive/MyDrive/UCLA/cs 263/final_proj/val2014/COCO_val2014_000000204360.jpg: 480x640 4 persons, 3 bicycles, 6 cars, 1 bus, 1 traffic light, 1 backpack, 1 dining table, 1 cell phone, 75.4ms\n",
            "Speed: 2.4ms preprocess, 75.4ms inference, 1.8ms postprocess per image at shape (1, 3, 480, 640)\n"
          ]
        },
        {
          "output_type": "stream",
          "name": "stderr",
          "text": [
            "\rRunning YOLO:   3%|▎         | 13/500 [00:17<09:26,  1.16s/it]"
          ]
        },
        {
          "output_type": "stream",
          "name": "stdout",
          "text": [
            "\n",
            "image 1/1 /content/drive/MyDrive/UCLA/cs 263/final_proj/val2014/COCO_val2014_000000075591.jpg: 640x640 3 cats, 1 bed, 1 tv, 3 books, 98.1ms\n",
            "Speed: 2.2ms preprocess, 98.1ms inference, 1.8ms postprocess per image at shape (1, 3, 640, 640)\n"
          ]
        },
        {
          "output_type": "stream",
          "name": "stderr",
          "text": [
            "\rRunning YOLO:   3%|▎         | 14/500 [00:18<09:12,  1.14s/it]"
          ]
        },
        {
          "output_type": "stream",
          "name": "stdout",
          "text": [
            "\n",
            "image 1/1 /content/drive/MyDrive/UCLA/cs 263/final_proj/val2014/COCO_val2014_000000069863.jpg: 448x640 1 potted plant, 2 vases, 72.6ms\n",
            "Speed: 1.9ms preprocess, 72.6ms inference, 1.5ms postprocess per image at shape (1, 3, 448, 640)\n"
          ]
        },
        {
          "output_type": "stream",
          "name": "stderr",
          "text": [
            "\rRunning YOLO:   3%|▎         | 15/500 [00:20<10:29,  1.30s/it]"
          ]
        },
        {
          "output_type": "stream",
          "name": "stdout",
          "text": [
            "\n",
            "image 1/1 /content/drive/MyDrive/UCLA/cs 263/final_proj/val2014/COCO_val2014_000000214421.jpg: 640x480 3 persons, 1 bottle, 1 potted plant, 1 tv, 1 laptop, 1 cell phone, 74.9ms\n",
            "Speed: 2.5ms preprocess, 74.9ms inference, 1.7ms postprocess per image at shape (1, 3, 640, 480)\n"
          ]
        },
        {
          "output_type": "stream",
          "name": "stderr",
          "text": [
            "\rRunning YOLO:   3%|▎         | 16/500 [00:21<09:51,  1.22s/it]"
          ]
        },
        {
          "output_type": "stream",
          "name": "stdout",
          "text": [
            "\n",
            "image 1/1 /content/drive/MyDrive/UCLA/cs 263/final_proj/val2014/COCO_val2014_000000377951.jpg: 448x640 1 person, 1 cup, 1 pizza, 1 dining table, 72.7ms\n",
            "Speed: 1.7ms preprocess, 72.7ms inference, 1.7ms postprocess per image at shape (1, 3, 448, 640)\n"
          ]
        },
        {
          "output_type": "stream",
          "name": "stderr",
          "text": [
            "\rRunning YOLO:   3%|▎         | 17/500 [00:22<09:18,  1.16s/it]"
          ]
        },
        {
          "output_type": "stream",
          "name": "stdout",
          "text": [
            "\n",
            "image 1/1 /content/drive/MyDrive/UCLA/cs 263/final_proj/val2014/COCO_val2014_000000378873.jpg: 448x640 8 persons, 1 handbag, 1 apple, 1 orange, 71.5ms\n",
            "Speed: 1.6ms preprocess, 71.5ms inference, 1.7ms postprocess per image at shape (1, 3, 448, 640)\n"
          ]
        },
        {
          "output_type": "stream",
          "name": "stderr",
          "text": [
            "\rRunning YOLO:   4%|▎         | 18/500 [00:23<08:54,  1.11s/it]"
          ]
        },
        {
          "output_type": "stream",
          "name": "stdout",
          "text": [
            "\n",
            "image 1/1 /content/drive/MyDrive/UCLA/cs 263/final_proj/val2014/COCO_val2014_000000495311.jpg: 480x640 1 person, 1 airplane, 1 truck, 76.0ms\n",
            "Speed: 1.7ms preprocess, 76.0ms inference, 2.8ms postprocess per image at shape (1, 3, 480, 640)\n"
          ]
        },
        {
          "output_type": "stream",
          "name": "stderr",
          "text": [
            "\rRunning YOLO:   4%|▍         | 19/500 [00:24<08:55,  1.11s/it]"
          ]
        },
        {
          "output_type": "stream",
          "name": "stdout",
          "text": [
            "\n",
            "image 1/1 /content/drive/MyDrive/UCLA/cs 263/final_proj/val2014/COCO_val2014_000000239444.jpg: 480x640 1 person, 1 pizza, 5 chairs, 1 microwave, 1 oven, 74.2ms\n",
            "Speed: 2.2ms preprocess, 74.2ms inference, 2.5ms postprocess per image at shape (1, 3, 480, 640)\n"
          ]
        },
        {
          "output_type": "stream",
          "name": "stderr",
          "text": [
            "\rRunning YOLO:   4%|▍         | 20/500 [00:25<09:44,  1.22s/it]"
          ]
        },
        {
          "output_type": "stream",
          "name": "stdout",
          "text": [
            "\n",
            "image 1/1 /content/drive/MyDrive/UCLA/cs 263/final_proj/val2014/COCO_val2014_000000157084.jpg: 640x448 2 bottles, 1 toilet, 1 sink, 72.9ms\n",
            "Speed: 2.3ms preprocess, 72.9ms inference, 2.1ms postprocess per image at shape (1, 3, 640, 448)\n"
          ]
        },
        {
          "output_type": "stream",
          "name": "stderr",
          "text": [
            "\rRunning YOLO:   4%|▍         | 21/500 [00:26<09:08,  1.15s/it]"
          ]
        },
        {
          "output_type": "stream",
          "name": "stdout",
          "text": [
            "\n",
            "image 1/1 /content/drive/MyDrive/UCLA/cs 263/final_proj/val2014/COCO_val2014_000000170365.jpg: 448x640 1 potted plant, 1 toilet, 2 sinks, 72.5ms\n",
            "Speed: 1.6ms preprocess, 72.5ms inference, 1.5ms postprocess per image at shape (1, 3, 448, 640)\n"
          ]
        },
        {
          "output_type": "stream",
          "name": "stderr",
          "text": [
            "\rRunning YOLO:   4%|▍         | 22/500 [00:27<09:01,  1.13s/it]"
          ]
        },
        {
          "output_type": "stream",
          "name": "stdout",
          "text": [
            "\n",
            "image 1/1 /content/drive/MyDrive/UCLA/cs 263/final_proj/val2014/COCO_val2014_000000050627.jpg: 480x640 3 persons, 1 baseball bat, 1 baseball glove, 75.1ms\n",
            "Speed: 1.7ms preprocess, 75.1ms inference, 1.6ms postprocess per image at shape (1, 3, 480, 640)\n"
          ]
        },
        {
          "output_type": "stream",
          "name": "stderr",
          "text": [
            "\rRunning YOLO:   5%|▍         | 23/500 [00:29<09:42,  1.22s/it]"
          ]
        },
        {
          "output_type": "stream",
          "name": "stdout",
          "text": [
            "\n",
            "image 1/1 /content/drive/MyDrive/UCLA/cs 263/final_proj/val2014/COCO_val2014_000000045685.jpg: 480x640 1 person, 1 sports ball, 2 tennis rackets, 74.1ms\n",
            "Speed: 2.6ms preprocess, 74.1ms inference, 1.8ms postprocess per image at shape (1, 3, 480, 640)\n"
          ]
        },
        {
          "output_type": "stream",
          "name": "stderr",
          "text": [
            "\rRunning YOLO:   5%|▍         | 24/500 [00:30<09:21,  1.18s/it]"
          ]
        },
        {
          "output_type": "stream",
          "name": "stdout",
          "text": [
            "\n",
            "image 1/1 /content/drive/MyDrive/UCLA/cs 263/final_proj/val2014/COCO_val2014_000000388983.jpg: 640x480 1 cup, 1 hot dog, 1 dining table, 75.0ms\n",
            "Speed: 2.3ms preprocess, 75.0ms inference, 1.8ms postprocess per image at shape (1, 3, 640, 480)\n"
          ]
        },
        {
          "output_type": "stream",
          "name": "stderr",
          "text": [
            "\rRunning YOLO:   5%|▌         | 25/500 [00:31<08:47,  1.11s/it]"
          ]
        },
        {
          "output_type": "stream",
          "name": "stdout",
          "text": [
            "\n",
            "image 1/1 /content/drive/MyDrive/UCLA/cs 263/final_proj/val2014/COCO_val2014_000000524979.jpg: 640x416 1 person, 1 bench, 1 dog, 1 sports ball, 1 baseball glove, 71.9ms\n",
            "Speed: 1.5ms preprocess, 71.9ms inference, 1.5ms postprocess per image at shape (1, 3, 640, 416)\n"
          ]
        },
        {
          "output_type": "stream",
          "name": "stderr",
          "text": [
            "\rRunning YOLO:   5%|▌         | 26/500 [00:32<08:44,  1.11s/it]"
          ]
        },
        {
          "output_type": "stream",
          "name": "stdout",
          "text": [
            "\n",
            "image 1/1 /content/drive/MyDrive/UCLA/cs 263/final_proj/val2014/COCO_val2014_000000252911.jpg: 448x640 2 persons, 2 cars, 1 motorcycle, 72.9ms\n",
            "Speed: 1.6ms preprocess, 72.9ms inference, 2.6ms postprocess per image at shape (1, 3, 448, 640)\n"
          ]
        },
        {
          "output_type": "stream",
          "name": "stderr",
          "text": [
            "\rRunning YOLO:   5%|▌         | 27/500 [00:33<08:48,  1.12s/it]"
          ]
        },
        {
          "output_type": "stream",
          "name": "stdout",
          "text": [
            "\n",
            "image 1/1 /content/drive/MyDrive/UCLA/cs 263/final_proj/val2014/COCO_val2014_000000039516.jpg: 448x640 1 spoon, 1 cake, 1 dining table, 71.5ms\n",
            "Speed: 1.6ms preprocess, 71.5ms inference, 1.7ms postprocess per image at shape (1, 3, 448, 640)\n"
          ]
        },
        {
          "output_type": "stream",
          "name": "stderr",
          "text": [
            "\rRunning YOLO:   6%|▌         | 28/500 [00:34<09:05,  1.16s/it]"
          ]
        },
        {
          "output_type": "stream",
          "name": "stdout",
          "text": [
            "\n",
            "image 1/1 /content/drive/MyDrive/UCLA/cs 263/final_proj/val2014/COCO_val2014_000000227204.jpg: 480x640 3 persons, 1 bottle, 4 cups, 1 knife, 4 spoons, 2 bowls, 1 banana, 1 chair, 1 dining table, 1 cell phone, 75.1ms\n",
            "Speed: 1.7ms preprocess, 75.1ms inference, 1.6ms postprocess per image at shape (1, 3, 480, 640)\n"
          ]
        },
        {
          "output_type": "stream",
          "name": "stderr",
          "text": [
            "\rRunning YOLO:   6%|▌         | 29/500 [00:36<09:10,  1.17s/it]"
          ]
        },
        {
          "output_type": "stream",
          "name": "stdout",
          "text": [
            "\n",
            "image 1/1 /content/drive/MyDrive/UCLA/cs 263/final_proj/val2014/COCO_val2014_000000560744.jpg: 480x640 3 persons, 2 bottles, 8 wine glasss, 1 cup, 2 knifes, 3 spoons, 2 bowls, 1 chair, 2 dining tables, 3 books, 74.1ms\n",
            "Speed: 1.6ms preprocess, 74.1ms inference, 1.8ms postprocess per image at shape (1, 3, 480, 640)\n"
          ]
        },
        {
          "output_type": "stream",
          "name": "stderr",
          "text": [
            "\rRunning YOLO:   6%|▌         | 30/500 [00:37<08:58,  1.15s/it]"
          ]
        },
        {
          "output_type": "stream",
          "name": "stdout",
          "text": [
            "\n",
            "image 1/1 /content/drive/MyDrive/UCLA/cs 263/final_proj/val2014/COCO_val2014_000000023084.jpg: 640x480 1 person, 2 tennis rackets, 75.2ms\n",
            "Speed: 4.4ms preprocess, 75.2ms inference, 1.9ms postprocess per image at shape (1, 3, 640, 480)\n"
          ]
        },
        {
          "output_type": "stream",
          "name": "stderr",
          "text": [
            "\rRunning YOLO:   6%|▌         | 31/500 [00:38<08:30,  1.09s/it]"
          ]
        },
        {
          "output_type": "stream",
          "name": "stdout",
          "text": [
            "\n",
            "image 1/1 /content/drive/MyDrive/UCLA/cs 263/final_proj/val2014/COCO_val2014_000000049473.jpg: 448x640 1 book, 1 vase, 73.1ms\n",
            "Speed: 3.2ms preprocess, 73.1ms inference, 2.6ms postprocess per image at shape (1, 3, 448, 640)\n"
          ]
        },
        {
          "output_type": "stream",
          "name": "stderr",
          "text": [
            "\rRunning YOLO:   6%|▋         | 32/500 [00:39<08:42,  1.12s/it]"
          ]
        },
        {
          "output_type": "stream",
          "name": "stdout",
          "text": [
            "\n",
            "image 1/1 /content/drive/MyDrive/UCLA/cs 263/final_proj/val2014/COCO_val2014_000000477598.jpg: 448x640 1 person, 1 dog, 1 frisbee, 71.6ms\n",
            "Speed: 2.3ms preprocess, 71.6ms inference, 1.9ms postprocess per image at shape (1, 3, 448, 640)\n"
          ]
        },
        {
          "output_type": "stream",
          "name": "stderr",
          "text": [
            "\rRunning YOLO:   7%|▋         | 33/500 [00:40<09:20,  1.20s/it]"
          ]
        },
        {
          "output_type": "stream",
          "name": "stdout",
          "text": [
            "\n",
            "image 1/1 /content/drive/MyDrive/UCLA/cs 263/final_proj/val2014/COCO_val2014_000000071738.jpg: 640x448 7 persons, 1 tie, 6 chairs, 1 cell phone, 72.6ms\n",
            "Speed: 1.6ms preprocess, 72.6ms inference, 1.6ms postprocess per image at shape (1, 3, 640, 448)\n"
          ]
        },
        {
          "output_type": "stream",
          "name": "stderr",
          "text": [
            "\rRunning YOLO:   7%|▋         | 34/500 [00:41<08:27,  1.09s/it]"
          ]
        },
        {
          "output_type": "stream",
          "name": "stdout",
          "text": [
            "\n",
            "image 1/1 /content/drive/MyDrive/UCLA/cs 263/final_proj/val2014/COCO_val2014_000000421455.jpg: 480x640 2 cars, 1 cell phone, 75.0ms\n",
            "Speed: 2.5ms preprocess, 75.0ms inference, 1.5ms postprocess per image at shape (1, 3, 480, 640)\n"
          ]
        },
        {
          "output_type": "stream",
          "name": "stderr",
          "text": [
            "\rRunning YOLO:   7%|▋         | 35/500 [00:42<08:41,  1.12s/it]"
          ]
        },
        {
          "output_type": "stream",
          "name": "stdout",
          "text": [
            "\n",
            "image 1/1 /content/drive/MyDrive/UCLA/cs 263/final_proj/val2014/COCO_val2014_000000415727.jpg: 480x640 3 persons, 1 bench, 74.1ms\n",
            "Speed: 1.8ms preprocess, 74.1ms inference, 1.7ms postprocess per image at shape (1, 3, 480, 640)\n"
          ]
        },
        {
          "output_type": "stream",
          "name": "stderr",
          "text": [
            "\rRunning YOLO:   7%|▋         | 36/500 [00:43<08:00,  1.04s/it]"
          ]
        },
        {
          "output_type": "stream",
          "name": "stdout",
          "text": [
            "\n",
            "image 1/1 /content/drive/MyDrive/UCLA/cs 263/final_proj/val2014/COCO_val2014_000000060213.jpg: 640x480 2 backpacks, 1 bed, 1 book, 75.2ms\n",
            "Speed: 2.3ms preprocess, 75.2ms inference, 2.0ms postprocess per image at shape (1, 3, 640, 480)\n"
          ]
        },
        {
          "output_type": "stream",
          "name": "stderr",
          "text": [
            "\rRunning YOLO:   7%|▋         | 37/500 [00:45<09:18,  1.21s/it]"
          ]
        },
        {
          "output_type": "stream",
          "name": "stdout",
          "text": [
            "\n",
            "image 1/1 /content/drive/MyDrive/UCLA/cs 263/final_proj/val2014/COCO_val2014_000000541783.jpg: 480x640 3 persons, 1 motorcycle, 75.0ms\n",
            "Speed: 1.8ms preprocess, 75.0ms inference, 1.5ms postprocess per image at shape (1, 3, 480, 640)\n"
          ]
        },
        {
          "output_type": "stream",
          "name": "stderr",
          "text": [
            "\rRunning YOLO:   8%|▊         | 38/500 [00:46<08:57,  1.16s/it]"
          ]
        },
        {
          "output_type": "stream",
          "name": "stdout",
          "text": [
            "\n",
            "image 1/1 /content/drive/MyDrive/UCLA/cs 263/final_proj/val2014/COCO_val2014_000000327771.jpg: 640x640 1 potted plant, 1 bed, 1 book, 1 vase, 97.7ms\n",
            "Speed: 3.0ms preprocess, 97.7ms inference, 1.6ms postprocess per image at shape (1, 3, 640, 640)\n"
          ]
        },
        {
          "output_type": "stream",
          "name": "stderr",
          "text": [
            "\rRunning YOLO:   8%|▊         | 39/500 [00:47<08:15,  1.08s/it]"
          ]
        },
        {
          "output_type": "stream",
          "name": "stdout",
          "text": [
            "\n",
            "image 1/1 /content/drive/MyDrive/UCLA/cs 263/final_proj/val2014/COCO_val2014_000000189694.jpg: 480x640 1 person, 1 bottle, 1 microwave, 1 sink, 2 clocks, 73.5ms\n",
            "Speed: 1.8ms preprocess, 73.5ms inference, 1.7ms postprocess per image at shape (1, 3, 480, 640)\n"
          ]
        },
        {
          "output_type": "stream",
          "name": "stderr",
          "text": [
            "\rRunning YOLO:   8%|▊         | 40/500 [00:48<08:12,  1.07s/it]"
          ]
        },
        {
          "output_type": "stream",
          "name": "stdout",
          "text": [
            "\n",
            "image 1/1 /content/drive/MyDrive/UCLA/cs 263/final_proj/val2014/COCO_val2014_000000175437.jpg: 480x640 12 persons, 10 donuts, 1 dining table, 74.1ms\n",
            "Speed: 1.6ms preprocess, 74.1ms inference, 1.7ms postprocess per image at shape (1, 3, 480, 640)\n"
          ]
        },
        {
          "output_type": "stream",
          "name": "stderr",
          "text": [
            "\rRunning YOLO:   8%|▊         | 41/500 [00:49<08:03,  1.05s/it]"
          ]
        },
        {
          "output_type": "stream",
          "name": "stdout",
          "text": [
            "\n",
            "image 1/1 /content/drive/MyDrive/UCLA/cs 263/final_proj/val2014/COCO_val2014_000000059383.jpg: 480x640 1 bottle, 1 cup, 1 microwave, 2 ovens, 1 sink, 74.2ms\n",
            "Speed: 2.5ms preprocess, 74.2ms inference, 2.4ms postprocess per image at shape (1, 3, 480, 640)\n"
          ]
        },
        {
          "output_type": "stream",
          "name": "stderr",
          "text": [
            "\rRunning YOLO:   8%|▊         | 42/500 [00:50<08:20,  1.09s/it]"
          ]
        },
        {
          "output_type": "stream",
          "name": "stdout",
          "text": [
            "\n",
            "image 1/1 /content/drive/MyDrive/UCLA/cs 263/final_proj/val2014/COCO_val2014_000000246928.jpg: 416x640 1 chair, 1 bed, 79.6ms\n",
            "Speed: 2.0ms preprocess, 79.6ms inference, 2.3ms postprocess per image at shape (1, 3, 416, 640)\n"
          ]
        },
        {
          "output_type": "stream",
          "name": "stderr",
          "text": [
            "\rRunning YOLO:   9%|▊         | 43/500 [00:51<08:12,  1.08s/it]"
          ]
        },
        {
          "output_type": "stream",
          "name": "stdout",
          "text": [
            "\n",
            "image 1/1 /content/drive/MyDrive/UCLA/cs 263/final_proj/val2014/COCO_val2014_000000472375.jpg: 640x640 2 motorcycles, 1 dog, 97.8ms\n",
            "Speed: 3.0ms preprocess, 97.8ms inference, 2.1ms postprocess per image at shape (1, 3, 640, 640)\n"
          ]
        },
        {
          "output_type": "stream",
          "name": "stderr",
          "text": [
            "\rRunning YOLO:   9%|▉         | 44/500 [00:52<07:50,  1.03s/it]"
          ]
        },
        {
          "output_type": "stream",
          "name": "stdout",
          "text": [
            "\n",
            "image 1/1 /content/drive/MyDrive/UCLA/cs 263/final_proj/val2014/COCO_val2014_000000249715.jpg: 480x640 5 persons, 15 chairs, 3 remotes, 1 book, 69.7ms\n",
            "Speed: 2.4ms preprocess, 69.7ms inference, 2.6ms postprocess per image at shape (1, 3, 480, 640)\n"
          ]
        },
        {
          "output_type": "stream",
          "name": "stderr",
          "text": [
            "\rRunning YOLO:   9%|▉         | 45/500 [00:53<07:53,  1.04s/it]"
          ]
        },
        {
          "output_type": "stream",
          "name": "stdout",
          "text": [
            "\n",
            "image 1/1 /content/drive/MyDrive/UCLA/cs 263/final_proj/val2014/COCO_val2014_000000482275.jpg: 480x640 3 persons, 1 tie, 2 wine glasss, 14 cakes, 2 vases, 71.4ms\n",
            "Speed: 1.7ms preprocess, 71.4ms inference, 1.8ms postprocess per image at shape (1, 3, 480, 640)\n"
          ]
        },
        {
          "output_type": "stream",
          "name": "stderr",
          "text": [
            "\rRunning YOLO:   9%|▉         | 46/500 [00:54<07:34,  1.00s/it]"
          ]
        },
        {
          "output_type": "stream",
          "name": "stdout",
          "text": [
            "\n",
            "image 1/1 /content/drive/MyDrive/UCLA/cs 263/final_proj/val2014/COCO_val2014_000000192660.jpg: 480x640 1 person, 1 banana, 1 orange, 74.1ms\n",
            "Speed: 1.7ms preprocess, 74.1ms inference, 1.7ms postprocess per image at shape (1, 3, 480, 640)\n"
          ]
        },
        {
          "output_type": "stream",
          "name": "stderr",
          "text": [
            "\rRunning YOLO:   9%|▉         | 47/500 [00:55<07:31,  1.00it/s]"
          ]
        },
        {
          "output_type": "stream",
          "name": "stdout",
          "text": [
            "\n",
            "image 1/1 /content/drive/MyDrive/UCLA/cs 263/final_proj/val2014/COCO_val2014_000000167110.jpg: 448x640 3 persons, 1 car, 2 skateboards, 72.5ms\n",
            "Speed: 1.6ms preprocess, 72.5ms inference, 1.6ms postprocess per image at shape (1, 3, 448, 640)\n"
          ]
        },
        {
          "output_type": "stream",
          "name": "stderr",
          "text": [
            "\rRunning YOLO:  10%|▉         | 48/500 [00:56<07:48,  1.04s/it]"
          ]
        },
        {
          "output_type": "stream",
          "name": "stdout",
          "text": [
            "\n",
            "image 1/1 /content/drive/MyDrive/UCLA/cs 263/final_proj/val2014/COCO_val2014_000000134075.jpg: 512x640 3 persons, 2 bottles, 4 cups, 1 fork, 1 spoon, 1 dining table, 2 cell phones, 76.7ms\n",
            "Speed: 1.8ms preprocess, 76.7ms inference, 1.6ms postprocess per image at shape (1, 3, 512, 640)\n"
          ]
        },
        {
          "output_type": "stream",
          "name": "stderr",
          "text": [
            "\rRunning YOLO:  10%|▉         | 49/500 [00:57<08:05,  1.08s/it]"
          ]
        },
        {
          "output_type": "stream",
          "name": "stdout",
          "text": [
            "\n",
            "image 1/1 /content/drive/MyDrive/UCLA/cs 263/final_proj/val2014/COCO_val2014_000000437347.jpg: 480x640 3 persons, 1 bench, 1 sports ball, 1 baseball glove, 75.1ms\n",
            "Speed: 1.8ms preprocess, 75.1ms inference, 1.5ms postprocess per image at shape (1, 3, 480, 640)\n"
          ]
        },
        {
          "output_type": "stream",
          "name": "stderr",
          "text": [
            "\rRunning YOLO:  10%|█         | 50/500 [00:58<08:14,  1.10s/it]"
          ]
        },
        {
          "output_type": "stream",
          "name": "stdout",
          "text": [
            "\n",
            "image 1/1 /content/drive/MyDrive/UCLA/cs 263/final_proj/val2014/COCO_val2014_000000358255.jpg: 256x640 3 beds, 1 book, 6 teddy bears, 109.2ms\n",
            "Speed: 1.1ms preprocess, 109.2ms inference, 1.5ms postprocess per image at shape (1, 3, 256, 640)\n"
          ]
        },
        {
          "output_type": "stream",
          "name": "stderr",
          "text": [
            "\rRunning YOLO:  10%|█         | 51/500 [00:59<08:04,  1.08s/it]"
          ]
        },
        {
          "output_type": "stream",
          "name": "stdout",
          "text": [
            "\n",
            "image 1/1 /content/drive/MyDrive/UCLA/cs 263/final_proj/val2014/COCO_val2014_000000140583.jpg: 480x640 2 persons, 1 bus, 15 sheeps, 75.0ms\n",
            "Speed: 1.8ms preprocess, 75.0ms inference, 1.6ms postprocess per image at shape (1, 3, 480, 640)\n"
          ]
        },
        {
          "output_type": "stream",
          "name": "stderr",
          "text": [
            "\rRunning YOLO:  10%|█         | 52/500 [01:00<07:44,  1.04s/it]"
          ]
        },
        {
          "output_type": "stream",
          "name": "stdout",
          "text": [
            "\n",
            "image 1/1 /content/drive/MyDrive/UCLA/cs 263/final_proj/val2014/COCO_val2014_000000333756.jpg: 640x640 1 person, 1 sports ball, 1 tennis racket, 98.0ms\n",
            "Speed: 4.5ms preprocess, 98.0ms inference, 2.1ms postprocess per image at shape (1, 3, 640, 640)\n"
          ]
        },
        {
          "output_type": "stream",
          "name": "stderr",
          "text": [
            "\rRunning YOLO:  11%|█         | 53/500 [01:02<08:56,  1.20s/it]"
          ]
        },
        {
          "output_type": "stream",
          "name": "stdout",
          "text": [
            "\n",
            "image 1/1 /content/drive/MyDrive/UCLA/cs 263/final_proj/val2014/COCO_val2014_000000097994.jpg: 448x640 1 bottle, 1 cup, 1 tv, 3 laptops, 4 keyboards, 1 cell phone, 3 books, 64.3ms\n",
            "Speed: 2.2ms preprocess, 64.3ms inference, 1.9ms postprocess per image at shape (1, 3, 448, 640)\n"
          ]
        },
        {
          "output_type": "stream",
          "name": "stderr",
          "text": [
            "\rRunning YOLO:  11%|█         | 54/500 [01:03<08:15,  1.11s/it]"
          ]
        },
        {
          "output_type": "stream",
          "name": "stdout",
          "text": [
            "\n",
            "image 1/1 /content/drive/MyDrive/UCLA/cs 263/final_proj/val2014/COCO_val2014_000000574692.jpg: 448x640 11 persons, 10 oranges, 71.5ms\n",
            "Speed: 1.6ms preprocess, 71.5ms inference, 1.8ms postprocess per image at shape (1, 3, 448, 640)\n"
          ]
        },
        {
          "output_type": "stream",
          "name": "stderr",
          "text": [
            "\rRunning YOLO:  11%|█         | 55/500 [01:04<08:16,  1.11s/it]"
          ]
        },
        {
          "output_type": "stream",
          "name": "stdout",
          "text": [
            "\n",
            "image 1/1 /content/drive/MyDrive/UCLA/cs 263/final_proj/val2014/COCO_val2014_000000038645.jpg: 640x480 1 bench, 1 umbrella, 1 cup, 2 chairs, 1 potted plant, 74.8ms\n",
            "Speed: 1.7ms preprocess, 74.8ms inference, 1.5ms postprocess per image at shape (1, 3, 640, 480)\n"
          ]
        },
        {
          "output_type": "stream",
          "name": "stderr",
          "text": [
            "\rRunning YOLO:  11%|█         | 56/500 [01:05<07:57,  1.08s/it]"
          ]
        },
        {
          "output_type": "stream",
          "name": "stdout",
          "text": [
            "\n",
            "image 1/1 /content/drive/MyDrive/UCLA/cs 263/final_proj/val2014/COCO_val2014_000000332625.jpg: 448x640 3 persons, 5 chairs, 9 tvs, 72.5ms\n",
            "Speed: 1.6ms preprocess, 72.5ms inference, 1.6ms postprocess per image at shape (1, 3, 448, 640)\n"
          ]
        },
        {
          "output_type": "stream",
          "name": "stderr",
          "text": [
            "\rRunning YOLO:  11%|█▏        | 57/500 [01:06<08:11,  1.11s/it]"
          ]
        },
        {
          "output_type": "stream",
          "name": "stdout",
          "text": [
            "\n",
            "image 1/1 /content/drive/MyDrive/UCLA/cs 263/final_proj/val2014/COCO_val2014_000000418471.jpg: 480x640 2 persons, 1 cup, 15 pizzas, 2 chairs, 74.9ms\n",
            "Speed: 1.7ms preprocess, 74.9ms inference, 1.6ms postprocess per image at shape (1, 3, 480, 640)\n"
          ]
        },
        {
          "output_type": "stream",
          "name": "stderr",
          "text": [
            "\rRunning YOLO:  12%|█▏        | 58/500 [01:07<08:02,  1.09s/it]"
          ]
        },
        {
          "output_type": "stream",
          "name": "stdout",
          "text": [
            "\n",
            "image 1/1 /content/drive/MyDrive/UCLA/cs 263/final_proj/val2014/COCO_val2014_000000300368.jpg: 640x480 3 persons, 1 knife, 1 cake, 1 dining table, 74.8ms\n",
            "Speed: 1.7ms preprocess, 74.8ms inference, 1.5ms postprocess per image at shape (1, 3, 640, 480)\n"
          ]
        },
        {
          "output_type": "stream",
          "name": "stderr",
          "text": [
            "\rRunning YOLO:  12%|█▏        | 59/500 [01:08<08:28,  1.15s/it]"
          ]
        },
        {
          "output_type": "stream",
          "name": "stdout",
          "text": [
            "\n",
            "image 1/1 /content/drive/MyDrive/UCLA/cs 263/final_proj/val2014/COCO_val2014_000000265472.jpg: 480x640 1 bowl, 4 bananas, 75.2ms\n",
            "Speed: 3.5ms preprocess, 75.2ms inference, 1.7ms postprocess per image at shape (1, 3, 480, 640)\n"
          ]
        },
        {
          "output_type": "stream",
          "name": "stderr",
          "text": [
            "\rRunning YOLO:  12%|█▏        | 60/500 [01:09<08:08,  1.11s/it]"
          ]
        },
        {
          "output_type": "stream",
          "name": "stdout",
          "text": [
            "\n",
            "image 1/1 /content/drive/MyDrive/UCLA/cs 263/final_proj/val2014/COCO_val2014_000000336872.jpg: 480x640 1 spoon, 1 bowl, 2 sandwichs, 74.1ms\n",
            "Speed: 1.8ms preprocess, 74.1ms inference, 1.7ms postprocess per image at shape (1, 3, 480, 640)\n"
          ]
        },
        {
          "output_type": "stream",
          "name": "stderr",
          "text": [
            "\rRunning YOLO:  12%|█▏        | 61/500 [01:10<08:00,  1.09s/it]"
          ]
        },
        {
          "output_type": "stream",
          "name": "stdout",
          "text": [
            "\n",
            "image 1/1 /content/drive/MyDrive/UCLA/cs 263/final_proj/val2014/COCO_val2014_000000244455.jpg: 512x640 8 persons, 4 cars, 2 motorcycles, 75.0ms\n",
            "Speed: 2.3ms preprocess, 75.0ms inference, 1.7ms postprocess per image at shape (1, 3, 512, 640)\n"
          ]
        },
        {
          "output_type": "stream",
          "name": "stderr",
          "text": [
            "\rRunning YOLO:  12%|█▏        | 62/500 [01:11<07:47,  1.07s/it]"
          ]
        },
        {
          "output_type": "stream",
          "name": "stdout",
          "text": [
            "\n",
            "image 1/1 /content/drive/MyDrive/UCLA/cs 263/final_proj/val2014/COCO_val2014_000000190788.jpg: 480x640 1 person, 1 cup, 1 knife, 1 pizza, 1 dining table, 75.0ms\n",
            "Speed: 1.7ms preprocess, 75.0ms inference, 1.6ms postprocess per image at shape (1, 3, 480, 640)\n"
          ]
        },
        {
          "output_type": "stream",
          "name": "stderr",
          "text": [
            "\rRunning YOLO:  13%|█▎        | 63/500 [01:13<08:00,  1.10s/it]"
          ]
        },
        {
          "output_type": "stream",
          "name": "stdout",
          "text": [
            "\n",
            "image 1/1 /content/drive/MyDrive/UCLA/cs 263/final_proj/val2014/COCO_val2014_000000016451.jpg: 640x640 1 person, 1 backpack, 1 umbrella, 3 handbags, 2 surfboards, 3 chairs, 97.9ms\n",
            "Speed: 4.7ms preprocess, 97.9ms inference, 2.1ms postprocess per image at shape (1, 3, 640, 640)\n"
          ]
        },
        {
          "output_type": "stream",
          "name": "stderr",
          "text": [
            "\rRunning YOLO:  13%|█▎        | 64/500 [01:14<08:07,  1.12s/it]"
          ]
        },
        {
          "output_type": "stream",
          "name": "stdout",
          "text": [
            "\n",
            "image 1/1 /content/drive/MyDrive/UCLA/cs 263/final_proj/val2014/COCO_val2014_000000516916.jpg: 480x640 1 chair, 2 tvs, 3 laptops, 1 mouse, 4 keyboards, 63.2ms\n",
            "Speed: 2.4ms preprocess, 63.2ms inference, 1.9ms postprocess per image at shape (1, 3, 480, 640)\n"
          ]
        },
        {
          "output_type": "stream",
          "name": "stderr",
          "text": [
            "\rRunning YOLO:  13%|█▎        | 65/500 [01:15<07:30,  1.04s/it]"
          ]
        },
        {
          "output_type": "stream",
          "name": "stdout",
          "text": [
            "\n",
            "image 1/1 /content/drive/MyDrive/UCLA/cs 263/final_proj/val2014/COCO_val2014_000000355342.jpg: 448x640 3 persons, 4 umbrellas, 62.1ms\n",
            "Speed: 1.7ms preprocess, 62.1ms inference, 1.9ms postprocess per image at shape (1, 3, 448, 640)\n"
          ]
        },
        {
          "output_type": "stream",
          "name": "stderr",
          "text": [
            "\rRunning YOLO:  13%|█▎        | 66/500 [01:16<07:32,  1.04s/it]"
          ]
        },
        {
          "output_type": "stream",
          "name": "stdout",
          "text": [
            "\n",
            "image 1/1 /content/drive/MyDrive/UCLA/cs 263/final_proj/val2014/COCO_val2014_000000015338.jpg: 448x640 1 car, 2 buss, 2 trucks, 71.5ms\n",
            "Speed: 1.6ms preprocess, 71.5ms inference, 1.9ms postprocess per image at shape (1, 3, 448, 640)\n"
          ]
        },
        {
          "output_type": "stream",
          "name": "stderr",
          "text": [
            "\rRunning YOLO:  13%|█▎        | 67/500 [01:17<07:26,  1.03s/it]"
          ]
        },
        {
          "output_type": "stream",
          "name": "stdout",
          "text": [
            "\n",
            "image 1/1 /content/drive/MyDrive/UCLA/cs 263/final_proj/val2014/COCO_val2014_000000501294.jpg: 480x640 1 person, 2 couchs, 1 tv, 75.1ms\n",
            "Speed: 1.7ms preprocess, 75.1ms inference, 2.5ms postprocess per image at shape (1, 3, 480, 640)\n"
          ]
        },
        {
          "output_type": "stream",
          "name": "stderr",
          "text": [
            "\rRunning YOLO:  14%|█▎        | 68/500 [01:18<07:17,  1.01s/it]"
          ]
        },
        {
          "output_type": "stream",
          "name": "stdout",
          "text": [
            "\n",
            "image 1/1 /content/drive/MyDrive/UCLA/cs 263/final_proj/val2014/COCO_val2014_000000204100.jpg: 384x640 1 person, 1 bench, 5 bowls, 10 bananas, 66.2ms\n",
            "Speed: 2.0ms preprocess, 66.2ms inference, 1.7ms postprocess per image at shape (1, 3, 384, 640)\n"
          ]
        },
        {
          "output_type": "stream",
          "name": "stderr",
          "text": [
            "\rRunning YOLO:  14%|█▍        | 69/500 [01:19<07:33,  1.05s/it]"
          ]
        },
        {
          "output_type": "stream",
          "name": "stdout",
          "text": [
            "\n",
            "image 1/1 /content/drive/MyDrive/UCLA/cs 263/final_proj/val2014/COCO_val2014_000000482476.jpg: 448x640 1 person, 1 cell phone, 72.5ms\n",
            "Speed: 1.6ms preprocess, 72.5ms inference, 1.7ms postprocess per image at shape (1, 3, 448, 640)\n"
          ]
        },
        {
          "output_type": "stream",
          "name": "stderr",
          "text": [
            "\rRunning YOLO:  14%|█▍        | 70/500 [01:20<08:14,  1.15s/it]"
          ]
        },
        {
          "output_type": "stream",
          "name": "stdout",
          "text": [
            "\n",
            "image 1/1 /content/drive/MyDrive/UCLA/cs 263/final_proj/val2014/COCO_val2014_000000083275.jpg: 448x640 3 persons, 1 baseball bat, 1 baseball glove, 71.5ms\n",
            "Speed: 2.3ms preprocess, 71.5ms inference, 1.6ms postprocess per image at shape (1, 3, 448, 640)\n"
          ]
        },
        {
          "output_type": "stream",
          "name": "stderr",
          "text": [
            "\rRunning YOLO:  14%|█▍        | 71/500 [01:21<07:49,  1.09s/it]"
          ]
        },
        {
          "output_type": "stream",
          "name": "stdout",
          "text": [
            "\n",
            "image 1/1 /content/drive/MyDrive/UCLA/cs 263/final_proj/val2014/COCO_val2014_000000419453.jpg: 448x640 8 persons, 2 umbrellas, 1 sports ball, 71.5ms\n",
            "Speed: 1.7ms preprocess, 71.5ms inference, 1.6ms postprocess per image at shape (1, 3, 448, 640)\n"
          ]
        },
        {
          "output_type": "stream",
          "name": "stderr",
          "text": [
            "\rRunning YOLO:  14%|█▍        | 72/500 [01:22<07:36,  1.07s/it]"
          ]
        },
        {
          "output_type": "stream",
          "name": "stdout",
          "text": [
            "\n",
            "image 1/1 /content/drive/MyDrive/UCLA/cs 263/final_proj/val2014/COCO_val2014_000000219622.jpg: 448x640 3 persons, 12 cars, 1 frisbee, 71.6ms\n",
            "Speed: 2.2ms preprocess, 71.6ms inference, 1.8ms postprocess per image at shape (1, 3, 448, 640)\n"
          ]
        },
        {
          "output_type": "stream",
          "name": "stderr",
          "text": [
            "\rRunning YOLO:  15%|█▍        | 73/500 [01:23<07:15,  1.02s/it]"
          ]
        },
        {
          "output_type": "stream",
          "name": "stdout",
          "text": [
            "\n",
            "image 1/1 /content/drive/MyDrive/UCLA/cs 263/final_proj/val2014/COCO_val2014_000000480122.jpg: 640x640 1 bottle, 1 cup, 4 knifes, 1 spoon, 1 bowl, 1 banana, 6 chairs, 1 dining table, 1 oven, 4 sinks, 1 refrigerator, 97.7ms\n",
            "Speed: 2.0ms preprocess, 97.7ms inference, 1.6ms postprocess per image at shape (1, 3, 640, 640)\n"
          ]
        },
        {
          "output_type": "stream",
          "name": "stderr",
          "text": [
            "\rRunning YOLO:  15%|█▍        | 74/500 [01:24<07:56,  1.12s/it]"
          ]
        },
        {
          "output_type": "stream",
          "name": "stdout",
          "text": [
            "\n",
            "image 1/1 /content/drive/MyDrive/UCLA/cs 263/final_proj/val2014/COCO_val2014_000000332025.jpg: 640x640 4 persons, 1 dog, 2 backpacks, 1 skis, 2 snowboards, 81.0ms\n",
            "Speed: 3.2ms preprocess, 81.0ms inference, 1.8ms postprocess per image at shape (1, 3, 640, 640)\n"
          ]
        },
        {
          "output_type": "stream",
          "name": "stderr",
          "text": [
            "\rRunning YOLO:  15%|█▌        | 75/500 [01:25<07:24,  1.05s/it]"
          ]
        },
        {
          "output_type": "stream",
          "name": "stdout",
          "text": [
            "\n",
            "image 1/1 /content/drive/MyDrive/UCLA/cs 263/final_proj/val2014/COCO_val2014_000000318550.jpg: 480x640 13 cars, 3 trains, 3 trucks, 62.4ms\n",
            "Speed: 1.8ms preprocess, 62.4ms inference, 2.8ms postprocess per image at shape (1, 3, 480, 640)\n"
          ]
        },
        {
          "output_type": "stream",
          "name": "stderr",
          "text": [
            "\rRunning YOLO:  15%|█▌        | 76/500 [01:26<07:26,  1.05s/it]"
          ]
        },
        {
          "output_type": "stream",
          "name": "stdout",
          "text": [
            "\n",
            "image 1/1 /content/drive/MyDrive/UCLA/cs 263/final_proj/val2014/COCO_val2014_000000501652.jpg: 480x640 1 person, 1 car, 1 cell phone, 74.2ms\n",
            "Speed: 2.3ms preprocess, 74.2ms inference, 2.7ms postprocess per image at shape (1, 3, 480, 640)\n"
          ]
        },
        {
          "output_type": "stream",
          "name": "stderr",
          "text": [
            "\rRunning YOLO:  15%|█▌        | 77/500 [01:28<07:49,  1.11s/it]"
          ]
        },
        {
          "output_type": "stream",
          "name": "stdout",
          "text": [
            "\n",
            "image 1/1 /content/drive/MyDrive/UCLA/cs 263/final_proj/val2014/COCO_val2014_000000405205.jpg: 480x640 1 bus, 2 trucks, 74.1ms\n",
            "Speed: 2.7ms preprocess, 74.1ms inference, 1.8ms postprocess per image at shape (1, 3, 480, 640)\n"
          ]
        },
        {
          "output_type": "stream",
          "name": "stderr",
          "text": [
            "\rRunning YOLO:  16%|█▌        | 78/500 [01:29<07:36,  1.08s/it]"
          ]
        },
        {
          "output_type": "stream",
          "name": "stdout",
          "text": [
            "\n",
            "image 1/1 /content/drive/MyDrive/UCLA/cs 263/final_proj/val2014/COCO_val2014_000000183757.jpg: 640x480 1 truck, 1 cat, 2 dogs, 74.7ms\n",
            "Speed: 1.7ms preprocess, 74.7ms inference, 1.5ms postprocess per image at shape (1, 3, 640, 480)\n"
          ]
        },
        {
          "output_type": "stream",
          "name": "stderr",
          "text": [
            "\rRunning YOLO:  16%|█▌        | 79/500 [01:30<07:16,  1.04s/it]"
          ]
        },
        {
          "output_type": "stream",
          "name": "stdout",
          "text": [
            "\n",
            "image 1/1 /content/drive/MyDrive/UCLA/cs 263/final_proj/val2014/COCO_val2014_000000148766.jpg: 480x640 9 toilets, 2 vases, 75.0ms\n",
            "Speed: 1.7ms preprocess, 75.0ms inference, 1.6ms postprocess per image at shape (1, 3, 480, 640)\n"
          ]
        },
        {
          "output_type": "stream",
          "name": "stderr",
          "text": [
            "\rRunning YOLO:  16%|█▌        | 80/500 [01:31<07:16,  1.04s/it]"
          ]
        },
        {
          "output_type": "stream",
          "name": "stdout",
          "text": [
            "\n",
            "image 1/1 /content/drive/MyDrive/UCLA/cs 263/final_proj/val2014/COCO_val2014_000000265719.jpg: 480x640 2 persons, 2 forks, 1 knife, 2 spoons, 1 donut, 1 cake, 1 dining table, 74.1ms\n",
            "Speed: 1.7ms preprocess, 74.1ms inference, 2.1ms postprocess per image at shape (1, 3, 480, 640)\n"
          ]
        },
        {
          "output_type": "stream",
          "name": "stderr",
          "text": [
            "\rRunning YOLO:  16%|█▌        | 81/500 [01:32<07:20,  1.05s/it]"
          ]
        },
        {
          "output_type": "stream",
          "name": "stdout",
          "text": [
            "\n",
            "image 1/1 /content/drive/MyDrive/UCLA/cs 263/final_proj/val2014/COCO_val2014_000000463640.jpg: 640x640 2 persons, 1 tie, 1 wine glass, 1 knife, 1 cake, 1 dining table, 99.7ms\n",
            "Speed: 2.0ms preprocess, 99.7ms inference, 1.6ms postprocess per image at shape (1, 3, 640, 640)\n"
          ]
        },
        {
          "output_type": "stream",
          "name": "stderr",
          "text": [
            "\rRunning YOLO:  16%|█▋        | 82/500 [01:33<07:52,  1.13s/it]"
          ]
        },
        {
          "output_type": "stream",
          "name": "stdout",
          "text": [
            "\n",
            "image 1/1 /content/drive/MyDrive/UCLA/cs 263/final_proj/val2014/COCO_val2014_000000311327.jpg: 480x640 5 persons, 1 boat, 75.7ms\n",
            "Speed: 1.8ms preprocess, 75.7ms inference, 2.5ms postprocess per image at shape (1, 3, 480, 640)\n"
          ]
        },
        {
          "output_type": "stream",
          "name": "stderr",
          "text": [
            "\rRunning YOLO:  17%|█▋        | 83/500 [01:34<07:29,  1.08s/it]"
          ]
        },
        {
          "output_type": "stream",
          "name": "stdout",
          "text": [
            "\n",
            "image 1/1 /content/drive/MyDrive/UCLA/cs 263/final_proj/val2014/COCO_val2014_000000379404.jpg: 480x640 1 banana, 2 sandwichs, 74.1ms\n",
            "Speed: 1.7ms preprocess, 74.1ms inference, 1.6ms postprocess per image at shape (1, 3, 480, 640)\n"
          ]
        },
        {
          "output_type": "stream",
          "name": "stderr",
          "text": [
            "\rRunning YOLO:  17%|█▋        | 84/500 [01:35<07:08,  1.03s/it]"
          ]
        },
        {
          "output_type": "stream",
          "name": "stdout",
          "text": [
            "\n",
            "image 1/1 /content/drive/MyDrive/UCLA/cs 263/final_proj/val2014/COCO_val2014_000000462805.jpg: 640x480 1 person, 2 skiss, 1 snowboard, 74.9ms\n",
            "Speed: 1.7ms preprocess, 74.9ms inference, 1.5ms postprocess per image at shape (1, 3, 640, 480)\n"
          ]
        },
        {
          "output_type": "stream",
          "name": "stderr",
          "text": [
            "\rRunning YOLO:  17%|█▋        | 85/500 [01:36<06:38,  1.04it/s]"
          ]
        },
        {
          "output_type": "stream",
          "name": "stdout",
          "text": [
            "\n",
            "image 1/1 /content/drive/MyDrive/UCLA/cs 263/final_proj/val2014/COCO_val2014_000000467176.jpg: 448x640 5 persons, 2 couchs, 1 tv, 3 remotes, 72.4ms\n",
            "Speed: 1.6ms preprocess, 72.4ms inference, 1.5ms postprocess per image at shape (1, 3, 448, 640)\n"
          ]
        },
        {
          "output_type": "stream",
          "name": "stderr",
          "text": [
            "\rRunning YOLO:  17%|█▋        | 86/500 [01:37<06:57,  1.01s/it]"
          ]
        },
        {
          "output_type": "stream",
          "name": "stdout",
          "text": [
            "\n",
            "image 1/1 /content/drive/MyDrive/UCLA/cs 263/final_proj/val2014/COCO_val2014_000000365317.jpg: 448x640 1 person, 1 tennis racket, 71.6ms\n",
            "Speed: 2.1ms preprocess, 71.6ms inference, 2.1ms postprocess per image at shape (1, 3, 448, 640)\n"
          ]
        },
        {
          "output_type": "stream",
          "name": "stderr",
          "text": [
            "\rRunning YOLO:  17%|█▋        | 87/500 [01:38<07:20,  1.07s/it]"
          ]
        },
        {
          "output_type": "stream",
          "name": "stdout",
          "text": [
            "\n",
            "image 1/1 /content/drive/MyDrive/UCLA/cs 263/final_proj/val2014/COCO_val2014_000000042190.jpg: 448x640 1 person, 1 surfboard, 71.6ms\n",
            "Speed: 2.4ms preprocess, 71.6ms inference, 2.2ms postprocess per image at shape (1, 3, 448, 640)\n"
          ]
        },
        {
          "output_type": "stream",
          "name": "stderr",
          "text": [
            "\rRunning YOLO:  18%|█▊        | 88/500 [01:39<07:07,  1.04s/it]"
          ]
        },
        {
          "output_type": "stream",
          "name": "stdout",
          "text": [
            "\n",
            "image 1/1 /content/drive/MyDrive/UCLA/cs 263/final_proj/val2014/COCO_val2014_000000153865.jpg: 416x640 14 persons, 1 car, 1 truck, 3 kites, 72.0ms\n",
            "Speed: 2.1ms preprocess, 72.0ms inference, 2.6ms postprocess per image at shape (1, 3, 416, 640)\n"
          ]
        },
        {
          "output_type": "stream",
          "name": "stderr",
          "text": [
            "\rRunning YOLO:  18%|█▊        | 89/500 [01:40<07:04,  1.03s/it]"
          ]
        },
        {
          "output_type": "stream",
          "name": "stdout",
          "text": [
            "\n",
            "image 1/1 /content/drive/MyDrive/UCLA/cs 263/final_proj/val2014/COCO_val2014_000000559547.jpg: 512x640 4 persons, 2 airplanes, 1 tie, 1 baseball bat, 1 baseball glove, 75.0ms\n",
            "Speed: 1.8ms preprocess, 75.0ms inference, 1.6ms postprocess per image at shape (1, 3, 512, 640)\n"
          ]
        },
        {
          "output_type": "stream",
          "name": "stderr",
          "text": [
            "\rRunning YOLO:  18%|█▊        | 90/500 [01:41<07:10,  1.05s/it]"
          ]
        },
        {
          "output_type": "stream",
          "name": "stdout",
          "text": [
            "\n",
            "image 1/1 /content/drive/MyDrive/UCLA/cs 263/final_proj/val2014/COCO_val2014_000000200583.jpg: 640x480 1 person, 1 backpack, 3 suitcases, 1 bottle, 74.7ms\n",
            "Speed: 1.7ms preprocess, 74.7ms inference, 1.5ms postprocess per image at shape (1, 3, 640, 480)\n"
          ]
        },
        {
          "output_type": "stream",
          "name": "stderr",
          "text": [
            "\rRunning YOLO:  18%|█▊        | 91/500 [01:43<08:48,  1.29s/it]"
          ]
        },
        {
          "output_type": "stream",
          "name": "stdout",
          "text": [
            "\n",
            "image 1/1 /content/drive/MyDrive/UCLA/cs 263/final_proj/val2014/COCO_val2014_000000307262.jpg: 608x640 2 forks, 1 spoon, 1 bowl, 3 pizzas, 1 dining table, 96.8ms\n",
            "Speed: 2.3ms preprocess, 96.8ms inference, 1.6ms postprocess per image at shape (1, 3, 608, 640)\n"
          ]
        },
        {
          "output_type": "stream",
          "name": "stderr",
          "text": [
            "\rRunning YOLO:  18%|█▊        | 92/500 [01:44<07:57,  1.17s/it]"
          ]
        },
        {
          "output_type": "stream",
          "name": "stdout",
          "text": [
            "\n",
            "image 1/1 /content/drive/MyDrive/UCLA/cs 263/final_proj/val2014/COCO_val2014_000000478736.jpg: 480x640 3 cars, 6 traffic lights, 1 stop sign, 75.0ms\n",
            "Speed: 1.9ms preprocess, 75.0ms inference, 1.5ms postprocess per image at shape (1, 3, 480, 640)\n"
          ]
        },
        {
          "output_type": "stream",
          "name": "stderr",
          "text": [
            "\rRunning YOLO:  19%|█▊        | 93/500 [01:45<07:44,  1.14s/it]"
          ]
        },
        {
          "output_type": "stream",
          "name": "stdout",
          "text": [
            "\n",
            "image 1/1 /content/drive/MyDrive/UCLA/cs 263/final_proj/val2014/COCO_val2014_000000560064.jpg: 640x448 4 persons, 2 benchs, 1 donut, 72.7ms\n",
            "Speed: 1.5ms preprocess, 72.7ms inference, 1.6ms postprocess per image at shape (1, 3, 640, 448)\n"
          ]
        },
        {
          "output_type": "stream",
          "name": "stderr",
          "text": [
            "\rRunning YOLO:  19%|█▉        | 94/500 [01:46<07:23,  1.09s/it]"
          ]
        },
        {
          "output_type": "stream",
          "name": "stdout",
          "text": [
            "\n",
            "image 1/1 /content/drive/MyDrive/UCLA/cs 263/final_proj/val2014/COCO_val2014_000000006033.jpg: 640x480 2 persons, 1 bus, 1 sheep, 1 suitcase, 74.7ms\n",
            "Speed: 1.7ms preprocess, 74.7ms inference, 1.5ms postprocess per image at shape (1, 3, 640, 480)\n"
          ]
        },
        {
          "output_type": "stream",
          "name": "stderr",
          "text": [
            "\rRunning YOLO:  19%|█▉        | 95/500 [01:47<07:06,  1.05s/it]"
          ]
        },
        {
          "output_type": "stream",
          "name": "stdout",
          "text": [
            "\n",
            "image 1/1 /content/drive/MyDrive/UCLA/cs 263/final_proj/val2014/COCO_val2014_000000564336.jpg: 384x640 1 person, 1 car, 1 parking meter, 7 bottles, 9 chairs, 2 dining tables, 1 laptop, 2 books, 64.2ms\n",
            "Speed: 2.9ms preprocess, 64.2ms inference, 1.6ms postprocess per image at shape (1, 3, 384, 640)\n"
          ]
        },
        {
          "output_type": "stream",
          "name": "stderr",
          "text": [
            "\rRunning YOLO:  19%|█▉        | 96/500 [01:48<08:15,  1.23s/it]"
          ]
        },
        {
          "output_type": "stream",
          "name": "stdout",
          "text": [
            "\n",
            "image 1/1 /content/drive/MyDrive/UCLA/cs 263/final_proj/val2014/COCO_val2014_000000210789.jpg: 640x480 2 persons, 1 truck, 1 umbrella, 74.8ms\n",
            "Speed: 2.4ms preprocess, 74.8ms inference, 1.6ms postprocess per image at shape (1, 3, 640, 480)\n"
          ]
        },
        {
          "output_type": "stream",
          "name": "stderr",
          "text": [
            "\rRunning YOLO:  19%|█▉        | 97/500 [01:50<08:01,  1.19s/it]"
          ]
        },
        {
          "output_type": "stream",
          "name": "stdout",
          "text": [
            "\n",
            "image 1/1 /content/drive/MyDrive/UCLA/cs 263/final_proj/val2014/COCO_val2014_000000529668.jpg: 640x480 1 person, 1 handbag, 1 cell phone, 73.9ms\n",
            "Speed: 2.5ms preprocess, 73.9ms inference, 2.0ms postprocess per image at shape (1, 3, 640, 480)\n"
          ]
        },
        {
          "output_type": "stream",
          "name": "stderr",
          "text": [
            "\rRunning YOLO:  20%|█▉        | 98/500 [01:51<07:42,  1.15s/it]"
          ]
        },
        {
          "output_type": "stream",
          "name": "stdout",
          "text": [
            "\n",
            "image 1/1 /content/drive/MyDrive/UCLA/cs 263/final_proj/val2014/COCO_val2014_000000433574.jpg: 480x640 1 person, 1 chair, 1 couch, 1 remote, 2 cell phones, 1 book, 75.7ms\n",
            "Speed: 2.2ms preprocess, 75.7ms inference, 3.6ms postprocess per image at shape (1, 3, 480, 640)\n"
          ]
        },
        {
          "output_type": "stream",
          "name": "stderr",
          "text": [
            "\rRunning YOLO:  20%|█▉        | 99/500 [01:52<07:38,  1.14s/it]"
          ]
        },
        {
          "output_type": "stream",
          "name": "stdout",
          "text": [
            "\n",
            "image 1/1 /content/drive/MyDrive/UCLA/cs 263/final_proj/val2014/COCO_val2014_000000405762.jpg: 448x640 2 persons, 3 cars, 1 truck, 1 sports ball, 72.3ms\n",
            "Speed: 1.7ms preprocess, 72.3ms inference, 1.5ms postprocess per image at shape (1, 3, 448, 640)\n"
          ]
        },
        {
          "output_type": "stream",
          "name": "stderr",
          "text": [
            "\rRunning YOLO:  20%|██        | 100/500 [01:53<07:09,  1.07s/it]"
          ]
        },
        {
          "output_type": "stream",
          "name": "stdout",
          "text": [
            "\n",
            "image 1/1 /content/drive/MyDrive/UCLA/cs 263/final_proj/val2014/COCO_val2014_000000198312.jpg: 480x640 1 cup, 3 bowls, 8 chairs, 2 couchs, 2 potted plants, 3 dining tables, 1 vase, 77.0ms\n",
            "Speed: 1.6ms preprocess, 77.0ms inference, 1.6ms postprocess per image at shape (1, 3, 480, 640)\n"
          ]
        },
        {
          "output_type": "stream",
          "name": "stderr",
          "text": [
            "\rRunning YOLO:  20%|██        | 101/500 [01:54<07:29,  1.13s/it]"
          ]
        },
        {
          "output_type": "stream",
          "name": "stdout",
          "text": [
            "\n",
            "image 1/1 /content/drive/MyDrive/UCLA/cs 263/final_proj/val2014/COCO_val2014_000000392364.jpg: 544x640 2 persons, 3 cars, 1 horse, 1 clock, 91.3ms\n",
            "Speed: 1.8ms preprocess, 91.3ms inference, 1.7ms postprocess per image at shape (1, 3, 544, 640)\n"
          ]
        },
        {
          "output_type": "stream",
          "name": "stderr",
          "text": [
            "\rRunning YOLO:  20%|██        | 102/500 [01:55<07:20,  1.11s/it]"
          ]
        },
        {
          "output_type": "stream",
          "name": "stdout",
          "text": [
            "\n",
            "image 1/1 /content/drive/MyDrive/UCLA/cs 263/final_proj/val2014/COCO_val2014_000000555538.jpg: 416x640 12 persons, 2 baseball bats, 64.3ms\n",
            "Speed: 1.6ms preprocess, 64.3ms inference, 1.5ms postprocess per image at shape (1, 3, 416, 640)\n"
          ]
        },
        {
          "output_type": "stream",
          "name": "stderr",
          "text": [
            "\rRunning YOLO:  21%|██        | 103/500 [01:56<06:54,  1.04s/it]"
          ]
        },
        {
          "output_type": "stream",
          "name": "stdout",
          "text": [
            "\n",
            "image 1/1 /content/drive/MyDrive/UCLA/cs 263/final_proj/val2014/COCO_val2014_000000080022.jpg: 448x640 1 person, 1 sports ball, 1 tennis racket, 72.4ms\n",
            "Speed: 1.8ms preprocess, 72.4ms inference, 1.5ms postprocess per image at shape (1, 3, 448, 640)\n"
          ]
        },
        {
          "output_type": "stream",
          "name": "stderr",
          "text": [
            "\rRunning YOLO:  21%|██        | 104/500 [01:57<07:07,  1.08s/it]"
          ]
        },
        {
          "output_type": "stream",
          "name": "stdout",
          "text": [
            "\n",
            "image 1/1 /content/drive/MyDrive/UCLA/cs 263/final_proj/val2014/COCO_val2014_000000365822.jpg: 640x480 4 bottles, 1 bowl, 2 chairs, 1 potted plant, 1 dining table, 1 oven, 1 vase, 74.7ms\n",
            "Speed: 1.7ms preprocess, 74.7ms inference, 1.5ms postprocess per image at shape (1, 3, 640, 480)\n"
          ]
        },
        {
          "output_type": "stream",
          "name": "stderr",
          "text": [
            "\rRunning YOLO:  21%|██        | 105/500 [01:58<07:31,  1.14s/it]"
          ]
        },
        {
          "output_type": "stream",
          "name": "stdout",
          "text": [
            "\n",
            "image 1/1 /content/drive/MyDrive/UCLA/cs 263/final_proj/val2014/COCO_val2014_000000384040.jpg: 480x640 1 person, 9 cups, 3 knifes, 2 sandwichs, 1 pizza, 1 dining table, 75.2ms\n",
            "Speed: 1.9ms preprocess, 75.2ms inference, 1.6ms postprocess per image at shape (1, 3, 480, 640)\n"
          ]
        },
        {
          "output_type": "stream",
          "name": "stderr",
          "text": [
            "\rRunning YOLO:  21%|██        | 106/500 [01:59<07:32,  1.15s/it]"
          ]
        },
        {
          "output_type": "stream",
          "name": "stdout",
          "text": [
            "\n",
            "image 1/1 /content/drive/MyDrive/UCLA/cs 263/final_proj/val2014/COCO_val2014_000000303652.jpg: 480x640 1 person, 1 cup, 1 sandwich, 1 cake, 2 chairs, 2 dining tables, 74.1ms\n",
            "Speed: 1.6ms preprocess, 74.1ms inference, 1.6ms postprocess per image at shape (1, 3, 480, 640)\n"
          ]
        },
        {
          "output_type": "stream",
          "name": "stderr",
          "text": [
            "\rRunning YOLO:  21%|██▏       | 107/500 [02:01<07:59,  1.22s/it]"
          ]
        },
        {
          "output_type": "stream",
          "name": "stdout",
          "text": [
            "\n",
            "image 1/1 /content/drive/MyDrive/UCLA/cs 263/final_proj/val2014/COCO_val2014_000000497599.jpg: 640x448 4 persons, 2 chairs, 1 laptop, 74.7ms\n",
            "Speed: 1.7ms preprocess, 74.7ms inference, 1.6ms postprocess per image at shape (1, 3, 640, 448)\n"
          ]
        },
        {
          "output_type": "stream",
          "name": "stderr",
          "text": [
            "\rRunning YOLO:  22%|██▏       | 108/500 [02:02<08:04,  1.23s/it]"
          ]
        },
        {
          "output_type": "stream",
          "name": "stdout",
          "text": [
            "\n",
            "image 1/1 /content/drive/MyDrive/UCLA/cs 263/final_proj/val2014/COCO_val2014_000000542145.jpg: 640x480 1 bottle, 1 toilet, 1 sink, 77.0ms\n",
            "Speed: 3.6ms preprocess, 77.0ms inference, 2.0ms postprocess per image at shape (1, 3, 640, 480)\n"
          ]
        },
        {
          "output_type": "stream",
          "name": "stderr",
          "text": [
            "\rRunning YOLO:  22%|██▏       | 109/500 [02:04<08:49,  1.35s/it]"
          ]
        },
        {
          "output_type": "stream",
          "name": "stdout",
          "text": [
            "\n",
            "image 1/1 /content/drive/MyDrive/UCLA/cs 263/final_proj/val2014/COCO_val2014_000000156704.jpg: 448x640 12 persons, 1 handbag, 3 surfboards, 72.6ms\n",
            "Speed: 1.5ms preprocess, 72.6ms inference, 1.7ms postprocess per image at shape (1, 3, 448, 640)\n"
          ]
        },
        {
          "output_type": "stream",
          "name": "stderr",
          "text": [
            "\rRunning YOLO:  22%|██▏       | 110/500 [02:05<07:55,  1.22s/it]"
          ]
        },
        {
          "output_type": "stream",
          "name": "stdout",
          "text": [
            "\n",
            "image 1/1 /content/drive/MyDrive/UCLA/cs 263/final_proj/val2014/COCO_val2014_000000539251.jpg: 640x416 2 persons, 1 cup, 1 potted plant, 2 sinks, 71.9ms\n",
            "Speed: 1.5ms preprocess, 71.9ms inference, 1.6ms postprocess per image at shape (1, 3, 640, 416)\n"
          ]
        },
        {
          "output_type": "stream",
          "name": "stderr",
          "text": [
            "\rRunning YOLO:  22%|██▏       | 111/500 [02:06<07:31,  1.16s/it]"
          ]
        },
        {
          "output_type": "stream",
          "name": "stdout",
          "text": [
            "\n",
            "image 1/1 /content/drive/MyDrive/UCLA/cs 263/final_proj/val2014/COCO_val2014_000000044993.jpg: 640x448 1 banana, 3 apples, 4 oranges, 73.0ms\n",
            "Speed: 1.6ms preprocess, 73.0ms inference, 2.2ms postprocess per image at shape (1, 3, 640, 448)\n"
          ]
        },
        {
          "output_type": "stream",
          "name": "stderr",
          "text": [
            "\rRunning YOLO:  22%|██▏       | 112/500 [02:07<07:18,  1.13s/it]"
          ]
        },
        {
          "output_type": "stream",
          "name": "stdout",
          "text": [
            "\n",
            "image 1/1 /content/drive/MyDrive/UCLA/cs 263/final_proj/val2014/COCO_val2014_000000382617.jpg: 640x480 1 cup, 1 mouse, 1 book, 74.8ms\n",
            "Speed: 1.8ms preprocess, 74.8ms inference, 1.6ms postprocess per image at shape (1, 3, 640, 480)\n"
          ]
        },
        {
          "output_type": "stream",
          "name": "stderr",
          "text": [
            "\rRunning YOLO:  23%|██▎       | 113/500 [02:08<07:34,  1.18s/it]"
          ]
        },
        {
          "output_type": "stream",
          "name": "stdout",
          "text": [
            "\n",
            "image 1/1 /content/drive/MyDrive/UCLA/cs 263/final_proj/val2014/COCO_val2014_000000278226.jpg: 480x640 3 persons, 1 cup, 1 couch, 2 laptops, 1 cell phone, 75.7ms\n",
            "Speed: 1.8ms preprocess, 75.7ms inference, 1.6ms postprocess per image at shape (1, 3, 480, 640)\n"
          ]
        },
        {
          "output_type": "stream",
          "name": "stderr",
          "text": [
            "\rRunning YOLO:  23%|██▎       | 114/500 [02:09<08:04,  1.26s/it]"
          ]
        },
        {
          "output_type": "stream",
          "name": "stdout",
          "text": [
            "\n",
            "image 1/1 /content/drive/MyDrive/UCLA/cs 263/final_proj/val2014/COCO_val2014_000000424642.jpg: 480x640 2 persons, 4 frisbees, 74.2ms\n",
            "Speed: 2.4ms preprocess, 74.2ms inference, 2.1ms postprocess per image at shape (1, 3, 480, 640)\n"
          ]
        },
        {
          "output_type": "stream",
          "name": "stderr",
          "text": [
            "\rRunning YOLO:  23%|██▎       | 115/500 [02:10<07:30,  1.17s/it]"
          ]
        },
        {
          "output_type": "stream",
          "name": "stdout",
          "text": [
            "\n",
            "image 1/1 /content/drive/MyDrive/UCLA/cs 263/final_proj/val2014/COCO_val2014_000000379162.jpg: 448x640 4 persons, 2 tennis rackets, 2 bottles, 3 chairs, 72.4ms\n",
            "Speed: 1.8ms preprocess, 72.4ms inference, 1.6ms postprocess per image at shape (1, 3, 448, 640)\n"
          ]
        },
        {
          "output_type": "stream",
          "name": "stderr",
          "text": [
            "\rRunning YOLO:  23%|██▎       | 116/500 [02:12<07:18,  1.14s/it]"
          ]
        },
        {
          "output_type": "stream",
          "name": "stdout",
          "text": [
            "\n",
            "image 1/1 /content/drive/MyDrive/UCLA/cs 263/final_proj/val2014/COCO_val2014_000000207205.jpg: 480x640 2 broccolis, 3 carrots, 1 chair, 75.1ms\n",
            "Speed: 1.8ms preprocess, 75.1ms inference, 1.5ms postprocess per image at shape (1, 3, 480, 640)\n"
          ]
        },
        {
          "output_type": "stream",
          "name": "stderr",
          "text": [
            "\rRunning YOLO:  23%|██▎       | 117/500 [02:12<06:45,  1.06s/it]"
          ]
        },
        {
          "output_type": "stream",
          "name": "stdout",
          "text": [
            "\n",
            "image 1/1 /content/drive/MyDrive/UCLA/cs 263/final_proj/val2014/COCO_val2014_000000325347.jpg: 384x640 2 persons, 1 backpack, 1 tennis racket, 2 bottles, 2 chairs, 65.6ms\n",
            "Speed: 1.5ms preprocess, 65.6ms inference, 1.7ms postprocess per image at shape (1, 3, 384, 640)\n"
          ]
        },
        {
          "output_type": "stream",
          "name": "stderr",
          "text": [
            "\rRunning YOLO:  24%|██▎       | 118/500 [02:13<06:28,  1.02s/it]"
          ]
        },
        {
          "output_type": "stream",
          "name": "stdout",
          "text": [
            "\n",
            "image 1/1 /content/drive/MyDrive/UCLA/cs 263/final_proj/val2014/COCO_val2014_000000579415.jpg: 448x640 16 persons, 1 bus, 2 traffic lights, 21 umbrellas, 1 handbag, 73.7ms\n",
            "Speed: 2.1ms preprocess, 73.7ms inference, 2.6ms postprocess per image at shape (1, 3, 448, 640)\n"
          ]
        },
        {
          "output_type": "stream",
          "name": "stderr",
          "text": [
            "\rRunning YOLO:  24%|██▍       | 119/500 [02:14<06:40,  1.05s/it]"
          ]
        },
        {
          "output_type": "stream",
          "name": "stdout",
          "text": [
            "\n",
            "image 1/1 /content/drive/MyDrive/UCLA/cs 263/final_proj/val2014/COCO_val2014_000000348524.jpg: 640x448 4 persons, 1 skis, 2 snowboards, 73.0ms\n",
            "Speed: 2.3ms preprocess, 73.0ms inference, 1.9ms postprocess per image at shape (1, 3, 640, 448)\n"
          ]
        },
        {
          "output_type": "stream",
          "name": "stderr",
          "text": [
            "\rRunning YOLO:  24%|██▍       | 120/500 [02:15<06:19,  1.00it/s]"
          ]
        },
        {
          "output_type": "stream",
          "name": "stdout",
          "text": [
            "\n",
            "image 1/1 /content/drive/MyDrive/UCLA/cs 263/final_proj/val2014/COCO_val2014_000000201148.jpg: 384x640 1 train, 2 traffic lights, 65.1ms\n",
            "Speed: 1.9ms preprocess, 65.1ms inference, 2.7ms postprocess per image at shape (1, 3, 384, 640)\n"
          ]
        },
        {
          "output_type": "stream",
          "name": "stderr",
          "text": [
            "\rRunning YOLO:  24%|██▍       | 121/500 [02:16<06:30,  1.03s/it]"
          ]
        },
        {
          "output_type": "stream",
          "name": "stdout",
          "text": [
            "\n",
            "image 1/1 /content/drive/MyDrive/UCLA/cs 263/final_proj/val2014/COCO_val2014_000000323752.jpg: 448x640 1 person, 1 tennis racket, 72.6ms\n",
            "Speed: 1.6ms preprocess, 72.6ms inference, 1.7ms postprocess per image at shape (1, 3, 448, 640)\n"
          ]
        },
        {
          "output_type": "stream",
          "name": "stderr",
          "text": [
            "\rRunning YOLO:  24%|██▍       | 122/500 [02:18<06:43,  1.07s/it]"
          ]
        },
        {
          "output_type": "stream",
          "name": "stdout",
          "text": [
            "\n",
            "image 1/1 /content/drive/MyDrive/UCLA/cs 263/final_proj/val2014/COCO_val2014_000000327038.jpg: 384x640 1 person, 1 bottle, 4 forks, 5 knifes, 1 spoon, 1 bowl, 1 oven, 64.0ms\n",
            "Speed: 1.4ms preprocess, 64.0ms inference, 1.5ms postprocess per image at shape (1, 3, 384, 640)\n"
          ]
        },
        {
          "output_type": "stream",
          "name": "stderr",
          "text": [
            "\rRunning YOLO:  25%|██▍       | 123/500 [02:19<07:26,  1.18s/it]"
          ]
        },
        {
          "output_type": "stream",
          "name": "stdout",
          "text": [
            "\n",
            "image 1/1 /content/drive/MyDrive/UCLA/cs 263/final_proj/val2014/COCO_val2014_000000197219.jpg: 416x640 7 persons, 1 handbag, 1 cup, 5 pizzas, 1 chair, 1 dining table, 71.3ms\n",
            "Speed: 1.6ms preprocess, 71.3ms inference, 1.6ms postprocess per image at shape (1, 3, 416, 640)\n"
          ]
        },
        {
          "output_type": "stream",
          "name": "stderr",
          "text": [
            "\rRunning YOLO:  25%|██▍       | 124/500 [02:20<06:59,  1.12s/it]"
          ]
        },
        {
          "output_type": "stream",
          "name": "stdout",
          "text": [
            "\n",
            "image 1/1 /content/drive/MyDrive/UCLA/cs 263/final_proj/val2014/COCO_val2014_000000354976.jpg: 480x640 1 person, 1 chair, 1 tv, 3 laptops, 1 mouse, 1 remote, 1 keyboard, 2 cell phones, 1 book, 75.1ms\n",
            "Speed: 1.7ms preprocess, 75.1ms inference, 1.6ms postprocess per image at shape (1, 3, 480, 640)\n"
          ]
        },
        {
          "output_type": "stream",
          "name": "stderr",
          "text": [
            "\rRunning YOLO:  25%|██▌       | 125/500 [02:21<06:36,  1.06s/it]"
          ]
        },
        {
          "output_type": "stream",
          "name": "stdout",
          "text": [
            "\n",
            "image 1/1 /content/drive/MyDrive/UCLA/cs 263/final_proj/val2014/COCO_val2014_000000018150.jpg: 480x640 2 persons, 1 bottle, 2 pizzas, 1 couch, 1 dining table, 74.1ms\n",
            "Speed: 1.6ms preprocess, 74.1ms inference, 1.7ms postprocess per image at shape (1, 3, 480, 640)\n"
          ]
        },
        {
          "output_type": "stream",
          "name": "stderr",
          "text": [
            "\rRunning YOLO:  25%|██▌       | 126/500 [02:22<06:51,  1.10s/it]"
          ]
        },
        {
          "output_type": "stream",
          "name": "stdout",
          "text": [
            "\n",
            "image 1/1 /content/drive/MyDrive/UCLA/cs 263/final_proj/val2014/COCO_val2014_000000094501.jpg: 640x640 1 bottle, 1 fork, 2 cakes, 98.0ms\n",
            "Speed: 2.0ms preprocess, 98.0ms inference, 1.7ms postprocess per image at shape (1, 3, 640, 640)\n"
          ]
        },
        {
          "output_type": "stream",
          "name": "stderr",
          "text": [
            "\rRunning YOLO:  25%|██▌       | 127/500 [02:23<06:39,  1.07s/it]"
          ]
        },
        {
          "output_type": "stream",
          "name": "stdout",
          "text": [
            "\n",
            "image 1/1 /content/drive/MyDrive/UCLA/cs 263/final_proj/val2014/COCO_val2014_000000102906.jpg: 448x640 2 cars, 3 traffic lights, 1 fire hydrant, 61.3ms\n",
            "Speed: 1.7ms preprocess, 61.3ms inference, 2.7ms postprocess per image at shape (1, 3, 448, 640)\n"
          ]
        },
        {
          "output_type": "stream",
          "name": "stderr",
          "text": [
            "\rRunning YOLO:  26%|██▌       | 128/500 [02:24<06:40,  1.08s/it]"
          ]
        },
        {
          "output_type": "stream",
          "name": "stdout",
          "text": [
            "\n",
            "image 1/1 /content/drive/MyDrive/UCLA/cs 263/final_proj/val2014/COCO_val2014_000000013348.jpg: 448x640 3 persons, 2 airplanes, 3 trucks, 71.5ms\n",
            "Speed: 1.7ms preprocess, 71.5ms inference, 1.7ms postprocess per image at shape (1, 3, 448, 640)\n"
          ]
        },
        {
          "output_type": "stream",
          "name": "stderr",
          "text": [
            "\rRunning YOLO:  26%|██▌       | 129/500 [02:25<06:30,  1.05s/it]"
          ]
        },
        {
          "output_type": "stream",
          "name": "stdout",
          "text": [
            "\n",
            "image 1/1 /content/drive/MyDrive/UCLA/cs 263/final_proj/val2014/COCO_val2014_000000353180.jpg: 448x640 9 persons, 1 bus, 71.6ms\n",
            "Speed: 1.7ms preprocess, 71.6ms inference, 1.7ms postprocess per image at shape (1, 3, 448, 640)\n"
          ]
        },
        {
          "output_type": "stream",
          "name": "stderr",
          "text": [
            "\rRunning YOLO:  26%|██▌       | 130/500 [02:26<06:11,  1.00s/it]"
          ]
        },
        {
          "output_type": "stream",
          "name": "stdout",
          "text": [
            "\n",
            "image 1/1 /content/drive/MyDrive/UCLA/cs 263/final_proj/val2014/COCO_val2014_000000430052.jpg: 480x640 1 dining table, 1 vase, 75.4ms\n",
            "Speed: 1.8ms preprocess, 75.4ms inference, 1.9ms postprocess per image at shape (1, 3, 480, 640)\n"
          ]
        },
        {
          "output_type": "stream",
          "name": "stderr",
          "text": [
            "\rRunning YOLO:  26%|██▌       | 131/500 [02:27<06:11,  1.01s/it]"
          ]
        },
        {
          "output_type": "stream",
          "name": "stdout",
          "text": [
            "\n",
            "image 1/1 /content/drive/MyDrive/UCLA/cs 263/final_proj/val2014/COCO_val2014_000000084410.jpg: 480x640 3 wine glasss, 1 cup, 74.2ms\n",
            "Speed: 2.3ms preprocess, 74.2ms inference, 2.4ms postprocess per image at shape (1, 3, 480, 640)\n"
          ]
        },
        {
          "output_type": "stream",
          "name": "stderr",
          "text": [
            "\rRunning YOLO:  26%|██▋       | 132/500 [02:28<06:17,  1.03s/it]"
          ]
        },
        {
          "output_type": "stream",
          "name": "stdout",
          "text": [
            "\n",
            "image 1/1 /content/drive/MyDrive/UCLA/cs 263/final_proj/val2014/COCO_val2014_000000065001.jpg: 480x640 13 persons, 1 car, 15 motorcycles, 74.2ms\n",
            "Speed: 2.0ms preprocess, 74.2ms inference, 1.8ms postprocess per image at shape (1, 3, 480, 640)\n"
          ]
        },
        {
          "output_type": "stream",
          "name": "stderr",
          "text": [
            "\rRunning YOLO:  27%|██▋       | 133/500 [02:29<06:18,  1.03s/it]"
          ]
        },
        {
          "output_type": "stream",
          "name": "stdout",
          "text": [
            "\n",
            "image 1/1 /content/drive/MyDrive/UCLA/cs 263/final_proj/val2014/COCO_val2014_000000562155.jpg: 640x480 1 person, 1 tie, 74.7ms\n",
            "Speed: 1.7ms preprocess, 74.7ms inference, 1.5ms postprocess per image at shape (1, 3, 640, 480)\n"
          ]
        },
        {
          "output_type": "stream",
          "name": "stderr",
          "text": [
            "\rRunning YOLO:  27%|██▋       | 134/500 [02:30<05:51,  1.04it/s]"
          ]
        },
        {
          "output_type": "stream",
          "name": "stdout",
          "text": [
            "\n",
            "image 1/1 /content/drive/MyDrive/UCLA/cs 263/final_proj/val2014/COCO_val2014_000000366141.jpg: 480x640 1 cat, 1 chair, 1 couch, 1 bed, 1 tv, 74.9ms\n",
            "Speed: 1.7ms preprocess, 74.9ms inference, 1.5ms postprocess per image at shape (1, 3, 480, 640)\n"
          ]
        },
        {
          "output_type": "stream",
          "name": "stderr",
          "text": [
            "\rRunning YOLO:  27%|██▋       | 135/500 [02:31<06:06,  1.00s/it]"
          ]
        },
        {
          "output_type": "stream",
          "name": "stdout",
          "text": [
            "\n",
            "image 1/1 /content/drive/MyDrive/UCLA/cs 263/final_proj/val2014/COCO_val2014_000000233426.jpg: 448x640 2 potted plants, 2 vases, 72.5ms\n",
            "Speed: 1.6ms preprocess, 72.5ms inference, 1.6ms postprocess per image at shape (1, 3, 448, 640)\n"
          ]
        },
        {
          "output_type": "stream",
          "name": "stderr",
          "text": [
            "\rRunning YOLO:  27%|██▋       | 136/500 [02:32<06:13,  1.02s/it]"
          ]
        },
        {
          "output_type": "stream",
          "name": "stdout",
          "text": [
            "\n",
            "image 1/1 /content/drive/MyDrive/UCLA/cs 263/final_proj/val2014/COCO_val2014_000000304819.jpg: 480x640 1 person, 1 cat, 1 tv, 75.0ms\n",
            "Speed: 1.7ms preprocess, 75.0ms inference, 1.6ms postprocess per image at shape (1, 3, 480, 640)\n"
          ]
        },
        {
          "output_type": "stream",
          "name": "stderr",
          "text": [
            "\rRunning YOLO:  27%|██▋       | 137/500 [02:33<06:27,  1.07s/it]"
          ]
        },
        {
          "output_type": "stream",
          "name": "stdout",
          "text": [
            "\n",
            "image 1/1 /content/drive/MyDrive/UCLA/cs 263/final_proj/val2014/COCO_val2014_000000121959.jpg: 640x480 13 persons, 1 umbrella, 3 chairs, 76.8ms\n",
            "Speed: 1.6ms preprocess, 76.8ms inference, 1.7ms postprocess per image at shape (1, 3, 640, 480)\n"
          ]
        },
        {
          "output_type": "stream",
          "name": "stderr",
          "text": [
            "\rRunning YOLO:  28%|██▊       | 138/500 [02:35<06:43,  1.11s/it]"
          ]
        },
        {
          "output_type": "stream",
          "name": "stdout",
          "text": [
            "\n",
            "image 1/1 /content/drive/MyDrive/UCLA/cs 263/final_proj/val2014/COCO_val2014_000000303099.jpg: 640x480 2 cats, 2 toilets, 73.9ms\n",
            "Speed: 2.4ms preprocess, 73.9ms inference, 1.7ms postprocess per image at shape (1, 3, 640, 480)\n"
          ]
        },
        {
          "output_type": "stream",
          "name": "stderr",
          "text": [
            "\rRunning YOLO:  28%|██▊       | 139/500 [02:35<06:13,  1.03s/it]"
          ]
        },
        {
          "output_type": "stream",
          "name": "stdout",
          "text": [
            "\n",
            "image 1/1 /content/drive/MyDrive/UCLA/cs 263/final_proj/val2014/COCO_val2014_000000235203.jpg: 480x640 2 persons, 1 cat, 1 remote, 1 keyboard, 75.0ms\n",
            "Speed: 1.7ms preprocess, 75.0ms inference, 1.5ms postprocess per image at shape (1, 3, 480, 640)\n"
          ]
        },
        {
          "output_type": "stream",
          "name": "stderr",
          "text": [
            "\rRunning YOLO:  28%|██▊       | 140/500 [02:36<06:12,  1.04s/it]"
          ]
        },
        {
          "output_type": "stream",
          "name": "stdout",
          "text": [
            "\n",
            "image 1/1 /content/drive/MyDrive/UCLA/cs 263/final_proj/val2014/COCO_val2014_000000277289.jpg: 480x640 1 couch, 2 potted plants, 1 tv, 2 remotes, 3 vases, 74.1ms\n",
            "Speed: 1.8ms preprocess, 74.1ms inference, 1.7ms postprocess per image at shape (1, 3, 480, 640)\n"
          ]
        },
        {
          "output_type": "stream",
          "name": "stderr",
          "text": [
            "\rRunning YOLO:  28%|██▊       | 141/500 [02:37<06:00,  1.00s/it]"
          ]
        },
        {
          "output_type": "stream",
          "name": "stdout",
          "text": [
            "\n",
            "image 1/1 /content/drive/MyDrive/UCLA/cs 263/final_proj/val2014/COCO_val2014_000000217397.jpg: 480x640 2 persons, 2 bottles, 2 wine glasss, 1 cup, 1 fork, 1 dining table, 1 cell phone, 74.1ms\n",
            "Speed: 1.9ms preprocess, 74.1ms inference, 1.7ms postprocess per image at shape (1, 3, 480, 640)\n"
          ]
        },
        {
          "output_type": "stream",
          "name": "stderr",
          "text": [
            "\rRunning YOLO:  28%|██▊       | 142/500 [02:38<06:08,  1.03s/it]"
          ]
        },
        {
          "output_type": "stream",
          "name": "stdout",
          "text": [
            "\n",
            "image 1/1 /content/drive/MyDrive/UCLA/cs 263/final_proj/val2014/COCO_val2014_000000100215.jpg: 480x640 2 bottles, 1 bed, 1 clock, 1 teddy bear, 74.2ms\n",
            "Speed: 3.6ms preprocess, 74.2ms inference, 2.2ms postprocess per image at shape (1, 3, 480, 640)\n"
          ]
        },
        {
          "output_type": "stream",
          "name": "stderr",
          "text": [
            "\rRunning YOLO:  29%|██▊       | 143/500 [02:39<05:58,  1.00s/it]"
          ]
        },
        {
          "output_type": "stream",
          "name": "stdout",
          "text": [
            "\n",
            "image 1/1 /content/drive/MyDrive/UCLA/cs 263/final_proj/val2014/COCO_val2014_000000424585.jpg: 448x640 7 persons, 7 cars, 1 truck, 73.4ms\n",
            "Speed: 2.1ms preprocess, 73.4ms inference, 2.4ms postprocess per image at shape (1, 3, 448, 640)\n"
          ]
        },
        {
          "output_type": "stream",
          "name": "stderr",
          "text": [
            "\rRunning YOLO:  29%|██▉       | 144/500 [02:41<06:15,  1.05s/it]"
          ]
        },
        {
          "output_type": "stream",
          "name": "stdout",
          "text": [
            "\n",
            "image 1/1 /content/drive/MyDrive/UCLA/cs 263/final_proj/val2014/COCO_val2014_000000506178.jpg: 640x480 2 persons, 1 couch, 1 tv, 75.0ms\n",
            "Speed: 3.3ms preprocess, 75.0ms inference, 1.6ms postprocess per image at shape (1, 3, 640, 480)\n"
          ]
        },
        {
          "output_type": "stream",
          "name": "stderr",
          "text": [
            "\rRunning YOLO:  29%|██▉       | 145/500 [02:42<06:21,  1.07s/it]"
          ]
        },
        {
          "output_type": "stream",
          "name": "stdout",
          "text": [
            "\n",
            "image 1/1 /content/drive/MyDrive/UCLA/cs 263/final_proj/val2014/COCO_val2014_000000465275.jpg: 640x480 1 person, 1 bottle, 2 couchs, 1 remote, 1 clock, 1 vase, 73.9ms\n",
            "Speed: 1.6ms preprocess, 73.9ms inference, 1.6ms postprocess per image at shape (1, 3, 640, 480)\n"
          ]
        },
        {
          "output_type": "stream",
          "name": "stderr",
          "text": [
            "\rRunning YOLO:  29%|██▉       | 146/500 [02:43<06:21,  1.08s/it]"
          ]
        },
        {
          "output_type": "stream",
          "name": "stdout",
          "text": [
            "\n",
            "image 1/1 /content/drive/MyDrive/UCLA/cs 263/final_proj/val2014/COCO_val2014_000000236865.jpg: 512x640 1 person, 1 car, 1 frisbee, 76.4ms\n",
            "Speed: 1.8ms preprocess, 76.4ms inference, 1.7ms postprocess per image at shape (1, 3, 512, 640)\n"
          ]
        },
        {
          "output_type": "stream",
          "name": "stderr",
          "text": [
            "\rRunning YOLO:  29%|██▉       | 147/500 [02:44<07:01,  1.19s/it]"
          ]
        },
        {
          "output_type": "stream",
          "name": "stdout",
          "text": [
            "\n",
            "image 1/1 /content/drive/MyDrive/UCLA/cs 263/final_proj/val2014/COCO_val2014_000000278771.jpg: 480x640 1 person, 1 baseball bat, 2 bottles, 75.0ms\n",
            "Speed: 1.7ms preprocess, 75.0ms inference, 1.6ms postprocess per image at shape (1, 3, 480, 640)\n"
          ]
        },
        {
          "output_type": "stream",
          "name": "stderr",
          "text": [
            "\rRunning YOLO:  30%|██▉       | 148/500 [02:45<06:48,  1.16s/it]"
          ]
        },
        {
          "output_type": "stream",
          "name": "stdout",
          "text": [
            "\n",
            "image 1/1 /content/drive/MyDrive/UCLA/cs 263/final_proj/val2014/COCO_val2014_000000236023.jpg: 512x640 6 persons, 9 bottles, 5 cups, 1 bowl, 1 oven, 2 refrigerators, 1 clock, 75.0ms\n",
            "Speed: 3.1ms preprocess, 75.0ms inference, 1.7ms postprocess per image at shape (1, 3, 512, 640)\n"
          ]
        },
        {
          "output_type": "stream",
          "name": "stderr",
          "text": [
            "\rRunning YOLO:  30%|██▉       | 149/500 [02:46<06:41,  1.14s/it]"
          ]
        },
        {
          "output_type": "stream",
          "name": "stdout",
          "text": [
            "\n",
            "image 1/1 /content/drive/MyDrive/UCLA/cs 263/final_proj/val2014/COCO_val2014_000000023731.jpg: 640x384 1 cat, 1 chair, 2 dining tables, 1 clock, 65.6ms\n",
            "Speed: 1.5ms preprocess, 65.6ms inference, 1.7ms postprocess per image at shape (1, 3, 640, 384)\n"
          ]
        },
        {
          "output_type": "stream",
          "name": "stderr",
          "text": [
            "\rRunning YOLO:  30%|███       | 150/500 [02:47<06:31,  1.12s/it]"
          ]
        },
        {
          "output_type": "stream",
          "name": "stdout",
          "text": [
            "\n",
            "image 1/1 /content/drive/MyDrive/UCLA/cs 263/final_proj/val2014/COCO_val2014_000000318209.jpg: 480x640 1 cat, 1 fork, 2 sandwichs, 2 dining tables, 1 refrigerator, 75.1ms\n",
            "Speed: 1.8ms preprocess, 75.1ms inference, 1.6ms postprocess per image at shape (1, 3, 480, 640)\n"
          ]
        },
        {
          "output_type": "stream",
          "name": "stderr",
          "text": [
            "\rRunning YOLO:  30%|███       | 151/500 [02:48<06:10,  1.06s/it]"
          ]
        },
        {
          "output_type": "stream",
          "name": "stdout",
          "text": [
            "\n",
            "image 1/1 /content/drive/MyDrive/UCLA/cs 263/final_proj/val2014/COCO_val2014_000000579231.jpg: 448x640 3 persons, 1 baseball bat, 1 baseball glove, 72.8ms\n",
            "Speed: 1.8ms preprocess, 72.8ms inference, 1.7ms postprocess per image at shape (1, 3, 448, 640)\n"
          ]
        },
        {
          "output_type": "stream",
          "name": "stderr",
          "text": [
            "\rRunning YOLO:  30%|███       | 152/500 [02:49<05:59,  1.03s/it]"
          ]
        },
        {
          "output_type": "stream",
          "name": "stdout",
          "text": [
            "\n",
            "image 1/1 /content/drive/MyDrive/UCLA/cs 263/final_proj/val2014/COCO_val2014_000000183965.jpg: 480x640 1 cup, 1 bowl, 2 donuts, 1 dining table, 76.0ms\n",
            "Speed: 1.8ms preprocess, 76.0ms inference, 1.5ms postprocess per image at shape (1, 3, 480, 640)\n"
          ]
        },
        {
          "output_type": "stream",
          "name": "stderr",
          "text": [
            "\rRunning YOLO:  31%|███       | 153/500 [02:50<05:43,  1.01it/s]"
          ]
        },
        {
          "output_type": "stream",
          "name": "stdout",
          "text": [
            "\n",
            "image 1/1 /content/drive/MyDrive/UCLA/cs 263/final_proj/val2014/COCO_val2014_000000485485.jpg: 480x640 1 person, 3 elephants, 74.2ms\n",
            "Speed: 2.3ms preprocess, 74.2ms inference, 2.8ms postprocess per image at shape (1, 3, 480, 640)\n"
          ]
        },
        {
          "output_type": "stream",
          "name": "stderr",
          "text": [
            "\rRunning YOLO:  31%|███       | 154/500 [02:52<07:20,  1.27s/it]"
          ]
        },
        {
          "output_type": "stream",
          "name": "stdout",
          "text": [
            "\n",
            "image 1/1 /content/drive/MyDrive/UCLA/cs 263/final_proj/val2014/COCO_val2014_000000230175.jpg: 480x640 6 persons, 1 tie, 1 cup, 74.2ms\n",
            "Speed: 2.3ms preprocess, 74.2ms inference, 1.6ms postprocess per image at shape (1, 3, 480, 640)\n"
          ]
        },
        {
          "output_type": "stream",
          "name": "stderr",
          "text": [
            "\rRunning YOLO:  31%|███       | 155/500 [02:53<06:46,  1.18s/it]"
          ]
        },
        {
          "output_type": "stream",
          "name": "stdout",
          "text": [
            "\n",
            "image 1/1 /content/drive/MyDrive/UCLA/cs 263/final_proj/val2014/COCO_val2014_000000267684.jpg: 480x640 2 persons, 1 backpack, 2 skiss, 74.1ms\n",
            "Speed: 1.6ms preprocess, 74.1ms inference, 1.6ms postprocess per image at shape (1, 3, 480, 640)\n"
          ]
        },
        {
          "output_type": "stream",
          "name": "stderr",
          "text": [
            "\rRunning YOLO:  31%|███       | 156/500 [02:54<06:34,  1.15s/it]"
          ]
        },
        {
          "output_type": "stream",
          "name": "stdout",
          "text": [
            "\n",
            "image 1/1 /content/drive/MyDrive/UCLA/cs 263/final_proj/val2014/COCO_val2014_000000553992.jpg: 480x640 2 persons, 3 chairs, 1 tv, 2 remotes, 74.1ms\n",
            "Speed: 2.5ms preprocess, 74.1ms inference, 1.6ms postprocess per image at shape (1, 3, 480, 640)\n"
          ]
        },
        {
          "output_type": "stream",
          "name": "stderr",
          "text": [
            "\rRunning YOLO:  31%|███▏      | 157/500 [02:55<06:05,  1.07s/it]"
          ]
        },
        {
          "output_type": "stream",
          "name": "stdout",
          "text": [
            "\n",
            "image 1/1 /content/drive/MyDrive/UCLA/cs 263/final_proj/val2014/COCO_val2014_000000233521.jpg: 448x640 1 person, 1 bottle, 2 couchs, 1 remote, 6 books, 1 teddy bear, 72.5ms\n",
            "Speed: 1.6ms preprocess, 72.5ms inference, 1.5ms postprocess per image at shape (1, 3, 448, 640)\n"
          ]
        },
        {
          "output_type": "stream",
          "name": "stderr",
          "text": [
            "\rRunning YOLO:  32%|███▏      | 158/500 [02:56<05:56,  1.04s/it]"
          ]
        },
        {
          "output_type": "stream",
          "name": "stdout",
          "text": [
            "\n",
            "image 1/1 /content/drive/MyDrive/UCLA/cs 263/final_proj/val2014/COCO_val2014_000000017708.jpg: 480x640 7 persons, 5 boats, 1 bird, 75.1ms\n",
            "Speed: 1.8ms preprocess, 75.1ms inference, 1.7ms postprocess per image at shape (1, 3, 480, 640)\n"
          ]
        },
        {
          "output_type": "stream",
          "name": "stderr",
          "text": [
            "\rRunning YOLO:  32%|███▏      | 159/500 [02:57<06:02,  1.06s/it]"
          ]
        },
        {
          "output_type": "stream",
          "name": "stdout",
          "text": [
            "\n",
            "image 1/1 /content/drive/MyDrive/UCLA/cs 263/final_proj/val2014/COCO_val2014_000000188958.jpg: 480x640 9 persons, 6 snowboards, 74.1ms\n",
            "Speed: 1.7ms preprocess, 74.1ms inference, 1.9ms postprocess per image at shape (1, 3, 480, 640)\n"
          ]
        },
        {
          "output_type": "stream",
          "name": "stderr",
          "text": [
            "\rRunning YOLO:  32%|███▏      | 160/500 [02:58<05:41,  1.00s/it]"
          ]
        },
        {
          "output_type": "stream",
          "name": "stdout",
          "text": [
            "\n",
            "image 1/1 /content/drive/MyDrive/UCLA/cs 263/final_proj/val2014/COCO_val2014_000000190185.jpg: 480x640 1 bowl, 1 sandwich, 1 dining table, 74.1ms\n",
            "Speed: 1.7ms preprocess, 74.1ms inference, 1.9ms postprocess per image at shape (1, 3, 480, 640)\n"
          ]
        },
        {
          "output_type": "stream",
          "name": "stderr",
          "text": [
            "\rRunning YOLO:  32%|███▏      | 161/500 [02:59<05:29,  1.03it/s]"
          ]
        },
        {
          "output_type": "stream",
          "name": "stdout",
          "text": [
            "\n",
            "image 1/1 /content/drive/MyDrive/UCLA/cs 263/final_proj/val2014/COCO_val2014_000000155131.jpg: 480x640 10 persons, 1 bench, 2 umbrellas, 1 tie, 1 sports ball, 1 tennis racket, 74.2ms\n",
            "Speed: 1.7ms preprocess, 74.2ms inference, 2.0ms postprocess per image at shape (1, 3, 480, 640)\n"
          ]
        },
        {
          "output_type": "stream",
          "name": "stderr",
          "text": [
            "\rRunning YOLO:  32%|███▏      | 162/500 [03:00<05:26,  1.04it/s]"
          ]
        },
        {
          "output_type": "stream",
          "name": "stdout",
          "text": [
            "\n",
            "image 1/1 /content/drive/MyDrive/UCLA/cs 263/final_proj/val2014/COCO_val2014_000000505542.jpg: 544x640 1 person, 2 cars, 1 train, 1 traffic light, 89.4ms\n",
            "Speed: 2.0ms preprocess, 89.4ms inference, 1.5ms postprocess per image at shape (1, 3, 544, 640)\n"
          ]
        },
        {
          "output_type": "stream",
          "name": "stderr",
          "text": [
            "\rRunning YOLO:  33%|███▎      | 163/500 [03:01<05:22,  1.04it/s]"
          ]
        },
        {
          "output_type": "stream",
          "name": "stdout",
          "text": [
            "\n",
            "image 1/1 /content/drive/MyDrive/UCLA/cs 263/final_proj/val2014/COCO_val2014_000000384970.jpg: 448x640 1 person, 1 car, 1 motorcycle, 1 truck, 72.5ms\n",
            "Speed: 2.3ms preprocess, 72.5ms inference, 1.5ms postprocess per image at shape (1, 3, 448, 640)\n"
          ]
        },
        {
          "output_type": "stream",
          "name": "stderr",
          "text": [
            "\rRunning YOLO:  33%|███▎      | 164/500 [03:02<05:30,  1.02it/s]"
          ]
        },
        {
          "output_type": "stream",
          "name": "stdout",
          "text": [
            "\n",
            "image 1/1 /content/drive/MyDrive/UCLA/cs 263/final_proj/val2014/COCO_val2014_000000454607.jpg: 480x640 1 person, 1 handbag, 1 cell phone, 4 books, 75.2ms\n",
            "Speed: 1.8ms preprocess, 75.2ms inference, 1.7ms postprocess per image at shape (1, 3, 480, 640)\n"
          ]
        },
        {
          "output_type": "stream",
          "name": "stderr",
          "text": [
            "\rRunning YOLO:  33%|███▎      | 165/500 [03:03<05:40,  1.02s/it]"
          ]
        },
        {
          "output_type": "stream",
          "name": "stdout",
          "text": [
            "\n",
            "image 1/1 /content/drive/MyDrive/UCLA/cs 263/final_proj/val2014/COCO_val2014_000000092624.jpg: 448x640 3 zebras, 2 giraffes, 73.1ms\n",
            "Speed: 2.1ms preprocess, 73.1ms inference, 1.9ms postprocess per image at shape (1, 3, 448, 640)\n"
          ]
        },
        {
          "output_type": "stream",
          "name": "stderr",
          "text": [
            "\rRunning YOLO:  33%|███▎      | 166/500 [03:04<06:04,  1.09s/it]"
          ]
        },
        {
          "output_type": "stream",
          "name": "stdout",
          "text": [
            "\n",
            "image 1/1 /content/drive/MyDrive/UCLA/cs 263/final_proj/val2014/COCO_val2014_000000429706.jpg: 384x640 14 persons, 2 backpacks, 4 handbags, 9 suitcases, 3 tvs, 63.8ms\n",
            "Speed: 1.5ms preprocess, 63.8ms inference, 1.5ms postprocess per image at shape (1, 3, 384, 640)\n"
          ]
        },
        {
          "output_type": "stream",
          "name": "stderr",
          "text": [
            "\rRunning YOLO:  33%|███▎      | 167/500 [03:05<06:06,  1.10s/it]"
          ]
        },
        {
          "output_type": "stream",
          "name": "stdout",
          "text": [
            "\n",
            "image 1/1 /content/drive/MyDrive/UCLA/cs 263/final_proj/val2014/COCO_val2014_000000343967.jpg: 480x640 2 chairs, 2 potted plants, 1 book, 1 clock, 1 vase, 74.9ms\n",
            "Speed: 1.7ms preprocess, 74.9ms inference, 1.5ms postprocess per image at shape (1, 3, 480, 640)\n"
          ]
        },
        {
          "output_type": "stream",
          "name": "stderr",
          "text": [
            "\rRunning YOLO:  34%|███▎      | 168/500 [03:06<06:04,  1.10s/it]"
          ]
        },
        {
          "output_type": "stream",
          "name": "stdout",
          "text": [
            "\n",
            "image 1/1 /content/drive/MyDrive/UCLA/cs 263/final_proj/val2014/COCO_val2014_000000436127.jpg: 640x640 4 persons, 2 buss, 3 horses, 97.9ms\n",
            "Speed: 2.1ms preprocess, 97.9ms inference, 1.6ms postprocess per image at shape (1, 3, 640, 640)\n"
          ]
        },
        {
          "output_type": "stream",
          "name": "stderr",
          "text": [
            "\rRunning YOLO:  34%|███▍      | 169/500 [03:07<05:40,  1.03s/it]"
          ]
        },
        {
          "output_type": "stream",
          "name": "stdout",
          "text": [
            "\n",
            "image 1/1 /content/drive/MyDrive/UCLA/cs 263/final_proj/val2014/COCO_val2014_000000245642.jpg: 480x640 1 person, 1 bicycle, 13 sheeps, 74.9ms\n",
            "Speed: 1.7ms preprocess, 74.9ms inference, 1.6ms postprocess per image at shape (1, 3, 480, 640)\n"
          ]
        },
        {
          "output_type": "stream",
          "name": "stderr",
          "text": [
            "\rRunning YOLO:  34%|███▍      | 170/500 [03:08<05:48,  1.05s/it]"
          ]
        },
        {
          "output_type": "stream",
          "name": "stdout",
          "text": [
            "\n",
            "image 1/1 /content/drive/MyDrive/UCLA/cs 263/final_proj/val2014/COCO_val2014_000000377352.jpg: 448x640 3 persons, 3 cars, 2 motorcycles, 72.7ms\n",
            "Speed: 1.6ms preprocess, 72.7ms inference, 1.8ms postprocess per image at shape (1, 3, 448, 640)\n"
          ]
        },
        {
          "output_type": "stream",
          "name": "stderr",
          "text": [
            "\rRunning YOLO:  34%|███▍      | 171/500 [03:10<06:01,  1.10s/it]"
          ]
        },
        {
          "output_type": "stream",
          "name": "stdout",
          "text": [
            "\n",
            "image 1/1 /content/drive/MyDrive/UCLA/cs 263/final_proj/val2014/COCO_val2014_000000123570.jpg: 448x640 1 person, 1 car, 2 umbrellas, 1 handbag, 71.6ms\n",
            "Speed: 1.8ms preprocess, 71.6ms inference, 1.7ms postprocess per image at shape (1, 3, 448, 640)\n"
          ]
        },
        {
          "output_type": "stream",
          "name": "stderr",
          "text": [
            "\rRunning YOLO:  34%|███▍      | 172/500 [03:11<05:42,  1.05s/it]"
          ]
        },
        {
          "output_type": "stream",
          "name": "stdout",
          "text": [
            "\n",
            "image 1/1 /content/drive/MyDrive/UCLA/cs 263/final_proj/val2014/COCO_val2014_000000235541.jpg: 640x448 2 persons, 1 tie, 75.1ms\n",
            "Speed: 1.7ms preprocess, 75.1ms inference, 1.7ms postprocess per image at shape (1, 3, 640, 448)\n"
          ]
        },
        {
          "output_type": "stream",
          "name": "stderr",
          "text": [
            "\rRunning YOLO:  35%|███▍      | 173/500 [03:12<05:56,  1.09s/it]"
          ]
        },
        {
          "output_type": "stream",
          "name": "stdout",
          "text": [
            "\n",
            "image 1/1 /content/drive/MyDrive/UCLA/cs 263/final_proj/val2014/COCO_val2014_000000454642.jpg: 480x640 4 persons, 4 cars, 3 motorcycles, 1 truck, 75.2ms\n",
            "Speed: 2.4ms preprocess, 75.2ms inference, 1.9ms postprocess per image at shape (1, 3, 480, 640)\n"
          ]
        },
        {
          "output_type": "stream",
          "name": "stderr",
          "text": [
            "\rRunning YOLO:  35%|███▍      | 174/500 [03:13<05:34,  1.03s/it]"
          ]
        },
        {
          "output_type": "stream",
          "name": "stdout",
          "text": [
            "\n",
            "image 1/1 /content/drive/MyDrive/UCLA/cs 263/final_proj/val2014/COCO_val2014_000000361430.jpg: 480x640 1 spoon, 1 bowl, 6 broccolis, 8 carrots, 74.1ms\n",
            "Speed: 1.6ms preprocess, 74.1ms inference, 1.8ms postprocess per image at shape (1, 3, 480, 640)\n"
          ]
        },
        {
          "output_type": "stream",
          "name": "stderr",
          "text": [
            "\rRunning YOLO:  35%|███▌      | 175/500 [03:14<05:50,  1.08s/it]"
          ]
        },
        {
          "output_type": "stream",
          "name": "stdout",
          "text": [
            "\n",
            "image 1/1 /content/drive/MyDrive/UCLA/cs 263/final_proj/val2014/COCO_val2014_000000318204.jpg: 480x640 1 person, 1 horse, 2 umbrellas, 74.1ms\n",
            "Speed: 1.6ms preprocess, 74.1ms inference, 2.7ms postprocess per image at shape (1, 3, 480, 640)\n"
          ]
        },
        {
          "output_type": "stream",
          "name": "stderr",
          "text": [
            "\rRunning YOLO:  35%|███▌      | 176/500 [03:15<06:27,  1.19s/it]"
          ]
        },
        {
          "output_type": "stream",
          "name": "stdout",
          "text": [
            "\n",
            "image 1/1 /content/drive/MyDrive/UCLA/cs 263/final_proj/val2014/COCO_val2014_000000397665.jpg: 640x448 15 persons, 2 bicycles, 2 cars, 4 motorcycles, 1 bus, 3 handbags, 72.9ms\n",
            "Speed: 2.2ms preprocess, 72.9ms inference, 2.0ms postprocess per image at shape (1, 3, 640, 448)\n"
          ]
        },
        {
          "output_type": "stream",
          "name": "stderr",
          "text": [
            "\rRunning YOLO:  35%|███▌      | 177/500 [03:16<06:14,  1.16s/it]"
          ]
        },
        {
          "output_type": "stream",
          "name": "stdout",
          "text": [
            "\n",
            "image 1/1 /content/drive/MyDrive/UCLA/cs 263/final_proj/val2014/COCO_val2014_000000037900.jpg: 448x640 1 handbag, 1 cell phone, 1 book, 72.4ms\n",
            "Speed: 2.2ms preprocess, 72.4ms inference, 1.5ms postprocess per image at shape (1, 3, 448, 640)\n"
          ]
        },
        {
          "output_type": "stream",
          "name": "stderr",
          "text": [
            "\rRunning YOLO:  36%|███▌      | 178/500 [03:18<06:10,  1.15s/it]"
          ]
        },
        {
          "output_type": "stream",
          "name": "stdout",
          "text": [
            "\n",
            "image 1/1 /content/drive/MyDrive/UCLA/cs 263/final_proj/val2014/COCO_val2014_000000120792.jpg: 480x640 3 persons, 3 cups, 3 chairs, 2 couchs, 1 tv, 3 remotes, 1 book, 75.0ms\n",
            "Speed: 1.7ms preprocess, 75.0ms inference, 1.6ms postprocess per image at shape (1, 3, 480, 640)\n"
          ]
        },
        {
          "output_type": "stream",
          "name": "stderr",
          "text": [
            "\rRunning YOLO:  36%|███▌      | 179/500 [03:18<05:39,  1.06s/it]"
          ]
        },
        {
          "output_type": "stream",
          "name": "stdout",
          "text": [
            "\n",
            "image 1/1 /content/drive/MyDrive/UCLA/cs 263/final_proj/val2014/COCO_val2014_000000310196.jpg: 448x640 1 person, 73.4ms\n",
            "Speed: 1.7ms preprocess, 73.4ms inference, 2.9ms postprocess per image at shape (1, 3, 448, 640)\n"
          ]
        },
        {
          "output_type": "stream",
          "name": "stderr",
          "text": [
            "\rRunning YOLO:  36%|███▌      | 180/500 [03:19<05:19,  1.00it/s]"
          ]
        },
        {
          "output_type": "stream",
          "name": "stdout",
          "text": [
            "\n",
            "image 1/1 /content/drive/MyDrive/UCLA/cs 263/final_proj/val2014/COCO_val2014_000000355776.jpg: 640x512 1 person, 1 toothbrush, 76.4ms\n",
            "Speed: 2.0ms preprocess, 76.4ms inference, 1.7ms postprocess per image at shape (1, 3, 640, 512)\n"
          ]
        },
        {
          "output_type": "stream",
          "name": "stderr",
          "text": [
            "\rRunning YOLO:  36%|███▌      | 181/500 [03:20<05:06,  1.04it/s]"
          ]
        },
        {
          "output_type": "stream",
          "name": "stdout",
          "text": [
            "\n",
            "image 1/1 /content/drive/MyDrive/UCLA/cs 263/final_proj/val2014/COCO_val2014_000000011241.jpg: 448x640 4 bottles, 1 cup, 1 knife, 2 spoons, 7 bowls, 8 sandwichs, 72.7ms\n",
            "Speed: 1.7ms preprocess, 72.7ms inference, 1.7ms postprocess per image at shape (1, 3, 448, 640)\n"
          ]
        },
        {
          "output_type": "stream",
          "name": "stderr",
          "text": [
            "\rRunning YOLO:  36%|███▋      | 182/500 [03:21<05:21,  1.01s/it]"
          ]
        },
        {
          "output_type": "stream",
          "name": "stdout",
          "text": [
            "\n",
            "image 1/1 /content/drive/MyDrive/UCLA/cs 263/final_proj/val2014/COCO_val2014_000000198397.jpg: 640x448 5 persons, 1 sports ball, 1 tennis racket, 16 chairs, 72.6ms\n",
            "Speed: 2.4ms preprocess, 72.6ms inference, 1.5ms postprocess per image at shape (1, 3, 640, 448)\n"
          ]
        },
        {
          "output_type": "stream",
          "name": "stderr",
          "text": [
            "\rRunning YOLO:  37%|███▋      | 183/500 [03:22<05:36,  1.06s/it]"
          ]
        },
        {
          "output_type": "stream",
          "name": "stdout",
          "text": [
            "\n",
            "image 1/1 /content/drive/MyDrive/UCLA/cs 263/final_proj/val2014/COCO_val2014_000000534942.jpg: 448x640 1 cat, 1 tie, 1 bed, 72.4ms\n",
            "Speed: 1.7ms preprocess, 72.4ms inference, 1.5ms postprocess per image at shape (1, 3, 448, 640)\n"
          ]
        },
        {
          "output_type": "stream",
          "name": "stderr",
          "text": [
            "\rRunning YOLO:  37%|███▋      | 184/500 [03:24<05:43,  1.09s/it]"
          ]
        },
        {
          "output_type": "stream",
          "name": "stdout",
          "text": [
            "\n",
            "image 1/1 /content/drive/MyDrive/UCLA/cs 263/final_proj/val2014/COCO_val2014_000000246145.jpg: 640x480 1 chair, 1 clock, 75.3ms\n",
            "Speed: 2.0ms preprocess, 75.3ms inference, 2.5ms postprocess per image at shape (1, 3, 640, 480)\n"
          ]
        },
        {
          "output_type": "stream",
          "name": "stderr",
          "text": [
            "\rRunning YOLO:  37%|███▋      | 185/500 [03:25<05:48,  1.11s/it]"
          ]
        },
        {
          "output_type": "stream",
          "name": "stdout",
          "text": [
            "\n",
            "image 1/1 /content/drive/MyDrive/UCLA/cs 263/final_proj/val2014/COCO_val2014_000000511341.jpg: 576x640 1 person, 1 car, 1 umbrella, 1 handbag, 93.5ms\n",
            "Speed: 2.0ms preprocess, 93.5ms inference, 2.1ms postprocess per image at shape (1, 3, 576, 640)\n"
          ]
        },
        {
          "output_type": "stream",
          "name": "stderr",
          "text": [
            "\rRunning YOLO:  37%|███▋      | 186/500 [03:26<05:33,  1.06s/it]"
          ]
        },
        {
          "output_type": "stream",
          "name": "stdout",
          "text": [
            "\n",
            "image 1/1 /content/drive/MyDrive/UCLA/cs 263/final_proj/val2014/COCO_val2014_000000316700.jpg: 480x640 3 cups, 2 forks, 1 knife, 1 bowl, 1 sandwich, 1 orange, 1 broccoli, 1 dining table, 66.6ms\n",
            "Speed: 1.9ms preprocess, 66.6ms inference, 1.6ms postprocess per image at shape (1, 3, 480, 640)\n"
          ]
        },
        {
          "output_type": "stream",
          "name": "stderr",
          "text": [
            "\rRunning YOLO:  37%|███▋      | 187/500 [03:27<05:41,  1.09s/it]"
          ]
        },
        {
          "output_type": "stream",
          "name": "stdout",
          "text": [
            "\n",
            "image 1/1 /content/drive/MyDrive/UCLA/cs 263/final_proj/val2014/COCO_val2014_000000456178.jpg: 640x480 4 persons, 1 bicycle, 4 cars, 1 truck, 1 traffic light, 1 clock, 75.1ms\n",
            "Speed: 2.4ms preprocess, 75.1ms inference, 5.3ms postprocess per image at shape (1, 3, 640, 480)\n"
          ]
        },
        {
          "output_type": "stream",
          "name": "stderr",
          "text": [
            "\rRunning YOLO:  38%|███▊      | 188/500 [03:28<05:29,  1.06s/it]"
          ]
        },
        {
          "output_type": "stream",
          "name": "stdout",
          "text": [
            "\n",
            "image 1/1 /content/drive/MyDrive/UCLA/cs 263/final_proj/val2014/COCO_val2014_000000124629.jpg: 448x640 3 persons, 1 tennis racket, 73.1ms\n",
            "Speed: 2.1ms preprocess, 73.1ms inference, 2.3ms postprocess per image at shape (1, 3, 448, 640)\n"
          ]
        },
        {
          "output_type": "stream",
          "name": "stderr",
          "text": [
            "\rRunning YOLO:  38%|███▊      | 189/500 [03:29<05:21,  1.03s/it]"
          ]
        },
        {
          "output_type": "stream",
          "name": "stdout",
          "text": [
            "\n",
            "image 1/1 /content/drive/MyDrive/UCLA/cs 263/final_proj/val2014/COCO_val2014_000000528136.jpg: 480x640 15 persons, 1 bicycle, 1 truck, 76.0ms\n",
            "Speed: 2.4ms preprocess, 76.0ms inference, 2.4ms postprocess per image at shape (1, 3, 480, 640)\n"
          ]
        },
        {
          "output_type": "stream",
          "name": "stderr",
          "text": [
            "\rRunning YOLO:  38%|███▊      | 190/500 [03:30<05:05,  1.01it/s]"
          ]
        },
        {
          "output_type": "stream",
          "name": "stdout",
          "text": [
            "\n",
            "image 1/1 /content/drive/MyDrive/UCLA/cs 263/final_proj/val2014/COCO_val2014_000000500680.jpg: 480x640 8 persons, 1 handbag, 1 chair, 74.1ms\n",
            "Speed: 1.7ms preprocess, 74.1ms inference, 1.7ms postprocess per image at shape (1, 3, 480, 640)\n"
          ]
        },
        {
          "output_type": "stream",
          "name": "stderr",
          "text": [
            "\rRunning YOLO:  38%|███▊      | 191/500 [03:30<04:49,  1.07it/s]"
          ]
        },
        {
          "output_type": "stream",
          "name": "stdout",
          "text": [
            "\n",
            "image 1/1 /content/drive/MyDrive/UCLA/cs 263/final_proj/val2014/COCO_val2014_000000429913.jpg: 448x640 7 persons, 1 sports ball, 2 baseball bats, 3 baseball gloves, 72.4ms\n",
            "Speed: 1.7ms preprocess, 72.4ms inference, 1.7ms postprocess per image at shape (1, 3, 448, 640)\n"
          ]
        },
        {
          "output_type": "stream",
          "name": "stderr",
          "text": [
            "\rRunning YOLO:  38%|███▊      | 192/500 [03:32<05:08,  1.00s/it]"
          ]
        },
        {
          "output_type": "stream",
          "name": "stdout",
          "text": [
            "\n",
            "image 1/1 /content/drive/MyDrive/UCLA/cs 263/final_proj/val2014/COCO_val2014_000000346707.jpg: 640x448 3 bananas, 72.7ms\n",
            "Speed: 2.4ms preprocess, 72.7ms inference, 1.7ms postprocess per image at shape (1, 3, 640, 448)\n"
          ]
        },
        {
          "output_type": "stream",
          "name": "stderr",
          "text": [
            "\rRunning YOLO:  39%|███▊      | 193/500 [03:33<05:06,  1.00it/s]"
          ]
        },
        {
          "output_type": "stream",
          "name": "stdout",
          "text": [
            "\n",
            "image 1/1 /content/drive/MyDrive/UCLA/cs 263/final_proj/val2014/COCO_val2014_000000131018.jpg: 480x640 1 person, 8 cups, 1 spoon, 5 bowls, 3 sinks, 1 scissors, 75.1ms\n",
            "Speed: 1.8ms preprocess, 75.1ms inference, 1.8ms postprocess per image at shape (1, 3, 480, 640)\n"
          ]
        },
        {
          "output_type": "stream",
          "name": "stderr",
          "text": [
            "\rRunning YOLO:  39%|███▉      | 194/500 [03:34<05:16,  1.03s/it]"
          ]
        },
        {
          "output_type": "stream",
          "name": "stdout",
          "text": [
            "\n",
            "image 1/1 /content/drive/MyDrive/UCLA/cs 263/final_proj/val2014/COCO_val2014_000000331366.jpg: 480x640 2 persons, 5 bicycles, 3 cars, 1 truck, 2 umbrellas, 74.1ms\n",
            "Speed: 1.7ms preprocess, 74.1ms inference, 1.7ms postprocess per image at shape (1, 3, 480, 640)\n"
          ]
        },
        {
          "output_type": "stream",
          "name": "stderr",
          "text": [
            "\rRunning YOLO:  39%|███▉      | 195/500 [03:35<05:25,  1.07s/it]"
          ]
        },
        {
          "output_type": "stream",
          "name": "stdout",
          "text": [
            "\n",
            "image 1/1 /content/drive/MyDrive/UCLA/cs 263/final_proj/val2014/COCO_val2014_000000280734.jpg: 448x640 1 person, 1 pizza, 72.5ms\n",
            "Speed: 1.6ms preprocess, 72.5ms inference, 1.6ms postprocess per image at shape (1, 3, 448, 640)\n"
          ]
        },
        {
          "output_type": "stream",
          "name": "stderr",
          "text": [
            "\rRunning YOLO:  39%|███▉      | 196/500 [03:36<05:22,  1.06s/it]"
          ]
        },
        {
          "output_type": "stream",
          "name": "stdout",
          "text": [
            "\n",
            "image 1/1 /content/drive/MyDrive/UCLA/cs 263/final_proj/val2014/COCO_val2014_000000474741.jpg: 512x640 1 person, 1 handbag, 2 ties, 1 clock, 74.9ms\n",
            "Speed: 2.5ms preprocess, 74.9ms inference, 1.6ms postprocess per image at shape (1, 3, 512, 640)\n"
          ]
        },
        {
          "output_type": "stream",
          "name": "stderr",
          "text": [
            "\rRunning YOLO:  39%|███▉      | 197/500 [03:37<05:36,  1.11s/it]"
          ]
        },
        {
          "output_type": "stream",
          "name": "stdout",
          "text": [
            "\n",
            "image 1/1 /content/drive/MyDrive/UCLA/cs 263/final_proj/val2014/COCO_val2014_000000414516.jpg: 480x640 19 persons, 4 elephants, 4 chairs, 1 dining table, 75.2ms\n",
            "Speed: 1.8ms preprocess, 75.2ms inference, 1.7ms postprocess per image at shape (1, 3, 480, 640)\n"
          ]
        },
        {
          "output_type": "stream",
          "name": "stderr",
          "text": [
            "\rRunning YOLO:  40%|███▉      | 198/500 [03:39<05:57,  1.18s/it]"
          ]
        },
        {
          "output_type": "stream",
          "name": "stdout",
          "text": [
            "\n",
            "image 1/1 /content/drive/MyDrive/UCLA/cs 263/final_proj/val2014/COCO_val2014_000000445200.jpg: 448x640 1 cup, 1 knife, 2 bowls, 6 carrots, 1 chair, 1 dining table, 1 book, 72.5ms\n",
            "Speed: 1.6ms preprocess, 72.5ms inference, 1.8ms postprocess per image at shape (1, 3, 448, 640)\n"
          ]
        },
        {
          "output_type": "stream",
          "name": "stderr",
          "text": [
            "\rRunning YOLO:  40%|███▉      | 199/500 [03:40<05:49,  1.16s/it]"
          ]
        },
        {
          "output_type": "stream",
          "name": "stdout",
          "text": [
            "\n",
            "image 1/1 /content/drive/MyDrive/UCLA/cs 263/final_proj/val2014/COCO_val2014_000000550691.jpg: 480x640 2 persons, 4 cars, 2 buss, 75.7ms\n",
            "Speed: 2.6ms preprocess, 75.7ms inference, 2.3ms postprocess per image at shape (1, 3, 480, 640)\n"
          ]
        },
        {
          "output_type": "stream",
          "name": "stderr",
          "text": [
            "\rRunning YOLO:  40%|████      | 200/500 [03:41<05:39,  1.13s/it]"
          ]
        },
        {
          "output_type": "stream",
          "name": "stdout",
          "text": [
            "\n",
            "image 1/1 /content/drive/MyDrive/UCLA/cs 263/final_proj/val2014/COCO_val2014_000000456552.jpg: 448x640 1 person, 1 skateboard, 73.0ms\n",
            "Speed: 2.2ms preprocess, 73.0ms inference, 2.4ms postprocess per image at shape (1, 3, 448, 640)\n"
          ]
        },
        {
          "output_type": "stream",
          "name": "stderr",
          "text": [
            "\rRunning YOLO:  40%|████      | 201/500 [03:42<05:37,  1.13s/it]"
          ]
        },
        {
          "output_type": "stream",
          "name": "stdout",
          "text": [
            "\n",
            "image 1/1 /content/drive/MyDrive/UCLA/cs 263/final_proj/val2014/COCO_val2014_000000468934.jpg: 480x640 1 person, 1 fork, 1 banana, 1 dining table, 75.1ms\n",
            "Speed: 1.7ms preprocess, 75.1ms inference, 1.6ms postprocess per image at shape (1, 3, 480, 640)\n"
          ]
        },
        {
          "output_type": "stream",
          "name": "stderr",
          "text": [
            "\rRunning YOLO:  40%|████      | 202/500 [03:43<05:13,  1.05s/it]"
          ]
        },
        {
          "output_type": "stream",
          "name": "stdout",
          "text": [
            "\n",
            "image 1/1 /content/drive/MyDrive/UCLA/cs 263/final_proj/val2014/COCO_val2014_000000572260.jpg: 480x640 1 wine glass, 1 cup, 1 book, 2 teddy bears, 75.2ms\n",
            "Speed: 2.2ms preprocess, 75.2ms inference, 2.8ms postprocess per image at shape (1, 3, 480, 640)\n"
          ]
        },
        {
          "output_type": "stream",
          "name": "stderr",
          "text": [
            "\rRunning YOLO:  41%|████      | 203/500 [03:44<05:11,  1.05s/it]"
          ]
        },
        {
          "output_type": "stream",
          "name": "stdout",
          "text": [
            "\n",
            "image 1/1 /content/drive/MyDrive/UCLA/cs 263/final_proj/val2014/COCO_val2014_000000076416.jpg: 480x640 2 persons, 2 bicycles, 1 bus, 2 traffic lights, 74.2ms\n",
            "Speed: 2.3ms preprocess, 74.2ms inference, 2.7ms postprocess per image at shape (1, 3, 480, 640)\n"
          ]
        },
        {
          "output_type": "stream",
          "name": "stderr",
          "text": [
            "\rRunning YOLO:  41%|████      | 204/500 [03:45<04:55,  1.00it/s]"
          ]
        },
        {
          "output_type": "stream",
          "name": "stdout",
          "text": [
            "\n",
            "image 1/1 /content/drive/MyDrive/UCLA/cs 263/final_proj/val2014/COCO_val2014_000000184338.jpg: 448x640 1 motorcycle, 1 truck, 72.8ms\n",
            "Speed: 1.5ms preprocess, 72.8ms inference, 1.9ms postprocess per image at shape (1, 3, 448, 640)\n"
          ]
        },
        {
          "output_type": "stream",
          "name": "stderr",
          "text": [
            "\rRunning YOLO:  41%|████      | 205/500 [03:46<04:59,  1.02s/it]"
          ]
        },
        {
          "output_type": "stream",
          "name": "stdout",
          "text": [
            "\n",
            "image 1/1 /content/drive/MyDrive/UCLA/cs 263/final_proj/val2014/COCO_val2014_000000237767.jpg: 640x640 2 persons, 1 chair, 2 couchs, 1 dining table, 1 tv, 1 remote, 1 cell phone, 1 book, 97.8ms\n",
            "Speed: 4.8ms preprocess, 97.8ms inference, 1.5ms postprocess per image at shape (1, 3, 640, 640)\n"
          ]
        },
        {
          "output_type": "stream",
          "name": "stderr",
          "text": [
            "\rRunning YOLO:  41%|████      | 206/500 [03:47<05:06,  1.04s/it]"
          ]
        },
        {
          "output_type": "stream",
          "name": "stdout",
          "text": [
            "\n",
            "image 1/1 /content/drive/MyDrive/UCLA/cs 263/final_proj/val2014/COCO_val2014_000000549390.jpg: 448x640 11 persons, 6 bicycles, 1 backpack, 60.8ms\n",
            "Speed: 1.7ms preprocess, 60.8ms inference, 1.9ms postprocess per image at shape (1, 3, 448, 640)\n"
          ]
        },
        {
          "output_type": "stream",
          "name": "stderr",
          "text": [
            "\rRunning YOLO:  41%|████▏     | 207/500 [03:48<05:40,  1.16s/it]"
          ]
        },
        {
          "output_type": "stream",
          "name": "stdout",
          "text": [
            "\n",
            "image 1/1 /content/drive/MyDrive/UCLA/cs 263/final_proj/val2014/COCO_val2014_000000170517.jpg: 416x640 1 person, 2 cars, 1 dog, 1 umbrella, 71.3ms\n",
            "Speed: 2.3ms preprocess, 71.3ms inference, 1.7ms postprocess per image at shape (1, 3, 416, 640)\n"
          ]
        },
        {
          "output_type": "stream",
          "name": "stderr",
          "text": [
            "\rRunning YOLO:  42%|████▏     | 208/500 [03:49<05:11,  1.07s/it]"
          ]
        },
        {
          "output_type": "stream",
          "name": "stdout",
          "text": [
            "\n",
            "image 1/1 /content/drive/MyDrive/UCLA/cs 263/final_proj/val2014/COCO_val2014_000000468169.jpg: 640x384 2 persons, 2 benchs, 1 sports ball, 1 baseball bat, 64.1ms\n",
            "Speed: 1.5ms preprocess, 64.1ms inference, 1.7ms postprocess per image at shape (1, 3, 640, 384)\n"
          ]
        },
        {
          "output_type": "stream",
          "name": "stderr",
          "text": [
            "\rRunning YOLO:  42%|████▏     | 209/500 [03:50<05:11,  1.07s/it]"
          ]
        },
        {
          "output_type": "stream",
          "name": "stdout",
          "text": [
            "\n",
            "image 1/1 /content/drive/MyDrive/UCLA/cs 263/final_proj/val2014/COCO_val2014_000000231589.jpg: 448x640 1 person, 1 backpack, 1 chair, 1 bed, 72.5ms\n",
            "Speed: 1.6ms preprocess, 72.5ms inference, 1.6ms postprocess per image at shape (1, 3, 448, 640)\n"
          ]
        },
        {
          "output_type": "stream",
          "name": "stderr",
          "text": [
            "\rRunning YOLO:  42%|████▏     | 210/500 [03:51<05:11,  1.08s/it]"
          ]
        },
        {
          "output_type": "stream",
          "name": "stdout",
          "text": [
            "\n",
            "image 1/1 /content/drive/MyDrive/UCLA/cs 263/final_proj/val2014/COCO_val2014_000000369541.jpg: 640x480 4 persons, 2 dogs, 1 umbrella, 1 frisbee, 77.1ms\n",
            "Speed: 3.4ms preprocess, 77.1ms inference, 2.0ms postprocess per image at shape (1, 3, 640, 480)\n"
          ]
        },
        {
          "output_type": "stream",
          "name": "stderr",
          "text": [
            "\rRunning YOLO:  42%|████▏     | 211/500 [03:52<05:23,  1.12s/it]"
          ]
        },
        {
          "output_type": "stream",
          "name": "stdout",
          "text": [
            "\n",
            "image 1/1 /content/drive/MyDrive/UCLA/cs 263/final_proj/val2014/COCO_val2014_000000427113.jpg: 480x640 5 persons, 1 bench, 1 clock, 78.7ms\n",
            "Speed: 2.5ms preprocess, 78.7ms inference, 2.4ms postprocess per image at shape (1, 3, 480, 640)\n"
          ]
        },
        {
          "output_type": "stream",
          "name": "stderr",
          "text": [
            "\rRunning YOLO:  42%|████▏     | 212/500 [03:54<05:26,  1.13s/it]"
          ]
        },
        {
          "output_type": "stream",
          "name": "stdout",
          "text": [
            "\n",
            "image 1/1 /content/drive/MyDrive/UCLA/cs 263/final_proj/val2014/COCO_val2014_000000293564.jpg: 448x640 5 persons, 4 umbrellas, 3 surfboards, 72.6ms\n",
            "Speed: 1.6ms preprocess, 72.6ms inference, 1.5ms postprocess per image at shape (1, 3, 448, 640)\n"
          ]
        },
        {
          "output_type": "stream",
          "name": "stderr",
          "text": [
            "\rRunning YOLO:  43%|████▎     | 213/500 [03:55<05:22,  1.12s/it]"
          ]
        },
        {
          "output_type": "stream",
          "name": "stdout",
          "text": [
            "\n",
            "image 1/1 /content/drive/MyDrive/UCLA/cs 263/final_proj/val2014/COCO_val2014_000000280810.jpg: 480x640 1 fork, 1 sandwich, 1 broccoli, 8 carrots, 1 dining table, 2 laptops, 75.1ms\n",
            "Speed: 2.6ms preprocess, 75.1ms inference, 1.5ms postprocess per image at shape (1, 3, 480, 640)\n"
          ]
        },
        {
          "output_type": "stream",
          "name": "stderr",
          "text": [
            "\rRunning YOLO:  43%|████▎     | 214/500 [03:56<05:17,  1.11s/it]"
          ]
        },
        {
          "output_type": "stream",
          "name": "stdout",
          "text": [
            "\n",
            "image 1/1 /content/drive/MyDrive/UCLA/cs 263/final_proj/val2014/COCO_val2014_000000021327.jpg: 448x640 1 cup, 1 pizza, 1 dining table, 1 tv, 72.5ms\n",
            "Speed: 1.7ms preprocess, 72.5ms inference, 1.5ms postprocess per image at shape (1, 3, 448, 640)\n"
          ]
        },
        {
          "output_type": "stream",
          "name": "stderr",
          "text": [
            "\rRunning YOLO:  43%|████▎     | 215/500 [03:57<05:00,  1.06s/it]"
          ]
        },
        {
          "output_type": "stream",
          "name": "stdout",
          "text": [
            "\n",
            "image 1/1 /content/drive/MyDrive/UCLA/cs 263/final_proj/val2014/COCO_val2014_000000429033.jpg: 640x480 12 persons, 4 chairs, 2 laptops, 74.7ms\n",
            "Speed: 1.6ms preprocess, 74.7ms inference, 1.5ms postprocess per image at shape (1, 3, 640, 480)\n"
          ]
        },
        {
          "output_type": "stream",
          "name": "stderr",
          "text": [
            "\rRunning YOLO:  43%|████▎     | 216/500 [03:58<05:08,  1.09s/it]"
          ]
        },
        {
          "output_type": "stream",
          "name": "stdout",
          "text": [
            "\n",
            "image 1/1 /content/drive/MyDrive/UCLA/cs 263/final_proj/val2014/COCO_val2014_000000084447.jpg: 480x640 1 person, 1 motorcycle, 75.1ms\n",
            "Speed: 1.6ms preprocess, 75.1ms inference, 1.5ms postprocess per image at shape (1, 3, 480, 640)\n"
          ]
        },
        {
          "output_type": "stream",
          "name": "stderr",
          "text": [
            "\rRunning YOLO:  43%|████▎     | 217/500 [03:59<05:51,  1.24s/it]"
          ]
        },
        {
          "output_type": "stream",
          "name": "stdout",
          "text": [
            "\n",
            "image 1/1 /content/drive/MyDrive/UCLA/cs 263/final_proj/val2014/COCO_val2014_000000063953.jpg: 448x640 14 persons, 2 bicycles, 2 handbags, 2 skateboards, 72.6ms\n",
            "Speed: 2.3ms preprocess, 72.6ms inference, 1.6ms postprocess per image at shape (1, 3, 448, 640)\n"
          ]
        },
        {
          "output_type": "stream",
          "name": "stderr",
          "text": [
            "\rRunning YOLO:  44%|████▎     | 218/500 [04:01<05:40,  1.21s/it]"
          ]
        },
        {
          "output_type": "stream",
          "name": "stdout",
          "text": [
            "\n",
            "image 1/1 /content/drive/MyDrive/UCLA/cs 263/final_proj/val2014/COCO_val2014_000000551881.jpg: 480x640 1 handbag, 1 chair, 1 potted plant, 1 refrigerator, 75.0ms\n",
            "Speed: 1.8ms preprocess, 75.0ms inference, 1.5ms postprocess per image at shape (1, 3, 480, 640)\n"
          ]
        },
        {
          "output_type": "stream",
          "name": "stderr",
          "text": [
            "\rRunning YOLO:  44%|████▍     | 219/500 [04:02<05:17,  1.13s/it]"
          ]
        },
        {
          "output_type": "stream",
          "name": "stdout",
          "text": [
            "\n",
            "image 1/1 /content/drive/MyDrive/UCLA/cs 263/final_proj/val2014/COCO_val2014_000000461331.jpg: 480x640 2 microwaves, 1 oven, 74.2ms\n",
            "Speed: 1.9ms preprocess, 74.2ms inference, 1.7ms postprocess per image at shape (1, 3, 480, 640)\n"
          ]
        },
        {
          "output_type": "stream",
          "name": "stderr",
          "text": [
            "\rRunning YOLO:  44%|████▍     | 220/500 [04:03<05:22,  1.15s/it]"
          ]
        },
        {
          "output_type": "stream",
          "name": "stdout",
          "text": [
            "\n",
            "image 1/1 /content/drive/MyDrive/UCLA/cs 263/final_proj/val2014/COCO_val2014_000000376959.jpg: 480x640 1 person, 1 chair, 1 dining table, 1 cell phone, 74.1ms\n",
            "Speed: 1.9ms preprocess, 74.1ms inference, 1.6ms postprocess per image at shape (1, 3, 480, 640)\n"
          ]
        },
        {
          "output_type": "stream",
          "name": "stderr",
          "text": [
            "\rRunning YOLO:  44%|████▍     | 221/500 [04:04<05:16,  1.13s/it]"
          ]
        },
        {
          "output_type": "stream",
          "name": "stdout",
          "text": [
            "\n",
            "image 1/1 /content/drive/MyDrive/UCLA/cs 263/final_proj/val2014/COCO_val2014_000000273450.jpg: 640x640 1 person, 1 car, 1 parking meter, 98.4ms\n",
            "Speed: 2.9ms preprocess, 98.4ms inference, 2.7ms postprocess per image at shape (1, 3, 640, 640)\n"
          ]
        },
        {
          "output_type": "stream",
          "name": "stderr",
          "text": [
            "\rRunning YOLO:  44%|████▍     | 222/500 [04:05<05:01,  1.09s/it]"
          ]
        },
        {
          "output_type": "stream",
          "name": "stdout",
          "text": [
            "\n",
            "image 1/1 /content/drive/MyDrive/UCLA/cs 263/final_proj/val2014/COCO_val2014_000000303971.jpg: 448x640 2 persons, 1 tv, 1 remote, 1 book, 61.3ms\n",
            "Speed: 2.6ms preprocess, 61.3ms inference, 2.4ms postprocess per image at shape (1, 3, 448, 640)\n"
          ]
        },
        {
          "output_type": "stream",
          "name": "stderr",
          "text": [
            "\rRunning YOLO:  45%|████▍     | 223/500 [04:06<05:25,  1.18s/it]"
          ]
        },
        {
          "output_type": "stream",
          "name": "stdout",
          "text": [
            "\n",
            "image 1/1 /content/drive/MyDrive/UCLA/cs 263/final_proj/val2014/COCO_val2014_000000111817.jpg: 512x640 5 cakes, 2 dining tables, 75.0ms\n",
            "Speed: 2.0ms preprocess, 75.0ms inference, 1.6ms postprocess per image at shape (1, 3, 512, 640)\n"
          ]
        },
        {
          "output_type": "stream",
          "name": "stderr",
          "text": [
            "\rRunning YOLO:  45%|████▍     | 224/500 [04:07<05:02,  1.10s/it]"
          ]
        },
        {
          "output_type": "stream",
          "name": "stdout",
          "text": [
            "\n",
            "image 1/1 /content/drive/MyDrive/UCLA/cs 263/final_proj/val2014/COCO_val2014_000000088507.jpg: 448x640 1 person, 1 backpack, 2 skiss, 72.5ms\n",
            "Speed: 1.7ms preprocess, 72.5ms inference, 1.5ms postprocess per image at shape (1, 3, 448, 640)\n"
          ]
        },
        {
          "output_type": "stream",
          "name": "stderr",
          "text": [
            "\rRunning YOLO:  45%|████▌     | 225/500 [04:08<05:08,  1.12s/it]"
          ]
        },
        {
          "output_type": "stream",
          "name": "stdout",
          "text": [
            "\n",
            "image 1/1 /content/drive/MyDrive/UCLA/cs 263/final_proj/val2014/COCO_val2014_000000018918.jpg: 480x640 2 bowls, 2 ovens, 2 sinks, 75.0ms\n",
            "Speed: 1.8ms preprocess, 75.0ms inference, 1.5ms postprocess per image at shape (1, 3, 480, 640)\n"
          ]
        },
        {
          "output_type": "stream",
          "name": "stderr",
          "text": [
            "\rRunning YOLO:  45%|████▌     | 226/500 [04:09<04:54,  1.07s/it]"
          ]
        },
        {
          "output_type": "stream",
          "name": "stdout",
          "text": [
            "\n",
            "image 1/1 /content/drive/MyDrive/UCLA/cs 263/final_proj/val2014/COCO_val2014_000000514248.jpg: 480x640 2 persons, 4 cars, 2 fire hydrants, 1 horse, 74.2ms\n",
            "Speed: 2.6ms preprocess, 74.2ms inference, 2.1ms postprocess per image at shape (1, 3, 480, 640)\n"
          ]
        },
        {
          "output_type": "stream",
          "name": "stderr",
          "text": [
            "\rRunning YOLO:  45%|████▌     | 227/500 [04:10<04:33,  1.00s/it]"
          ]
        },
        {
          "output_type": "stream",
          "name": "stdout",
          "text": [
            "\n",
            "image 1/1 /content/drive/MyDrive/UCLA/cs 263/final_proj/val2014/COCO_val2014_000000079446.jpg: 544x640 2 bottles, 1 cup, 1 toilet, 1 sink, 89.4ms\n",
            "Speed: 2.9ms preprocess, 89.4ms inference, 1.6ms postprocess per image at shape (1, 3, 544, 640)\n"
          ]
        },
        {
          "output_type": "stream",
          "name": "stderr",
          "text": [
            "\rRunning YOLO:  46%|████▌     | 228/500 [04:11<04:42,  1.04s/it]"
          ]
        },
        {
          "output_type": "stream",
          "name": "stdout",
          "text": [
            "\n",
            "image 1/1 /content/drive/MyDrive/UCLA/cs 263/final_proj/val2014/COCO_val2014_000000313162.jpg: 640x640 1 wine glass, 2 cups, 1 pizza, 88.0ms\n",
            "Speed: 3.0ms preprocess, 88.0ms inference, 1.6ms postprocess per image at shape (1, 3, 640, 640)\n"
          ]
        },
        {
          "output_type": "stream",
          "name": "stderr",
          "text": [
            "\rRunning YOLO:  46%|████▌     | 229/500 [04:12<04:37,  1.03s/it]"
          ]
        },
        {
          "output_type": "stream",
          "name": "stdout",
          "text": [
            "\n",
            "image 1/1 /content/drive/MyDrive/UCLA/cs 263/final_proj/val2014/COCO_val2014_000000281766.jpg: 640x448 11 persons, 1 bicycle, 3 handbags, 61.1ms\n",
            "Speed: 1.5ms preprocess, 61.1ms inference, 1.6ms postprocess per image at shape (1, 3, 640, 448)\n"
          ]
        },
        {
          "output_type": "stream",
          "name": "stderr",
          "text": [
            "\rRunning YOLO:  46%|████▌     | 230/500 [04:13<04:43,  1.05s/it]"
          ]
        },
        {
          "output_type": "stream",
          "name": "stdout",
          "text": [
            "\n",
            "image 1/1 /content/drive/MyDrive/UCLA/cs 263/final_proj/val2014/COCO_val2014_000000299986.jpg: 640x480 1 person, 1 bench, 1 cell phone, 75.1ms\n",
            "Speed: 1.6ms preprocess, 75.1ms inference, 1.5ms postprocess per image at shape (1, 3, 640, 480)\n"
          ]
        },
        {
          "output_type": "stream",
          "name": "stderr",
          "text": [
            "\rRunning YOLO:  46%|████▌     | 231/500 [04:15<05:02,  1.13s/it]"
          ]
        },
        {
          "output_type": "stream",
          "name": "stdout",
          "text": [
            "\n",
            "image 1/1 /content/drive/MyDrive/UCLA/cs 263/final_proj/val2014/COCO_val2014_000000505335.jpg: 448x640 18 persons, 17 umbrellas, 1 handbag, 5 ties, 72.4ms\n",
            "Speed: 1.6ms preprocess, 72.4ms inference, 1.5ms postprocess per image at shape (1, 3, 448, 640)\n"
          ]
        },
        {
          "output_type": "stream",
          "name": "stderr",
          "text": [
            "\rRunning YOLO:  46%|████▋     | 232/500 [04:16<04:48,  1.08s/it]"
          ]
        },
        {
          "output_type": "stream",
          "name": "stdout",
          "text": [
            "\n",
            "image 1/1 /content/drive/MyDrive/UCLA/cs 263/final_proj/val2014/COCO_val2014_000000368541.jpg: 480x640 15 persons, 1 airplane, 2 trucks, 2 handbags, 5 suitcases, 75.9ms\n",
            "Speed: 2.4ms preprocess, 75.9ms inference, 2.7ms postprocess per image at shape (1, 3, 480, 640)\n"
          ]
        },
        {
          "output_type": "stream",
          "name": "stderr",
          "text": [
            "\rRunning YOLO:  47%|████▋     | 233/500 [04:17<04:34,  1.03s/it]"
          ]
        },
        {
          "output_type": "stream",
          "name": "stdout",
          "text": [
            "\n",
            "image 1/1 /content/drive/MyDrive/UCLA/cs 263/final_proj/val2014/COCO_val2014_000000515820.jpg: 640x640 2 persons, 2 cars, 2 clocks, 99.6ms\n",
            "Speed: 2.7ms preprocess, 99.6ms inference, 1.8ms postprocess per image at shape (1, 3, 640, 640)\n"
          ]
        },
        {
          "output_type": "stream",
          "name": "stderr",
          "text": [
            "\rRunning YOLO:  47%|████▋     | 234/500 [04:18<04:54,  1.11s/it]"
          ]
        },
        {
          "output_type": "stream",
          "name": "stdout",
          "text": [
            "\n",
            "image 1/1 /content/drive/MyDrive/UCLA/cs 263/final_proj/val2014/COCO_val2014_000000172342.jpg: 448x640 12 persons, 7 bottles, 1 spoon, 7 bowls, 2 books, 1 clock, 72.7ms\n",
            "Speed: 1.6ms preprocess, 72.7ms inference, 1.7ms postprocess per image at shape (1, 3, 448, 640)\n"
          ]
        },
        {
          "output_type": "stream",
          "name": "stderr",
          "text": [
            "\rRunning YOLO:  47%|████▋     | 235/500 [04:19<04:50,  1.10s/it]"
          ]
        },
        {
          "output_type": "stream",
          "name": "stdout",
          "text": [
            "\n",
            "image 1/1 /content/drive/MyDrive/UCLA/cs 263/final_proj/val2014/COCO_val2014_000000120648.jpg: 480x640 1 handbag, 1 suitcase, 1 bed, 1 dining table, 75.0ms\n",
            "Speed: 1.7ms preprocess, 75.0ms inference, 1.5ms postprocess per image at shape (1, 3, 480, 640)\n"
          ]
        },
        {
          "output_type": "stream",
          "name": "stderr",
          "text": [
            "\rRunning YOLO:  47%|████▋     | 236/500 [04:20<04:32,  1.03s/it]"
          ]
        },
        {
          "output_type": "stream",
          "name": "stdout",
          "text": [
            "\n",
            "image 1/1 /content/drive/MyDrive/UCLA/cs 263/final_proj/val2014/COCO_val2014_000000299074.jpg: 480x640 1 person, 1 bus, 74.1ms\n",
            "Speed: 1.8ms preprocess, 74.1ms inference, 1.7ms postprocess per image at shape (1, 3, 480, 640)\n"
          ]
        },
        {
          "output_type": "stream",
          "name": "stderr",
          "text": [
            "\rRunning YOLO:  47%|████▋     | 237/500 [04:21<04:21,  1.00it/s]"
          ]
        },
        {
          "output_type": "stream",
          "name": "stdout",
          "text": [
            "\n",
            "image 1/1 /content/drive/MyDrive/UCLA/cs 263/final_proj/val2014/COCO_val2014_000000015738.jpg: 640x448 3 persons, 1 sports ball, 1 tennis racket, 1 bottle, 1 chair, 72.7ms\n",
            "Speed: 1.6ms preprocess, 72.7ms inference, 1.7ms postprocess per image at shape (1, 3, 640, 448)\n"
          ]
        },
        {
          "output_type": "stream",
          "name": "stderr",
          "text": [
            "\rRunning YOLO:  48%|████▊     | 238/500 [04:22<04:24,  1.01s/it]"
          ]
        },
        {
          "output_type": "stream",
          "name": "stdout",
          "text": [
            "\n",
            "image 1/1 /content/drive/MyDrive/UCLA/cs 263/final_proj/val2014/COCO_val2014_000000513136.jpg: 480x640 1 bottle, 2 cups, 1 pizza, 1 dining table, 75.0ms\n",
            "Speed: 1.8ms preprocess, 75.0ms inference, 1.5ms postprocess per image at shape (1, 3, 480, 640)\n"
          ]
        },
        {
          "output_type": "stream",
          "name": "stderr",
          "text": [
            "\rRunning YOLO:  48%|████▊     | 239/500 [04:23<04:13,  1.03it/s]"
          ]
        },
        {
          "output_type": "stream",
          "name": "stdout",
          "text": [
            "\n",
            "image 1/1 /content/drive/MyDrive/UCLA/cs 263/final_proj/val2014/COCO_val2014_000000367528.jpg: 448x640 2 cups, 1 bowl, 1 potted plant, 1 dining table, 1 tv, 1 remote, 3 books, 1 vase, 72.5ms\n",
            "Speed: 1.6ms preprocess, 72.5ms inference, 1.6ms postprocess per image at shape (1, 3, 448, 640)\n"
          ]
        },
        {
          "output_type": "stream",
          "name": "stderr",
          "text": [
            "\rRunning YOLO:  48%|████▊     | 240/500 [04:24<04:25,  1.02s/it]"
          ]
        },
        {
          "output_type": "stream",
          "name": "stdout",
          "text": [
            "\n",
            "image 1/1 /content/drive/MyDrive/UCLA/cs 263/final_proj/val2014/COCO_val2014_000000327532.jpg: 448x640 12 persons, 4 tennis rackets, 4 chairs, 3 potted plants, 71.5ms\n",
            "Speed: 1.7ms preprocess, 71.5ms inference, 1.7ms postprocess per image at shape (1, 3, 448, 640)\n"
          ]
        },
        {
          "output_type": "stream",
          "name": "stderr",
          "text": [
            "\rRunning YOLO:  48%|████▊     | 241/500 [04:25<04:12,  1.03it/s]"
          ]
        },
        {
          "output_type": "stream",
          "name": "stdout",
          "text": [
            "\n",
            "image 1/1 /content/drive/MyDrive/UCLA/cs 263/final_proj/val2014/COCO_val2014_000000105732.jpg: 480x640 13 persons, 1 backpack, 10 skiss, 75.1ms\n",
            "Speed: 1.6ms preprocess, 75.1ms inference, 1.8ms postprocess per image at shape (1, 3, 480, 640)\n"
          ]
        },
        {
          "output_type": "stream",
          "name": "stderr",
          "text": [
            "\rRunning YOLO:  48%|████▊     | 242/500 [04:25<04:03,  1.06it/s]"
          ]
        },
        {
          "output_type": "stream",
          "name": "stdout",
          "text": [
            "\n",
            "image 1/1 /content/drive/MyDrive/UCLA/cs 263/final_proj/val2014/COCO_val2014_000000418680.jpg: 480x640 2 persons, 1 skis, 1 snowboard, 74.1ms\n",
            "Speed: 1.8ms preprocess, 74.1ms inference, 1.7ms postprocess per image at shape (1, 3, 480, 640)\n"
          ]
        },
        {
          "output_type": "stream",
          "name": "stderr",
          "text": [
            "\rRunning YOLO:  49%|████▊     | 243/500 [04:27<04:13,  1.01it/s]"
          ]
        },
        {
          "output_type": "stream",
          "name": "stdout",
          "text": [
            "\n",
            "image 1/1 /content/drive/MyDrive/UCLA/cs 263/final_proj/val2014/COCO_val2014_000000381195.jpg: 448x640 2 bowls, 1 broccoli, 1 dining table, 72.5ms\n",
            "Speed: 2.4ms preprocess, 72.5ms inference, 1.5ms postprocess per image at shape (1, 3, 448, 640)\n"
          ]
        },
        {
          "output_type": "stream",
          "name": "stderr",
          "text": [
            "\rRunning YOLO:  49%|████▉     | 244/500 [04:28<04:10,  1.02it/s]"
          ]
        },
        {
          "output_type": "stream",
          "name": "stdout",
          "text": [
            "\n",
            "image 1/1 /content/drive/MyDrive/UCLA/cs 263/final_proj/val2014/COCO_val2014_000000032610.jpg: 448x640 1 backpack, 1 handbag, 1 tv, 5 laptops, 1 keyboard, 71.6ms\n",
            "Speed: 2.3ms preprocess, 71.6ms inference, 1.6ms postprocess per image at shape (1, 3, 448, 640)\n"
          ]
        },
        {
          "output_type": "stream",
          "name": "stderr",
          "text": [
            "\rRunning YOLO:  49%|████▉     | 245/500 [04:28<04:08,  1.03it/s]"
          ]
        },
        {
          "output_type": "stream",
          "name": "stdout",
          "text": [
            "\n",
            "image 1/1 /content/drive/MyDrive/UCLA/cs 263/final_proj/val2014/COCO_val2014_000000515904.jpg: 448x640 2 potted plants, 1 toilet, 2 sinks, 3 vases, 71.6ms\n",
            "Speed: 2.2ms preprocess, 71.6ms inference, 2.2ms postprocess per image at shape (1, 3, 448, 640)\n"
          ]
        },
        {
          "output_type": "stream",
          "name": "stderr",
          "text": [
            "\rRunning YOLO:  49%|████▉     | 246/500 [04:30<04:41,  1.11s/it]"
          ]
        },
        {
          "output_type": "stream",
          "name": "stdout",
          "text": [
            "\n",
            "image 1/1 /content/drive/MyDrive/UCLA/cs 263/final_proj/val2014/COCO_val2014_000000354398.jpg: 512x640 3 persons, 1 car, 1 truck, 1 dog, 74.8ms\n",
            "Speed: 1.9ms preprocess, 74.8ms inference, 1.5ms postprocess per image at shape (1, 3, 512, 640)\n"
          ]
        },
        {
          "output_type": "stream",
          "name": "stderr",
          "text": [
            "\rRunning YOLO:  49%|████▉     | 247/500 [04:31<04:36,  1.09s/it]"
          ]
        },
        {
          "output_type": "stream",
          "name": "stdout",
          "text": [
            "\n",
            "image 1/1 /content/drive/MyDrive/UCLA/cs 263/final_proj/val2014/COCO_val2014_000000446651.jpg: 448x640 2 persons, 1 car, 1 motorcycle, 72.5ms\n",
            "Speed: 1.6ms preprocess, 72.5ms inference, 1.6ms postprocess per image at shape (1, 3, 448, 640)\n"
          ]
        },
        {
          "output_type": "stream",
          "name": "stderr",
          "text": [
            "\rRunning YOLO:  50%|████▉     | 248/500 [04:33<05:33,  1.32s/it]"
          ]
        },
        {
          "output_type": "stream",
          "name": "stdout",
          "text": [
            "\n",
            "image 1/1 /content/drive/MyDrive/UCLA/cs 263/final_proj/val2014/COCO_val2014_000000081336.jpg: 512x640 7 persons, 1 car, 1 truck, 1 traffic light, 1 stop sign, 74.7ms\n",
            "Speed: 2.6ms preprocess, 74.7ms inference, 1.5ms postprocess per image at shape (1, 3, 512, 640)\n"
          ]
        },
        {
          "output_type": "stream",
          "name": "stderr",
          "text": [
            "\rRunning YOLO:  50%|████▉     | 249/500 [04:34<05:34,  1.33s/it]"
          ]
        },
        {
          "output_type": "stream",
          "name": "stdout",
          "text": [
            "\n",
            "image 1/1 /content/drive/MyDrive/UCLA/cs 263/final_proj/val2014/COCO_val2014_000000407386.jpg: 480x640 1 cat, 1 tv, 1 laptop, 74.9ms\n",
            "Speed: 1.6ms preprocess, 74.9ms inference, 1.6ms postprocess per image at shape (1, 3, 480, 640)\n"
          ]
        },
        {
          "output_type": "stream",
          "name": "stderr",
          "text": [
            "\rRunning YOLO:  50%|█████     | 250/500 [04:35<05:14,  1.26s/it]"
          ]
        },
        {
          "output_type": "stream",
          "name": "stdout",
          "text": [
            "\n",
            "image 1/1 /content/drive/MyDrive/UCLA/cs 263/final_proj/val2014/COCO_val2014_000000580294.jpg: 448x640 1 person, 1 spoon, 1 bowl, 1 oven, 72.5ms\n",
            "Speed: 1.6ms preprocess, 72.5ms inference, 1.5ms postprocess per image at shape (1, 3, 448, 640)\n"
          ]
        },
        {
          "output_type": "stream",
          "name": "stderr",
          "text": [
            "\rRunning YOLO:  50%|█████     | 251/500 [04:36<04:46,  1.15s/it]"
          ]
        },
        {
          "output_type": "stream",
          "name": "stdout",
          "text": [
            "\n",
            "image 1/1 /content/drive/MyDrive/UCLA/cs 263/final_proj/val2014/COCO_val2014_000000147165.jpg: 640x480 1 person, 1 spoon, 1 bowl, 1 oven, 74.8ms\n",
            "Speed: 3.0ms preprocess, 74.8ms inference, 1.6ms postprocess per image at shape (1, 3, 640, 480)\n"
          ]
        },
        {
          "output_type": "stream",
          "name": "stderr",
          "text": [
            "\rRunning YOLO:  50%|█████     | 252/500 [04:37<04:44,  1.15s/it]"
          ]
        },
        {
          "output_type": "stream",
          "name": "stdout",
          "text": [
            "\n",
            "image 1/1 /content/drive/MyDrive/UCLA/cs 263/final_proj/val2014/COCO_val2014_000000249720.jpg: 448x640 1 person, 1 bicycle, 1 car, 1 stop sign, 1 backpack, 72.5ms\n",
            "Speed: 2.2ms preprocess, 72.5ms inference, 1.7ms postprocess per image at shape (1, 3, 448, 640)\n"
          ]
        },
        {
          "output_type": "stream",
          "name": "stderr",
          "text": [
            "\rRunning YOLO:  51%|█████     | 253/500 [04:38<04:29,  1.09s/it]"
          ]
        },
        {
          "output_type": "stream",
          "name": "stdout",
          "text": [
            "\n",
            "image 1/1 /content/drive/MyDrive/UCLA/cs 263/final_proj/val2014/COCO_val2014_000000042685.jpg: 448x640 10 persons, 5 cups, 1 pizza, 2 beds, 1 cell phone, 71.6ms\n",
            "Speed: 1.6ms preprocess, 71.6ms inference, 1.7ms postprocess per image at shape (1, 3, 448, 640)\n"
          ]
        },
        {
          "output_type": "stream",
          "name": "stderr",
          "text": [
            "\rRunning YOLO:  51%|█████     | 254/500 [04:39<04:26,  1.08s/it]"
          ]
        },
        {
          "output_type": "stream",
          "name": "stdout",
          "text": [
            "\n",
            "image 1/1 /content/drive/MyDrive/UCLA/cs 263/final_proj/val2014/COCO_val2014_000000309371.jpg: 576x640 7 persons, 1 bench, 1 backpack, 1 handbag, 1 frisbee, 91.2ms\n",
            "Speed: 1.9ms preprocess, 91.2ms inference, 1.6ms postprocess per image at shape (1, 3, 576, 640)\n"
          ]
        },
        {
          "output_type": "stream",
          "name": "stderr",
          "text": [
            "\rRunning YOLO:  51%|█████     | 255/500 [04:40<04:33,  1.11s/it]"
          ]
        },
        {
          "output_type": "stream",
          "name": "stdout",
          "text": [
            "\n",
            "image 1/1 /content/drive/MyDrive/UCLA/cs 263/final_proj/val2014/COCO_val2014_000000493753.jpg: 480x640 2 cups, 1 chair, 1 tv, 1 laptop, 2 mouses, 3 keyboards, 75.5ms\n",
            "Speed: 2.6ms preprocess, 75.5ms inference, 2.3ms postprocess per image at shape (1, 3, 480, 640)\n"
          ]
        },
        {
          "output_type": "stream",
          "name": "stderr",
          "text": [
            "\rRunning YOLO:  51%|█████     | 256/500 [04:42<04:33,  1.12s/it]"
          ]
        },
        {
          "output_type": "stream",
          "name": "stdout",
          "text": [
            "\n",
            "image 1/1 /content/drive/MyDrive/UCLA/cs 263/final_proj/val2014/COCO_val2014_000000406403.jpg: 480x640 2 persons, 1 skis, 74.2ms\n",
            "Speed: 2.4ms preprocess, 74.2ms inference, 2.5ms postprocess per image at shape (1, 3, 480, 640)\n"
          ]
        },
        {
          "output_type": "stream",
          "name": "stderr",
          "text": [
            "\rRunning YOLO:  51%|█████▏    | 257/500 [04:43<04:36,  1.14s/it]"
          ]
        },
        {
          "output_type": "stream",
          "name": "stdout",
          "text": [
            "\n",
            "image 1/1 /content/drive/MyDrive/UCLA/cs 263/final_proj/val2014/COCO_val2014_000000543393.jpg: 640x480 1 person, 14 cars, 1 fire hydrant, 1 stop sign, 74.8ms\n",
            "Speed: 1.8ms preprocess, 74.8ms inference, 1.5ms postprocess per image at shape (1, 3, 640, 480)\n"
          ]
        },
        {
          "output_type": "stream",
          "name": "stderr",
          "text": [
            "\rRunning YOLO:  52%|█████▏    | 258/500 [04:44<04:17,  1.07s/it]"
          ]
        },
        {
          "output_type": "stream",
          "name": "stdout",
          "text": [
            "\n",
            "image 1/1 /content/drive/MyDrive/UCLA/cs 263/final_proj/val2014/COCO_val2014_000000443240.jpg: 480x640 1 couch, 1 bed, 1 tv, 75.2ms\n",
            "Speed: 1.6ms preprocess, 75.2ms inference, 1.7ms postprocess per image at shape (1, 3, 480, 640)\n"
          ]
        },
        {
          "output_type": "stream",
          "name": "stderr",
          "text": [
            "\rRunning YOLO:  52%|█████▏    | 259/500 [04:45<04:02,  1.01s/it]"
          ]
        },
        {
          "output_type": "stream",
          "name": "stdout",
          "text": [
            "\n",
            "image 1/1 /content/drive/MyDrive/UCLA/cs 263/final_proj/val2014/COCO_val2014_000000551908.jpg: 448x640 10 broccolis, 3 carrots, 1 dining table, 72.4ms\n",
            "Speed: 1.6ms preprocess, 72.4ms inference, 1.6ms postprocess per image at shape (1, 3, 448, 640)\n"
          ]
        },
        {
          "output_type": "stream",
          "name": "stderr",
          "text": [
            "\rRunning YOLO:  52%|█████▏    | 260/500 [04:46<04:24,  1.10s/it]"
          ]
        },
        {
          "output_type": "stream",
          "name": "stdout",
          "text": [
            "\n",
            "image 1/1 /content/drive/MyDrive/UCLA/cs 263/final_proj/val2014/COCO_val2014_000000382670.jpg: 480x640 2 persons, 1 bicycle, 3 boats, 4 cows, 74.9ms\n",
            "Speed: 1.6ms preprocess, 74.9ms inference, 1.6ms postprocess per image at shape (1, 3, 480, 640)\n"
          ]
        },
        {
          "output_type": "stream",
          "name": "stderr",
          "text": [
            "\rRunning YOLO:  52%|█████▏    | 261/500 [04:47<04:09,  1.04s/it]"
          ]
        },
        {
          "output_type": "stream",
          "name": "stdout",
          "text": [
            "\n",
            "image 1/1 /content/drive/MyDrive/UCLA/cs 263/final_proj/val2014/COCO_val2014_000000239347.jpg: 480x640 2 persons, 1 bed, 74.1ms\n",
            "Speed: 1.7ms preprocess, 74.1ms inference, 1.6ms postprocess per image at shape (1, 3, 480, 640)\n"
          ]
        },
        {
          "output_type": "stream",
          "name": "stderr",
          "text": [
            "\rRunning YOLO:  52%|█████▏    | 262/500 [04:48<04:16,  1.08s/it]"
          ]
        },
        {
          "output_type": "stream",
          "name": "stdout",
          "text": [
            "\n",
            "image 1/1 /content/drive/MyDrive/UCLA/cs 263/final_proj/val2014/COCO_val2014_000000073182.jpg: 448x640 3 persons, 1 car, 1 motorcycle, 1 handbag, 72.5ms\n",
            "Speed: 1.6ms preprocess, 72.5ms inference, 1.6ms postprocess per image at shape (1, 3, 448, 640)\n"
          ]
        },
        {
          "output_type": "stream",
          "name": "stderr",
          "text": [
            "\rRunning YOLO:  53%|█████▎    | 263/500 [04:49<04:00,  1.01s/it]"
          ]
        },
        {
          "output_type": "stream",
          "name": "stdout",
          "text": [
            "\n",
            "image 1/1 /content/drive/MyDrive/UCLA/cs 263/final_proj/val2014/COCO_val2014_000000275863.jpg: 448x640 1 person, 1 bench, 1 baseball bat, 3 chairs, 71.6ms\n",
            "Speed: 1.8ms preprocess, 71.6ms inference, 1.9ms postprocess per image at shape (1, 3, 448, 640)\n"
          ]
        },
        {
          "output_type": "stream",
          "name": "stderr",
          "text": [
            "\rRunning YOLO:  53%|█████▎    | 264/500 [04:50<03:52,  1.01it/s]"
          ]
        },
        {
          "output_type": "stream",
          "name": "stdout",
          "text": [
            "\n",
            "image 1/1 /content/drive/MyDrive/UCLA/cs 263/final_proj/val2014/COCO_val2014_000000098493.jpg: 640x448 8 persons, 3 cars, 2 trucks, 1 chair, 1 clock, 72.6ms\n",
            "Speed: 1.6ms preprocess, 72.6ms inference, 1.5ms postprocess per image at shape (1, 3, 640, 448)\n"
          ]
        },
        {
          "output_type": "stream",
          "name": "stderr",
          "text": [
            "\rRunning YOLO:  53%|█████▎    | 265/500 [04:51<03:59,  1.02s/it]"
          ]
        },
        {
          "output_type": "stream",
          "name": "stdout",
          "text": [
            "\n",
            "image 1/1 /content/drive/MyDrive/UCLA/cs 263/final_proj/val2014/COCO_val2014_000000572075.jpg: 448x640 1 cat, 1 toilet, 72.4ms\n",
            "Speed: 1.7ms preprocess, 72.4ms inference, 1.5ms postprocess per image at shape (1, 3, 448, 640)\n"
          ]
        },
        {
          "output_type": "stream",
          "name": "stderr",
          "text": [
            "\rRunning YOLO:  53%|█████▎    | 266/500 [04:52<04:04,  1.04s/it]"
          ]
        },
        {
          "output_type": "stream",
          "name": "stdout",
          "text": [
            "\n",
            "image 1/1 /content/drive/MyDrive/UCLA/cs 263/final_proj/val2014/COCO_val2014_000000465418.jpg: 640x448 9 persons, 1 bus, 2 traffic lights, 72.7ms\n",
            "Speed: 1.6ms preprocess, 72.7ms inference, 1.6ms postprocess per image at shape (1, 3, 640, 448)\n"
          ]
        },
        {
          "output_type": "stream",
          "name": "stderr",
          "text": [
            "\rRunning YOLO:  53%|█████▎    | 267/500 [04:53<03:51,  1.01it/s]"
          ]
        },
        {
          "output_type": "stream",
          "name": "stdout",
          "text": [
            "\n",
            "image 1/1 /content/drive/MyDrive/UCLA/cs 263/final_proj/val2014/COCO_val2014_000000012333.jpg: 416x640 23 persons, 1 horse, 72.1ms\n",
            "Speed: 2.4ms preprocess, 72.1ms inference, 2.4ms postprocess per image at shape (1, 3, 416, 640)\n"
          ]
        },
        {
          "output_type": "stream",
          "name": "stderr",
          "text": [
            "\rRunning YOLO:  54%|█████▎    | 268/500 [04:54<03:46,  1.02it/s]"
          ]
        },
        {
          "output_type": "stream",
          "name": "stdout",
          "text": [
            "\n",
            "image 1/1 /content/drive/MyDrive/UCLA/cs 263/final_proj/val2014/COCO_val2014_000000396338.jpg: 448x640 6 persons, 1 car, 1 motorcycle, 4 trucks, 1 handbag, 73.5ms\n",
            "Speed: 2.1ms preprocess, 73.5ms inference, 3.8ms postprocess per image at shape (1, 3, 448, 640)\n"
          ]
        },
        {
          "output_type": "stream",
          "name": "stderr",
          "text": [
            "\rRunning YOLO:  54%|█████▍    | 269/500 [04:55<03:40,  1.05it/s]"
          ]
        },
        {
          "output_type": "stream",
          "name": "stdout",
          "text": [
            "\n",
            "image 1/1 /content/drive/MyDrive/UCLA/cs 263/final_proj/val2014/COCO_val2014_000000579277.jpg: 448x640 5 persons, 3 motorcycles, 1 bowl, 1 carrot, 1 dining table, 71.5ms\n",
            "Speed: 1.9ms preprocess, 71.5ms inference, 1.8ms postprocess per image at shape (1, 3, 448, 640)\n"
          ]
        },
        {
          "output_type": "stream",
          "name": "stderr",
          "text": [
            "\rRunning YOLO:  54%|█████▍    | 270/500 [04:56<03:49,  1.00it/s]"
          ]
        },
        {
          "output_type": "stream",
          "name": "stdout",
          "text": [
            "\n",
            "image 1/1 /content/drive/MyDrive/UCLA/cs 263/final_proj/val2014/COCO_val2014_000000300876.jpg: 608x640 3 persons, 1 handbag, 2 bottles, 3 cups, 2 knifes, 3 bowls, 2 chairs, 1 dining table, 96.8ms\n",
            "Speed: 2.1ms preprocess, 96.8ms inference, 1.7ms postprocess per image at shape (1, 3, 608, 640)\n"
          ]
        },
        {
          "output_type": "stream",
          "name": "stderr",
          "text": [
            "\rRunning YOLO:  54%|█████▍    | 271/500 [04:57<03:58,  1.04s/it]"
          ]
        },
        {
          "output_type": "stream",
          "name": "stdout",
          "text": [
            "\n",
            "image 1/1 /content/drive/MyDrive/UCLA/cs 263/final_proj/val2014/COCO_val2014_000000093948.jpg: 480x640 1 cat, 1 tv, 1 laptop, 1 mouse, 1 keyboard, 69.0ms\n",
            "Speed: 1.8ms preprocess, 69.0ms inference, 1.5ms postprocess per image at shape (1, 3, 480, 640)\n"
          ]
        },
        {
          "output_type": "stream",
          "name": "stderr",
          "text": [
            "\rRunning YOLO:  54%|█████▍    | 272/500 [04:58<04:05,  1.08s/it]"
          ]
        },
        {
          "output_type": "stream",
          "name": "stdout",
          "text": [
            "\n",
            "image 1/1 /content/drive/MyDrive/UCLA/cs 263/final_proj/val2014/COCO_val2014_000000003845.jpg: 480x640 1 cup, 1 fork, 1 knife, 3 broccolis, 5 carrots, 1 chair, 1 dining table, 74.1ms\n",
            "Speed: 2.2ms preprocess, 74.1ms inference, 1.7ms postprocess per image at shape (1, 3, 480, 640)\n"
          ]
        },
        {
          "output_type": "stream",
          "name": "stderr",
          "text": [
            "\rRunning YOLO:  55%|█████▍    | 273/500 [04:59<03:47,  1.00s/it]"
          ]
        },
        {
          "output_type": "stream",
          "name": "stdout",
          "text": [
            "\n",
            "image 1/1 /content/drive/MyDrive/UCLA/cs 263/final_proj/val2014/COCO_val2014_000000236370.jpg: 480x640 13 persons, 4 ties, 9 chairs, 74.1ms\n",
            "Speed: 1.7ms preprocess, 74.1ms inference, 1.7ms postprocess per image at shape (1, 3, 480, 640)\n"
          ]
        },
        {
          "output_type": "stream",
          "name": "stderr",
          "text": [
            "\rRunning YOLO:  55%|█████▍    | 274/500 [05:00<03:57,  1.05s/it]"
          ]
        },
        {
          "output_type": "stream",
          "name": "stdout",
          "text": [
            "\n",
            "image 1/1 /content/drive/MyDrive/UCLA/cs 263/final_proj/val2014/COCO_val2014_000000070813.jpg: 512x640 1 handbag, 1 bottle, 2 beds, 74.7ms\n",
            "Speed: 1.7ms preprocess, 74.7ms inference, 1.6ms postprocess per image at shape (1, 3, 512, 640)\n"
          ]
        },
        {
          "output_type": "stream",
          "name": "stderr",
          "text": [
            "\rRunning YOLO:  55%|█████▌    | 275/500 [05:01<03:47,  1.01s/it]"
          ]
        },
        {
          "output_type": "stream",
          "name": "stdout",
          "text": [
            "\n",
            "image 1/1 /content/drive/MyDrive/UCLA/cs 263/final_proj/val2014/COCO_val2014_000000545353.jpg: 640x480 1 person, 1 pizza, 1 oven, 74.7ms\n",
            "Speed: 1.7ms preprocess, 74.7ms inference, 1.5ms postprocess per image at shape (1, 3, 640, 480)\n"
          ]
        },
        {
          "output_type": "stream",
          "name": "stderr",
          "text": [
            "\rRunning YOLO:  55%|█████▌    | 276/500 [05:02<03:51,  1.03s/it]"
          ]
        },
        {
          "output_type": "stream",
          "name": "stdout",
          "text": [
            "\n",
            "image 1/1 /content/drive/MyDrive/UCLA/cs 263/final_proj/val2014/COCO_val2014_000000256906.jpg: 448x640 8 persons, 2 buss, 1 traffic light, 3 handbags, 72.4ms\n",
            "Speed: 1.5ms preprocess, 72.4ms inference, 1.5ms postprocess per image at shape (1, 3, 448, 640)\n"
          ]
        },
        {
          "output_type": "stream",
          "name": "stderr",
          "text": [
            "\rRunning YOLO:  55%|█████▌    | 277/500 [05:03<03:40,  1.01it/s]"
          ]
        },
        {
          "output_type": "stream",
          "name": "stdout",
          "text": [
            "\n",
            "image 1/1 /content/drive/MyDrive/UCLA/cs 263/final_proj/val2014/COCO_val2014_000000337502.jpg: 448x640 1 pizza, 71.5ms\n",
            "Speed: 1.7ms preprocess, 71.5ms inference, 1.6ms postprocess per image at shape (1, 3, 448, 640)\n"
          ]
        },
        {
          "output_type": "stream",
          "name": "stderr",
          "text": [
            "\rRunning YOLO:  56%|█████▌    | 278/500 [05:04<03:45,  1.02s/it]"
          ]
        },
        {
          "output_type": "stream",
          "name": "stdout",
          "text": [
            "\n",
            "image 1/1 /content/drive/MyDrive/UCLA/cs 263/final_proj/val2014/COCO_val2014_000000360600.jpg: 480x640 1 person, 1 bottle, 1 cup, 2 forks, 1 knife, 1 pizza, 75.5ms\n",
            "Speed: 1.6ms preprocess, 75.5ms inference, 2.4ms postprocess per image at shape (1, 3, 480, 640)\n"
          ]
        },
        {
          "output_type": "stream",
          "name": "stderr",
          "text": [
            "\rRunning YOLO:  56%|█████▌    | 279/500 [05:05<03:53,  1.06s/it]"
          ]
        },
        {
          "output_type": "stream",
          "name": "stdout",
          "text": [
            "\n",
            "image 1/1 /content/drive/MyDrive/UCLA/cs 263/final_proj/val2014/COCO_val2014_000000093946.jpg: 480x640 3 persons, 1 fork, 1 spoon, 1 bowl, 2 pizzas, 2 chairs, 1 dining table, 74.2ms\n",
            "Speed: 2.2ms preprocess, 74.2ms inference, 2.2ms postprocess per image at shape (1, 3, 480, 640)\n"
          ]
        },
        {
          "output_type": "stream",
          "name": "stderr",
          "text": [
            "\rRunning YOLO:  56%|█████▌    | 280/500 [05:06<03:51,  1.05s/it]"
          ]
        },
        {
          "output_type": "stream",
          "name": "stdout",
          "text": [
            "\n",
            "image 1/1 /content/drive/MyDrive/UCLA/cs 263/final_proj/val2014/COCO_val2014_000000041180.jpg: 640x448 16 persons, 3 cows, 73.6ms\n",
            "Speed: 2.2ms preprocess, 73.6ms inference, 2.5ms postprocess per image at shape (1, 3, 640, 448)\n"
          ]
        },
        {
          "output_type": "stream",
          "name": "stderr",
          "text": [
            "\rRunning YOLO:  56%|█████▌    | 281/500 [05:07<03:55,  1.07s/it]"
          ]
        },
        {
          "output_type": "stream",
          "name": "stdout",
          "text": [
            "\n",
            "image 1/1 /content/drive/MyDrive/UCLA/cs 263/final_proj/val2014/COCO_val2014_000000500473.jpg: 640x480 14 persons, 1 handbag, 1 broccoli, 1 carrot, 74.8ms\n",
            "Speed: 1.7ms preprocess, 74.8ms inference, 1.6ms postprocess per image at shape (1, 3, 640, 480)\n"
          ]
        },
        {
          "output_type": "stream",
          "name": "stderr",
          "text": [
            "\rRunning YOLO:  56%|█████▋    | 282/500 [05:09<04:02,  1.11s/it]"
          ]
        },
        {
          "output_type": "stream",
          "name": "stdout",
          "text": [
            "\n",
            "image 1/1 /content/drive/MyDrive/UCLA/cs 263/final_proj/val2014/COCO_val2014_000000372009.jpg: 384x640 2 birds, 1 bed, 1 teddy bear, 64.4ms\n",
            "Speed: 2.1ms preprocess, 64.4ms inference, 1.7ms postprocess per image at shape (1, 3, 384, 640)\n"
          ]
        },
        {
          "output_type": "stream",
          "name": "stderr",
          "text": [
            "\rRunning YOLO:  57%|█████▋    | 283/500 [05:10<03:52,  1.07s/it]"
          ]
        },
        {
          "output_type": "stream",
          "name": "stdout",
          "text": [
            "\n",
            "image 1/1 /content/drive/MyDrive/UCLA/cs 263/final_proj/val2014/COCO_val2014_000000007320.jpg: 640x480 6 persons, 2 handbags, 1 tv, 1 remote, 74.8ms\n",
            "Speed: 2.3ms preprocess, 74.8ms inference, 1.5ms postprocess per image at shape (1, 3, 640, 480)\n"
          ]
        },
        {
          "output_type": "stream",
          "name": "stderr",
          "text": [
            "\rRunning YOLO:  57%|█████▋    | 284/500 [05:11<04:04,  1.13s/it]"
          ]
        },
        {
          "output_type": "stream",
          "name": "stdout",
          "text": [
            "\n",
            "image 1/1 /content/drive/MyDrive/UCLA/cs 263/final_proj/val2014/COCO_val2014_000000521643.jpg: 512x640 1 book, 1 vase, 76.9ms\n",
            "Speed: 1.7ms preprocess, 76.9ms inference, 1.6ms postprocess per image at shape (1, 3, 512, 640)\n"
          ]
        },
        {
          "output_type": "stream",
          "name": "stderr",
          "text": [
            "\rRunning YOLO:  57%|█████▋    | 285/500 [05:12<04:07,  1.15s/it]"
          ]
        },
        {
          "output_type": "stream",
          "name": "stdout",
          "text": [
            "\n",
            "image 1/1 /content/drive/MyDrive/UCLA/cs 263/final_proj/val2014/COCO_val2014_000000239773.jpg: 448x640 2 persons, 1 sports ball, 2 baseball bats, 1 baseball glove, 74.4ms\n",
            "Speed: 2.3ms preprocess, 74.4ms inference, 1.6ms postprocess per image at shape (1, 3, 448, 640)\n"
          ]
        },
        {
          "output_type": "stream",
          "name": "stderr",
          "text": [
            "\rRunning YOLO:  57%|█████▋    | 286/500 [05:13<04:03,  1.14s/it]"
          ]
        },
        {
          "output_type": "stream",
          "name": "stdout",
          "text": [
            "\n",
            "image 1/1 /content/drive/MyDrive/UCLA/cs 263/final_proj/val2014/COCO_val2014_000000283168.jpg: 448x640 1 fork, 1 bowl, 1 sandwich, 71.5ms\n",
            "Speed: 2.2ms preprocess, 71.5ms inference, 1.6ms postprocess per image at shape (1, 3, 448, 640)\n"
          ]
        },
        {
          "output_type": "stream",
          "name": "stderr",
          "text": [
            "\rRunning YOLO:  57%|█████▋    | 287/500 [05:14<03:49,  1.08s/it]"
          ]
        },
        {
          "output_type": "stream",
          "name": "stdout",
          "text": [
            "\n",
            "image 1/1 /content/drive/MyDrive/UCLA/cs 263/final_proj/val2014/COCO_val2014_000000498100.jpg: 640x544 5 vases, 94.2ms\n",
            "Speed: 1.9ms preprocess, 94.2ms inference, 1.8ms postprocess per image at shape (1, 3, 640, 544)\n"
          ]
        },
        {
          "output_type": "stream",
          "name": "stderr",
          "text": [
            "\rRunning YOLO:  58%|█████▊    | 288/500 [05:16<04:17,  1.22s/it]"
          ]
        },
        {
          "output_type": "stream",
          "name": "stdout",
          "text": [
            "\n",
            "image 1/1 /content/drive/MyDrive/UCLA/cs 263/final_proj/val2014/COCO_val2014_000000226097.jpg: 448x640 2 spoons, 1 bowl, 1 oven, 1 sink, 2 refrigerators, 73.0ms\n",
            "Speed: 1.8ms preprocess, 73.0ms inference, 2.5ms postprocess per image at shape (1, 3, 448, 640)\n"
          ]
        },
        {
          "output_type": "stream",
          "name": "stderr",
          "text": [
            "\rRunning YOLO:  58%|█████▊    | 289/500 [05:17<04:07,  1.17s/it]"
          ]
        },
        {
          "output_type": "stream",
          "name": "stdout",
          "text": [
            "\n",
            "image 1/1 /content/drive/MyDrive/UCLA/cs 263/final_proj/val2014/COCO_val2014_000000199940.jpg: 480x640 1 cat, 6 bottles, 1 bowl, 1 oven, 1 refrigerator, 75.5ms\n",
            "Speed: 3.5ms preprocess, 75.5ms inference, 2.1ms postprocess per image at shape (1, 3, 480, 640)\n"
          ]
        },
        {
          "output_type": "stream",
          "name": "stderr",
          "text": [
            "\rRunning YOLO:  58%|█████▊    | 290/500 [05:18<04:04,  1.16s/it]"
          ]
        },
        {
          "output_type": "stream",
          "name": "stdout",
          "text": [
            "\n",
            "image 1/1 /content/drive/MyDrive/UCLA/cs 263/final_proj/val2014/COCO_val2014_000000316237.jpg: 640x512 1 person, 1 handbag, 76.0ms\n",
            "Speed: 2.3ms preprocess, 76.0ms inference, 2.2ms postprocess per image at shape (1, 3, 640, 512)\n"
          ]
        },
        {
          "output_type": "stream",
          "name": "stderr",
          "text": [
            "\rRunning YOLO:  58%|█████▊    | 291/500 [05:19<03:47,  1.09s/it]"
          ]
        },
        {
          "output_type": "stream",
          "name": "stdout",
          "text": [
            "\n",
            "image 1/1 /content/drive/MyDrive/UCLA/cs 263/final_proj/val2014/COCO_val2014_000000031971.jpg: 640x640 1 bed, 4 books, 97.6ms\n",
            "Speed: 3.5ms preprocess, 97.6ms inference, 1.5ms postprocess per image at shape (1, 3, 640, 640)\n"
          ]
        },
        {
          "output_type": "stream",
          "name": "stderr",
          "text": [
            "\rRunning YOLO:  58%|█████▊    | 292/500 [05:20<03:40,  1.06s/it]"
          ]
        },
        {
          "output_type": "stream",
          "name": "stdout",
          "text": [
            "\n",
            "image 1/1 /content/drive/MyDrive/UCLA/cs 263/final_proj/val2014/COCO_val2014_000000500257.jpg: 512x640 4 persons, 7 suitcases, 10 tvs, 62.9ms\n",
            "Speed: 2.4ms preprocess, 62.9ms inference, 1.5ms postprocess per image at shape (1, 3, 512, 640)\n"
          ]
        },
        {
          "output_type": "stream",
          "name": "stderr",
          "text": [
            "\rRunning YOLO:  59%|█████▊    | 293/500 [05:21<03:47,  1.10s/it]"
          ]
        },
        {
          "output_type": "stream",
          "name": "stdout",
          "text": [
            "\n",
            "image 1/1 /content/drive/MyDrive/UCLA/cs 263/final_proj/val2014/COCO_val2014_000000463522.jpg: 480x640 12 persons, 1 bicycle, 1 motorcycle, 1 dog, 2 horses, 75.5ms\n",
            "Speed: 1.8ms preprocess, 75.5ms inference, 1.8ms postprocess per image at shape (1, 3, 480, 640)\n"
          ]
        },
        {
          "output_type": "stream",
          "name": "stderr",
          "text": [
            "\rRunning YOLO:  59%|█████▉    | 294/500 [05:22<03:42,  1.08s/it]"
          ]
        },
        {
          "output_type": "stream",
          "name": "stdout",
          "text": [
            "\n",
            "image 1/1 /content/drive/MyDrive/UCLA/cs 263/final_proj/val2014/COCO_val2014_000000283412.jpg: 448x640 1 cup, 1 bowl, 1 book, 1 teddy bear, 72.4ms\n",
            "Speed: 1.6ms preprocess, 72.4ms inference, 1.5ms postprocess per image at shape (1, 3, 448, 640)\n"
          ]
        },
        {
          "output_type": "stream",
          "name": "stderr",
          "text": [
            "\rRunning YOLO:  59%|█████▉    | 295/500 [05:23<03:38,  1.07s/it]"
          ]
        },
        {
          "output_type": "stream",
          "name": "stdout",
          "text": [
            "\n",
            "image 1/1 /content/drive/MyDrive/UCLA/cs 263/final_proj/val2014/COCO_val2014_000000281028.jpg: 480x640 5 chairs, 75.0ms\n",
            "Speed: 1.8ms preprocess, 75.0ms inference, 1.6ms postprocess per image at shape (1, 3, 480, 640)\n"
          ]
        },
        {
          "output_type": "stream",
          "name": "stderr",
          "text": [
            "\rRunning YOLO:  59%|█████▉    | 296/500 [05:24<03:40,  1.08s/it]"
          ]
        },
        {
          "output_type": "stream",
          "name": "stdout",
          "text": [
            "\n",
            "image 1/1 /content/drive/MyDrive/UCLA/cs 263/final_proj/val2014/COCO_val2014_000000460931.jpg: 640x640 14 donuts, 99.9ms\n",
            "Speed: 3.2ms preprocess, 99.9ms inference, 1.7ms postprocess per image at shape (1, 3, 640, 640)\n"
          ]
        },
        {
          "output_type": "stream",
          "name": "stderr",
          "text": [
            "\rRunning YOLO:  59%|█████▉    | 297/500 [05:25<03:43,  1.10s/it]"
          ]
        },
        {
          "output_type": "stream",
          "name": "stdout",
          "text": [
            "\n",
            "image 1/1 /content/drive/MyDrive/UCLA/cs 263/final_proj/val2014/COCO_val2014_000000459680.jpg: 640x384 1 person, 1 umbrella, 64.0ms\n",
            "Speed: 1.4ms preprocess, 64.0ms inference, 1.6ms postprocess per image at shape (1, 3, 640, 384)\n"
          ]
        },
        {
          "output_type": "stream",
          "name": "stderr",
          "text": [
            "\rRunning YOLO:  60%|█████▉    | 298/500 [05:26<03:33,  1.06s/it]"
          ]
        },
        {
          "output_type": "stream",
          "name": "stdout",
          "text": [
            "\n",
            "image 1/1 /content/drive/MyDrive/UCLA/cs 263/final_proj/val2014/COCO_val2014_000000287035.jpg: 480x640 1 chair, 1 tv, 1 laptop, 1 mouse, 1 keyboard, 1 cell phone, 75.3ms\n",
            "Speed: 3.2ms preprocess, 75.3ms inference, 1.7ms postprocess per image at shape (1, 3, 480, 640)\n"
          ]
        },
        {
          "output_type": "stream",
          "name": "stderr",
          "text": [
            "\rRunning YOLO:  60%|█████▉    | 299/500 [05:28<03:51,  1.15s/it]"
          ]
        },
        {
          "output_type": "stream",
          "name": "stdout",
          "text": [
            "\n",
            "image 1/1 /content/drive/MyDrive/UCLA/cs 263/final_proj/val2014/COCO_val2014_000000033270.jpg: 448x640 1 person, 1 couch, 1 tv, 1 refrigerator, 1 book, 1 vase, 72.5ms\n",
            "Speed: 1.8ms preprocess, 72.5ms inference, 1.6ms postprocess per image at shape (1, 3, 448, 640)\n"
          ]
        },
        {
          "output_type": "stream",
          "name": "stderr",
          "text": [
            "\rRunning YOLO:  60%|██████    | 300/500 [05:29<04:06,  1.23s/it]"
          ]
        },
        {
          "output_type": "stream",
          "name": "stdout",
          "text": [
            "\n",
            "image 1/1 /content/drive/MyDrive/UCLA/cs 263/final_proj/val2014/COCO_val2014_000000142056.jpg: 640x448 1 person, 1 tennis racket, 73.7ms\n",
            "Speed: 2.4ms preprocess, 73.7ms inference, 2.6ms postprocess per image at shape (1, 3, 640, 448)\n"
          ]
        },
        {
          "output_type": "stream",
          "name": "stderr",
          "text": [
            "\rRunning YOLO:  60%|██████    | 301/500 [05:30<04:14,  1.28s/it]"
          ]
        },
        {
          "output_type": "stream",
          "name": "stdout",
          "text": [
            "\n",
            "image 1/1 /content/drive/MyDrive/UCLA/cs 263/final_proj/val2014/COCO_val2014_000000355256.jpg: 640x448 1 person, 1 bottle, 1 donut, 1 chair, 1 microwave, 1 refrigerator, 71.7ms\n",
            "Speed: 2.2ms preprocess, 71.7ms inference, 2.2ms postprocess per image at shape (1, 3, 640, 448)\n"
          ]
        },
        {
          "output_type": "stream",
          "name": "stderr",
          "text": [
            "\rRunning YOLO:  60%|██████    | 302/500 [05:31<03:48,  1.15s/it]"
          ]
        },
        {
          "output_type": "stream",
          "name": "stdout",
          "text": [
            "\n",
            "image 1/1 /content/drive/MyDrive/UCLA/cs 263/final_proj/val2014/COCO_val2014_000000212241.jpg: 448x640 5 persons, 2 cars, 1 train, 1 truck, 72.4ms\n",
            "Speed: 1.5ms preprocess, 72.4ms inference, 1.5ms postprocess per image at shape (1, 3, 448, 640)\n"
          ]
        },
        {
          "output_type": "stream",
          "name": "stderr",
          "text": [
            "\rRunning YOLO:  61%|██████    | 303/500 [05:32<03:42,  1.13s/it]"
          ]
        },
        {
          "output_type": "stream",
          "name": "stdout",
          "text": [
            "\n",
            "image 1/1 /content/drive/MyDrive/UCLA/cs 263/final_proj/val2014/COCO_val2014_000000069196.jpg: 640x512 13 persons, 1 airplane, 2 backpacks, 2 handbags, 74.7ms\n",
            "Speed: 1.7ms preprocess, 74.7ms inference, 1.6ms postprocess per image at shape (1, 3, 640, 512)\n"
          ]
        },
        {
          "output_type": "stream",
          "name": "stderr",
          "text": [
            "\rRunning YOLO:  61%|██████    | 304/500 [05:33<03:37,  1.11s/it]"
          ]
        },
        {
          "output_type": "stream",
          "name": "stdout",
          "text": [
            "\n",
            "image 1/1 /content/drive/MyDrive/UCLA/cs 263/final_proj/val2014/COCO_val2014_000000044801.jpg: 448x640 5 persons, 9 cars, 1 motorcycle, 1 bus, 1 truck, 8 traffic lights, 72.5ms\n",
            "Speed: 2.2ms preprocess, 72.5ms inference, 1.7ms postprocess per image at shape (1, 3, 448, 640)\n"
          ]
        },
        {
          "output_type": "stream",
          "name": "stderr",
          "text": [
            "\rRunning YOLO:  61%|██████    | 305/500 [05:34<03:21,  1.04s/it]"
          ]
        },
        {
          "output_type": "stream",
          "name": "stdout",
          "text": [
            "\n",
            "image 1/1 /content/drive/MyDrive/UCLA/cs 263/final_proj/val2014/COCO_val2014_000000332908.jpg: 480x640 3 bottles, 4 bowls, 1 oven, 75.2ms\n",
            "Speed: 1.7ms preprocess, 75.2ms inference, 1.6ms postprocess per image at shape (1, 3, 480, 640)\n"
          ]
        },
        {
          "output_type": "stream",
          "name": "stderr",
          "text": [
            "\rRunning YOLO:  61%|██████    | 306/500 [05:36<03:43,  1.15s/it]"
          ]
        },
        {
          "output_type": "stream",
          "name": "stdout",
          "text": [
            "\n",
            "image 1/1 /content/drive/MyDrive/UCLA/cs 263/final_proj/val2014/COCO_val2014_000000473199.jpg: 480x640 2 persons, 7 umbrellas, 1 handbag, 8 chairs, 4 potted plants, 74.1ms\n",
            "Speed: 1.8ms preprocess, 74.1ms inference, 1.7ms postprocess per image at shape (1, 3, 480, 640)\n"
          ]
        },
        {
          "output_type": "stream",
          "name": "stderr",
          "text": [
            "\rRunning YOLO:  61%|██████▏   | 307/500 [05:37<03:40,  1.14s/it]"
          ]
        },
        {
          "output_type": "stream",
          "name": "stdout",
          "text": [
            "\n",
            "image 1/1 /content/drive/MyDrive/UCLA/cs 263/final_proj/val2014/COCO_val2014_000000514292.jpg: 480x640 1 book, 1 teddy bear, 74.1ms\n",
            "Speed: 1.7ms preprocess, 74.1ms inference, 1.8ms postprocess per image at shape (1, 3, 480, 640)\n"
          ]
        },
        {
          "output_type": "stream",
          "name": "stderr",
          "text": [
            "\rRunning YOLO:  62%|██████▏   | 308/500 [05:38<03:36,  1.13s/it]"
          ]
        },
        {
          "output_type": "stream",
          "name": "stdout",
          "text": [
            "\n",
            "image 1/1 /content/drive/MyDrive/UCLA/cs 263/final_proj/val2014/COCO_val2014_000000405740.jpg: 448x640 1 person, 1 wine glass, 1 laptop, 72.5ms\n",
            "Speed: 1.6ms preprocess, 72.5ms inference, 1.6ms postprocess per image at shape (1, 3, 448, 640)\n"
          ]
        },
        {
          "output_type": "stream",
          "name": "stderr",
          "text": [
            "\rRunning YOLO:  62%|██████▏   | 309/500 [05:39<03:34,  1.12s/it]"
          ]
        },
        {
          "output_type": "stream",
          "name": "stdout",
          "text": [
            "\n",
            "image 1/1 /content/drive/MyDrive/UCLA/cs 263/final_proj/val2014/COCO_val2014_000000356424.jpg: 640x480 3 persons, 2 cars, 1 bottle, 1 wine glass, 3 cups, 4 chairs, 1 dining table, 74.9ms\n",
            "Speed: 1.7ms preprocess, 74.9ms inference, 1.6ms postprocess per image at shape (1, 3, 640, 480)\n"
          ]
        },
        {
          "output_type": "stream",
          "name": "stderr",
          "text": [
            "\rRunning YOLO:  62%|██████▏   | 310/500 [05:40<03:36,  1.14s/it]"
          ]
        },
        {
          "output_type": "stream",
          "name": "stdout",
          "text": [
            "\n",
            "image 1/1 /content/drive/MyDrive/UCLA/cs 263/final_proj/val2014/COCO_val2014_000000498759.jpg: 448x640 10 cars, 1 skateboard, 72.4ms\n",
            "Speed: 1.5ms preprocess, 72.4ms inference, 1.7ms postprocess per image at shape (1, 3, 448, 640)\n"
          ]
        },
        {
          "output_type": "stream",
          "name": "stderr",
          "text": [
            "\rRunning YOLO:  62%|██████▏   | 311/500 [05:41<03:20,  1.06s/it]"
          ]
        },
        {
          "output_type": "stream",
          "name": "stdout",
          "text": [
            "\n",
            "image 1/1 /content/drive/MyDrive/UCLA/cs 263/final_proj/val2014/COCO_val2014_000000458325.jpg: 448x640 10 persons, 1 bicycle, 18 cars, 5 traffic lights, 1 skateboard, 72.7ms\n",
            "Speed: 4.2ms preprocess, 72.7ms inference, 2.2ms postprocess per image at shape (1, 3, 448, 640)\n"
          ]
        },
        {
          "output_type": "stream",
          "name": "stderr",
          "text": [
            "\rRunning YOLO:  62%|██████▏   | 312/500 [05:42<03:33,  1.14s/it]"
          ]
        },
        {
          "output_type": "stream",
          "name": "stdout",
          "text": [
            "\n",
            "image 1/1 /content/drive/MyDrive/UCLA/cs 263/final_proj/val2014/COCO_val2014_000000191964.jpg: 480x640 1 cat, 1 keyboard, 75.2ms\n",
            "Speed: 3.3ms preprocess, 75.2ms inference, 1.8ms postprocess per image at shape (1, 3, 480, 640)\n"
          ]
        },
        {
          "output_type": "stream",
          "name": "stderr",
          "text": [
            "\rRunning YOLO:  63%|██████▎   | 313/500 [05:43<03:30,  1.12s/it]"
          ]
        },
        {
          "output_type": "stream",
          "name": "stdout",
          "text": [
            "\n",
            "image 1/1 /content/drive/MyDrive/UCLA/cs 263/final_proj/val2014/COCO_val2014_000000102439.jpg: 640x480 1 person, 1 tv, 1 remote, 74.9ms\n",
            "Speed: 2.3ms preprocess, 74.9ms inference, 1.6ms postprocess per image at shape (1, 3, 640, 480)\n"
          ]
        },
        {
          "output_type": "stream",
          "name": "stderr",
          "text": [
            "\rRunning YOLO:  63%|██████▎   | 314/500 [05:44<03:14,  1.05s/it]"
          ]
        },
        {
          "output_type": "stream",
          "name": "stdout",
          "text": [
            "\n",
            "image 1/1 /content/drive/MyDrive/UCLA/cs 263/final_proj/val2014/COCO_val2014_000000240434.jpg: 448x640 3 handbags, 1 chair, 1 couch, 1 tv, 1 refrigerator, 72.4ms\n",
            "Speed: 1.6ms preprocess, 72.4ms inference, 1.6ms postprocess per image at shape (1, 3, 448, 640)\n"
          ]
        },
        {
          "output_type": "stream",
          "name": "stderr",
          "text": [
            "\rRunning YOLO:  63%|██████▎   | 315/500 [05:45<03:06,  1.01s/it]"
          ]
        },
        {
          "output_type": "stream",
          "name": "stdout",
          "text": [
            "\n",
            "image 1/1 /content/drive/MyDrive/UCLA/cs 263/final_proj/val2014/COCO_val2014_000000391735.jpg: 448x640 1 person, 1 traffic light, 71.5ms\n",
            "Speed: 1.6ms preprocess, 71.5ms inference, 1.7ms postprocess per image at shape (1, 3, 448, 640)\n"
          ]
        },
        {
          "output_type": "stream",
          "name": "stderr",
          "text": [
            "\rRunning YOLO:  63%|██████▎   | 316/500 [05:46<03:11,  1.04s/it]"
          ]
        },
        {
          "output_type": "stream",
          "name": "stdout",
          "text": [
            "\n",
            "image 1/1 /content/drive/MyDrive/UCLA/cs 263/final_proj/val2014/COCO_val2014_000000564511.jpg: 640x480 1 person, 1 bottle, 5 wine glasss, 1 cup, 1 pizza, 1 oven, 74.8ms\n",
            "Speed: 1.7ms preprocess, 74.8ms inference, 1.6ms postprocess per image at shape (1, 3, 640, 480)\n"
          ]
        },
        {
          "output_type": "stream",
          "name": "stderr",
          "text": [
            "\rRunning YOLO:  63%|██████▎   | 317/500 [05:47<03:01,  1.01it/s]"
          ]
        },
        {
          "output_type": "stream",
          "name": "stdout",
          "text": [
            "\n",
            "image 1/1 /content/drive/MyDrive/UCLA/cs 263/final_proj/val2014/COCO_val2014_000000008749.jpg: 448x640 2 cups, 1 bowl, 1 pizza, 1 dining table, 72.5ms\n",
            "Speed: 1.7ms preprocess, 72.5ms inference, 1.7ms postprocess per image at shape (1, 3, 448, 640)\n"
          ]
        },
        {
          "output_type": "stream",
          "name": "stderr",
          "text": [
            "\rRunning YOLO:  64%|██████▎   | 318/500 [05:48<03:05,  1.02s/it]"
          ]
        },
        {
          "output_type": "stream",
          "name": "stdout",
          "text": [
            "\n",
            "image 1/1 /content/drive/MyDrive/UCLA/cs 263/final_proj/val2014/COCO_val2014_000000465346.jpg: 640x640 1 cup, 1 fork, 2 knifes, 2 sandwichs, 98.1ms\n",
            "Speed: 2.0ms preprocess, 98.1ms inference, 3.2ms postprocess per image at shape (1, 3, 640, 640)\n"
          ]
        },
        {
          "output_type": "stream",
          "name": "stderr",
          "text": [
            "\rRunning YOLO:  64%|██████▍   | 319/500 [05:50<03:23,  1.13s/it]"
          ]
        },
        {
          "output_type": "stream",
          "name": "stdout",
          "text": [
            "\n",
            "image 1/1 /content/drive/MyDrive/UCLA/cs 263/final_proj/val2014/COCO_val2014_000000506483.jpg: 448x640 3 persons, 2 cars, 1 bench, 2 birds, 1 backpack, 68.2ms\n",
            "Speed: 1.8ms preprocess, 68.2ms inference, 1.7ms postprocess per image at shape (1, 3, 448, 640)\n"
          ]
        },
        {
          "output_type": "stream",
          "name": "stderr",
          "text": [
            "\rRunning YOLO:  64%|██████▍   | 320/500 [05:51<03:16,  1.09s/it]"
          ]
        },
        {
          "output_type": "stream",
          "name": "stdout",
          "text": [
            "\n",
            "image 1/1 /content/drive/MyDrive/UCLA/cs 263/final_proj/val2014/COCO_val2014_000000485564.jpg: 448x640 8 persons, 1 sports ball, 71.6ms\n",
            "Speed: 1.6ms preprocess, 71.6ms inference, 1.8ms postprocess per image at shape (1, 3, 448, 640)\n"
          ]
        },
        {
          "output_type": "stream",
          "name": "stderr",
          "text": [
            "\rRunning YOLO:  64%|██████▍   | 321/500 [05:53<04:08,  1.39s/it]"
          ]
        },
        {
          "output_type": "stream",
          "name": "stdout",
          "text": [
            "\n",
            "image 1/1 /content/drive/MyDrive/UCLA/cs 263/final_proj/val2014/COCO_val2014_000000252135.jpg: 448x640 2 persons, 2 chairs, 2 couchs, 2 remotes, 71.5ms\n",
            "Speed: 1.6ms preprocess, 71.5ms inference, 1.9ms postprocess per image at shape (1, 3, 448, 640)\n"
          ]
        },
        {
          "output_type": "stream",
          "name": "stderr",
          "text": [
            "\rRunning YOLO:  64%|██████▍   | 322/500 [05:54<03:46,  1.27s/it]"
          ]
        },
        {
          "output_type": "stream",
          "name": "stdout",
          "text": [
            "\n",
            "image 1/1 /content/drive/MyDrive/UCLA/cs 263/final_proj/val2014/COCO_val2014_000000100238.jpg: 480x640 4 persons, 1 backpack, 2 handbags, 4 frisbees, 2 toothbrushs, 75.6ms\n",
            "Speed: 2.4ms preprocess, 75.6ms inference, 2.3ms postprocess per image at shape (1, 3, 480, 640)\n"
          ]
        },
        {
          "output_type": "stream",
          "name": "stderr",
          "text": [
            "\rRunning YOLO:  65%|██████▍   | 323/500 [05:55<03:33,  1.21s/it]"
          ]
        },
        {
          "output_type": "stream",
          "name": "stdout",
          "text": [
            "\n",
            "image 1/1 /content/drive/MyDrive/UCLA/cs 263/final_proj/val2014/COCO_val2014_000000163575.jpg: 544x640 1 person, 2 dogs, 1 bed, 93.9ms\n",
            "Speed: 2.6ms preprocess, 93.9ms inference, 2.1ms postprocess per image at shape (1, 3, 544, 640)\n"
          ]
        },
        {
          "output_type": "stream",
          "name": "stderr",
          "text": [
            "\rRunning YOLO:  65%|██████▍   | 324/500 [05:56<03:19,  1.14s/it]"
          ]
        },
        {
          "output_type": "stream",
          "name": "stdout",
          "text": [
            "\n",
            "image 1/1 /content/drive/MyDrive/UCLA/cs 263/final_proj/val2014/COCO_val2014_000000304387.jpg: 448x640 1 person, 1 kite, 65.3ms\n",
            "Speed: 1.6ms preprocess, 65.3ms inference, 1.5ms postprocess per image at shape (1, 3, 448, 640)\n"
          ]
        },
        {
          "output_type": "stream",
          "name": "stderr",
          "text": [
            "\rRunning YOLO:  65%|██████▌   | 325/500 [05:57<03:16,  1.12s/it]"
          ]
        },
        {
          "output_type": "stream",
          "name": "stdout",
          "text": [
            "\n",
            "image 1/1 /content/drive/MyDrive/UCLA/cs 263/final_proj/val2014/COCO_val2014_000000353096.jpg: 448x640 1 tv, 1 mouse, 1 keyboard, 69.5ms\n",
            "Speed: 2.2ms preprocess, 69.5ms inference, 1.7ms postprocess per image at shape (1, 3, 448, 640)\n"
          ]
        },
        {
          "output_type": "stream",
          "name": "stderr",
          "text": [
            "\rRunning YOLO:  65%|██████▌   | 326/500 [05:58<03:01,  1.04s/it]"
          ]
        },
        {
          "output_type": "stream",
          "name": "stdout",
          "text": [
            "\n",
            "image 1/1 /content/drive/MyDrive/UCLA/cs 263/final_proj/val2014/COCO_val2014_000000149592.jpg: 448x640 2 persons, 1 boat, 1 bench, 71.5ms\n",
            "Speed: 1.7ms preprocess, 71.5ms inference, 1.6ms postprocess per image at shape (1, 3, 448, 640)\n"
          ]
        },
        {
          "output_type": "stream",
          "name": "stderr",
          "text": [
            "\rRunning YOLO:  65%|██████▌   | 327/500 [05:59<03:09,  1.09s/it]"
          ]
        },
        {
          "output_type": "stream",
          "name": "stdout",
          "text": [
            "\n",
            "image 1/1 /content/drive/MyDrive/UCLA/cs 263/final_proj/val2014/COCO_val2014_000000297078.jpg: 480x640 1 person, 1 backpack, 1 skis, 75.1ms\n",
            "Speed: 2.5ms preprocess, 75.1ms inference, 1.5ms postprocess per image at shape (1, 3, 480, 640)\n"
          ]
        },
        {
          "output_type": "stream",
          "name": "stderr",
          "text": [
            "\rRunning YOLO:  66%|██████▌   | 328/500 [06:00<03:10,  1.11s/it]"
          ]
        },
        {
          "output_type": "stream",
          "name": "stdout",
          "text": [
            "\n",
            "image 1/1 /content/drive/MyDrive/UCLA/cs 263/final_proj/val2014/COCO_val2014_000000259755.jpg: 448x640 7 persons, 1 truck, 3 baseball gloves, 72.5ms\n",
            "Speed: 1.7ms preprocess, 72.5ms inference, 1.6ms postprocess per image at shape (1, 3, 448, 640)\n"
          ]
        },
        {
          "output_type": "stream",
          "name": "stderr",
          "text": [
            "\rRunning YOLO:  66%|██████▌   | 329/500 [06:01<03:02,  1.07s/it]"
          ]
        },
        {
          "output_type": "stream",
          "name": "stdout",
          "text": [
            "\n",
            "image 1/1 /content/drive/MyDrive/UCLA/cs 263/final_proj/val2014/COCO_val2014_000000068418.jpg: 480x640 1 laptop, 2 mouses, 1 keyboard, 75.2ms\n",
            "Speed: 1.7ms preprocess, 75.2ms inference, 1.5ms postprocess per image at shape (1, 3, 480, 640)\n"
          ]
        },
        {
          "output_type": "stream",
          "name": "stderr",
          "text": [
            "\rRunning YOLO:  66%|██████▌   | 330/500 [06:02<02:58,  1.05s/it]"
          ]
        },
        {
          "output_type": "stream",
          "name": "stdout",
          "text": [
            "\n",
            "image 1/1 /content/drive/MyDrive/UCLA/cs 263/final_proj/val2014/COCO_val2014_000000452297.jpg: 640x448 1 cup, 1 spoon, 12 bananas, 72.6ms\n",
            "Speed: 1.6ms preprocess, 72.6ms inference, 1.6ms postprocess per image at shape (1, 3, 640, 448)\n"
          ]
        },
        {
          "output_type": "stream",
          "name": "stderr",
          "text": [
            "\rRunning YOLO:  66%|██████▌   | 331/500 [06:03<03:01,  1.08s/it]"
          ]
        },
        {
          "output_type": "stream",
          "name": "stdout",
          "text": [
            "\n",
            "image 1/1 /content/drive/MyDrive/UCLA/cs 263/final_proj/val2014/COCO_val2014_000000388237.jpg: 448x640 7 persons, 2 backpacks, 1 skateboard, 1 chair, 72.7ms\n",
            "Speed: 1.8ms preprocess, 72.7ms inference, 1.5ms postprocess per image at shape (1, 3, 448, 640)\n"
          ]
        },
        {
          "output_type": "stream",
          "name": "stderr",
          "text": [
            "\rRunning YOLO:  66%|██████▋   | 332/500 [06:04<03:01,  1.08s/it]"
          ]
        },
        {
          "output_type": "stream",
          "name": "stdout",
          "text": [
            "\n",
            "image 1/1 /content/drive/MyDrive/UCLA/cs 263/final_proj/val2014/COCO_val2014_000000142774.jpg: 480x640 2 persons, 1 motorcycle, 1 bus, 75.0ms\n",
            "Speed: 1.7ms preprocess, 75.0ms inference, 1.5ms postprocess per image at shape (1, 3, 480, 640)\n"
          ]
        },
        {
          "output_type": "stream",
          "name": "stderr",
          "text": [
            "\rRunning YOLO:  67%|██████▋   | 333/500 [06:05<02:48,  1.01s/it]"
          ]
        },
        {
          "output_type": "stream",
          "name": "stdout",
          "text": [
            "\n",
            "image 1/1 /content/drive/MyDrive/UCLA/cs 263/final_proj/val2014/COCO_val2014_000000338291.jpg: 480x640 2 persons, 1 bench, 1 snowboard, 74.2ms\n",
            "Speed: 2.8ms preprocess, 74.2ms inference, 2.6ms postprocess per image at shape (1, 3, 480, 640)\n"
          ]
        },
        {
          "output_type": "stream",
          "name": "stderr",
          "text": [
            "\rRunning YOLO:  67%|██████▋   | 334/500 [06:06<02:54,  1.05s/it]"
          ]
        },
        {
          "output_type": "stream",
          "name": "stdout",
          "text": [
            "\n",
            "image 1/1 /content/drive/MyDrive/UCLA/cs 263/final_proj/val2014/COCO_val2014_000000396068.jpg: 640x640 2 persons, 1 handbag, 1 tv, 1 remote, 99.6ms\n",
            "Speed: 3.1ms preprocess, 99.6ms inference, 2.4ms postprocess per image at shape (1, 3, 640, 640)\n"
          ]
        },
        {
          "output_type": "stream",
          "name": "stderr",
          "text": [
            "\rRunning YOLO:  67%|██████▋   | 335/500 [06:07<02:48,  1.02s/it]"
          ]
        },
        {
          "output_type": "stream",
          "name": "stdout",
          "text": [
            "\n",
            "image 1/1 /content/drive/MyDrive/UCLA/cs 263/final_proj/val2014/COCO_val2014_000000079213.jpg: 640x480 3 persons, 1 chair, 2 couchs, 1 bed, 1 tv, 2 remotes, 62.8ms\n",
            "Speed: 2.4ms preprocess, 62.8ms inference, 1.6ms postprocess per image at shape (1, 3, 640, 480)\n"
          ]
        },
        {
          "output_type": "stream",
          "name": "stderr",
          "text": [
            "\rRunning YOLO:  67%|██████▋   | 336/500 [06:08<02:54,  1.06s/it]"
          ]
        },
        {
          "output_type": "stream",
          "name": "stdout",
          "text": [
            "\n",
            "image 1/1 /content/drive/MyDrive/UCLA/cs 263/final_proj/val2014/COCO_val2014_000000199764.jpg: 448x640 16 persons, 1 bicycle, 1 bench, 2 backpacks, 2 handbags, 1 suitcase, 1 chair, 1 dining table, 72.8ms\n",
            "Speed: 1.6ms preprocess, 72.8ms inference, 1.7ms postprocess per image at shape (1, 3, 448, 640)\n"
          ]
        },
        {
          "output_type": "stream",
          "name": "stderr",
          "text": [
            "\rRunning YOLO:  67%|██████▋   | 337/500 [06:09<02:46,  1.02s/it]"
          ]
        },
        {
          "output_type": "stream",
          "name": "stdout",
          "text": [
            "\n",
            "image 1/1 /content/drive/MyDrive/UCLA/cs 263/final_proj/val2014/COCO_val2014_000000222118.jpg: 448x640 1 person, 1 handbag, 1 suitcase, 1 cell phone, 71.5ms\n",
            "Speed: 1.7ms preprocess, 71.5ms inference, 1.9ms postprocess per image at shape (1, 3, 448, 640)\n"
          ]
        },
        {
          "output_type": "stream",
          "name": "stderr",
          "text": [
            "\rRunning YOLO:  68%|██████▊   | 338/500 [06:10<02:39,  1.01it/s]"
          ]
        },
        {
          "output_type": "stream",
          "name": "stdout",
          "text": [
            "\n",
            "image 1/1 /content/drive/MyDrive/UCLA/cs 263/final_proj/val2014/COCO_val2014_000000287305.jpg: 416x640 5 persons, 3 cars, 2 buss, 1 truck, 1 traffic light, 71.4ms\n",
            "Speed: 1.7ms preprocess, 71.4ms inference, 1.5ms postprocess per image at shape (1, 3, 416, 640)\n"
          ]
        },
        {
          "output_type": "stream",
          "name": "stderr",
          "text": [
            "\rRunning YOLO:  68%|██████▊   | 339/500 [06:11<02:36,  1.03it/s]"
          ]
        },
        {
          "output_type": "stream",
          "name": "stdout",
          "text": [
            "\n",
            "image 1/1 /content/drive/MyDrive/UCLA/cs 263/final_proj/val2014/COCO_val2014_000000381895.jpg: 416x640 1 person, 1 teddy bear, 70.4ms\n",
            "Speed: 2.1ms preprocess, 70.4ms inference, 1.8ms postprocess per image at shape (1, 3, 416, 640)\n"
          ]
        },
        {
          "output_type": "stream",
          "name": "stderr",
          "text": [
            "\rRunning YOLO:  68%|██████▊   | 340/500 [06:12<02:50,  1.06s/it]"
          ]
        },
        {
          "output_type": "stream",
          "name": "stdout",
          "text": [
            "\n",
            "image 1/1 /content/drive/MyDrive/UCLA/cs 263/final_proj/val2014/COCO_val2014_000000470699.jpg: 448x640 1 person, 1 dog, 1 surfboard, 73.2ms\n",
            "Speed: 2.4ms preprocess, 73.2ms inference, 1.9ms postprocess per image at shape (1, 3, 448, 640)\n"
          ]
        },
        {
          "output_type": "stream",
          "name": "stderr",
          "text": [
            "\rRunning YOLO:  68%|██████▊   | 341/500 [06:13<02:42,  1.02s/it]"
          ]
        },
        {
          "output_type": "stream",
          "name": "stdout",
          "text": [
            "\n",
            "image 1/1 /content/drive/MyDrive/UCLA/cs 263/final_proj/val2014/COCO_val2014_000000520524.jpg: 480x640 1 bicycle, 2 cars, 1 motorcycle, 1 potted plant, 75.5ms\n",
            "Speed: 1.6ms preprocess, 75.5ms inference, 1.7ms postprocess per image at shape (1, 3, 480, 640)\n"
          ]
        },
        {
          "output_type": "stream",
          "name": "stderr",
          "text": [
            "\rRunning YOLO:  68%|██████▊   | 342/500 [06:14<02:43,  1.04s/it]"
          ]
        },
        {
          "output_type": "stream",
          "name": "stdout",
          "text": [
            "\n",
            "image 1/1 /content/drive/MyDrive/UCLA/cs 263/final_proj/val2014/COCO_val2014_000000044520.jpg: 480x640 2 traffic lights, 1 stop sign, 74.1ms\n",
            "Speed: 2.2ms preprocess, 74.1ms inference, 1.6ms postprocess per image at shape (1, 3, 480, 640)\n"
          ]
        },
        {
          "output_type": "stream",
          "name": "stderr",
          "text": [
            "\rRunning YOLO:  69%|██████▊   | 343/500 [06:15<02:37,  1.00s/it]"
          ]
        },
        {
          "output_type": "stream",
          "name": "stdout",
          "text": [
            "\n",
            "image 1/1 /content/drive/MyDrive/UCLA/cs 263/final_proj/val2014/COCO_val2014_000000209290.jpg: 640x640 1 person, 3 cups, 2 forks, 3 chairs, 1 dining table, 97.8ms\n",
            "Speed: 2.9ms preprocess, 97.8ms inference, 1.6ms postprocess per image at shape (1, 3, 640, 640)\n"
          ]
        },
        {
          "output_type": "stream",
          "name": "stderr",
          "text": [
            "\rRunning YOLO:  69%|██████▉   | 344/500 [06:16<02:39,  1.02s/it]"
          ]
        },
        {
          "output_type": "stream",
          "name": "stdout",
          "text": [
            "\n",
            "image 1/1 /content/drive/MyDrive/UCLA/cs 263/final_proj/val2014/COCO_val2014_000000007795.jpg: 448x640 2 beds, 62.9ms\n",
            "Speed: 2.1ms preprocess, 62.9ms inference, 1.5ms postprocess per image at shape (1, 3, 448, 640)\n"
          ]
        },
        {
          "output_type": "stream",
          "name": "stderr",
          "text": [
            "\rRunning YOLO:  69%|██████▉   | 345/500 [06:17<02:30,  1.03it/s]"
          ]
        },
        {
          "output_type": "stream",
          "name": "stdout",
          "text": [
            "\n",
            "image 1/1 /content/drive/MyDrive/UCLA/cs 263/final_proj/val2014/COCO_val2014_000000245448.jpg: 480x640 5 persons, 5 motorcycles, 1 truck, 75.9ms\n",
            "Speed: 2.0ms preprocess, 75.9ms inference, 2.3ms postprocess per image at shape (1, 3, 480, 640)\n"
          ]
        },
        {
          "output_type": "stream",
          "name": "stderr",
          "text": [
            "\rRunning YOLO:  69%|██████▉   | 346/500 [06:19<02:40,  1.04s/it]"
          ]
        },
        {
          "output_type": "stream",
          "name": "stdout",
          "text": [
            "\n",
            "image 1/1 /content/drive/MyDrive/UCLA/cs 263/final_proj/val2014/COCO_val2014_000000372819.jpg: 448x640 2 persons, 1 bench, 4 dogs, 1 backpack, 72.8ms\n",
            "Speed: 2.2ms preprocess, 72.8ms inference, 1.9ms postprocess per image at shape (1, 3, 448, 640)\n"
          ]
        },
        {
          "output_type": "stream",
          "name": "stderr",
          "text": [
            "\rRunning YOLO:  69%|██████▉   | 347/500 [06:20<02:49,  1.11s/it]"
          ]
        },
        {
          "output_type": "stream",
          "name": "stdout",
          "text": [
            "\n",
            "image 1/1 /content/drive/MyDrive/UCLA/cs 263/final_proj/val2014/COCO_val2014_000000434179.jpg: 480x640 2 persons, 2 cups, 2 spoons, 1 chair, 1 dining table, 75.0ms\n",
            "Speed: 1.6ms preprocess, 75.0ms inference, 2.3ms postprocess per image at shape (1, 3, 480, 640)\n"
          ]
        },
        {
          "output_type": "stream",
          "name": "stderr",
          "text": [
            "\rRunning YOLO:  70%|██████▉   | 348/500 [06:21<02:48,  1.11s/it]"
          ]
        },
        {
          "output_type": "stream",
          "name": "stdout",
          "text": [
            "\n",
            "image 1/1 /content/drive/MyDrive/UCLA/cs 263/final_proj/val2014/COCO_val2014_000000447787.jpg: 640x448 1 person, 1 bottle, 5 carrots, 1 microwave, 72.8ms\n",
            "Speed: 1.6ms preprocess, 72.8ms inference, 1.5ms postprocess per image at shape (1, 3, 640, 448)\n"
          ]
        },
        {
          "output_type": "stream",
          "name": "stderr",
          "text": [
            "\rRunning YOLO:  70%|██████▉   | 349/500 [06:22<02:40,  1.06s/it]"
          ]
        },
        {
          "output_type": "stream",
          "name": "stdout",
          "text": [
            "\n",
            "image 1/1 /content/drive/MyDrive/UCLA/cs 263/final_proj/val2014/COCO_val2014_000000125572.jpg: 448x640 21 persons, 1 bicycle, 1 motorcycle, 4 buss, 2 trucks, 1 traffic light, 1 backpack, 1 handbag, 2 clocks, 72.6ms\n",
            "Speed: 1.6ms preprocess, 72.6ms inference, 1.6ms postprocess per image at shape (1, 3, 448, 640)\n"
          ]
        },
        {
          "output_type": "stream",
          "name": "stderr",
          "text": [
            "\rRunning YOLO:  70%|███████   | 350/500 [06:23<02:44,  1.10s/it]"
          ]
        },
        {
          "output_type": "stream",
          "name": "stdout",
          "text": [
            "\n",
            "image 1/1 /content/drive/MyDrive/UCLA/cs 263/final_proj/val2014/COCO_val2014_000000114710.jpg: 448x640 2 persons, 1 sheep, 1 backpack, 71.5ms\n",
            "Speed: 1.7ms preprocess, 71.5ms inference, 2.0ms postprocess per image at shape (1, 3, 448, 640)\n"
          ]
        },
        {
          "output_type": "stream",
          "name": "stderr",
          "text": [
            "\rRunning YOLO:  70%|███████   | 351/500 [06:24<02:32,  1.02s/it]"
          ]
        },
        {
          "output_type": "stream",
          "name": "stdout",
          "text": [
            "\n",
            "image 1/1 /content/drive/MyDrive/UCLA/cs 263/final_proj/val2014/COCO_val2014_000000511622.jpg: 640x480 1 person, 1 cup, 1 spoon, 3 bowls, 74.9ms\n",
            "Speed: 1.7ms preprocess, 74.9ms inference, 1.5ms postprocess per image at shape (1, 3, 640, 480)\n"
          ]
        },
        {
          "output_type": "stream",
          "name": "stderr",
          "text": [
            "\rRunning YOLO:  70%|███████   | 352/500 [06:25<02:33,  1.04s/it]"
          ]
        },
        {
          "output_type": "stream",
          "name": "stdout",
          "text": [
            "\n",
            "image 1/1 /content/drive/MyDrive/UCLA/cs 263/final_proj/val2014/COCO_val2014_000000538054.jpg: 480x640 2 persons, 2 bananas, 75.0ms\n",
            "Speed: 1.6ms preprocess, 75.0ms inference, 1.5ms postprocess per image at shape (1, 3, 480, 640)\n"
          ]
        },
        {
          "output_type": "stream",
          "name": "stderr",
          "text": [
            "\rRunning YOLO:  71%|███████   | 353/500 [06:26<02:35,  1.06s/it]"
          ]
        },
        {
          "output_type": "stream",
          "name": "stdout",
          "text": [
            "\n",
            "image 1/1 /content/drive/MyDrive/UCLA/cs 263/final_proj/val2014/COCO_val2014_000000328301.jpg: 448x640 2 cars, 1 boat, 1 fire hydrant, 72.6ms\n",
            "Speed: 1.7ms preprocess, 72.6ms inference, 1.7ms postprocess per image at shape (1, 3, 448, 640)\n"
          ]
        },
        {
          "output_type": "stream",
          "name": "stderr",
          "text": [
            "\rRunning YOLO:  71%|███████   | 354/500 [06:27<02:40,  1.10s/it]"
          ]
        },
        {
          "output_type": "stream",
          "name": "stdout",
          "text": [
            "\n",
            "image 1/1 /content/drive/MyDrive/UCLA/cs 263/final_proj/val2014/COCO_val2014_000000482829.jpg: 448x640 2 persons, 1 sports ball, 1 tennis racket, 71.6ms\n",
            "Speed: 1.6ms preprocess, 71.6ms inference, 1.6ms postprocess per image at shape (1, 3, 448, 640)\n"
          ]
        },
        {
          "output_type": "stream",
          "name": "stderr",
          "text": [
            "\rRunning YOLO:  71%|███████   | 355/500 [06:28<02:30,  1.04s/it]"
          ]
        },
        {
          "output_type": "stream",
          "name": "stdout",
          "text": [
            "\n",
            "image 1/1 /content/drive/MyDrive/UCLA/cs 263/final_proj/val2014/COCO_val2014_000000208028.jpg: 448x640 2 persons, 1 keyboard, 71.5ms\n",
            "Speed: 1.6ms preprocess, 71.5ms inference, 1.7ms postprocess per image at shape (1, 3, 448, 640)\n"
          ]
        },
        {
          "output_type": "stream",
          "name": "stderr",
          "text": [
            "\rRunning YOLO:  71%|███████   | 356/500 [06:29<02:24,  1.00s/it]"
          ]
        },
        {
          "output_type": "stream",
          "name": "stdout",
          "text": [
            "\n",
            "image 1/1 /content/drive/MyDrive/UCLA/cs 263/final_proj/val2014/COCO_val2014_000000001171.jpg: 448x640 1 car, 1 train, 1 truck, 71.6ms\n",
            "Speed: 1.6ms preprocess, 71.6ms inference, 1.7ms postprocess per image at shape (1, 3, 448, 640)\n"
          ]
        },
        {
          "output_type": "stream",
          "name": "stderr",
          "text": [
            "\rRunning YOLO:  71%|███████▏  | 357/500 [06:30<02:27,  1.03s/it]"
          ]
        },
        {
          "output_type": "stream",
          "name": "stdout",
          "text": [
            "\n",
            "image 1/1 /content/drive/MyDrive/UCLA/cs 263/final_proj/val2014/COCO_val2014_000000288042.jpg: 480x640 1 person, 1 car, 1 umbrella, 75.2ms\n",
            "Speed: 2.4ms preprocess, 75.2ms inference, 2.0ms postprocess per image at shape (1, 3, 480, 640)\n"
          ]
        },
        {
          "output_type": "stream",
          "name": "stderr",
          "text": [
            "\rRunning YOLO:  72%|███████▏  | 358/500 [06:31<02:22,  1.00s/it]"
          ]
        },
        {
          "output_type": "stream",
          "name": "stdout",
          "text": [
            "\n",
            "image 1/1 /content/drive/MyDrive/UCLA/cs 263/final_proj/val2014/COCO_val2014_000000209755.jpg: 448x640 1 person, 1 spoon, 14 carrots, 1 oven, 72.8ms\n",
            "Speed: 2.1ms preprocess, 72.8ms inference, 1.9ms postprocess per image at shape (1, 3, 448, 640)\n"
          ]
        },
        {
          "output_type": "stream",
          "name": "stderr",
          "text": [
            "\rRunning YOLO:  72%|███████▏  | 359/500 [06:32<02:26,  1.04s/it]"
          ]
        },
        {
          "output_type": "stream",
          "name": "stdout",
          "text": [
            "\n",
            "image 1/1 /content/drive/MyDrive/UCLA/cs 263/final_proj/val2014/COCO_val2014_000000203479.jpg: 480x640 1 person, 1 cup, 2 couchs, 2 teddy bears, 75.0ms\n",
            "Speed: 2.4ms preprocess, 75.0ms inference, 1.6ms postprocess per image at shape (1, 3, 480, 640)\n"
          ]
        },
        {
          "output_type": "stream",
          "name": "stderr",
          "text": [
            "\rRunning YOLO:  72%|███████▏  | 360/500 [06:34<02:57,  1.27s/it]"
          ]
        },
        {
          "output_type": "stream",
          "name": "stdout",
          "text": [
            "\n",
            "image 1/1 /content/drive/MyDrive/UCLA/cs 263/final_proj/val2014/COCO_val2014_000000329717.jpg: 480x640 1 person, 1 suitcase, 74.1ms\n",
            "Speed: 2.3ms preprocess, 74.1ms inference, 2.0ms postprocess per image at shape (1, 3, 480, 640)\n"
          ]
        },
        {
          "output_type": "stream",
          "name": "stderr",
          "text": [
            "\rRunning YOLO:  72%|███████▏  | 361/500 [06:35<02:55,  1.26s/it]"
          ]
        },
        {
          "output_type": "stream",
          "name": "stdout",
          "text": [
            "\n",
            "image 1/1 /content/drive/MyDrive/UCLA/cs 263/final_proj/val2014/COCO_val2014_000000441156.jpg: 480x640 3 persons, 1 elephant, 1 backpack, 1 handbag, 74.1ms\n",
            "Speed: 1.7ms preprocess, 74.1ms inference, 2.1ms postprocess per image at shape (1, 3, 480, 640)\n"
          ]
        },
        {
          "output_type": "stream",
          "name": "stderr",
          "text": [
            "\rRunning YOLO:  72%|███████▏  | 362/500 [06:36<02:44,  1.19s/it]"
          ]
        },
        {
          "output_type": "stream",
          "name": "stdout",
          "text": [
            "\n",
            "image 1/1 /content/drive/MyDrive/UCLA/cs 263/final_proj/val2014/COCO_val2014_000000544456.jpg: 448x640 9 persons, 1 backpack, 1 skis, 75.6ms\n",
            "Speed: 1.7ms preprocess, 75.6ms inference, 1.7ms postprocess per image at shape (1, 3, 448, 640)\n"
          ]
        },
        {
          "output_type": "stream",
          "name": "stderr",
          "text": [
            "\rRunning YOLO:  73%|███████▎  | 363/500 [06:38<02:50,  1.25s/it]"
          ]
        },
        {
          "output_type": "stream",
          "name": "stdout",
          "text": [
            "\n",
            "image 1/1 /content/drive/MyDrive/UCLA/cs 263/final_proj/val2014/COCO_val2014_000000246999.jpg: 480x640 3 chairs, 2 couchs, 3 potted plants, 1 tv, 1 remote, 2 books, 1 clock, 1 vase, 75.6ms\n",
            "Speed: 1.6ms preprocess, 75.6ms inference, 2.8ms postprocess per image at shape (1, 3, 480, 640)\n"
          ]
        },
        {
          "output_type": "stream",
          "name": "stderr",
          "text": [
            "\rRunning YOLO:  73%|███████▎  | 364/500 [06:39<02:44,  1.21s/it]"
          ]
        },
        {
          "output_type": "stream",
          "name": "stdout",
          "text": [
            "\n",
            "image 1/1 /content/drive/MyDrive/UCLA/cs 263/final_proj/val2014/COCO_val2014_000000350898.jpg: 480x640 1 cup, 4 spoons, 1 potted plant, 1 oven, 3 refrigerators, 74.1ms\n",
            "Speed: 1.7ms preprocess, 74.1ms inference, 1.8ms postprocess per image at shape (1, 3, 480, 640)\n"
          ]
        },
        {
          "output_type": "stream",
          "name": "stderr",
          "text": [
            "\rRunning YOLO:  73%|███████▎  | 365/500 [06:40<02:36,  1.16s/it]"
          ]
        },
        {
          "output_type": "stream",
          "name": "stdout",
          "text": [
            "\n",
            "image 1/1 /content/drive/MyDrive/UCLA/cs 263/final_proj/val2014/COCO_val2014_000000170077.jpg: 640x480 3 persons, 1 umbrella, 1 wine glass, 1 chair, 1 dining table, 75.2ms\n",
            "Speed: 1.7ms preprocess, 75.2ms inference, 1.7ms postprocess per image at shape (1, 3, 640, 480)\n"
          ]
        },
        {
          "output_type": "stream",
          "name": "stderr",
          "text": [
            "\rRunning YOLO:  73%|███████▎  | 366/500 [06:41<02:30,  1.13s/it]"
          ]
        },
        {
          "output_type": "stream",
          "name": "stdout",
          "text": [
            "\n",
            "image 1/1 /content/drive/MyDrive/UCLA/cs 263/final_proj/val2014/COCO_val2014_000000017379.jpg: 640x480 1 person, 1 tv, 3 sinks, 73.9ms\n",
            "Speed: 1.7ms preprocess, 73.9ms inference, 1.8ms postprocess per image at shape (1, 3, 640, 480)\n"
          ]
        },
        {
          "output_type": "stream",
          "name": "stderr",
          "text": [
            "\rRunning YOLO:  73%|███████▎  | 367/500 [06:42<02:23,  1.08s/it]"
          ]
        },
        {
          "output_type": "stream",
          "name": "stdout",
          "text": [
            "\n",
            "image 1/1 /content/drive/MyDrive/UCLA/cs 263/final_proj/val2014/COCO_val2014_000000091954.jpg: 480x640 1 train, 75.5ms\n",
            "Speed: 1.7ms preprocess, 75.5ms inference, 2.4ms postprocess per image at shape (1, 3, 480, 640)\n"
          ]
        },
        {
          "output_type": "stream",
          "name": "stderr",
          "text": [
            "\rRunning YOLO:  74%|███████▎  | 368/500 [06:43<02:18,  1.05s/it]"
          ]
        },
        {
          "output_type": "stream",
          "name": "stdout",
          "text": [
            "\n",
            "image 1/1 /content/drive/MyDrive/UCLA/cs 263/final_proj/val2014/COCO_val2014_000000374061.jpg: 480x640 3 cats, 1 bed, 74.2ms\n",
            "Speed: 3.5ms preprocess, 74.2ms inference, 2.1ms postprocess per image at shape (1, 3, 480, 640)\n"
          ]
        },
        {
          "output_type": "stream",
          "name": "stderr",
          "text": [
            "\rRunning YOLO:  74%|███████▍  | 369/500 [06:44<02:16,  1.04s/it]"
          ]
        },
        {
          "output_type": "stream",
          "name": "stdout",
          "text": [
            "\n",
            "image 1/1 /content/drive/MyDrive/UCLA/cs 263/final_proj/val2014/COCO_val2014_000000291936.jpg: 480x640 4 persons, 1 bicycle, 1 umbrella, 1 book, 74.1ms\n",
            "Speed: 1.7ms preprocess, 74.1ms inference, 1.8ms postprocess per image at shape (1, 3, 480, 640)\n"
          ]
        },
        {
          "output_type": "stream",
          "name": "stderr",
          "text": [
            "\rRunning YOLO:  74%|███████▍  | 370/500 [06:45<02:27,  1.14s/it]"
          ]
        },
        {
          "output_type": "stream",
          "name": "stdout",
          "text": [
            "\n",
            "image 1/1 /content/drive/MyDrive/UCLA/cs 263/final_proj/val2014/COCO_val2014_000000372817.jpg: 448x640 7 persons, 3 cars, 4 umbrellas, 3 handbags, 72.8ms\n",
            "Speed: 1.6ms preprocess, 72.8ms inference, 2.3ms postprocess per image at shape (1, 3, 448, 640)\n"
          ]
        },
        {
          "output_type": "stream",
          "name": "stderr",
          "text": [
            "\rRunning YOLO:  74%|███████▍  | 371/500 [06:46<02:28,  1.15s/it]"
          ]
        },
        {
          "output_type": "stream",
          "name": "stdout",
          "text": [
            "\n",
            "image 1/1 /content/drive/MyDrive/UCLA/cs 263/final_proj/val2014/COCO_val2014_000000238691.jpg: 480x640 6 persons, 3 handbags, 3 suitcases, 1 tv, 75.5ms\n",
            "Speed: 2.3ms preprocess, 75.5ms inference, 2.0ms postprocess per image at shape (1, 3, 480, 640)\n"
          ]
        },
        {
          "output_type": "stream",
          "name": "stderr",
          "text": [
            "\rRunning YOLO:  74%|███████▍  | 372/500 [06:47<02:23,  1.12s/it]"
          ]
        },
        {
          "output_type": "stream",
          "name": "stdout",
          "text": [
            "\n",
            "image 1/1 /content/drive/MyDrive/UCLA/cs 263/final_proj/val2014/COCO_val2014_000000370900.jpg: 480x640 1 book, 3 teddy bears, 74.2ms\n",
            "Speed: 1.9ms preprocess, 74.2ms inference, 2.6ms postprocess per image at shape (1, 3, 480, 640)\n"
          ]
        },
        {
          "output_type": "stream",
          "name": "stderr",
          "text": [
            "\rRunning YOLO:  75%|███████▍  | 373/500 [06:49<02:20,  1.11s/it]"
          ]
        },
        {
          "output_type": "stream",
          "name": "stdout",
          "text": [
            "\n",
            "image 1/1 /content/drive/MyDrive/UCLA/cs 263/final_proj/val2014/COCO_val2014_000000343401.jpg: 640x480 2 persons, 1 dog, 2 horses, 74.9ms\n",
            "Speed: 2.2ms preprocess, 74.9ms inference, 1.6ms postprocess per image at shape (1, 3, 640, 480)\n"
          ]
        },
        {
          "output_type": "stream",
          "name": "stderr",
          "text": [
            "\rRunning YOLO:  75%|███████▍  | 374/500 [06:50<02:20,  1.12s/it]"
          ]
        },
        {
          "output_type": "stream",
          "name": "stdout",
          "text": [
            "\n",
            "image 1/1 /content/drive/MyDrive/UCLA/cs 263/final_proj/val2014/COCO_val2014_000000117527.jpg: 448x640 18 persons, 3 bottles, 5 cups, 1 knife, 1 bowl, 2 chairs, 1 dining table, 72.5ms\n",
            "Speed: 1.6ms preprocess, 72.5ms inference, 1.6ms postprocess per image at shape (1, 3, 448, 640)\n"
          ]
        },
        {
          "output_type": "stream",
          "name": "stderr",
          "text": [
            "\rRunning YOLO:  75%|███████▌  | 375/500 [06:51<02:16,  1.09s/it]"
          ]
        },
        {
          "output_type": "stream",
          "name": "stdout",
          "text": [
            "\n",
            "image 1/1 /content/drive/MyDrive/UCLA/cs 263/final_proj/val2014/COCO_val2014_000000196053.jpg: 640x448 1 person, 1 sports ball, 1 tennis racket, 72.7ms\n",
            "Speed: 2.2ms preprocess, 72.7ms inference, 1.7ms postprocess per image at shape (1, 3, 640, 448)\n"
          ]
        },
        {
          "output_type": "stream",
          "name": "stderr",
          "text": [
            "\rRunning YOLO:  75%|███████▌  | 376/500 [06:52<02:10,  1.05s/it]"
          ]
        },
        {
          "output_type": "stream",
          "name": "stdout",
          "text": [
            "\n",
            "image 1/1 /content/drive/MyDrive/UCLA/cs 263/final_proj/val2014/COCO_val2014_000000463542.jpg: 448x640 17 persons, 9 skiss, 74.5ms\n",
            "Speed: 1.7ms preprocess, 74.5ms inference, 1.6ms postprocess per image at shape (1, 3, 448, 640)\n"
          ]
        },
        {
          "output_type": "stream",
          "name": "stderr",
          "text": [
            "\rRunning YOLO:  75%|███████▌  | 377/500 [06:53<02:13,  1.09s/it]"
          ]
        },
        {
          "output_type": "stream",
          "name": "stdout",
          "text": [
            "\n",
            "image 1/1 /content/drive/MyDrive/UCLA/cs 263/final_proj/val2014/COCO_val2014_000000243158.jpg: 480x640 1 bottle, 2 couchs, 75.1ms\n",
            "Speed: 1.8ms preprocess, 75.1ms inference, 1.6ms postprocess per image at shape (1, 3, 480, 640)\n"
          ]
        },
        {
          "output_type": "stream",
          "name": "stderr",
          "text": [
            "\rRunning YOLO:  76%|███████▌  | 378/500 [06:54<02:10,  1.07s/it]"
          ]
        },
        {
          "output_type": "stream",
          "name": "stdout",
          "text": [
            "\n",
            "image 1/1 /content/drive/MyDrive/UCLA/cs 263/final_proj/val2014/COCO_val2014_000000387098.jpg: 480x640 1 bottle, 3 cups, 2 tvs, 1 laptop, 1 mouse, 1 remote, 1 keyboard, 1 book, 74.1ms\n",
            "Speed: 1.8ms preprocess, 74.1ms inference, 1.6ms postprocess per image at shape (1, 3, 480, 640)\n"
          ]
        },
        {
          "output_type": "stream",
          "name": "stderr",
          "text": [
            "\rRunning YOLO:  76%|███████▌  | 379/500 [06:55<02:05,  1.04s/it]"
          ]
        },
        {
          "output_type": "stream",
          "name": "stdout",
          "text": [
            "\n",
            "image 1/1 /content/drive/MyDrive/UCLA/cs 263/final_proj/val2014/COCO_val2014_000000153300.jpg: 512x640 2 persons, 1 bottle, 1 cup, 3 forks, 2 knifes, 2 spoons, 2 bowls, 2 cakes, 1 dining table, 75.2ms\n",
            "Speed: 2.7ms preprocess, 75.2ms inference, 1.9ms postprocess per image at shape (1, 3, 512, 640)\n"
          ]
        },
        {
          "output_type": "stream",
          "name": "stderr",
          "text": [
            "\rRunning YOLO:  76%|███████▌  | 380/500 [06:56<02:09,  1.08s/it]"
          ]
        },
        {
          "output_type": "stream",
          "name": "stdout",
          "text": [
            "\n",
            "image 1/1 /content/drive/MyDrive/UCLA/cs 263/final_proj/val2014/COCO_val2014_000000557016.jpg: 512x640 7 persons, 1 car, 1 motorcycle, 6 cows, 74.0ms\n",
            "Speed: 2.5ms preprocess, 74.0ms inference, 2.4ms postprocess per image at shape (1, 3, 512, 640)\n"
          ]
        },
        {
          "output_type": "stream",
          "name": "stderr",
          "text": [
            "\rRunning YOLO:  76%|███████▌  | 381/500 [06:57<02:08,  1.08s/it]"
          ]
        },
        {
          "output_type": "stream",
          "name": "stdout",
          "text": [
            "\n",
            "image 1/1 /content/drive/MyDrive/UCLA/cs 263/final_proj/val2014/COCO_val2014_000000302405.jpg: 480x640 4 persons, 3 backpacks, 5 snowboards, 75.0ms\n",
            "Speed: 2.4ms preprocess, 75.0ms inference, 1.6ms postprocess per image at shape (1, 3, 480, 640)\n"
          ]
        },
        {
          "output_type": "stream",
          "name": "stderr",
          "text": [
            "\rRunning YOLO:  76%|███████▋  | 382/500 [06:58<02:04,  1.06s/it]"
          ]
        },
        {
          "output_type": "stream",
          "name": "stdout",
          "text": [
            "\n",
            "image 1/1 /content/drive/MyDrive/UCLA/cs 263/final_proj/val2014/COCO_val2014_000000040361.jpg: 640x416 1 person, 1 baseball bat, 72.0ms\n",
            "Speed: 2.2ms preprocess, 72.0ms inference, 1.6ms postprocess per image at shape (1, 3, 640, 416)\n"
          ]
        },
        {
          "output_type": "stream",
          "name": "stderr",
          "text": [
            "\rRunning YOLO:  77%|███████▋  | 383/500 [06:59<01:57,  1.00s/it]"
          ]
        },
        {
          "output_type": "stream",
          "name": "stdout",
          "text": [
            "\n",
            "image 1/1 /content/drive/MyDrive/UCLA/cs 263/final_proj/val2014/COCO_val2014_000000498374.jpg: 640x480 1 person, 1 toilet, 1 sink, 74.8ms\n",
            "Speed: 1.9ms preprocess, 74.8ms inference, 1.5ms postprocess per image at shape (1, 3, 640, 480)\n"
          ]
        },
        {
          "output_type": "stream",
          "name": "stderr",
          "text": [
            "\rRunning YOLO:  77%|███████▋  | 384/500 [07:00<01:52,  1.03it/s]"
          ]
        },
        {
          "output_type": "stream",
          "name": "stdout",
          "text": [
            "\n",
            "image 1/1 /content/drive/MyDrive/UCLA/cs 263/final_proj/val2014/COCO_val2014_000000211674.jpg: 416x640 15 persons, 1 car, 1 bus, 1 potted plant, 71.8ms\n",
            "Speed: 1.5ms preprocess, 71.8ms inference, 1.7ms postprocess per image at shape (1, 3, 416, 640)\n"
          ]
        },
        {
          "output_type": "stream",
          "name": "stderr",
          "text": [
            "\rRunning YOLO:  77%|███████▋  | 385/500 [07:01<01:49,  1.05it/s]"
          ]
        },
        {
          "output_type": "stream",
          "name": "stdout",
          "text": [
            "\n",
            "image 1/1 /content/drive/MyDrive/UCLA/cs 263/final_proj/val2014/COCO_val2014_000000238029.jpg: 480x640 2 wine glasss, 1 fork, 1 knife, 1 pizza, 1 dining table, 75.2ms\n",
            "Speed: 2.3ms preprocess, 75.2ms inference, 1.7ms postprocess per image at shape (1, 3, 480, 640)\n"
          ]
        },
        {
          "output_type": "stream",
          "name": "stderr",
          "text": [
            "\rRunning YOLO:  77%|███████▋  | 386/500 [07:02<01:50,  1.03it/s]"
          ]
        },
        {
          "output_type": "stream",
          "name": "stdout",
          "text": [
            "\n",
            "image 1/1 /content/drive/MyDrive/UCLA/cs 263/final_proj/val2014/COCO_val2014_000000294475.jpg: 512x640 1 motorcycle, 1 bottle, 2 cups, 1 knife, 1 pizza, 1 chair, 4 potted plants, 1 dining table, 74.7ms\n",
            "Speed: 1.7ms preprocess, 74.7ms inference, 1.7ms postprocess per image at shape (1, 3, 512, 640)\n"
          ]
        },
        {
          "output_type": "stream",
          "name": "stderr",
          "text": [
            "\rRunning YOLO:  77%|███████▋  | 387/500 [07:03<01:53,  1.01s/it]"
          ]
        },
        {
          "output_type": "stream",
          "name": "stdout",
          "text": [
            "\n",
            "image 1/1 /content/drive/MyDrive/UCLA/cs 263/final_proj/val2014/COCO_val2014_000000458338.jpg: 448x640 6 persons, 4 cars, 2 traffic lights, 1 clock, 72.5ms\n",
            "Speed: 2.2ms preprocess, 72.5ms inference, 1.6ms postprocess per image at shape (1, 3, 448, 640)\n"
          ]
        },
        {
          "output_type": "stream",
          "name": "stderr",
          "text": [
            "\rRunning YOLO:  78%|███████▊  | 388/500 [07:04<01:48,  1.04it/s]"
          ]
        },
        {
          "output_type": "stream",
          "name": "stdout",
          "text": [
            "\n",
            "image 1/1 /content/drive/MyDrive/UCLA/cs 263/final_proj/val2014/COCO_val2014_000000186709.jpg: 640x480 1 car, 1 truck, 3 apples, 5 oranges, 74.8ms\n",
            "Speed: 1.8ms preprocess, 74.8ms inference, 1.6ms postprocess per image at shape (1, 3, 640, 480)\n"
          ]
        },
        {
          "output_type": "stream",
          "name": "stderr",
          "text": [
            "\rRunning YOLO:  78%|███████▊  | 389/500 [07:05<01:47,  1.03it/s]"
          ]
        },
        {
          "output_type": "stream",
          "name": "stdout",
          "text": [
            "\n",
            "image 1/1 /content/drive/MyDrive/UCLA/cs 263/final_proj/val2014/COCO_val2014_000000286342.jpg: 448x640 1 mouse, 1 keyboard, 72.5ms\n",
            "Speed: 1.6ms preprocess, 72.5ms inference, 1.5ms postprocess per image at shape (1, 3, 448, 640)\n"
          ]
        },
        {
          "output_type": "stream",
          "name": "stderr",
          "text": [
            "\rRunning YOLO:  78%|███████▊  | 390/500 [07:06<01:55,  1.05s/it]"
          ]
        },
        {
          "output_type": "stream",
          "name": "stdout",
          "text": [
            "\n",
            "image 1/1 /content/drive/MyDrive/UCLA/cs 263/final_proj/val2014/COCO_val2014_000000510138.jpg: 640x640 1 person, 1 bottle, 1 wine glass, 1 chair, 2 couchs, 1 dining table, 1 laptop, 1 cell phone, 97.6ms\n",
            "Speed: 2.0ms preprocess, 97.6ms inference, 1.5ms postprocess per image at shape (1, 3, 640, 640)\n"
          ]
        },
        {
          "output_type": "stream",
          "name": "stderr",
          "text": [
            "\rRunning YOLO:  78%|███████▊  | 391/500 [07:07<01:48,  1.00it/s]"
          ]
        },
        {
          "output_type": "stream",
          "name": "stdout",
          "text": [
            "\n",
            "image 1/1 /content/drive/MyDrive/UCLA/cs 263/final_proj/val2014/COCO_val2014_000000295377.jpg: 480x640 1 person, 1 skis, 75.3ms\n",
            "Speed: 2.4ms preprocess, 75.3ms inference, 2.1ms postprocess per image at shape (1, 3, 480, 640)\n"
          ]
        },
        {
          "output_type": "stream",
          "name": "stderr",
          "text": [
            "\rRunning YOLO:  78%|███████▊  | 392/500 [07:08<01:52,  1.04s/it]"
          ]
        },
        {
          "output_type": "stream",
          "name": "stdout",
          "text": [
            "\n",
            "image 1/1 /content/drive/MyDrive/UCLA/cs 263/final_proj/val2014/COCO_val2014_000000455157.jpg: 640x640 3 persons, 5 benchs, 1 backpack, 1 umbrella, 1 dining table, 98.1ms\n",
            "Speed: 2.8ms preprocess, 98.1ms inference, 2.3ms postprocess per image at shape (1, 3, 640, 640)\n"
          ]
        },
        {
          "output_type": "stream",
          "name": "stderr",
          "text": [
            "\rRunning YOLO:  79%|███████▊  | 393/500 [07:09<01:53,  1.06s/it]"
          ]
        },
        {
          "output_type": "stream",
          "name": "stdout",
          "text": [
            "\n",
            "image 1/1 /content/drive/MyDrive/UCLA/cs 263/final_proj/val2014/COCO_val2014_000000525667.jpg: 480x640 8 persons, 4 bicycles, 1 bench, 62.8ms\n",
            "Speed: 1.6ms preprocess, 62.8ms inference, 1.5ms postprocess per image at shape (1, 3, 480, 640)\n"
          ]
        },
        {
          "output_type": "stream",
          "name": "stderr",
          "text": [
            "\rRunning YOLO:  79%|███████▉  | 394/500 [07:10<01:48,  1.02s/it]"
          ]
        },
        {
          "output_type": "stream",
          "name": "stdout",
          "text": [
            "\n",
            "image 1/1 /content/drive/MyDrive/UCLA/cs 263/final_proj/val2014/COCO_val2014_000000303534.jpg: 448x640 1 backpack, 1 handbag, 1 cup, 2 chairs, 1 bed, 1 tv, 1 book, 60.7ms\n",
            "Speed: 1.7ms preprocess, 60.7ms inference, 1.9ms postprocess per image at shape (1, 3, 448, 640)\n"
          ]
        },
        {
          "output_type": "stream",
          "name": "stderr",
          "text": [
            "\rRunning YOLO:  79%|███████▉  | 395/500 [07:11<01:43,  1.01it/s]"
          ]
        },
        {
          "output_type": "stream",
          "name": "stdout",
          "text": [
            "\n",
            "image 1/1 /content/drive/MyDrive/UCLA/cs 263/final_proj/val2014/COCO_val2014_000000408757.jpg: 640x384 2 persons, 2 kites, 64.0ms\n",
            "Speed: 1.6ms preprocess, 64.0ms inference, 1.7ms postprocess per image at shape (1, 3, 640, 384)\n"
          ]
        },
        {
          "output_type": "stream",
          "name": "stderr",
          "text": [
            "\rRunning YOLO:  79%|███████▉  | 396/500 [07:12<01:40,  1.03it/s]"
          ]
        },
        {
          "output_type": "stream",
          "name": "stdout",
          "text": [
            "\n",
            "image 1/1 /content/drive/MyDrive/UCLA/cs 263/final_proj/val2014/COCO_val2014_000000034773.jpg: 640x480 1 dog, 1 couch, 74.8ms\n",
            "Speed: 3.5ms preprocess, 74.8ms inference, 1.6ms postprocess per image at shape (1, 3, 640, 480)\n"
          ]
        },
        {
          "output_type": "stream",
          "name": "stderr",
          "text": [
            "\rRunning YOLO:  79%|███████▉  | 397/500 [07:13<01:38,  1.05it/s]"
          ]
        },
        {
          "output_type": "stream",
          "name": "stdout",
          "text": [
            "\n",
            "image 1/1 /content/drive/MyDrive/UCLA/cs 263/final_proj/val2014/COCO_val2014_000000383185.jpg: 448x640 7 bottles, 4 cups, 1 spoon, 1 bowl, 1 banana, 72.6ms\n",
            "Speed: 2.4ms preprocess, 72.6ms inference, 1.6ms postprocess per image at shape (1, 3, 448, 640)\n"
          ]
        },
        {
          "output_type": "stream",
          "name": "stderr",
          "text": [
            "\rRunning YOLO:  80%|███████▉  | 398/500 [07:14<01:45,  1.03s/it]"
          ]
        },
        {
          "output_type": "stream",
          "name": "stdout",
          "text": [
            "\n",
            "image 1/1 /content/drive/MyDrive/UCLA/cs 263/final_proj/val2014/COCO_val2014_000000021645.jpg: 480x640 5 chairs, 1 couch, 1 dining table, 1 book, 75.5ms\n",
            "Speed: 2.3ms preprocess, 75.5ms inference, 1.6ms postprocess per image at shape (1, 3, 480, 640)\n"
          ]
        },
        {
          "output_type": "stream",
          "name": "stderr",
          "text": [
            "\rRunning YOLO:  80%|███████▉  | 399/500 [07:15<01:48,  1.07s/it]"
          ]
        },
        {
          "output_type": "stream",
          "name": "stdout",
          "text": [
            "\n",
            "image 1/1 /content/drive/MyDrive/UCLA/cs 263/final_proj/val2014/COCO_val2014_000000534516.jpg: 448x640 12 persons, 1 traffic light, 1 tie, 72.6ms\n",
            "Speed: 1.7ms preprocess, 72.6ms inference, 1.6ms postprocess per image at shape (1, 3, 448, 640)\n"
          ]
        },
        {
          "output_type": "stream",
          "name": "stderr",
          "text": [
            "\rRunning YOLO:  80%|████████  | 400/500 [07:16<01:49,  1.10s/it]"
          ]
        },
        {
          "output_type": "stream",
          "name": "stdout",
          "text": [
            "\n",
            "image 1/1 /content/drive/MyDrive/UCLA/cs 263/final_proj/val2014/COCO_val2014_000000218224.jpg: 384x640 1 airplane, 1 truck, 64.1ms\n",
            "Speed: 1.5ms preprocess, 64.1ms inference, 1.7ms postprocess per image at shape (1, 3, 384, 640)\n"
          ]
        },
        {
          "output_type": "stream",
          "name": "stderr",
          "text": [
            "\rRunning YOLO:  80%|████████  | 401/500 [07:17<01:47,  1.09s/it]"
          ]
        },
        {
          "output_type": "stream",
          "name": "stdout",
          "text": [
            "\n",
            "image 1/1 /content/drive/MyDrive/UCLA/cs 263/final_proj/val2014/COCO_val2014_000000140983.jpg: 480x640 1 person, 2 couchs, 1 bed, 1 toothbrush, 75.1ms\n",
            "Speed: 2.4ms preprocess, 75.1ms inference, 1.6ms postprocess per image at shape (1, 3, 480, 640)\n"
          ]
        },
        {
          "output_type": "stream",
          "name": "stderr",
          "text": [
            "\rRunning YOLO:  80%|████████  | 402/500 [07:18<01:41,  1.04s/it]"
          ]
        },
        {
          "output_type": "stream",
          "name": "stdout",
          "text": [
            "\n",
            "image 1/1 /content/drive/MyDrive/UCLA/cs 263/final_proj/val2014/COCO_val2014_000000314992.jpg: 640x448 1 person, 1 handbag, 1 cell phone, 73.2ms\n",
            "Speed: 2.2ms preprocess, 73.2ms inference, 1.9ms postprocess per image at shape (1, 3, 640, 448)\n"
          ]
        },
        {
          "output_type": "stream",
          "name": "stderr",
          "text": [
            "\rRunning YOLO:  81%|████████  | 403/500 [07:20<01:52,  1.16s/it]"
          ]
        },
        {
          "output_type": "stream",
          "name": "stdout",
          "text": [
            "\n",
            "image 1/1 /content/drive/MyDrive/UCLA/cs 263/final_proj/val2014/COCO_val2014_000000574454.jpg: 448x640 2 persons, 3 kites, 2 surfboards, 74.5ms\n",
            "Speed: 2.1ms preprocess, 74.5ms inference, 2.2ms postprocess per image at shape (1, 3, 448, 640)\n"
          ]
        },
        {
          "output_type": "stream",
          "name": "stderr",
          "text": [
            "\rRunning YOLO:  81%|████████  | 404/500 [07:21<01:50,  1.15s/it]"
          ]
        },
        {
          "output_type": "stream",
          "name": "stdout",
          "text": [
            "\n",
            "image 1/1 /content/drive/MyDrive/UCLA/cs 263/final_proj/val2014/COCO_val2014_000000472143.jpg: 640x640 12 persons, 1 car, 1 bench, 1 bird, 3 backpacks, 2 handbags, 3 chairs, 1 dining table, 97.9ms\n",
            "Speed: 2.2ms preprocess, 97.9ms inference, 1.7ms postprocess per image at shape (1, 3, 640, 640)\n"
          ]
        },
        {
          "output_type": "stream",
          "name": "stderr",
          "text": [
            "\rRunning YOLO:  81%|████████  | 405/500 [07:22<01:47,  1.14s/it]"
          ]
        },
        {
          "output_type": "stream",
          "name": "stdout",
          "text": [
            "\n",
            "image 1/1 /content/drive/MyDrive/UCLA/cs 263/final_proj/val2014/COCO_val2014_000000147289.jpg: 640x640 5 cars, 1 fire hydrant, 1 stop sign, 80.9ms\n",
            "Speed: 3.2ms preprocess, 80.9ms inference, 1.6ms postprocess per image at shape (1, 3, 640, 640)\n"
          ]
        },
        {
          "output_type": "stream",
          "name": "stderr",
          "text": [
            "\rRunning YOLO:  81%|████████  | 406/500 [07:23<01:45,  1.12s/it]"
          ]
        },
        {
          "output_type": "stream",
          "name": "stdout",
          "text": [
            "\n",
            "image 1/1 /content/drive/MyDrive/UCLA/cs 263/final_proj/val2014/COCO_val2014_000000263594.jpg: 512x640 9 cars, 1 bird, 75.1ms\n",
            "Speed: 2.6ms preprocess, 75.1ms inference, 1.7ms postprocess per image at shape (1, 3, 512, 640)\n"
          ]
        },
        {
          "output_type": "stream",
          "name": "stderr",
          "text": [
            "\rRunning YOLO:  81%|████████▏ | 407/500 [07:24<01:52,  1.21s/it]"
          ]
        },
        {
          "output_type": "stream",
          "name": "stdout",
          "text": [
            "\n",
            "image 1/1 /content/drive/MyDrive/UCLA/cs 263/final_proj/val2014/COCO_val2014_000000397705.jpg: 480x640 1 person, 4 cats, 1 bed, 2 books, 75.3ms\n",
            "Speed: 2.4ms preprocess, 75.3ms inference, 1.6ms postprocess per image at shape (1, 3, 480, 640)\n"
          ]
        },
        {
          "output_type": "stream",
          "name": "stderr",
          "text": [
            "\rRunning YOLO:  82%|████████▏ | 408/500 [07:25<01:41,  1.11s/it]"
          ]
        },
        {
          "output_type": "stream",
          "name": "stdout",
          "text": [
            "\n",
            "image 1/1 /content/drive/MyDrive/UCLA/cs 263/final_proj/val2014/COCO_val2014_000000276693.jpg: 448x640 2 persons, 1 dog, 1 skis, 72.5ms\n",
            "Speed: 1.6ms preprocess, 72.5ms inference, 1.5ms postprocess per image at shape (1, 3, 448, 640)\n"
          ]
        },
        {
          "output_type": "stream",
          "name": "stderr",
          "text": [
            "\rRunning YOLO:  82%|████████▏ | 409/500 [07:26<01:42,  1.12s/it]"
          ]
        },
        {
          "output_type": "stream",
          "name": "stdout",
          "text": [
            "\n",
            "image 1/1 /content/drive/MyDrive/UCLA/cs 263/final_proj/val2014/COCO_val2014_000000401398.jpg: 448x640 2 persons, 1 potted plant, 1 vase, 1 teddy bear, 71.5ms\n",
            "Speed: 1.6ms preprocess, 71.5ms inference, 1.8ms postprocess per image at shape (1, 3, 448, 640)\n"
          ]
        },
        {
          "output_type": "stream",
          "name": "stderr",
          "text": [
            "\rRunning YOLO:  82%|████████▏ | 410/500 [07:27<01:33,  1.04s/it]"
          ]
        },
        {
          "output_type": "stream",
          "name": "stdout",
          "text": [
            "\n",
            "image 1/1 /content/drive/MyDrive/UCLA/cs 263/final_proj/val2014/COCO_val2014_000000270609.jpg: 448x640 1 person, 1 cup, 5 oranges, 1 chair, 1 dining table, 1 refrigerator, 71.5ms\n",
            "Speed: 1.7ms preprocess, 71.5ms inference, 1.7ms postprocess per image at shape (1, 3, 448, 640)\n"
          ]
        },
        {
          "output_type": "stream",
          "name": "stderr",
          "text": [
            "\rRunning YOLO:  82%|████████▏ | 411/500 [07:28<01:30,  1.02s/it]"
          ]
        },
        {
          "output_type": "stream",
          "name": "stdout",
          "text": [
            "\n",
            "image 1/1 /content/drive/MyDrive/UCLA/cs 263/final_proj/val2014/COCO_val2014_000000246199.jpg: 640x448 1 banana, 1 orange, 72.6ms\n",
            "Speed: 1.6ms preprocess, 72.6ms inference, 1.6ms postprocess per image at shape (1, 3, 640, 448)\n"
          ]
        },
        {
          "output_type": "stream",
          "name": "stderr",
          "text": [
            "\rRunning YOLO:  82%|████████▏ | 412/500 [07:29<01:26,  1.01it/s]"
          ]
        },
        {
          "output_type": "stream",
          "name": "stdout",
          "text": [
            "\n",
            "image 1/1 /content/drive/MyDrive/UCLA/cs 263/final_proj/val2014/COCO_val2014_000000159969.jpg: 448x640 1 person, 1 backpack, 1 skis, 72.5ms\n",
            "Speed: 1.8ms preprocess, 72.5ms inference, 1.6ms postprocess per image at shape (1, 3, 448, 640)\n"
          ]
        },
        {
          "output_type": "stream",
          "name": "stderr",
          "text": [
            "\rRunning YOLO:  83%|████████▎ | 413/500 [07:30<01:28,  1.02s/it]"
          ]
        },
        {
          "output_type": "stream",
          "name": "stdout",
          "text": [
            "\n",
            "image 1/1 /content/drive/MyDrive/UCLA/cs 263/final_proj/val2014/COCO_val2014_000000575755.jpg: 640x448 1 sandwich, 74.6ms\n",
            "Speed: 1.7ms preprocess, 74.6ms inference, 1.6ms postprocess per image at shape (1, 3, 640, 448)\n"
          ]
        },
        {
          "output_type": "stream",
          "name": "stderr",
          "text": [
            "\rRunning YOLO:  83%|████████▎ | 414/500 [07:32<01:33,  1.08s/it]"
          ]
        },
        {
          "output_type": "stream",
          "name": "stdout",
          "text": [
            "\n",
            "image 1/1 /content/drive/MyDrive/UCLA/cs 263/final_proj/val2014/COCO_val2014_000000112664.jpg: 448x640 2 persons, 1 bench, 1 handbag, 1 tie, 1 suitcase, 73.0ms\n",
            "Speed: 4.8ms preprocess, 73.0ms inference, 2.1ms postprocess per image at shape (1, 3, 448, 640)\n"
          ]
        },
        {
          "output_type": "stream",
          "name": "stderr",
          "text": [
            "\rRunning YOLO:  83%|████████▎ | 415/500 [07:33<01:32,  1.08s/it]"
          ]
        },
        {
          "output_type": "stream",
          "name": "stdout",
          "text": [
            "\n",
            "image 1/1 /content/drive/MyDrive/UCLA/cs 263/final_proj/val2014/COCO_val2014_000000061507.jpg: 480x640 16 persons, 1 backpack, 1 handbag, 1 suitcase, 14 kites, 75.9ms\n",
            "Speed: 2.3ms preprocess, 75.9ms inference, 2.5ms postprocess per image at shape (1, 3, 480, 640)\n"
          ]
        },
        {
          "output_type": "stream",
          "name": "stderr",
          "text": [
            "\rRunning YOLO:  83%|████████▎ | 416/500 [07:34<01:32,  1.11s/it]"
          ]
        },
        {
          "output_type": "stream",
          "name": "stdout",
          "text": [
            "\n",
            "image 1/1 /content/drive/MyDrive/UCLA/cs 263/final_proj/val2014/COCO_val2014_000000257327.jpg: 640x480 3 bottles, 1 toilet, 1 sink, 74.8ms\n",
            "Speed: 2.5ms preprocess, 74.8ms inference, 1.6ms postprocess per image at shape (1, 3, 640, 480)\n"
          ]
        },
        {
          "output_type": "stream",
          "name": "stderr",
          "text": [
            "\rRunning YOLO:  83%|████████▎ | 417/500 [07:35<01:28,  1.07s/it]"
          ]
        },
        {
          "output_type": "stream",
          "name": "stdout",
          "text": [
            "\n",
            "image 1/1 /content/drive/MyDrive/UCLA/cs 263/final_proj/val2014/COCO_val2014_000000141278.jpg: 480x640 1 chair, 1 tv, 1 laptop, 1 mouse, 2 keyboards, 75.0ms\n",
            "Speed: 2.4ms preprocess, 75.0ms inference, 1.5ms postprocess per image at shape (1, 3, 480, 640)\n"
          ]
        },
        {
          "output_type": "stream",
          "name": "stderr",
          "text": [
            "\rRunning YOLO:  84%|████████▎ | 418/500 [07:36<01:29,  1.09s/it]"
          ]
        },
        {
          "output_type": "stream",
          "name": "stdout",
          "text": [
            "\n",
            "image 1/1 /content/drive/MyDrive/UCLA/cs 263/final_proj/val2014/COCO_val2014_000000431615.jpg: 448x640 2 persons, 2 boats, 74.7ms\n",
            "Speed: 1.6ms preprocess, 74.7ms inference, 1.6ms postprocess per image at shape (1, 3, 448, 640)\n"
          ]
        },
        {
          "output_type": "stream",
          "name": "stderr",
          "text": [
            "\rRunning YOLO:  84%|████████▍ | 419/500 [07:37<01:29,  1.10s/it]"
          ]
        },
        {
          "output_type": "stream",
          "name": "stdout",
          "text": [
            "\n",
            "image 1/1 /content/drive/MyDrive/UCLA/cs 263/final_proj/val2014/COCO_val2014_000000394535.jpg: 448x640 9 persons, 2 cars, 1 bus, 1 backpack, 2 handbags, 3 surfboards, 71.5ms\n",
            "Speed: 1.6ms preprocess, 71.5ms inference, 1.8ms postprocess per image at shape (1, 3, 448, 640)\n"
          ]
        },
        {
          "output_type": "stream",
          "name": "stderr",
          "text": [
            "\rRunning YOLO:  84%|████████▍ | 420/500 [07:38<01:27,  1.09s/it]"
          ]
        },
        {
          "output_type": "stream",
          "name": "stdout",
          "text": [
            "\n",
            "image 1/1 /content/drive/MyDrive/UCLA/cs 263/final_proj/val2014/COCO_val2014_000000052689.jpg: 448x640 15 persons, 1 skis, 1 kite, 71.5ms\n",
            "Speed: 1.7ms preprocess, 71.5ms inference, 1.8ms postprocess per image at shape (1, 3, 448, 640)\n"
          ]
        },
        {
          "output_type": "stream",
          "name": "stderr",
          "text": [
            "\rRunning YOLO:  84%|████████▍ | 421/500 [07:39<01:31,  1.16s/it]"
          ]
        },
        {
          "output_type": "stream",
          "name": "stdout",
          "text": [
            "\n",
            "image 1/1 /content/drive/MyDrive/UCLA/cs 263/final_proj/val2014/COCO_val2014_000000501898.jpg: 448x640 1 person, 1 car, 1 bench, 2 sports balls, 1 tennis racket, 71.5ms\n",
            "Speed: 1.7ms preprocess, 71.5ms inference, 1.6ms postprocess per image at shape (1, 3, 448, 640)\n"
          ]
        },
        {
          "output_type": "stream",
          "name": "stderr",
          "text": [
            "\rRunning YOLO:  84%|████████▍ | 422/500 [07:40<01:23,  1.07s/it]"
          ]
        },
        {
          "output_type": "stream",
          "name": "stdout",
          "text": [
            "\n",
            "image 1/1 /content/drive/MyDrive/UCLA/cs 263/final_proj/val2014/COCO_val2014_000000227227.jpg: 448x640 3 persons, 1 car, 1 dog, 71.5ms\n",
            "Speed: 2.7ms preprocess, 71.5ms inference, 2.4ms postprocess per image at shape (1, 3, 448, 640)\n"
          ]
        },
        {
          "output_type": "stream",
          "name": "stderr",
          "text": [
            "\rRunning YOLO:  85%|████████▍ | 423/500 [07:41<01:22,  1.07s/it]"
          ]
        },
        {
          "output_type": "stream",
          "name": "stdout",
          "text": [
            "\n",
            "image 1/1 /content/drive/MyDrive/UCLA/cs 263/final_proj/val2014/COCO_val2014_000000377879.jpg: 480x640 2 trucks, 75.3ms\n",
            "Speed: 1.7ms preprocess, 75.3ms inference, 1.6ms postprocess per image at shape (1, 3, 480, 640)\n"
          ]
        },
        {
          "output_type": "stream",
          "name": "stderr",
          "text": [
            "\rRunning YOLO:  85%|████████▍ | 424/500 [07:42<01:21,  1.07s/it]"
          ]
        },
        {
          "output_type": "stream",
          "name": "stdout",
          "text": [
            "\n",
            "image 1/1 /content/drive/MyDrive/UCLA/cs 263/final_proj/val2014/COCO_val2014_000000199959.jpg: 384x640 7 persons, 1 train, 1 backpack, 2 handbags, 1 suitcase, 64.0ms\n",
            "Speed: 1.6ms preprocess, 64.0ms inference, 1.6ms postprocess per image at shape (1, 3, 384, 640)\n"
          ]
        },
        {
          "output_type": "stream",
          "name": "stderr",
          "text": [
            "\rRunning YOLO:  85%|████████▌ | 425/500 [07:43<01:17,  1.03s/it]"
          ]
        },
        {
          "output_type": "stream",
          "name": "stdout",
          "text": [
            "\n",
            "image 1/1 /content/drive/MyDrive/UCLA/cs 263/final_proj/val2014/COCO_val2014_000000312406.jpg: 480x640 2 cups, 1 spoon, 1 banana, 1 dining table, 81.2ms\n",
            "Speed: 2.2ms preprocess, 81.2ms inference, 3.0ms postprocess per image at shape (1, 3, 480, 640)\n"
          ]
        },
        {
          "output_type": "stream",
          "name": "stderr",
          "text": [
            "\rRunning YOLO:  85%|████████▌ | 426/500 [07:44<01:18,  1.06s/it]"
          ]
        },
        {
          "output_type": "stream",
          "name": "stdout",
          "text": [
            "\n",
            "image 1/1 /content/drive/MyDrive/UCLA/cs 263/final_proj/val2014/COCO_val2014_000000569839.jpg: 640x448 1 person, 2 cups, 1 hot dog, 1 chair, 2 dining tables, 73.6ms\n",
            "Speed: 2.7ms preprocess, 73.6ms inference, 2.3ms postprocess per image at shape (1, 3, 640, 448)\n"
          ]
        },
        {
          "output_type": "stream",
          "name": "stderr",
          "text": [
            "\rRunning YOLO:  85%|████████▌ | 427/500 [07:46<01:19,  1.09s/it]"
          ]
        },
        {
          "output_type": "stream",
          "name": "stdout",
          "text": [
            "\n",
            "image 1/1 /content/drive/MyDrive/UCLA/cs 263/final_proj/val2014/COCO_val2014_000000354229.jpg: 544x640 3 persons, 5 cars, 1 bus, 89.8ms\n",
            "Speed: 1.9ms preprocess, 89.8ms inference, 1.6ms postprocess per image at shape (1, 3, 544, 640)\n"
          ]
        },
        {
          "output_type": "stream",
          "name": "stderr",
          "text": [
            "\rRunning YOLO:  86%|████████▌ | 428/500 [07:47<01:25,  1.19s/it]"
          ]
        },
        {
          "output_type": "stream",
          "name": "stdout",
          "text": [
            "\n",
            "image 1/1 /content/drive/MyDrive/UCLA/cs 263/final_proj/val2014/COCO_val2014_000000526368.jpg: 480x640 2 chairs, 1 dining table, 1 laptop, 1 book, 67.7ms\n",
            "Speed: 1.7ms preprocess, 67.7ms inference, 1.6ms postprocess per image at shape (1, 3, 480, 640)\n"
          ]
        },
        {
          "output_type": "stream",
          "name": "stderr",
          "text": [
            "\rRunning YOLO:  86%|████████▌ | 429/500 [07:48<01:16,  1.08s/it]"
          ]
        },
        {
          "output_type": "stream",
          "name": "stdout",
          "text": [
            "\n",
            "image 1/1 /content/drive/MyDrive/UCLA/cs 263/final_proj/val2014/COCO_val2014_000000311759.jpg: 544x640 1 teddy bear, 80.6ms\n",
            "Speed: 2.0ms preprocess, 80.6ms inference, 1.7ms postprocess per image at shape (1, 3, 544, 640)\n"
          ]
        },
        {
          "output_type": "stream",
          "name": "stderr",
          "text": [
            "\rRunning YOLO:  86%|████████▌ | 430/500 [07:49<01:10,  1.01s/it]"
          ]
        },
        {
          "output_type": "stream",
          "name": "stdout",
          "text": [
            "\n",
            "image 1/1 /content/drive/MyDrive/UCLA/cs 263/final_proj/val2014/COCO_val2014_000000573796.jpg: 640x448 2 knifes, 1 apple, 1 dining table, 73.1ms\n",
            "Speed: 1.8ms preprocess, 73.1ms inference, 1.7ms postprocess per image at shape (1, 3, 640, 448)\n"
          ]
        },
        {
          "output_type": "stream",
          "name": "stderr",
          "text": [
            "\rRunning YOLO:  86%|████████▌ | 431/500 [07:50<01:08,  1.01it/s]"
          ]
        },
        {
          "output_type": "stream",
          "name": "stdout",
          "text": [
            "\n",
            "image 1/1 /content/drive/MyDrive/UCLA/cs 263/final_proj/val2014/COCO_val2014_000000301575.jpg: 544x640 1 person, 1 cat, 1 chair, 1 potted plant, 3 tvs, 1 book, 89.6ms\n",
            "Speed: 2.2ms preprocess, 89.6ms inference, 1.7ms postprocess per image at shape (1, 3, 544, 640)\n"
          ]
        },
        {
          "output_type": "stream",
          "name": "stderr",
          "text": [
            "\rRunning YOLO:  86%|████████▋ | 432/500 [07:51<01:13,  1.08s/it]"
          ]
        },
        {
          "output_type": "stream",
          "name": "stdout",
          "text": [
            "\n",
            "image 1/1 /content/drive/MyDrive/UCLA/cs 263/final_proj/val2014/COCO_val2014_000000094944.jpg: 448x640 3 persons, 2 skiss, 1 snowboard, 65.4ms\n",
            "Speed: 1.5ms preprocess, 65.4ms inference, 1.6ms postprocess per image at shape (1, 3, 448, 640)\n"
          ]
        },
        {
          "output_type": "stream",
          "name": "stderr",
          "text": [
            "\rRunning YOLO:  87%|████████▋ | 433/500 [07:52<01:11,  1.07s/it]"
          ]
        },
        {
          "output_type": "stream",
          "name": "stdout",
          "text": [
            "\n",
            "image 1/1 /content/drive/MyDrive/UCLA/cs 263/final_proj/val2014/COCO_val2014_000000125524.jpg: 448x640 1 person, 1 car, 1 bus, 1 fire hydrant, 70.4ms\n",
            "Speed: 1.5ms preprocess, 70.4ms inference, 1.6ms postprocess per image at shape (1, 3, 448, 640)\n"
          ]
        },
        {
          "output_type": "stream",
          "name": "stderr",
          "text": [
            "\rRunning YOLO:  87%|████████▋ | 434/500 [07:53<01:08,  1.03s/it]"
          ]
        },
        {
          "output_type": "stream",
          "name": "stdout",
          "text": [
            "\n",
            "image 1/1 /content/drive/MyDrive/UCLA/cs 263/final_proj/val2014/COCO_val2014_000000499105.jpg: 640x480 1 person, 1 sports ball, 1 tennis racket, 75.2ms\n",
            "Speed: 2.5ms preprocess, 75.2ms inference, 1.7ms postprocess per image at shape (1, 3, 640, 480)\n"
          ]
        },
        {
          "output_type": "stream",
          "name": "stderr",
          "text": [
            "\rRunning YOLO:  87%|████████▋ | 435/500 [07:54<01:05,  1.01s/it]"
          ]
        },
        {
          "output_type": "stream",
          "name": "stdout",
          "text": [
            "\n",
            "image 1/1 /content/drive/MyDrive/UCLA/cs 263/final_proj/val2014/COCO_val2014_000000575355.jpg: 640x480 1 cup, 1 chair, 1 dining table, 73.9ms\n",
            "Speed: 1.7ms preprocess, 73.9ms inference, 1.7ms postprocess per image at shape (1, 3, 640, 480)\n"
          ]
        },
        {
          "output_type": "stream",
          "name": "stderr",
          "text": [
            "\rRunning YOLO:  87%|████████▋ | 436/500 [07:55<01:06,  1.03s/it]"
          ]
        },
        {
          "output_type": "stream",
          "name": "stdout",
          "text": [
            "\n",
            "image 1/1 /content/drive/MyDrive/UCLA/cs 263/final_proj/val2014/COCO_val2014_000000554002.jpg: 448x640 7 persons, 1 dog, 1 handbag, 72.5ms\n",
            "Speed: 1.6ms preprocess, 72.5ms inference, 1.8ms postprocess per image at shape (1, 3, 448, 640)\n"
          ]
        },
        {
          "output_type": "stream",
          "name": "stderr",
          "text": [
            "\rRunning YOLO:  87%|████████▋ | 437/500 [07:56<01:02,  1.01it/s]"
          ]
        },
        {
          "output_type": "stream",
          "name": "stdout",
          "text": [
            "\n",
            "image 1/1 /content/drive/MyDrive/UCLA/cs 263/final_proj/val2014/COCO_val2014_000000565941.jpg: 480x640 3 persons, 2 bottles, 2 cups, 1 cake, 3 chairs, 1 dining table, 1 cell phone, 1 refrigerator, 77.6ms\n",
            "Speed: 5.6ms preprocess, 77.6ms inference, 2.3ms postprocess per image at shape (1, 3, 480, 640)\n"
          ]
        },
        {
          "output_type": "stream",
          "name": "stderr",
          "text": [
            "\rRunning YOLO:  88%|████████▊ | 438/500 [07:57<01:01,  1.01it/s]"
          ]
        },
        {
          "output_type": "stream",
          "name": "stdout",
          "text": [
            "\n",
            "image 1/1 /content/drive/MyDrive/UCLA/cs 263/final_proj/val2014/COCO_val2014_000000363908.jpg: 448x640 6 persons, 1 sports ball, 1 baseball bat, 76.2ms\n",
            "Speed: 2.2ms preprocess, 76.2ms inference, 2.4ms postprocess per image at shape (1, 3, 448, 640)\n"
          ]
        },
        {
          "output_type": "stream",
          "name": "stderr",
          "text": [
            "\rRunning YOLO:  88%|████████▊ | 439/500 [07:58<01:00,  1.00it/s]"
          ]
        },
        {
          "output_type": "stream",
          "name": "stdout",
          "text": [
            "\n",
            "image 1/1 /content/drive/MyDrive/UCLA/cs 263/final_proj/val2014/COCO_val2014_000000200739.jpg: 544x640 1 person, 3 cars, 2 trucks, 1 horse, 90.2ms\n",
            "Speed: 2.6ms preprocess, 90.2ms inference, 2.8ms postprocess per image at shape (1, 3, 544, 640)\n"
          ]
        },
        {
          "output_type": "stream",
          "name": "stderr",
          "text": [
            "\rRunning YOLO:  88%|████████▊ | 440/500 [07:59<01:00,  1.00s/it]"
          ]
        },
        {
          "output_type": "stream",
          "name": "stdout",
          "text": [
            "\n",
            "image 1/1 /content/drive/MyDrive/UCLA/cs 263/final_proj/val2014/COCO_val2014_000000429109.jpg: 448x640 3 persons, 1 bicycle, 1 car, 3 buss, 4 trains, 1 truck, 65.4ms\n",
            "Speed: 2.6ms preprocess, 65.4ms inference, 1.7ms postprocess per image at shape (1, 3, 448, 640)\n"
          ]
        },
        {
          "output_type": "stream",
          "name": "stderr",
          "text": [
            "\rRunning YOLO:  88%|████████▊ | 441/500 [08:00<01:00,  1.03s/it]"
          ]
        },
        {
          "output_type": "stream",
          "name": "stdout",
          "text": [
            "\n",
            "image 1/1 /content/drive/MyDrive/UCLA/cs 263/final_proj/val2014/COCO_val2014_000000205729.jpg: 480x640 6 persons, 2 backpacks, 8 skiss, 75.1ms\n",
            "Speed: 2.2ms preprocess, 75.1ms inference, 1.5ms postprocess per image at shape (1, 3, 480, 640)\n"
          ]
        },
        {
          "output_type": "stream",
          "name": "stderr",
          "text": [
            "\rRunning YOLO:  88%|████████▊ | 442/500 [08:01<00:59,  1.03s/it]"
          ]
        },
        {
          "output_type": "stream",
          "name": "stdout",
          "text": [
            "\n",
            "image 1/1 /content/drive/MyDrive/UCLA/cs 263/final_proj/val2014/COCO_val2014_000000154846.jpg: 448x640 1 person, 1 pizza, 1 dining table, 72.5ms\n",
            "Speed: 1.7ms preprocess, 72.5ms inference, 1.5ms postprocess per image at shape (1, 3, 448, 640)\n"
          ]
        },
        {
          "output_type": "stream",
          "name": "stderr",
          "text": [
            "\rRunning YOLO:  89%|████████▊ | 443/500 [08:02<00:59,  1.04s/it]"
          ]
        },
        {
          "output_type": "stream",
          "name": "stdout",
          "text": [
            "\n",
            "image 1/1 /content/drive/MyDrive/UCLA/cs 263/final_proj/val2014/COCO_val2014_000000518177.jpg: 448x640 1 oven, 71.5ms\n",
            "Speed: 1.5ms preprocess, 71.5ms inference, 1.8ms postprocess per image at shape (1, 3, 448, 640)\n"
          ]
        },
        {
          "output_type": "stream",
          "name": "stderr",
          "text": [
            "\rRunning YOLO:  89%|████████▉ | 444/500 [08:04<01:06,  1.19s/it]"
          ]
        },
        {
          "output_type": "stream",
          "name": "stdout",
          "text": [
            "\n",
            "image 1/1 /content/drive/MyDrive/UCLA/cs 263/final_proj/val2014/COCO_val2014_000000224155.jpg: 480x640 1 person, 1 toilet, 1 cell phone, 1 toothbrush, 77.0ms\n",
            "Speed: 2.3ms preprocess, 77.0ms inference, 1.6ms postprocess per image at shape (1, 3, 480, 640)\n"
          ]
        },
        {
          "output_type": "stream",
          "name": "stderr",
          "text": [
            "\rRunning YOLO:  89%|████████▉ | 445/500 [08:05<01:07,  1.22s/it]"
          ]
        },
        {
          "output_type": "stream",
          "name": "stdout",
          "text": [
            "\n",
            "image 1/1 /content/drive/MyDrive/UCLA/cs 263/final_proj/val2014/COCO_val2014_000000087435.jpg: 384x640 3 persons, 1 bicycle, 2 cars, 1 bus, 1 bench, 64.0ms\n",
            "Speed: 1.7ms preprocess, 64.0ms inference, 1.5ms postprocess per image at shape (1, 3, 384, 640)\n"
          ]
        },
        {
          "output_type": "stream",
          "name": "stderr",
          "text": [
            "\rRunning YOLO:  89%|████████▉ | 446/500 [08:06<01:02,  1.16s/it]"
          ]
        },
        {
          "output_type": "stream",
          "name": "stdout",
          "text": [
            "\n",
            "image 1/1 /content/drive/MyDrive/UCLA/cs 263/final_proj/val2014/COCO_val2014_000000307166.jpg: 480x640 1 person, 2 bottles, 9 pizzas, 1 oven, 75.2ms\n",
            "Speed: 1.8ms preprocess, 75.2ms inference, 1.8ms postprocess per image at shape (1, 3, 480, 640)\n"
          ]
        },
        {
          "output_type": "stream",
          "name": "stderr",
          "text": [
            "\rRunning YOLO:  89%|████████▉ | 447/500 [08:07<00:57,  1.08s/it]"
          ]
        },
        {
          "output_type": "stream",
          "name": "stdout",
          "text": [
            "\n",
            "image 1/1 /content/drive/MyDrive/UCLA/cs 263/final_proj/val2014/COCO_val2014_000000574790.jpg: 448x640 13 cars, 3 trucks, 6 traffic lights, 72.6ms\n",
            "Speed: 1.6ms preprocess, 72.6ms inference, 1.6ms postprocess per image at shape (1, 3, 448, 640)\n"
          ]
        },
        {
          "output_type": "stream",
          "name": "stderr",
          "text": [
            "\rRunning YOLO:  90%|████████▉ | 448/500 [08:08<00:58,  1.12s/it]"
          ]
        },
        {
          "output_type": "stream",
          "name": "stdout",
          "text": [
            "\n",
            "image 1/1 /content/drive/MyDrive/UCLA/cs 263/final_proj/val2014/COCO_val2014_000000178078.jpg: 480x640 3 cars, 1 motorcycle, 75.2ms\n",
            "Speed: 3.7ms preprocess, 75.2ms inference, 1.9ms postprocess per image at shape (1, 3, 480, 640)\n"
          ]
        },
        {
          "output_type": "stream",
          "name": "stderr",
          "text": [
            "\rRunning YOLO:  90%|████████▉ | 449/500 [08:09<00:54,  1.07s/it]"
          ]
        },
        {
          "output_type": "stream",
          "name": "stdout",
          "text": [
            "\n",
            "image 1/1 /content/drive/MyDrive/UCLA/cs 263/final_proj/val2014/COCO_val2014_000000298633.jpg: 448x640 1 person, 1 sports ball, 1 tennis racket, 72.7ms\n",
            "Speed: 2.2ms preprocess, 72.7ms inference, 2.0ms postprocess per image at shape (1, 3, 448, 640)\n"
          ]
        },
        {
          "output_type": "stream",
          "name": "stderr",
          "text": [
            "\rRunning YOLO:  90%|█████████ | 450/500 [08:10<00:51,  1.03s/it]"
          ]
        },
        {
          "output_type": "stream",
          "name": "stdout",
          "text": [
            "\n",
            "image 1/1 /content/drive/MyDrive/UCLA/cs 263/final_proj/val2014/COCO_val2014_000000390184.jpg: 448x640 1 knife, 7 spoons, 2 chairs, 1 dining table, 1 microwave, 1 oven, 71.5ms\n",
            "Speed: 1.6ms preprocess, 71.5ms inference, 1.8ms postprocess per image at shape (1, 3, 448, 640)\n"
          ]
        },
        {
          "output_type": "stream",
          "name": "stderr",
          "text": [
            "\rRunning YOLO:  90%|█████████ | 451/500 [08:11<00:49,  1.01s/it]"
          ]
        },
        {
          "output_type": "stream",
          "name": "stdout",
          "text": [
            "\n",
            "image 1/1 /content/drive/MyDrive/UCLA/cs 263/final_proj/val2014/COCO_val2014_000000505933.jpg: 448x640 4 cars, 2 trains, 1 truck, 71.5ms\n",
            "Speed: 1.7ms preprocess, 71.5ms inference, 1.7ms postprocess per image at shape (1, 3, 448, 640)\n"
          ]
        },
        {
          "output_type": "stream",
          "name": "stderr",
          "text": [
            "\rRunning YOLO:  90%|█████████ | 452/500 [08:12<00:49,  1.03s/it]"
          ]
        },
        {
          "output_type": "stream",
          "name": "stdout",
          "text": [
            "\n",
            "image 1/1 /content/drive/MyDrive/UCLA/cs 263/final_proj/val2014/COCO_val2014_000000199122.jpg: 448x640 14 persons, 1 sports ball, 1 baseball bat, 1 baseball glove, 71.5ms\n",
            "Speed: 1.9ms preprocess, 71.5ms inference, 1.8ms postprocess per image at shape (1, 3, 448, 640)\n"
          ]
        },
        {
          "output_type": "stream",
          "name": "stderr",
          "text": [
            "\rRunning YOLO:  91%|█████████ | 453/500 [08:13<00:49,  1.04s/it]"
          ]
        },
        {
          "output_type": "stream",
          "name": "stdout",
          "text": [
            "\n",
            "image 1/1 /content/drive/MyDrive/UCLA/cs 263/final_proj/val2014/COCO_val2014_000000424792.jpg: 512x640 1 dog, 1 vase, 77.0ms\n",
            "Speed: 1.7ms preprocess, 77.0ms inference, 1.6ms postprocess per image at shape (1, 3, 512, 640)\n"
          ]
        },
        {
          "output_type": "stream",
          "name": "stderr",
          "text": [
            "\rRunning YOLO:  91%|█████████ | 454/500 [08:14<00:49,  1.07s/it]"
          ]
        },
        {
          "output_type": "stream",
          "name": "stdout",
          "text": [
            "\n",
            "image 1/1 /content/drive/MyDrive/UCLA/cs 263/final_proj/val2014/COCO_val2014_000000528905.jpg: 448x640 3 persons, 1 car, 1 frisbee, 72.5ms\n",
            "Speed: 1.5ms preprocess, 72.5ms inference, 1.6ms postprocess per image at shape (1, 3, 448, 640)\n"
          ]
        },
        {
          "output_type": "stream",
          "name": "stderr",
          "text": [
            "\rRunning YOLO:  91%|█████████ | 455/500 [08:15<00:47,  1.06s/it]"
          ]
        },
        {
          "output_type": "stream",
          "name": "stdout",
          "text": [
            "\n",
            "image 1/1 /content/drive/MyDrive/UCLA/cs 263/final_proj/val2014/COCO_val2014_000000054025.jpg: 448x640 8 persons, 3 cars, 2 buss, 1 truck, 1 traffic light, 1 backpack, 71.5ms\n",
            "Speed: 1.9ms preprocess, 71.5ms inference, 1.6ms postprocess per image at shape (1, 3, 448, 640)\n"
          ]
        },
        {
          "output_type": "stream",
          "name": "stderr",
          "text": [
            "\rRunning YOLO:  91%|█████████ | 456/500 [08:16<00:44,  1.02s/it]"
          ]
        },
        {
          "output_type": "stream",
          "name": "stdout",
          "text": [
            "\n",
            "image 1/1 /content/drive/MyDrive/UCLA/cs 263/final_proj/val2014/COCO_val2014_000000442809.jpg: 448x640 1 bottle, 2 cups, 14 cakes, 71.6ms\n",
            "Speed: 2.3ms preprocess, 71.6ms inference, 1.8ms postprocess per image at shape (1, 3, 448, 640)\n"
          ]
        },
        {
          "output_type": "stream",
          "name": "stderr",
          "text": [
            "\rRunning YOLO:  91%|█████████▏| 457/500 [08:17<00:47,  1.10s/it]"
          ]
        },
        {
          "output_type": "stream",
          "name": "stdout",
          "text": [
            "\n",
            "image 1/1 /content/drive/MyDrive/UCLA/cs 263/final_proj/val2014/COCO_val2014_000000031773.jpg: 480x640 1 person, 1 potted plant, 1 tv, 1 laptop, 1 mouse, 2 keyboards, 4 books, 75.1ms\n",
            "Speed: 1.9ms preprocess, 75.1ms inference, 1.5ms postprocess per image at shape (1, 3, 480, 640)\n"
          ]
        },
        {
          "output_type": "stream",
          "name": "stderr",
          "text": [
            "\rRunning YOLO:  92%|█████████▏| 458/500 [08:19<00:46,  1.10s/it]"
          ]
        },
        {
          "output_type": "stream",
          "name": "stdout",
          "text": [
            "\n",
            "image 1/1 /content/drive/MyDrive/UCLA/cs 263/final_proj/val2014/COCO_val2014_000000115626.jpg: 640x480 1 person, 1 motorcycle, 75.1ms\n",
            "Speed: 1.8ms preprocess, 75.1ms inference, 1.7ms postprocess per image at shape (1, 3, 640, 480)\n"
          ]
        },
        {
          "output_type": "stream",
          "name": "stderr",
          "text": [
            "\rRunning YOLO:  92%|█████████▏| 459/500 [08:20<00:49,  1.20s/it]"
          ]
        },
        {
          "output_type": "stream",
          "name": "stdout",
          "text": [
            "\n",
            "image 1/1 /content/drive/MyDrive/UCLA/cs 263/final_proj/val2014/COCO_val2014_000000468997.jpg: 480x640 8 persons, 2 baseball bats, 1 baseball glove, 75.5ms\n",
            "Speed: 2.5ms preprocess, 75.5ms inference, 1.9ms postprocess per image at shape (1, 3, 480, 640)\n"
          ]
        },
        {
          "output_type": "stream",
          "name": "stderr",
          "text": [
            "\rRunning YOLO:  92%|█████████▏| 460/500 [08:21<00:47,  1.18s/it]"
          ]
        },
        {
          "output_type": "stream",
          "name": "stdout",
          "text": [
            "\n",
            "image 1/1 /content/drive/MyDrive/UCLA/cs 263/final_proj/val2014/COCO_val2014_000000288576.jpg: 448x640 1 person, 1 bicycle, 1 frisbee, 73.2ms\n",
            "Speed: 2.0ms preprocess, 73.2ms inference, 2.1ms postprocess per image at shape (1, 3, 448, 640)\n"
          ]
        },
        {
          "output_type": "stream",
          "name": "stderr",
          "text": [
            "\rRunning YOLO:  92%|█████████▏| 461/500 [08:22<00:44,  1.14s/it]"
          ]
        },
        {
          "output_type": "stream",
          "name": "stdout",
          "text": [
            "\n",
            "image 1/1 /content/drive/MyDrive/UCLA/cs 263/final_proj/val2014/COCO_val2014_000000534121.jpg: 480x640 1 boat, 2 chairs, 2 couchs, 1 tv, 75.0ms\n",
            "Speed: 1.7ms preprocess, 75.0ms inference, 1.5ms postprocess per image at shape (1, 3, 480, 640)\n"
          ]
        },
        {
          "output_type": "stream",
          "name": "stderr",
          "text": [
            "\rRunning YOLO:  92%|█████████▏| 462/500 [08:23<00:42,  1.13s/it]"
          ]
        },
        {
          "output_type": "stream",
          "name": "stdout",
          "text": [
            "\n",
            "image 1/1 /content/drive/MyDrive/UCLA/cs 263/final_proj/val2014/COCO_val2014_000000536073.jpg: 640x480 1 bottle, 1 cup, 1 knife, 74.7ms\n",
            "Speed: 1.6ms preprocess, 74.7ms inference, 1.5ms postprocess per image at shape (1, 3, 640, 480)\n"
          ]
        },
        {
          "output_type": "stream",
          "name": "stderr",
          "text": [
            "\rRunning YOLO:  93%|█████████▎| 463/500 [08:24<00:42,  1.14s/it]"
          ]
        },
        {
          "output_type": "stream",
          "name": "stdout",
          "text": [
            "\n",
            "image 1/1 /content/drive/MyDrive/UCLA/cs 263/final_proj/val2014/COCO_val2014_000000131115.jpg: 448x640 14 persons, 2 baseball bats, 1 baseball glove, 72.5ms\n",
            "Speed: 1.6ms preprocess, 72.5ms inference, 1.6ms postprocess per image at shape (1, 3, 448, 640)\n"
          ]
        },
        {
          "output_type": "stream",
          "name": "stderr",
          "text": [
            "\rRunning YOLO:  93%|█████████▎| 464/500 [08:25<00:38,  1.08s/it]"
          ]
        },
        {
          "output_type": "stream",
          "name": "stdout",
          "text": [
            "\n",
            "image 1/1 /content/drive/MyDrive/UCLA/cs 263/final_proj/val2014/COCO_val2014_000000467887.jpg: 480x640 1 person, 4 chairs, 3 couchs, 1 dining table, 1 laptop, 1 mouse, 75.0ms\n",
            "Speed: 1.8ms preprocess, 75.0ms inference, 1.5ms postprocess per image at shape (1, 3, 480, 640)\n"
          ]
        },
        {
          "output_type": "stream",
          "name": "stderr",
          "text": [
            "\rRunning YOLO:  93%|█████████▎| 465/500 [08:26<00:37,  1.08s/it]"
          ]
        },
        {
          "output_type": "stream",
          "name": "stdout",
          "text": [
            "\n",
            "image 1/1 /content/drive/MyDrive/UCLA/cs 263/final_proj/val2014/COCO_val2014_000000333237.jpg: 416x640 2 chairs, 1 bed, 1 tv, 1 sink, 71.7ms\n",
            "Speed: 1.4ms preprocess, 71.7ms inference, 1.7ms postprocess per image at shape (1, 3, 416, 640)\n"
          ]
        },
        {
          "output_type": "stream",
          "name": "stderr",
          "text": [
            "\rRunning YOLO:  93%|█████████▎| 466/500 [08:28<00:39,  1.17s/it]"
          ]
        },
        {
          "output_type": "stream",
          "name": "stdout",
          "text": [
            "\n",
            "image 1/1 /content/drive/MyDrive/UCLA/cs 263/final_proj/val2014/COCO_val2014_000000016775.jpg: 480x640 13 persons, 2 trucks, 1 dog, 1 handbag, 75.0ms\n",
            "Speed: 1.6ms preprocess, 75.0ms inference, 1.5ms postprocess per image at shape (1, 3, 480, 640)\n"
          ]
        },
        {
          "output_type": "stream",
          "name": "stderr",
          "text": [
            "\rRunning YOLO:  93%|█████████▎| 467/500 [08:29<00:37,  1.15s/it]"
          ]
        },
        {
          "output_type": "stream",
          "name": "stdout",
          "text": [
            "\n",
            "image 1/1 /content/drive/MyDrive/UCLA/cs 263/final_proj/val2014/COCO_val2014_000000025972.jpg: 512x640 1 bicycle, 7 cars, 1 truck, 1 stop sign, 1 handbag, 1 suitcase, 1 couch, 75.3ms\n",
            "Speed: 1.9ms preprocess, 75.3ms inference, 1.8ms postprocess per image at shape (1, 3, 512, 640)\n"
          ]
        },
        {
          "output_type": "stream",
          "name": "stderr",
          "text": [
            "\rRunning YOLO:  94%|█████████▎| 468/500 [08:30<00:35,  1.12s/it]"
          ]
        },
        {
          "output_type": "stream",
          "name": "stdout",
          "text": [
            "\n",
            "image 1/1 /content/drive/MyDrive/UCLA/cs 263/final_proj/val2014/COCO_val2014_000000489728.jpg: 480x640 1 person, 1 bowl, 2 beds, 1 tv, 1 laptop, 4 books, 75.2ms\n",
            "Speed: 1.7ms preprocess, 75.2ms inference, 1.5ms postprocess per image at shape (1, 3, 480, 640)\n"
          ]
        },
        {
          "output_type": "stream",
          "name": "stderr",
          "text": [
            "\rRunning YOLO:  94%|█████████▍| 469/500 [08:32<00:38,  1.25s/it]"
          ]
        },
        {
          "output_type": "stream",
          "name": "stdout",
          "text": [
            "\n",
            "image 1/1 /content/drive/MyDrive/UCLA/cs 263/final_proj/val2014/COCO_val2014_000000550514.jpg: 480x640 14 persons, 3 skiss, 74.1ms\n",
            "Speed: 1.7ms preprocess, 74.1ms inference, 1.7ms postprocess per image at shape (1, 3, 480, 640)\n"
          ]
        },
        {
          "output_type": "stream",
          "name": "stderr",
          "text": [
            "\rRunning YOLO:  94%|█████████▍| 470/500 [08:33<00:36,  1.21s/it]"
          ]
        },
        {
          "output_type": "stream",
          "name": "stdout",
          "text": [
            "\n",
            "image 1/1 /content/drive/MyDrive/UCLA/cs 263/final_proj/val2014/COCO_val2014_000000167724.jpg: 480x640 1 person, 1 bottle, 1 spoon, 74.2ms\n",
            "Speed: 2.2ms preprocess, 74.2ms inference, 2.7ms postprocess per image at shape (1, 3, 480, 640)\n"
          ]
        },
        {
          "output_type": "stream",
          "name": "stderr",
          "text": [
            "\rRunning YOLO:  94%|█████████▍| 471/500 [08:34<00:33,  1.14s/it]"
          ]
        },
        {
          "output_type": "stream",
          "name": "stdout",
          "text": [
            "\n",
            "image 1/1 /content/drive/MyDrive/UCLA/cs 263/final_proj/val2014/COCO_val2014_000000375909.jpg: 640x384 1 chair, 1 couch, 1 bed, 1 refrigerator, 64.3ms\n",
            "Speed: 1.9ms preprocess, 64.3ms inference, 2.2ms postprocess per image at shape (1, 3, 640, 384)\n"
          ]
        },
        {
          "output_type": "stream",
          "name": "stderr",
          "text": [
            "\rRunning YOLO:  94%|█████████▍| 472/500 [08:35<00:31,  1.12s/it]"
          ]
        },
        {
          "output_type": "stream",
          "name": "stdout",
          "text": [
            "\n",
            "image 1/1 /content/drive/MyDrive/UCLA/cs 263/final_proj/val2014/COCO_val2014_000000308907.jpg: 448x640 1 person, 2 traffic lights, 3 potted plants, 72.9ms\n",
            "Speed: 2.2ms preprocess, 72.9ms inference, 2.3ms postprocess per image at shape (1, 3, 448, 640)\n"
          ]
        },
        {
          "output_type": "stream",
          "name": "stderr",
          "text": [
            "\rRunning YOLO:  95%|█████████▍| 473/500 [08:36<00:30,  1.12s/it]"
          ]
        },
        {
          "output_type": "stream",
          "name": "stdout",
          "text": [
            "\n",
            "image 1/1 /content/drive/MyDrive/UCLA/cs 263/final_proj/val2014/COCO_val2014_000000264155.jpg: 448x640 5 persons, 5 bottles, 1 fork, 2 knifes, 1 bowl, 4 pizzas, 1 chair, 1 dining table, 71.5ms\n",
            "Speed: 1.6ms preprocess, 71.5ms inference, 1.8ms postprocess per image at shape (1, 3, 448, 640)\n"
          ]
        },
        {
          "output_type": "stream",
          "name": "stderr",
          "text": [
            "\rRunning YOLO:  95%|█████████▍| 474/500 [08:37<00:30,  1.16s/it]"
          ]
        },
        {
          "output_type": "stream",
          "name": "stdout",
          "text": [
            "\n",
            "image 1/1 /content/drive/MyDrive/UCLA/cs 263/final_proj/val2014/COCO_val2014_000000279499.jpg: 448x640 2 persons, 2 buss, 71.5ms\n",
            "Speed: 1.6ms preprocess, 71.5ms inference, 1.7ms postprocess per image at shape (1, 3, 448, 640)\n"
          ]
        },
        {
          "output_type": "stream",
          "name": "stderr",
          "text": [
            "\rRunning YOLO:  95%|█████████▌| 475/500 [08:38<00:27,  1.09s/it]"
          ]
        },
        {
          "output_type": "stream",
          "name": "stdout",
          "text": [
            "\n",
            "image 1/1 /content/drive/MyDrive/UCLA/cs 263/final_proj/val2014/COCO_val2014_000000163814.jpg: 640x448 4 persons, 72.7ms\n",
            "Speed: 1.6ms preprocess, 72.7ms inference, 1.7ms postprocess per image at shape (1, 3, 640, 448)\n"
          ]
        },
        {
          "output_type": "stream",
          "name": "stderr",
          "text": [
            "\rRunning YOLO:  95%|█████████▌| 476/500 [08:40<00:29,  1.22s/it]"
          ]
        },
        {
          "output_type": "stream",
          "name": "stdout",
          "text": [
            "\n",
            "image 1/1 /content/drive/MyDrive/UCLA/cs 263/final_proj/val2014/COCO_val2014_000000533201.jpg: 480x640 1 person, 1 airplane, 2 trucks, 75.0ms\n",
            "Speed: 2.2ms preprocess, 75.0ms inference, 1.6ms postprocess per image at shape (1, 3, 480, 640)\n"
          ]
        },
        {
          "output_type": "stream",
          "name": "stderr",
          "text": [
            "\rRunning YOLO:  95%|█████████▌| 477/500 [08:40<00:26,  1.13s/it]"
          ]
        },
        {
          "output_type": "stream",
          "name": "stdout",
          "text": [
            "\n",
            "image 1/1 /content/drive/MyDrive/UCLA/cs 263/final_proj/val2014/COCO_val2014_000000122962.jpg: 448x640 25 persons, 1 bench, 1 handbag, 1 bottle, 3 cups, 1 fork, 9 pizzas, 2 dining tables, 72.7ms\n",
            "Speed: 1.8ms preprocess, 72.7ms inference, 1.6ms postprocess per image at shape (1, 3, 448, 640)\n"
          ]
        },
        {
          "output_type": "stream",
          "name": "stderr",
          "text": [
            "\rRunning YOLO:  96%|█████████▌| 478/500 [08:42<00:25,  1.16s/it]"
          ]
        },
        {
          "output_type": "stream",
          "name": "stdout",
          "text": [
            "\n",
            "image 1/1 /content/drive/MyDrive/UCLA/cs 263/final_proj/val2014/COCO_val2014_000000239130.jpg: 512x640 1 person, 1 bicycle, 1 car, 74.8ms\n",
            "Speed: 1.9ms preprocess, 74.8ms inference, 1.7ms postprocess per image at shape (1, 3, 512, 640)\n"
          ]
        },
        {
          "output_type": "stream",
          "name": "stderr",
          "text": [
            "\rRunning YOLO:  96%|█████████▌| 479/500 [08:43<00:23,  1.10s/it]"
          ]
        },
        {
          "output_type": "stream",
          "name": "stdout",
          "text": [
            "\n",
            "image 1/1 /content/drive/MyDrive/UCLA/cs 263/final_proj/val2014/COCO_val2014_000000526321.jpg: 448x640 1 tv, 1 laptop, 1 mouse, 2 remotes, 1 keyboard, 2 cell phones, 72.5ms\n",
            "Speed: 2.2ms preprocess, 72.5ms inference, 1.6ms postprocess per image at shape (1, 3, 448, 640)\n"
          ]
        },
        {
          "output_type": "stream",
          "name": "stderr",
          "text": [
            "\rRunning YOLO:  96%|█████████▌| 480/500 [08:44<00:22,  1.10s/it]"
          ]
        },
        {
          "output_type": "stream",
          "name": "stdout",
          "text": [
            "\n",
            "image 1/1 /content/drive/MyDrive/UCLA/cs 263/final_proj/val2014/COCO_val2014_000000390157.jpg: 640x480 2 persons, 2 bottles, 3 wine glasss, 1 dining table, 1 laptop, 1 cell phone, 74.7ms\n",
            "Speed: 1.7ms preprocess, 74.7ms inference, 1.6ms postprocess per image at shape (1, 3, 640, 480)\n"
          ]
        },
        {
          "output_type": "stream",
          "name": "stderr",
          "text": [
            "\rRunning YOLO:  96%|█████████▌| 481/500 [08:45<00:19,  1.03s/it]"
          ]
        },
        {
          "output_type": "stream",
          "name": "stdout",
          "text": [
            "\n",
            "image 1/1 /content/drive/MyDrive/UCLA/cs 263/final_proj/val2014/COCO_val2014_000000378751.jpg: 640x480 1 cat, 1 couch, 1 remote, 74.0ms\n",
            "Speed: 2.5ms preprocess, 74.0ms inference, 2.2ms postprocess per image at shape (1, 3, 640, 480)\n"
          ]
        },
        {
          "output_type": "stream",
          "name": "stderr",
          "text": [
            "\rRunning YOLO:  96%|█████████▋| 482/500 [08:46<00:20,  1.12s/it]"
          ]
        },
        {
          "output_type": "stream",
          "name": "stdout",
          "text": [
            "\n",
            "image 1/1 /content/drive/MyDrive/UCLA/cs 263/final_proj/val2014/COCO_val2014_000000262736.jpg: 448x640 3 cars, 1 truck, 1 dog, 1 frisbee, 73.1ms\n",
            "Speed: 2.2ms preprocess, 73.1ms inference, 2.3ms postprocess per image at shape (1, 3, 448, 640)\n"
          ]
        },
        {
          "output_type": "stream",
          "name": "stderr",
          "text": [
            "\rRunning YOLO:  97%|█████████▋| 483/500 [08:47<00:18,  1.07s/it]"
          ]
        },
        {
          "output_type": "stream",
          "name": "stdout",
          "text": [
            "\n",
            "image 1/1 /content/drive/MyDrive/UCLA/cs 263/final_proj/val2014/COCO_val2014_000000288639.jpg: 480x640 2 cats, 1 sink, 1 toothbrush, 75.1ms\n",
            "Speed: 1.7ms preprocess, 75.1ms inference, 1.5ms postprocess per image at shape (1, 3, 480, 640)\n"
          ]
        },
        {
          "output_type": "stream",
          "name": "stderr",
          "text": [
            "\rRunning YOLO:  97%|█████████▋| 484/500 [08:48<00:17,  1.06s/it]"
          ]
        },
        {
          "output_type": "stream",
          "name": "stdout",
          "text": [
            "\n",
            "image 1/1 /content/drive/MyDrive/UCLA/cs 263/final_proj/val2014/COCO_val2014_000000114941.jpg: 448x640 2 trains, 72.4ms\n",
            "Speed: 1.5ms preprocess, 72.4ms inference, 1.6ms postprocess per image at shape (1, 3, 448, 640)\n"
          ]
        },
        {
          "output_type": "stream",
          "name": "stderr",
          "text": [
            "\rRunning YOLO:  97%|█████████▋| 485/500 [08:49<00:15,  1.04s/it]"
          ]
        },
        {
          "output_type": "stream",
          "name": "stdout",
          "text": [
            "\n",
            "image 1/1 /content/drive/MyDrive/UCLA/cs 263/final_proj/val2014/COCO_val2014_000000574057.jpg: 480x640 1 bed, 75.0ms\n",
            "Speed: 1.7ms preprocess, 75.0ms inference, 1.5ms postprocess per image at shape (1, 3, 480, 640)\n"
          ]
        },
        {
          "output_type": "stream",
          "name": "stderr",
          "text": [
            "\rRunning YOLO:  97%|█████████▋| 486/500 [08:50<00:14,  1.02s/it]"
          ]
        },
        {
          "output_type": "stream",
          "name": "stdout",
          "text": [
            "\n",
            "image 1/1 /content/drive/MyDrive/UCLA/cs 263/final_proj/val2014/COCO_val2014_000000553165.jpg: 320x640 4 persons, 1 boat, 5 birds, 62.9ms\n",
            "Speed: 1.8ms preprocess, 62.9ms inference, 1.7ms postprocess per image at shape (1, 3, 320, 640)\n"
          ]
        },
        {
          "output_type": "stream",
          "name": "stderr",
          "text": [
            "\rRunning YOLO:  97%|█████████▋| 487/500 [08:51<00:12,  1.03it/s]"
          ]
        },
        {
          "output_type": "stream",
          "name": "stdout",
          "text": [
            "\n",
            "image 1/1 /content/drive/MyDrive/UCLA/cs 263/final_proj/val2014/COCO_val2014_000000348469.jpg: 640x448 1 person, 1 bird, 1 baseball bat, 72.6ms\n",
            "Speed: 1.6ms preprocess, 72.6ms inference, 1.5ms postprocess per image at shape (1, 3, 640, 448)\n"
          ]
        },
        {
          "output_type": "stream",
          "name": "stderr",
          "text": [
            "\rRunning YOLO:  98%|█████████▊| 488/500 [08:52<00:12,  1.02s/it]"
          ]
        },
        {
          "output_type": "stream",
          "name": "stdout",
          "text": [
            "\n",
            "image 1/1 /content/drive/MyDrive/UCLA/cs 263/final_proj/val2014/COCO_val2014_000000410597.jpg: 448x640 2 persons, 1 tie, 3 wine glasss, 1 cake, 1 cell phone, 72.9ms\n",
            "Speed: 1.7ms preprocess, 72.9ms inference, 1.7ms postprocess per image at shape (1, 3, 448, 640)\n"
          ]
        },
        {
          "output_type": "stream",
          "name": "stderr",
          "text": [
            "\rRunning YOLO:  98%|█████████▊| 489/500 [08:53<00:10,  1.01it/s]"
          ]
        },
        {
          "output_type": "stream",
          "name": "stdout",
          "text": [
            "\n",
            "image 1/1 /content/drive/MyDrive/UCLA/cs 263/final_proj/val2014/COCO_val2014_000000554328.jpg: 512x640 3 persons, 1 sports ball, 1 baseball glove, 75.0ms\n",
            "Speed: 1.9ms preprocess, 75.0ms inference, 1.7ms postprocess per image at shape (1, 3, 512, 640)\n"
          ]
        },
        {
          "output_type": "stream",
          "name": "stderr",
          "text": [
            "\rRunning YOLO:  98%|█████████▊| 490/500 [08:54<00:09,  1.01it/s]"
          ]
        },
        {
          "output_type": "stream",
          "name": "stdout",
          "text": [
            "\n",
            "image 1/1 /content/drive/MyDrive/UCLA/cs 263/final_proj/val2014/COCO_val2014_000000516601.jpg: 384x640 11 persons, 2 skiss, 64.0ms\n",
            "Speed: 1.4ms preprocess, 64.0ms inference, 1.6ms postprocess per image at shape (1, 3, 384, 640)\n"
          ]
        },
        {
          "output_type": "stream",
          "name": "stderr",
          "text": [
            "\rRunning YOLO:  98%|█████████▊| 491/500 [08:55<00:09,  1.02s/it]"
          ]
        },
        {
          "output_type": "stream",
          "name": "stdout",
          "text": [
            "\n",
            "image 1/1 /content/drive/MyDrive/UCLA/cs 263/final_proj/val2014/COCO_val2014_000000349936.jpg: 480x640 1 cup, 5 chairs, 3 couchs, 2 dining tables, 1 tv, 1 cell phone, 75.1ms\n",
            "Speed: 1.9ms preprocess, 75.1ms inference, 1.6ms postprocess per image at shape (1, 3, 480, 640)\n"
          ]
        },
        {
          "output_type": "stream",
          "name": "stderr",
          "text": [
            "\rRunning YOLO:  98%|█████████▊| 492/500 [08:56<00:08,  1.11s/it]"
          ]
        },
        {
          "output_type": "stream",
          "name": "stdout",
          "text": [
            "\n",
            "image 1/1 /content/drive/MyDrive/UCLA/cs 263/final_proj/val2014/COCO_val2014_000000156282.jpg: 640x480 4 persons, 1 umbrella, 1 kite, 76.0ms\n",
            "Speed: 2.5ms preprocess, 76.0ms inference, 2.0ms postprocess per image at shape (1, 3, 640, 480)\n"
          ]
        },
        {
          "output_type": "stream",
          "name": "stderr",
          "text": [
            "\rRunning YOLO:  99%|█████████▊| 493/500 [08:57<00:07,  1.06s/it]"
          ]
        },
        {
          "output_type": "stream",
          "name": "stdout",
          "text": [
            "\n",
            "image 1/1 /content/drive/MyDrive/UCLA/cs 263/final_proj/val2014/COCO_val2014_000000429580.jpg: 448x640 2 persons, 1 bicycle, 1 dog, 1 frisbee, 73.2ms\n",
            "Speed: 2.1ms preprocess, 73.2ms inference, 4.0ms postprocess per image at shape (1, 3, 448, 640)\n"
          ]
        },
        {
          "output_type": "stream",
          "name": "stderr",
          "text": [
            "\rRunning YOLO:  99%|█████████▉| 494/500 [08:58<00:06,  1.05s/it]"
          ]
        },
        {
          "output_type": "stream",
          "name": "stdout",
          "text": [
            "\n",
            "image 1/1 /content/drive/MyDrive/UCLA/cs 263/final_proj/val2014/COCO_val2014_000000069189.jpg: 640x608 4 persons, 1 bicycle, 3 cars, 1 bus, 2 trucks, 8 birds, 5 umbrellas, 1 handbag, 98.2ms\n",
            "Speed: 4.2ms preprocess, 98.2ms inference, 1.8ms postprocess per image at shape (1, 3, 640, 608)\n"
          ]
        },
        {
          "output_type": "stream",
          "name": "stderr",
          "text": [
            "\rRunning YOLO:  99%|█████████▉| 495/500 [08:59<00:05,  1.12s/it]"
          ]
        },
        {
          "output_type": "stream",
          "name": "stdout",
          "text": [
            "\n",
            "image 1/1 /content/drive/MyDrive/UCLA/cs 263/final_proj/val2014/COCO_val2014_000000113701.jpg: 480x640 1 cup, 1 chair, 1 bed, 2 books, 1 clock, 65.4ms\n",
            "Speed: 1.8ms preprocess, 65.4ms inference, 1.5ms postprocess per image at shape (1, 3, 480, 640)\n"
          ]
        },
        {
          "output_type": "stream",
          "name": "stderr",
          "text": [
            "\rRunning YOLO:  99%|█████████▉| 496/500 [09:01<00:04,  1.21s/it]"
          ]
        },
        {
          "output_type": "stream",
          "name": "stdout",
          "text": [
            "\n",
            "image 1/1 /content/drive/MyDrive/UCLA/cs 263/final_proj/val2014/COCO_val2014_000000115636.jpg: 640x576 16 persons, 3 horses, 95.0ms\n",
            "Speed: 2.3ms preprocess, 95.0ms inference, 1.6ms postprocess per image at shape (1, 3, 640, 576)\n"
          ]
        },
        {
          "output_type": "stream",
          "name": "stderr",
          "text": [
            "\rRunning YOLO:  99%|█████████▉| 497/500 [09:02<00:03,  1.19s/it]"
          ]
        },
        {
          "output_type": "stream",
          "name": "stdout",
          "text": [
            "\n",
            "image 1/1 /content/drive/MyDrive/UCLA/cs 263/final_proj/val2014/COCO_val2014_000000123017.jpg: 512x640 1 bowl, 3 chairs, 1 dining table, 2 vases, 75.1ms\n",
            "Speed: 1.9ms preprocess, 75.1ms inference, 1.7ms postprocess per image at shape (1, 3, 512, 640)\n"
          ]
        },
        {
          "output_type": "stream",
          "name": "stderr",
          "text": [
            "\rRunning YOLO: 100%|█████████▉| 498/500 [09:03<00:02,  1.16s/it]"
          ]
        },
        {
          "output_type": "stream",
          "name": "stdout",
          "text": [
            "\n",
            "image 1/1 /content/drive/MyDrive/UCLA/cs 263/final_proj/val2014/COCO_val2014_000000449432.jpg: 448x640 14 persons, 1 bus, 3 backpacks, 3 handbags, 1 suitcase, 72.5ms\n",
            "Speed: 1.7ms preprocess, 72.5ms inference, 1.7ms postprocess per image at shape (1, 3, 448, 640)\n"
          ]
        },
        {
          "output_type": "stream",
          "name": "stderr",
          "text": [
            "\rRunning YOLO: 100%|█████████▉| 499/500 [09:04<00:01,  1.10s/it]"
          ]
        },
        {
          "output_type": "stream",
          "name": "stdout",
          "text": [
            "\n",
            "image 1/1 /content/drive/MyDrive/UCLA/cs 263/final_proj/val2014/COCO_val2014_000000538236.jpg: 448x640 5 persons, 11 donuts, 71.6ms\n",
            "Speed: 1.6ms preprocess, 71.6ms inference, 2.0ms postprocess per image at shape (1, 3, 448, 640)\n"
          ]
        },
        {
          "output_type": "stream",
          "name": "stderr",
          "text": [
            "Running YOLO: 100%|██████████| 500/500 [09:05<00:00,  1.09s/it]"
          ]
        },
        {
          "output_type": "stream",
          "name": "stdout",
          "text": [
            "YOLO detection complete.\n"
          ]
        },
        {
          "output_type": "stream",
          "name": "stderr",
          "text": [
            "\n"
          ]
        }
      ]
    },
    {
      "cell_type": "code",
      "source": [
        "#yolo_results"
      ],
      "metadata": {
        "id": "PnXM1REYbG4h"
      },
      "execution_count": null,
      "outputs": []
    },
    {
      "cell_type": "code",
      "source": [
        "# --- 3. Construct Prompts for LLaVA ---\n",
        "def construct_yolo_prompt(detected_objects, question):\n",
        "    prompt = \"<image>\\n\"\n",
        "    prompt += f\"USER: This is a list of detected objects: {', '.join(detected_objects)}.\\n\"\n",
        "    prompt += f\"Look at the image and answer the following question:\\n- {question}\\n\"\n",
        "    prompt += \"\\nASSISTANT:\"\n",
        "    return prompt\n",
        "def construct_normal_prompt(question):\n",
        "    prompt = \"<image>\\n\"\n",
        "    prompt += f\"USER: Look at the image and answer the following question:\\n- {question}\\n\"\n",
        "    prompt += \"\\nASSISTANT:\"\n",
        "    return prompt"
      ],
      "metadata": {
        "id": "qSoCQv1MV8mL"
      },
      "execution_count": null,
      "outputs": []
    },
    {
      "cell_type": "code",
      "source": [
        "def run_llava_on_images_yolo(images, yolo_results):\n",
        "    results = {}\n",
        "    for entry in tqdm(images, desc='Running LLaVA'):\n",
        "        img_path = entry['img_path']\n",
        "        detected_objects = yolo_results.get(img_path, [])\n",
        "        image = Image.open(img_path).convert(\"RGB\")\n",
        "        per_question_results = []\n",
        "        #print(img_path)\n",
        "        #print('Detected objects:', detected_objects)\n",
        "        for q in entry['questions']:\n",
        "            question = q['text']\n",
        "            prompt = construct_yolo_prompt(detected_objects, question)\n",
        "            #print(question)\n",
        "            try:\n",
        "                inputs = processor(prompt, image, return_tensors=\"pt\").to(model.device)\n",
        "                with torch.no_grad():\n",
        "                    output = model.generate(**inputs, max_new_tokens=128)\n",
        "                description = processor.batch_decode(output, skip_special_tokens=True)[0]\n",
        "                # split on ASSISTANT:\n",
        "                if \"ASSISTANT:\" in description:\n",
        "                    description = description.split(\"ASSISTANT:\")[-1].strip()\n",
        "                #print(description)\n",
        "            except Exception as e:\n",
        "                print(f\"LLaVA failed on {img_path} for question '{question}': {e}\")\n",
        "                description = \"[ERROR] LLaVA inference failed.\"\n",
        "            per_question_results.append({\n",
        "                'question': question,\n",
        "                'llava_answer': description,\n",
        "                'label': q.get('label', None)\n",
        "            })\n",
        "        results[img_path] = {\n",
        "            'detected_objects': detected_objects,\n",
        "            'questions': per_question_results\n",
        "        }\n",
        "        #print('-'*50)\n",
        "    return results"
      ],
      "metadata": {
        "id": "4ehxyGmZWBu6"
      },
      "execution_count": null,
      "outputs": []
    },
    {
      "cell_type": "code",
      "source": [
        "def run_llava_on_images_normal(images):\n",
        "    results = {}\n",
        "    for entry in tqdm(images, desc='Running LLaVA'):\n",
        "        img_path = entry['img_path']\n",
        "        image = Image.open(img_path).convert(\"RGB\")\n",
        "        per_question_results = []\n",
        "        #print(img_path)\n",
        "        for q in entry['questions']:\n",
        "            question = q['text']\n",
        "            prompt = construct_normal_prompt(question)\n",
        "            #print(question)\n",
        "            try:\n",
        "                inputs = processor(prompt, image, return_tensors=\"pt\").to(model.device)\n",
        "                with torch.no_grad():\n",
        "                    output = model.generate(**inputs, max_new_tokens=128)\n",
        "                description = processor.batch_decode(output, skip_special_tokens=True)[0]\n",
        "                # split on ASSISTANT:\n",
        "                if \"ASSISTANT:\" in description:\n",
        "                    description = description.split(\"ASSISTANT:\")[-1].strip()\n",
        "                #print(description)\n",
        "            except Exception as e:\n",
        "                print(f\"LLaVA failed on {img_path} for question '{question}': {e}\")\n",
        "                description = \"[ERROR] LLaVA inference failed.\"\n",
        "            per_question_results.append({\n",
        "                'question': question,\n",
        "                'llava_answer': description,\n",
        "                'label': q.get('label', None)\n",
        "            })\n",
        "        results[img_path] = {\n",
        "            'questions': per_question_results\n",
        "        }\n",
        "        #print('-'*50)\n",
        "    return results"
      ],
      "metadata": {
        "id": "64pQJCFsqHXb"
      },
      "execution_count": null,
      "outputs": []
    },
    {
      "cell_type": "code",
      "source": [
        "llava_results = run_llava_on_images_yolo(images, yolo_results)\n",
        "with open('/content/drive/MyDrive/UCLA/cs 263/final_proj/pope_yolo_llava_results.json', 'w') as f:\n",
        "    json.dump(llava_results, f, indent=2)"
      ],
      "metadata": {
        "colab": {
          "base_uri": "https://localhost:8080/"
        },
        "id": "jxewpUr9bCak",
        "outputId": "adf48a93-4e92-4146-ca85-cd23094176dc"
      },
      "execution_count": null,
      "outputs": [
        {
          "output_type": "stream",
          "name": "stderr",
          "text": [
            "Running LLaVA:   0%|          | 0/500 [00:00<?, ?it/s]You may have used the wrong order for inputs. `images` should be passed before `text`. The `images` and `text` inputs will be swapped. This behavior will be deprecated in transformers v4.47.\n",
            "Running LLaVA: 100%|██████████| 500/500 [53:15<00:00,  6.39s/it]\n"
          ]
        }
      ]
    },
    {
      "cell_type": "code",
      "source": [
        "\n"
      ],
      "metadata": {
        "id": "i5AN-DIhrsFX"
      },
      "execution_count": null,
      "outputs": []
    },
    {
      "cell_type": "code",
      "source": [
        "llava_normal_results = run_llava_on_images_normal(images)\n",
        "with open('/content/drive/MyDrive/UCLA/cs 263/final_proj/pope_normal_llava_results.json', 'w') as f:\n",
        "    json.dump(llava_normal_results, f, indent=2)\n"
      ],
      "metadata": {
        "colab": {
          "base_uri": "https://localhost:8080/"
        },
        "id": "ZmDjg_aQqTuH",
        "outputId": "ce4c6942-4749-4af3-9123-5425df817815"
      },
      "execution_count": null,
      "outputs": [
        {
          "output_type": "stream",
          "name": "stderr",
          "text": [
            "Running LLaVA: 100%|██████████| 500/500 [1:02:54<00:00,  7.55s/it]\n"
          ]
        }
      ]
    },
    {
      "cell_type": "code",
      "execution_count": null,
      "metadata": {
        "id": "4FHGEpjKVRYb"
      },
      "outputs": [],
      "source": [
        "\n"
      ]
    },
    {
      "cell_type": "code",
      "source": [
        "import json\n",
        "import re"
      ],
      "metadata": {
        "id": "urQWrmI1yhGa"
      },
      "execution_count": null,
      "outputs": []
    },
    {
      "cell_type": "code",
      "source": [
        "def extract_yes_no_from_answer(answer):\n",
        "    \"\"\"\n",
        "    Extracts a yes/no prediction from the LLaVA answer.\n",
        "    Returns 'yes', 'no', or None if unclear.\n",
        "    \"\"\"\n",
        "    answer = answer.lower()\n",
        "    # Look for 'yes' or 'no' as a standalone word at the start or after punctuation\n",
        "    if re.match(r'^(yes)[\\\\W_]*', answer):\n",
        "        return 'yes'\n",
        "    if re.match(r'^(no)[\\\\W_]*', answer):\n",
        "        return 'no'\n",
        "    # Fallback: look for yes/no anywhere\n",
        "    if 'yes' in answer:\n",
        "        return 'yes'\n",
        "    if 'no' in answer:\n",
        "        return 'no'\n",
        "    return None"
      ],
      "metadata": {
        "id": "uFikaONWying"
      },
      "execution_count": null,
      "outputs": []
    },
    {
      "cell_type": "code",
      "source": [
        "def evaluate_results(results_path):\n",
        "    with open(results_path, 'r') as f:\n",
        "        results = json.load(f)\n",
        "    total = 0\n",
        "    correct = 0\n",
        "    for img_path, entry in results.items():\n",
        "        for q in entry['questions']:\n",
        "            label = q.get('label', '').strip().lower()\n",
        "            answer = q.get('llava_answer', '')\n",
        "            pred = extract_yes_no_from_answer(answer)\n",
        "            if label in ['yes', 'no'] and pred is not None:\n",
        "                total += 1\n",
        "                if pred == label:\n",
        "                    correct += 1\n",
        "    accuracy = correct / total if total > 0 else 0\n",
        "    print(f\"Accuracy: {accuracy:.3f} ({correct}/{total})\")\n",
        "    return accuracy\n"
      ],
      "metadata": {
        "id": "XHPYuGYtygMq"
      },
      "execution_count": null,
      "outputs": []
    },
    {
      "cell_type": "code",
      "source": [
        "import json, re"
      ],
      "metadata": {
        "id": "t6p0avQO5m7U"
      },
      "execution_count": 8,
      "outputs": []
    },
    {
      "cell_type": "code",
      "source": [
        "def extract_yes_no_from_answer(answer):\n",
        "    \"\"\"\n",
        "    Extracts a yes/no prediction from the LLaVA answer.\n",
        "    Returns 'yes', 'no', or None if unclear.\n",
        "    \"\"\"\n",
        "    answer = answer.lower()\n",
        "    # Look for 'yes' or 'no' as a standalone word at the start or after punctuation\n",
        "    if re.match(r'^(yes)[\\\\W_]*', answer):\n",
        "        return 'yes'\n",
        "    if re.match(r'^(no)[\\\\W_]*', answer):\n",
        "        return 'no'\n",
        "    # Fallback: look for yes/no anywhere\n",
        "    if 'yes' in answer:\n",
        "        return 'yes'\n",
        "    if 'no' in answer:\n",
        "        return 'no'\n",
        "    return None"
      ],
      "metadata": {
        "id": "nGG_7Jr953RM"
      },
      "execution_count": 6,
      "outputs": []
    },
    {
      "cell_type": "code",
      "source": [
        "def evaluate_results(results_path):\n",
        "    with open(results_path, 'r') as f:\n",
        "        results = json.load(f)\n",
        "\n",
        "    # Metrics counters\n",
        "    metrics = {\n",
        "        'total': 0,\n",
        "        'correct': 0,\n",
        "        'tp': 0,  # true positives (predicted yes, label yes)\n",
        "        'tn': 0,  # true negatives (predicted no, label no)\n",
        "        'fp': 0,  # false positives (predicted yes, label no)\n",
        "        'fn': 0,  # false negatives (predicted no, label yes)\n",
        "        'hallucinated': 0,\n",
        "        'hallucination_total': 0\n",
        "    }\n",
        "\n",
        "    # Stopwords for hallucination filtering\n",
        "    stopwords = {\n",
        "        'the','a','an','is','are','was','were','it','this','that','and','or','of','to','in','on','at','for','with','as','by','from','yes','no','not','but','if','then','so','because','about','into','over','after','before','between','during','without','within','through','above','below','up','down','out','off','again','further','once'\n",
        "    }\n",
        "\n",
        "    for img_path, entry in results.items():\n",
        "        detected_objects = set(obj.lower() for obj in entry.get('detected_objects', []))\n",
        "        for q in entry['questions']:\n",
        "            label = q.get('label', '').strip().lower()\n",
        "            answer = q.get('llava_answer', '')\n",
        "            pred = extract_yes_no_from_answer(answer)\n",
        "            # Classification metrics\n",
        "            if label in ['yes', 'no'] and pred is not None:\n",
        "                metrics['total'] += 1\n",
        "                if pred == label:\n",
        "                    metrics['correct'] += 1\n",
        "                if label == 'yes' and pred == 'yes':\n",
        "                    metrics['tp'] += 1\n",
        "                elif label == 'no' and pred == 'no':\n",
        "                    metrics['tn'] += 1\n",
        "                elif label == 'no' and pred == 'yes':\n",
        "                    metrics['fp'] += 1\n",
        "                elif label == 'yes' and pred == 'no':\n",
        "                    metrics['fn'] += 1\n",
        "            # Hallucination metrics\n",
        "            if 'detected_objects' in entry:\n",
        "                metrics['hallucination_total'] += 1\n",
        "                words = set(re.findall(r'\\b\\w+\\b', answer.lower()))\n",
        "                content_words = words - stopwords\n",
        "                if len(detected_objects) > 0 and any(w not in detected_objects for w in content_words):\n",
        "                    metrics['hallucinated'] += 1\n",
        "\n",
        "    # Calculate scores\n",
        "    accuracy = metrics['correct'] / metrics['total'] if metrics['total'] > 0 else 0\n",
        "    precision = metrics['tp'] / (metrics['tp'] + metrics['fp']) if (metrics['tp'] + metrics['fp']) > 0 else 0\n",
        "    recall = metrics['tp'] / (metrics['tp'] + metrics['fn']) if (metrics['tp'] + metrics['fn']) > 0 else 0\n",
        "    f1 = 2 * precision * recall / (precision + recall) if (precision + recall) > 0 else 0\n",
        "    hallucination_rate = metrics['hallucinated'] / metrics['hallucination_total'] if metrics['hallucination_total'] > 0 else 0\n",
        "    print(metrics)\n",
        "\n",
        "    # Print results\n",
        "    #print(f\"Accuracy: {accuracy:.3f} ({metrics['correct']}/{metrics['total']})\")\n",
        "    #print(f\"Precision: {precision:.3f}\")\n",
        "    #print(f\"Recall: {recall:.3f}\")\n",
        "    #print(f\"F1 Score: {f1:.3f}\")\n",
        "    #print(f\"Hallucination Rate: {hallucination_rate:.3f} ({metrics['hallucinated']}/{metrics['hallucination_total']})\")\n",
        "    return accuracy, precision, recall, f1, hallucination_rate"
      ],
      "metadata": {
        "id": "E2tEGcdv5kvF"
      },
      "execution_count": 13,
      "outputs": []
    },
    {
      "cell_type": "code",
      "source": [
        "yolo_acc, yolo_prec, yolo_rec, yolo_f1, yolo_hall = evaluate_results('/content/drive/MyDrive/UCLA/cs 263/final_proj/pope_yolo_llava_results.json')\n",
        "normal_acc, normal_prec, normal_rec, normal_f1, normal_hall = evaluate_results('/content/drive/MyDrive/UCLA/cs 263/final_proj/pope_normal_llava_results.json')\n",
        "\n",
        "print(f'YOLO-grounded accuracy: {yolo_acc:.3f}')\n",
        "print(f'YOLO-grounded precision: {yolo_prec:.3f}')\n",
        "print(f'YOLO-grounded recall: {yolo_rec:.3f}')\n",
        "print(f'YOLO-grounded F1: {yolo_f1:.3f}')\n",
        "print(f'YOLO-grounded hallucination rate: {yolo_hall:.3f}')\n",
        "\n",
        "print(f'Normal accuracy: {normal_acc:.3f}')\n",
        "print(f'Normal precision: {normal_prec:.3f}')\n",
        "print(f'Normal recall: {normal_rec:.3f}')\n",
        "print(f'Normal F1: {normal_f1:.3f}')\n",
        "print(f'Normal hallucination rate: {normal_hall:.3f}')"
      ],
      "metadata": {
        "colab": {
          "base_uri": "https://localhost:8080/"
        },
        "id": "y3vXo08a6HKt",
        "outputId": "a14afc4d-c048-42ff-d13f-21b640c95e67"
      },
      "execution_count": 14,
      "outputs": [
        {
          "output_type": "stream",
          "name": "stdout",
          "text": [
            "{'total': 2999, 'correct': 2655, 'tp': 1282, 'tn': 1373, 'fp': 128, 'fn': 216, 'hallucinated': 1182, 'hallucination_total': 2999}\n",
            "{'total': 2999, 'correct': 2460, 'tp': 1238, 'tn': 1222, 'fp': 279, 'fn': 260, 'hallucinated': 0, 'hallucination_total': 0}\n",
            "YOLO-grounded accuracy: 0.885\n",
            "YOLO-grounded precision: 0.909\n",
            "YOLO-grounded recall: 0.856\n",
            "YOLO-grounded F1: 0.882\n",
            "YOLO-grounded hallucination rate: 0.394\n",
            "Normal accuracy: 0.820\n",
            "Normal precision: 0.816\n",
            "Normal recall: 0.826\n",
            "Normal F1: 0.821\n",
            "Normal hallucination rate: 0.000\n"
          ]
        }
      ]
    },
    {
      "cell_type": "code",
      "source": [
        "yolo_acc = evaluate_results('/content/drive/MyDrive/UCLA/cs 263/final_proj/pope_yolo_llava_results.json')\n",
        "normal_acc = evaluate_results('/content/drive/MyDrive/UCLA/cs 263/final_proj/pope_normal_llava_results.json')\n",
        "print(f'YOLO-grounded accuracy: {yolo_acc:.3f}')\n",
        "print(f'Normal accuracy: {normal_acc:.3f}')"
      ],
      "metadata": {
        "colab": {
          "base_uri": "https://localhost:8080/",
          "height": 367
        },
        "id": "dmoLgtmIykl4",
        "outputId": "99adad62-1a21-4f78-a78d-7e3a815672bc"
      },
      "execution_count": 9,
      "outputs": [
        {
          "output_type": "stream",
          "name": "stdout",
          "text": [
            "Accuracy: 0.885 (2655/2999)\n",
            "Precision: 0.909\n",
            "Recall: 0.856\n",
            "F1 Score: 0.882\n",
            "Hallucination Rate: 0.394 (1182/2999)\n",
            "Accuracy: 0.820 (2460/2999)\n",
            "Precision: 0.816\n",
            "Recall: 0.826\n",
            "F1 Score: 0.821\n",
            "Hallucination Rate: 0.000 (0/0)\n"
          ]
        },
        {
          "output_type": "error",
          "ename": "TypeError",
          "evalue": "unsupported format string passed to tuple.__format__",
          "traceback": [
            "\u001b[0;31m---------------------------------------------------------------------------\u001b[0m",
            "\u001b[0;31mTypeError\u001b[0m                                 Traceback (most recent call last)",
            "\u001b[0;32m<ipython-input-9-94fdad364060>\u001b[0m in \u001b[0;36m<cell line: 0>\u001b[0;34m()\u001b[0m\n\u001b[1;32m      1\u001b[0m \u001b[0myolo_acc\u001b[0m \u001b[0;34m=\u001b[0m \u001b[0mevaluate_results\u001b[0m\u001b[0;34m(\u001b[0m\u001b[0;34m'/content/drive/MyDrive/UCLA/cs 263/final_proj/pope_yolo_llava_results.json'\u001b[0m\u001b[0;34m)\u001b[0m\u001b[0;34m\u001b[0m\u001b[0;34m\u001b[0m\u001b[0m\n\u001b[1;32m      2\u001b[0m \u001b[0mnormal_acc\u001b[0m \u001b[0;34m=\u001b[0m \u001b[0mevaluate_results\u001b[0m\u001b[0;34m(\u001b[0m\u001b[0;34m'/content/drive/MyDrive/UCLA/cs 263/final_proj/pope_normal_llava_results.json'\u001b[0m\u001b[0;34m)\u001b[0m\u001b[0;34m\u001b[0m\u001b[0;34m\u001b[0m\u001b[0m\n\u001b[0;32m----> 3\u001b[0;31m \u001b[0mprint\u001b[0m\u001b[0;34m(\u001b[0m\u001b[0;34mf'YOLO-grounded accuracy: {yolo_acc:.3f}'\u001b[0m\u001b[0;34m)\u001b[0m\u001b[0;34m\u001b[0m\u001b[0;34m\u001b[0m\u001b[0m\n\u001b[0m\u001b[1;32m      4\u001b[0m \u001b[0mprint\u001b[0m\u001b[0;34m(\u001b[0m\u001b[0;34mf'Normal accuracy: {normal_acc:.3f}'\u001b[0m\u001b[0;34m)\u001b[0m\u001b[0;34m\u001b[0m\u001b[0;34m\u001b[0m\u001b[0m\n",
            "\u001b[0;31mTypeError\u001b[0m: unsupported format string passed to tuple.__format__"
          ]
        }
      ]
    },
    {
      "cell_type": "code",
      "source": [],
      "metadata": {
        "id": "Ke7JMMJ7yo8-"
      },
      "execution_count": null,
      "outputs": []
    }
  ]
}